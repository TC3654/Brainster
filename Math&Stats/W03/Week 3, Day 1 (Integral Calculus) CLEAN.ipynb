{
 "cells": [
  {
   "cell_type": "markdown",
   "id": "informal-horse",
   "metadata": {
    "id": "4GbWgJo0PAhQ"
   },
   "source": [
    "# Week 3: Calculus (cont'd)"
   ]
  },
  {
   "cell_type": "code",
   "execution_count": 1,
   "id": "danish-layout",
   "metadata": {
    "colab": {
     "base_uri": "https://localhost:8080/"
    },
    "id": "NUsxW-y-PLC_",
    "outputId": "0d121100-e79a-498b-8234-f75b488d2b44"
   },
   "outputs": [],
   "source": [
    "# Load libraries\r\n",
    "import numpy as np\r\n",
    "import sympy as sp\r\n",
    "import matplotlib.pyplot as plt\r\n",
    "import seaborn as sns"
   ]
  },
  {
   "cell_type": "markdown",
   "id": "professional-poultry",
   "metadata": {
    "id": "GabvVGv6PjJi"
   },
   "source": [
    "## Day 1: Integral Calculus\r\n",
    "* In calculus, integrals are the opposite of derivatives: they \"reverse\" the effects of differentiation. In this context we speak about **indefinite integrals**\r\n",
    "* Additionally, integrals can be used to calculate the area of a figure bound by graphs of functions. In context of this problem (finding the **Area Under a Curve**) we spreak about **definite integrals**\r\n",
    "* The outcome of an indefinite integral is a function; the outcome of a definite integral is a number"
   ]
  },
  {
   "cell_type": "markdown",
   "id": "fancy-framing",
   "metadata": {
    "id": "O93hy1xQQiav"
   },
   "source": [
    "## Indefinite integrals\r\n",
    "* First we talk about indefinite integrals. Since these integrals undo differentiations, sometimes they are called **antiderivatives**\r\n",
    "* For example: we figure out that, if the derivative is $2x$, then the *original* function is $x^2$. The original function is not as obvious in general.\r\n",
    "* Indefinite integrals are important for us since they enable us to solve definite integrals; the definite integrals are fundamental in probability theory.\r\n",
    "* If $f(x)$ is a given function, then its indefinite integral (antiderivative) is labeled by $F(x)$. The relation between $F$ and $f$ is:\r\n",
    "\\begin{equation}\r\n",
    "F'(x) = f(x),\r\n",
    "\\end{equation}\r\n",
    "but we usually write this relation as:\r\n",
    "\\begin{equation}\r\n",
    "\\int f(x)\\, dx = F(x) + C\r\n",
    "\\end{equation}\r\n",
    "where $C$ is some constant called *integration constant* (at the moment, not relevant for us). For the time being, ignore the $dx$ term in the integral.\r\n",
    "\r\n",
    "### Example 1\r\n",
    "* Let $f(x) = x^2$. Find the indefinite integral of $f(x)$"
   ]
  },
  {
   "cell_type": "code",
   "execution_count": 2,
   "id": "thick-italian",
   "metadata": {},
   "outputs": [
    {
     "data": {
      "text/latex": [
       "$\\displaystyle \\frac{x^{3}}{3}$"
      ],
      "text/plain": [
       "x**3/3"
      ]
     },
     "execution_count": 2,
     "metadata": {},
     "output_type": "execute_result"
    }
   ],
   "source": [
    "x = sp.Symbol('x', real=True)\n",
    "f = sp.Function(\"f\", real=True)\n",
    "\n",
    "f = x**2\n",
    "\n",
    "# integrate using sympy.integrate(function, variable)\n",
    "sp.integrate(f, x)"
   ]
  },
  {
   "cell_type": "markdown",
   "id": "talented-patch",
   "metadata": {
    "id": "D1YlhP1762rh"
   },
   "source": [
    "### Example 2\r\n",
    "* Let $g(x) = \\sqrt{x}$. Find the indefinite integral $\\int g(x)\\, dx$"
   ]
  },
  {
   "cell_type": "code",
   "execution_count": 3,
   "id": "faa95b30-19e3-457d-8de5-dda0a4465e1f",
   "metadata": {},
   "outputs": [],
   "source": [
    "g = sp.Function(\"g\", real=True)\n",
    "\n",
    "g = sp.sqrt(x)\n",
    "\n",
    "G = sp.integrate(g, x)"
   ]
  },
  {
   "cell_type": "code",
   "execution_count": 4,
   "id": "00da65c9-d79c-48aa-b167-91e727b6ef90",
   "metadata": {},
   "outputs": [
    {
     "data": {
      "text/latex": [
       "$\\displaystyle \\sqrt{x}$"
      ],
      "text/plain": [
       "sqrt(x)"
      ]
     },
     "execution_count": 4,
     "metadata": {},
     "output_type": "execute_result"
    }
   ],
   "source": [
    "G.diff()"
   ]
  },
  {
   "cell_type": "markdown",
   "id": "grand-rating",
   "metadata": {
    "id": "0vM5WZrB7wwV"
   },
   "source": [
    "### Example 3\r\n",
    "* Calculate:\r\n",
    "\\begin{equation}\r\n",
    "\\int \\left( \\ln x - e^x + x^2\\sin x \\right) \\, dx\r\n",
    "\\end{equation}"
   ]
  },
  {
   "cell_type": "code",
   "execution_count": 5,
   "id": "b26106a4-f162-4b53-a1b1-d58830c4e94b",
   "metadata": {},
   "outputs": [
    {
     "data": {
      "text/latex": [
       "$\\displaystyle - x^{2} \\cos{\\left(x \\right)} + x \\log{\\left(x \\right)} + 2 x \\sin{\\left(x \\right)} - x - e^{x} + 2 \\cos{\\left(x \\right)}$"
      ],
      "text/plain": [
       "-x**2*cos(x) + x*log(x) + 2*x*sin(x) - x - exp(x) + 2*cos(x)"
      ]
     },
     "execution_count": 5,
     "metadata": {},
     "output_type": "execute_result"
    }
   ],
   "source": [
    "sp.integrate(sp.log(x) - sp.exp(x) + x**2 * sp.sin(x), x)"
   ]
  },
  {
   "cell_type": "code",
   "execution_count": 6,
   "id": "3f3be0d7-a018-43cf-b11e-41e923970844",
   "metadata": {},
   "outputs": [
    {
     "data": {
      "text/latex": [
       "$\\displaystyle x^{2} \\sin{\\left(x \\right)} - e^{x} + \\log{\\left(x \\right)}$"
      ],
      "text/plain": [
       "x**2*sin(x) - exp(x) + log(x)"
      ]
     },
     "execution_count": 6,
     "metadata": {},
     "output_type": "execute_result"
    }
   ],
   "source": [
    "(sp.integrate(sp.log(x) - sp.exp(x) + x**2 * sp.sin(x), x)).diff()"
   ]
  },
  {
   "cell_type": "markdown",
   "id": "capable-desperate",
   "metadata": {
    "id": "Vuhptf_VuPE9"
   },
   "source": [
    "### Example 4: Not all integrals exist\r\n",
    "* Try calculating:\r\n",
    "\\begin{equation}\r\n",
    "\\int \\sin\\left(\\cos x \\right) \\, dx\r\n",
    "\\end{equation}\r\n",
    "* In short: there s not function $F(x)$ such that $F'(x) = \\sin\\left(\\cos x \\right)$"
   ]
  },
  {
   "cell_type": "code",
   "execution_count": 7,
   "id": "personalized-friendly",
   "metadata": {},
   "outputs": [
    {
     "data": {
      "text/latex": [
       "$\\displaystyle \\int \\sin{\\left(\\cos{\\left(x \\right)} \\right)}\\, dx$"
      ],
      "text/plain": [
       "Integral(sin(cos(x)), x)"
      ]
     },
     "execution_count": 7,
     "metadata": {},
     "output_type": "execute_result"
    }
   ],
   "source": [
    "sp.integrate(sp.sin(sp.cos(x)), x)"
   ]
  },
  {
   "cell_type": "markdown",
   "id": "rocky-finance",
   "metadata": {
    "id": "lSxtU3wXvUS7"
   },
   "source": [
    "## Definite integrals\r\n",
    "* Definite integrals can be thought of as **area under a curve (AUC)** over a certain interval, provided the function is not negative.\r\n",
    "* In this sense, the definite integrals describe **accumulation**\r\n",
    "* The exact area under the graph of a function $f$ over an interval $[a, b]$ is denoted by the definite integral:\r\n",
    "\\begin{equation} \\int_a^b f(x)\\, dx  \\end{equation}\r\n",
    "* Let's see how definite integrals are defined through an example: calculate the area under the graph of the function $f(x) = \\frac{1}{1 + x^2}$ over the interval $[-1, 3]$\r\n"
   ]
  },
  {
   "cell_type": "code",
   "execution_count": 8,
   "id": "studied-hacker",
   "metadata": {},
   "outputs": [
    {
     "data": {
      "image/png": "[encoded data removed]",
      "text/plain": [
       "<Figure size 720x360 with 1 Axes>"
      ]
     },
     "metadata": {
      "needs_background": "light"
     },
     "output_type": "display_data"
    }
   ],
   "source": [
    "f = 1/(1+x**2)\n",
    "F = sp.integrate(f, x)\n",
    "\n",
    "f = sp.lambdify(x, f)\n",
    "F = sp.lambdify(x, F)\n",
    "\n",
    "\n",
    "\n",
    "xs = np.linspace(-5, 5, 1000)\n",
    "ys = f(xs)\n",
    "\n",
    "plt.figure(figsize=(10, 5))\n",
    "plt.plot(xs,ys)\n",
    "\n",
    "Xs = np.linspace(-1,3, 100)\n",
    "Ys = f(Xs)\n",
    "plt.fill_between(Xs,Ys, alpha=0.2)\n",
    "\n",
    "plt.xticks([-5, -4, -3, -2, -1, 0, 1, 2, 3, 4, 5]);\n",
    "\n",
    "plt.show()"
   ]
  },
  {
   "cell_type": "code",
   "execution_count": 9,
   "id": "cardiac-legend",
   "metadata": {},
   "outputs": [
    {
     "data": {
      "image/png": "[encoded data removed]",
      "text/plain": [
       "<Figure size 1080x360 with 3 Axes>"
      ]
     },
     "metadata": {
      "needs_background": "light"
     },
     "output_type": "display_data"
    }
   ],
   "source": [
    "a = -1\n",
    "b = 3\n",
    "N = 10 # Number of subintervals to use\n",
    "n = 10 # Use n*N+1 points to plot the function smoothly\n",
    "\n",
    "x = np.linspace(a, b, N+1)\n",
    "y = f(x)\n",
    "\n",
    "X = np.linspace(a, b, n*N+1)\n",
    "Y = f(X)\n",
    "\n",
    "plt.figure(figsize=(15, 5))\n",
    "\n",
    "plt.subplot(1, 3, 1)\n",
    "plt.plot(X, Y, 'b') # The function plot\n",
    "x_left = x[:-1] # Left endpoints\n",
    "y_left = y[:-1]\n",
    "plt.plot(x_left, y_left,'b.', markersize=10)\n",
    "plt.bar(x_left, y_left, width=(b-a)/N, alpha=0.2, align='edge', edgecolor='b')\n",
    "plt.title(f'Left Riemann Sum, N = {N}')\n",
    "\n",
    "plt.subplot(1, 3, 2)\n",
    "plt.plot(X, Y,'b')\n",
    "x_mid = (x[:-1] + x[1:])/2 # Midpoints\n",
    "y_mid = f(x_mid)\n",
    "plt.plot(x_mid, y_mid, 'b.', markersize=10)\n",
    "plt.bar(x_mid, y_mid, width=(b-a)/N, alpha=0.2, edgecolor='b')\n",
    "plt.title(f'Midpoint Riemann Sum, N = {N}')\n",
    "\n",
    "plt.subplot(1,3,3)\n",
    "plt.plot(X,Y,'b')\n",
    "x_right = x[1:] # Left endpoints\n",
    "y_right = y[1:]\n",
    "plt.plot(x_right, y_right, 'b.', markersize=10)\n",
    "plt.bar(x_right, y_right, width=-(b-a)/N, alpha=0.2, align='edge', edgecolor='b')\n",
    "plt.title(f'Right Riemann Sum, N = {N}')\n",
    "\n",
    "plt.show()"
   ]
  },
  {
   "cell_type": "markdown",
   "id": "compatible-tsunami",
   "metadata": {
    "id": "QNusuQUE4uA1"
   },
   "source": [
    "### Example 5: Approximation using midpoints\r\n",
    "* Approximate the area under the graph of $f(x)$ over the interval $[-1, 3]$ using the midpoints"
   ]
  },
  {
   "cell_type": "code",
   "execution_count": 10,
   "id": "orange-charlotte",
   "metadata": {},
   "outputs": [
    {
     "name": "stdout",
     "output_type": "stream",
     "text": [
      "Midpoint Riemann Sum 2.038174493665297\n"
     ]
    }
   ],
   "source": [
    "# Approximate the integral using the mid-point sum with N subintervals\n",
    "a = -1\n",
    "b = 3\n",
    "N = 10 # Number of subintervals to use\n",
    "\n",
    "xs = np.linspace(-1, 3, N+1)\n",
    "midpt_sum = 0\n",
    "\n",
    "for i in range(N):\n",
    "    width = xs[i+1] - xs[i]\n",
    "    mid_pt = (xs[i+1] + xs[i]) / 2\n",
    "    height = f(mid_pt)\n",
    "    midpt_sum += width*height\n",
    "    \n",
    "print(\"Midpoint Riemann Sum\", midpt_sum)"
   ]
  },
  {
   "cell_type": "markdown",
   "id": "hybrid-mention",
   "metadata": {
    "id": "xwqYXUlucxVr"
   },
   "source": [
    "* Write a function that will take as inputs: a function $f$, the endpoints $a$ and $b$ of the interval $[a, b]$, and the number of subintervals $N$ in the division. The function should return the approximate area under the graph of $f(x)$ over the interval $[a, b]$."
   ]
  },
  {
   "cell_type": "code",
   "execution_count": 11,
   "id": "infinite-istanbul",
   "metadata": {},
   "outputs": [
    {
     "data": {
      "text/plain": [
       "2.038174493665297"
      ]
     },
     "execution_count": 11,
     "metadata": {},
     "output_type": "execute_result"
    }
   ],
   "source": [
    "def approx_AUC(func, a, b, N):\n",
    "    \n",
    "    xs = np.linspace(a, b, N+1)\n",
    "    midpt_sum = 0\n",
    "\n",
    "    for i in range(N):\n",
    "        width = xs[i+1] - xs[i]\n",
    "        mid_pt = (xs[i+1] + xs[i]) / 2\n",
    "        height = func(mid_pt)\n",
    "        midpt_sum += width*height\n",
    "\n",
    "    return midpt_sum\n",
    "\n",
    "approx_AUC(f, -1, 3, 10)"
   ]
  },
  {
   "cell_type": "markdown",
   "id": "efficient-vacuum",
   "metadata": {
    "id": "WQNXig5951sP"
   },
   "source": [
    "## The Fundametal Theorem of Calculus\r\n",
    "* This theorem gives a complete relation between derivatives and integrals and allows for an exact calculation of definite integrals, and hence of area under a curve.\r\n",
    "* Let $f(x)$ be a function defined and \"well-behaved\" over an interval $[a, b]$, and let $F(x)$ be any of its antiderivatives. Then:\r\n",
    "\\begin{equation}\r\n",
    "\\int_a^b f(x) \\, dx = F(b) - F(a)\r\n",
    "\\end{equation}\r\n",
    "* To obtain an expression of $F(x)$, we just solve:\r\n",
    "\\begin{equation}\r\n",
    "F(x) = \\int f(x) \\, dx\r\n",
    "\\end{equation}\r\n",
    "\r\n",
    "### Example 6: caclulating the exact area\r\n",
    "* Find the exact area under the graph of $f(x) = \\frac{1}{1+x^2}$ over $[-1, 3]$"
   ]
  },
  {
   "cell_type": "code",
   "execution_count": 23,
   "id": "historic-acrobat",
   "metadata": {},
   "outputs": [
    {
     "name": "stdout",
     "output_type": "stream",
     "text": [
      "2.03444393579570\n"
     ]
    },
    {
     "data": {
      "text/plain": [
       "2.03444542912875"
      ]
     },
     "execution_count": 23,
     "metadata": {},
     "output_type": "execute_result"
    }
   ],
   "source": [
    "x = sp.Symbol(\"x\")\n",
    "f = 1/(1+x**2)\n",
    "\n",
    "F = sp.integrate(f, x)\n",
    "\n",
    "print(sp.N(F.subs(x, 3) - F.subs(x, -1)))\n",
    "approx_AUC(sp.lambdify(x, f), -1, 3, 500)"
   ]
  },
  {
   "cell_type": "markdown",
   "id": "exact-opening",
   "metadata": {
    "id": "8A-kHBVW_62M"
   },
   "source": [
    "### Example 7\r\n",
    "* Calculate the area under the graph of $g(x) = 4-x^2$ over the interval $[-2, 2]$"
   ]
  },
  {
   "cell_type": "code",
   "execution_count": 26,
   "id": "communist-branch",
   "metadata": {},
   "outputs": [
    {
     "name": "stdout",
     "output_type": "stream",
     "text": [
      "10.6666666666667\n"
     ]
    },
    {
     "data": {
      "text/plain": [
       "10.666688000000004"
      ]
     },
     "execution_count": 26,
     "metadata": {},
     "output_type": "execute_result"
    }
   ],
   "source": [
    "g = 4 - x**2\n",
    "\n",
    "G = sp.integrate(g, x)\n",
    "\n",
    "print(sp.N(G.subs(x, 2) - G.subs(x, -2))) # 32/3\n",
    "approx_AUC(sp.lambdify(x, g), -2, 2, 500)"
   ]
  },
  {
   "cell_type": "markdown",
   "id": "departmental-australian",
   "metadata": {
    "id": "9DFVlp-sAuBC"
   },
   "source": [
    "### Example 8: use sympy.integrate(f, (x, a, b))\r\n",
    "* SymPy has in integrated command that calculates the definite inegral of a function over an integral, if possible. If it cannot find an antiderivative, then we can approximate the integral with a high degree of accuracy.\r\n",
    "\r\n",
    "Calculate:\r\n",
    "* $\\int_0^{\\pi} \\sin x \\, dx$\r\n",
    "* $\\int_1^4 \\ln x \\, dx$\r\n",
    "* $\\int_{-10}^{10} e ^{-x^2} \\, dx$\r\n",
    "* $\\int_{-\\pi/4}^{\\pi/2} \\sin \\left( \\cos x \\right) \\, dx$"
   ]
  },
  {
   "cell_type": "code",
   "execution_count": 45,
   "id": "affiliated-vampire",
   "metadata": {},
   "outputs": [
    {
     "name": "stdout",
     "output_type": "stream",
     "text": [
      "2\n",
      "2.54517744447956\n",
      "1.50627665614154\n"
     ]
    }
   ],
   "source": [
    "x = sp.Symbol(\"x\")\n",
    "print(sp.integrate(sp.sin(x), (x, 0, sp.pi)))\n",
    "print(sp.integrate(sp.log(x), (x, 1, 4)).n())\n",
    "print(sp.integrate(sp.sin(sp.cos(x)), (x, -sp.pi/4, sp.pi/2)).evalf())"
   ]
  },
  {
   "cell_type": "markdown",
   "id": "directed-feeling",
   "metadata": {
    "id": "LjlZ1H2hD2oS"
   },
   "source": [
    "## Definite integrals as net change\r\n",
    "* If the rate of change of a certain process is known (i.e. described by a function), then we can calculate the net change as an integral of the rate.\r\n",
    "* Examples of rates of changes:\r\n",
    "  * Water flowing into/out of a tank\r\n",
    "  * Velocity (rate of change of position)\r\n",
    "  * Variable force doing some work\r\n",
    "* Frequently these are functions of time $t$\r\n"
   ]
  },
  {
   "cell_type": "markdown",
   "id": "pretty-sudan",
   "metadata": {
    "id": "tkQRHRWpEfVo"
   },
   "source": [
    "### Example 9. Water flowing out of a tank\r\n",
    "Water leaks from a tank at a rate of $L(t) =2 + 5t$ liters/hour, where $t$ is the number of hours after 7:00.\r\n",
    "* How much water is lost between 9:00 and 11:00?\r\n",
    "* If the tank had 500 liters or water at 7:00, how much water is left in the tank at noon?\r\n",
    "* If the tank had 500 liters or water at 7:00, at what time will all the water drain?\r\n"
   ]
  },
  {
   "cell_type": "code",
   "execution_count": 56,
   "id": "golden-shell",
   "metadata": {},
   "outputs": [
    {
     "name": "stdout",
     "output_type": "stream",
     "text": [
      "34\n",
      "427.500000000000\n",
      "427.500000000000\n",
      "427.500000000000\n",
      "[-14.5477913470619, 13.7477913470619]\n",
      "13.7477913470619\n"
     ]
    },
    {
     "data": {
      "image/png": "[encoded data removed]",
      "text/plain": [
       "<Figure size 432x288 with 1 Axes>"
      ]
     },
     "metadata": {
      "needs_background": "light"
     },
     "output_type": "display_data"
    },
    {
     "data": {
      "text/plain": [
       "<sympy.plotting.plot.Plot at 0x1cc30ed1490>"
      ]
     },
     "execution_count": 56,
     "metadata": {},
     "output_type": "execute_result"
    }
   ],
   "source": [
    "t = sp.Symbol(\"t\")\n",
    "L = sp.Function('L')\n",
    "\n",
    "L = 2 + 5*t\n",
    "\n",
    "print(sp.integrate(L, (t, 2, 4)))\n",
    "\n",
    "print(sp.N(500 - sp.integrate(L, (t, 0, 5))))\n",
    "print((500 - sp.integrate(L, (t, 0, 5))).n())\n",
    "print((500 - sp.integrate(L, (t, 0, 5))).evalf())\n",
    "\n",
    "# Function W - amount of water after time T\n",
    "T = sp.Symbol(\"T\")\n",
    "\n",
    "W = 500 - sp.integrate(L, (t, 0, t))\n",
    "\n",
    "sol = sp.solve(sp.Eq(W, 0).n())\n",
    "print(sol)\n",
    "print(sol[1]) # this is the solution\n",
    "\n",
    "# at what time = 7 + sol[1]\n",
    "\n",
    "sp.plot(W, (t, 0, 14))"
   ]
  },
  {
   "cell_type": "markdown",
   "id": "several-stevens",
   "metadata": {
    "id": "fy_6UcqjJuOl"
   },
   "source": [
    "### Practice example\r\n",
    "The rate at which rainwater flows into a drainpipe is modeled by the function $R(t) = 20 \\sin⁡ \\left(\\frac{t^2}{35}\\right)$ cubic feet per hour, $t$ is measured in hours, and $0 \\leqslant t \\leqslant 8$.\r\n",
    "\r\n",
    "The pipe is partially blocked, allowing water to drain out the other end of the pipe at a rate modeled by $D(t) = −0.04t^3 + 0.4t^2 + 0.96t$ cubic feet per hour, for $0 \\leqslant t \\leqslant 8$.\r\n",
    "\r\n",
    "There are 30 cubic feet of water in the pipe at time $t=0$.\r\n",
    "\r\n",
    "* How much water flows into the pipe between the second and fourth hours?\r\n",
    "* How much water drains out of the pipe during the first half of the period?\r\n",
    "* If the drainpipe can hold maximum of 100 cubic feet of water, will it overflow at the end of the 8-th hour?\r\n"
   ]
  },
  {
   "cell_type": "code",
   "execution_count": null,
   "id": "coastal-checklist",
   "metadata": {},
   "outputs": [],
   "source": []
  }
 ],
 "metadata": {
  "kernelspec": {
   "display_name": "Python 3",
   "language": "python",
   "name": "python3"
  },
  "language_info": {
   "codemirror_mode": {
    "name": "ipython",
    "version": 3
   },
   "file_extension": ".py",
   "mimetype": "text/x-python",
   "name": "python",
   "nbconvert_exporter": "python",
   "pygments_lexer": "ipython3",
   "version": "3.8.8"
  }
 },
 "nbformat": 4,
 "nbformat_minor": 5
}
