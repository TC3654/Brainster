{
 "cells": [
  {
   "cell_type": "markdown",
   "id": "vital-disclaimer",
   "metadata": {},
   "source": [
    "# Week 3: Calculus (cont'd)"
   ]
  },
  {
   "cell_type": "code",
   "execution_count": 1,
   "id": "heard-generation",
   "metadata": {},
   "outputs": [],
   "source": [
    "# Load libraries\n",
    "import numpy as np\n",
    "import sympy as sp\n",
    "import matplotlib.pyplot as plt\n",
    "import seaborn as sns"
   ]
  },
  {
   "cell_type": "markdown",
   "id": "strategic-boost",
   "metadata": {},
   "source": [
    "## Day 2: Differentiation of Multivariable Functions\n",
    "* So far we worked with functions of a single variable\n",
    "* In practice, it is much more common to work with functions that have more than one input\n",
    "* We call these functions multivariable functions\n",
    "\n",
    "### Example 1: a function of two variables\n",
    "* Let $x$ and $y$ are two variables which are inputs of the function $f$. We call $x$ and $y$ **independent variables**, and we denote $z = f(x, y)$. We call $z$ a **dependent variable**\n",
    "* Let define the function $f(x, y) = x^2 + y^2$"
   ]
  },
  {
   "cell_type": "code",
   "execution_count": 2,
   "id": "material-liechtenstein",
   "metadata": {},
   "outputs": [
    {
     "data": {
      "text/latex": [
       "$\\displaystyle x^{2} + y^{2}$"
      ],
      "text/plain": [
       "x**2 + y**2"
      ]
     },
     "execution_count": 2,
     "metadata": {},
     "output_type": "execute_result"
    }
   ],
   "source": [
    "# Define variables and the function\n",
    "x, y = sp.symbols('x y', real=True)\n",
    "f = sp.Function('f', real=True)\n",
    "\n",
    "f = x**2 + y**2\n",
    "\n",
    "f"
   ]
  },
  {
   "cell_type": "markdown",
   "id": "earned-magnet",
   "metadata": {},
   "source": [
    "### Example 2\n",
    "* Define the function:\n",
    "\\begin{equation} g(t_1, t_2, t_3) = \\frac{1}{t_1} + \\ln t_2 - e^{-t_3^2} \\end{equation}"
   ]
  },
  {
   "cell_type": "code",
   "execution_count": 3,
   "id": "conceptual-corruption",
   "metadata": {},
   "outputs": [
    {
     "data": {
      "text/latex": [
       "$\\displaystyle \\log{\\left(t_{2} \\right)} - e^{- t_{3}^{2}} + \\frac{1}{t_{1}}$"
      ],
      "text/plain": [
       "log(t2) - exp(-t3**2) + 1/t1"
      ]
     },
     "execution_count": 3,
     "metadata": {},
     "output_type": "execute_result"
    }
   ],
   "source": [
    "t1, t2, t3 = sp.symbols('t1 t2 t3', real=True)\n",
    "g = sp.Function('g', real = True)\n",
    "\n",
    "g = 1/t1 + sp.ln(t2) - sp.exp(-t3**2)\n",
    "\n",
    "g"
   ]
  },
  {
   "cell_type": "markdown",
   "id": "resident-first",
   "metadata": {},
   "source": [
    "### Differentiation of multivariable functions\n",
    "* With multivariable functions there is no single derivative like in the case of a single variable functions\n",
    "* Instead, there is a **partial derivative** for each and every one of the independent variables\n",
    "* For example, if the function is $f(x, y)$, which has two independent variables, then we have two partial derivatives\n",
    "    * Partial derivative with respect to $x$, labeled as $f_x$ or $\\frac{\\partial f}{\\partial x}$\n",
    "    * Partial derivative with respect to $y$, labeled as $f_y$ or $\\frac{\\partial f}{\\partial y}$\n",
    "\n",
    "### Example 1a\n",
    "* Calculate the partial derivatives of $f(x, y)$ defined in **Example 1**"
   ]
  },
  {
   "cell_type": "code",
   "execution_count": 4,
   "id": "greatest-leisure",
   "metadata": {},
   "outputs": [
    {
     "name": "stdout",
     "output_type": "stream",
     "text": [
      "2*x\n",
      "2*y\n"
     ]
    }
   ],
   "source": [
    "# Differentiate with sympy.diff()\n",
    "f_x = f.diff(x)\n",
    "f_y = f.diff(y)\n",
    "\n",
    "print(f_x)\n",
    "\n",
    "print(f_y)"
   ]
  },
  {
   "cell_type": "markdown",
   "id": "useful-writer",
   "metadata": {},
   "source": [
    "### Example 2a\n",
    "* Calculate the partial derivatives of $g(t_1, t_2, t_3)$ defined in **Example 2**"
   ]
  },
  {
   "cell_type": "code",
   "execution_count": 5,
   "id": "three-congress",
   "metadata": {},
   "outputs": [
    {
     "name": "stdout",
     "output_type": "stream",
     "text": [
      "-1/t1**2\n",
      "1/t2\n",
      "2*t3*exp(-t3**2)\n"
     ]
    }
   ],
   "source": [
    "# Differentiate with sympy.diff()\n",
    "g_t1 = g.diff(t1)\n",
    "g_t2 = g.diff(t2)\n",
    "g_t3 = g.diff(t3)\n",
    "\n",
    "print(g_t1)\n",
    "\n",
    "print(g_t2)\n",
    "\n",
    "print(g_t3)"
   ]
  },
  {
   "cell_type": "markdown",
   "id": "seven-webmaster",
   "metadata": {},
   "source": [
    "### Example 3\n",
    "* Calculate the partial derivatives $h_x$ and $h_y$ of\n",
    "\\begin{equation}\n",
    "h(x, y) = \\sqrt{x^2 + y^2}\n",
    "\\end{equation}\n",
    "* Then evaluate $h_x (-1, 1)$ and $h_y (0, -1)$"
   ]
  },
  {
   "cell_type": "code",
   "execution_count": 6,
   "id": "empirical-jerusalem",
   "metadata": {},
   "outputs": [
    {
     "name": "stdout",
     "output_type": "stream",
     "text": [
      "x/sqrt(x**2 + y**2)\n",
      "y/sqrt(x**2 + y**2)\n",
      "h_x(-1, 1) =  -sqrt(2)/2\n",
      "h_y(1, 1) =  -1\n"
     ]
    }
   ],
   "source": [
    "# Define the function\n",
    "h = sp.Function('h', real=True)\n",
    "h = sp.sqrt(x**2 + y**2)\n",
    "\n",
    "h_x = h.diff(x)\n",
    "print(h_x)\n",
    "\n",
    "h_y = h.diff(y)\n",
    "print(h_y)\n",
    "\n",
    "#Evaluating h_x(-1, 1)\n",
    "print('h_x(-1, 1) = ', h_x.subs({x:-1, y:1}))\n",
    "\n",
    "# Evaluating h_y(1, 0)\n",
    "print('h_y(1, 1) = ', h_y.subs({x:0, y:-1}))"
   ]
  },
  {
   "cell_type": "markdown",
   "id": "adolescent-panel",
   "metadata": {},
   "source": [
    "### The Gradient of a function\n",
    "* Let $f$ be a multivariable function. The **gradient** of $f$, labeled $\\nabla f$ is a vector whose components are the partial derivatives of the function. The gradient has as many components as the function has variables\n",
    "* For example: if $f(x, y)$ is a function, then its gradient is given by:\n",
    "\\begin{equation}\n",
    "\\nabla f(x, y) = \\left( f_x, f_y \\right)\n",
    "\\end{equation}\n",
    "If $g(x, y, z, w)$ is a function, then its gradient is given by:\n",
    "\\begin{equation}\n",
    "\\nabla g(x, y, z, w) = \\left( g_x, g_y, g_z, g_w \\right)\n",
    "\\end{equation}\n",
    "* For us the gradient will play a crucial role in extending the *Gradient Descent Method* to multivariable functions\n",
    "\n",
    "### Example 4\n",
    "* Find the gradient $\\nabla f(x, y)$ of the function $f(x, y) = e^x \\cos y$. Then evaluate $\\nabla f(2, 0)$"
   ]
  },
  {
   "cell_type": "code",
   "execution_count": 7,
   "id": "excellent-occurrence",
   "metadata": {},
   "outputs": [
    {
     "name": "stdout",
     "output_type": "stream",
     "text": [
      "[exp(x)*cos(y), -exp(x)*sin(y)]\n",
      "[7.38905609893065, 0]\n"
     ]
    }
   ],
   "source": [
    "# Define the function\n",
    "f = sp.exp(x)*sp.cos(y)\n",
    "\n",
    "# Get derivatives, form gradient\n",
    "f_x = f.diff(x)\n",
    "f_y = f.diff(y)\n",
    "\n",
    "grad_f = [f_x, f_y]\n",
    "print(grad_f)\n",
    "\n",
    "\n",
    "# Evaluate the gradient\n",
    "dict_val = {x:2, y:0}\n",
    "grad_f_eval = [f_x.subs(dict_val).evalf(), f_y.subs(dict_val).evalf()]\n",
    "print(grad_f_eval)"
   ]
  },
  {
   "cell_type": "markdown",
   "id": "continuous-bride",
   "metadata": {},
   "source": [
    "### Example 5\n",
    "* Find the gradient $\\nabla g(x, y, z)$ of the function $g(x, y, z) = e^{x^2 + 2y - z^3}$. Then evaluate $\\nabla g(-1, 1, 0)$"
   ]
  },
  {
   "cell_type": "code",
   "execution_count": 8,
   "id": "light-halifax",
   "metadata": {},
   "outputs": [
    {
     "name": "stdout",
     "output_type": "stream",
     "text": [
      "[2*x*exp(x**2 + 2*y - z**3), 2*exp(x**2 + 2*y - z**3), -3*z**2*exp(x**2 + 2*y - z**3)]\n",
      "[-40.1710738463753, 40.1710738463753, 0]\n"
     ]
    }
   ],
   "source": [
    "# Define function\n",
    "z = sp.symbols('z', real=True)\n",
    "g = sp.exp(x**2 + 2*y - z**3)\n",
    "\n",
    "# Get derivatives, form gradient\n",
    "g_x = g.diff(x)\n",
    "g_y = g.diff(y)\n",
    "g_z = g.diff(z)\n",
    "\n",
    "grad_g = [g_x, g_y, g_z]\n",
    "print(grad_g)\n",
    "\n",
    "# Evaluate the gradient\n",
    "dict_val = {x:-1, y:1, z:0}\n",
    "grad_g_eval = [g_x.subs(dict_val).evalf(), g_y.subs(dict_val).evalf(), g_z.subs(dict_val).evalf()]\n",
    "print(grad_g_eval)"
   ]
  },
  {
   "cell_type": "markdown",
   "id": "greenhouse-sheffield",
   "metadata": {},
   "source": [
    "### Higer order derivatives\n",
    "* Similar as in the case of a single variable functions, we can perform multiple consecutive (partial) differentiations\n",
    "* What is different in this case is that there are multiple possibilities for performing the differentiation process: every partial derivative can be differentiated with respect to all independent variables\n",
    "* For example, let $f(x, y)$ be a two-variable function. The **first partial derivatives** are $f_x (x, y)$ and $f_y (x, y)$. Differentiating these, we get the **second partial derivatives**. From $f_x$, we get $f_{xx}(x, y)$ and $f_{xy}(x, y)$, while from $f_y$ we get $f_{yx}(x, y)$ and $f_{yy}(x, y)$.\n",
    "\n",
    "### Example 6\n",
    "* Calculate all second partial derivatives of the function $f(x, y) = x^3 + 2x^2 y + y^2$"
   ]
  },
  {
   "cell_type": "code",
   "execution_count": 9,
   "id": "developed-choice",
   "metadata": {},
   "outputs": [
    {
     "name": "stdout",
     "output_type": "stream",
     "text": [
      "f_xx =  6*x + 4*y\n",
      "f_xy =  4*x\n",
      "f_yx =  4*x\n",
      "f_yy =  2\n"
     ]
    }
   ],
   "source": [
    "# Define the function\n",
    "f = x**3 + 2*x**2*y + y**2\n",
    "\n",
    "\n",
    "# First partial derivatives\n",
    "f_x = f.diff(x)\n",
    "f_y = f.diff(y)\n",
    "\n",
    "\n",
    "# Second partial derivatives\n",
    "f_xx = f_x.diff(x)\n",
    "f_xy = f_x.diff(y)\n",
    "\n",
    "f_yx = f_y.diff(x)\n",
    "f_yy = f_y.diff(y)\n",
    "\n",
    "\n",
    "# Printing the derivatives\n",
    "print('f_xx = ', f_xx)\n",
    "print('f_xy = ', f_xy) # Notice:\n",
    "print('f_yx = ', f_yx) # f_xy = f_yx\n",
    "print('f_yy = ', f_yy)"
   ]
  },
  {
   "cell_type": "markdown",
   "id": "meaningful-conversation",
   "metadata": {},
   "source": [
    "### Example 7\n",
    "* Calculate all second partial derivatives of the funciton $g(x, y) = -4x^3 - 3x^2y^3 + 2y^2$"
   ]
  },
  {
   "cell_type": "code",
   "execution_count": 10,
   "id": "following-attribute",
   "metadata": {},
   "outputs": [
    {
     "name": "stdout",
     "output_type": "stream",
     "text": [
      "g_xx =  -6*(4*x + y**3)\n",
      "g_xy =  -18*x*y**2\n",
      "g_yx =  -18*x*y**2\n",
      "g_yy =  2*(-9*x**2*y + 2)\n"
     ]
    }
   ],
   "source": [
    "# Define the function\n",
    "g = -4*x**3 - 3*x**2*y**3 + 2*y**2\n",
    "\n",
    "\n",
    "# First partial derivatives\n",
    "g_x = g.diff(x)\n",
    "g_y = g.diff(y)\n",
    "\n",
    "\n",
    "# Second partial derivatives\n",
    "g_xx = g.diff(x, 2)\n",
    "g_xy = g.diff(x, y)\n",
    "g_yx = g.diff(y, x)\n",
    "g_yy = g.diff(y, 2)\n",
    "\n",
    "\n",
    "# Printing the derivatives\n",
    "print('g_xx = ', g_xx)\n",
    "print('g_xy = ', g_xy)\n",
    "print('g_yx = ', g_yx)\n",
    "print('g_yy = ', g_yy)"
   ]
  },
  {
   "cell_type": "markdown",
   "id": "increased-heather",
   "metadata": {},
   "source": [
    "### Application: finding min and max of multivariable functions\n",
    "* Finding minima and maxima mostly follows the process we outlined for the single variable case\n",
    "* First, calculate all the first partial derivatives of the function. Next, set them equal to zero and solve the system that consists of these equations - one equation for every partial derivative, for example\n",
    "\\begin{equation}\\left\\{\n",
    "\\begin{array}{rcl}\n",
    "f_x &=& 0\\\\\n",
    "f_y &=& 0\n",
    "\\end{array}\\right.\n",
    "\\end{equation}\n",
    "* The solutions of this system are the critical points\n",
    "* Finally, find the second partial derivatives, and test whether a critical point is a **local minimum**, a **local maximum**, a **saddle point** or neither of the three\n",
    "* We will illustrate this only for functions of two variables\n",
    "\n",
    "### Example 8 (part 1)\n",
    "* Step 1: find the critical points of the function $f(x, y) = 9xy -x^3 - y^3 - 6$"
   ]
  },
  {
   "cell_type": "code",
   "execution_count": 11,
   "id": "thick-rehabilitation",
   "metadata": {},
   "outputs": [
    {
     "name": "stdout",
     "output_type": "stream",
     "text": [
      "Critical points are (0, 0) and (3, 3)\n"
     ]
    }
   ],
   "source": [
    "# Define the function\n",
    "f = 9*x*y - x**3 - y**3 - 6\n",
    "\n",
    "# First partial derivatives\n",
    "f_x = f.diff(x)\n",
    "f_y = f.diff(y)\n",
    "\n",
    "# Set the equations\n",
    "eq_1 = sp.Eq(f_x, 0)\n",
    "eq_2 = sp.Eq(f_y, 0)\n",
    "\n",
    "# Solve the system\n",
    "crit_pts = sp.solve((eq_1, eq_2), (x, y))\n",
    "\n",
    "# State the critical points\n",
    "print(f'Critical points are {crit_pts[0]} and {crit_pts[1]}')"
   ]
  },
  {
   "cell_type": "markdown",
   "id": "sustainable-climb",
   "metadata": {},
   "source": [
    "* Once we have identified a critical point $(x^*, y^*)$, we need to establish if it is an extremal point, and if it is -- then whether it is a minimum or a maximum point. To do this we need the second partial derivatives\n",
    "* We calculate the quantity $d$, given by:\n",
    "\\begin{equation}\n",
    "d = f_{xx}(x^*, y^*) \\cdot f_{yy}(x^*, y^*) - \\big[ f_{xy}(x^*, y^*) \\big]^2\n",
    "\\end{equation}\n",
    "* We based on the value of $d$ and of $f_{xx}(x^*, y^*)$ we can conclude:\n",
    "    * If $d > 0$ and $f_{xx}(x^*, y^*) > 0$, then the point $(x^*, y^*)$ is a **local minimum**\n",
    "    * If $d > 0$ and $f_{xx}(x^*, y^*) < 0$, then the point $(x^*, y^*)$ is a **local maximum**\n",
    "    * If $d < 0$, then the point $(x^*, y^*)$ is a **saddle point** (think: Pringles)\n",
    "    * If $d = 0$, the test is **inconclusive**\n",
    "\n",
    "### Example 8 (part 2)\n",
    "* Determine the nature of the critical points of $f(x, y) = 9xy -x^3 - y^3 - 6$"
   ]
  },
  {
   "cell_type": "code",
   "execution_count": 12,
   "id": "continuing-commitment",
   "metadata": {},
   "outputs": [
    {
     "name": "stdout",
     "output_type": "stream",
     "text": [
      "Case 1: critical point = (0, 0)\n",
      "d = -9 < 0 and f_xx(0, 0) = 0. We conclude that (0, 0) is a saddle point\n",
      "\n",
      "Case 2: critical point = (3, 3)\n",
      "d = 315 > 0 and f_xx(0, 0) = -18 < 0. We conclude that (3, 3) is a local maximum\n"
     ]
    }
   ],
   "source": [
    "# Second partial derivatives\n",
    "f_xx = f.diff(x, 2)\n",
    "f_yy = f.diff(y, 2)\n",
    "f_xy = f.diff(x, y)\n",
    "\n",
    "\n",
    "\n",
    "# Working with the first critical point\n",
    "print(f'Case 1: critical point = {crit_pts[0]}')\n",
    "dict_val = {x:crit_pts[0][0], y:crit_pts[0][1]}\n",
    "d = f_xx.subs(dict_val) * f_yy.subs(dict_val) - f_xy.subs(dict_val)\n",
    "print(f'd = {d} < 0 and f_xx{crit_pts[0]} = {f_xx.subs(dict_val)}. We conclude that {crit_pts[0]} is a saddle point')\n",
    "\n",
    "\n",
    "\n",
    "# Working with the second critical point\n",
    "print(f'\\nCase 2: critical point = {crit_pts[1]}')\n",
    "dict_val = {x:crit_pts[1][0], y:crit_pts[1][1]}\n",
    "d = f_xx.subs(dict_val) * f_yy.subs(dict_val) - f_xy.subs(dict_val)\n",
    "print(f'd = {d} > 0 and f_xx{crit_pts[0]} = {f_xx.subs(dict_val)} < 0. We conclude that {crit_pts[1]} is a local maximum')"
   ]
  },
  {
   "cell_type": "markdown",
   "id": "contained-pakistan",
   "metadata": {},
   "source": [
    "### Practice example\n",
    "* Find the extremal points of the function $g(x, y) = 2xy + 1 - \\frac{1}{2}\\left(x^4 + y^4\\right)$"
   ]
  },
  {
   "cell_type": "code",
   "execution_count": 13,
   "id": "fifth-magazine",
   "metadata": {},
   "outputs": [
    {
     "name": "stdout",
     "output_type": "stream",
     "text": [
      "Critical points are: (-1, -1), (0, 0) and (1, 1)\n",
      "\n",
      "Case 1: critical point = (-1, -1)\n",
      "d = 32 > 0 and g_xx(-1, -1) = -6 < 0. We conclude that (-1, -1) is a local maximum\n",
      "\n",
      "Case 2: critical point = (0, 0)\n",
      "d = -4 < 0 and g_xx(0, 0) = 0. We conclude that (0, 0) is a saddle point\n",
      "\n",
      "Case 3: critical point = (1, 1)\n",
      "d = 32 > 0 and g_xx(1, 1) = -6 < 0. We conclude that (1, 1) is a local maximum\n"
     ]
    }
   ],
   "source": [
    "# Define the function\n",
    "g = 2*x*y + 1 - (1/2)*(x**4 + y**4)\n",
    "\n",
    "\n",
    "# Partial derivatives\n",
    "g_x = g.diff(x)\n",
    "g_y = g.diff(y)\n",
    "g_xx = g.diff(x, 2)\n",
    "g_yy = g.diff(y, 2)\n",
    "g_xy = g.diff(x, y)\n",
    "\n",
    "\n",
    "# Find critical points\n",
    "eq_1 = sp.Eq(g_x, 0)\n",
    "eq_2 = sp.Eq(g_y, 0)\n",
    "crit_pts = sp.solve((eq_1, eq_2), (x, y))\n",
    "crit_pts = [(int(crit_pts[i][0]), int(crit_pts[i][1])) for i in range(3)]\n",
    "print(f'Critical points are: {crit_pts[0]}, {crit_pts[1]} and {crit_pts[2]}')\n",
    "\n",
    "\n",
    "# Establishing the nature of the critical points\n",
    "# Working with the first critical point\n",
    "print(f'\\nCase 1: critical point = {crit_pts[0]}')\n",
    "dict_val = {x:crit_pts[0][0], y:crit_pts[0][1]}\n",
    "d = int(g_xx.subs(dict_val) * g_yy.subs(dict_val) - g_xy.subs(dict_val)**2)\n",
    "print(f'd = {d} > 0 and g_xx{crit_pts[0]} = {int(g_xx.subs(dict_val))} < 0. We conclude that {crit_pts[0]} is a local maximum')\n",
    "\n",
    "# Working with the second critical point\n",
    "print(f'\\nCase 2: critical point = {crit_pts[1]}')\n",
    "dict_val = {x:crit_pts[1][0], y:crit_pts[1][1]}\n",
    "d = g_xx.subs(dict_val) * g_yy.subs(dict_val) - g_xy.subs(dict_val)**2\n",
    "print(f'd = {d} < 0 and g_xx{crit_pts[1]} = {g_xx.subs(dict_val)}. We conclude that {crit_pts[1]} is a saddle point')\n",
    "\n",
    "# Working with the third critical point\n",
    "print(f'\\nCase 3: critical point = {crit_pts[2]}')\n",
    "dict_val = {x:crit_pts[2][0], y:crit_pts[2][1]}\n",
    "d = int(g_xx.subs(dict_val) * g_yy.subs(dict_val) - g_xy.subs(dict_val)**2)\n",
    "print(f'd = {d} > 0 and g_xx{crit_pts[2]} = {int(g_xx.subs(dict_val))} < 0. We conclude that {crit_pts[2]} is a local maximum')"
   ]
  },
  {
   "cell_type": "code",
   "execution_count": 14,
   "id": "894ee12a-a68e-4ef4-baad-e415d648a13f",
   "metadata": {},
   "outputs": [
    {
     "data": {
      "text/plain": [
       "(-6.0*x**2, -6.0*y**2, 2)"
      ]
     },
     "execution_count": 14,
     "metadata": {},
     "output_type": "execute_result"
    }
   ],
   "source": [
    "g_xx, g_yy, g_xy"
   ]
  },
  {
   "cell_type": "code",
   "execution_count": null,
   "id": "fa7f7573-0c27-4bd0-8540-dd8d48facfa2",
   "metadata": {},
   "outputs": [],
   "source": []
  }
 ],
 "metadata": {
  "kernelspec": {
   "display_name": "Python 3",
   "language": "python",
   "name": "python3"
  },
  "language_info": {
   "codemirror_mode": {
    "name": "ipython",
    "version": 3
   },
   "file_extension": ".py",
   "mimetype": "text/x-python",
   "name": "python",
   "nbconvert_exporter": "python",
   "pygments_lexer": "ipython3",
   "version": "3.8.8"
  }
 },
 "nbformat": 4,
 "nbformat_minor": 5
}
