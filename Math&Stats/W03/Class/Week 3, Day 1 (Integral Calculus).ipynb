{
 "cells": [
  {
   "cell_type": "markdown",
   "id": "resident-satisfaction",
   "metadata": {
    "id": "4GbWgJo0PAhQ"
   },
   "source": [
    "# Week 3: Calculus (cont'd)"
   ]
  },
  {
   "cell_type": "code",
   "execution_count": 1,
   "id": "great-cream",
   "metadata": {
    "colab": {
     "base_uri": "https://localhost:8080/"
    },
    "id": "NUsxW-y-PLC_",
    "outputId": "0d121100-e79a-498b-8234-f75b488d2b44"
   },
   "outputs": [],
   "source": [
    "# Load libraries\r\n",
    "import numpy as np\r\n",
    "import sympy as sp\r\n",
    "import matplotlib.pyplot as plt\r\n",
    "import seaborn as sns"
   ]
  },
  {
   "cell_type": "markdown",
   "id": "religious-eugene",
   "metadata": {
    "id": "GabvVGv6PjJi"
   },
   "source": [
    "## Day 1: Integral Calculus\r\n",
    "* In calculus, integrals are the opposite of derivatives: they \"reverse\" the effects of differentiation. In this context we speak about **indefinite integrals**\r\n",
    "* Additionally, integrals can be used to calculate the area of a figure bound by graphs of functions. In context of this problem (finding the **Area Under a Curve**) we spreak about **definite integrals**\r\n",
    "* The outcome of an indefinite integral is a function; the outcome of a definite integral is a number"
   ]
  },
  {
   "cell_type": "markdown",
   "id": "israeli-hazard",
   "metadata": {
    "id": "O93hy1xQQiav"
   },
   "source": [
    "## Indefinite integrals\r\n",
    "* First we talk about indefinite integrals. Since these integrals undo differentiations, sometimes they are called **antiderivatives**\r\n",
    "* For example: we figure out that, if the derivative is $2x$, then the *original* function is $x^2$. The original function is not as obvious in general.\r\n",
    "* Indefinite integrals are important for us since they enable us to solve definite integrals; the definite integrals are fundamental in probability theory.\r\n",
    "* If $f(x)$ is a given function, then its indefinite integral (antiderivative) is labeled by $F(x)$. The relation between $F$ and $f$ is:\r\n",
    "\\begin{equation}\r\n",
    "F'(x) = f(x),\r\n",
    "\\end{equation}\r\n",
    "but we usually write this relation as:\r\n",
    "\\begin{equation}\r\n",
    "\\int f(x)\\, dx = F(x) + C\r\n",
    "\\end{equation}\r\n",
    "where $C$ is some constant called *integration constant* (at the moment, not relevant for us). For the time being, ignore the $dx$ term in the integral.\r\n",
    "\r\n",
    "### Example 1\r\n",
    "* Let $f(x) = x^2$. Find the indefinite integral of $f(x)$"
   ]
  },
  {
   "cell_type": "code",
   "execution_count": 2,
   "id": "involved-refund",
   "metadata": {},
   "outputs": [
    {
     "data": {
      "text/latex": [
       "$\\displaystyle \\frac{x^{3}}{3}$"
      ],
      "text/plain": [
       "x**3/3"
      ]
     },
     "execution_count": 2,
     "metadata": {},
     "output_type": "execute_result"
    }
   ],
   "source": [
    "# Define variables and functions\n",
    "x = sp.symbols('x')\n",
    "f = sp.Function('f', real=True)\n",
    "F = sp.Function('F', real=True)\n",
    "f = x**2 \n",
    "\n",
    "# Integrate\n",
    "F = sp.integrate(f, x)\n",
    "F"
   ]
  },
  {
   "cell_type": "markdown",
   "id": "fundamental-findings",
   "metadata": {
    "id": "D1YlhP1762rh"
   },
   "source": [
    "### Example 2\r\n",
    "* Let $g(x) = \\sqrt{x}$. Find the indefinite integral $\\int g(x)\\, dx$"
   ]
  },
  {
   "cell_type": "code",
   "execution_count": 3,
   "id": "stable-tribune",
   "metadata": {},
   "outputs": [
    {
     "data": {
      "text/latex": [
       "$\\displaystyle \\frac{2 x^{\\frac{3}{2}}}{3}$"
      ],
      "text/plain": [
       "2*x**(3/2)/3"
      ]
     },
     "execution_count": 3,
     "metadata": {},
     "output_type": "execute_result"
    }
   ],
   "source": [
    "g = sp.Function('g', real=True)\n",
    "G = sp.Function('G', real=True)\n",
    "\n",
    "g = sp.sqrt(x)\n",
    "G = sp.integrate(g, x)\n",
    "G"
   ]
  },
  {
   "cell_type": "markdown",
   "id": "comprehensive-poetry",
   "metadata": {
    "id": "0vM5WZrB7wwV"
   },
   "source": [
    "### Example 3\r\n",
    "* Calculate:\r\n",
    "\\begin{equation}\r\n",
    "\\int \\left( \\ln x - e^x + x^2\\sin x \\right) \\, dx\r\n",
    "\\end{equation}"
   ]
  },
  {
   "cell_type": "code",
   "execution_count": 4,
   "id": "turned-refrigerator",
   "metadata": {},
   "outputs": [
    {
     "data": {
      "text/latex": [
       "$\\displaystyle - x^{2} \\cos{\\left(x \\right)} + x \\log{\\left(x \\right)} + 2 x \\sin{\\left(x \\right)} - x - e^{x} + 2 \\cos{\\left(x \\right)}$"
      ],
      "text/plain": [
       "-x**2*cos(x) + x*log(x) + 2*x*sin(x) - x - exp(x) + 2*cos(x)"
      ]
     },
     "execution_count": 4,
     "metadata": {},
     "output_type": "execute_result"
    }
   ],
   "source": [
    "sp.integrate(sp.ln(x) - sp.exp(x) + x**2 * sp.sin(x), x)"
   ]
  },
  {
   "cell_type": "markdown",
   "id": "promising-connectivity",
   "metadata": {
    "id": "Vuhptf_VuPE9"
   },
   "source": [
    "### Example 4: Not all integrals exist\r\n",
    "* Try calculating:\r\n",
    "\\begin{equation}\r\n",
    "\\int \\sin\\left(\\cos x \\right) \\, dx\r\n",
    "\\end{equation}\r\n",
    "* In short: there is not function $F(x)$ such that $F'(x) = \\sin\\left(\\cos x \\right)$"
   ]
  },
  {
   "cell_type": "code",
   "execution_count": 5,
   "id": "comprehensive-search",
   "metadata": {},
   "outputs": [
    {
     "data": {
      "text/latex": [
       "$\\displaystyle \\int \\sin{\\left(\\cos{\\left(x \\right)} \\right)}\\, dx$"
      ],
      "text/plain": [
       "Integral(sin(cos(x)), x)"
      ]
     },
     "execution_count": 5,
     "metadata": {},
     "output_type": "execute_result"
    }
   ],
   "source": [
    "sp.integrate(sp.sin(sp.cos(x)), x)"
   ]
  },
  {
   "cell_type": "markdown",
   "id": "foreign-sellers",
   "metadata": {
    "id": "lSxtU3wXvUS7"
   },
   "source": [
    "## Definite integrals\r\n",
    "* Definite integrals can be thought of as **area under a curve (AUC)** over a certain interval, provided the function is not negative.\r\n",
    "* In this sense, the definite integrals describe **accumulation**\r\n",
    "* The exact area under the graph of a function $f$ over an interval $[a, b]$ is denoted by the definite integral:\r\n",
    "\\begin{equation} \\int_a^b f(x)\\, dx  \\end{equation}\r\n",
    "* Let's see how definite integrals are defined through an example: calculate the area under the graph of the function $f(x) = \\frac{1}{1 + x^2}$ over the interval $[-1, 3]$\r\n"
   ]
  },
  {
   "cell_type": "code",
   "execution_count": 6,
   "id": "alpine-magnet",
   "metadata": {},
   "outputs": [
    {
     "data": {
      "image/png": "[encoded data removed]",
      "text/plain": [
       "<Figure size 720x360 with 1 Axes>"
      ]
     },
     "metadata": {
      "needs_background": "light"
     },
     "output_type": "display_data"
    }
   ],
   "source": [
    "f = 1/(1+x**2)\n",
    "F = sp.integrate(f, x)\n",
    "\n",
    "f = sp.lambdify(x, f)\n",
    "F = sp.lambdify(x, F)\n",
    "\n",
    "\n",
    "\n",
    "xs = np.linspace(-5, 5, 1000)\n",
    "ys = f(xs)\n",
    "\n",
    "plt.figure(figsize=(10, 5))\n",
    "plt.plot(xs,ys)\n",
    "\n",
    "Xs = np.linspace(-1,3, 100)\n",
    "Ys = f(Xs)\n",
    "plt.fill_between(Xs,Ys, alpha=0.2)\n",
    "\n",
    "plt.xticks([-5, -4, -3, -2, -1, 0, 1, 2, 3, 4, 5]);\n",
    "plt.title('f(x) = 1/(1+x^2)')\n",
    "\n",
    "plt.show()"
   ]
  },
  {
   "cell_type": "code",
   "execution_count": 7,
   "id": "accomplished-pension",
   "metadata": {},
   "outputs": [
    {
     "data": {
      "image/png": "[encoded data removed]",
      "text/plain": [
       "<Figure size 1080x360 with 3 Axes>"
      ]
     },
     "metadata": {
      "needs_background": "light"
     },
     "output_type": "display_data"
    }
   ],
   "source": [
    "a = -1\n",
    "b = 3\n",
    "N = 10 # Number of subintervals to use\n",
    "n = 10 # Use n*N+1 points to plot the function smoothly\n",
    "\n",
    "x = np.linspace(a, b, N+1)\n",
    "y = f(x)\n",
    "\n",
    "X = np.linspace(a, b, n*N+1)\n",
    "Y = f(X)\n",
    "\n",
    "plt.figure(figsize=(15, 5))\n",
    "\n",
    "plt.subplot(1, 3, 1)\n",
    "plt.plot(X, Y, 'b') # The function plot\n",
    "x_left = x[:-1] # Left endpoints\n",
    "y_left = y[:-1]\n",
    "plt.plot(x_left, y_left,'b.', markersize=10)\n",
    "plt.bar(x_left, y_left, width=(b-a)/N, alpha=0.2, align='edge', edgecolor='b')\n",
    "plt.title(f'Left Riemann Sum, N = {N}')\n",
    "\n",
    "plt.subplot(1, 3, 2)\n",
    "plt.plot(X, Y,'b')\n",
    "x_mid = (x[:-1] + x[1:])/2 # Midpoints\n",
    "y_mid = f(x_mid)\n",
    "plt.plot(x_mid, y_mid, 'b.', markersize=10)\n",
    "plt.bar(x_mid, y_mid, width=(b-a)/N, alpha=0.2, edgecolor='b')\n",
    "plt.title(f'Midpoint Riemann Sum, N = {N}')\n",
    "\n",
    "plt.subplot(1,3,3)\n",
    "plt.plot(X,Y,'b')\n",
    "x_right = x[1:] # Left endpoints\n",
    "y_right = y[1:]\n",
    "plt.plot(x_right, y_right, 'b.', markersize=10)\n",
    "plt.bar(x_right, y_right, width=-(b-a)/N, alpha=0.2, align='edge', edgecolor='b')\n",
    "plt.title(f'Right Riemann Sum, N = {N}')\n",
    "\n",
    "plt.show()"
   ]
  },
  {
   "cell_type": "markdown",
   "id": "opposed-dover",
   "metadata": {
    "id": "QNusuQUE4uA1"
   },
   "source": [
    "### Example 5: Approximation using midpoints\r\n",
    "* Approximate the area under the graph of $f(x)$ over the interval $[-1, 3]$ using the midpoints"
   ]
  },
  {
   "cell_type": "code",
   "execution_count": 8,
   "id": "olympic-compiler",
   "metadata": {},
   "outputs": [
    {
     "name": "stdout",
     "output_type": "stream",
     "text": [
      "Area is ~  2.038174493665297\n"
     ]
    }
   ],
   "source": [
    "# Approximate the integral using the mid-point sum with N subintervals\n",
    "x = sp.symbols('x')\n",
    "f = 1/(1 + x**2)\n",
    "f_lam = sp.lambdify(x, f)\n",
    "\n",
    "a = -1\n",
    "b = 3\n",
    "N = 10 # Number of subintervals to use\n",
    "\n",
    "xs = np.linspace(a, b, N + 1) #the division of the interval [a, b]\n",
    "\n",
    "approx = 0 #initiate the approximation\n",
    "\n",
    "for i in range(N):\n",
    "    mid_point = (xs[i] + xs[i+1])/2\n",
    "    height = f_lam(mid_point)\n",
    "    width = xs[i+1] - xs[i]\n",
    "    approx = approx + width*height\n",
    "\n",
    "print('Area is ~ ', approx)"
   ]
  },
  {
   "cell_type": "markdown",
   "id": "particular-spokesman",
   "metadata": {
    "id": "xwqYXUlucxVr"
   },
   "source": [
    "* Write a function that will take as inputs: a function $f$, the endpoints $a$ and $b$ of the interval $[a, b]$, and the number of subintervals $N$ in the division. The function should return the approximate area under the graph of $f(x)$ over the interval $[a, b]$."
   ]
  },
  {
   "cell_type": "code",
   "execution_count": 9,
   "id": "opened-quality",
   "metadata": {},
   "outputs": [
    {
     "data": {
      "text/plain": [
       "2.0344812689478817"
      ]
     },
     "execution_count": 9,
     "metadata": {},
     "output_type": "execute_result"
    }
   ],
   "source": [
    "def approx_AUC(func, a, b, N):\n",
    "    approx = 0\n",
    "    xs = np.linspace(a, b, N + 1)\n",
    "    for i in range(N):\n",
    "        approx += func((xs[i] + xs[i+1])/2)*(xs[i+1] - xs[i])\n",
    "    return approx\n",
    "\n",
    "approx_AUC(f_lam, -1, 3, 100)"
   ]
  },
  {
   "cell_type": "markdown",
   "id": "amber-quarterly",
   "metadata": {
    "id": "WQNXig5951sP"
   },
   "source": [
    "## The Fundametal Theorem of Calculus\r\n",
    "* This theorem gives a complete relation between derivatives and integrals and allows for an exact calculation of definite integrals, and hence of area under a curve.\r\n",
    "* Let $f(x)$ be a function defined and \"well-behaved\" over an interval $[a, b]$, and let $F(x)$ be any of its antiderivatives. Then:\r\n",
    "\\begin{equation}\r\n",
    "\\int_a^b f(x) \\, dx = F(b) - F(a)\r\n",
    "\\end{equation}\r\n",
    "* To obtain an expression of $F(x)$, we just solve:\r\n",
    "\\begin{equation}\r\n",
    "F(x) = \\int f(x) \\, dx\r\n",
    "\\end{equation}\r\n",
    "\r\n",
    "### Example 6: caclulating the exact area\r\n",
    "* Find the exact area under the graph of $f(x) = \\frac{1}{1+x^2}$ over $[-1, 3]$"
   ]
  },
  {
   "cell_type": "code",
   "execution_count": 10,
   "id": "secondary-ethiopia",
   "metadata": {},
   "outputs": [
    {
     "data": {
      "text/latex": [
       "$\\displaystyle \\frac{\\pi}{4} + \\operatorname{atan}{\\left(3 \\right)}$"
      ],
      "text/plain": [
       "pi/4 + atan(3)"
      ]
     },
     "execution_count": 10,
     "metadata": {},
     "output_type": "execute_result"
    }
   ],
   "source": [
    "sp.integrate(f, x).subs(x, 3) - sp.integrate(f, x).subs(x, -1)"
   ]
  },
  {
   "cell_type": "markdown",
   "id": "paperback-strip",
   "metadata": {
    "id": "8A-kHBVW_62M"
   },
   "source": [
    "### Example 7\r\n",
    "* Calculate the area under the graph of $g(x) = 4-x^2$ over the interval $[-2, 2]$"
   ]
  },
  {
   "cell_type": "code",
   "execution_count": 11,
   "id": "painted-adoption",
   "metadata": {},
   "outputs": [
    {
     "data": {
      "text/latex": [
       "$\\displaystyle \\frac{32}{3}$"
      ],
      "text/plain": [
       "32/3"
      ]
     },
     "execution_count": 11,
     "metadata": {},
     "output_type": "execute_result"
    }
   ],
   "source": [
    "sp.integrate(4 - x**2, x).subs(x, 2) - sp.integrate(4 - x**2, x).subs(x, -2)"
   ]
  },
  {
   "cell_type": "markdown",
   "id": "russian-prophet",
   "metadata": {
    "id": "9DFVlp-sAuBC"
   },
   "source": [
    "### Example 8: use sympy.integrate(f, (x, a, b))\r\n",
    "* SymPy has in integrated command that calculates the definite inegral of a function over an integral, if possible. If it cannot find an antiderivative, then we can approximate the integral with a high degree of accuracy.\r\n",
    "\r\n",
    "Calculate:\r\n",
    "* $\\int_0^{\\pi} \\sin x \\, dx$\r\n",
    "* $\\int_1^4 \\ln x \\, dx$\r\n",
    "* $\\int_{-10}^{10} e ^{-x^2} \\, dx$\r\n",
    "* $\\int_{-\\pi/4}^{\\pi/2} \\sin \\left( \\cos x \\right) \\, dx$"
   ]
  },
  {
   "cell_type": "code",
   "execution_count": 12,
   "id": "informational-bundle",
   "metadata": {},
   "outputs": [
    {
     "name": "stdout",
     "output_type": "stream",
     "text": [
      "2\n",
      "2.54517744447956\n",
      "1.77245385090552\n",
      "1.50627665614154\n"
     ]
    }
   ],
   "source": [
    "# Fist example\n",
    "print(sp.integrate(sp.sin(x), (x, 0, sp.pi)))\n",
    "\n",
    "# Second example\n",
    "print(sp.integrate(sp.ln(x), (x, 1, 4)).evalf())\n",
    "\n",
    "# Third example\n",
    "print(sp.integrate(sp.exp(-x**2), (x, -10, 10)).evalf())\n",
    "\n",
    "# Fourth example\n",
    "print(sp.integrate(sp.sin(sp.cos(x)), (x, -sp.pi/4, sp.pi/2)).evalf())"
   ]
  },
  {
   "cell_type": "markdown",
   "id": "actual-spice",
   "metadata": {
    "id": "LjlZ1H2hD2oS"
   },
   "source": [
    "## Definite integrals as net change\r\n",
    "* If the rate of change of a certain process is known (i.e. described by a function), then we can calculate the net change as an integral of the rate.\r\n",
    "* Examples of rates of changes:\r\n",
    "  * Water flowing into/out of a tank\r\n",
    "  * Velocity (rate of change of position)\r\n",
    "  * Variable force doing some work\r\n",
    "* Frequently these are functions of time $t$\r\n"
   ]
  },
  {
   "cell_type": "markdown",
   "id": "vanilla-decision",
   "metadata": {
    "id": "tkQRHRWpEfVo"
   },
   "source": [
    "### Example 9. Water flowing out of a tank\r\n",
    "Water leaks from a tank at a rate of $L(t) =2 + 5t$ liters/hour, where $t$ is the number of hours after 7:00.\r\n",
    "* How much water is lost between 9:00 and 11:00?\r\n",
    "* If the tank had 500 liters or water at 7:00, how much water is left in the tank at noon?\r\n",
    "* If the tank had 500 liters or water at 7:00, at what time will all the water drain?\r\n"
   ]
  },
  {
   "cell_type": "code",
   "execution_count": 13,
   "id": "finished-makeup",
   "metadata": {},
   "outputs": [
    {
     "name": "stdout",
     "output_type": "stream",
     "text": [
      "Between 9:00 (t = 2) and 11:00 (t = 4) 34 liters of water are lost\n",
      "At noon (t = 5), there are 427.50 liters of water left in the tank\n",
      "The tank will be empty at t = 13.75 or at ~20:45\n"
     ]
    }
   ],
   "source": [
    "# Define variables and functions\n",
    "t = sp.symbols('t', positive=True)\n",
    "L = sp.Function('L', real=True)\n",
    "L = 2 + 5*t\n",
    "\n",
    "# How much water is lost between 9:00 and 11:00?\n",
    "ans_a = sp.integrate(L, (t, 2, 4))\n",
    "print(f'Between 9:00 (t = 2) and 11:00 (t = 4) {ans_a} liters of water are lost')\n",
    "\n",
    "# If the tank had 500 liters or water at 7:00, how much water is left in the tank at noon?\n",
    "ans_b = 500 - sp.integrate(L, (t, 0, 5))\n",
    "print(f'At noon (t = 5), there are {ans_b.round(2)} liters of water left in the tank')\n",
    "\n",
    "# If the tank had 500 liters or water at 7:00, at what time will all the water drain?\n",
    "# At this time 500 liters will have drained\n",
    "Q = sp.Function('Q', real=True) # Quantity of water that has drained by time t\n",
    "Q = sp.integrate(L, (t, 0, t)) # it turns out you can use t as the variable, no need to define T as a new variable!\n",
    "\n",
    "eq = sp.Eq(Q, 500) # define the equation object Q(t) = 0\n",
    "\n",
    "ans_c = sp.solve(eq, t)[0] #solve the equation for t\n",
    "\n",
    "print(f'The tank will be empty at t = {ans_c.round(2)} or at ~20:45')"
   ]
  },
  {
   "cell_type": "markdown",
   "id": "employed-tract",
   "metadata": {
    "id": "fy_6UcqjJuOl"
   },
   "source": [
    "### Practice example\r\n",
    "The rate at which rainwater flows into a drainpipe is modeled by the function $R(t) = 20 \\sin⁡ \\left(\\frac{t^2}{35}\\right)$ cubic feet per hour, $t$ is measured in hours, and $0 \\leqslant t \\leqslant 8$.\r\n",
    "\r\n",
    "The pipe is partially blocked, allowing water to drain out the other end of the pipe at a rate modeled by $D(t) = −0.04t^3 + 0.4t^2 + 0.96t$ cubic feet per hour, for $0 \\leqslant t \\leqslant 8$.\r\n",
    "\r\n",
    "There are 30 cubic feet of water in the pipe at time $t=0$.\r\n",
    "\r\n",
    "* How much water flows into the pipe between the second and fourth hours?\r\n",
    "* How much water drains out of the pipe during the first half of the period?\r\n",
    "* If the drainpipe can hold maximum of 100 cubic feet of water, will it overflow at the end of the 8-th hour?\r\n"
   ]
  },
  {
   "cell_type": "code",
   "execution_count": 14,
   "id": "rocky-spanking",
   "metadata": {},
   "outputs": [
    {
     "name": "stdout",
     "output_type": "stream",
     "text": [
      "Between t = 2 and t = 4 a total 10.49 liters of water flow into the drainpipe\n",
      "In the first half od the period (t = 0 to t = 4), a total of 13.65 liters drain out\n",
      "At the end of the 8-th hour, there will be 48.54 liters of water in the drain, so it will not overflow\n"
     ]
    },
    {
     "data": {
      "image/png": "[encoded data removed]",
      "text/plain": [
       "<Figure size 432x288 with 1 Axes>"
      ]
     },
     "metadata": {
      "needs_background": "light"
     },
     "output_type": "display_data"
    },
    {
     "data": {
      "text/plain": [
       "<sympy.plotting.plot.Plot at 0x2720888f1c0>"
      ]
     },
     "execution_count": 14,
     "metadata": {},
     "output_type": "execute_result"
    }
   ],
   "source": [
    "# Define variables\n",
    "t = sp.symbols('t', positive=True)\n",
    "\n",
    "# Define R\n",
    "R = sp.Function('R', real=True)\n",
    "R = 20 * sp.sin(t**2/35)\n",
    "\n",
    "# Define D\n",
    "D = sp.Function('T', real=True)\n",
    "D = -0.04*t**3 + 0.4*t**2 + 0.96*t\n",
    "\n",
    "\n",
    "\n",
    "# How much water flows into the pipe between the second and fourth hours?\n",
    "ans_a = sp.integrate(R, (t, 2, 4))\n",
    "print(f'Between t = 2 and t = 4 a total {ans_a.round(2)} liters of water flow into the drainpipe')\n",
    "\n",
    "# How much water drains out of the pipe during the first half of the period?\n",
    "ans_b = sp.integrate(D, (t, 0, 4))\n",
    "print(f'In the first half od the period (t = 0 to t = 4), a total of {ans_b.round(2)} liters drain out')\n",
    "\n",
    "# If the drainpipe can hold maximum of 100 cubic feet of water, will it overflow at the end of the 8-th hour?\n",
    "Q = sp.Function('Q', real=True) # Quantity of water in the drainpipe at time t\n",
    "Q = 30 + sp.integrate(R, (t, 0, t)) - sp.integrate(D, (t, 0, t))\n",
    "print(f'At the end of the 8-th hour, there will be {Q.subs(t, 8).round(2)} liters of water in the drain, so it will not overflow')\n",
    "sp.plot(Q, (t, 0, 8), ylabel='Q(t)')"
   ]
  }
 ],
 "metadata": {
  "kernelspec": {
   "display_name": "Python 3",
   "language": "python",
   "name": "python3"
  },
  "language_info": {
   "codemirror_mode": {
    "name": "ipython",
    "version": 3
   },
   "file_extension": ".py",
   "mimetype": "text/x-python",
   "name": "python",
   "nbconvert_exporter": "python",
   "pygments_lexer": "ipython3",
   "version": "3.8.8"
  }
 },
 "nbformat": 4,
 "nbformat_minor": 5
}
