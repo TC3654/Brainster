{
 "cells": [
  {
   "cell_type": "markdown",
   "id": "veterinary-afternoon",
   "metadata": {},
   "source": [
    "# Week 2: Calculus"
   ]
  },
  {
   "cell_type": "code",
   "execution_count": 1,
   "id": "structured-lying",
   "metadata": {},
   "outputs": [],
   "source": [
    "#importing libraries\n",
    "import numpy as np\n",
    "import sympy as sp\n",
    "import matplotlib.pyplot as plt\n",
    "import seaborn as sns"
   ]
  },
  {
   "cell_type": "markdown",
   "id": "differential-patient",
   "metadata": {},
   "source": [
    "## Day 3: Numerical Optimization Methods\n",
    "* So far we covered **exact** optimization, i.e. we calculated the minima/maxima of functions directly and exactly. This approach is not always the best\n",
    "* There are cases when the function $f$ is so complex that differentiation may not be feasible\n",
    "* In other cases soving the equation $f' = 0$ is not possible, at least not *analytically*, so we have to resort to approximating the solutions\n",
    "* These, and similar scenarios, give rise to the methods for **numerical optimization** which avoid solving $f' = 0$ and might even avoid using derivatives at all. Today we discuss two such methods\n",
    "* Numerical optimization algorithms are *iterative* by design -- they start with some initial approximation and they improve it until satisfactory result is obtained"
   ]
  },
  {
   "cell_type": "markdown",
   "id": "norman-newman",
   "metadata": {},
   "source": [
    "### Gradient Descent Method\n",
    "* This method finds the minimum of the input function (can be modified to work for finding maxima as well)\n",
    "* Let $f(x)$ be the function we wish to minimize. We make an initial guess about the minimum, and we call this initial approximation $x_0$\n",
    "* The method then generates an iterative sequence of improved approximations $x_1, x_2, \\ldots, x_k, x_{k+1}, \\ldots$ which are eve closer to the actual minimum of the function\n",
    "* The recursive relation between the *current* iterate $x_k$ and the *next* iterate $x_{k+1}$ for $k = 1, 2, \\ldots$ is given by:\\begin{equation}\n",
    "x_{k+1} = x_k - \\alpha \\cdot f'(x_k)\n",
    "\\end{equation}\n",
    "where $\\alpha$ is called **learning rate** of the algorithm which controls the speed of convergence (i.e. approaching to the minimum). The learning rate is usually set to be fairly small. In the basic form of the algorithm, it is constant throughout the iterations"
   ]
  },
  {
   "cell_type": "markdown",
   "id": "dynamic-aaron",
   "metadata": {},
   "source": [
    "### Example 1\n",
    "Find the minimum of the function $f(x) = x^2$ using the Gradient Descent Method, initial approximation $x_0 = 4$ and learning rate $\\alpha = 0.2$"
   ]
  },
  {
   "cell_type": "code",
   "execution_count": 2,
   "id": "rising-advice",
   "metadata": {},
   "outputs": [
    {
     "name": "stdout",
     "output_type": "stream",
     "text": [
      "k\t xk\t\t f(xk)\t\t f'(xk)\n",
      "-------------------------------------------------------\n",
      "0\t 4\t\t 16\t\t 8\n",
      "1\t 2.4\t\t 5.76\t\t 4.8\n",
      "2\t 1.44\t\t 2.0736\t\t 2.88\n",
      "3\t 0.864\t\t 0.7465\t\t 1.728\n",
      "4\t 0.5184\t\t 0.2687\t\t 1.0368\n",
      "5\t 0.311\t\t 0.0967\t\t 0.6221\n",
      "6\t 0.1866\t\t 0.0348\t\t 0.3732\n",
      "7\t 0.112\t\t 0.0125\t\t 0.2239\n",
      "8\t 0.0672\t\t 0.0045\t\t 0.1344\n",
      "9\t 0.0403\t\t 0.0016\t\t 0.0806\n",
      "10\t 0.0242\t\t 0.0006\t\t 0.0484\n",
      "11\t 0.0145\t\t 0.0002\t\t 0.029\n",
      "12\t 0.0087\t\t 0.0001\t\t 0.0174\n",
      "13\t 0.0052\t\t 0.0\t\t 0.0104\n",
      "14\t 0.0031\t\t 0.0\t\t 0.0063\n"
     ]
    }
   ],
   "source": [
    "# get variables and functions\n",
    "x = sp.symbols('x')\n",
    "f = sp.Function('f', real=True)\n",
    "f = x**2\n",
    "\n",
    "# define the derivative as a Python function (not SymPy!)\n",
    "df = sp.lambdify(x, f.diff())\n",
    "f = sp.lambdify(x, f)\n",
    "\n",
    "# run the algorithm\n",
    "print(\"k\\t xk\\t\\t f(xk)\\t\\t f'(xk)\")\n",
    "print('-------------------------------------------------------')\n",
    "\n",
    "max_iter = 15\n",
    "xk = 4\n",
    "alpha = 0.2\n",
    "\n",
    "for k in range(max_iter):\n",
    "    print(f'{k}\\t {np.round(xk, 4)}\\t\\t {np.round(f(xk), 4)}\\t\\t {np.round(df(xk), 4)}')\n",
    "    xk = xk - alpha*df(xk)"
   ]
  },
  {
   "cell_type": "code",
   "execution_count": 3,
   "id": "collective-talent",
   "metadata": {},
   "outputs": [
    {
     "name": "stdout",
     "output_type": "stream",
     "text": [
      "k\t xk\t\t f(xk)\t\t f'(xk)\n",
      "-------------------------------------------------------\n",
      "0\t 4\t\t 16\t\t 8\n",
      "1\t 2.4\t\t 5.76\t\t 4.8\n",
      "2\t 1.44\t\t 2.0736\t\t 2.88\n",
      "3\t 0.864\t\t 0.7465\t\t 1.728\n",
      "4\t 0.5184\t\t 0.2687\t\t 1.0368\n",
      "5\t 0.311\t\t 0.0967\t\t 0.6221\n",
      "6\t 0.1866\t\t 0.0348\t\t 0.3732\n",
      "7\t 0.112\t\t 0.0125\t\t 0.2239\n",
      "8\t 0.0672\t\t 0.0045\t\t 0.1344\n",
      "9\t 0.0403\t\t 0.0016\t\t 0.0806\n",
      "10\t 0.0242\t\t 0.0006\t\t 0.0484\n",
      "11\t 0.0145\t\t 0.0002\t\t 0.029\n",
      "12\t 0.0087\t\t 0.0001\t\t 0.0174\n",
      "13\t 0.0052\t\t 0.0\t\t 0.0104\n",
      "14\t 0.0031\t\t 0.0\t\t 0.0063\n"
     ]
    },
    {
     "data": {
      "image/png": "[encoded data removed]",
      "text/plain": [
       "<Figure size 1080x360 with 1 Axes>"
      ]
     },
     "metadata": {
      "needs_background": "light"
     },
     "output_type": "display_data"
    }
   ],
   "source": [
    "# Plot the sequence of points that approaches the minimum\n",
    "# get variables and functions\n",
    "x = sp.symbols('x')\n",
    "f = sp.Function('f', real=True)\n",
    "f = x**2\n",
    "\n",
    "# define the derivative as a Python function (not SymPy!)\n",
    "df = sp.lambdify(x, f.diff())\n",
    "f = sp.lambdify(x, f)\n",
    "\n",
    "# run the algorithm\n",
    "print(\"k\\t xk\\t\\t f(xk)\\t\\t f'(xk)\")\n",
    "print('-------------------------------------------------------')\n",
    "\n",
    "max_iter = 15\n",
    "xk = 4\n",
    "alpha = 0.2\n",
    "\n",
    "xs = []\n",
    "ys = []\n",
    "\n",
    "for k in range(max_iter):\n",
    "    xs.append(xk)\n",
    "    ys.append(f(xk))\n",
    "    print(f'{k}\\t {np.round(xk, 4)}\\t\\t {np.round(f(xk), 4)}\\t\\t {np.round(df(xk), 4)}')\n",
    "    xk = xk - alpha*df(xk)\n",
    "\n",
    "x = np.linspace(-5, 5, 1000)\n",
    "y = f(x)\n",
    "\n",
    "plt.figure(figsize=(15,5))\n",
    "plt.plot(x, f(x), label='Function')\n",
    "plt.plot(np.array(xs), np.array(ys), marker='o', c='r', label='Approximations')\n",
    "plt.legend()\n",
    "plt.show()"
   ]
  },
  {
   "cell_type": "markdown",
   "id": "hydraulic-houston",
   "metadata": {},
   "source": [
    "### Example 2\n",
    "Find the minimum of the function $g(x) = \\displaystyle 1-\\frac{\\ln x}{2x+3}$ using the Gradient Descent Method, and initial approximation $x_0$ and learning rate $\\alpha$ of your choosing."
   ]
  },
  {
   "cell_type": "code",
   "execution_count": 4,
   "id": "representative-hypothetical",
   "metadata": {},
   "outputs": [
    {
     "name": "stdout",
     "output_type": "stream",
     "text": [
      "k\t xk\t\t f(xk)\t\t f'(xk)\n",
      "-------------------------------------------------------\n",
      "0\t 10\t\t 0.8999\t\t 0.0044\n",
      "50\t 8.867\t\t 0.8947\t\t 0.0047\n",
      "100\t 7.6495\t\t 0.8888\t\t 0.005\n",
      "150\t 6.3893\t\t 0.8825\t\t 0.005\n",
      "200\t 5.232\t\t 0.8771\t\t 0.0041\n",
      "250\t 4.4401\t\t 0.8745\t\t 0.0022\n",
      "300\t 4.0988\t\t 0.874\t\t 0.0007\n",
      "350\t 3.9991\t\t 0.874\t\t 0.0002\n",
      "400\t 3.9747\t\t 0.874\t\t 0.0\n",
      "450\t 3.969\t\t 0.874\t\t 0.0\n",
      "500\t 3.9677\t\t 0.874\t\t 0.0\n",
      "The minimum of g(x) is x = 3.967691744246136 with a minimum value of 0.87397\n"
     ]
    }
   ],
   "source": [
    "# define variables and functions\n",
    "x = sp.symbols('x')\n",
    "g = 1 - sp.ln(x)/(2*x + 3)\n",
    "dg = g.diff()\n",
    "\n",
    "# convert SymPy functions to Python functions\n",
    "g = sp.lambdify(x, g)\n",
    "dg = sp.lambdify(x, dg)\n",
    "\n",
    "\n",
    "# run the algorithm\n",
    "print(\"k\\t xk\\t\\t f(xk)\\t\\t f'(xk)\")\n",
    "print('-------------------------------------------------------')\n",
    "\n",
    "max_iter = 500\n",
    "alpha = 5\n",
    "xk = 10\n",
    "\n",
    "for k in range(max_iter + 1):\n",
    "    if (k % 50) == 0:\n",
    "        print(f'{k}\\t {np.round(xk, 4)}\\t\\t {np.round(g(xk), 4)}\\t\\t {np.round(dg(xk), 4)}')\n",
    "    xk = xk - alpha*dg(xk)\n",
    "\n",
    "print(f'The minimum of g(x) is x = {xk} with a minimum value of {np.round(g(xk), 5)}')"
   ]
  },
  {
   "cell_type": "markdown",
   "id": "configured-bonus",
   "metadata": {},
   "source": [
    "### Example 3\n",
    "Find the **maximum** of the function $h(x) = \\ln x - \\sqrt{x}$ using the Gradient Descent Method, and initial approximation $x_0 = 1$ and learning rate $\\alpha = 0.75$."
   ]
  },
  {
   "cell_type": "code",
   "execution_count": 5,
   "id": "given-insider",
   "metadata": {},
   "outputs": [
    {
     "name": "stdout",
     "output_type": "stream",
     "text": [
      "k\t xk\t\t f(xk)\t\t f'(xk)\n",
      "-------------------------------------------------------\n",
      "0\t 1\t\t -1.0\t\t 0.5\n",
      "10\t 2.4673\t\t -0.6676\t\t 0.087\n",
      "20\t 2.9599\t\t -0.6353\t\t 0.0472\n",
      "30\t 3.2501\t\t -0.6241\t\t 0.0303\n",
      "40\t 3.4431\t\t -0.6192\t\t 0.021\n",
      "50\t 3.5791\t\t -0.6167\t\t 0.0151\n",
      "60\t 3.6782\t\t -0.6154\t\t 0.0112\n",
      "70\t 3.752\t\t -0.6147\t\t 0.0084\n",
      "80\t 3.8078\t\t -0.6143\t\t 0.0064\n",
      "90\t 3.8504\t\t -0.6141\t\t 0.0049\n",
      "100\t 3.8832\t\t -0.6139\t\t 0.0038\n",
      "110\t 3.9086\t\t -0.6138\t\t 0.0029\n",
      "120\t 3.9284\t\t -0.6138\t\t 0.0023\n",
      "130\t 3.9438\t\t -0.6138\t\t 0.0018\n",
      "140\t 3.9558\t\t -0.6137\t\t 0.0014\n",
      "150\t 3.9652\t\t -0.6137\t\t 0.0011\n",
      "160\t 3.9727\t\t -0.6137\t\t 0.0009\n",
      "170\t 3.9785\t\t -0.6137\t\t 0.0007\n",
      "180\t 3.983\t\t -0.6137\t\t 0.0005\n",
      "190\t 3.9866\t\t -0.6137\t\t 0.0004\n",
      "200\t 3.9895\t\t -0.6137\t\t 0.0003\n",
      "210\t 3.9917\t\t -0.6137\t\t 0.0003\n",
      "220\t 3.9935\t\t -0.6137\t\t 0.0002\n",
      "230\t 3.9948\t\t -0.6137\t\t 0.0002\n",
      "240\t 3.9959\t\t -0.6137\t\t 0.0001\n",
      "250\t 3.9968\t\t -0.6137\t\t 0.0001\n",
      "260\t 3.9975\t\t -0.6137\t\t 0.0001\n",
      "270\t 3.998\t\t -0.6137\t\t 0.0001\n",
      "280\t 3.9984\t\t -0.6137\t\t 0.0\n",
      "290\t 3.9988\t\t -0.6137\t\t 0.0\n",
      "300\t 3.999\t\t -0.6137\t\t 0.0\n",
      "310\t 3.9992\t\t -0.6137\t\t 0.0\n",
      "320\t 3.9994\t\t -0.6137\t\t 0.0\n",
      "330\t 3.9995\t\t -0.6137\t\t 0.0\n",
      "340\t 3.9996\t\t -0.6137\t\t 0.0\n",
      "350\t 3.9997\t\t -0.6137\t\t 0.0\n",
      "360\t 3.9998\t\t -0.6137\t\t 0.0\n",
      "370\t 3.9998\t\t -0.6137\t\t 0.0\n",
      "380\t 3.9999\t\t -0.6137\t\t 0.0\n",
      "390\t 3.9999\t\t -0.6137\t\t 0.0\n",
      "400\t 3.9999\t\t -0.6137\t\t 0.0\n",
      "410\t 3.9999\t\t -0.6137\t\t 0.0\n",
      "420\t 3.9999\t\t -0.6137\t\t 0.0\n",
      "430\t 4.0\t\t -0.6137\t\t 0.0\n",
      "440\t 4.0\t\t -0.6137\t\t 0.0\n",
      "450\t 4.0\t\t -0.6137\t\t 0.0\n",
      "460\t 4.0\t\t -0.6137\t\t 0.0\n",
      "470\t 4.0\t\t -0.6137\t\t 0.0\n",
      "480\t 4.0\t\t -0.6137\t\t 0.0\n",
      "490\t 4.0\t\t -0.6137\t\t 0.0\n",
      "500\t 4.0\t\t -0.6137\t\t 0.0\n",
      "The minimum of h(x) is x = 3.99999166596064 with a minimum value of -0.61371\n"
     ]
    }
   ],
   "source": [
    "# define variables and functions\n",
    "x = sp.symbols('x')\n",
    "h = sp.ln(x) - sp.sqrt(x)\n",
    "dh = h.diff()\n",
    "\n",
    "# convert SymPy functions to Python functions\n",
    "h = sp.lambdify(x, h)\n",
    "dh = sp.lambdify(x, dh)\n",
    "\n",
    "\n",
    "# run the algorithm\n",
    "print(\"k\\t xk\\t\\t f(xk)\\t\\t f'(xk)\")\n",
    "print('-------------------------------------------------------')\n",
    "\n",
    "max_iter = 500\n",
    "alpha = 0.75\n",
    "xk = 1\n",
    "\n",
    "for k in range(max_iter + 1):\n",
    "    if (k % 10) == 0:\n",
    "        print(f'{k}\\t {np.round(xk, 4)}\\t\\t {np.round(h(xk), 4)}\\t\\t {np.round(dh(xk), 4)}')\n",
    "    xk = xk + alpha*dh(xk)\n",
    "\n",
    "print(f'The minimum of h(x) is x = {xk} with a minimum value of {np.round(h(xk), 5)}')"
   ]
  },
  {
   "cell_type": "markdown",
   "id": "christian-present",
   "metadata": {},
   "source": [
    "### Stopping criterion based on $f'(x_k)$\n",
    "* It is impossible to know how many iterations would be required to get a \"good\" approximation to the minimum\n",
    "* Most frequently, we set a predetermined value for the maximum number of iterations we are *willing* to make\n",
    "* Another approach is to check the absolute size of the derivative of the function, $|f'(x_k)|$; if this value is close to zero (in practice, less than some preset small *tolerance* threshold), we stop the algorithm since we are *sufficiently* close to a minimum point.\n",
    "* Usual thresholds are $10^{-4}$ or $10^{-6}$\n",
    "* Let's see this in practice with the modified parameters for the previous example"
   ]
  },
  {
   "cell_type": "code",
   "execution_count": 6,
   "id": "isolated-accommodation",
   "metadata": {},
   "outputs": [
    {
     "name": "stdout",
     "output_type": "stream",
     "text": [
      "k\t xk\t\t f(xk)\t\t f'(xk)\n",
      "-------------------------------------------------------\n",
      "10\t 2.3966\t\t -0.67404\t\t 0.09428\n",
      "20\t 2.92263\t\t -0.63709\t\t 0.04969\n",
      "30\t 3.22642\t\t -0.62485\t\t 0.03158\n",
      "40\t 3.4268\t\t -0.61953\t\t 0.02172\n",
      "50\t 3.56738\t\t -0.61692\t\t 0.01559\n",
      "60\t 3.66956\t\t -0.61554\t\t 0.0115\n",
      "70\t 3.74552\t\t -0.61477\t\t 0.00863\n",
      "80\t 3.80288\t\t -0.61434\t\t 0.00656\n",
      "90\t 3.84665\t\t -0.61409\t\t 0.00503\n",
      "100\t 3.88032\t\t -0.61394\t\t 0.00388\n",
      "110\t 3.90637\t\t -0.61385\t\t 0.00301\n",
      "120\t 3.92661\t\t -0.61379\t\t 0.00235\n",
      "130\t 3.9424\t\t -0.61376\t\t 0.00183\n",
      "140\t 3.95474\t\t -0.61374\t\t 0.00143\n",
      "150\t 3.96441\t\t -0.61373\t\t 0.00112\n",
      "160\t 3.97199\t\t -0.61372\t\t 0.00088\n",
      "170\t 3.97795\t\t -0.61371\t\t 0.00069\n",
      "180\t 3.98263\t\t -0.61371\t\t 0.00055\n",
      "190\t 3.98631\t\t -0.61371\t\t 0.00043\n",
      "200\t 3.98921\t\t -0.61371\t\t 0.00034\n",
      "210\t 3.9915\t\t -0.61371\t\t 0.00027\n",
      "220\t 3.9933\t\t -0.61371\t\t 0.00021\n",
      "230\t 3.99471\t\t -0.61371\t\t 0.00017\n",
      "240\t 3.99583\t\t -0.61371\t\t 0.00013\n",
      "250\t 3.99671\t\t -0.61371\t\t 0.0001\n",
      "260\t 3.99741\t\t -0.61371\t\t 8e-05\n",
      "270\t 3.99795\t\t -0.61371\t\t 6e-05\n",
      "280\t 3.99839\t\t -0.61371\t\t 5e-05\n",
      "290\t 3.99873\t\t -0.61371\t\t 4e-05\n",
      "300\t 3.999\t\t -0.61371\t\t 3e-05\n",
      "310\t 3.99921\t\t -0.61371\t\t 2e-05\n",
      "320\t 3.99938\t\t -0.61371\t\t 2e-05\n",
      "330\t 3.99951\t\t -0.61371\t\t 2e-05\n",
      "340\t 3.99961\t\t -0.61371\t\t 1e-05\n",
      "Last step gives:\n",
      "349\t 4.00\t\t -0.6137056404197918\t\t 9.810338743365676e-06\n",
      "The minimum of h(x) is x = 3.999686099954508 with a minimum value of -0.6137056404197918\n"
     ]
    }
   ],
   "source": [
    "# run the algorithm\n",
    "print(\"k\\t xk\\t\\t f(xk)\\t\\t f'(xk)\")\n",
    "print('-------------------------------------------------------')\n",
    "\n",
    "#max_iter = 500 #no need for max_iter in this example\n",
    "alpha = 0.75\n",
    "xk = 1\n",
    "tol = 1e-5 #setting tolerance as 1e-4\n",
    "k = 1\n",
    "\n",
    "\n",
    "while abs(dh(xk)) >= tol:\n",
    "    if (k % 10) == 0:\n",
    "        print(f'{k}\\t {np.round(xk, 5)}\\t\\t {np.round(h(xk), 5)}\\t\\t {np.round(dh(xk), 5)}')\n",
    "    xk = xk + alpha*dh(xk)\n",
    "    k = k + 1\n",
    "\n",
    "#Print the last iteration:\n",
    "print('Last step gives:')\n",
    "print(f'{k}\\t {xk:.2f}\\t\\t {h(xk)}\\t\\t {dh(xk)}')\n",
    "print(f'The minimum of h(x) is x = {xk} with a minimum value of {h(xk)}')"
   ]
  },
  {
   "cell_type": "markdown",
   "id": "other-carbon",
   "metadata": {},
   "source": [
    "### Putting the all of it together in a single function\n",
    "* Write a Python function that will be an implementation of the Gradient Descent Method\n",
    "* Input arguments are:\n",
    "    * The function *f* and its derivative *df*\n",
    "    * Initial approximation *x0*\n",
    "    * Learning rate *alpha*, by default set to 0.01\n",
    "    * Maximum number of iterations *max_it*, by default set to 500\n",
    "    * Tolerance level for the gradient *tol*, by default set to 1e-6\n",
    "* Output argoments are:\n",
    "    * The minimum $x^*$\n",
    "    * The minimum value $f(x^*)$\n",
    "    * The absolute value of the derivative at the minimum, $\\left|f'(x^*)\\right|$\n",
    "    * The number of iterations it took to obtain the result"
   ]
  },
  {
   "cell_type": "code",
   "execution_count": 7,
   "id": "confidential-snake",
   "metadata": {},
   "outputs": [],
   "source": [
    "def gradient_descent(f, df, x0, alpha = 0.01, max_iter = 500, tol = 1e-6):\n",
    "    # initialize the sequence\n",
    "    k = 0\n",
    "    xk = x0\n",
    "    dfk = df(x0)\n",
    "    \n",
    "    while k < max_iter and abs(dfk) > tol: # loop until we do not have a solution\n",
    "        xk = xk - alpha * dfk # calculate the new iteration\n",
    "        dfk = df(xk) # update the derivative\n",
    "        k = k + 1 # increment the iteration number\n",
    "    return xk, f(xk), abs(dfk), k"
   ]
  },
  {
   "cell_type": "markdown",
   "id": "danish-founder",
   "metadata": {},
   "source": [
    "### Checking built-in optimizers in SciPy's optimization module\n",
    "* `SciPy` has a great selection of very robust *optimizers*\n",
    "* Among others, we single out:\n",
    "    * `bisect`\n",
    "    * `golden`\n",
    "    * `fmin`\n",
    "    * `fmin_*method*`\n",
    "    * `minimuze`"
   ]
  },
  {
   "cell_type": "code",
   "execution_count": 8,
   "id": "facial-greenhouse",
   "metadata": {},
   "outputs": [],
   "source": [
    "# Import the scipy.optimize\n",
    "import scipy.optimize as opt"
   ]
  },
  {
   "cell_type": "code",
   "execution_count": 9,
   "id": "fossil-shower",
   "metadata": {},
   "outputs": [],
   "source": [
    "# Try some of the optimizers on the functions we defined\n"
   ]
  },
  {
   "cell_type": "code",
   "execution_count": 11,
   "id": "simple-stanford",
   "metadata": {},
   "outputs": [
    {
     "data": {
      "text/plain": [
       "(0.00020511992572736317, 4.207418393039899e-08, 0.00041023985145472635, 500)"
      ]
     },
     "execution_count": 11,
     "metadata": {},
     "output_type": "execute_result"
    }
   ],
   "source": [
    "gradient_descent(f, df, 5)"
   ]
  },
  {
   "cell_type": "code",
   "execution_count": null,
   "id": "gothic-aerospace",
   "metadata": {},
   "outputs": [],
   "source": []
  }
 ],
 "metadata": {
  "kernelspec": {
   "display_name": "Python 3",
   "language": "python",
   "name": "python3"
  },
  "language_info": {
   "codemirror_mode": {
    "name": "ipython",
    "version": 3
   },
   "file_extension": ".py",
   "mimetype": "text/x-python",
   "name": "python",
   "nbconvert_exporter": "python",
   "pygments_lexer": "ipython3",
   "version": "3.8.8"
  }
 },
 "nbformat": 4,
 "nbformat_minor": 5
}
