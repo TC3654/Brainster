{
 "cells": [
  {
   "cell_type": "markdown",
   "id": "young-johnston",
   "metadata": {},
   "source": [
    "# Week 2: Calculus"
   ]
  },
  {
   "cell_type": "code",
   "execution_count": 10,
   "id": "comparable-standard",
   "metadata": {},
   "outputs": [],
   "source": [
    "#importing libraries\n",
    "import numpy as np\n",
    "import sympy as sp\n",
    "import matplotlib.pyplot as plt\n",
    "import seaborn as sns\n",
    "import pandas as pd"
   ]
  },
  {
   "cell_type": "markdown",
   "id": "seventh-skill",
   "metadata": {},
   "source": [
    "## Day 3: Numerical Optimization Methods\n",
    "* So far we covered **exact** optimization, i.e. we calculated the minima/maxima of functions directly and exactly. This approach is not always the best\n",
    "* There are cases when the function $f$ is so complex that differentiation may not be feasible\n",
    "* In other cases soving the equation $f' = 0$ is not possible, at least not *analytically*, so we have to resort to approximating the solutions\n",
    "* These, and similar scenarios, give rise to the methods for **numerical optimization** which avoid solving $f' = 0$ and might even avoid using derivatives at all. Today we discuss two such methods\n",
    "* Numerical optimization algorithms are *iterative* by design -- they start with some initial approximation and they improve it until satisfactory result is obtained"
   ]
  },
  {
   "cell_type": "markdown",
   "id": "smoking-argument",
   "metadata": {},
   "source": [
    "### Gradient Descent Method\n",
    "* This method finds the minimum of the input function (can be modified to work for finding maxima as well)\n",
    "* Let $f(x)$ be the function we wish to minimize. We make an initial guess about the minimum, and we call this initial approximation $x_0$\n",
    "* The method then generates an iterative sequence of improved approximations $x_1, x_2, \\ldots, x_k, x_{k+1}, \\ldots$ which are eve closer to the actual minimum of the function\n",
    "* The recursive relation between the *current* iterate $x_k$ and the *next* iterate $x_{k+1}$ for $k = 1, 2, \\ldots$ is given by:\\begin{equation}\n",
    "x_{k+1} = x_k - \\alpha \\cdot f'(x_k)\n",
    "\\end{equation}\n",
    "where $\\alpha$ is called **learning rate** of the algorithm which controls the speed of convergence (i.e. approaching to the minimum). The learning rate is usually set to be fairly small. In the basic form of the algorithm, it is constant throughout the iterations"
   ]
  },
  {
   "cell_type": "markdown",
   "id": "duplicate-leonard",
   "metadata": {},
   "source": [
    "### Example 1\n",
    "Find the minimum of the function $f(x) = x^2$ using the Gradient Descent Method, initial approximation $x_0 = 4$ and learning rate $\\alpha = 0.2$"
   ]
  },
  {
   "cell_type": "code",
   "execution_count": 42,
   "id": "accredited-specialist",
   "metadata": {},
   "outputs": [
    {
     "name": "stdout",
     "output_type": "stream",
     "text": [
      "     k      xk       f(xk)  f'(xk)\n",
      "0  0.0   1.000    1.000000   2.000\n",
      "1  1.0  -2.900    8.410000  -5.800\n",
      "2  2.0   8.410   70.728100  16.820\n",
      "3  3.0 -24.389  594.823321 -48.778\n"
     ]
    }
   ],
   "source": [
    "# get variables and functions\n",
    "x = sp.Symbol('x', real = True)\n",
    "f = sp.Function('f', real=True)\n",
    "df = sp.Function('df', real=True)\n",
    "f = x**2\n",
    "df = f.diff()\n",
    "\n",
    "# define the function and the derivative as a Python function (not SymPy!)\n",
    "# sympy.lambdify()\n",
    "F = sp.lambdify(x, f)\n",
    "DF = sp.lambdify(x, df)\n",
    "\n",
    "\n",
    "# Initialize the results dataframe\n",
    "results = pd.DataFrame(columns = [\"k\", \"xk\", \"f(xk)\", \"f'(xk)\"])\n",
    "\n",
    "\n",
    "# run the algorithm\n",
    "max_iter = 3\n",
    "xk = 1.0\n",
    "alpha = 1.95\n",
    "k = 0\n",
    "\n",
    "while k <= max_iter: # or we could use a for loop\n",
    "    #add a row in the DataFrame\n",
    "    row = [k, xk, F(xk), DF(xk)]\n",
    "    results.loc[len(results)] = row\n",
    "    \n",
    "    #update the iteration\n",
    "    xk = xk - alpha*DF(xk)\n",
    "    k = k + 1\n",
    "\n",
    "print(results)"
   ]
  },
  {
   "cell_type": "code",
   "execution_count": 43,
   "id": "contrary-limitation",
   "metadata": {},
   "outputs": [
    {
     "data": {
      "image/png": "[encoded data removed]",
      "text/plain": [
       "<Figure size 1080x360 with 1 Axes>"
      ]
     },
     "metadata": {
      "needs_background": "light"
     },
     "output_type": "display_data"
    }
   ],
   "source": [
    "# Plot the sequence of points that approaches the minimum (try alpha = 0.02, 0.4, 0.5, 0.8)\n",
    "xs = np.linspace(-4.5, 4.5, 1000)\n",
    "ys = F(xs)\n",
    "\n",
    "\n",
    "plt.figure(figsize=(15, 5))\n",
    "plt.plot(xs, ys, label='f(x) = x^2')\n",
    "plt.plot(results['xk'], results['f(xk)'], label='GD progress', color='r', marker='o')\n",
    "plt.legend()\n",
    "plt.show()"
   ]
  },
  {
   "cell_type": "markdown",
   "id": "starting-measurement",
   "metadata": {},
   "source": [
    "### Example 2\n",
    "Find the minimum of the function $g(x) = \\displaystyle 1-\\frac{\\ln x}{2x+3}$ using the Gradient Descent Method, and initial approximation $x_0$ and learning rate $\\alpha$ of your choosing."
   ]
  },
  {
   "cell_type": "code",
   "execution_count": null,
   "id": "unavailable-highland",
   "metadata": {},
   "outputs": [],
   "source": [
    "# define variables and functions\n",
    "\n"
   ]
  },
  {
   "cell_type": "markdown",
   "id": "civilian-chaos",
   "metadata": {},
   "source": [
    "### Example 3\n",
    "Find the **maximum** of the function $h(x) = \\ln x - \\sqrt{x}$ using the Gradient Descent Method, and initial approximation $x_0 = 1$ and learning rate $\\alpha = 0.75$."
   ]
  },
  {
   "cell_type": "code",
   "execution_count": 50,
   "id": "israeli-gabriel",
   "metadata": {},
   "outputs": [
    {
     "name": "stdout",
     "output_type": "stream",
     "text": [
      "         k        xk     h(xk)    h'(xk)\n",
      "196  196.0  3.978153 -0.613713  0.000687\n",
      "197  197.0  3.978599 -0.613713  0.000673\n",
      "198  198.0  3.979037 -0.613713  0.000659\n",
      "199  199.0  3.979466 -0.613712  0.000646\n",
      "200  200.0  3.979886 -0.613712  0.000633\n"
     ]
    }
   ],
   "source": [
    "# define variables and functions\n",
    "h = sp.Function('h', real=True)\n",
    "h = sp.log(x) - sp.sqrt(x)\n",
    "dh = h.diff()\n",
    "# define the derivative as a Python function (not SymPy!)\n",
    "# sympy.lambdify() --> convert to numpy\n",
    "H = sp.lambdify(x, h)\n",
    "DH = sp.lambdify(x, dh)\n",
    "# Initialize the results dataframe\n",
    "results = pd.DataFrame(columns = [\"k\", \"xk\", \"h(xk)\", \"h'(xk)\"])\n",
    "# run the algorithm; xk is --> x0\n",
    "max_iter = 200\n",
    "xk = 1.0\n",
    "alpha = 0.65\n",
    "k = 0\n",
    "while k <= max_iter: # or we could use a for loop\n",
    "    # add a row in the dataframe\n",
    "    row = [k, xk, H(xk), DH(xk)]\n",
    "    results.loc[len(results)] = row\n",
    "    # update the iteration\n",
    "    xk = xk + alpha*DH(xk)\n",
    "    k = k + 1\n",
    "print(results.tail())\n",
    "\n",
    "\n"
   ]
  },
  {
   "cell_type": "code",
   "execution_count": 49,
   "id": "06bf0619-0bf8-43df-8f1f-00fad412237b",
   "metadata": {},
   "outputs": [
    {
     "data": {
      "image/png": "[encoded data removed]",
      "text/plain": [
       "<Figure size 432x288 with 1 Axes>"
      ]
     },
     "metadata": {
      "needs_background": "light"
     },
     "output_type": "display_data"
    },
    {
     "data": {
      "text/plain": [
       "<sympy.plotting.plot.Plot at 0x2553dd9f9d0>"
      ]
     },
     "execution_count": 49,
     "metadata": {},
     "output_type": "execute_result"
    }
   ],
   "source": [
    "sp.plot(h, (x, 0.1, 6))"
   ]
  },
  {
   "cell_type": "code",
   "execution_count": 48,
   "id": "e3b7df44-3440-4159-9d7a-91a47279c29a",
   "metadata": {},
   "outputs": [
    {
     "data": {
      "text/latex": [
       "$\\displaystyle \\frac{1}{x} - \\frac{1}{2 \\sqrt{x}}$"
      ],
      "text/plain": [
       "1/x - 1/(2*sqrt(x))"
      ]
     },
     "execution_count": 48,
     "metadata": {},
     "output_type": "execute_result"
    }
   ],
   "source": [
    "dh"
   ]
  },
  {
   "cell_type": "markdown",
   "id": "annoying-husband",
   "metadata": {},
   "source": [
    "### Stopping criterion based on $f'(x_k)$\n",
    "* It is impossible to know how many iterations would be required to get a \"good\" approximation to the minimum\n",
    "* Most frequently, we set a predetermined value for the maximum number of iterations we are *willing* to make\n",
    "* Another approach is to check the absolute size of the derivative of the function, $|f'(x_k)|$; if this value is close to zero (in practice, less than some preset small *tolerance* threshold), we stop the algorithm since we are *sufficiently* close to a minimum point.\n",
    "* Usual thresholds are $10^{-4}$ or $10^{-6}$ (i.e. `1e-4` or `1e-6`)\n",
    "* Let's see this in practice with the modified parameters for the previous example"
   ]
  },
  {
   "cell_type": "code",
   "execution_count": 59,
   "id": "logical-figure",
   "metadata": {},
   "outputs": [
    {
     "name": "stdout",
     "output_type": "stream",
     "text": [
      "         k        xk     h(xk)        h'(xk)\n",
      "510  510.0  3.999965 -0.613706  1.078273e-06\n",
      "511  511.0  3.999966 -0.613706  1.056371e-06\n",
      "512  512.0  3.999967 -0.613706  1.034913e-06\n",
      "513  513.0  3.999968 -0.613706  1.013891e-06\n",
      "514  514.0  3.999968 -0.613706  9.932955e-07\n"
     ]
    }
   ],
   "source": [
    "# Test with the stopping criterion based on the derivative\n",
    "# Initialize the results dataframe\n",
    "results = pd.DataFrame(columns = [\"k\", \"xk\", \"h(xk)\", \"h'(xk)\"])\n",
    "# run the algorithm; xk is --> x0\n",
    "max_iter = 550\n",
    "xk = 1.0\n",
    "alpha = 0.65\n",
    "k = 0\n",
    "tol = 1e-6\n",
    "\n",
    "#while (k <= max_iter) and (results[\"h'(xk)\"][len(resulsts) - 1] >= tol) #if you erase the last if statement\n",
    "while (k <= max_iter): \n",
    "    # add a row in the dataframe\n",
    "    row = [k, xk, H(xk), DH(xk)]\n",
    "    \n",
    "    results.loc[len(results)] = row\n",
    "    # update the iteration\n",
    "    xk = xk + alpha*DH(xk)\n",
    "    k = k + 1\n",
    "    if DH(xk) < tol:\n",
    "        row = [k, xk, H(xk), DH(xk)]\n",
    "        results.loc[len(results)] = row\n",
    "        break\n",
    "print(results.tail())"
   ]
  },
  {
   "cell_type": "code",
   "execution_count": 57,
   "id": "835659e2-ca70-437a-97b7-e2f41473921d",
   "metadata": {},
   "outputs": [
    {
     "data": {
      "text/plain": [
       "9.870070038059398e-05"
      ]
     },
     "execution_count": 57,
     "metadata": {},
     "output_type": "execute_result"
    }
   ],
   "source": [
    "results[\"h'(xk)\"][len(results) - 1] #references the last entry in the h'(xk) column"
   ]
  },
  {
   "cell_type": "markdown",
   "id": "numeric-lighting",
   "metadata": {},
   "source": [
    "### Putting the all of it together in a single function\n",
    "* Write a Python function that will be an implementation of the Gradient Descent Method\n",
    "* Input arguments are:\n",
    "    * The function `f` and its derivative `df`\n",
    "    * Initial approximation `x0`\n",
    "    * Learning rate `alpha`, by default set to `0.01`\n",
    "    * Maximum number of iterations `max_iter`, by default set to `500`\n",
    "    * Tolerance level for the gradient `tol`, by default set to `1e-6`\n",
    "* Output arguments are:\n",
    "    * The minimum $x^*$\n",
    "    * The minimum value $f(x^*)$\n",
    "    * The absolute value of the derivative at the minimum, $\\left|f'(x^*)\\right|$\n",
    "    * The number of iterations it took to obtain the result"
   ]
  },
  {
   "cell_type": "code",
   "execution_count": null,
   "id": "pending-chorus",
   "metadata": {},
   "outputs": [],
   "source": [
    "def gradient_descent(f, df, x0, alpha = 0.01, max_iter = 500, tol = 1e-6):\n",
    "    \n",
    "    \n",
    "    return ..."
   ]
  },
  {
   "cell_type": "markdown",
   "id": "democratic-mainstream",
   "metadata": {},
   "source": [
    "### Checking built-in optimizers in SciPy's optimization module\n",
    "* `SciPy` has a great selection of very robust *optimizers*\n",
    "* Among others, we single out:\n",
    "    * `bisect`\n",
    "    * `golden`\n",
    "    * `fmin`\n",
    "    * `fmin_*method*`\n",
    "    * `minimize`"
   ]
  },
  {
   "cell_type": "code",
   "execution_count": 64,
   "id": "distinct-shooting",
   "metadata": {},
   "outputs": [
    {
     "data": {
      "text/plain": [
       "-1.0"
      ]
     },
     "execution_count": 64,
     "metadata": {},
     "output_type": "execute_result"
    }
   ],
   "source": [
    "# Import the scipy.optimize\n",
    "import scipy.optimize as opt\n",
    "H(1)"
   ]
  },
  {
   "cell_type": "code",
   "execution_count": 67,
   "id": "mineral-christian",
   "metadata": {},
   "outputs": [
    {
     "data": {
      "text/plain": [
       "      fun: 1.0\n",
       " hess_inv: array([[0.5]])\n",
       "      jac: array([0.])\n",
       "  message: 'Optimization terminated successfully.'\n",
       "     nfev: 6\n",
       "      nit: 2\n",
       "     njev: 3\n",
       "   status: 0\n",
       "  success: True\n",
       "        x: array([-9.44232006e-09])"
      ]
     },
     "execution_count": 67,
     "metadata": {},
     "output_type": "execute_result"
    }
   ],
   "source": [
    "# Try some of the optimizers on the functions we defined\n",
    "def f(x):\n",
    "    return x**2 + 1\n",
    "\n",
    "opt.minimize(f, 1.0)"
   ]
  },
  {
   "cell_type": "code",
   "execution_count": 68,
   "id": "627f9a85-acac-417d-a05d-89981ddd7004",
   "metadata": {},
   "outputs": [
    {
     "data": {
      "text/plain": [
       "(-6.821210263296962e-13,\n",
       "       converged: True\n",
       "            flag: 'converged'\n",
       "  function_calls: 44\n",
       "      iterations: 42\n",
       "            root: -6.821210263296962e-13)"
      ]
     },
     "execution_count": 68,
     "metadata": {},
     "output_type": "execute_result"
    }
   ],
   "source": [
    "def df(x):\n",
    "    return 2*x\n",
    "\n",
    "opt.bisect(df, -2, 3, full_output=True)"
   ]
  },
  {
   "cell_type": "code",
   "execution_count": 69,
   "id": "dbc14b10-34bb-4ab0-ab7d-1b6eda621f6f",
   "metadata": {},
   "outputs": [
    {
     "data": {
      "text/plain": [
       "(1.0536712006419561e-08, 1.0, 85)"
      ]
     },
     "execution_count": 69,
     "metadata": {},
     "output_type": "execute_result"
    }
   ],
   "source": [
    "opt.golden(f, brack=[-2, 3], full_output=True)"
   ]
  },
  {
   "cell_type": "code",
   "execution_count": null,
   "id": "c0fa0478-66e4-4c69-a73d-e0380553717a",
   "metadata": {},
   "outputs": [],
   "source": []
  }
 ],
 "metadata": {
  "kernelspec": {
   "display_name": "Python 3",
   "language": "python",
   "name": "python3"
  },
  "language_info": {
   "codemirror_mode": {
    "name": "ipython",
    "version": 3
   },
   "file_extension": ".py",
   "mimetype": "text/x-python",
   "name": "python",
   "nbconvert_exporter": "python",
   "pygments_lexer": "ipython3",
   "version": "3.8.8"
  }
 },
 "nbformat": 4,
 "nbformat_minor": 5
}
