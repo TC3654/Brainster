{
 "cells": [
  {
   "cell_type": "markdown",
   "id": "normal-hartford",
   "metadata": {},
   "source": [
    "# Week 2: Calculus"
   ]
  },
  {
   "cell_type": "code",
   "execution_count": 1,
   "id": "confirmed-allergy",
   "metadata": {},
   "outputs": [],
   "source": [
    "#importing libraries\n",
    "import numpy as np\n",
    "import sympy as sp\n",
    "import matplotlib.pyplot as plt\n",
    "import seaborn as sns"
   ]
  },
  {
   "cell_type": "markdown",
   "id": "ordinary-plaintiff",
   "metadata": {},
   "source": [
    "## Day 1: Differentiation\n",
    "* Differential Calculus is an important tool in optimization\n",
    "* The basic concept in differential calculus is the **derivative**. The process of calculating the derivative of a function is called **differentiation**\n",
    "* Derivatives are key concept in **optimization**, and we will be applying derivatives towards this goal."
   ]
  },
  {
   "cell_type": "markdown",
   "id": "detected-directive",
   "metadata": {},
   "source": [
    "## Intro to SymPy\n",
    "* SymPy is a Python library which allows symbolic calculations (NumPy does not have this capability)\n",
    "* Here we briefly introduce some basic capabilites of SymPy that we will use further\n",
    "\n",
    "### Defining and evaluating symbolic variables and expressions"
   ]
  },
  {
   "cell_type": "code",
   "execution_count": 4,
   "id": "found-tissue",
   "metadata": {},
   "outputs": [],
   "source": [
    "# Defining symbolic variables: and sympy.Simbol() and sympy.symbols()\n",
    "x = sp.Symbol('x')"
   ]
  },
  {
   "cell_type": "code",
   "execution_count": null,
   "id": "twelve-detector",
   "metadata": {},
   "outputs": [],
   "source": [
    "# Defining expressions and functions\n"
   ]
  },
  {
   "cell_type": "code",
   "execution_count": null,
   "id": "bored-fence",
   "metadata": {},
   "outputs": [],
   "source": [
    "# Defining expressions and functions\n"
   ]
  },
  {
   "cell_type": "code",
   "execution_count": null,
   "id": "interim-headline",
   "metadata": {},
   "outputs": [],
   "source": [
    "# Assigning values to variables,\n",
    "\n"
   ]
  },
  {
   "cell_type": "code",
   "execution_count": null,
   "id": "dying-penguin",
   "metadata": {},
   "outputs": [],
   "source": [
    "# Evaluating expressions/functions at some point\n",
    "\n"
   ]
  },
  {
   "cell_type": "code",
   "execution_count": null,
   "id": "wooden-strand",
   "metadata": {},
   "outputs": [],
   "source": [
    "# Plotting the function in SymPy\n"
   ]
  },
  {
   "cell_type": "markdown",
   "id": "documented-arrival",
   "metadata": {},
   "source": [
    "#### Practice: graphing functions\n",
    "* Plot the graph of the function g(x) on the range (-1.9, 1.2)"
   ]
  },
  {
   "cell_type": "code",
   "execution_count": 7,
   "id": "cultural-glucose",
   "metadata": {},
   "outputs": [
    {
     "data": {
      "image/png": "[encoded data removed]",
      "text/plain": [
       "<Figure size 432x288 with 1 Axes>"
      ]
     },
     "metadata": {
      "needs_background": "light"
     },
     "output_type": "display_data"
    },
    {
     "data": {
      "text/plain": [
       "<sympy.plotting.plot.Plot at 0x2465a7a9af0>"
      ]
     },
     "execution_count": 7,
     "metadata": {},
     "output_type": "execute_result"
    }
   ],
   "source": [
    "g = sp.Function('g', real=True)\n",
    "g = x**4 + x**3 - x**2 - 1\n",
    "\n",
    "sp.plot(g, (x, -1.9, 1.2), \n",
    "        title = 'Quartic function',\n",
    "       ylabel= 'y',\n",
    "       label = 'g(x)',\n",
    "       legend = True,\n",
    "       line_color = '#abeb34')"
   ]
  },
  {
   "cell_type": "markdown",
   "id": "surrounded-berkeley",
   "metadata": {},
   "source": [
    "### Solving equations (and systems of equations)"
   ]
  },
  {
   "cell_type": "code",
   "execution_count": 14,
   "id": "fallen-pleasure",
   "metadata": {},
   "outputs": [
    {
     "name": "stdout",
     "output_type": "stream",
     "text": [
      "[5/2]\n",
      "[-6]\n",
      "[-5*pi/6, -pi/6, pi/2]\n",
      "[{x: 0}, {x: 1}]\n"
     ]
    },
    {
     "data": {
      "text/latex": [
       "$\\displaystyle \\left\\{2 n \\pi + \\frac{\\pi}{2}\\; \\middle|\\; n \\in \\mathbb{Z}\\right\\} \\cup \\left\\{2 n \\pi + \\frac{7 \\pi}{6}\\; \\middle|\\; n \\in \\mathbb{Z}\\right\\} \\cup \\left\\{2 n \\pi + \\frac{11 \\pi}{6}\\; \\middle|\\; n \\in \\mathbb{Z}\\right\\}$"
      ],
      "text/plain": [
       "Union(ImageSet(Lambda(_n, 2*_n*pi + pi/2), Integers), ImageSet(Lambda(_n, 2*_n*pi + 7*pi/6), Integers), ImageSet(Lambda(_n, 2*_n*pi + 11*pi/6), Integers))"
      ]
     },
     "execution_count": 14,
     "metadata": {},
     "output_type": "execute_result"
    }
   ],
   "source": [
    "# Defining equations with sympy.Eq() and solving them with sympy.solve()\n",
    "\n",
    "# 2x - 1 = 4\n",
    "eq1 = sp.Eq(2*x-1, 4)\n",
    "sol1 = sp.solve(eq1)\n",
    "print(sol1)\n",
    "\n",
    "# x/3 + 2 = 0\n",
    "eq2 = sp.Eq(x/3 + 2, 0)\n",
    "sol2 = sp.solve(eq2)\n",
    "print(sol2)\n",
    "\n",
    "# sin(x) = -cos(2x)\n",
    "eq3 = sp.Eq(sp.sin(x), -sp.cos(2*x))\n",
    "sol3 = sp.solve(eq3)\n",
    "print(sol3)\n",
    "\n",
    "# x*ln(x) = 0\n",
    "sol4 = sp.solve(x*sp.log(x), 0, x) #left side, right side, variable\n",
    "print(sol4)\n",
    "\n",
    "# sin(x) = -cos(2x) -> all solutions: sympy.solveset()\n",
    "sol3_1 = sp.solveset(eq3)\n",
    "sol3_1"
   ]
  },
  {
   "cell_type": "markdown",
   "id": "later-familiar",
   "metadata": {},
   "source": [
    "#### Example: solve the following equations\n",
    "* $x^3 - 2 x^2 + 1 = 0$\n",
    "* $e^{-x^2} - e^x = 0$"
   ]
  },
  {
   "cell_type": "code",
   "execution_count": 17,
   "id": "interracial-contact",
   "metadata": {},
   "outputs": [
    {
     "name": "stdout",
     "output_type": "stream",
     "text": [
      "[1, 1/2 - sqrt(5)/2, 1/2 + sqrt(5)/2]\n",
      "[-1, 0]\n"
     ]
    }
   ],
   "source": [
    "# x^3 - 2*x^2 + 1 = 0\n",
    "eq5 = sp.Eq(x**3 - 2*x**2 + 1, 0)\n",
    "sol5 = sp.solve(eq5)\n",
    "print(sol5)\n",
    "\n",
    "# exp(-x**2) - exp(x) = 0\n",
    "eq6 = sp.Eq(sp.exp(-x**2) - sp.exp(x), 0)\n",
    "sol6 = sp.solve(eq6)\n",
    "print(sol6)"
   ]
  },
  {
   "cell_type": "markdown",
   "id": "instructional-silver",
   "metadata": {},
   "source": [
    "#### Solving systems of linear equations\n",
    "Solve the system:\n",
    "\\begin{equation}\\left\\{\n",
    "\\begin{array}{rcl}\n",
    "-5x + 7y &=& 2\\\\\n",
    "3x + 5y &=& 8\n",
    "\\end{array}\\right.\n",
    "\\end{equation}"
   ]
  },
  {
   "cell_type": "code",
   "execution_count": 18,
   "id": "agricultural-infrastructure",
   "metadata": {},
   "outputs": [
    {
     "data": {
      "text/plain": [
       "{x: 1, y: 1}"
      ]
     },
     "execution_count": 18,
     "metadata": {},
     "output_type": "execute_result"
    }
   ],
   "source": [
    "# Solving systems of linear equations\n",
    "\n",
    "x, y = sp.symbols(\"x y\")\n",
    "sys1 = sp.Eq(-5*x + 7*y, 2)\n",
    "sys2 = sp.Eq(3*x + 5*y, 8)\n",
    "sol_sys = sp.solve((sys1, sys2), (x,y))\n",
    "sol_sys"
   ]
  },
  {
   "cell_type": "markdown",
   "id": "hindu-kitty",
   "metadata": {},
   "source": [
    "#### Practice: solve the following system of linear equations:\n",
    "\\begin{equation}\\left\\{\n",
    "\\begin{array}{rcl}\n",
    "x - 2y + 3z &=& 1\\\\\n",
    "-x + 3y + 2z &=& -6\\\\\n",
    "2x + y + 3z &=& 5\n",
    "\\end{array}\\right.\n",
    "\\end{equation}"
   ]
  },
  {
   "cell_type": "code",
   "execution_count": 19,
   "id": "cellular-bangkok",
   "metadata": {},
   "outputs": [
    {
     "data": {
      "text/plain": [
       "{x: 4, y: 0, z: -1}"
      ]
     },
     "execution_count": 19,
     "metadata": {},
     "output_type": "execute_result"
    }
   ],
   "source": [
    "# Solving systems of linear equations\n",
    "\n",
    "x, y, z = sp.symbols(\"x y z\")\n",
    "\n",
    "sys1 = sp.Eq(x - 2*y + 3*z, 1)\n",
    "sys2 = sp.Eq(-x + 3*y + 2*z, -6)\n",
    "sys3 = sp.Eq(2*x + y + 3*z, 5)\n",
    "\n",
    "sol_sys = sp.solve((sys1, sys2, sys3), (x,y,z))\n",
    "sol_sys"
   ]
  },
  {
   "cell_type": "markdown",
   "id": "mature-module",
   "metadata": {},
   "source": [
    "## Differentiation of functions\n",
    "The derivative of a function $y = f(x)$, labeled as $y'$ or $f'(x)$ or $\\frac{dy}{dx}$, describes (quatifies) the **instantaneous rate of change** of the function. In other words:\n",
    "* If the derivative is positive, the function is increasing in value. Conversely, if the derivative is negative, then the function is decreasing in value\n",
    "* The greater the *number* of the derivative, the greater the rate of increasing or decreasing of the function\n",
    "\n",
    "### Examples of differentiation"
   ]
  },
  {
   "cell_type": "code",
   "execution_count": 24,
   "id": "understanding-blake",
   "metadata": {},
   "outputs": [
    {
     "data": {
      "text/latex": [
       "$\\displaystyle e^{\\sin^{2}{\\left(\\log{\\left(x \\right)} \\right)}}$"
      ],
      "text/plain": [
       "exp(sin(log(x))**2)"
      ]
     },
     "execution_count": 24,
     "metadata": {},
     "output_type": "execute_result"
    }
   ],
   "source": [
    "# Define the function f\n",
    "\n",
    "f = sp.exp(sp.sin(sp.log(x))**2)\n",
    "f"
   ]
  },
  {
   "cell_type": "code",
   "execution_count": 25,
   "id": "unknown-judges",
   "metadata": {},
   "outputs": [
    {
     "data": {
      "text/latex": [
       "$\\displaystyle \\frac{2 e^{\\sin^{2}{\\left(\\log{\\left(x \\right)} \\right)}} \\sin{\\left(\\log{\\left(x \\right)} \\right)} \\cos{\\left(\\log{\\left(x \\right)} \\right)}}{x}$"
      ],
      "text/plain": [
       "2*exp(sin(log(x))**2)*sin(log(x))*cos(log(x))/x"
      ]
     },
     "execution_count": 25,
     "metadata": {},
     "output_type": "execute_result"
    }
   ],
   "source": [
    "# Get the derivative of f\n",
    "\n",
    "\n",
    "df = f.diff()\n",
    "df"
   ]
  },
  {
   "cell_type": "code",
   "execution_count": 21,
   "id": "great-silence",
   "metadata": {},
   "outputs": [
    {
     "data": {
      "text/latex": [
       "$\\displaystyle x^{4} + x^{3} - x^{2} - 1$"
      ],
      "text/plain": [
       "x**4 + x**3 - x**2 - 1"
      ]
     },
     "execution_count": 21,
     "metadata": {},
     "output_type": "execute_result"
    }
   ],
   "source": [
    "# Recall the function g\n",
    "\n",
    "g"
   ]
  },
  {
   "cell_type": "code",
   "execution_count": 22,
   "id": "classical-spectacular",
   "metadata": {},
   "outputs": [
    {
     "data": {
      "text/latex": [
       "$\\displaystyle 4 x^{3} + 3 x^{2} - 2 x$"
      ],
      "text/plain": [
       "4*x**3 + 3*x**2 - 2*x"
      ]
     },
     "execution_count": 22,
     "metadata": {},
     "output_type": "execute_result"
    }
   ],
   "source": [
    "# Get the derivative of g\n",
    "\n",
    "dg = sp.Function(\"dg\", real=True)\n",
    "dg = g.diff()\n",
    "dg"
   ]
  },
  {
   "cell_type": "code",
   "execution_count": 28,
   "id": "guided-tribute",
   "metadata": {},
   "outputs": [
    {
     "data": {
      "text/latex": [
       "$\\displaystyle \\sin{\\left(x \\right)} + \\frac{1}{x}$"
      ],
      "text/plain": [
       "sin(x) + 1/x"
      ]
     },
     "execution_count": 28,
     "metadata": {},
     "output_type": "execute_result"
    }
   ],
   "source": [
    "# Calculate the derivative of the function h(x) = 1/x + sin(x)\n",
    "\n",
    "h = sp.Function(\"h\", real=True)\n",
    "h = 1/x + sp.sin(x)\n",
    "h"
   ]
  },
  {
   "cell_type": "code",
   "execution_count": 29,
   "id": "pressed-installation",
   "metadata": {},
   "outputs": [
    {
     "data": {
      "text/latex": [
       "$\\displaystyle \\cos{\\left(x \\right)} - \\frac{1}{x^{2}}$"
      ],
      "text/plain": [
       "cos(x) - 1/x**2"
      ]
     },
     "execution_count": 29,
     "metadata": {},
     "output_type": "execute_result"
    }
   ],
   "source": [
    "# Assign the derivative to a new function\n",
    "\n",
    "dh = sp.Function(\"dh\", real=True)\n",
    "dh = h.diff()\n",
    "dh"
   ]
  },
  {
   "cell_type": "code",
   "execution_count": 53,
   "id": "5bd1dc18-c962-46cc-b6df-e9d0efa0dcb4",
   "metadata": {},
   "outputs": [
    {
     "data": {
      "image/png": "[encoded data removed]",
      "text/plain": [
       "<Figure size 432x288 with 1 Axes>"
      ]
     },
     "metadata": {
      "needs_background": "light"
     },
     "output_type": "display_data"
    }
   ],
   "source": [
    "# Plot the function and it's derivative\n",
    "\n",
    "plot1 = sp.plot(g, (x, -5, 5), \n",
    "                title = 'Function',\n",
    "                ylabel= 'y',\n",
    "                label = 'g(x)',\n",
    "                legend = True,\n",
    "                show = False)\n",
    "\n",
    "plot2 = sp.plot(dg, (x, -5, 5), \n",
    "                title = 'Derivative',\n",
    "                #ylabel= 'y',\n",
    "                label = 'dg(x)',\n",
    "                legend = True,\n",
    "                line_color = 'purple',\n",
    "                show = False)\n",
    "\n",
    "plot1.append(plot2[0]) #graph is stored in 0 position\n",
    "plot1.show()"
   ]
  },
  {
   "cell_type": "markdown",
   "id": "honest-astronomy",
   "metadata": {},
   "source": [
    "#### Example: finding derivatives and plotting them\n",
    "* Find the derivative of $p(x) = \\sin(x^2)$, and then plot the function and its derivative on same graph on the range $(-2, 2)$\n",
    "* Find the derivative of $q(x) = e^{x}$, and then plot the function and its derivative on same graph on the range $(-2, 1.3)$\n",
    "* Find the derivative of $r(x) = e^{\\cos x}$, and then plot the function and its derivative on same graph on the range $(-2, 4)$"
   ]
  },
  {
   "cell_type": "code",
   "execution_count": 56,
   "id": "innocent-stamp",
   "metadata": {},
   "outputs": [
    {
     "data": {
      "image/png": "[encoded data removed]",
      "text/plain": [
       "<Figure size 432x288 with 1 Axes>"
      ]
     },
     "metadata": {
      "needs_background": "light"
     },
     "output_type": "display_data"
    }
   ],
   "source": [
    "# function p(x)\n",
    "\n",
    "p = sp.Function(\"p\", real=True)\n",
    "p = sp.sin(x**2)\n",
    "\n",
    "dp = sp.Function(\"dp\", real=True)\n",
    "dp = p.diff()\n",
    "\n",
    "plot3 = sp.plot(p, (x, -2, 2), \n",
    "                title = 'Function',\n",
    "                ylabel= 'y',\n",
    "                label = 'p(x)',\n",
    "                legend = True,\n",
    "                line_color = 'green',\n",
    "                show = False)\n",
    "\n",
    "plot4 = sp.plot(dp, (x, -2, 2), \n",
    "                title = 'Derivative',\n",
    "                #ylabel= 'y',\n",
    "                label = 'dp(x)',\n",
    "                legend = True,\n",
    "                line_color = 'purple',\n",
    "                show = False)\n",
    "\n",
    "plot3.append(plot4[0]) #graph is stored in 0 position\n",
    "plot3.show()"
   ]
  },
  {
   "cell_type": "code",
   "execution_count": 61,
   "id": "laughing-sapphire",
   "metadata": {},
   "outputs": [
    {
     "data": {
      "image/png": "[encoded data removed]",
      "text/plain": [
       "<Figure size 432x288 with 1 Axes>"
      ]
     },
     "metadata": {
      "needs_background": "light"
     },
     "output_type": "display_data"
    },
    {
     "data": {
      "text/latex": [
       "$\\displaystyle e^{x}$"
      ],
      "text/plain": [
       "exp(x)"
      ]
     },
     "execution_count": 61,
     "metadata": {},
     "output_type": "execute_result"
    }
   ],
   "source": [
    "# function q(x)\n",
    "\n",
    "q = sp.Function(\"q\", real=True)\n",
    "q = sp.exp(x)\n",
    "\n",
    "dq = sp.Function(\"dq\", real=True)\n",
    "dq = q.diff()\n",
    "\n",
    "plot5 = sp.plot(q, (x, -2, 1.3), \n",
    "                title = 'Function',\n",
    "                ylabel= 'y',\n",
    "                label = 'q(x)',\n",
    "                legend = True,\n",
    "                line_color = 'green',\n",
    "                show = False)\n",
    "\n",
    "plot6 = sp.plot(dq, (x, -2, 1.3), \n",
    "                title = 'Derivative',\n",
    "                #ylabel= 'y',\n",
    "                label = 'dq(x)',\n",
    "                legend = True,\n",
    "                line_color = 'purple',\n",
    "                show = False)\n",
    "\n",
    "plot5.append(plot6[0]) #graph is stored in 0 position\n",
    "plot5.show()"
   ]
  },
  {
   "cell_type": "code",
   "execution_count": 63,
   "id": "silent-comedy",
   "metadata": {},
   "outputs": [
    {
     "data": {
      "image/png": "[encoded data removed]",
      "text/plain": [
       "<Figure size 432x288 with 1 Axes>"
      ]
     },
     "metadata": {
      "needs_background": "light"
     },
     "output_type": "display_data"
    }
   ],
   "source": [
    "# function r(x)\n",
    "\n",
    "r = sp.Function(\"r\", real=True)\n",
    "r = sp.exp(sp.cos(x))\n",
    "\n",
    "dr = sp.Function(\"dr\", real=True)\n",
    "dr = r.diff()\n",
    "\n",
    "plot7 = sp.plot(r, (x, -2, 4), \n",
    "                title = 'Function',\n",
    "                ylabel= 'y',\n",
    "                label = 'r(x)',\n",
    "                legend = True,\n",
    "                line_color = 'green',\n",
    "                show = False)\n",
    "\n",
    "plot8 = sp.plot(dr, (x, -2, 4), \n",
    "                title = 'Derivative',\n",
    "                #ylabel= 'y',\n",
    "                label = 'dr(x)',\n",
    "                legend = True,\n",
    "                line_color = 'purple',\n",
    "                show = False)\n",
    "\n",
    "plot7.append(plot8[0]) #graph is stored in 0 position\n",
    "plot7.show()"
   ]
  },
  {
   "cell_type": "code",
   "execution_count": null,
   "id": "c6e69c24-54cd-492b-bf79-0c574662f6e6",
   "metadata": {},
   "outputs": [],
   "source": []
  }
 ],
 "metadata": {
  "kernelspec": {
   "display_name": "Python 3",
   "language": "python",
   "name": "python3"
  },
  "language_info": {
   "codemirror_mode": {
    "name": "ipython",
    "version": 3
   },
   "file_extension": ".py",
   "mimetype": "text/x-python",
   "name": "python",
   "nbconvert_exporter": "python",
   "pygments_lexer": "ipython3",
   "version": "3.8.8"
  }
 },
 "nbformat": 4,
 "nbformat_minor": 5
}
