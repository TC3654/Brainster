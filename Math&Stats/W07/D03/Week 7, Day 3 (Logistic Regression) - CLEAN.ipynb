{
 "cells": [
  {
   "cell_type": "markdown",
   "id": "frank-preference",
   "metadata": {},
   "source": [
    "# Week 7: Regression"
   ]
  },
  {
   "cell_type": "code",
   "execution_count": null,
   "id": "distributed-quarterly",
   "metadata": {},
   "outputs": [],
   "source": [
    "# Loading the libraries\n",
    "import numpy as np\n",
    "import pandas as pd\n",
    "import matplotlib.pyplot as plt\n",
    "import seaborn as sns\n",
    "from sklearn.linear_model import LinearRegression, LogisticRegression\n",
    "from sklearn.preprocessing import OrdinalEncoder\n",
    "from sklearn.metrics import confusion_matrix, plot_confusion_matrix\n",
    "\n",
    "# Great content about what to be careful about in linear regression modeling\n",
    "# Update scikit-learn with:\n",
    "# pip install -U scikit-learn"
   ]
  },
  {
   "cell_type": "markdown",
   "id": "atlantic-april",
   "metadata": {},
   "source": [
    "## Day 3: Logistic Regression\n",
    "The final step in our adventure with regression models is the **logistic regression**.\n",
    "\n",
    "Unlike the linear and nonlinear regression models which return predicted values in infinite intervals (at least in theory), the logistic regression is set up in such a way that it returns values in the interval $(0, 1)$, regardles of the size of the inputs. This makes the logistic model a great candidate for application in **classification problems** where the outcome is a categorical variable.\n",
    "\n",
    "Today we use the logistic regression to model probability in *binary classification problems* in which the target variable has only two classes. We choose one class that we target, and label it by $1$; the remaining data is labeled by $0$.\n",
    "\n",
    "The logistic regression is uses the **logit function**, also known as **sigmoid function** to build the model. This function is given by:\n",
    "\\begin{equation} f(x) = \\frac{1}{1 + e^{-x}} \\quad \\text{or} \\quad f(x) = \\frac{e^x}{e^x + 1}\\end{equation}\n",
    "Here is the graph of the function:"
   ]
  },
  {
   "cell_type": "code",
   "execution_count": null,
   "id": "clear-league",
   "metadata": {},
   "outputs": [],
   "source": [
    "f = lambda x: 1/(1+np.exp(-x))\n",
    "xs = np.linspace(-10, 10, 1000)\n",
    "plt.figure()\n",
    "plt.plot(xs, f(xs))\n",
    "plt.show()"
   ]
  },
  {
   "cell_type": "markdown",
   "id": "destroyed-shooting",
   "metadata": {},
   "source": [
    "To construct the logistic regression model, first we must encode the target variable, one category with 1, the other with 0 (the efficiency of the model will be the same regrdless of the choice). Then the coefficients of the actual model are obtained in a *least squares* proces similar to the one we described in the case of linear regression.\n",
    "\n",
    "Once we obtain the model, we can perform the classification based on the probability $p$ that the model gives us:\n",
    "* If $p \\geqslant 0.5$, then classify the input as category $1$\n",
    "* If $p < 0.5$, then classify the input as category $0$\n",
    "\n",
    "Let's illustrate this on some examples."
   ]
  },
  {
   "cell_type": "markdown",
   "id": "american-loading",
   "metadata": {},
   "source": [
    "### Example 1\n",
    "The data in `premium_membership.csv` contain info about the hourly wage of people and whether they have paid for premium membership for some service.\n",
    "* Build a logistic classification model based on which classification can be performed\n",
    "* Plot the data and the model to informally establish if the model is useful\n",
    "* Make predictions and compare them to the actual data"
   ]
  },
  {
   "cell_type": "code",
   "execution_count": null,
   "id": "imposed-texture",
   "metadata": {},
   "outputs": [],
   "source": [
    "# Load the data\n",
    "\n",
    "\n",
    "# Plot the data\n"
   ]
  },
  {
   "cell_type": "code",
   "execution_count": null,
   "id": "incident-iceland",
   "metadata": {},
   "outputs": [],
   "source": [
    "# Build the model\n",
    "\n",
    "\n",
    "# Plotting data and model on the same graph\n"
   ]
  },
  {
   "cell_type": "code",
   "execution_count": null,
   "id": "extra-exhaust",
   "metadata": {},
   "outputs": [],
   "source": [
    "# Making predictions\n",
    "\n",
    "\n",
    "# Comparing y and y_pred\n",
    "\n",
    "\n",
    "# Stating the score\n"
   ]
  },
  {
   "cell_type": "markdown",
   "id": "australian-dietary",
   "metadata": {},
   "source": [
    "### Example 2\n",
    "The file `train_gender.csv` contains data about the height, weight and gender of some number of people. The goal is to come up with a model that can predict the gender of a person based on the other variables. The models you build should be tested on the data given in `test_gender.csv`\n",
    "* Transform the target variable in a form that can be used by the logistic model\n",
    "* Build a model for predicting the gender using height\n",
    "* Build a second model for predicting the gender using weight\n",
    "* Finally, build a model for predicting the gender using both height and weight"
   ]
  },
  {
   "cell_type": "code",
   "execution_count": null,
   "id": "arbitrary-pendant",
   "metadata": {},
   "outputs": [],
   "source": [
    "# Load the data\n",
    "df_train = pd.read_csv('train_gender.csv')\n",
    "df_test = pd.read_csv('test_gender.csv')\n",
    "\n",
    "# Encoding the target variable\n",
    "\n",
    "\n",
    "# Display the data"
   ]
  },
  {
   "cell_type": "markdown",
   "id": "directed-recipient",
   "metadata": {},
   "source": [
    "#### Model based on height"
   ]
  },
  {
   "cell_type": "code",
   "execution_count": null,
   "id": "intellectual-liability",
   "metadata": {},
   "outputs": [],
   "source": [
    "# Preparing the data for train and test\n",
    "\n",
    "\n",
    "# Building the model based on height\n",
    "\n",
    "\n",
    "#plotting data and model on the same graph\n",
    "\n",
    "\n",
    "\n",
    "# Making predictions, and evaluate the model\n",
    "print('Evaluating the model on the TRAIN data (no very telling):')\n",
    "plot_confusion_matrix()\n",
    "print('Accuracy: ', )\n",
    "\n",
    "print('Evaluating the model on the TEST data (appropriate):')\n",
    "plot_confusion_matrix()\n",
    "print('Accuracy: ', )"
   ]
  },
  {
   "cell_type": "markdown",
   "id": "automotive-above",
   "metadata": {},
   "source": [
    "#### Model based on weight"
   ]
  },
  {
   "cell_type": "code",
   "execution_count": null,
   "id": "lightweight-kingdom",
   "metadata": {},
   "outputs": [],
   "source": [
    "# Preparing the data for train and test\n",
    "\n",
    "\n",
    "# Building the model based on height\n",
    "\n",
    "\n",
    "#plotting data and model on the same graph\n",
    "\n",
    "\n",
    "\n",
    "# Making predictions, and evaluate the model\n",
    "print('Evaluating the model on the TRAIN data (no very telling):')\n",
    "plot_confusion_matrix()\n",
    "print('Accuracy: ', )\n",
    "\n",
    "print('Evaluating the model on the TEST data (appropriate):')\n",
    "plot_confusion_matrix()\n",
    "print('Accuracy: ', )"
   ]
  },
  {
   "cell_type": "markdown",
   "id": "extreme-version",
   "metadata": {},
   "source": [
    "#### Model based on height and weight"
   ]
  },
  {
   "cell_type": "code",
   "execution_count": null,
   "id": "residential-evanescence",
   "metadata": {},
   "outputs": [],
   "source": [
    "# Preparing the data for train and test\n",
    "\n",
    "\n",
    "# Building the model based on height\n",
    "\n",
    "\n",
    "#plotting data and model on the same graph\n",
    "\n",
    "\n",
    "\n",
    "# Making predictions, and evaluate the model\n",
    "print('Evaluating the model on the TRAIN data (no very telling):')\n",
    "plot_confusion_matrix()\n",
    "print('Accuracy: ', )\n",
    "\n",
    "print('Evaluating the model on the TEST data (appropriate):')\n",
    "plot_confusion_matrix()\n",
    "print('Accuracy: ', )"
   ]
  },
  {
   "cell_type": "markdown",
   "id": "surprising-advocacy",
   "metadata": {},
   "source": [
    "#### Plotting the model based on height and weight"
   ]
  },
  {
   "cell_type": "code",
   "execution_count": null,
   "id": "numeric-acquisition",
   "metadata": {},
   "outputs": [],
   "source": [
    "# Full code will be shared :)"
   ]
  }
 ],
 "metadata": {
  "kernelspec": {
   "display_name": "Python 3",
   "language": "python",
   "name": "python3"
  },
  "language_info": {
   "codemirror_mode": {
    "name": "ipython",
    "version": 3
   },
   "file_extension": ".py",
   "mimetype": "text/x-python",
   "name": "python",
   "nbconvert_exporter": "python",
   "pygments_lexer": "ipython3",
   "version": "3.8.8"
  }
 },
 "nbformat": 4,
 "nbformat_minor": 5
}
