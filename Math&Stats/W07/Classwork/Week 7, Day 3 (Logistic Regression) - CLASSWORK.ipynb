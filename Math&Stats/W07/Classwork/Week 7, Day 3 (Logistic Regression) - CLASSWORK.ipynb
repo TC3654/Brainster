{
 "cells": [
  {
   "cell_type": "markdown",
   "id": "frank-preference",
   "metadata": {},
   "source": [
    "# Week 7: Regression"
   ]
  },
  {
   "cell_type": "code",
   "execution_count": 1,
   "id": "distributed-quarterly",
   "metadata": {},
   "outputs": [],
   "source": [
    "# Loading the libraries\n",
    "import numpy as np\n",
    "import pandas as pd\n",
    "import matplotlib.pyplot as plt\n",
    "import seaborn as sns\n",
    "from sklearn.linear_model import LinearRegression, LogisticRegression\n",
    "from sklearn.preprocessing import OrdinalEncoder\n",
    "from sklearn.metrics import confusion_matrix, plot_confusion_matrix\n",
    "\n",
    "# Great content about what to be careful about in linear regression modeling\n",
    "# Update scikit-learn with:\n",
    "# pip install -U scikit-learn"
   ]
  },
  {
   "cell_type": "markdown",
   "id": "atlantic-april",
   "metadata": {},
   "source": [
    "## Day 3: Logistic Regression\n",
    "The final step in our adventure with regression models is the **logistic regression**.\n",
    "\n",
    "Unlike the linear and nonlinear regression models which return predicted values in infinite intervals (at least in theory), the logistic regression is set up in such a way that it returns values in the interval $(0, 1)$, regardles of the size of the inputs. This makes the logistic model a great candidate for application in **classification problems** where the outcome is a categorical variable.\n",
    "\n",
    "Today we use the logistic regression to model probability in *binary classification problems* in which the target variable has only two classes. We choose one class that we target, and label it by $1$; the remaining data is labeled by $0$.\n",
    "\n",
    "The logistic regression is uses the **logit function**, also known as **sigmoid function** to build the model. This function is given by:\n",
    "\\begin{equation} f(x) = \\frac{1}{1 + e^{-x}} \\quad \\text{or} \\quad f(x) = \\frac{e^x}{e^x + 1}\\end{equation}\n",
    "Here is the graph of the function:"
   ]
  },
  {
   "cell_type": "code",
   "execution_count": 2,
   "id": "clear-league",
   "metadata": {},
   "outputs": [
    {
     "data": {
      "image/png": "[encoded data removed]",
      "text/plain": [
       "<Figure size 432x288 with 1 Axes>"
      ]
     },
     "metadata": {
      "needs_background": "light"
     },
     "output_type": "display_data"
    }
   ],
   "source": [
    "f = lambda x: 1/(1+np.exp(-x))\n",
    "xs = np.linspace(-10, 10, 1000)\n",
    "plt.figure()\n",
    "plt.plot(xs, f(xs))\n",
    "plt.show()"
   ]
  },
  {
   "cell_type": "markdown",
   "id": "destroyed-shooting",
   "metadata": {},
   "source": [
    "To construct the logistic regression model, first we must encode the target variable, one category with 1, the other with 0 (the efficiency of the model will be the same regrdless of the choice). Then the coefficients of the actual model are obtained in a *least squares* proces similar to the one we described in the case of linear regression.\n",
    "\n",
    "Once we obtain the model, we can perform the classification based on the probability $p$ that the model gives us:\n",
    "* If $p \\geqslant 0.5$, then classify the input as category $1$\n",
    "* If $p < 0.5$, then classify the input as category $0$\n",
    "\n",
    "Let's illustrate this on some examples."
   ]
  },
  {
   "cell_type": "markdown",
   "id": "american-loading",
   "metadata": {},
   "source": [
    "### Example 1\n",
    "The data in `premium_membership.csv` contain info about the hourly wage of people and whether they have paid for premium membership for some service.\n",
    "* Build a logistic classification model based on which classification can be performed\n",
    "* Plot the data and the model to informally establish if the model is useful\n",
    "* Make predictions and compare them to the actual data"
   ]
  },
  {
   "cell_type": "code",
   "execution_count": 7,
   "id": "imposed-texture",
   "metadata": {},
   "outputs": [
    {
     "data": {
      "text/html": [
       "<div>\n",
       "<style scoped>\n",
       "    .dataframe tbody tr th:only-of-type {\n",
       "        vertical-align: middle;\n",
       "    }\n",
       "\n",
       "    .dataframe tbody tr th {\n",
       "        vertical-align: top;\n",
       "    }\n",
       "\n",
       "    .dataframe thead th {\n",
       "        text-align: right;\n",
       "    }\n",
       "</style>\n",
       "<table border=\"1\" class=\"dataframe\">\n",
       "  <thead>\n",
       "    <tr style=\"text-align: right;\">\n",
       "      <th></th>\n",
       "      <th>hourly_wage</th>\n",
       "      <th>premium_membership</th>\n",
       "    </tr>\n",
       "  </thead>\n",
       "  <tbody>\n",
       "    <tr>\n",
       "      <th>9</th>\n",
       "      <td>22.7</td>\n",
       "      <td>1</td>\n",
       "    </tr>\n",
       "    <tr>\n",
       "      <th>10</th>\n",
       "      <td>21.5</td>\n",
       "      <td>1</td>\n",
       "    </tr>\n",
       "    <tr>\n",
       "      <th>11</th>\n",
       "      <td>19.5</td>\n",
       "      <td>1</td>\n",
       "    </tr>\n",
       "    <tr>\n",
       "      <th>12</th>\n",
       "      <td>17.0</td>\n",
       "      <td>1</td>\n",
       "    </tr>\n",
       "    <tr>\n",
       "      <th>13</th>\n",
       "      <td>15.6</td>\n",
       "      <td>1</td>\n",
       "    </tr>\n",
       "  </tbody>\n",
       "</table>\n",
       "</div>"
      ],
      "text/plain": [
       "    hourly_wage  premium_membership\n",
       "9          22.7                   1\n",
       "10         21.5                   1\n",
       "11         19.5                   1\n",
       "12         17.0                   1\n",
       "13         15.6                   1"
      ]
     },
     "metadata": {},
     "output_type": "display_data"
    },
    {
     "data": {
      "text/plain": [
       "<AxesSubplot:xlabel='hourly_wage', ylabel='premium_membership'>"
      ]
     },
     "execution_count": 7,
     "metadata": {},
     "output_type": "execute_result"
    },
    {
     "data": {
      "image/png": "[encoded data removed]",
      "text/plain": [
       "<Figure size 432x288 with 1 Axes>"
      ]
     },
     "metadata": {
      "needs_background": "light"
     },
     "output_type": "display_data"
    }
   ],
   "source": [
    "# P(get a 6) = 1/6, P(not a 6) = 5/6\n",
    "# odds(get a 6) = P(get a 6) / P(not a 6) = (1/6) / (5/6) = 1/5 = 1 : 5 -> (0, inf)\n",
    "\n",
    "# Load the data\n",
    "df = pd.read_csv('premium_membership.csv')\n",
    "display(df.tail())\n",
    "\n",
    "# Plot the data\n",
    "sns.scatterplot(data=df, x='hourly_wage', y='premium_membership')"
   ]
  },
  {
   "cell_type": "code",
   "execution_count": 15,
   "id": "incident-iceland",
   "metadata": {},
   "outputs": [
    {
     "data": {
      "image/png": "[encoded data removed]",
      "text/plain": [
       "<Figure size 432x288 with 1 Axes>"
      ]
     },
     "metadata": {
      "needs_background": "light"
     },
     "output_type": "display_data"
    }
   ],
   "source": [
    "# Get the data in appropriate format\n",
    "X = df['hourly_wage'].to_numpy().reshape(-1, 1)\n",
    "y = df['premium_membership'].to_numpy()\n",
    "\n",
    "# Build the model\n",
    "model = LogisticRegression().fit(X, y)\n",
    "\n",
    "# Plotting data and model on the same graph\n",
    "xs = np.linspace(10, 26, 1000).reshape(-1, 1)\n",
    "ys = model.predict_proba(xs)\n",
    "\n",
    "plt.figure()\n",
    "plt.scatter(X, y)\n",
    "plt.plot(xs, ys[:, 1], c='r')\n",
    "plt.hlines(0.5, 16, 22, colors='k')\n",
    "plt.show()"
   ]
  },
  {
   "cell_type": "code",
   "execution_count": 22,
   "id": "extra-exhaust",
   "metadata": {},
   "outputs": [
    {
     "name": "stdout",
     "output_type": "stream",
     "text": [
      "[[5 2]\n",
      " [2 5]]\n",
      "score =  0.7142857142857143\n"
     ]
    },
    {
     "data": {
      "image/png": "[encoded data removed]",
      "text/plain": [
       "<Figure size 432x288 with 2 Axes>"
      ]
     },
     "metadata": {
      "needs_background": "light"
     },
     "output_type": "display_data"
    }
   ],
   "source": [
    "# Making predictions\n",
    "y_pred = model.predict(X)\n",
    "\n",
    "# Comparing y and y_pred\n",
    "# confusion matrix: print or plot\n",
    "print(confusion_matrix(y, y_pred))\n",
    "\n",
    "plot_confusion_matrix(model, X, y, normalize='true')\n",
    "\n",
    "# Stating the score\n",
    "score = model.score(X, y)\n",
    "print('score = ', score)"
   ]
  },
  {
   "cell_type": "markdown",
   "id": "australian-dietary",
   "metadata": {},
   "source": [
    "### Example 2\n",
    "The file `train_gender.csv` contains data about the height, weight and gender of some number of people. The goal is to come up with a model that can predict the gender of a person based on the other variables. The models you build should be tested on the data given in `test_gender.csv`\n",
    "* Transform the target variable in a form that can be used by the logistic model\n",
    "* Build a model for predicting the gender using height\n",
    "* Build a second model for predicting the gender using weight\n",
    "* Finally, build a model for predicting the gender using both height and weight"
   ]
  },
  {
   "cell_type": "code",
   "execution_count": 28,
   "id": "arbitrary-pendant",
   "metadata": {},
   "outputs": [
    {
     "data": {
      "text/html": [
       "<div>\n",
       "<style scoped>\n",
       "    .dataframe tbody tr th:only-of-type {\n",
       "        vertical-align: middle;\n",
       "    }\n",
       "\n",
       "    .dataframe tbody tr th {\n",
       "        vertical-align: top;\n",
       "    }\n",
       "\n",
       "    .dataframe thead th {\n",
       "        text-align: right;\n",
       "    }\n",
       "</style>\n",
       "<table border=\"1\" class=\"dataframe\">\n",
       "  <thead>\n",
       "    <tr style=\"text-align: right;\">\n",
       "      <th></th>\n",
       "      <th>height</th>\n",
       "      <th>weight</th>\n",
       "      <th>gender</th>\n",
       "      <th>target</th>\n",
       "    </tr>\n",
       "  </thead>\n",
       "  <tbody>\n",
       "    <tr>\n",
       "      <th>0</th>\n",
       "      <td>175.6</td>\n",
       "      <td>93.8</td>\n",
       "      <td>M</td>\n",
       "      <td>1.0</td>\n",
       "    </tr>\n",
       "    <tr>\n",
       "      <th>1</th>\n",
       "      <td>179.2</td>\n",
       "      <td>89.2</td>\n",
       "      <td>M</td>\n",
       "      <td>1.0</td>\n",
       "    </tr>\n",
       "    <tr>\n",
       "      <th>2</th>\n",
       "      <td>163.7</td>\n",
       "      <td>72.1</td>\n",
       "      <td>M</td>\n",
       "      <td>1.0</td>\n",
       "    </tr>\n",
       "    <tr>\n",
       "      <th>3</th>\n",
       "      <td>190.5</td>\n",
       "      <td>103.0</td>\n",
       "      <td>M</td>\n",
       "      <td>1.0</td>\n",
       "    </tr>\n",
       "    <tr>\n",
       "      <th>4</th>\n",
       "      <td>185.8</td>\n",
       "      <td>88.0</td>\n",
       "      <td>M</td>\n",
       "      <td>1.0</td>\n",
       "    </tr>\n",
       "  </tbody>\n",
       "</table>\n",
       "</div>"
      ],
      "text/plain": [
       "   height  weight gender  target\n",
       "0   175.6    93.8      M     1.0\n",
       "1   179.2    89.2      M     1.0\n",
       "2   163.7    72.1      M     1.0\n",
       "3   190.5   103.0      M     1.0\n",
       "4   185.8    88.0      M     1.0"
      ]
     },
     "execution_count": 28,
     "metadata": {},
     "output_type": "execute_result"
    }
   ],
   "source": [
    "# Load the data\n",
    "df_train = pd.read_csv('train_gender.csv')\n",
    "df_test = pd.read_csv('test_gender.csv')\n",
    "\n",
    "# Encoding the target variable\n",
    "enc = OrdinalEncoder().fit(df_train['gender'].to_numpy().reshape(-1, 1))\n",
    "df_train['target'] = enc.transform(df_train['gender'].to_numpy().reshape(-1, 1))\n",
    "df_test['target'] = enc.transform(df_test['gender'].to_numpy().reshape(-1, 1))\n",
    "\n",
    "\n",
    "# Display the data\n",
    "df_test.head()"
   ]
  },
  {
   "cell_type": "markdown",
   "id": "directed-recipient",
   "metadata": {},
   "source": [
    "#### Model based on height"
   ]
  },
  {
   "cell_type": "code",
   "execution_count": 32,
   "id": "intellectual-liability",
   "metadata": {},
   "outputs": [
    {
     "data": {
      "image/png": "[encoded data removed]",
      "text/plain": [
       "<Figure size 432x288 with 1 Axes>"
      ]
     },
     "metadata": {
      "needs_background": "light"
     },
     "output_type": "display_data"
    },
    {
     "name": "stdout",
     "output_type": "stream",
     "text": [
      "Evaluating the model on the TRAIN data (no very telling):\n",
      "Accuracy:  0.7833333333333333\n",
      "Evaluating the model on the TEST data (appropriate):\n",
      "Accuracy:  0.8\n"
     ]
    },
    {
     "data": {
      "image/png": "[encoded data removed]",
      "text/plain": [
       "<Figure size 432x288 with 2 Axes>"
      ]
     },
     "metadata": {
      "needs_background": "light"
     },
     "output_type": "display_data"
    },
    {
     "data": {
      "image/png": "[encoded data removed]",
      "text/plain": [
       "<Figure size 432x288 with 2 Axes>"
      ]
     },
     "metadata": {
      "needs_background": "light"
     },
     "output_type": "display_data"
    }
   ],
   "source": [
    "# Preparing the data for train and test\n",
    "X_h_train = df_train['height'].to_numpy().reshape(-1, 1)\n",
    "y_train = df_train['target'].to_numpy()\n",
    "\n",
    "X_h_test = df_test['height'].to_numpy().reshape(-1, 1)\n",
    "y_test = df_test['target'].to_numpy()\n",
    "\n",
    "\n",
    "# Building the model based on height\n",
    "model_h = LogisticRegression().fit(X_h_train, y_train)\n",
    "\n",
    "#plotting data and model on the same graph\n",
    "xs = np.linspace(np.min(X_h_train), np.max(X_h_train), 1000)\n",
    "ys = model_h.predict_proba(xs.reshape(-1, 1))\n",
    "\n",
    "plt.figure()\n",
    "plt.scatter(X_h_train, y_train)\n",
    "plt.plot(xs, ys[:, 1], c='r')\n",
    "plt.show()\n",
    "\n",
    "\n",
    "# Making predictions, and evaluate the model\n",
    "print('Evaluating the model on the TRAIN data (no very telling):')\n",
    "plot_confusion_matrix(model_h, X_h_train, y_train)\n",
    "print('Accuracy: ', model_h.score(X_h_train, y_train))\n",
    "\n",
    "print('Evaluating the model on the TEST data (appropriate):')\n",
    "plot_confusion_matrix(model_h, X_h_test, y_test)\n",
    "print('Accuracy: ', model_h.score(X_h_test, y_test))"
   ]
  },
  {
   "cell_type": "markdown",
   "id": "automotive-above",
   "metadata": {},
   "source": [
    "#### Model based on weight"
   ]
  },
  {
   "cell_type": "code",
   "execution_count": 33,
   "id": "lightweight-kingdom",
   "metadata": {},
   "outputs": [
    {
     "data": {
      "image/png": "[encoded data removed]",
      "text/plain": [
       "<Figure size 432x288 with 1 Axes>"
      ]
     },
     "metadata": {
      "needs_background": "light"
     },
     "output_type": "display_data"
    },
    {
     "name": "stdout",
     "output_type": "stream",
     "text": [
      "Evaluating the model on the TRAIN data (no very telling):\n",
      "Accuracy:  0.9166666666666666\n",
      "Evaluating the model on the TEST data (appropriate):\n",
      "Accuracy:  0.85\n"
     ]
    },
    {
     "data": {
      "image/png": "[encoded data removed]",
      "text/plain": [
       "<Figure size 432x288 with 2 Axes>"
      ]
     },
     "metadata": {
      "needs_background": "light"
     },
     "output_type": "display_data"
    },
    {
     "data": {
      "image/png": "[encoded data removed]",
      "text/plain": [
       "<Figure size 432x288 with 2 Axes>"
      ]
     },
     "metadata": {
      "needs_background": "light"
     },
     "output_type": "display_data"
    }
   ],
   "source": [
    "# Preparing the data for train and test\n",
    "X_w_train = df_train['weight'].to_numpy().reshape(-1, 1)\n",
    "\n",
    "X_w_test = df_test['weight'].to_numpy().reshape(-1, 1)\n",
    "\n",
    "\n",
    "# Building the model based on height\n",
    "model_w = LogisticRegression().fit(X_w_train, y_train)\n",
    "\n",
    "#plotting data and model on the same graph\n",
    "xs = np.linspace(np.min(X_w_train), np.max(X_w_train), 1000)\n",
    "ys = model_w.predict_proba(xs.reshape(-1, 1))\n",
    "\n",
    "plt.figure()\n",
    "plt.scatter(X_w_train, y_train)\n",
    "plt.plot(xs, ys[:, 1], c='r')\n",
    "plt.show()\n",
    "\n",
    "\n",
    "# Making predictions, and evaluate the model\n",
    "print('Evaluating the model on the TRAIN data (no very telling):')\n",
    "plot_confusion_matrix(model_w, X_w_train, y_train)\n",
    "print('Accuracy: ', model_w.score(X_w_train, y_train))\n",
    "\n",
    "print('Evaluating the model on the TEST data (appropriate):')\n",
    "plot_confusion_matrix(model_w, X_w_test, y_test)\n",
    "print('Accuracy: ', model_w.score(X_w_test, y_test))"
   ]
  },
  {
   "cell_type": "markdown",
   "id": "extreme-version",
   "metadata": {},
   "source": [
    "#### Model based on height and weight"
   ]
  },
  {
   "cell_type": "code",
   "execution_count": 34,
   "id": "residential-evanescence",
   "metadata": {},
   "outputs": [
    {
     "name": "stdout",
     "output_type": "stream",
     "text": [
      "Evaluating the model on the TRAIN data (no very telling):\n",
      "Accuracy:  0.9833333333333333\n",
      "Evaluating the model on the TEST data (appropriate):\n",
      "Accuracy:  0.9\n"
     ]
    },
    {
     "data": {
      "image/png": "[encoded data removed]",
      "text/plain": [
       "<Figure size 432x288 with 2 Axes>"
      ]
     },
     "metadata": {
      "needs_background": "light"
     },
     "output_type": "display_data"
    },
    {
     "data": {
      "image/png": "[encoded data removed]",
      "text/plain": [
       "<Figure size 432x288 with 2 Axes>"
      ]
     },
     "metadata": {
      "needs_background": "light"
     },
     "output_type": "display_data"
    }
   ],
   "source": [
    "# Preparing the data for train and test\n",
    "X_hw_train = df_train[['height', 'weight']].to_numpy()\n",
    "X_hw_test = df_test[['height', 'weight']].to_numpy()\n",
    "\n",
    "\n",
    "# Building the model based on height\n",
    "model_hw = LogisticRegression().fit(X_hw_train, y_train)\n",
    "\n",
    "\n",
    "# #plotting data and model on the same graph\n",
    "print('Evaluating the model on the TRAIN data (no very telling):')\n",
    "plot_confusion_matrix(model_hw, X_hw_train, y_train)\n",
    "print('Accuracy: ', model_hw.score(X_hw_train, y_train))\n",
    "\n",
    "print('Evaluating the model on the TEST data (appropriate):')\n",
    "plot_confusion_matrix(model_hw, X_hw_test, y_test)\n",
    "print('Accuracy: ',  model_hw.score(X_hw_test, y_test))"
   ]
  },
  {
   "cell_type": "markdown",
   "id": "surprising-advocacy",
   "metadata": {},
   "source": [
    "#### Plotting the model based on height and weight"
   ]
  },
  {
   "cell_type": "code",
   "execution_count": 36,
   "id": "numeric-acquisition",
   "metadata": {},
   "outputs": [
    {
     "data": {
      "application/vnd.jupyter.widget-view+json": {
       "model_id": "2ccaba99a5404c21892bfeb3868b153e",
       "version_major": 2,
       "version_minor": 0
      },
      "text/plain": [
       "Canvas(toolbar=Toolbar(toolitems=[('Home', 'Reset original view', 'home', 'home'), ('Back', 'Back to previous …"
      ]
     },
     "metadata": {},
     "output_type": "display_data"
    }
   ],
   "source": [
    "%matplotlib widget\n",
    "# Color-coding the gender data for the 3D scatter plot\n",
    "xm = df_train.loc[df_train['gender'] == 'M']['height']\n",
    "ym = df_train.loc[df_train['gender'] == 'M']['weight']\n",
    "zm = df_train.loc[df_train['gender'] == 'M']['target']\n",
    "\n",
    "xf = df_train.loc[df_train['gender'] == 'F']['height']\n",
    "yf = df_train.loc[df_train['gender'] == 'F']['weight']\n",
    "zf = df_train.loc[df_train['gender'] == 'F']['target']\n",
    "\n",
    "# Creating the surface for the model\n",
    "xs = np.linspace(X_hw_train[:,0].min(), X_hw_train[:,0].max(), 1000)\n",
    "ys = np.linspace(X_hw_train[:,1].min(), X_hw_train[:,1].max(), 1000)\n",
    "xs, ys = np.meshgrid(xs, ys)\n",
    "\n",
    "b_0 = model_hw.intercept_[0]\n",
    "b_h = model_hw.coef_[0][0]\n",
    "b_w = model_hw.coef_[0][1]\n",
    "zs = 1/(1 + np.exp(b_0 + b_h*xs + b_w*ys))\n",
    "\n",
    "from matplotlib.colors import LinearSegmentedColormap\n",
    "my_cmap = LinearSegmentedColormap.from_list('mycmap', ['tab:orange', 'tab:blue'])\n",
    "\n",
    "fig = plt.figure(figsize=(8,8))\n",
    "ax2 = fig.add_subplot(111, projection='3d')\n",
    "ax2.plot_surface(xs, ys, zs, cmap=my_cmap, alpha=0.5)\n",
    "ax2.scatter(xm, ym, zm, marker='o', s=40, label = 'Males')\n",
    "ax2.scatter(xf, yf, zf, marker='^', s=40, label = 'Females')\n",
    "ax2.set_xlabel('height')\n",
    "ax2.set_ylabel('weight')\n",
    "ax2.set_zlabel('P(M)')\n",
    "ax2.legend(loc='lower right')\n",
    "plt.show()"
   ]
  },
  {
   "cell_type": "code",
   "execution_count": null,
   "id": "09dc6a52-5a40-4439-8d3d-3d81a86a2639",
   "metadata": {},
   "outputs": [],
   "source": []
  }
 ],
 "metadata": {
  "kernelspec": {
   "display_name": "Python 3",
   "language": "python",
   "name": "python3"
  },
  "language_info": {
   "codemirror_mode": {
    "name": "ipython",
    "version": 3
   },
   "file_extension": ".py",
   "mimetype": "text/x-python",
   "name": "python",
   "nbconvert_exporter": "python",
   "pygments_lexer": "ipython3",
   "version": "3.8.8"
  }
 },
 "nbformat": 4,
 "nbformat_minor": 5
}
