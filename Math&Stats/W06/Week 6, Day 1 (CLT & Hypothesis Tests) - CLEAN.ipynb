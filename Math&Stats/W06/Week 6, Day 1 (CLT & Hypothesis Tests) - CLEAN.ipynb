{
 "cells": [
  {
   "cell_type": "markdown",
   "id": "composed-abuse",
   "metadata": {
    "id": "composed-abuse"
   },
   "source": [
    "# Week 6: Inferential Statistics"
   ]
  },
  {
   "cell_type": "code",
   "execution_count": 1,
   "id": "binding-surveillance",
   "metadata": {
    "executionInfo": {
     "elapsed": 1635,
     "status": "ok",
     "timestamp": 1629129437292,
     "user": {
      "displayName": "Marko",
      "photoUrl": "",
      "userId": "10739355790133053471"
     },
     "user_tz": -120
    },
    "id": "binding-surveillance"
   },
   "outputs": [],
   "source": [
    "# Loading the libraries\n",
    "import numpy as np\n",
    "import sympy as sy\n",
    "import pandas as pd\n",
    "import matplotlib.pyplot as plt\n",
    "import seaborn as sns\n",
    "import scipy.stats as stats"
   ]
  },
  {
   "cell_type": "markdown",
   "id": "saving-karen",
   "metadata": {
    "id": "saving-karen"
   },
   "source": [
    "## Day 1: The Central Limit Theorem & Confidence Intervals\n",
    "This week we will discuss how conclusions can be drawn (inferences be made) about data using random variables and their probability distributions.\n",
    "\n",
    "The setting is as follows: let $X \\sim \\mathcal{N}(\\mu, \\sigma)$ be a random variable. Assime we choose a random sample of size $n$ based on the distribution of $X$. Next we calculate the sample mean $\\bar{x}_1$ where the 1 denotes it is the \"first\" sample we draw. Now, repeat the process many times, generating a **sequence of averages of samples with size $n$**:\n",
    "\\begin{equation} \\bar{x}_1, \\bar{x}_2, \\dots, \\bar{x}_m \\end{equation}\n",
    "Question: what are the mean and the standard deviation of the averages; what shape does this distribution have?\n",
    "\n",
    "Let us run a simulation to discover\n",
    "\n",
    "### Example 1\n",
    "Construct a simulation that generates $m$ samples from the random variable $X ~ \\mathcal{N}(100, 12)$, each with size $n$. Then calculate *the mean of the sample means* and the *standard deviation of the sample means* and plot the samples on a histogram. Think about the shape of the distribution."
   ]
  },
  {
   "cell_type": "code",
   "execution_count": null,
   "id": "proprietary-clock",
   "metadata": {
    "id": "proprietary-clock"
   },
   "outputs": [],
   "source": [
    "# Define X\n",
    "mu = 100\n",
    "sigma = 12\n"
   ]
  },
  {
   "cell_type": "markdown",
   "id": "incoming-annotation",
   "metadata": {
    "id": "incoming-annotation"
   },
   "source": [
    "### Example 2\n",
    "Run a similar simulation like in **Example 1**, but now use a random variable $Q$ which follows a $\\chi^2$-distribution with 10 degrees of freedom. Calculate *the mean of the sample means* and the *standard deviation of the sample means* and plot the samples on a histogram. Think about the shape of the distribution."
   ]
  },
  {
   "cell_type": "code",
   "execution_count": null,
   "id": "olive-teddy",
   "metadata": {
    "id": "olive-teddy"
   },
   "outputs": [],
   "source": [
    "# Define Q\n",
    "df = 10\n"
   ]
  },
  {
   "cell_type": "markdown",
   "id": "independent-lighter",
   "metadata": {
    "id": "independent-lighter"
   },
   "source": [
    "### The Central Limit Theorem\n",
    "The Central Limit Theorem (CLT) is one of the most (ab)used facts in statistics. Sometimes it is called **the fundamental theorem of statistics** (in analogy to similar theorems in arithmetic, algebra, and calculus)\n",
    "\n",
    "In simple terms, the CLT states that if you have a random variable $X$ with mean $\\mu_X$ and standard deviation $\\sigma_X$, and you draw many samples of size $n$ from $X$, then the averages of those samples are described by a random variable, labeled as $\\overline{X}$, for which:\n",
    "* $\\mu_\\overline{X} = \\mu_x$ (the mean of the sample means equals the mean of the original distribution)\n",
    "* $\\sigma_\\overline{X} = \\displaystyle\\frac{\\sigma_X}{\\sqrt{n}}$ (the standrad deviation of the sample means equals the standard deviation of the original distribution scaled down by a factor of $\\sqrt{n}$)\n",
    "\n",
    "Even more, the shape of the distribution is **approximately** Normal, or in other words $\\overline{X} \\sim \\mathcal{N}\\left( \\mu_\\overline{X}, \\sigma_\\overline{X}  \\right) = \\mathcal{N}\\left( \\mu, \\displaystyle\\frac{\\sigma}{\\sqrt{n}} \\right)$. This distribution is called the **sampling distribution of the mean**.\n",
    "\n",
    "If $X$ is distributed normally, then $\\overline{X}$ is also distributed normally, and this is the only case when the sampling distribution of the mean is exactly normal.\n",
    "\n",
    "### Example 3\n",
    "Illustrate the CLT on the random variable $X \\sim \\mathcal{N}(160, 10)$ if the sample size is $n = 16$"
   ]
  },
  {
   "cell_type": "code",
   "execution_count": null,
   "id": "valued-affiliation",
   "metadata": {
    "id": "valued-affiliation"
   },
   "outputs": [],
   "source": [
    "# Define X\n",
    "mu = 160\n",
    "sigma = 10\n",
    "n = 16\n"
   ]
  },
  {
   "cell_type": "markdown",
   "id": "analyzed-million",
   "metadata": {
    "id": "analyzed-million"
   },
   "source": [
    "### Example 4\n",
    "Illustrate the CLT on the random variable $G$ which follows a **geometric distribution** with parameter $p=0.2$, i.e. $G \\sim \\mathcal{Geom}(0.2)$, with sample size $n = 17$"
   ]
  },
  {
   "cell_type": "code",
   "execution_count": null,
   "id": "animal-trinidad",
   "metadata": {
    "id": "animal-trinidad"
   },
   "outputs": [],
   "source": [
    "# Define G\n",
    "p = 0.2\n",
    "n = 17\n"
   ]
  },
  {
   "cell_type": "markdown",
   "id": "residential-suspension",
   "metadata": {
    "id": "residential-suspension"
   },
   "source": [
    "### How does this help us with data?\n",
    "The situation is as following: we have one sample of size $n$ from a population with unknown population mean $\\mu$ and population standard deviation $\\sigma$. Obviously, the *sample statistics* $\\bar{x}$ and $s$ can estimate $\\mu$ and $\\sigma$, but they can also \"miss\" them by a lot. These sample statistics are called **point estimates** of the population parameters.\n",
    "\n",
    "Question: how do we take adventage of the facts stated in the CLT to give an **interval estimate** of the population mean $\\mu$?\n",
    "\n",
    "In practice, if you work with a *large sample* ($n \\geqslant 30$ or $40$), then you can consider the sampling distribution to be close enough to the normal distribution. However, in all other cases, the Student *t*-distribution with $n-1$ degrees of freedom describes the sampling distibution much better than the normal distribution.\n",
    "\n",
    "Recall the **68-95-99.7 Rule** for the Normal distribution. We can constuct something like that for any distribution. Since we only have one sample in reality, we use the sample statistics as estimates of the population parameters. If  $\\bar{x}$ and $s$ are the sample mean standard deviation from a sample with size $n$, then the **$(1-\\alpha)\\%$ confidence interval** estimate of the population mean is given by:\n",
    "\\begin{equation}\\displaystyle \\bar{x} \\pm t_{n-1}^* \\cdot \\frac{s}{\\sqrt{n}}\\end{equation}\n",
    "where $t_{n-1}^*$ is a scaling coefficient that depends on the sample size $n$ and can be obtained using $t$-distribution. The number $df \\ n-1$ is the number of **degrees of freedom**, while the quantity $SE = \\frac{s}{\\sqrt{n}}$ is called **standard error**. Let's see some examples. The number $(1-\\alpha)\\%$ is called **confidence level** and usually is at least 90%.\n",
    "\n",
    "### Example 5\n",
    "In this example, we use a confidence interval to estimate the mean of a known population (i.e. this is just a *controlled* experiment). Let $X \\sim \\mathcal{N}(100, 12)$. Generate 5 different 90% CIs and 5 more 95% CIs for the mean of the population based on samples of size $n=9$. Comment on what you get."
   ]
  },
  {
   "cell_type": "code",
   "execution_count": null,
   "id": "confidential-hanging",
   "metadata": {
    "id": "confidential-hanging"
   },
   "outputs": [],
   "source": [
    "# Define X\n",
    "mu = 100\n",
    "sigma = 12\n"
   ]
  },
  {
   "cell_type": "markdown",
   "id": "illegal-literature",
   "metadata": {
    "id": "illegal-literature"
   },
   "source": [
    "### Example 6\n",
    "Let $Y \\sim \\mathcal{Po}(13)$. Generate 5 different 95% CIs and 5 more 99% CIs for the mean of the population based on samples of size $n=25$. Comment on what you get."
   ]
  },
  {
   "cell_type": "code",
   "execution_count": null,
   "id": "stable-tissue",
   "metadata": {
    "id": "stable-tissue"
   },
   "outputs": [],
   "source": [
    "# Define Y\n",
    "lmbd = 13\n"
   ]
  },
  {
   "cell_type": "markdown",
   "id": "intermediate-natural",
   "metadata": {
    "id": "intermediate-natural"
   },
   "source": [
    "### Example 7\n",
    "The sample given in the next cell comes from a distribution whose mean you do not know, but need to estimate. Use a 95% CI to estimate the population mean."
   ]
  },
  {
   "cell_type": "code",
   "execution_count": null,
   "id": "fabulous-avenue",
   "metadata": {
    "id": "fabulous-avenue"
   },
   "outputs": [],
   "source": [
    "sample = np.array([3.23545161, 3.77542568, 1.01742999, 1.95137322, 3.70661749,\n",
    "       1.54115566, 3.97507688, 3.74119874, 2.99544951, 1.20815545,\n",
    "       4.43162589, 1.68634582, 0.97010408, 3.81707371, 1.37509011,\n",
    "       1.46900854, 5.10493947, 8.15556455, 6.73199071, 2.29971986])\n",
    "\n",
    "n = sample.size\n",
    "df = n-1\n",
    "c_level = 0.95\n"
   ]
  }
 ],
 "metadata": {
  "colab": {
   "name": "Week 6, Day 1 (CLT & Hypothesis Tests) - CLEAN.ipynb",
   "provenance": []
  },
  "kernelspec": {
   "display_name": "Python 3",
   "language": "python",
   "name": "python3"
  },
  "language_info": {
   "codemirror_mode": {
    "name": "ipython",
    "version": 3
   },
   "file_extension": ".py",
   "mimetype": "text/x-python",
   "name": "python",
   "nbconvert_exporter": "python",
   "pygments_lexer": "ipython3",
   "version": "3.8.8"
  }
 },
 "nbformat": 4,
 "nbformat_minor": 5
}
