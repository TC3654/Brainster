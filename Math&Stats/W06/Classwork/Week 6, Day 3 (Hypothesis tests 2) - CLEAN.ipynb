{
 "cells": [
  {
   "cell_type": "markdown",
   "id": "respected-checklist",
   "metadata": {
    "id": "respected-checklist"
   },
   "source": [
    "# Week 6: Inferential Statistics"
   ]
  },
  {
   "cell_type": "code",
   "execution_count": 2,
   "id": "spectacular-olive",
   "metadata": {
    "executionInfo": {
     "elapsed": 3,
     "status": "ok",
     "timestamp": 1629530300463,
     "user": {
      "displayName": "Marko",
      "photoUrl": "",
      "userId": "10739355790133053471"
     },
     "user_tz": -120
    },
    "id": "spectacular-olive"
   },
   "outputs": [],
   "source": [
    "# Loading the libraries\n",
    "import numpy as np\n",
    "import sympy as sy\n",
    "import pandas as pd\n",
    "import matplotlib.pyplot as plt\n",
    "import seaborn as sns\n",
    "import scipy.stats as stats\n",
    "from statsmodels.stats.multicomp import pairwise_tukeyhsd\n",
    "\n",
    "np.random.seed(123)"
   ]
  },
  {
   "cell_type": "code",
   "execution_count": null,
   "id": "zSYF7rUSlayF",
   "metadata": {
    "colab": {
     "base_uri": "https://localhost:8080/"
    },
    "executionInfo": {
     "elapsed": 3827,
     "status": "ok",
     "timestamp": 1629480149099,
     "user": {
      "displayName": "Marko",
      "photoUrl": "",
      "userId": "10739355790133053471"
     },
     "user_tz": -120
    },
    "id": "zSYF7rUSlayF",
    "outputId": "87b04e8b-2bcd-4032-822c-3aefc991d390"
   },
   "outputs": [
    {
     "name": "stdout",
     "output_type": "stream",
     "text": [
      "Requirement already satisfied: scipy in /usr/local/lib/python3.7/dist-packages (1.4.1)\n",
      "Requirement already satisfied: numpy>=1.13.3 in /usr/local/lib/python3.7/dist-packages (from scipy) (1.19.5)\n"
     ]
    }
   ],
   "source": [
    "#!pip install scipy"
   ]
  },
  {
   "cell_type": "markdown",
   "id": "hired-director",
   "metadata": {
    "id": "hired-director"
   },
   "source": [
    "## Day 3: Hypothesis Tests (continued)\n",
    "### Comparing two means: the two sample *t*-test\n",
    "Most frequently we have to compare two samples in terms of their means: do the two samples come from populations with equal means? In other words: do the two samples come from the same population, or from different populations?\n",
    "\n",
    "The *t*-test can be adapted to work in this context. Assume we have two samples which come from two populations, with means $\\mu_1$ and $\\mu_2$ respectively. The hypotheses of the test are:\n",
    "\\begin{equation}\n",
    "H_0: \\mu_1 = \\mu_2\n",
    "\\end{equation}\n",
    "and\n",
    "\\begin{equation}\n",
    "\\begin{array}{rcl}\n",
    "H_a: \\mu_1 &\\neq& \\mu_2\\\\\n",
    "H_a: \\mu_1 &<& \\mu_2\\\\\n",
    "H_a: \\mu_1 &>& \\mu_2\n",
    "\\end{array}\n",
    "\\end{equation}\n",
    "\n",
    "Without getting into the details of how the test manages to produce a $p$-value, we use the `scipy`'s capabilities and directly step into problem-solving.\n",
    "\n",
    "### Example 1: \n",
    "Home values tend to increase over time under normal conditions, but the recession of 2008 and 2009 has reportedly caused the sales price of existing homes to fall accross the US. Do data support this conclusion? The cell below contains data on 30 existing home sales in 2006 and 40 existing home sales in 2009. Is there any evidence that the prices have fallen in 2009 compared to 2006?"
   ]
  },
  {
   "cell_type": "code",
   "execution_count": null,
   "id": "pending-dominant",
   "metadata": {
    "colab": {
     "base_uri": "https://localhost:8080/",
     "height": 299
    },
    "executionInfo": {
     "elapsed": 591,
     "status": "ok",
     "timestamp": 1629480580475,
     "user": {
      "displayName": "Marko",
      "photoUrl": "",
      "userId": "10739355790133053471"
     },
     "user_tz": -120
    },
    "id": "pending-dominant",
    "outputId": "e9cd3361-21a5-4e18-b9db-a88cdec32c77"
   },
   "outputs": [
    {
     "data": {
      "image/png": "[encoded data removed]",
      "text/plain": [
       "<Figure size 432x288 with 1 Axes>"
      ]
     },
     "metadata": {
      "needs_background": "light"
     },
     "output_type": "display_data"
    },
    {
     "name": "stdout",
     "output_type": "stream",
     "text": [
      "p value is  2.1094588950811116e-05\n",
      "we reject the H0\n"
     ]
    }
   ],
   "source": [
    "# the samples\n",
    "s_2006 = np.array([213100, 226200, 239100, 214300, 161700, 181200, 228600, 222100, 228900, 235800, \n",
    "                   219400, 238800, 301800, 264200, 320200, 315000, 118900, 172400, 137500, 212800, \n",
    "                   175400, 311400, 296900, 292500, 287700, 246500, 195600, 155300, 152400, 211200])\n",
    "\n",
    "s_2009 = np.array([155400, 189800, 200800, 280400, 213200, 181100, 117400, 130000, 170000, 149600,\n",
    "                   146200, 54400, 213800, 186000, 182100, 180000, 215700, 164200, 95300, 239500,\n",
    "                   207200, 188200, 169400, 185600, 177000, 178000, 161200, 249200, 146400, 99800,\n",
    "                   246700, 173500, 138100, 112200, 137500, 147900, 179000, 116200, 197500, 164200])\n",
    "\n",
    "\n",
    "# hypotheses\n",
    "# H0: mu_2006 = mu_2009   <--- always has \"=\"\n",
    "# Ha: mu_2006 > mu_2009   <--- test if prices dropped in 2009\n",
    "\n",
    "\n",
    "\n",
    "plt.plot()\n",
    "plt.hist(s_2006, alpha = 0.5, label = \"2006 prices\")\n",
    "plt.hist(s_2009, alpha = 0.5, label = \"2009 prices\")\n",
    "plt.legend()\n",
    "plt.show()\n",
    "t_stat, p_2 = stats.ttest_ind(s_2006, s_2009, equal_var = False)  #, alternative=\"greater\"; for higher version of scipy (1.6 or greater)\n",
    "print(\"p value is \", p_2/2)\n",
    "if p_2/2 < 0.5: \n",
    "  print(\"we reject the H0\")\n",
    "else:\n",
    "  print(\"we do not have sufficient data to reject the H0\")"
   ]
  },
  {
   "cell_type": "markdown",
   "id": "stylish-damage",
   "metadata": {
    "id": "stylish-damage"
   },
   "source": [
    "### Comparing more than two means: the One-Way ANOVA *F*-test\n",
    "The One-Way ANOVA *F*-test extends the two-sample *t*-test from two to an arbitrary number of samples. If you need to test if the means of more than two samples are equal, then you should use this test.\n",
    "\n",
    "The hypotheses are:\n",
    "\\begin{equation}\n",
    "\\begin{array}{rcl}\n",
    "H_0&:& \\text{all means are equal}\\\\\n",
    "H_a&:& \\text{not all means are equal}\n",
    "\\end{array}\n",
    "\\end{equation}\n",
    "\n",
    "There are three things that you must have in mind about the One-Way ANOVA *F*-test:\n",
    "* The alternative hypotheses tests for generall difference between the means, similar to the $\"\\neq\"$ alternatives of the *t*-test\n",
    "* The test assumes that the variances of the population in question are all equal\n",
    "* If you end up rejecting $H_0$, then the test does not tell you which means *are* different to answer this question, you will have to run **post-hoc** tests to identify the source(s) of the difference\n",
    "\n",
    "### Example 2\n",
    "The Consumer Reports Restaurant Customer Satisfaction Survey is based upon 148,599 visits to full-service restaurant chains. One of the variables in the study is meal price, the average amount paid per person for dinner and drinks, minus the tip. Suppose a reporter for the Sun Coast Times thought that it would be of interest to her readers to conduct a similar study for restaurants located on the Grand Strand section in Myrtle Beach, South Carolina. The reporter selected a random sample of 8 seafood restaurants, 8 Italian restaurants, and 8 steakhouses. The data in the cell below show the meal prices (in dollars) obtained for the 24 restaurants sampled. Is a significant difference among the mean meal price for the three types of restaurants?"
   ]
  },
  {
   "cell_type": "code",
   "execution_count": null,
   "id": "exposed-working",
   "metadata": {
    "colab": {
     "base_uri": "https://localhost:8080/",
     "height": 282
    },
    "executionInfo": {
     "elapsed": 742,
     "status": "ok",
     "timestamp": 1629481058930,
     "user": {
      "displayName": "Marko",
      "photoUrl": "",
      "userId": "10739355790133053471"
     },
     "user_tz": -120
    },
    "id": "exposed-working",
    "outputId": "a58a7507-a79e-4232-b23e-b1dbcbd6bb90"
   },
   "outputs": [
    {
     "data": {
      "image/png": "[encoded data removed]",
      "text/plain": [
       "<Figure size 432x288 with 1 Axes>"
      ]
     },
     "metadata": {
      "needs_background": "light"
     },
     "output_type": "display_data"
    },
    {
     "data": {
      "text/plain": [
       "F_onewayResult(statistic=7.328859060402685, pvalue=0.003852036077363886)"
      ]
     },
     "execution_count": 21,
     "metadata": {},
     "output_type": "execute_result"
    }
   ],
   "source": [
    "# samples\n",
    "italian = np.array([12, 13, 15, 17, 18, 20, 17, 24])\n",
    "seafood = np.array([16, 18, 17, 26, 23, 15, 19, 18])\n",
    "steakhouse = np.array([24, 19, 23, 25, 21, 22, 27, 31])\n",
    "\n",
    "\n",
    "# Hypotheses\n",
    "# H0: all means are equal\n",
    "# Ha: not all means are equal\n",
    "\n",
    "plt.plot()\n",
    "plt.hist(italian, alpha = 0.4, label = \"italian\")\n",
    "plt.hist(seafood, alpha = 0.4, label = \"seafood\")\n",
    "plt.hist(steakhouse, alpha = 0.4, label = \"steakhouse\")\n",
    "plt.legend()\n",
    "plt.show()\n",
    "\n",
    "stats.f_oneway(italian, seafood, steakhouse)"
   ]
  },
  {
   "cell_type": "markdown",
   "id": "fewer-folks",
   "metadata": {
    "id": "fewer-folks"
   },
   "source": [
    "### Example 2a\n",
    "Run a post-hoc test to establish where do the differences come from. Use **Tukey Honestly Significant Difference (HSD)** test."
   ]
  },
  {
   "cell_type": "code",
   "execution_count": null,
   "id": "racial-induction",
   "metadata": {
    "colab": {
     "base_uri": "https://localhost:8080/",
     "height": 925
    },
    "executionInfo": {
     "elapsed": 238,
     "status": "ok",
     "timestamp": 1629481496906,
     "user": {
      "displayName": "Marko",
      "photoUrl": "",
      "userId": "10739355790133053471"
     },
     "user_tz": -120
    },
    "id": "racial-induction",
    "outputId": "96fc77f5-b23b-4c3e-f60a-5cda73d649b0"
   },
   "outputs": [
    {
     "data": {
      "text/html": [
       "<div>\n",
       "<style scoped>\n",
       "    .dataframe tbody tr th:only-of-type {\n",
       "        vertical-align: middle;\n",
       "    }\n",
       "\n",
       "    .dataframe tbody tr th {\n",
       "        vertical-align: top;\n",
       "    }\n",
       "\n",
       "    .dataframe thead th {\n",
       "        text-align: right;\n",
       "    }\n",
       "</style>\n",
       "<table border=\"1\" class=\"dataframe\">\n",
       "  <thead>\n",
       "    <tr style=\"text-align: right;\">\n",
       "      <th></th>\n",
       "      <th>price</th>\n",
       "      <th>group</th>\n",
       "    </tr>\n",
       "  </thead>\n",
       "  <tbody>\n",
       "    <tr>\n",
       "      <th>0</th>\n",
       "      <td>12</td>\n",
       "      <td>italian</td>\n",
       "    </tr>\n",
       "    <tr>\n",
       "      <th>1</th>\n",
       "      <td>13</td>\n",
       "      <td>italian</td>\n",
       "    </tr>\n",
       "    <tr>\n",
       "      <th>2</th>\n",
       "      <td>15</td>\n",
       "      <td>italian</td>\n",
       "    </tr>\n",
       "    <tr>\n",
       "      <th>3</th>\n",
       "      <td>17</td>\n",
       "      <td>italian</td>\n",
       "    </tr>\n",
       "    <tr>\n",
       "      <th>4</th>\n",
       "      <td>18</td>\n",
       "      <td>italian</td>\n",
       "    </tr>\n",
       "    <tr>\n",
       "      <th>5</th>\n",
       "      <td>20</td>\n",
       "      <td>italian</td>\n",
       "    </tr>\n",
       "    <tr>\n",
       "      <th>6</th>\n",
       "      <td>17</td>\n",
       "      <td>italian</td>\n",
       "    </tr>\n",
       "    <tr>\n",
       "      <th>7</th>\n",
       "      <td>24</td>\n",
       "      <td>italian</td>\n",
       "    </tr>\n",
       "    <tr>\n",
       "      <th>8</th>\n",
       "      <td>16</td>\n",
       "      <td>seafood</td>\n",
       "    </tr>\n",
       "    <tr>\n",
       "      <th>9</th>\n",
       "      <td>18</td>\n",
       "      <td>seafood</td>\n",
       "    </tr>\n",
       "    <tr>\n",
       "      <th>10</th>\n",
       "      <td>17</td>\n",
       "      <td>seafood</td>\n",
       "    </tr>\n",
       "    <tr>\n",
       "      <th>11</th>\n",
       "      <td>26</td>\n",
       "      <td>seafood</td>\n",
       "    </tr>\n",
       "    <tr>\n",
       "      <th>12</th>\n",
       "      <td>23</td>\n",
       "      <td>seafood</td>\n",
       "    </tr>\n",
       "    <tr>\n",
       "      <th>13</th>\n",
       "      <td>15</td>\n",
       "      <td>seafood</td>\n",
       "    </tr>\n",
       "    <tr>\n",
       "      <th>14</th>\n",
       "      <td>19</td>\n",
       "      <td>seafood</td>\n",
       "    </tr>\n",
       "    <tr>\n",
       "      <th>15</th>\n",
       "      <td>18</td>\n",
       "      <td>seafood</td>\n",
       "    </tr>\n",
       "    <tr>\n",
       "      <th>16</th>\n",
       "      <td>24</td>\n",
       "      <td>steakhouse</td>\n",
       "    </tr>\n",
       "    <tr>\n",
       "      <th>17</th>\n",
       "      <td>19</td>\n",
       "      <td>steakhouse</td>\n",
       "    </tr>\n",
       "    <tr>\n",
       "      <th>18</th>\n",
       "      <td>23</td>\n",
       "      <td>steakhouse</td>\n",
       "    </tr>\n",
       "    <tr>\n",
       "      <th>19</th>\n",
       "      <td>25</td>\n",
       "      <td>steakhouse</td>\n",
       "    </tr>\n",
       "    <tr>\n",
       "      <th>20</th>\n",
       "      <td>21</td>\n",
       "      <td>steakhouse</td>\n",
       "    </tr>\n",
       "    <tr>\n",
       "      <th>21</th>\n",
       "      <td>22</td>\n",
       "      <td>steakhouse</td>\n",
       "    </tr>\n",
       "    <tr>\n",
       "      <th>22</th>\n",
       "      <td>27</td>\n",
       "      <td>steakhouse</td>\n",
       "    </tr>\n",
       "    <tr>\n",
       "      <th>23</th>\n",
       "      <td>31</td>\n",
       "      <td>steakhouse</td>\n",
       "    </tr>\n",
       "  </tbody>\n",
       "</table>\n",
       "</div>"
      ],
      "text/plain": [
       "    price       group\n",
       "0      12     italian\n",
       "1      13     italian\n",
       "2      15     italian\n",
       "3      17     italian\n",
       "4      18     italian\n",
       "5      20     italian\n",
       "6      17     italian\n",
       "7      24     italian\n",
       "8      16     seafood\n",
       "9      18     seafood\n",
       "10     17     seafood\n",
       "11     26     seafood\n",
       "12     23     seafood\n",
       "13     15     seafood\n",
       "14     19     seafood\n",
       "15     18     seafood\n",
       "16     24  steakhouse\n",
       "17     19  steakhouse\n",
       "18     23  steakhouse\n",
       "19     25  steakhouse\n",
       "20     21  steakhouse\n",
       "21     22  steakhouse\n",
       "22     27  steakhouse\n",
       "23     31  steakhouse"
      ]
     },
     "metadata": {},
     "output_type": "display_data"
    },
    {
     "name": "stdout",
     "output_type": "stream",
     "text": [
      "   Multiple Comparison of Means - Tukey HSD, FWER=0.05   \n",
      "=========================================================\n",
      " group1   group2   meandiff p-adj   lower   upper  reject\n",
      "---------------------------------------------------------\n",
      "italian    seafood      2.0 0.5466 -2.7462  6.7462  False\n",
      "italian steakhouse      7.0 0.0035  2.2538 11.7462   True\n",
      "seafood steakhouse      5.0 0.0378  0.2538  9.7462   True\n",
      "---------------------------------------------------------\n"
     ]
    }
   ],
   "source": [
    "from statsmodels.stats.multicomp import pairwise_tukeyhsd\n",
    "#create a single dataframe of the data\n",
    "df = pd.DataFrame({'price': np.concatenate([italian, seafood, steakhouse]),\n",
    "                   'group': np.repeat([\"italian\", \"seafood\", \"steakhouse\"], repeats= 8 )})\n",
    "\n",
    "# perform Tukey's test\n",
    "tukey = pairwise_tukeyhsd(endog=df['price'],\n",
    "                          groups=df['group'],\n",
    "                          alpha=0.05)\n",
    "\n",
    "#display results\n",
    "\n",
    "display(df)\n",
    "print(tukey)"
   ]
  },
  {
   "cell_type": "markdown",
   "id": "characteristic-document",
   "metadata": {
    "id": "characteristic-document"
   },
   "source": [
    "### $\\chi^2$-test for Independence\n",
    "Next we work with two **categorical variables** and we are going to answer questions like:\n",
    "* Are left-handed and right-handed people equally likely to prefer technical or social sciences, or maybe neither?\n",
    "* Are eye color and hair color independent traits among men and women?\n",
    "\n",
    "The test is called **chi-square independence (or association) test**. The hypotheses of the test are:\n",
    "* $H_0: \\text{ the variables are independent (or: not associated, not related)}$\n",
    "* $H_a: \\text{ the variables are NOT independent (or: not associated, not related)}$\n",
    "\n",
    "*How does the test work?* We supply the test with a table that contains crosstabulated **counts** for all the combinations of categories of the two variables; alternatively we could supply raw data. These are called **observed data**. Assuming $H_0$ is true (i.e. the variables are indeed independent), the test constructs an intermediate **expected data** which is a representation of *what data of the input shape would look like in theory*. Finally, based on the cumulative difference between the observed and expected data is quantified via a $\\chi^2$-statistics:\n",
    "\\begin{equation} \\chi_{\\text{stat}}^2 = \\displaystyle\\sum_{i} \\frac{\\left( \\text{obs}_i - \\text{exp}_i \\right) ^ 2}{\\text{exp}_i}, \\end{equation}\n",
    "from where a $p$-value is obtained. The interpretation of the $p$-value is the same as before."
   ]
  },
  {
   "cell_type": "markdown",
   "id": "practical-croatia",
   "metadata": {
    "id": "practical-croatia"
   },
   "source": [
    "### Example 3\n",
    "A beer industry association conducts a survey to determine the preferences of beer drinkers for light, regular, and dark beers. A sample of 200 beer drinkers is taken with each person in the sample asked to indicate a preference for one of the three types of beers: light, regular, or dark. At the end of the survey questionnaire, the respondent is asked to provide information on a variety of demographics including gender: male or female. A research question of interest to the association is whether preference for the three types of beer is independent of the gender of the beer drinker. Run a chi-square independence test to reach a conclusion.\n",
    "\n",
    "**Note:** *gender* is given across the columns, *beer* is given across the rows.\n",
    "\n",
    "|         | Male   | Female | Total | % total share| % male share| % female share\n",
    "| ------- | :----: | :----: | :----: | :----: | :----: | :----: |\n",
    "| **Light**   | 51     | 39     |90| 45%|\n",
    "| **Regular** | 56     | 21     |77| 38.5%|\n",
    "| **Dark**    | 25     | 8      |33| 16.5%|"
   ]
  },
  {
   "cell_type": "code",
   "execution_count": null,
   "id": "wooden-imagination",
   "metadata": {
    "colab": {
     "base_uri": "https://localhost:8080/"
    },
    "executionInfo": {
     "elapsed": 248,
     "status": "ok",
     "timestamp": 1629482420586,
     "user": {
      "displayName": "Marko",
      "photoUrl": "",
      "userId": "10739355790133053471"
     },
     "user_tz": -120
    },
    "id": "wooden-imagination",
    "outputId": "45eb1997-aa36-4ad3-c1fa-48dd067dab55"
   },
   "outputs": [
    {
     "name": "stdout",
     "output_type": "stream",
     "text": [
      "chi_sq =  6.446821152703504\n",
      "p-value =  0.03981902059909915\n",
      "expected data:\n",
      " [[59.4  30.6 ]\n",
      " [50.82 26.18]\n",
      " [21.78 11.22]]\n",
      "Based on the data, there is evidence that beer preference is NOT independent of gender\n"
     ]
    }
   ],
   "source": [
    "# obs_data\n",
    "obs_data = np.array([[51, 39], [56, 21], [25, 8]])\n",
    "\n",
    "# Hypotheses:\n",
    "# H0: beer preference is independent of gender\n",
    "# Ha: beer preference is NOT independent of gender\n",
    "\n",
    "# Running the chi-square test\n",
    "chi_sq_stat, p, df, exp_data = stats.chi2_contingency(obs_data)\n",
    "print('chi_sq = ', chi_sq_stat)\n",
    "print('p-value = ', p)\n",
    "print('expected data:\\n', exp_data)\n",
    "\n",
    "if p < 0.05:\n",
    "    print('Based on the data, there is evidence that beer preference is NOT independent of gender')\n",
    "else:\n",
    "    print('Based on the data, there is NO evidence that beer preference is NOT independent of gender')"
   ]
  },
  {
   "cell_type": "markdown",
   "id": "agricultural-deputy",
   "metadata": {
    "id": "agricultural-deputy"
   },
   "source": [
    "### Example 4\n",
    "*The Wall Street Journal* Corporate Perceptions Study 2011 surveyed readers and asked how each rated the quality of management and the reputation of the company for over 250 worldwide corporations. Both the **quality of management** and the **reputation of the company** were rated on an excellent, good, and fair categorical scale. Assume the sample data for 200 respondents below applies to this study. Is there any evidence of an association between the two ratings?\n",
    "\n",
    "**Note:** *reputation* is given across the columns, *quality* is given across the rows.\n",
    "\n",
    "|           | Excellent | Good | Fair |\n",
    "| --------- | :-------: | :--: | :--: |\n",
    "| **Excellent** | 40        | 25   | 5    |\n",
    "| **Good**      | 35        | 35   | 10   |\n",
    "| **Fair**      | 25        | 10   | 15   |"
   ]
  },
  {
   "cell_type": "code",
   "execution_count": null,
   "id": "existing-microwave",
   "metadata": {
    "colab": {
     "base_uri": "https://localhost:8080/"
    },
    "executionInfo": {
     "elapsed": 250,
     "status": "ok",
     "timestamp": 1629482698101,
     "user": {
      "displayName": "Marko",
      "photoUrl": "",
      "userId": "10739355790133053471"
     },
     "user_tz": -120
    },
    "id": "existing-microwave",
    "outputId": "636fec2a-d2e1-467d-f2d3-a36675bb0abc"
   },
   "outputs": [
    {
     "name": "stdout",
     "output_type": "stream",
     "text": [
      "chi_sq =  17.028061224489797\n",
      "p-value =  0.0019088334233433597\n",
      "expected data:\n",
      " [[35.  24.5 10.5]\n",
      " [40.  28.  12. ]\n",
      " [25.  17.5  7.5]]\n",
      "Based on the data, there is evidence that the ratings are not indepdendent\n"
     ]
    }
   ],
   "source": [
    "obs_data = np.array([[40,25,\t5],[35,\t35,\t10], [25,10,15]])\n",
    "\n",
    "#H0: the ratings are independendent\n",
    "#Ha: the ratings are not independent\n",
    "# Running the chi-square test\n",
    "chi_sq_stat, p, df, exp_data = stats.chi2_contingency(obs_data)\n",
    "print('chi_sq = ', chi_sq_stat)\n",
    "print('p-value = ', p)\n",
    "print('expected data:\\n', exp_data)\n",
    "\n",
    "if p < 0.05:\n",
    "    print('Based on the data, there is evidence that the ratings are not indepdendent')\n",
    "else:\n",
    "    print('Based on the data, there is NO evidence that ratings are NOT independent')"
   ]
  },
  {
   "cell_type": "markdown",
   "id": "affected-college",
   "metadata": {
    "id": "affected-college"
   },
   "source": [
    "### Example 5\n",
    "A vehicle quality survey asked new owners a variety of questions about their recently purchased automobile. One question asked for the owner's rating of the vehicle using categorical responses of average, outstanding, and exceptional. Another question asked for the owner’s education level with the categorical responses some high school, high school graduate, some college, and college graduate. The raw data is given in the file `auto_quality.csv`. Run a chi-square test of independence to determine if a new owner's vehicle quality rating is independent of the owner's education."
   ]
  },
  {
   "cell_type": "code",
   "execution_count": 8,
   "id": "greater-joshua",
   "metadata": {
    "colab": {
     "base_uri": "https://localhost:8080/",
     "height": 477
    },
    "executionInfo": {
     "elapsed": 240,
     "status": "ok",
     "timestamp": 1629530730678,
     "user": {
      "displayName": "Marko",
      "photoUrl": "",
      "userId": "10739355790133053471"
     },
     "user_tz": -120
    },
    "id": "greater-joshua",
    "outputId": "76f5e9fc-2ea3-4c4b-9f5b-cbc199b0acc8"
   },
   "outputs": [
    {
     "data": {
      "text/html": [
       "<div>\n",
       "<style scoped>\n",
       "    .dataframe tbody tr th:only-of-type {\n",
       "        vertical-align: middle;\n",
       "    }\n",
       "\n",
       "    .dataframe tbody tr th {\n",
       "        vertical-align: top;\n",
       "    }\n",
       "\n",
       "    .dataframe thead th {\n",
       "        text-align: right;\n",
       "    }\n",
       "</style>\n",
       "<table border=\"1\" class=\"dataframe\">\n",
       "  <thead>\n",
       "    <tr style=\"text-align: right;\">\n",
       "      <th></th>\n",
       "      <th>respondent</th>\n",
       "      <th>quality</th>\n",
       "      <th>education</th>\n",
       "    </tr>\n",
       "  </thead>\n",
       "  <tbody>\n",
       "    <tr>\n",
       "      <th>0</th>\n",
       "      <td>1</td>\n",
       "      <td>Average</td>\n",
       "      <td>College Grad</td>\n",
       "    </tr>\n",
       "    <tr>\n",
       "      <th>1</th>\n",
       "      <td>2</td>\n",
       "      <td>Outstanding</td>\n",
       "      <td>HS Grad</td>\n",
       "    </tr>\n",
       "    <tr>\n",
       "      <th>2</th>\n",
       "      <td>3</td>\n",
       "      <td>Average</td>\n",
       "      <td>Some College</td>\n",
       "    </tr>\n",
       "    <tr>\n",
       "      <th>3</th>\n",
       "      <td>4</td>\n",
       "      <td>Outstanding</td>\n",
       "      <td>College Grad</td>\n",
       "    </tr>\n",
       "    <tr>\n",
       "      <th>4</th>\n",
       "      <td>5</td>\n",
       "      <td>Exceptional</td>\n",
       "      <td>College Grad</td>\n",
       "    </tr>\n",
       "  </tbody>\n",
       "</table>\n",
       "</div>"
      ],
      "text/plain": [
       "   respondent      quality     education\n",
       "0           1      Average  College Grad\n",
       "1           2  Outstanding       HS Grad\n",
       "2           3      Average  Some College\n",
       "3           4  Outstanding  College Grad\n",
       "4           5  Exceptional  College Grad"
      ]
     },
     "metadata": {},
     "output_type": "display_data"
    },
    {
     "data": {
      "text/html": [
       "<div>\n",
       "<style scoped>\n",
       "    .dataframe tbody tr th:only-of-type {\n",
       "        vertical-align: middle;\n",
       "    }\n",
       "\n",
       "    .dataframe tbody tr th {\n",
       "        vertical-align: top;\n",
       "    }\n",
       "\n",
       "    .dataframe thead th {\n",
       "        text-align: right;\n",
       "    }\n",
       "</style>\n",
       "<table border=\"1\" class=\"dataframe\">\n",
       "  <thead>\n",
       "    <tr style=\"text-align: right;\">\n",
       "      <th>education</th>\n",
       "      <th>College Grad</th>\n",
       "      <th>HS Grad</th>\n",
       "      <th>Some College</th>\n",
       "      <th>Some HS</th>\n",
       "    </tr>\n",
       "    <tr>\n",
       "      <th>quality</th>\n",
       "      <th></th>\n",
       "      <th></th>\n",
       "      <th></th>\n",
       "      <th></th>\n",
       "    </tr>\n",
       "  </thead>\n",
       "  <tbody>\n",
       "    <tr>\n",
       "      <th>Average</th>\n",
       "      <td>60</td>\n",
       "      <td>30</td>\n",
       "      <td>20</td>\n",
       "      <td>35</td>\n",
       "    </tr>\n",
       "    <tr>\n",
       "      <th>Exceptional</th>\n",
       "      <td>50</td>\n",
       "      <td>25</td>\n",
       "      <td>30</td>\n",
       "      <td>20</td>\n",
       "    </tr>\n",
       "    <tr>\n",
       "      <th>Outstanding</th>\n",
       "      <td>90</td>\n",
       "      <td>45</td>\n",
       "      <td>50</td>\n",
       "      <td>45</td>\n",
       "    </tr>\n",
       "  </tbody>\n",
       "</table>\n",
       "</div>"
      ],
      "text/plain": [
       "education    College Grad  HS Grad  Some College  Some HS\n",
       "quality                                                  \n",
       "Average                60       30            20       35\n",
       "Exceptional            50       25            30       20\n",
       "Outstanding            90       45            50       45"
      ]
     },
     "metadata": {},
     "output_type": "display_data"
    },
    {
     "name": "stdout",
     "output_type": "stream",
     "text": [
      "chi_sq =  6.57271364317841\n",
      "p-value =  0.3621737706414952\n",
      "expected data:\n"
     ]
    },
    {
     "data": {
      "text/plain": [
       "array([[58., 29., 29., 29.],\n",
       "       [50., 25., 25., 25.],\n",
       "       [92., 46., 46., 46.]])"
      ]
     },
     "metadata": {},
     "output_type": "display_data"
    },
    {
     "name": "stdout",
     "output_type": "stream",
     "text": [
      "Based on the data, there is evidence that quality is independent of education\n"
     ]
    }
   ],
   "source": [
    "# load the data and create the contingency table\n",
    "df = pd.read_csv('auto_quality.csv')\n",
    "display(df.head())\n",
    "\n",
    "#contingency table\n",
    "obs_data = pd.crosstab(df['quality'], df['education'])\n",
    "display(obs_data)\n",
    "\n",
    "#Hypotheses\n",
    "#H0: the car rating is independent of the level of education\n",
    "#Ha: the car rating is NOT independent of the level of education\n",
    "\n",
    "#Running the chi-square test \n",
    "\n",
    "chi_sq_stat, p, df, exp_data = stats.chi2_contingency(obs_data)\n",
    "print('chi_sq = ', chi_sq_stat)\n",
    "print('p-value = ', p)\n",
    "print('expected data:')\n",
    "display(exp_data)\n",
    "\n",
    "if p > 0.05:\n",
    "    print('Based on the data, there is evidence that quality is independent of education')\n",
    "else:\n",
    "    print('Based on the data, there is NO evidence that quality is independent of education')"
   ]
  },
  {
   "cell_type": "markdown",
   "id": "unsigned-astronomy",
   "metadata": {
    "id": "unsigned-astronomy"
   },
   "source": [
    "### Example 6\n",
    "An ambulance service responds to emergency calls for two counties in Virginia. One county is an urban county and the other is a rural county. A sample of ambulance calls over the past two years showed the county and the day of the week for each emergency call. Based on the data given in `ambulance.csv`, is there any evidence that of independence between the counties and the day of the week?"
   ]
  },
  {
   "cell_type": "code",
   "execution_count": 12,
   "id": "chinese-addiction",
   "metadata": {
    "colab": {
     "base_uri": "https://localhost:8080/",
     "height": 259
    },
    "executionInfo": {
     "elapsed": 246,
     "status": "ok",
     "timestamp": 1629531044753,
     "user": {
      "displayName": "Marko",
      "photoUrl": "",
      "userId": "10739355790133053471"
     },
     "user_tz": -120
    },
    "id": "chinese-addiction",
    "outputId": "6fb0a3a2-bc90-404f-947c-bd3078d6ce36"
   },
   "outputs": [
    {
     "data": {
      "text/html": [
       "<div>\n",
       "<style scoped>\n",
       "    .dataframe tbody tr th:only-of-type {\n",
       "        vertical-align: middle;\n",
       "    }\n",
       "\n",
       "    .dataframe tbody tr th {\n",
       "        vertical-align: top;\n",
       "    }\n",
       "\n",
       "    .dataframe thead th {\n",
       "        text-align: right;\n",
       "    }\n",
       "</style>\n",
       "<table border=\"1\" class=\"dataframe\">\n",
       "  <thead>\n",
       "    <tr style=\"text-align: right;\">\n",
       "      <th>day</th>\n",
       "      <th>Friday</th>\n",
       "      <th>Monday</th>\n",
       "      <th>Saturday</th>\n",
       "      <th>Sunday</th>\n",
       "      <th>Thursday</th>\n",
       "      <th>Tuesday</th>\n",
       "      <th>Wednesday</th>\n",
       "    </tr>\n",
       "    <tr>\n",
       "      <th>county</th>\n",
       "      <th></th>\n",
       "      <th></th>\n",
       "      <th></th>\n",
       "      <th></th>\n",
       "      <th></th>\n",
       "      <th></th>\n",
       "      <th></th>\n",
       "    </tr>\n",
       "  </thead>\n",
       "  <tbody>\n",
       "    <tr>\n",
       "      <th>Rural</th>\n",
       "      <td>14</td>\n",
       "      <td>9</td>\n",
       "      <td>10</td>\n",
       "      <td>7</td>\n",
       "      <td>9</td>\n",
       "      <td>16</td>\n",
       "      <td>13</td>\n",
       "    </tr>\n",
       "    <tr>\n",
       "      <th>Urban</th>\n",
       "      <td>73</td>\n",
       "      <td>48</td>\n",
       "      <td>43</td>\n",
       "      <td>61</td>\n",
       "      <td>63</td>\n",
       "      <td>50</td>\n",
       "      <td>55</td>\n",
       "    </tr>\n",
       "  </tbody>\n",
       "</table>\n",
       "</div>"
      ],
      "text/plain": [
       "day     Friday  Monday  Saturday  Sunday  Thursday  Tuesday  Wednesday\n",
       "county                                                                \n",
       "Rural       14       9        10       7         9       16         13\n",
       "Urban       73      48        43      61        63       50         55"
      ]
     },
     "metadata": {},
     "output_type": "display_data"
    },
    {
     "name": "stdout",
     "output_type": "stream",
     "text": [
      "chi_sq =  6.174490747874454\n",
      "p-value =  0.4039302731774944\n",
      "expected data:\n",
      "            0         1         2          3          4          5          6\n",
      "0  14.407643   9.43949   8.77707  11.261146  11.923567  10.929936  11.261146\n",
      "1  72.592357  47.56051  44.22293  56.738854  60.076433  55.070064  56.738854\n",
      "Based on the data, there is NO evidence that counties and the days of the week are NOT independent\n"
     ]
    }
   ],
   "source": [
    "df = pd.read_csv(\"ambulance.csv\")\n",
    "obs_data = pd.crosstab(df[\"county\"], df[\"day\"])\n",
    "display(obs_data)\n",
    "chi_sq_stat, p, df, exp_data = stats.chi2_contingency(obs_data)\n",
    "print('chi_sq = ', chi_sq_stat)\n",
    "print('p-value = ', p)\n",
    "print('expected data:\\n', pd.DataFrame(exp_data))\n",
    "\n",
    "if p < 0.05:\n",
    "    print('Based on the data, there is evidence that the counties and the days of the week are not indepdendent')\n",
    "else:\n",
    "    print('Based on the data, there is NO evidence that counties and the days of the week are NOT independent')\n"
   ]
  }
 ],
 "metadata": {
  "colab": {
   "name": "Week 6, Day 3 (Hypothesis tests 2) - CLEAN.ipynb",
   "provenance": []
  },
  "kernelspec": {
   "display_name": "Python 3",
   "language": "python",
   "name": "python3"
  },
  "language_info": {
   "codemirror_mode": {
    "name": "ipython",
    "version": 3
   },
   "file_extension": ".py",
   "mimetype": "text/x-python",
   "name": "python",
   "nbconvert_exporter": "python",
   "pygments_lexer": "ipython3",
   "version": "3.8.8"
  }
 },
 "nbformat": 4,
 "nbformat_minor": 5
}
