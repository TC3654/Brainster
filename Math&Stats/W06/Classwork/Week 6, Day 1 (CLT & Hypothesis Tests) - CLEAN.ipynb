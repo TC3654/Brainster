{
 "cells": [
  {
   "cell_type": "markdown",
   "id": "composed-abuse",
   "metadata": {
    "id": "composed-abuse"
   },
   "source": [
    "# Week 6: Inferential Statistics"
   ]
  },
  {
   "cell_type": "code",
   "execution_count": 1,
   "id": "binding-surveillance",
   "metadata": {
    "executionInfo": {
     "elapsed": 1119,
     "status": "ok",
     "timestamp": 1629305543120,
     "user": {
      "displayName": "Marko",
      "photoUrl": "",
      "userId": "10739355790133053471"
     },
     "user_tz": -120
    },
    "id": "binding-surveillance"
   },
   "outputs": [],
   "source": [
    "# Loading the libraries\n",
    "import numpy as np\n",
    "import sympy as sy\n",
    "import pandas as pd\n",
    "import matplotlib.pyplot as plt\n",
    "import seaborn as sns\n",
    "import scipy.stats as stats"
   ]
  },
  {
   "cell_type": "markdown",
   "id": "saving-karen",
   "metadata": {
    "id": "saving-karen"
   },
   "source": [
    "## Day 1: The Central Limit Theorem & Confidence Intervals\n",
    "This week we will discuss how conclusions can be drawn (inferences be made) about data using random variables and their probability distributions.\n",
    "\n",
    "The setting is as follows: let $X \\sim \\mathcal{N}(\\mu, \\sigma)$ be a random variable. Assime we choose a random sample of size $n$ based on the distribution of $X$. Next we calculate the sample mean $\\bar{x}_1$ where the 1 denotes it is the \"first\" sample we draw. Now, repeat the process many times, generating a **sequence of averages of samples with size $n$**:\n",
    "\\begin{equation} \\bar{x}_1, \\bar{x}_2, \\dots, \\bar{x}_m \\end{equation}\n",
    "Question: what are the mean and the standard deviation of the averages; what shape does this distribution have?\n",
    "\n",
    "Let us run a simulation to discover\n",
    "\n",
    "### Example 1\n",
    "Construct a simulation that generates $m$ samples from the random variable $X \\sim \\mathcal{N}(100, 12)$, each with size $n$. Then calculate *the mean of the sample means* and the *standard deviation of the sample means* and plot the samples on a histogram. Think about the shape of the distribution."
   ]
  },
  {
   "cell_type": "code",
   "execution_count": null,
   "id": "proprietary-clock",
   "metadata": {
    "colab": {
     "base_uri": "https://localhost:8080/",
     "height": 356
    },
    "executionInfo": {
     "elapsed": 1213,
     "status": "ok",
     "timestamp": 1629132166635,
     "user": {
      "displayName": "Marko",
      "photoUrl": "",
      "userId": "10739355790133053471"
     },
     "user_tz": -120
    },
    "id": "proprietary-clock",
    "outputId": "572a6f6c-8fc2-4a2e-9e2e-c28cf491b2d8"
   },
   "outputs": [
    {
     "name": "stdout",
     "output_type": "stream",
     "text": [
      "Mean of means =  100.03450332621225\n",
      "stdev of means= 3.9765310860542282\n"
     ]
    },
    {
     "data": {
      "image/png": "[encoded data removed]",
      "text/plain": [
       "<Figure size 720x360 with 1 Axes>"
      ]
     },
     "metadata": {
      "needs_background": "light",
      "tags": []
     },
     "output_type": "display_data"
    }
   ],
   "source": [
    "# Define X\n",
    "mu = 100\n",
    "sigma = 12\n",
    "\n",
    "n=9  #sample size\n",
    "m=10000 #number of samples we choose \n",
    "\n",
    "X= stats.norm(mu,sigma)\n",
    "means = np.zeros(m)\n",
    "\n",
    "for i in range(m): #simulation\n",
    "  sample = X.rvs(size=n)\n",
    "  means[i] = np.mean(sample)\n",
    "\n",
    "print('Mean of means = ', np.mean(means))\n",
    "print('stdev of means=', np.std(means))\n",
    "\n",
    "plt.figure(figsize=(10,5))\n",
    "plt.hist(means, density=True, bins= 25, alpha=0.5)\n",
    "plt.show()"
   ]
  },
  {
   "cell_type": "markdown",
   "id": "incoming-annotation",
   "metadata": {
    "id": "incoming-annotation"
   },
   "source": [
    "### Example 2\n",
    "Run a similar simulation like in **Example 1**, but now use a random variable $Q$ which follows a $\\chi^2$-distribution with 10 degrees of freedom. Calculate *the mean of the sample means* and the *standard deviation of the sample means* and plot the samples on a histogram. Think about the shape of the distribution."
   ]
  },
  {
   "cell_type": "code",
   "execution_count": null,
   "id": "olive-teddy",
   "metadata": {
    "colab": {
     "base_uri": "https://localhost:8080/",
     "height": 356
    },
    "executionInfo": {
     "elapsed": 1157,
     "status": "ok",
     "timestamp": 1629138548533,
     "user": {
      "displayName": "Marko",
      "photoUrl": "",
      "userId": "10739355790133053471"
     },
     "user_tz": -120
    },
    "id": "olive-teddy",
    "outputId": "5fe092ee-8839-41ff-f115-2138445b6eb1"
   },
   "outputs": [
    {
     "name": "stdout",
     "output_type": "stream",
     "text": [
      "Mean of means =  9.996450665298477\n",
      "stdev of means= 0.37951178434397637\n"
     ]
    },
    {
     "data": {
      "image/png": "[encoded data removed]",
      "text/plain": [
       "<Figure size 720x360 with 1 Axes>"
      ]
     },
     "metadata": {
      "needs_background": "light",
      "tags": []
     },
     "output_type": "display_data"
    }
   ],
   "source": [
    "# Define Q\n",
    "df = 10\n",
    "\n",
    "\n",
    "n=140  #sample size\n",
    "m=10000 #number of samples we choose \n",
    "\n",
    "Q= stats.chi2(10)\n",
    "means = np.zeros(m)\n",
    "\n",
    "for i in range(m): #simulation\n",
    "  sample = Q.rvs(size=n)\n",
    "  means[i] = np.mean(sample)\n",
    "\n",
    "print('Mean of means = ', np.mean(means))\n",
    "print('stdev of means=', np.std(means))\n",
    "\n",
    "plt.figure(figsize=(10,5))\n",
    "plt.hist(means, density=True, bins= 25, alpha=0.5)\n",
    "plt.show()"
   ]
  },
  {
   "cell_type": "markdown",
   "id": "elluiWtJ4m7c",
   "metadata": {
    "id": "elluiWtJ4m7c"
   },
   "source": [
    "Run the same example from Example 2, but with $X \\sim Bernoulli(0.7)$. Historical relevance: The central limit theorem was first explored with this example (by Poisson).\n"
   ]
  },
  {
   "cell_type": "code",
   "execution_count": null,
   "id": "zTbNiKWO42gx",
   "metadata": {
    "colab": {
     "base_uri": "https://localhost:8080/",
     "height": 356
    },
    "executionInfo": {
     "elapsed": 1445,
     "status": "ok",
     "timestamp": 1629136017983,
     "user": {
      "displayName": "Marko",
      "photoUrl": "",
      "userId": "10739355790133053471"
     },
     "user_tz": -120
    },
    "id": "zTbNiKWO42gx",
    "outputId": "db3f5414-b3b4-4ee2-c254-6e5611bafb62"
   },
   "outputs": [
    {
     "name": "stdout",
     "output_type": "stream",
     "text": [
      "Mean of means =  0.6999225\n",
      "stdev of means= 0.07289243097709117\n"
     ]
    },
    {
     "data": {
      "image/png": "[encoded data removed]",
      "text/plain": [
       "<Figure size 720x360 with 1 Axes>"
      ]
     },
     "metadata": {
      "needs_background": "light",
      "tags": []
     },
     "output_type": "display_data"
    }
   ],
   "source": [
    "# Define Q\n",
    "\n",
    "n= 40\n",
    "m=10000\n",
    "Q= stats.bernoulli(0.7)\n",
    "means = np.zeros(m)\n",
    "\n",
    "for i in range(m): #simulation\n",
    "  sample = Q.rvs(size=n)\n",
    "  means[i] = np.mean(sample)\n",
    "\n",
    "print('Mean of means = ', np.mean(means))\n",
    "print('stdev of means=', np.std(means))\n",
    "\n",
    "plt.figure(figsize=(10,5))\n",
    "plt.hist(means, density=True, bins= 100, alpha=0.5)\n",
    "plt.show()"
   ]
  },
  {
   "cell_type": "code",
   "execution_count": null,
   "id": "i-FbBdkK_ldx",
   "metadata": {
    "id": "i-FbBdkK_ldx"
   },
   "outputs": [],
   "source": []
  },
  {
   "cell_type": "markdown",
   "id": "independent-lighter",
   "metadata": {
    "id": "independent-lighter"
   },
   "source": [
    "### The Central Limit Theorem\n",
    "The Central Limit Theorem (CLT) is one of the most (ab)used facts in statistics. Sometimes it is called **the fundamental theorem of statistics** (in analogy to similar theorems in arithmetic, algebra, and calculus)\n",
    "\n",
    "In simple terms, the CLT states that if you have a random variable $X$ with mean $\\mu_X$ and standard deviation $\\sigma_X$, and you draw many samples of size $n$ from $X$, then the averages of those samples are described by a random variable, labeled as $\\overline{X}=\\overline{X_n}$, for which:\n",
    "* $\\mu_\\overline{X} = \\mu_x$ (the mean of the sample means equals the mean of the original distribution)\n",
    "* $\\sigma_\\overline{X} = \\displaystyle\\frac{\\sigma_X}{\\sqrt{n}}$ (the standrad deviation of the sample means equals the standard deviation of the original distribution scaled down by a factor of $\\sqrt{n}$)\n",
    "\n",
    "Even more, the shape of the distribution is **approximately** Normal, or in other words $\\overline{X} \\sim \\mathcal{N}\\left( \\mu_\\overline{X}, \\sigma_\\overline{X}  \\right) = \\mathcal{N}\\left( \\mu, \\displaystyle\\frac{\\sigma}{\\sqrt{n}} \\right)$. This distribution is called the **sampling distribution of the mean**.\n",
    "\n",
    "If $X$ is distributed normally, then $\\overline{X}$ is also distributed normally, and this is the only case when the sampling distribution of the mean is exactly normal.\n",
    "\n",
    "### Example 3\n",
    "Illustrate the CLT on the random variable $X \\sim \\mathcal{N}(160, 10)$ if the sample size is $n = 16$"
   ]
  },
  {
   "cell_type": "code",
   "execution_count": null,
   "id": "valued-affiliation",
   "metadata": {
    "colab": {
     "base_uri": "https://localhost:8080/",
     "height": 265
    },
    "executionInfo": {
     "elapsed": 1283,
     "status": "ok",
     "timestamp": 1629135017677,
     "user": {
      "displayName": "Marko",
      "photoUrl": "",
      "userId": "10739355790133053471"
     },
     "user_tz": -120
    },
    "id": "valued-affiliation",
    "outputId": "ef615e1e-5c5e-4c49-dd72-225e44069838"
   },
   "outputs": [
    {
     "data": {
      "image/png": "[encoded data removed]",
      "text/plain": [
       "<Figure size 1008x288 with 1 Axes>"
      ]
     },
     "metadata": {
      "needs_background": "light",
      "tags": []
     },
     "output_type": "display_data"
    }
   ],
   "source": [
    "# Define X\n",
    "mu = 160\n",
    "sigma = 10\n",
    "n = 16\n",
    "m= 10000 #number of samples\n",
    "\n",
    "X = stats.norm(mu, sigma)\n",
    "X_bar = stats.norm(mu, sigma/np.sqrt(n))\n",
    "\n",
    "means = np.zeros(m)\n",
    "for i in range(m):\n",
    "  sample = X.rvs(size=n)\n",
    "  means[i]= np.mean(sample)\n",
    "\n",
    "xs = np.linspace(mu-3*sigma, mu+3*sigma, 1000)\n",
    "plt.figure(figsize=(14, 4))\n",
    "plt.hist(means, density=True, alpha=0.4, bins=25)\n",
    "plt.plot(xs, X.pdf(xs), color='tab:red', label=f'X ~ N({mu}, {sigma})')\n",
    "plt.plot(xs, X_bar.pdf(xs), label=f'X-bar ~ N({mu}, {sigma/np.sqrt(n)})')\n",
    "plt.legend()\n",
    "plt.show()\n"
   ]
  },
  {
   "cell_type": "markdown",
   "id": "analyzed-million",
   "metadata": {
    "id": "analyzed-million"
   },
   "source": [
    "### Example 4\n",
    "Illustrate the CLT on the random variable $G$ which follows a **geometric distribution** with parameter $p=0.2$, i.e. $G \\sim \\mathcal{Geom}(0.2)$, with sample size $n = 17$"
   ]
  },
  {
   "cell_type": "code",
   "execution_count": 3,
   "id": "animal-trinidad",
   "metadata": {
    "colab": {
     "base_uri": "https://localhost:8080/",
     "height": 265
    },
    "executionInfo": {
     "elapsed": 950,
     "status": "ok",
     "timestamp": 1629303654192,
     "user": {
      "displayName": "Marko",
      "photoUrl": "",
      "userId": "10739355790133053471"
     },
     "user_tz": -120
    },
    "id": "animal-trinidad",
    "outputId": "71535826-93d2-44b9-d55c-f92a99e2f498"
   },
   "outputs": [
    {
     "data": {
      "image/png": "[encoded data removed]",
      "text/plain": [
       "<Figure size 1008x288 with 1 Axes>"
      ]
     },
     "metadata": {
      "needs_background": "light",
      "tags": []
     },
     "output_type": "display_data"
    }
   ],
   "source": [
    "# Define G\n",
    "p = 0.2\n",
    "n = 37\n",
    "m=1000\n",
    "\n",
    "G=stats.geom(p) \n",
    "mean_G = G.mean()\n",
    "std_G = G.std()\n",
    "G_bar = stats.norm(mean_G, std_G/np.sqrt(n))\n",
    "\n",
    "means = np.zeros(m)\n",
    "for i in range(m):\n",
    "  sample = G.rvs(size=n)\n",
    "  means[i] = np.mean(sample)\n",
    "\n",
    "  \n",
    "xs_discrete = np.arange(1, 12)\n",
    "xs = np.linspace(0, 12, 1000)\n",
    "plt.figure(figsize=(14, 4))\n",
    "plt.plot(xs_discrete, G.pmf(xs_discrete), color='tab:red', alpha=1, label=f'G ~ Geom({p})')\n",
    "plt.hist(means, density=True, alpha=0.4, bins=25)\n",
    "plt.plot(xs, G_bar.pdf(xs), label=f'X-bar ~ N({mean_G}, { np.round(std_G/np.sqrt(n), 2) })')\n",
    "plt.legend()\n",
    "plt.show()"
   ]
  },
  {
   "cell_type": "markdown",
   "id": "residential-suspension",
   "metadata": {
    "id": "residential-suspension"
   },
   "source": [
    "### How does this help us with data?\n",
    "The situation is as following: we have one sample of size $n$ from a population with unknown population mean $\\mu$ and population standard deviation $\\sigma$. Obviously, the *sample statistics* $\\bar{x}$ and $s$ can estimate $\\mu$ and $\\sigma$, but they can also \"miss\" them by a lot. These sample statistics are called **point estimates** of the population parameters.\n",
    "\n",
    "Question: how do we take adventage of the facts stated in the CLT to give an **interval estimate** of the population mean $\\mu$?\n",
    "\n",
    "In practice, if you work with a *large sample* ($n \\geqslant 30$ or $40$), then you can consider the sampling distribution to be close enough to the normal distribution. However, in all other cases, the Student *t*-distribution with $n-1$ degrees of freedom describes the sampling distibution much better than the normal distribution.\n",
    "\n",
    "Recall the **68-95-99.7 Rule** for the Normal distribution. We can constuct something like that for any distribution. Since we only have one sample in reality, we use the sample statistics as estimates of the population parameters. If  $\\bar{x}$ and $s$ are the sample mean standard deviation from a sample with size $n$, then the **$(1-\\alpha)\\%$ confidence interval** estimate of the population mean is given by:\n",
    "\\begin{equation}\\displaystyle \\bar{x} \\pm t_{n-1}^* \\cdot \\frac{s}{\\sqrt{n}}\\end{equation}\n",
    "where $t_{n-1}^*$ is a scaling coefficient that depends on the sample size $n$ and can be obtained using $t$-distribution. The number $df =   n-1$ is the number of **degrees of freedom**, while the quantity $SE = \\frac{s}{\\sqrt{n}}$ is called **standard error**. Let's see some examples. The number $(1-\\alpha)\\%$ is called **confidence level** and usually is at least 90%.\n",
    "\n",
    "### Example 5\n",
    "In this example, we use a confidence interval to estimate the mean of a known population (i.e. this is just a *controlled* experiment). Let $X \\sim \\mathcal{N}(100, 12)$. Generate 5 different 90% CIs and 5 more 95% CIs for the mean of the population based on samples of size $n=9$. Comment on what you get."
   ]
  },
  {
   "cell_type": "code",
   "execution_count": null,
   "id": "confidential-hanging",
   "metadata": {
    "colab": {
     "base_uri": "https://localhost:8080/"
    },
    "executionInfo": {
     "elapsed": 285,
     "status": "ok",
     "timestamp": 1629137499567,
     "user": {
      "displayName": "Marko",
      "photoUrl": "",
      "userId": "10739355790133053471"
     },
     "user_tz": -120
    },
    "id": "confidential-hanging",
    "outputId": "23ca8d08-2b6f-41f8-8ba8-bb17bfcd8a97"
   },
   "outputs": [
    {
     "name": "stdout",
     "output_type": "stream",
     "text": [
      "90% CI vs 95% CI\n",
      "(85.61763163243216, 101.77743235576727)\n",
      "(83.6777404809514, 103.71732350724804)\n",
      "(94.1170856335611, 107.19658093085685)\n",
      "(92.54696743548087, 108.76669912893709)\n",
      "(89.45842347217926, 101.97988521278042)\n",
      "(87.95529399366276, 103.48301469129692)\n",
      "(94.13880594769012, 112.68729131711666)\n",
      "(91.91216694034381, 114.91393032446297)\n",
      "(91.5534801029778, 109.46454523279868)\n",
      "(89.40335972997333, 111.61466560580315)\n",
      "(88.23259984756423, 100.95004914808554)\n",
      "(86.70594318948665, 102.47670580616312)\n",
      "(87.54470095917108, 107.28147331825059)\n",
      "(85.17541493184518, 109.65075934557649)\n",
      "(94.85499384106618, 104.6914410636409)\n",
      "(93.67418491552503, 105.87224998918204)\n",
      "(97.23273494706083, 114.27267028271064)\n",
      "(95.1871886964998, 116.31821653327167)\n",
      "(88.34915723802766, 107.61187290806197)\n",
      "(86.03677899020497, 109.92425115588466)\n"
     ]
    }
   ],
   "source": [
    "# Define X\n",
    "mu = 100\n",
    "sigma = 12\n",
    "\n",
    "X = stats.norm(mu, sigma)\n",
    "n=9\n",
    "dfreedom= n-1\n",
    "T=stats.t(df=dfreedom)\n",
    "\n",
    "print('90% CI vs 95% CI')\n",
    "c_level = 0.9\n",
    "\n",
    "\n",
    "counter = 0 \n",
    "for i in range(10):\n",
    "  sample = X.rvs(size = n)\n",
    "  x_bar = sample.mean()\n",
    "  se = sample.std()/np.sqrt(n)\n",
    "  t_star_90 = T.ppf((1+0.90)/2)      \n",
    "  t_star_95 = T.ppf((1+0.95)/2)\n",
    "  l_90 = x_bar - t_star_90*se\n",
    "  u_90 = x_bar + t_star_90*se\n",
    "\n",
    "  l_95 = x_bar - t_star_95*se\n",
    "  u_95 = x_bar + t_star_95*se\n",
    "  print(f'({l_90}, {u_90})')\n",
    "  print(f'({l_95}, {u_95})')\n",
    "\n",
    "#print('95% CI')\n",
    "#c_level = 0.95\n",
    "#counter = 0 \n",
    "###for i in range(10):\n",
    "#  sample = X.rvs(size = n)\n",
    "##  x_bar = sample.mean()\n",
    "#  se = sample.std()/np.sqrt(n)\n",
    "#  t_star = T.ppf((1+c_level)/2)\n",
    "#  l = x_bar - t_star*se\n",
    "#  u = x_bar + t_star*se\n",
    "#  if l<=100 and u>=100:\n",
    "#        print(f'({l}, {u})')\n",
    "#        counter\n",
    "#  else:\n",
    "#        print(f'({l}, {u}) ***')\n",
    "#        counter = counter + 1\n",
    "\n",
    "#print(counter)"
   ]
  },
  {
   "cell_type": "markdown",
   "id": "illegal-literature",
   "metadata": {
    "id": "illegal-literature"
   },
   "source": [
    "### Example 6\n",
    "Let $Y \\sim \\mathcal{Po}(13)$. Generate 5 different 95% CIs and 5 more 99% CIs for the mean of the population based on samples of size $n=25$. Comment on what you get."
   ]
  },
  {
   "cell_type": "code",
   "execution_count": 6,
   "id": "stable-tissue",
   "metadata": {
    "colab": {
     "base_uri": "https://localhost:8080/"
    },
    "executionInfo": {
     "elapsed": 2595,
     "status": "ok",
     "timestamp": 1629305249952,
     "user": {
      "displayName": "Marko",
      "photoUrl": "",
      "userId": "10739355790133053471"
     },
     "user_tz": -120
    },
    "id": "stable-tissue",
    "outputId": "cfda8318-e546-4ada-e08f-173beb2feb90"
   },
   "outputs": [
    {
     "name": "stdout",
     "output_type": "stream",
     "text": [
      "95%CI\n",
      "(11.547811165048888, 14.772188834951113)\n",
      "(12.323475496754739, 15.596524503245263)\n",
      "(11.497326320023195, 15.142673679976806)\n",
      "(12.5534326054812, 15.046567394518801)\n",
      "(12.688564706171272, 15.551435293828726)\n",
      "(11.539231541175424, 14.700768458824575)\n",
      "(12.896011733739417, 15.663988266260581)\n",
      "(10.7590661511806, 14.9209338488194)\n",
      "(10.365475731158664, 13.634524268841336)\n",
      "(10.756851637347564, 13.483148362652434)\n"
     ]
    }
   ],
   "source": [
    "# Define Y\n",
    "lmbd = 13\n",
    "\n",
    "\n",
    "Y= stats.poisson(lmbd)\n",
    "\n",
    "n=25\n",
    "dfreedom = n-1\n",
    "T=stats.t(df = dfreedom)\n",
    "\n",
    "\n",
    "print('95%CI')\n",
    "c_level=0.95\n",
    "\n",
    "counter = 0 \n",
    "for i in range(10):\n",
    "  sample = Y.rvs(size = n)\n",
    "  x_bar = sample.mean()\n",
    "  se = sample.std()/np.sqrt(n)\n",
    "#  t_star_90 = T.ppf((1+0.90)/2)      \n",
    "  t_star_95 = T.ppf((1+0.95)/2)\n",
    " # l_90 = x_bar - t_star_90*se\n",
    " # u_90 = x_bar + t_star_90*se\n",
    "\n",
    "  l_95 = x_bar - t_star_95*se\n",
    "  u_95 = x_bar + t_star_95*se\n",
    " # print(f'({l_90}, {u_90})')\n",
    "  print(f'({l_95}, {u_95})')"
   ]
  },
  {
   "cell_type": "markdown",
   "id": "intermediate-natural",
   "metadata": {
    "id": "intermediate-natural"
   },
   "source": [
    "### Example 7\n",
    "The sample given in the next cell comes from a distribution whose mean you do not know, but need to estimate. Use a 95% CI to estimate the population mean."
   ]
  },
  {
   "cell_type": "code",
   "execution_count": 7,
   "id": "fabulous-avenue",
   "metadata": {
    "colab": {
     "base_uri": "https://localhost:8080/",
     "height": 301
    },
    "executionInfo": {
     "elapsed": 330,
     "status": "ok",
     "timestamp": 1629305956715,
     "user": {
      "displayName": "Marko",
      "photoUrl": "",
      "userId": "10739355790133053471"
     },
     "user_tz": -120
    },
    "id": "fabulous-avenue",
    "outputId": "b5dbd8a7-5915-4803-fb51-2f67a9b892e9"
   },
   "outputs": [
    {
     "name": "stdout",
     "output_type": "stream",
     "text": [
      "(2.496033806453526, 4.291773841546474)\n",
      "(2.3005474513778545, 4.487260196622145)\n"
     ]
    },
    {
     "data": {
      "image/png": "[encoded data removed]",
      "text/plain": [
       "<Figure size 432x288 with 1 Axes>"
      ]
     },
     "metadata": {
      "needs_background": "light",
      "tags": []
     },
     "output_type": "display_data"
    }
   ],
   "source": [
    "sample = np.array([3.23545161, 3.77542568, 1.01742999, 1.95137322, 3.70661749,\n",
    "       1.54115566, 3.97507688, 3.74119874, 2.99544951, 1.20815545,\n",
    "  #     4.43162589, 1.68634582, 0.97010408, 3.81707371, 1.37509011,\n",
    "       1.46900854, 5.10493947, 8.15556455, 6.73199071, 2.29971986])\n",
    "\n",
    "\n",
    "\n",
    "\n",
    "\n",
    "n= sample.shape[0]\n",
    "dfreedom = n-1\n",
    "T=stats.t(df = dfreedom)\n",
    "x_bar = sample.mean()\n",
    "se = sample.std()/np.sqrt(n)\n",
    "t_star_90 = T.ppf((1+0.90)/2)      \n",
    "t_star_95 = T.ppf((1+0.95)/2)\n",
    "l_90 = x_bar - t_star_90*se\n",
    "u_90 = x_bar + t_star_90*se\n",
    "\n",
    "l_95 = x_bar - t_star_95*se\n",
    "u_95 = x_bar + t_star_95*se\n",
    "print(f'({l_90}, {u_90})')\n",
    "print(f'({l_95}, {u_95})')\n",
    "\n",
    "plt.figure()\n",
    "plt.hist(sample)\n",
    "plt.show()\n",
    "\n",
    "#more data:\n",
    "#(2.428417008087653, 3.890462688912347) ; len = 3.89 - 2.42 = 1.47\n",
    "#(2.274575262558397, 4.044304434441603) ; len = 4.04 - 2.27\n",
    "\n",
    "#less data\n",
    "#(2.496033806453526, 4.291773841546474) ; len = 4.29 - 2.49 = 1.80\n",
    "#(2.3005474513778545, 4.487260196622145)"
   ]
  },
  {
   "cell_type": "code",
   "execution_count": null,
   "id": "F9OHyIpLM-a3",
   "metadata": {
    "id": "F9OHyIpLM-a3"
   },
   "outputs": [],
   "source": [
    "3l"
   ]
  }
 ],
 "metadata": {
  "colab": {
   "name": "Week 6, Day 1 (CLT & Hypothesis Tests) - CLEAN.ipynb",
   "provenance": []
  },
  "kernelspec": {
   "display_name": "Python 3",
   "language": "python",
   "name": "python3"
  },
  "language_info": {
   "codemirror_mode": {
    "name": "ipython",
    "version": 3
   },
   "file_extension": ".py",
   "mimetype": "text/x-python",
   "name": "python",
   "nbconvert_exporter": "python",
   "pygments_lexer": "ipython3",
   "version": "3.8.8"
  }
 },
 "nbformat": 4,
 "nbformat_minor": 5
}
