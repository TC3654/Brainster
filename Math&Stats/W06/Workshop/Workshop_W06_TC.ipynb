{
 "cells": [
  {
   "cell_type": "markdown",
   "id": "matched-messaging",
   "metadata": {
    "id": "matched-messaging"
   },
   "source": [
    "# Workshop #6: Hypothesis Testing"
   ]
  },
  {
   "cell_type": "code",
   "execution_count": 1,
   "id": "humanitarian-schema",
   "metadata": {
    "id": "humanitarian-schema"
   },
   "outputs": [],
   "source": [
    "#importing libraries\n",
    "import numpy as np\n",
    "import sympy as sy\n",
    "import pandas as pd\n",
    "import matplotlib.pyplot as plt\n",
    "import seaborn as sns\n",
    "import scipy.stats as stats\n",
    "from statsmodels.stats.multicomp import pairwise_tukeyhsd\n",
    "\n",
    "np.random.seed(123)"
   ]
  },
  {
   "cell_type": "markdown",
   "id": "copyrighted-swedish",
   "metadata": {
    "id": "copyrighted-swedish"
   },
   "source": [
    "## Problem 1\n",
    "Gulf Real Estate Properties Inc. is a real estate firm located in southwest Florida. The company, which advertises itself as “expert in the real estate market,” monitors condominium sales by collecting data on location, list price, sale price, and number of days it takes to sell each unit. Each condominium is classified as Yes for Gulf view if it is located directly on the Gulf of Mexico or No for Gulf view if it is located on the bay or a golf course, near but not on the Gulf. Sample data from the Multiple Listing Service in Naples, Florida, provided recent sales data for some condominiums. The prices are in thousands of dollars. The data are given in condominiums.csv. <br /><br /> \n",
    "Construct a 95% confidence interval estimate of the population mean Sale Price for condominiums with Gulf view, and then the 95% confidence interval for the population mean Sale Price for condominiums without Gulf view. Based on your results, does it seem that the prices differ?"
   ]
  },
  {
   "cell_type": "code",
   "execution_count": 2,
   "id": "comic-athletics",
   "metadata": {
    "id": "comic-athletics"
   },
   "outputs": [
    {
     "data": {
      "text/html": [
       "<div>\n",
       "<style scoped>\n",
       "    .dataframe tbody tr th:only-of-type {\n",
       "        vertical-align: middle;\n",
       "    }\n",
       "\n",
       "    .dataframe tbody tr th {\n",
       "        vertical-align: top;\n",
       "    }\n",
       "\n",
       "    .dataframe thead th {\n",
       "        text-align: right;\n",
       "    }\n",
       "</style>\n",
       "<table border=\"1\" class=\"dataframe\">\n",
       "  <thead>\n",
       "    <tr style=\"text-align: right;\">\n",
       "      <th></th>\n",
       "      <th>gulf_view</th>\n",
       "      <th>list_price</th>\n",
       "      <th>sale_price</th>\n",
       "      <th>days_to_sell</th>\n",
       "    </tr>\n",
       "  </thead>\n",
       "  <tbody>\n",
       "    <tr>\n",
       "      <th>0</th>\n",
       "      <td>yes</td>\n",
       "      <td>495.0</td>\n",
       "      <td>475.0</td>\n",
       "      <td>130</td>\n",
       "    </tr>\n",
       "    <tr>\n",
       "      <th>1</th>\n",
       "      <td>yes</td>\n",
       "      <td>379.0</td>\n",
       "      <td>350.0</td>\n",
       "      <td>71</td>\n",
       "    </tr>\n",
       "    <tr>\n",
       "      <th>2</th>\n",
       "      <td>yes</td>\n",
       "      <td>529.0</td>\n",
       "      <td>519.0</td>\n",
       "      <td>85</td>\n",
       "    </tr>\n",
       "    <tr>\n",
       "      <th>3</th>\n",
       "      <td>yes</td>\n",
       "      <td>552.5</td>\n",
       "      <td>534.5</td>\n",
       "      <td>95</td>\n",
       "    </tr>\n",
       "    <tr>\n",
       "      <th>4</th>\n",
       "      <td>yes</td>\n",
       "      <td>334.9</td>\n",
       "      <td>334.9</td>\n",
       "      <td>119</td>\n",
       "    </tr>\n",
       "  </tbody>\n",
       "</table>\n",
       "</div>"
      ],
      "text/plain": [
       "  gulf_view  list_price  sale_price  days_to_sell\n",
       "0       yes       495.0       475.0           130\n",
       "1       yes       379.0       350.0            71\n",
       "2       yes       529.0       519.0            85\n",
       "3       yes       552.5       534.5            95\n",
       "4       yes       334.9       334.9           119"
      ]
     },
     "execution_count": 2,
     "metadata": {},
     "output_type": "execute_result"
    }
   ],
   "source": [
    "# Load the data\n",
    "df = pd.read_csv('condominiums.csv')\n",
    "df.head()"
   ]
  },
  {
   "cell_type": "code",
   "execution_count": 3,
   "id": "a8f91635-967f-4f1b-840e-f7a506702add",
   "metadata": {},
   "outputs": [
    {
     "data": {
      "text/plain": [
       "(58, 4)"
      ]
     },
     "execution_count": 3,
     "metadata": {},
     "output_type": "execute_result"
    }
   ],
   "source": [
    "df.shape"
   ]
  },
  {
   "cell_type": "code",
   "execution_count": 4,
   "id": "2f5548c6-1faf-4e86-8176-a58628172bcc",
   "metadata": {},
   "outputs": [
    {
     "data": {
      "text/plain": [
       "(  gulf_view  list_price  sale_price  days_to_sell\n",
       " 0       yes       495.0       475.0           130\n",
       " 1       yes       379.0       350.0            71\n",
       " 2       yes       529.0       519.0            85\n",
       " 3       yes       552.5       534.5            95\n",
       " 4       yes       334.9       334.9           119,\n",
       "    gulf_view  list_price  sale_price  days_to_sell\n",
       " 40        no       217.0       217.0           182\n",
       " 41        no       148.0       135.5           338\n",
       " 42        no       186.5       179.0           122\n",
       " 43        no       239.0       230.0           150\n",
       " 44        no       279.0       267.5           169)"
      ]
     },
     "execution_count": 4,
     "metadata": {},
     "output_type": "execute_result"
    }
   ],
   "source": [
    "df_withView = df[df['gulf_view'] == 'yes']\n",
    "df_withoutView = df[df['gulf_view'] == 'no']\n",
    "df_withView.head(), df_withoutView.head()"
   ]
  },
  {
   "cell_type": "code",
   "execution_count": 5,
   "id": "b975a938-764e-4e02-a23e-b51e8ce54a5e",
   "metadata": {},
   "outputs": [
    {
     "name": "stdout",
     "output_type": "stream",
     "text": [
      "With View: (392.6523357042181, 515.792664295782)\n",
      "Without View: (181.36204825516631, 225.01572952261148)\n",
      "Comment: It's much cheaper to buy a condo without a view of the Gulf.\n"
     ]
    }
   ],
   "source": [
    "#sample1, sample2\n",
    "\n",
    "sample1 = df_withView['sale_price']\n",
    "sample2 = df_withoutView['sale_price']\n",
    "\n",
    "n1 = sample1.size\n",
    "n2 = sample2.size\n",
    "\n",
    "T1 = stats.t(df = n1-1)\n",
    "T2 = stats.t(df = n2-1)\n",
    "\n",
    "x_bar1 = sample1.mean()\n",
    "x_bar2 = sample2.mean()\n",
    "\n",
    "se1 = sample1.std()/np.sqrt(n1)\n",
    "se2 = sample2.std()/np.sqrt(n2)\n",
    " \n",
    "t1_star_95 = T1.ppf((1+0.95)/2)\n",
    "t2_star_95 = T2.ppf((1+0.95)/2)\n",
    "\n",
    "l1_95 = x_bar1 - t1_star_95*se1\n",
    "u1_95 = x_bar1 + t1_star_95*se1\n",
    "\n",
    "l2_95 = x_bar2 - t2_star_95*se2\n",
    "u2_95 = x_bar2 + t2_star_95*se2\n",
    "\n",
    "print(f'With View: ({l1_95}, {u1_95})')\n",
    "print(f'Without View: ({l2_95}, {u2_95})')\n",
    "\n",
    "print(\"Comment: It's much cheaper to buy a condo without a view of the Gulf.\")"
   ]
  },
  {
   "cell_type": "markdown",
   "id": "confidential-singapore",
   "metadata": {
    "id": "confidential-singapore"
   },
   "source": [
    "## Problem 2\n",
    "Triphammer Road is a busy street that passes through a residential neighborhood. Residents there are concerned that vehicles traveling on Triphammer often exceed the posted speed limit of 30 miles per hour. The local police sometimes place a radar speed detector by the side of the road; as a vehicle approaches, this detector displays the vehicle’s speed to its driver. The local residents are not convinced that such a passive method is helping the problem. They wish to persuade the village to add extra police patrols to encourage drivers to observe the speed limit. To help their case, a resident stood where he could see the detector and recorded the speed of vehicles passing it during a 15-minute period one day. When clusters of vehicles went by, he noted only the speed of the front vehicle. The data are given in triphammer.csv. <br /> <br /> \n",
    "Is there sufficient evidence to support the residents' concern about the speed of vehicles passing on Triphammer Road? State the hypotheses of the test, and then perform the correct test to reach a conclusion."
   ]
  },
  {
   "cell_type": "code",
   "execution_count": 6,
   "id": "sonic-hudson",
   "metadata": {
    "id": "sonic-hudson"
   },
   "outputs": [
    {
     "data": {
      "text/html": [
       "<div>\n",
       "<style scoped>\n",
       "    .dataframe tbody tr th:only-of-type {\n",
       "        vertical-align: middle;\n",
       "    }\n",
       "\n",
       "    .dataframe tbody tr th {\n",
       "        vertical-align: top;\n",
       "    }\n",
       "\n",
       "    .dataframe thead th {\n",
       "        text-align: right;\n",
       "    }\n",
       "</style>\n",
       "<table border=\"1\" class=\"dataframe\">\n",
       "  <thead>\n",
       "    <tr style=\"text-align: right;\">\n",
       "      <th></th>\n",
       "      <th>vehicle type</th>\n",
       "      <th>speed (mph)</th>\n",
       "    </tr>\n",
       "  </thead>\n",
       "  <tbody>\n",
       "    <tr>\n",
       "      <th>0</th>\n",
       "      <td>car</td>\n",
       "      <td>29</td>\n",
       "    </tr>\n",
       "    <tr>\n",
       "      <th>1</th>\n",
       "      <td>SUV</td>\n",
       "      <td>34</td>\n",
       "    </tr>\n",
       "    <tr>\n",
       "      <th>2</th>\n",
       "      <td>truck</td>\n",
       "      <td>34</td>\n",
       "    </tr>\n",
       "    <tr>\n",
       "      <th>3</th>\n",
       "      <td>truck</td>\n",
       "      <td>28</td>\n",
       "    </tr>\n",
       "    <tr>\n",
       "      <th>4</th>\n",
       "      <td>truck</td>\n",
       "      <td>30</td>\n",
       "    </tr>\n",
       "  </tbody>\n",
       "</table>\n",
       "</div>"
      ],
      "text/plain": [
       "  vehicle type  speed (mph)\n",
       "0          car           29\n",
       "1          SUV           34\n",
       "2        truck           34\n",
       "3        truck           28\n",
       "4        truck           30"
      ]
     },
     "execution_count": 6,
     "metadata": {},
     "output_type": "execute_result"
    }
   ],
   "source": [
    "# Load the data\n",
    "df = pd.read_csv('triphammer.csv')\n",
    "df.head()"
   ]
  },
  {
   "cell_type": "code",
   "execution_count": 7,
   "id": "f3db747b-1903-49c2-b699-3d5939161e42",
   "metadata": {},
   "outputs": [
    {
     "data": {
      "image/png": "[encoded data removed]",
      "text/plain": [
       "<Figure size 1008x288 with 1 Axes>"
      ]
     },
     "metadata": {
      "needs_background": "light"
     },
     "output_type": "display_data"
    },
    {
     "name": "stdout",
     "output_type": "stream",
     "text": [
      "p-value =  0.12566910367402262\n",
      "Do not reject H0 - we do not have sufficient data showing that the vehicles are driving over the set speed limit.\n"
     ]
    }
   ],
   "source": [
    "# the sample\n",
    "sample = df['speed (mph)']\n",
    "\n",
    "# hypotheses\n",
    "# H0: mu = 30 <--- speed limit\n",
    "# Ha: mu > 30   <--- residents suspect that vehicles are driving faster\n",
    "mu0 = 30\n",
    "\n",
    "# Get the statistics\n",
    "n = sample.size\n",
    "x_bar = sample.mean()\n",
    "se = stats.sem(sample)\n",
    "\n",
    "# Assuming H0 is true, this is the distribution of the averages of the heights for samples of size n\n",
    "T = stats.t(df=n-1, loc = mu0, scale = se)\n",
    "\n",
    "# Let us plot all the facts together\n",
    "xs = np.linspace(mu0 - 4*se, mu0+4*se, 1000)\n",
    "plt.figure(figsize=(14, 4))\n",
    "plt.vlines(x_bar, 0, 0.4, color='tab:red', label=f'x-bar = {np.round(x_bar,2)}')\n",
    "plt.plot(xs, T.pdf(xs), label='Distribution of measured speeds')\n",
    "plt.legend()\n",
    "plt.show()\n",
    "\n",
    "\n",
    "# Calculate the p-value: (x_bar, +infty)\n",
    "p = 1- T.cdf(x_bar) \n",
    "print('p-value = ', p)\n",
    "\n",
    " #Print a simple conclusion:\n",
    "if p < 0.05:\n",
    "    print('Reject H0 in favor of Ha. Vehicles are driving faster than the set speed limit.')\n",
    "else:\n",
    "    print(\"Do not reject H0 - we do not have sufficient data showing that the vehicles are driving over the set speed limit.\")"
   ]
  },
  {
   "cell_type": "markdown",
   "id": "elect-quarter",
   "metadata": {
    "id": "elect-quarter"
   },
   "source": [
    "## Problem 3\n",
    "In an investigation of environmental causes of disease, data were collected on the annual mortality rate (deaths per 100,000) for males in 61 large towns in England and Wales. In addition, the water hardness was recorded as the calcium concentration (parts per million, ppm) in the drinking water. The data set (given in mortality_rates.csv) also notes, for each town, whether it was south or north of Derby. <br /> <br /> \n",
    "Perform an appropriate hypothesis test to establish if there is a significant difference in mortality rates in the two regions?"
   ]
  },
  {
   "cell_type": "code",
   "execution_count": 12,
   "id": "acoustic-cotton",
   "metadata": {
    "id": "acoustic-cotton"
   },
   "outputs": [
    {
     "data": {
      "text/html": [
       "<div>\n",
       "<style scoped>\n",
       "    .dataframe tbody tr th:only-of-type {\n",
       "        vertical-align: middle;\n",
       "    }\n",
       "\n",
       "    .dataframe tbody tr th {\n",
       "        vertical-align: top;\n",
       "    }\n",
       "\n",
       "    .dataframe thead th {\n",
       "        text-align: right;\n",
       "    }\n",
       "</style>\n",
       "<table border=\"1\" class=\"dataframe\">\n",
       "  <thead>\n",
       "    <tr style=\"text-align: right;\">\n",
       "      <th></th>\n",
       "      <th>derby</th>\n",
       "      <th>mortality</th>\n",
       "      <th>calcium</th>\n",
       "    </tr>\n",
       "  </thead>\n",
       "  <tbody>\n",
       "    <tr>\n",
       "      <th>0</th>\n",
       "      <td>South</td>\n",
       "      <td>1702</td>\n",
       "      <td>44</td>\n",
       "    </tr>\n",
       "    <tr>\n",
       "      <th>1</th>\n",
       "      <td>South</td>\n",
       "      <td>1309</td>\n",
       "      <td>59</td>\n",
       "    </tr>\n",
       "    <tr>\n",
       "      <th>2</th>\n",
       "      <td>South</td>\n",
       "      <td>1259</td>\n",
       "      <td>133</td>\n",
       "    </tr>\n",
       "    <tr>\n",
       "      <th>3</th>\n",
       "      <td>North</td>\n",
       "      <td>1427</td>\n",
       "      <td>27</td>\n",
       "    </tr>\n",
       "    <tr>\n",
       "      <th>4</th>\n",
       "      <td>North</td>\n",
       "      <td>1724</td>\n",
       "      <td>6</td>\n",
       "    </tr>\n",
       "  </tbody>\n",
       "</table>\n",
       "</div>"
      ],
      "text/plain": [
       "   derby  mortality  calcium\n",
       "0  South       1702       44\n",
       "1  South       1309       59\n",
       "2  South       1259      133\n",
       "3  North       1427       27\n",
       "4  North       1724        6"
      ]
     },
     "execution_count": 12,
     "metadata": {},
     "output_type": "execute_result"
    }
   ],
   "source": [
    "# Load the data\n",
    "df = pd.read_csv('mortality_rates.csv')\n",
    "df.head()"
   ]
  },
  {
   "cell_type": "code",
   "execution_count": 13,
   "id": "d139a339-7b53-4799-af72-7b7abb77f763",
   "metadata": {},
   "outputs": [
    {
     "data": {
      "text/plain": [
       "(   derby  mortality  calcium\n",
       " 0  South       1702       44\n",
       " 1  South       1309       59\n",
       " 2  South       1259      133\n",
       " 5  South       1175      107\n",
       " 6  South       1486        5,\n",
       "     derby  mortality  calcium\n",
       " 3   North       1427       27\n",
       " 4   North       1724        6\n",
       " 8   North       1696        6\n",
       " 10  North       1711       13\n",
       " 11  North       1444       14)"
      ]
     },
     "execution_count": 13,
     "metadata": {},
     "output_type": "execute_result"
    }
   ],
   "source": [
    "df_South = df[df['derby'] == 'South']\n",
    "df_North = df[df['derby'] == 'North']\n",
    "df_South.head(), df_North.head()"
   ]
  },
  {
   "cell_type": "code",
   "execution_count": 15,
   "id": "3ef6c2d9-41ba-46e0-8009-55d75f2ce3eb",
   "metadata": {},
   "outputs": [
    {
     "data": {
      "image/png": "[encoded data removed]",
      "text/plain": [
       "<Figure size 432x288 with 1 Axes>"
      ]
     },
     "metadata": {
      "needs_background": "light"
     },
     "output_type": "display_data"
    },
    {
     "name": "stdout",
     "output_type": "stream",
     "text": [
      "p value is  1.5756084682274963e-08\n",
      "we reject the H0 - there is a significant difference in mortality rates between South and North\n"
     ]
    }
   ],
   "source": [
    "sample1 = df_South['mortality']\n",
    "sample2 = df_North['mortality']\n",
    "\n",
    "# hypotheses\n",
    "# H0: mu_South = mu_North   <--- no significant difference in mortality rates between South and North\n",
    "# Ha: mu_South != mu_North   <--- significant difference in mortality rate between South and North\n",
    "\n",
    "plt.plot()\n",
    "plt.hist(sample1, alpha = 0.5, label = \"South mortality\")\n",
    "plt.hist(sample2, alpha = 0.5, label = \"North mortality\")\n",
    "plt.legend()\n",
    "plt.show()\n",
    "t_stat, p_2 = stats.ttest_ind(sample1, sample2, equal_var = False)  #, alternative=\"greater\"; for higher version of scipy (1.6 or greater)\n",
    "print(\"p value is \", p_2/2)\n",
    "if p_2/2 < 0.5: \n",
    "  print(\"we reject the H0 - there is a significant difference in mortality rates between South and North\")\n",
    "else:\n",
    "  print(\"we do not have sufficient data to reject the H0 - no significant difference in mortality rates between South and North\")"
   ]
  },
  {
   "cell_type": "markdown",
   "id": "marked-palestine",
   "metadata": {
    "id": "marked-palestine"
   },
   "source": [
    "## Problem 4\n",
    "A hygiene scientist decided to investigate just how effective washing with soap is in eliminating bacteria. To do this she tested four different methods—washing with water only, washing with regular soap, washing with antibacterial soap (ABS), and spraying hands with antibacterial spray (AS) (containing 65% ethanol as an active ingredient). She suspected that the number of bacteria on her hands before washing might vary considerably from day to day. To help even out the effects of those changes, she generated random numbers to determine the order of the four treatments. Each morning she washed her hands according to the treatment randomly chosen. Then she placed her right hand on a sterile media plate designed to encourage bacteria growth. She incubated each plate for 2 days at 36 °C after which she counted the bacteria colonies. She replicated this procedure 8 times for each of the four treatments. The data are given in bacterial_counts.csv. <br /> <br /> \n",
    "Is there evidence that the average bacterial counts are different for the four methods she tested?"
   ]
  },
  {
   "cell_type": "code",
   "execution_count": 23,
   "id": "compatible-screen",
   "metadata": {
    "id": "compatible-screen"
   },
   "outputs": [
    {
     "data": {
      "text/html": [
       "<div>\n",
       "<style scoped>\n",
       "    .dataframe tbody tr th:only-of-type {\n",
       "        vertical-align: middle;\n",
       "    }\n",
       "\n",
       "    .dataframe tbody tr th {\n",
       "        vertical-align: top;\n",
       "    }\n",
       "\n",
       "    .dataframe thead th {\n",
       "        text-align: right;\n",
       "    }\n",
       "</style>\n",
       "<table border=\"1\" class=\"dataframe\">\n",
       "  <thead>\n",
       "    <tr style=\"text-align: right;\">\n",
       "      <th></th>\n",
       "      <th>method</th>\n",
       "      <th>bacterial_count</th>\n",
       "    </tr>\n",
       "  </thead>\n",
       "  <tbody>\n",
       "    <tr>\n",
       "      <th>0</th>\n",
       "      <td>water</td>\n",
       "      <td>74</td>\n",
       "    </tr>\n",
       "    <tr>\n",
       "      <th>1</th>\n",
       "      <td>soap</td>\n",
       "      <td>84</td>\n",
       "    </tr>\n",
       "    <tr>\n",
       "      <th>2</th>\n",
       "      <td>antibacterial soap</td>\n",
       "      <td>70</td>\n",
       "    </tr>\n",
       "    <tr>\n",
       "      <th>3</th>\n",
       "      <td>alcohol spray</td>\n",
       "      <td>51</td>\n",
       "    </tr>\n",
       "    <tr>\n",
       "      <th>4</th>\n",
       "      <td>water</td>\n",
       "      <td>135</td>\n",
       "    </tr>\n",
       "  </tbody>\n",
       "</table>\n",
       "</div>"
      ],
      "text/plain": [
       "               method  bacterial_count\n",
       "0               water               74\n",
       "1                soap               84\n",
       "2  antibacterial soap               70\n",
       "3       alcohol spray               51\n",
       "4               water              135"
      ]
     },
     "execution_count": 23,
     "metadata": {},
     "output_type": "execute_result"
    }
   ],
   "source": [
    "# Load the data\n",
    "df = pd.read_csv('bacterial_counts.csv')\n",
    "df.head()"
   ]
  },
  {
   "cell_type": "code",
   "execution_count": 24,
   "id": "11a3c62c-cfcd-42fb-844f-e45e8aa2352d",
   "metadata": {},
   "outputs": [
    {
     "data": {
      "text/plain": [
       "array(['water', 'soap', 'antibacterial soap', 'alcohol spray'],\n",
       "      dtype=object)"
      ]
     },
     "execution_count": 24,
     "metadata": {},
     "output_type": "execute_result"
    }
   ],
   "source": [
    "df['method'].unique()"
   ]
  },
  {
   "cell_type": "code",
   "execution_count": 28,
   "id": "869cb163-09e6-450d-b12a-68d19e76b893",
   "metadata": {},
   "outputs": [],
   "source": [
    "water = df[df['method'] == 'water']['bacterial_count']\n",
    "soap = df[df['method'] == 'soap']['bacterial_count']\n",
    "antibacterial = df[df['method'] == 'antibacterial soap']['bacterial_count']\n",
    "alcohol = df[df['method'] == 'alcohol spray']['bacterial_count']"
   ]
  },
  {
   "cell_type": "code",
   "execution_count": 37,
   "id": "2bfebfd8-a0da-4b25-be24-1bee9e18d56b",
   "metadata": {},
   "outputs": [
    {
     "name": "stdout",
     "output_type": "stream",
     "text": [
      "             Multiple Comparison of Means - Tukey HSD, FWER=0.05              \n",
      "==============================================================================\n",
      "      group1             group2       meandiff p-adj   lower    upper   reject\n",
      "------------------------------------------------------------------------------\n",
      "     alcohol spray antibacterial soap     55.0  0.032   3.7359 106.2641   True\n",
      "     alcohol spray               soap     68.5 0.0056  17.2359 119.7641   True\n",
      "     alcohol spray              water     79.5 0.0012  28.2359 130.7641   True\n",
      "antibacterial soap               soap     13.5 0.8836 -37.7641  64.7641  False\n",
      "antibacterial soap              water     24.5 0.5612 -26.7641  75.7641  False\n",
      "              soap              water     11.0    0.9 -40.2641  62.2641  False\n",
      "------------------------------------------------------------------------------\n",
      "Comment: Average bacterial counts are different for the following pairs: alcohol spray & antibacterial soap, alcohol spray & soap, alcohol spray & water.For other pairs we cannot say as there is not enough data.\n"
     ]
    }
   ],
   "source": [
    "#create a single dataframe of the data\n",
    "df = pd.DataFrame({'bacterial_count': np.concatenate([water, soap, antibacterial, alcohol]),\n",
    "                   'method': np.repeat(['water', 'soap', 'antibacterial soap', 'alcohol spray'], repeats=8 )})\n",
    "\n",
    "# perform Tukey's test\n",
    "tukey = pairwise_tukeyhsd(endog=df['bacterial_count'],\n",
    "                          groups=df['method'],\n",
    "                          alpha=0.05)\n",
    "\n",
    "#display results\n",
    "\n",
    "#display(df)\n",
    "print(tukey)\n",
    "print(\"Comment: Average bacterial counts are different for the following pairs: alcohol spray & antibacterial soap, alcohol spray & soap, alcohol spray & water.\"\n",
    "      \"For other pairs we cannot say as there is not enough data.\")"
   ]
  },
  {
   "cell_type": "markdown",
   "id": "eac85ab7-9fd1-407b-8aac-096c92fa4394",
   "metadata": {},
   "source": [
    "## Problem 5\n",
    "In July 1991, and again in April 2001, the Gallup Poll asked random samples of adults about their opinions on working parents. The given in working_parents.csv contains responses to the question “Considering the needs of both parents and children, which of the following do you see as the ideal family in today’s society?” <br /> <br /> \n",
    "Based on these data, is there evidence that there was a change in people’s attitudes during the 10 years between these polls? (in other words, are the responses in 1991 and 2001 independent)"
   ]
  },
  {
   "cell_type": "code",
   "execution_count": 38,
   "id": "21ed4632-ec2c-4b69-9497-360ba4c12f80",
   "metadata": {},
   "outputs": [
    {
     "data": {
      "text/html": [
       "<div>\n",
       "<style scoped>\n",
       "    .dataframe tbody tr th:only-of-type {\n",
       "        vertical-align: middle;\n",
       "    }\n",
       "\n",
       "    .dataframe tbody tr th {\n",
       "        vertical-align: top;\n",
       "    }\n",
       "\n",
       "    .dataframe thead th {\n",
       "        text-align: right;\n",
       "    }\n",
       "</style>\n",
       "<table border=\"1\" class=\"dataframe\">\n",
       "  <thead>\n",
       "    <tr style=\"text-align: right;\">\n",
       "      <th></th>\n",
       "      <th>ideal_arrangement</th>\n",
       "      <th>year</th>\n",
       "    </tr>\n",
       "  </thead>\n",
       "  <tbody>\n",
       "    <tr>\n",
       "      <th>0</th>\n",
       "      <td>both_work_full_time</td>\n",
       "      <td>1991</td>\n",
       "    </tr>\n",
       "    <tr>\n",
       "      <th>1</th>\n",
       "      <td>both_work_full_time</td>\n",
       "      <td>1991</td>\n",
       "    </tr>\n",
       "    <tr>\n",
       "      <th>2</th>\n",
       "      <td>both_work_full_time</td>\n",
       "      <td>1991</td>\n",
       "    </tr>\n",
       "    <tr>\n",
       "      <th>3</th>\n",
       "      <td>both_work_full_time</td>\n",
       "      <td>1991</td>\n",
       "    </tr>\n",
       "    <tr>\n",
       "      <th>4</th>\n",
       "      <td>both_work_full_time</td>\n",
       "      <td>1991</td>\n",
       "    </tr>\n",
       "  </tbody>\n",
       "</table>\n",
       "</div>"
      ],
      "text/plain": [
       "     ideal_arrangement  year\n",
       "0  both_work_full_time  1991\n",
       "1  both_work_full_time  1991\n",
       "2  both_work_full_time  1991\n",
       "3  both_work_full_time  1991\n",
       "4  both_work_full_time  1991"
      ]
     },
     "execution_count": 38,
     "metadata": {},
     "output_type": "execute_result"
    }
   ],
   "source": [
    "# Load the data\n",
    "df = pd.read_csv('working_parents.csv')\n",
    "df.head()"
   ]
  },
  {
   "cell_type": "code",
   "execution_count": 39,
   "id": "cb7681d2-4e63-4756-8535-1ea5baa2e558",
   "metadata": {},
   "outputs": [
    {
     "data": {
      "text/html": [
       "<div>\n",
       "<style scoped>\n",
       "    .dataframe tbody tr th:only-of-type {\n",
       "        vertical-align: middle;\n",
       "    }\n",
       "\n",
       "    .dataframe tbody tr th {\n",
       "        vertical-align: top;\n",
       "    }\n",
       "\n",
       "    .dataframe thead th {\n",
       "        text-align: right;\n",
       "    }\n",
       "</style>\n",
       "<table border=\"1\" class=\"dataframe\">\n",
       "  <thead>\n",
       "    <tr style=\"text-align: right;\">\n",
       "      <th>year</th>\n",
       "      <th>1991</th>\n",
       "      <th>2001</th>\n",
       "    </tr>\n",
       "    <tr>\n",
       "      <th>ideal_arrangement</th>\n",
       "      <th></th>\n",
       "      <th></th>\n",
       "    </tr>\n",
       "  </thead>\n",
       "  <tbody>\n",
       "    <tr>\n",
       "      <th>both_work_full_time</th>\n",
       "      <td>142</td>\n",
       "      <td>131</td>\n",
       "    </tr>\n",
       "    <tr>\n",
       "      <th>no_opinion</th>\n",
       "      <td>51</td>\n",
       "      <td>51</td>\n",
       "    </tr>\n",
       "    <tr>\n",
       "      <th>one_works,other_stays_home_for_kids</th>\n",
       "      <td>396</td>\n",
       "      <td>416</td>\n",
       "    </tr>\n",
       "    <tr>\n",
       "      <th>one_works,other_works_at_home</th>\n",
       "      <td>152</td>\n",
       "      <td>173</td>\n",
       "    </tr>\n",
       "    <tr>\n",
       "      <th>one_works_full_time,other_part_time</th>\n",
       "      <td>274</td>\n",
       "      <td>244</td>\n",
       "    </tr>\n",
       "  </tbody>\n",
       "</table>\n",
       "</div>"
      ],
      "text/plain": [
       "year                                 1991  2001\n",
       "ideal_arrangement                              \n",
       "both_work_full_time                   142   131\n",
       "no_opinion                             51    51\n",
       "one_works,other_stays_home_for_kids   396   416\n",
       "one_works,other_works_at_home         152   173\n",
       "one_works_full_time,other_part_time   274   244"
      ]
     },
     "metadata": {},
     "output_type": "display_data"
    }
   ],
   "source": [
    "#contingency table\n",
    "obs_data = pd.crosstab(df['ideal_arrangement'], df['year'])\n",
    "display(obs_data)"
   ]
  },
  {
   "cell_type": "code",
   "execution_count": 42,
   "id": "cd9f3346-5881-4721-aa56-fffe3925949c",
   "metadata": {},
   "outputs": [
    {
     "name": "stdout",
     "output_type": "stream",
     "text": [
      "chi_sq =  4.030209095036681\n",
      "p-value =  0.4019329311784825\n",
      "expected data:\n"
     ]
    },
    {
     "data": {
      "text/plain": [
       "array([[136.5, 136.5],\n",
       "       [ 51. ,  51. ],\n",
       "       [406. , 406. ],\n",
       "       [162.5, 162.5],\n",
       "       [259. , 259. ]])"
      ]
     },
     "metadata": {},
     "output_type": "display_data"
    },
    {
     "name": "stdout",
     "output_type": "stream",
     "text": [
      "Based on the data, there is no evidence that the responses are not independent\n"
     ]
    }
   ],
   "source": [
    "#Hypotheses\n",
    "#H0: there was a change in people’s attitudes during the 10 years between these polls - responses are independent \n",
    "#Ha: there was no change in people’s attitudes during the 10 years between these polls - responses are not independent \n",
    "\n",
    "#Running the chi-square test \n",
    "\n",
    "chi_sq_stat, p, df, exp_data = stats.chi2_contingency(obs_data)\n",
    "print('chi_sq = ', chi_sq_stat)\n",
    "print('p-value = ', p)\n",
    "print('expected data:')\n",
    "display(exp_data)\n",
    "\n",
    "if p > 0.05:\n",
    "    print('Based on the data, there is no evidence that the responses are not independent')\n",
    "else:\n",
    "    print('Based on the data, there is evidence that the responses are not independent')"
   ]
  },
  {
   "cell_type": "code",
   "execution_count": null,
   "id": "38b7c7da-2182-4e75-92e0-2d014b24c8ff",
   "metadata": {},
   "outputs": [],
   "source": []
  }
 ],
 "metadata": {
  "colab": {
   "name": "Workshop #5.ipynb",
   "provenance": []
  },
  "kernelspec": {
   "display_name": "Python 3",
   "language": "python",
   "name": "python3"
  },
  "language_info": {
   "codemirror_mode": {
    "name": "ipython",
    "version": 3
   },
   "file_extension": ".py",
   "mimetype": "text/x-python",
   "name": "python",
   "nbconvert_exporter": "python",
   "pygments_lexer": "ipython3",
   "version": "3.8.8"
  }
 },
 "nbformat": 4,
 "nbformat_minor": 5
}
