{
 "cells": [
  {
   "cell_type": "markdown",
   "id": "respected-checklist",
   "metadata": {},
   "source": [
    "# Week 6: Inferential Statistics"
   ]
  },
  {
   "cell_type": "code",
   "execution_count": null,
   "id": "spectacular-olive",
   "metadata": {},
   "outputs": [],
   "source": [
    "# Loading the libraries\n",
    "import numpy as np\n",
    "import sympy as sy\n",
    "import pandas as pd\n",
    "import matplotlib.pyplot as plt\n",
    "import seaborn as sns\n",
    "import scipy.stats as stats\n",
    "from statsmodels.stats.multicomp import pairwise_tukeyhsd\n",
    "\n",
    "np.random.seed(123)"
   ]
  },
  {
   "cell_type": "markdown",
   "id": "hired-director",
   "metadata": {},
   "source": [
    "## Day 3: Hypothesis Tests (continued)\n",
    "### Comparing two means: the two sample *t*-test\n",
    "Most frequently we have to compare two samples in terms of their means: do the two samples come from populations with equal means? In other words: do the two samples come from the same population, or from different populations?\n",
    "\n",
    "The *t*-test can be adapted to work in this context. Assume we have two samples which come from two populations, with means $\\mu_1$ and $\\mu_2$ respectively. The hypotheses of the test are:\n",
    "\\begin{equation}\n",
    "H_0: \\mu_1 = \\mu_2\n",
    "\\end{equation}\n",
    "and\n",
    "\\begin{equation}\n",
    "\\begin{array}{rcl}\n",
    "H_a: \\mu_1 &\\neq& \\mu_2\\\\\n",
    "H_a: \\mu_1 &<& \\mu_2\\\\\n",
    "H_a: \\mu_1 &>& \\mu_2\n",
    "\\end{array}\n",
    "\\end{equation}\n",
    "\n",
    "Without getting into the details of how the test manages to produce a $p$-value, we use the `scipy`'s capabilities and directly step into problem-solving.\n",
    "\n",
    "### Example 1: \n",
    "Home values tend to increase over time under normal conditions, but the recession of 2008 and 2009 has reportedly caused the sales price of existing homes to fall accross the US. Do data support this conclusion? The cell below contains data on 30 existing home sales in 2006 and 40 existing home sales in 2009. Is there any evidence that the prices have fallen in 2009 compared to 2006?"
   ]
  },
  {
   "cell_type": "code",
   "execution_count": null,
   "id": "pending-dominant",
   "metadata": {},
   "outputs": [],
   "source": [
    "# the samples\n",
    "s_2006 = np.array([213100, 226200, 239100, 214300, 161700, 181200, 228600, 222100, 228900, 235800, \n",
    "                   219400, 238800, 301800, 264200, 320200, 315000, 118900, 172400, 137500, 212800, \n",
    "                   175400, 311400, 296900, 292500, 287700, 246500, 195600, 155300, 152400, 211200])\n",
    "\n",
    "s_2009 = np.array([155400, 189800, 200800, 280400, 213200, 181100, 117400, 130000, 170000, 149600,\n",
    "                   146200, 54400, 213800, 186000, 182100, 180000, 215700, 164200, 95300, 239500,\n",
    "                   207200, 188200, 169400, 185600, 177000, 178000, 161200, 249200, 146400, 99800,\n",
    "                   246700, 173500, 138100, 112200, 137500, 147900, 179000, 116200, 197500, 164200])\n",
    "\n",
    "\n",
    "# hypotheses\n",
    "# H0: mu_2006 = mu_2009   <--- always has \"=\"\n",
    "# Ha: mu_2006 ??? mu_2009   <--- test if prices dropped in 2009"
   ]
  },
  {
   "cell_type": "markdown",
   "id": "stylish-damage",
   "metadata": {},
   "source": [
    "### Comparing more than two means: the One-Way ANOVA *F*-test\n",
    "The One-Way ANOVA *F*-test extends the two-sample *t*-test from two to an arbitrary number of samples. If you need to test if the means of more than two samples are equal, then you should use this test.\n",
    "\n",
    "The hypotheses are:\n",
    "\\begin{equation}\n",
    "\\begin{array}{rcl}\n",
    "H_0&:& \\text{all means are equal}\\\\\n",
    "H_a&:& \\text{not all means are equal}\n",
    "\\end{array}\n",
    "\\end{equation}\n",
    "\n",
    "There are three things that you must have in mind about the One-Way ANOVA *F*-test:\n",
    "* The alternative hypotheses tests for generall difference between the means, similar to the $\"\\neq\"$ alternatives of the *t*-test\n",
    "* The test assumes that the variances of the population in question are all equal\n",
    "* If you end up rejecting $H_0$, then the test does not tell you which means *are* different to answer this question, you will have to run **post-hoc** tests to identify the source(s) of the difference\n",
    "\n",
    "### Example 2\n",
    "The Consumer Reports Restaurant Customer Satisfaction Survey is based upon 148,599 visits to full-service restaurant chains. One of the variables in the study is meal price, the average amount paid per person for dinner and drinks, minus the tip. Suppose a reporter for the Sun Coast Times thought that it would be of interest to her readers to conduct a similar study for restaurants located on the Grand Strand section in Myrtle Beach, South Carolina. The reporter selected a random sample of 8 seafood restaurants, 8 Italian restaurants, and 8 steakhouses. The data in the cell below show the meal prices (in dollars) obtained for the 24 restaurants sampled. Is a significant difference among the mean meal price for the three types of restaurants?"
   ]
  },
  {
   "cell_type": "code",
   "execution_count": null,
   "id": "exposed-working",
   "metadata": {},
   "outputs": [],
   "source": [
    "# samples\n",
    "italian = np.array([12, 13, 15, 17, 18, 20, 17, 24])\n",
    "seafood = np.array([16, 18, 17, 26, 23, 15, 19, 18])\n",
    "steakhouse = np.array([24, 19, 23, 25, 21, 22, 27, 31])\n",
    "\n",
    "\n",
    "# Hypotheses\n",
    "# H0: \n",
    "# Ha: "
   ]
  },
  {
   "cell_type": "markdown",
   "id": "fewer-folks",
   "metadata": {},
   "source": [
    "### Example 2a\n",
    "Run a post-hoc test to establish where do the differences come from. Use **Tukey Honestly Significant Difference (HSD)** test."
   ]
  },
  {
   "cell_type": "code",
   "execution_count": null,
   "id": "racial-induction",
   "metadata": {},
   "outputs": [],
   "source": [
    "#create a single dataframe of the data\n",
    "\n",
    "\n",
    "\n",
    "# perform Tukey's test\n",
    "tukey = pairwise_tukeyhsd(endog=,\n",
    "                          groups=,\n",
    "                          alpha=0.05)\n",
    "\n",
    "#display results\n",
    "print(tukey)"
   ]
  },
  {
   "cell_type": "markdown",
   "id": "characteristic-document",
   "metadata": {},
   "source": [
    "### $\\chi^2$-test for Independence\n",
    "Next we work with two **categorical variables** and we are going to answer questions like:\n",
    "* Are left-handed and right-handed people equally likely to prefer technical or social sciences, or maybe neither?\n",
    "* Are eye color and hair color independent traits among men and women?\n",
    "\n",
    "The test is called **chi-square independence (or association) test**. The hypotheses of the test are:\n",
    "* $H_0: \\text{ the variables are independent (or: not associated, not related)}$\n",
    "* $H_a: \\text{ the variables are NOT independent (or: not associated, not related)}$\n",
    "\n",
    "*How does the test work?* We supply the test with a table that contains crosstabulated **counts** for all the combinations of categories of the two variables; alternatively we could supply raw data. These are called **observed data**. Assuming $H_0$ is true (i.e. the variables are indeed independent), the test constructs an intermediate **expected data** which is a representation of *what data of the input shape would look like in theory*. Finally, based on the cumulative difference between the observed and expected data is quantified via a $\\chi^2$-statistics:\n",
    "\\begin{equation} \\chi_{\\text{stat}}^2 = \\displaystyle\\sum_{i} \\frac{\\left( \\text{obs}_i - \\text{exp}_i \\right) ^ 2}{\\text{exp}_i}, \\end{equation}\n",
    "from where a $p$-value is obtained. The interpretation of the $p$-value is the same as before."
   ]
  },
  {
   "cell_type": "markdown",
   "id": "practical-croatia",
   "metadata": {},
   "source": [
    "### Example 3\n",
    "A beer industry association conducts a survey to determine the preferences of beer drinkers for light, regular, and dark beers. A sample of 200 beer drinkers is taken with each person in the sample asked to indicate a preference for one of the three types of beers: light, regular, or dark. At the end of the survey questionnaire, the respondent is asked to provide information on a variety of demographics including gender: male or female. A research question of interest to the association is whether preference for the three types of beer is independent of the gender of the beer drinker. Run a chi-square independence test to reach a conclusion.\n",
    "\n",
    "**Note:** *gender* is given across the columns, *beer* is given across the rows.\n",
    "\n",
    "|         | Male   | Female |\n",
    "| ------- | :----: | :----: |\n",
    "| **Light**   | 51     | 39     |\n",
    "| **Regular** | 56     | 21     |\n",
    "| **Dark**    | 25     | 8      |"
   ]
  },
  {
   "cell_type": "code",
   "execution_count": null,
   "id": "wooden-imagination",
   "metadata": {},
   "outputs": [],
   "source": [
    "# obs_data\n",
    "obs_data = np.array([[51, 39], [56, 21], [25, 8]])\n",
    "\n",
    "# Hypotheses:\n",
    "# H0: \n",
    "# Ha: \n",
    "\n",
    "# Running the chi-square test\n",
    "chi_sq_stat, p, df, exp_data = stats.chi2_contingency()\n",
    "print('chi_sq = ', chi_sq_stat)\n",
    "print('p-value = ', p)\n",
    "print('expected data:\\n', exp_data)\n",
    "\n",
    "if p < 0.05:\n",
    "    print('Based on the data, there is evidence that ???')\n",
    "else:\n",
    "    print('Based on the data, there is NO evidence that ???')"
   ]
  },
  {
   "cell_type": "markdown",
   "id": "agricultural-deputy",
   "metadata": {},
   "source": [
    "### Example 4\n",
    "*The Wall Street Journal* Corporate Perceptions Study 2011 surveyed readers and asked how each rated the quality of management and the reputation of the company for over 250 worldwide corporations. Both the **quality of management** and the **reputation of the company** were rated on an excellent, good, and fair categorical scale. Assume the sample data for 200 respondents below applies to this study. Is there any evidence of an association between the two ratings?\n",
    "\n",
    "**Note:** *reputation* is given across the columns, *quality* is given across the rows.\n",
    "\n",
    "|           | Excellent | Good | Fair |\n",
    "| --------- | :-------: | :--: | :--: |\n",
    "| **Excellent** | 40        | 25   | 5    |\n",
    "| **Good**      | 35        | 35   | 10   |\n",
    "| **Fair**      | 25        | 10   | 15   |"
   ]
  },
  {
   "cell_type": "code",
   "execution_count": null,
   "id": "existing-microwave",
   "metadata": {},
   "outputs": [],
   "source": [
    "# obs_data\n",
    "\n",
    "# Hypotheses\n",
    "\n",
    "# Running the chi-square test\n"
   ]
  },
  {
   "cell_type": "markdown",
   "id": "affected-college",
   "metadata": {},
   "source": [
    "### Example 5\n",
    "A vehicle quality survey asked new owners a variety of questions about their recently purchased automobile. One question asked for the owner's rating of the vehicle using categorical responses of average, outstanding, and exceptional. Another question asked for the owner’s education level with the categorical responses some high school, high school graduate, some college, and college graduate. The raw data is given in the file `auto_quality.csv`. Run a chi-square test of independence to determine if a new owner's vehicle quality rating is independent of the owner's education."
   ]
  },
  {
   "cell_type": "code",
   "execution_count": null,
   "id": "greater-joshua",
   "metadata": {},
   "outputs": [],
   "source": [
    "# load the data and create the contingency table\n"
   ]
  },
  {
   "cell_type": "markdown",
   "id": "unsigned-astronomy",
   "metadata": {},
   "source": [
    "### Example 6\n",
    "An ambulance service responds to emergency calls for two counties in Virginia. One county is an urban county and the other is a rural county. A sample of ambulance calls over the past two years showed the county and the day of the week for each emergency call. Based on the data given in `ambulance.csv`, is there any evidence that of independence between the counties and the day of the week?"
   ]
  },
  {
   "cell_type": "code",
   "execution_count": null,
   "id": "chinese-addiction",
   "metadata": {},
   "outputs": [],
   "source": []
  }
 ],
 "metadata": {
  "kernelspec": {
   "display_name": "Python 3",
   "language": "python",
   "name": "python3"
  },
  "language_info": {
   "codemirror_mode": {
    "name": "ipython",
    "version": 3
   },
   "file_extension": ".py",
   "mimetype": "text/x-python",
   "name": "python",
   "nbconvert_exporter": "python",
   "pygments_lexer": "ipython3",
   "version": "3.8.8"
  }
 },
 "nbformat": 4,
 "nbformat_minor": 5
}
