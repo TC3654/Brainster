{
 "cells": [
  {
   "cell_type": "markdown",
   "id": "selected-memorial",
   "metadata": {},
   "source": [
    "# Week 4: Intro to Statistics and Probability"
   ]
  },
  {
   "cell_type": "code",
   "execution_count": 1,
   "id": "solid-somalia",
   "metadata": {},
   "outputs": [],
   "source": [
    "# import libraries\n",
    "import pandas as pd\n",
    "import numpy as np\n",
    "import matplotlib.pyplot as plt\n",
    "import seaborn as sns\n",
    "\n",
    "%matplotlib widget"
   ]
  },
  {
   "cell_type": "markdown",
   "id": "unlike-portugal",
   "metadata": {},
   "source": [
    "## Day 1: Descriptive Statistics\n",
    "* Statistics is the science (or part of mathematics) that deals with collection, presentation and analysis of data\n",
    "* Generally, statistics can be seen as consisting of two parts:\n",
    "    * **Descriptive statistics**, whose goal is to collect and present the data, and provide description of the data's main features\n",
    "    * **Inferential statistics**, whose goal is to provide well-founded conclusions based on the collected data, usually with the help of probability\n",
    "\n",
    "**Note:** the term *data* can be either plural or singular, so you could say \"data is\" or \"data are\". If you use *data* as plural, then the singular is *datum*\n",
    "\n",
    "### Basic concepts\n",
    "* Data is usually structured in **data sets**. Frequently the data sets take the form of tables, or in our case -- Pandas DataFrames\n",
    "* The rows of the data sets are called **instances** or **observations**\n",
    "* The columns of the data sets contain the **features** or **feature vectors** or **variables** of the set\n",
    "* Let's load the *titaninc.csv* and see its structure"
   ]
  },
  {
   "cell_type": "code",
   "execution_count": 2,
   "id": "identified-sperm",
   "metadata": {},
   "outputs": [
    {
     "data": {
      "text/html": [
       "<div>\n",
       "<style scoped>\n",
       "    .dataframe tbody tr th:only-of-type {\n",
       "        vertical-align: middle;\n",
       "    }\n",
       "\n",
       "    .dataframe tbody tr th {\n",
       "        vertical-align: top;\n",
       "    }\n",
       "\n",
       "    .dataframe thead th {\n",
       "        text-align: right;\n",
       "    }\n",
       "</style>\n",
       "<table border=\"1\" class=\"dataframe\">\n",
       "  <thead>\n",
       "    <tr style=\"text-align: right;\">\n",
       "      <th></th>\n",
       "      <th>ID</th>\n",
       "      <th>Survived</th>\n",
       "      <th>Class</th>\n",
       "      <th>Name</th>\n",
       "      <th>Sex</th>\n",
       "      <th>Age</th>\n",
       "      <th>Fare</th>\n",
       "      <th>Embarked</th>\n",
       "    </tr>\n",
       "  </thead>\n",
       "  <tbody>\n",
       "    <tr>\n",
       "      <th>0</th>\n",
       "      <td>1</td>\n",
       "      <td>0</td>\n",
       "      <td>3</td>\n",
       "      <td>Braund, Mr. Owen Harris</td>\n",
       "      <td>male</td>\n",
       "      <td>22.0</td>\n",
       "      <td>7.2500</td>\n",
       "      <td>S</td>\n",
       "    </tr>\n",
       "    <tr>\n",
       "      <th>1</th>\n",
       "      <td>2</td>\n",
       "      <td>1</td>\n",
       "      <td>1</td>\n",
       "      <td>Cumings, Mrs. John Bradley (Florence Briggs Th...</td>\n",
       "      <td>female</td>\n",
       "      <td>38.0</td>\n",
       "      <td>71.2833</td>\n",
       "      <td>C</td>\n",
       "    </tr>\n",
       "    <tr>\n",
       "      <th>2</th>\n",
       "      <td>3</td>\n",
       "      <td>1</td>\n",
       "      <td>3</td>\n",
       "      <td>Heikkinen, Miss. Laina</td>\n",
       "      <td>female</td>\n",
       "      <td>26.0</td>\n",
       "      <td>7.9250</td>\n",
       "      <td>S</td>\n",
       "    </tr>\n",
       "    <tr>\n",
       "      <th>3</th>\n",
       "      <td>4</td>\n",
       "      <td>1</td>\n",
       "      <td>1</td>\n",
       "      <td>Futrelle, Mrs. Jacques Heath (Lily May Peel)</td>\n",
       "      <td>female</td>\n",
       "      <td>35.0</td>\n",
       "      <td>53.1000</td>\n",
       "      <td>S</td>\n",
       "    </tr>\n",
       "    <tr>\n",
       "      <th>4</th>\n",
       "      <td>5</td>\n",
       "      <td>0</td>\n",
       "      <td>3</td>\n",
       "      <td>Allen, Mr. William Henry</td>\n",
       "      <td>male</td>\n",
       "      <td>35.0</td>\n",
       "      <td>8.0500</td>\n",
       "      <td>S</td>\n",
       "    </tr>\n",
       "  </tbody>\n",
       "</table>\n",
       "</div>"
      ],
      "text/plain": [
       "   ID  Survived  Class                                               Name  \\\n",
       "0   1         0      3                            Braund, Mr. Owen Harris   \n",
       "1   2         1      1  Cumings, Mrs. John Bradley (Florence Briggs Th...   \n",
       "2   3         1      3                             Heikkinen, Miss. Laina   \n",
       "3   4         1      1       Futrelle, Mrs. Jacques Heath (Lily May Peel)   \n",
       "4   5         0      3                           Allen, Mr. William Henry   \n",
       "\n",
       "      Sex   Age     Fare Embarked  \n",
       "0    male  22.0   7.2500        S  \n",
       "1  female  38.0  71.2833        C  \n",
       "2  female  26.0   7.9250        S  \n",
       "3  female  35.0  53.1000        S  \n",
       "4    male  35.0   8.0500        S  "
      ]
     },
     "execution_count": 2,
     "metadata": {},
     "output_type": "execute_result"
    }
   ],
   "source": [
    "# Load the set\n",
    "df_titanic = pd.read_csv('titanic.csv')\n",
    "df_titanic.head()"
   ]
  },
  {
   "cell_type": "code",
   "execution_count": 3,
   "id": "e2142608-7b33-47fa-9741-dcc26f29d967",
   "metadata": {},
   "outputs": [
    {
     "data": {
      "text/plain": [
       "(891, 8)"
      ]
     },
     "execution_count": 3,
     "metadata": {},
     "output_type": "execute_result"
    }
   ],
   "source": [
    "# Count instances and features\n",
    "\n",
    "df_titanic.shape"
   ]
  },
  {
   "cell_type": "code",
   "execution_count": 4,
   "id": "456c37ed-8add-4a37-a49c-9c2d98bd6f4a",
   "metadata": {},
   "outputs": [
    {
     "data": {
      "text/plain": [
       "Index(['ID', 'Survived', 'Class', 'Name', 'Sex', 'Age', 'Fare', 'Embarked'], dtype='object')"
      ]
     },
     "execution_count": 4,
     "metadata": {},
     "output_type": "execute_result"
    }
   ],
   "source": [
    "# Print the features\n",
    "df_titanic.columns"
   ]
  },
  {
   "cell_type": "code",
   "execution_count": 5,
   "id": "flexible-bargain",
   "metadata": {},
   "outputs": [
    {
     "name": "stdout",
     "output_type": "stream",
     "text": [
      "<class 'pandas.core.frame.DataFrame'>\n",
      "RangeIndex: 891 entries, 0 to 890\n",
      "Data columns (total 8 columns):\n",
      " #   Column    Non-Null Count  Dtype  \n",
      "---  ------    --------------  -----  \n",
      " 0   ID        891 non-null    int64  \n",
      " 1   Survived  891 non-null    int64  \n",
      " 2   Class     891 non-null    int64  \n",
      " 3   Name      891 non-null    object \n",
      " 4   Sex       891 non-null    object \n",
      " 5   Age       714 non-null    float64\n",
      " 6   Fare      891 non-null    float64\n",
      " 7   Embarked  889 non-null    object \n",
      "dtypes: float64(2), int64(3), object(3)\n",
      "memory usage: 55.8+ KB\n"
     ]
    }
   ],
   "source": [
    "# Get info about the number of instances per feature, and their type\n",
    "df_titanic.info()"
   ]
  },
  {
   "cell_type": "code",
   "execution_count": 6,
   "id": "2d9f438d-76e3-4fc9-a792-7280d005902c",
   "metadata": {},
   "outputs": [],
   "source": [
    "# Drop all nan values\n",
    "\n"
   ]
  },
  {
   "cell_type": "markdown",
   "id": "unusual-england",
   "metadata": {},
   "source": [
    "### Types of features/variables\n",
    "There are two types of features:\n",
    "* **Categorical**: labels or names used to identify an attribute of each element. Possibly we can compare different cateogries by ordering, but there is somewhat limited number of available statistical analyses\n",
    "* **Numerical** or **quantitative**: data that indicate *how many* or *how much*. These come in two \"flavors\"\n",
    "    * **Discrete** if measuring how many (think: *counting*)\n",
    "    * **Continuous** if measuring how much (think: *measuring*)\n",
    "\n",
    "In the Titanic data set:\n",
    "* Categorical features are: *Survived*, *Class* (these two are **coded**), *Name*, *Sex*, and *Embarked*\n",
    "* Numerical features are: *ID* (not of much use), *Age*, and *Fare*"
   ]
  },
  {
   "cell_type": "markdown",
   "id": "curious-frost",
   "metadata": {},
   "source": [
    "### Summarizing Categorical Data\n",
    "Data can be summarized in tables or through visual representations\n",
    "\n",
    "* Tabular summaries for categorical data include:\n",
    "    * Frequency distribution\n",
    "    * Relative/Percent Frequency distribution\n",
    "* Visual summaries for categorical data include:\n",
    "    * Bar/Column graph\n",
    "    * Pie chart\n",
    "\n",
    "### Example 1\n",
    "* Construct the frequency distribution for the feature *Survived* and display it on a bar graph and on a pie chart."
   ]
  },
  {
   "cell_type": "code",
   "execution_count": 19,
   "id": "played-relief",
   "metadata": {},
   "outputs": [
    {
     "data": {
      "text/html": [
       "<div>\n",
       "<style scoped>\n",
       "    .dataframe tbody tr th:only-of-type {\n",
       "        vertical-align: middle;\n",
       "    }\n",
       "\n",
       "    .dataframe tbody tr th {\n",
       "        vertical-align: top;\n",
       "    }\n",
       "\n",
       "    .dataframe thead th {\n",
       "        text-align: right;\n",
       "    }\n",
       "</style>\n",
       "<table border=\"1\" class=\"dataframe\">\n",
       "  <thead>\n",
       "    <tr style=\"text-align: right;\">\n",
       "      <th></th>\n",
       "      <th>Survived</th>\n",
       "      <th>Count</th>\n",
       "      <th>Percent</th>\n",
       "    </tr>\n",
       "  </thead>\n",
       "  <tbody>\n",
       "    <tr>\n",
       "      <th>0</th>\n",
       "      <td>0</td>\n",
       "      <td>549</td>\n",
       "      <td>61.616162</td>\n",
       "    </tr>\n",
       "    <tr>\n",
       "      <th>1</th>\n",
       "      <td>1</td>\n",
       "      <td>342</td>\n",
       "      <td>38.383838</td>\n",
       "    </tr>\n",
       "  </tbody>\n",
       "</table>\n",
       "</div>"
      ],
      "text/plain": [
       "   Survived  Count    Percent\n",
       "0         0    549  61.616162\n",
       "1         1    342  38.383838"
      ]
     },
     "metadata": {},
     "output_type": "display_data"
    },
    {
     "data": {
      "image/png": "[encoded data removed]",
      "text/plain": [
       "<Figure size 432x288 with 1 Axes>"
      ]
     },
     "metadata": {
      "needs_background": "light"
     },
     "output_type": "display_data"
    },
    {
     "data": {
      "image/png": "[encoded data removed]",
      "text/plain": [
       "<Figure size 432x288 with 1 Axes>"
      ]
     },
     "metadata": {},
     "output_type": "display_data"
    }
   ],
   "source": [
    "surv_freq = df_titanic.groupby(by='Survived').count()['ID'].reset_index()\n",
    "surv_freq.columns = ['Survived', 'Count']\n",
    "\n",
    "surv_freq['Percent'] = (surv_freq['Count']/surv_freq['Count'].sum() )*100\n",
    "display(surv_freq)\n",
    "\n",
    "plt.figure()\n",
    "plt.bar(['No', 'Yes'], surv_freq['Count'])\n",
    "plt.show()\n",
    "\n",
    "plt.figure()\n",
    "plt.pie( surv_freq['Count'], labels = ['No', 'Yes'])\n",
    "plt.show()"
   ]
  },
  {
   "cell_type": "code",
   "execution_count": 8,
   "id": "2ca8db6e-cc96-4c38-8984-86520c777b08",
   "metadata": {},
   "outputs": [
    {
     "data": {
      "text/plain": [
       "<AxesSubplot:xlabel='Survived', ylabel='Count'>"
      ]
     },
     "execution_count": 8,
     "metadata": {},
     "output_type": "execute_result"
    },
    {
     "data": {
      "image/png": "[encoded data removed]",
      "text/plain": [
       "<Figure size 432x288 with 1 Axes>"
      ]
     },
     "metadata": {
      "needs_background": "light"
     },
     "output_type": "display_data"
    }
   ],
   "source": [
    "%matplotlib inline\n",
    "sns.barplot(data=surv_freq, x='Survived', y='Count')"
   ]
  },
  {
   "cell_type": "markdown",
   "id": "opponent-intersection",
   "metadata": {},
   "source": [
    "### Example 2\n",
    "* Calculate the percent frequency distribution of the feature *Embarked* and display it on a bar graph"
   ]
  },
  {
   "cell_type": "code",
   "execution_count": 9,
   "id": "steady-friday",
   "metadata": {},
   "outputs": [
    {
     "data": {
      "text/html": [
       "<div>\n",
       "<style scoped>\n",
       "    .dataframe tbody tr th:only-of-type {\n",
       "        vertical-align: middle;\n",
       "    }\n",
       "\n",
       "    .dataframe tbody tr th {\n",
       "        vertical-align: top;\n",
       "    }\n",
       "\n",
       "    .dataframe thead th {\n",
       "        text-align: right;\n",
       "    }\n",
       "</style>\n",
       "<table border=\"1\" class=\"dataframe\">\n",
       "  <thead>\n",
       "    <tr style=\"text-align: right;\">\n",
       "      <th></th>\n",
       "      <th>Embarked</th>\n",
       "      <th>Count</th>\n",
       "      <th>Percent</th>\n",
       "    </tr>\n",
       "  </thead>\n",
       "  <tbody>\n",
       "    <tr>\n",
       "      <th>0</th>\n",
       "      <td>C</td>\n",
       "      <td>168</td>\n",
       "      <td>18.897638</td>\n",
       "    </tr>\n",
       "    <tr>\n",
       "      <th>1</th>\n",
       "      <td>Q</td>\n",
       "      <td>77</td>\n",
       "      <td>8.661417</td>\n",
       "    </tr>\n",
       "    <tr>\n",
       "      <th>2</th>\n",
       "      <td>S</td>\n",
       "      <td>644</td>\n",
       "      <td>72.440945</td>\n",
       "    </tr>\n",
       "  </tbody>\n",
       "</table>\n",
       "</div>"
      ],
      "text/plain": [
       "  Embarked  Count    Percent\n",
       "0        C    168  18.897638\n",
       "1        Q     77   8.661417\n",
       "2        S    644  72.440945"
      ]
     },
     "metadata": {},
     "output_type": "display_data"
    },
    {
     "data": {
      "text/plain": [
       "<AxesSubplot:xlabel='Embarked', ylabel='Count'>"
      ]
     },
     "execution_count": 9,
     "metadata": {},
     "output_type": "execute_result"
    },
    {
     "data": {
      "image/png": "[encoded data removed]",
      "text/plain": [
       "<Figure size 432x288 with 1 Axes>"
      ]
     },
     "metadata": {
      "needs_background": "light"
     },
     "output_type": "display_data"
    }
   ],
   "source": [
    "emb_freq = df_titanic.groupby(by='Embarked').count()['ID'].reset_index()\n",
    "emb_freq.columns = ['Embarked', 'Count']\n",
    "\n",
    "emb_freq['Percent'] = (emb_freq['Count']/emb_freq['Count'].sum() )*100\n",
    "display(emb_freq)\n",
    "\n",
    "%matplotlib inline\n",
    "sns.barplot(data=emb_freq, x='Embarked', y='Count')"
   ]
  },
  {
   "cell_type": "markdown",
   "id": "insured-kingdom",
   "metadata": {},
   "source": [
    "### Summarizing Numerical Data\n",
    "Data can be summarized in tables or through visual representations\n",
    "\n",
    "* Tabular summaries for numerical data include:\n",
    "    * Frequency distribution with classes\n",
    "    * Relative/Percent Frequency distribution with classes\n",
    "* Visual summaries for categorical data include:\n",
    "    * Histogram\n",
    "    * Box-plot\n",
    "\n",
    "### Example 3\n",
    "* Construct the frequency distribution for the feature *Age* and display it on a histogram."
   ]
  },
  {
   "cell_type": "code",
   "execution_count": 10,
   "id": "frozen-complement",
   "metadata": {},
   "outputs": [
    {
     "data": {
      "text/html": [
       "<div>\n",
       "<style scoped>\n",
       "    .dataframe tbody tr th:only-of-type {\n",
       "        vertical-align: middle;\n",
       "    }\n",
       "\n",
       "    .dataframe tbody tr th {\n",
       "        vertical-align: top;\n",
       "    }\n",
       "\n",
       "    .dataframe thead th {\n",
       "        text-align: right;\n",
       "    }\n",
       "</style>\n",
       "<table border=\"1\" class=\"dataframe\">\n",
       "  <thead>\n",
       "    <tr style=\"text-align: right;\">\n",
       "      <th></th>\n",
       "      <th>Age</th>\n",
       "      <th>index</th>\n",
       "    </tr>\n",
       "  </thead>\n",
       "  <tbody>\n",
       "    <tr>\n",
       "      <th>0</th>\n",
       "      <td>(0.3, 16.3]</td>\n",
       "      <td>100</td>\n",
       "    </tr>\n",
       "    <tr>\n",
       "      <th>1</th>\n",
       "      <td>(16.3, 32.3]</td>\n",
       "      <td>346</td>\n",
       "    </tr>\n",
       "    <tr>\n",
       "      <th>2</th>\n",
       "      <td>(32.3, 48.2]</td>\n",
       "      <td>188</td>\n",
       "    </tr>\n",
       "    <tr>\n",
       "      <th>3</th>\n",
       "      <td>(48.2, 64.1]</td>\n",
       "      <td>69</td>\n",
       "    </tr>\n",
       "    <tr>\n",
       "      <th>4</th>\n",
       "      <td>(64.1, 80.0]</td>\n",
       "      <td>11</td>\n",
       "    </tr>\n",
       "  </tbody>\n",
       "</table>\n",
       "</div>"
      ],
      "text/plain": [
       "            Age  index\n",
       "0   (0.3, 16.3]    100\n",
       "1  (16.3, 32.3]    346\n",
       "2  (32.3, 48.2]    188\n",
       "3  (48.2, 64.1]     69\n",
       "4  (64.1, 80.0]     11"
      ]
     },
     "execution_count": 10,
     "metadata": {},
     "output_type": "execute_result"
    }
   ],
   "source": [
    "df_cut = pd.Series(pd.cut(df_titanic['Age'], bins = 5, precision=1)).reset_index().groupby(by='Age').count().reset_index()\n",
    "df_cut"
   ]
  },
  {
   "cell_type": "code",
   "execution_count": 11,
   "id": "43af4e1a-d0dc-48e0-8a98-efb912aceafc",
   "metadata": {},
   "outputs": [
    {
     "data": {
      "text/plain": [
       "(array([100., 346., 188.,  69.,  11.]),\n",
       " array([ 0.42 , 16.336, 32.252, 48.168, 64.084, 80.   ]),\n",
       " <BarContainer object of 5 artists>)"
      ]
     },
     "execution_count": 11,
     "metadata": {},
     "output_type": "execute_result"
    },
    {
     "data": {
      "image/png": "[encoded data removed]",
      "text/plain": [
       "<Figure size 432x288 with 1 Axes>"
      ]
     },
     "metadata": {
      "needs_background": "light"
     },
     "output_type": "display_data"
    }
   ],
   "source": [
    "plt.hist(df_titanic['Age'], bins=5)"
   ]
  },
  {
   "cell_type": "code",
   "execution_count": 12,
   "id": "46eddec5-506b-4c34-b233-220edde7ff07",
   "metadata": {},
   "outputs": [
    {
     "data": {
      "text/plain": [
       "<AxesSubplot:xlabel='Age', ylabel='Probability'>"
      ]
     },
     "execution_count": 12,
     "metadata": {},
     "output_type": "execute_result"
    },
    {
     "data": {
      "image/png": "[encoded data removed]",
      "text/plain": [
       "<Figure size 432x288 with 1 Axes>"
      ]
     },
     "metadata": {
      "needs_background": "light"
     },
     "output_type": "display_data"
    }
   ],
   "source": [
    "sns.histplot(df_titanic['Age'], bins=5, stat='probability')"
   ]
  },
  {
   "cell_type": "markdown",
   "id": "sustainable-victorian",
   "metadata": {},
   "source": [
    "### Measures of central tendency\n",
    "Most frequently we wish to represent a feature with a single number. There are several options for this:\n",
    "* **Mean**: the average of the data. The mean is heavily influenced by outliers/extreme values\n",
    "* **Median**: the middle data point in the ordered list of points. Much more resistent to extreme values comared to the mean. Note that the median splits the data set in (roughly) 50%-50% ratio\n",
    "* **Mode**: the most frequent data point in the feature. Not unique, and usually not suited for numerical variables\n",
    "\n",
    "### Example 4\n",
    "* Calculate the mean and median age of the passenger aboard the *Titanic*. Then calculate the mean and median fare rates."
   ]
  },
  {
   "cell_type": "code",
   "execution_count": 13,
   "id": "minus-recording",
   "metadata": {},
   "outputs": [],
   "source": [
    "# Age\n",
    "\n",
    "# Fare\n"
   ]
  },
  {
   "cell_type": "markdown",
   "id": "involved-judge",
   "metadata": {},
   "source": [
    "### Measures of variability\n",
    "When analyzing numerical data it is always a good habit to include information about the \"diversity\" of the data. This \"diversity\" in statistics is known as **variability**. There are many measures of variability; we single out the following:\n",
    "* **Range**: just the distance between the min and the max of the feature values. Heavily influenced by extreme values. Captures 100% of the data\n",
    "* **Variance**: the mean square deviation of the data from the mean. Mostly deffers to the standard deviation\n",
    "* **Standar Deviation**: the square root of the variance. Probably hhe golden standard. Great to use alongside the mean\n",
    "* **Interquartile Range (IQR)**: captures the *middle* 50% of the data. Great to use alongside the median\n",
    "\n",
    "### Example 5\n",
    "* Calculate the measures of variability of *Age* for the Titanic data set."
   ]
  },
  {
   "cell_type": "code",
   "execution_count": 14,
   "id": "solid-italic",
   "metadata": {},
   "outputs": [],
   "source": [
    "# Simplest way to get many of these:\n"
   ]
  },
  {
   "cell_type": "code",
   "execution_count": 15,
   "id": "incredible-kentucky",
   "metadata": {},
   "outputs": [],
   "source": [
    "# Calculating\n",
    "\n",
    "# getting the range\n",
    "\n",
    "# Getting the variance\n",
    "\n",
    "# Getting the standard deviation\n",
    "\n",
    "# Getting the IQR\n"
   ]
  },
  {
   "cell_type": "code",
   "execution_count": 16,
   "id": "binding-devices",
   "metadata": {},
   "outputs": [],
   "source": [
    "# Visualizing using quartiles: the box plot\n"
   ]
  },
  {
   "cell_type": "markdown",
   "id": "worst-caution",
   "metadata": {},
   "source": [
    "### Measuring departure from symmetricity\n",
    "* The distribution of the fares is *skewed to the right* or *positively skewed* -- it has a tail dragging onto the right\n",
    "* Many statistical procedures are tailored to work with data that is **symmetric**, i.e. data that has balanced tails\n",
    "* The **skewness** coefficient quantifies the departure from symmetricity\n",
    "* Positive values of the coefficient indicate skewness to the right. Negative values of the coefficient indicate skewness to the left. The greater the number (in terms of absolute value), the greater the skewness.\n",
    "\n",
    "### Example 6\n",
    "* Calculate the skewness of the *Age* and *Fare* features in the Titanic data set."
   ]
  },
  {
   "cell_type": "code",
   "execution_count": 17,
   "id": "bound-paper",
   "metadata": {},
   "outputs": [],
   "source": [
    "import scipy.stats as stat #stat.skew\n"
   ]
  },
  {
   "cell_type": "code",
   "execution_count": null,
   "id": "dramatic-newman",
   "metadata": {},
   "outputs": [],
   "source": []
  },
  {
   "cell_type": "markdown",
   "id": "premium-testing",
   "metadata": {},
   "source": [
    "### Detecting outliers\n",
    "* **Outliers** (extreme points, influential points) are elements of the data set that severely depart from *most of the data*\n",
    "* Generally, these should be handeled somehow before modeling\n",
    "* Options include dropping the outliers or transforming the original data\n",
    "* One way to detect outliers is to use **standardization** -- measure how many standard deviations from the mean is each data point. For every data point $x$ we calculate a $z$-score using the formula:\n",
    "\\begin{equation} z = \\frac{x - \\mu}{\\sigma} \\end{equation}\n",
    "where $\\mu$ is the mean and $\\sigma$ is the standard deviation of the data\n",
    "* A point is labeled as an outlier if $|z| \\geqslant 3$\n",
    "\n",
    "### Example 7\n",
    "* List the outliers in the *Fare* feature of the Titanic data set using standardization"
   ]
  },
  {
   "cell_type": "code",
   "execution_count": null,
   "id": "bibliographic-screen",
   "metadata": {},
   "outputs": [],
   "source": []
  },
  {
   "cell_type": "markdown",
   "id": "amateur-biography",
   "metadata": {},
   "source": [
    "* Another way to detect outliers is by using the quartiles $Q_1$ and $Q_3$, and the IQR. This is done by defining appropriate upper and lower boundaries of an interval of values.\n",
    "* Data outside this interval are labeled as outlers.\n",
    "* This is known as the $1.5\\times IQR$ rule. The boundaries are:\n",
    "\\begin{equation}\n",
    "\\begin{array}{rcl}\n",
    "L &=& Q_1 - 1.5 \\cdot IQR\\\\\n",
    "U &=& Q_3 + 1.5 \\cdot IQR\n",
    "\\end{array}\n",
    "\\end{equation}\n",
    "* Data outside the interval $[L, U]$ are labeled as outliers.\n",
    "\n",
    "### Example 8\n",
    "* List the outliers in the *Fare* feature of the Titanic data set using the $1.5\\times IQR$ rule"
   ]
  },
  {
   "cell_type": "code",
   "execution_count": null,
   "id": "regular-snapshot",
   "metadata": {},
   "outputs": [],
   "source": []
  },
  {
   "cell_type": "code",
   "execution_count": null,
   "id": "toxic-friendship",
   "metadata": {},
   "outputs": [],
   "source": []
  },
  {
   "cell_type": "code",
   "execution_count": 18,
   "id": "sonic-richards",
   "metadata": {},
   "outputs": [],
   "source": [
    "#Box-Cox Transformation to improve symmetricity\n",
    "#y = (x**lmbda - 1) / lmbda,  for lmbda != 0\n",
    "#    log(x),                  for lmbda = 0\n",
    "\n"
   ]
  }
 ],
 "metadata": {
  "kernelspec": {
   "display_name": "Python 3",
   "language": "python",
   "name": "python3"
  },
  "language_info": {
   "codemirror_mode": {
    "name": "ipython",
    "version": 3
   },
   "file_extension": ".py",
   "mimetype": "text/x-python",
   "name": "python",
   "nbconvert_exporter": "python",
   "pygments_lexer": "ipython3",
   "version": "3.8.8"
  }
 },
 "nbformat": 4,
 "nbformat_minor": 5
}
