{
 "cells": [
  {
   "cell_type": "markdown",
   "id": "3ea74a74-bb15-4abb-8567-643bd4a8525c",
   "metadata": {},
   "source": [
    "# Workshop W04"
   ]
  },
  {
   "cell_type": "code",
   "execution_count": 1,
   "id": "3b1046f3-caf6-42ea-a86e-8507112ee547",
   "metadata": {},
   "outputs": [],
   "source": [
    "# Libraries\n",
    "import numpy as np\n",
    "import pandas as pd\n",
    "import matplotlib.pyplot as plt\n",
    "from matplotlib_venn import venn2, venn3, venn2_circles, venn3_circles\n",
    "import scipy.stats as stats\n",
    "import random\n",
    "import seaborn as sns\n",
    "import scipy.stats as stat\n",
    "\n",
    "%matplotlib widget"
   ]
  },
  {
   "cell_type": "markdown",
   "id": "8236ac2e-79d0-41e6-9902-34d2d3781028",
   "metadata": {},
   "source": [
    "## Exercise 1\n",
    "Michael is throwing darts at a target. He is very good at the game, so the chances of him hitting the “bullseye” (i.e. the center) are **25%**. It is reasonable to assume that individual attempts are independent. If he throws **5 times** in total, what is the probability that he will hit the bullseye:<br />\n",
    "a) Exactly three times <br />\n",
    "b) at least 3 times"
   ]
  },
  {
   "cell_type": "code",
   "execution_count": 2,
   "id": "7a919646-2dff-497c-a834-a41aed550d92",
   "metadata": {},
   "outputs": [
    {
     "name": "stdout",
     "output_type": "stream",
     "text": [
      "P(a) = 0.089\n",
      "P(b) = 0.1028\n"
     ]
    }
   ],
   "source": [
    "n = 5000 # simulations\n",
    "\n",
    "hits_3_times = np.zeros(n) #here we store the exactly 3 times\n",
    "at_least_3_times = np.zeros(n) #here we store at least 3 times\n",
    "\n",
    "\n",
    "for i in range(n):\n",
    "    \n",
    "    throws = 5\n",
    "    hits = 0\n",
    "    \n",
    "    for j in range(throws):\n",
    "        hits_bullsye = np.random.random()\n",
    "        if hits_bullsye <= 0.25: # we got a bullseye\n",
    "            hits += 1\n",
    "    \n",
    "    if hits == 3:\n",
    "        hits_3_times[i] = 1\n",
    "    \n",
    "    if hits >= 3:\n",
    "        at_least_3_times[i] = 1\n",
    "        \n",
    "\n",
    "print('P(a) =', sum(hits_3_times)/n) \n",
    "print('P(b) =', sum(at_least_3_times)/n)"
   ]
  },
  {
   "cell_type": "markdown",
   "id": "c91c0600-33b5-4e50-bea3-cc3498917165",
   "metadata": {},
   "source": [
    "## Exercise 2\n",
    "\n",
    "Only two international airlines fly daily into an airport. UN Air has **70 flights** a day and IS Air has **65 flights** a day. Passengers flying with UN Air have an **18% probability** of losing their luggage and passengers flying with IS Air have a **23% probability** of losing their luggage. You overhear someone in the airport complain about her luggage being lost. Find the probability that she travelled with IS Air."
   ]
  },
  {
   "cell_type": "code",
   "execution_count": 3,
   "id": "cb7b3794-b6fd-4bfb-8dd0-b6ca1405c8e2",
   "metadata": {},
   "outputs": [
    {
     "name": "stdout",
     "output_type": "stream",
     "text": [
      "P(lost_luggage) = 0.2036\n",
      "P(lost_luggage_with_IS) = 0.5127701375245579\n"
     ]
    }
   ],
   "source": [
    "all_flights = 70 + 65\n",
    "un_flights = 70 / all_flights\n",
    "is_flights = 65 / all_flights\n",
    "\n",
    "n = 5000 # simulations\n",
    "\n",
    "lost = np.zeros(n) \n",
    "lost_luggage_with_IS = 0\n",
    "\n",
    "for i in range(n):\n",
    "    lost_luggage = np.random.random()\n",
    "    flies_with_IS = np.random.random()\n",
    "    \n",
    "    #decide if person flies IS\n",
    "    if flies_with_IS <= is_flights:\n",
    "        #person flies IS\n",
    "        if lost_luggage <= 0.23:\n",
    "            #person flied IS and lost luggage\n",
    "            lost[i] = 1\n",
    "            lost_luggage_with_IS += 1\n",
    "        \n",
    "    else:\n",
    "        #person flies UN\n",
    "        #check if the person lost luggage\n",
    "        if lost_luggage <= 0.18:\n",
    "            lost[i] = 1\n",
    "    \n",
    "print('P(lost_luggage) =', sum(lost)/n)\n",
    "print('P(lost_luggage_with_IS) =', lost_luggage_with_IS/sum(lost))"
   ]
  },
  {
   "cell_type": "markdown",
   "id": "b5d8aa6e-619e-427b-a3aa-de1d1af1376c",
   "metadata": {},
   "source": [
    "## Exercise 3\n",
    "\n",
    "Two friends have agreed to meet up between 13:00 and 14:00 **(1 h)** on a given day. Both arrive randomly during the given time interval. They have also agreed that whoever arrives first waits for the other for at most **15 minutes (0.25 h)**, after which he leaves if the second friend has not arrived. What is the probability that the two friends will meet?"
   ]
  },
  {
   "cell_type": "code",
   "execution_count": 4,
   "id": "781d6e98-97b0-4ebb-994a-226511357d7b",
   "metadata": {},
   "outputs": [
    {
     "name": "stdout",
     "output_type": "stream",
     "text": [
      "P(friends_meet) = 0.438\n"
     ]
    }
   ],
   "source": [
    "n = 5000 # simulations\n",
    "\n",
    "friends_meet = 0\n",
    "\n",
    "for i in range(n):\n",
    "    friend_1 = np.random.random()\n",
    "    friend_2 = np.random.random()\n",
    "    \n",
    "    if abs(friend_1 - friend_2) <= 0.25:\n",
    "        friends_meet += 1\n",
    "    \n",
    "print('P(friends_meet) =', friends_meet/n)"
   ]
  },
  {
   "cell_type": "markdown",
   "id": "3215ceaf-ca19-4d44-b38c-53dd6668b67d",
   "metadata": {},
   "source": [
    "## Exercise 4\n",
    "\n",
    "The file major_salary.csv contains data about monthly salaries and majors for some employees.<br />"
   ]
  },
  {
   "cell_type": "code",
   "execution_count": 5,
   "id": "bba838bc-625c-47fb-8308-ac2d37edd757",
   "metadata": {},
   "outputs": [
    {
     "data": {
      "text/html": [
       "<div>\n",
       "<style scoped>\n",
       "    .dataframe tbody tr th:only-of-type {\n",
       "        vertical-align: middle;\n",
       "    }\n",
       "\n",
       "    .dataframe tbody tr th {\n",
       "        vertical-align: top;\n",
       "    }\n",
       "\n",
       "    .dataframe thead th {\n",
       "        text-align: right;\n",
       "    }\n",
       "</style>\n",
       "<table border=\"1\" class=\"dataframe\">\n",
       "  <thead>\n",
       "    <tr style=\"text-align: right;\">\n",
       "      <th></th>\n",
       "      <th>major</th>\n",
       "      <th>salary</th>\n",
       "    </tr>\n",
       "  </thead>\n",
       "  <tbody>\n",
       "    <tr>\n",
       "      <th>0</th>\n",
       "      <td>Management</td>\n",
       "      <td>3330</td>\n",
       "    </tr>\n",
       "    <tr>\n",
       "      <th>1</th>\n",
       "      <td>Management</td>\n",
       "      <td>2700</td>\n",
       "    </tr>\n",
       "    <tr>\n",
       "      <th>2</th>\n",
       "      <td>Finance</td>\n",
       "      <td>3155</td>\n",
       "    </tr>\n",
       "    <tr>\n",
       "      <th>3</th>\n",
       "      <td>Accounting</td>\n",
       "      <td>3855</td>\n",
       "    </tr>\n",
       "    <tr>\n",
       "      <th>4</th>\n",
       "      <td>Info Systems</td>\n",
       "      <td>4220</td>\n",
       "    </tr>\n",
       "  </tbody>\n",
       "</table>\n",
       "</div>"
      ],
      "text/plain": [
       "          major  salary\n",
       "0    Management    3330\n",
       "1    Management    2700\n",
       "2       Finance    3155\n",
       "3    Accounting    3855\n",
       "4  Info Systems    4220"
      ]
     },
     "execution_count": 5,
     "metadata": {},
     "output_type": "execute_result"
    }
   ],
   "source": [
    "df = pd.read_csv('major_salary.csv')\n",
    "df.head()"
   ]
  },
  {
   "cell_type": "code",
   "execution_count": 6,
   "id": "235fef88-627b-472d-9622-159fb0aa0d9c",
   "metadata": {},
   "outputs": [
    {
     "data": {
      "text/plain": [
       "(111, 2)"
      ]
     },
     "execution_count": 6,
     "metadata": {},
     "output_type": "execute_result"
    }
   ],
   "source": [
    "df.shape"
   ]
  },
  {
   "cell_type": "code",
   "execution_count": 7,
   "id": "5fe013fc-15f1-4f94-b600-72c61c10bb50",
   "metadata": {},
   "outputs": [
    {
     "name": "stdout",
     "output_type": "stream",
     "text": [
      "<class 'pandas.core.frame.DataFrame'>\n",
      "RangeIndex: 111 entries, 0 to 110\n",
      "Data columns (total 2 columns):\n",
      " #   Column  Non-Null Count  Dtype \n",
      "---  ------  --------------  ----- \n",
      " 0   major   111 non-null    object\n",
      " 1   salary  111 non-null    int64 \n",
      "dtypes: int64(1), object(1)\n",
      "memory usage: 1.9+ KB\n"
     ]
    }
   ],
   "source": [
    "df.info()"
   ]
  },
  {
   "cell_type": "markdown",
   "id": "5d629f40-602b-4592-aa78-d231f17d7ba1",
   "metadata": {},
   "source": [
    "a) Consider all the salary data. Construct a histogram and a box plot to visualize the distribution of the salaries. Then calculate the Five-Number-Summary1 of the salaries for all employees and the skewness coefficient."
   ]
  },
  {
   "cell_type": "code",
   "execution_count": 8,
   "id": "bce969c5-b286-4da0-bca5-46d967eecd4d",
   "metadata": {},
   "outputs": [
    {
     "data": {
      "application/vnd.jupyter.widget-view+json": {
       "model_id": "da1f418c1c21417a9cc6eed77065ab46",
       "version_major": 2,
       "version_minor": 0
      },
      "text/plain": [
       "Canvas(toolbar=Toolbar(toolitems=[('Home', 'Reset original view', 'home', 'home'), ('Back', 'Back to previous …"
      ]
     },
     "metadata": {},
     "output_type": "display_data"
    }
   ],
   "source": [
    "plt.figure()\n",
    "sns.histplot(df['salary'], bins=10)\n",
    "plt.show()"
   ]
  },
  {
   "cell_type": "code",
   "execution_count": 9,
   "id": "02369b5e-b46e-4e23-92cd-33815b414a1c",
   "metadata": {},
   "outputs": [
    {
     "data": {
      "application/vnd.jupyter.widget-view+json": {
       "model_id": "41107048aeb1472baa5c595da619268c",
       "version_major": 2,
       "version_minor": 0
      },
      "text/plain": [
       "Canvas(toolbar=Toolbar(toolitems=[('Home', 'Reset original view', 'home', 'home'), ('Back', 'Back to previous …"
      ]
     },
     "metadata": {},
     "output_type": "display_data"
    }
   ],
   "source": [
    "plt.figure()\n",
    "plt.boxplot(df['salary'])\n",
    "plt.show()"
   ]
  },
  {
   "cell_type": "code",
   "execution_count": 10,
   "id": "922a7ed7-87a6-4907-8232-023c57e04d15",
   "metadata": {},
   "outputs": [
    {
     "name": "stdout",
     "output_type": "stream",
     "text": [
      "This is the five nmber summary for salary:\n",
      "min =  2240\n",
      "Q1 =  3165.0\n",
      "Median =  3645.0\n",
      "Q3 =  4025.0\n",
      "max =  5650\n"
     ]
    }
   ],
   "source": [
    "salary = df['salary']\n",
    "\n",
    "min_salary = salary.min()\n",
    "max_salary = salary.max()\n",
    "Q1_salary = np.percentile(salary, 25)\n",
    "Q3_salary = np.percentile(salary, 75)\n",
    "median_salary = salary.median()\n",
    "\n",
    "print('This is the five nmber summary for salary:')\n",
    "print('min = ', min_salary)\n",
    "print('Q1 = ', Q1_salary)\n",
    "print('Median = ', median_salary)\n",
    "print('Q3 = ', Q3_salary)\n",
    "print('max = ', max_salary)"
   ]
  },
  {
   "cell_type": "code",
   "execution_count": 11,
   "id": "89145f4a-a232-4085-b88e-9e9a79eb1741",
   "metadata": {},
   "outputs": [
    {
     "name": "stdout",
     "output_type": "stream",
     "text": [
      "The skewness of salary is  0.5396853870144327\n"
     ]
    }
   ],
   "source": [
    "skew_salary = stat.skew(salary.dropna())\n",
    "\n",
    "print('The skewness of salary is ', skew_salary)"
   ]
  },
  {
   "cell_type": "markdown",
   "id": "5d6fb4cb-4c06-457f-9cc8-1f54c27eb927",
   "metadata": {},
   "source": [
    "b) Using the 1.5×IQR rule, identify and list any outliers in the set of all salaries."
   ]
  },
  {
   "cell_type": "code",
   "execution_count": 12,
   "id": "78e5f874-b632-4ac4-84db-adf237f39c2f",
   "metadata": {},
   "outputs": [
    {
     "data": {
      "text/html": [
       "<div>\n",
       "<style scoped>\n",
       "    .dataframe tbody tr th:only-of-type {\n",
       "        vertical-align: middle;\n",
       "    }\n",
       "\n",
       "    .dataframe tbody tr th {\n",
       "        vertical-align: top;\n",
       "    }\n",
       "\n",
       "    .dataframe thead th {\n",
       "        text-align: right;\n",
       "    }\n",
       "</style>\n",
       "<table border=\"1\" class=\"dataframe\">\n",
       "  <thead>\n",
       "    <tr style=\"text-align: right;\">\n",
       "      <th></th>\n",
       "      <th>salary</th>\n",
       "      <th>Outlier</th>\n",
       "    </tr>\n",
       "  </thead>\n",
       "  <tbody>\n",
       "    <tr>\n",
       "      <th>83</th>\n",
       "      <td>5650</td>\n",
       "      <td>True</td>\n",
       "    </tr>\n",
       "    <tr>\n",
       "      <th>94</th>\n",
       "      <td>5500</td>\n",
       "      <td>True</td>\n",
       "    </tr>\n",
       "  </tbody>\n",
       "</table>\n",
       "</div>"
      ],
      "text/plain": [
       "    salary  Outlier\n",
       "83    5650     True\n",
       "94    5500     True"
      ]
     },
     "execution_count": 12,
     "metadata": {},
     "output_type": "execute_result"
    }
   ],
   "source": [
    "Q1 = np.percentile(salary, 25)\n",
    "Q3 = np.percentile(salary, 75)\n",
    "IQR = Q3 - Q1\n",
    "\n",
    "L = Q1 - 1.5*IQR\n",
    "U = Q3 + 1.5*IQR\n",
    "\n",
    "salary = pd.DataFrame(salary)\n",
    "salary['Outlier'] = ((salary['salary'] < L) | (salary['salary'] > U))\n",
    "salary.loc[salary['Outlier']==True]"
   ]
  },
  {
   "cell_type": "markdown",
   "id": "93a9abab-b0b5-49e5-a5f9-c7d3383eb756",
   "metadata": {},
   "source": [
    "c) Now consider the data about the salaries categorized by major. Visualize the mean salaries for each major using a bar graph."
   ]
  },
  {
   "cell_type": "code",
   "execution_count": 13,
   "id": "0a52a93b-5600-49a9-baf8-5297a99f8be9",
   "metadata": {},
   "outputs": [
    {
     "data": {
      "text/html": [
       "<div>\n",
       "<style scoped>\n",
       "    .dataframe tbody tr th:only-of-type {\n",
       "        vertical-align: middle;\n",
       "    }\n",
       "\n",
       "    .dataframe tbody tr th {\n",
       "        vertical-align: top;\n",
       "    }\n",
       "\n",
       "    .dataframe thead th {\n",
       "        text-align: right;\n",
       "    }\n",
       "</style>\n",
       "<table border=\"1\" class=\"dataframe\">\n",
       "  <thead>\n",
       "    <tr style=\"text-align: right;\">\n",
       "      <th></th>\n",
       "      <th>major</th>\n",
       "      <th>salary</th>\n",
       "    </tr>\n",
       "  </thead>\n",
       "  <tbody>\n",
       "    <tr>\n",
       "      <th>0</th>\n",
       "      <td>Accounting</td>\n",
       "      <td>4020</td>\n",
       "    </tr>\n",
       "    <tr>\n",
       "      <th>1</th>\n",
       "      <td>Finance</td>\n",
       "      <td>3695</td>\n",
       "    </tr>\n",
       "    <tr>\n",
       "      <th>2</th>\n",
       "      <td>Info Systems</td>\n",
       "      <td>4000</td>\n",
       "    </tr>\n",
       "    <tr>\n",
       "      <th>3</th>\n",
       "      <td>Management</td>\n",
       "      <td>3180</td>\n",
       "    </tr>\n",
       "    <tr>\n",
       "      <th>4</th>\n",
       "      <td>Marketing</td>\n",
       "      <td>3345</td>\n",
       "    </tr>\n",
       "  </tbody>\n",
       "</table>\n",
       "</div>"
      ],
      "text/plain": [
       "          major  salary\n",
       "0    Accounting    4020\n",
       "1       Finance    3695\n",
       "2  Info Systems    4000\n",
       "3    Management    3180\n",
       "4     Marketing    3345"
      ]
     },
     "execution_count": 13,
     "metadata": {},
     "output_type": "execute_result"
    }
   ],
   "source": [
    "mean = df.groupby('major').mean().reset_index()\n",
    "mean"
   ]
  },
  {
   "cell_type": "code",
   "execution_count": 14,
   "id": "3510c7b6-b091-454d-9586-881ade88e930",
   "metadata": {},
   "outputs": [
    {
     "data": {
      "application/vnd.jupyter.widget-view+json": {
       "model_id": "7b7fc718dbb94f9e8decca51c8bf0405",
       "version_major": 2,
       "version_minor": 0
      },
      "text/plain": [
       "Canvas(toolbar=Toolbar(toolitems=[('Home', 'Reset original view', 'home', 'home'), ('Back', 'Back to previous …"
      ]
     },
     "metadata": {},
     "output_type": "display_data"
    }
   ],
   "source": [
    "plt.figure()\n",
    "sns.barplot(data=mean, x='major', y='salary')\n",
    "plt.show()"
   ]
  },
  {
   "cell_type": "code",
   "execution_count": null,
   "id": "fe0fdbca-6e6a-40c2-8760-a9e8f1f885f8",
   "metadata": {},
   "outputs": [],
   "source": []
  }
 ],
 "metadata": {
  "kernelspec": {
   "display_name": "Python 3",
   "language": "python",
   "name": "python3"
  },
  "language_info": {
   "codemirror_mode": {
    "name": "ipython",
    "version": 3
   },
   "file_extension": ".py",
   "mimetype": "text/x-python",
   "name": "python",
   "nbconvert_exporter": "python",
   "pygments_lexer": "ipython3",
   "version": "3.8.8"
  }
 },
 "nbformat": 4,
 "nbformat_minor": 5
}
