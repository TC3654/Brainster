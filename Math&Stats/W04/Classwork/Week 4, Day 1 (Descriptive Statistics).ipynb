{
 "cells": [
  {
   "cell_type": "markdown",
   "id": "imported-counter",
   "metadata": {},
   "source": [
    "# Week 4: Intro to Statistics and Probability"
   ]
  },
  {
   "cell_type": "code",
   "execution_count": 1,
   "id": "inner-ordinance",
   "metadata": {},
   "outputs": [],
   "source": [
    "# import libraries\n",
    "import pandas as pd\n",
    "import numpy as np\n",
    "import matplotlib.pyplot as plt\n",
    "import seaborn as sns"
   ]
  },
  {
   "cell_type": "markdown",
   "id": "reflected-checkout",
   "metadata": {},
   "source": [
    "## Day 1: Descriptive Statistics\n",
    "* Statistics is the science (or part of mathematics) that deals with collection, presentation and analysis of data\n",
    "* Generally, statistics can be seen as consisting of two parts:\n",
    "    * **Descriptive statistics**, whose goal is to collect and present the data, and provide description of the data's main features\n",
    "    * **Inferential statistics**, whose goal is to provide well-founded conclusions based on the collected data, usually with the help of probability\n",
    "\n",
    "**Note:** the term *data* can be either plural or singular, so you could say \"data is\" or \"data are\". If you use *data* as plural, then the singular is *datum*\n",
    "\n",
    "### Basic concepts\n",
    "* Data is usually structured in **data sets**. Frequently the data sets take the form of tables, or in our case -- Pandas DataFrames\n",
    "* The rows of the data sets are called **instances** or **observations**\n",
    "* The columns of the data sets contain the **features** or **feature vectors** or **variables** of the set\n",
    "* Let's load the *titaninc.csv* and see its structure"
   ]
  },
  {
   "cell_type": "code",
   "execution_count": 2,
   "id": "hearing-female",
   "metadata": {},
   "outputs": [
    {
     "data": {
      "text/html": [
       "<div>\n",
       "<style scoped>\n",
       "    .dataframe tbody tr th:only-of-type {\n",
       "        vertical-align: middle;\n",
       "    }\n",
       "\n",
       "    .dataframe tbody tr th {\n",
       "        vertical-align: top;\n",
       "    }\n",
       "\n",
       "    .dataframe thead th {\n",
       "        text-align: right;\n",
       "    }\n",
       "</style>\n",
       "<table border=\"1\" class=\"dataframe\">\n",
       "  <thead>\n",
       "    <tr style=\"text-align: right;\">\n",
       "      <th></th>\n",
       "      <th>ID</th>\n",
       "      <th>Survived</th>\n",
       "      <th>Class</th>\n",
       "      <th>Name</th>\n",
       "      <th>Sex</th>\n",
       "      <th>Age</th>\n",
       "      <th>Fare</th>\n",
       "      <th>Embarked</th>\n",
       "    </tr>\n",
       "  </thead>\n",
       "  <tbody>\n",
       "    <tr>\n",
       "      <th>0</th>\n",
       "      <td>1</td>\n",
       "      <td>0</td>\n",
       "      <td>3</td>\n",
       "      <td>Braund, Mr. Owen Harris</td>\n",
       "      <td>male</td>\n",
       "      <td>22.0</td>\n",
       "      <td>7.2500</td>\n",
       "      <td>S</td>\n",
       "    </tr>\n",
       "    <tr>\n",
       "      <th>1</th>\n",
       "      <td>2</td>\n",
       "      <td>1</td>\n",
       "      <td>1</td>\n",
       "      <td>Cumings, Mrs. John Bradley (Florence Briggs Th...</td>\n",
       "      <td>female</td>\n",
       "      <td>38.0</td>\n",
       "      <td>71.2833</td>\n",
       "      <td>C</td>\n",
       "    </tr>\n",
       "    <tr>\n",
       "      <th>2</th>\n",
       "      <td>3</td>\n",
       "      <td>1</td>\n",
       "      <td>3</td>\n",
       "      <td>Heikkinen, Miss. Laina</td>\n",
       "      <td>female</td>\n",
       "      <td>26.0</td>\n",
       "      <td>7.9250</td>\n",
       "      <td>S</td>\n",
       "    </tr>\n",
       "    <tr>\n",
       "      <th>3</th>\n",
       "      <td>4</td>\n",
       "      <td>1</td>\n",
       "      <td>1</td>\n",
       "      <td>Futrelle, Mrs. Jacques Heath (Lily May Peel)</td>\n",
       "      <td>female</td>\n",
       "      <td>35.0</td>\n",
       "      <td>53.1000</td>\n",
       "      <td>S</td>\n",
       "    </tr>\n",
       "    <tr>\n",
       "      <th>4</th>\n",
       "      <td>5</td>\n",
       "      <td>0</td>\n",
       "      <td>3</td>\n",
       "      <td>Allen, Mr. William Henry</td>\n",
       "      <td>male</td>\n",
       "      <td>35.0</td>\n",
       "      <td>8.0500</td>\n",
       "      <td>S</td>\n",
       "    </tr>\n",
       "  </tbody>\n",
       "</table>\n",
       "</div>"
      ],
      "text/plain": [
       "   ID  Survived  Class                                               Name  \\\n",
       "0   1         0      3                            Braund, Mr. Owen Harris   \n",
       "1   2         1      1  Cumings, Mrs. John Bradley (Florence Briggs Th...   \n",
       "2   3         1      3                             Heikkinen, Miss. Laina   \n",
       "3   4         1      1       Futrelle, Mrs. Jacques Heath (Lily May Peel)   \n",
       "4   5         0      3                           Allen, Mr. William Henry   \n",
       "\n",
       "      Sex   Age     Fare Embarked  \n",
       "0    male  22.0   7.2500        S  \n",
       "1  female  38.0  71.2833        C  \n",
       "2  female  26.0   7.9250        S  \n",
       "3  female  35.0  53.1000        S  \n",
       "4    male  35.0   8.0500        S  "
      ]
     },
     "execution_count": 2,
     "metadata": {},
     "output_type": "execute_result"
    }
   ],
   "source": [
    "# Load the set\n",
    "df_titanic = pd.read_csv('titanic.csv')\n",
    "df_titanic.head()"
   ]
  },
  {
   "cell_type": "code",
   "execution_count": 3,
   "id": "permanent-outline",
   "metadata": {},
   "outputs": [
    {
     "name": "stdout",
     "output_type": "stream",
     "text": [
      "There are 891 instances and 8 features\n",
      "Index(['ID', 'Survived', 'Class', 'Name', 'Sex', 'Age', 'Fare', 'Embarked'], dtype='object')\n"
     ]
    }
   ],
   "source": [
    "# Count instances and features\n",
    "print(f'There are {df_titanic.shape[0]} instances and {df_titanic.shape[1]} features')\n",
    "\n",
    "# Get the features\n",
    "print(df_titanic.columns)"
   ]
  },
  {
   "cell_type": "code",
   "execution_count": 4,
   "id": "based-anthropology",
   "metadata": {},
   "outputs": [
    {
     "name": "stdout",
     "output_type": "stream",
     "text": [
      "<class 'pandas.core.frame.DataFrame'>\n",
      "RangeIndex: 891 entries, 0 to 890\n",
      "Data columns (total 8 columns):\n",
      " #   Column    Non-Null Count  Dtype  \n",
      "---  ------    --------------  -----  \n",
      " 0   ID        891 non-null    int64  \n",
      " 1   Survived  891 non-null    int64  \n",
      " 2   Class     891 non-null    int64  \n",
      " 3   Name      891 non-null    object \n",
      " 4   Sex       891 non-null    object \n",
      " 5   Age       714 non-null    float64\n",
      " 6   Fare      891 non-null    float64\n",
      " 7   Embarked  889 non-null    object \n",
      "dtypes: float64(2), int64(3), object(3)\n",
      "memory usage: 55.8+ KB\n"
     ]
    }
   ],
   "source": [
    "# Get info about the number of instances per feature, and their type\n",
    "df_titanic.info()"
   ]
  },
  {
   "cell_type": "raw",
   "id": "oriented-geology",
   "metadata": {},
   "source": [
    "# Drop all nan values\n",
    "df_titanic.dropna(inplace=True)\n",
    "df_titanic.info()"
   ]
  },
  {
   "cell_type": "markdown",
   "id": "fitted-product",
   "metadata": {},
   "source": [
    "### Types of features/variables\n",
    "There are two types of features:\n",
    "* **Categorical**: labels or names used to identify an attribute of each element. Possibly we can compare different cateogries by ordering, but there is somewhat limited number of available statistical analyses\n",
    "* **Numerical** or **quantitative**: data that indicate *how many* or *how much*. These come in two \"flavors\"\n",
    "    * **Discrete** if measuring how many (think: *counting*)\n",
    "    * **Continuous** if measuring how much (think: *measuring*)\n",
    "\n",
    "In the Titanic data set:\n",
    "* Categorical features are: *Survived*, *Class* (these two are **coded**), *Name*, *Sex*, and *Embarked*\n",
    "* Numerical features are: *ID* (not of much use), *Age*, and *Fare*"
   ]
  },
  {
   "cell_type": "markdown",
   "id": "transparent-nirvana",
   "metadata": {},
   "source": [
    "### Summarizing Categorical Data\n",
    "Data can be summarized in tables or through visual representations\n",
    "\n",
    "* Tabular summaries for categorical data include:\n",
    "    * Frequency distribution\n",
    "    * Relative/Percent Frequency distribution\n",
    "* Visual summaries for categorical data include:\n",
    "    * Bar/Column graph\n",
    "    * Pie chart\n",
    "\n",
    "### Example 1\n",
    "* Construct the frequency distribution for the feature *Survived* and display it on a bar graph and on a pie chart."
   ]
  },
  {
   "cell_type": "code",
   "execution_count": 5,
   "id": "specific-paragraph",
   "metadata": {},
   "outputs": [
    {
     "data": {
      "text/html": [
       "<div>\n",
       "<style scoped>\n",
       "    .dataframe tbody tr th:only-of-type {\n",
       "        vertical-align: middle;\n",
       "    }\n",
       "\n",
       "    .dataframe tbody tr th {\n",
       "        vertical-align: top;\n",
       "    }\n",
       "\n",
       "    .dataframe thead th {\n",
       "        text-align: right;\n",
       "    }\n",
       "</style>\n",
       "<table border=\"1\" class=\"dataframe\">\n",
       "  <thead>\n",
       "    <tr style=\"text-align: right;\">\n",
       "      <th></th>\n",
       "      <th>Survived</th>\n",
       "      <th>Count</th>\n",
       "    </tr>\n",
       "  </thead>\n",
       "  <tbody>\n",
       "    <tr>\n",
       "      <th>0</th>\n",
       "      <td>0</td>\n",
       "      <td>549</td>\n",
       "    </tr>\n",
       "    <tr>\n",
       "      <th>1</th>\n",
       "      <td>1</td>\n",
       "      <td>342</td>\n",
       "    </tr>\n",
       "  </tbody>\n",
       "</table>\n",
       "</div>"
      ],
      "text/plain": [
       "   Survived  Count\n",
       "0         0    549\n",
       "1         1    342"
      ]
     },
     "metadata": {},
     "output_type": "display_data"
    },
    {
     "data": {
      "image/png": "[encoded data removed]",
      "text/plain": [
       "<Figure size 1080x360 with 3 Axes>"
      ]
     },
     "metadata": {
      "needs_background": "light"
     },
     "output_type": "display_data"
    }
   ],
   "source": [
    "surv_freq = df_titanic.groupby(by='Survived').count()['ID'].reset_index()\n",
    "surv_freq.columns = ['Survived', 'Count']\n",
    "display(surv_freq)\n",
    "\n",
    "\n",
    "plt.figure(figsize=(15, 5))\n",
    "\n",
    "plt.subplot(1, 3, 1)\n",
    "plt.bar(surv_freq['Survived'], surv_freq['Count'], edgecolor='k')\n",
    "\n",
    "plt.subplot(1, 3, 2)\n",
    "plt.bar(['0', '1'], surv_freq['Count'], color='g', edgecolor='k')\n",
    "\n",
    "plt.subplot(1, 3, 3)\n",
    "plt.bar(['Did not survive', 'Survived'], surv_freq['Count'], color='y', edgecolor='k')\n",
    "\n",
    "plt.show()\n",
    "plt.close()"
   ]
  },
  {
   "cell_type": "code",
   "execution_count": 6,
   "id": "broadband-tooth",
   "metadata": {},
   "outputs": [
    {
     "data": {
      "image/png": "[encoded data removed]",
      "text/plain": [
       "<Figure size 1080x360 with 3 Axes>"
      ]
     },
     "metadata": {
      "needs_background": "light"
     },
     "output_type": "display_data"
    }
   ],
   "source": [
    "plt.figure(figsize=(15, 5))\n",
    "\n",
    "plt.subplot(1, 3, 1)\n",
    "plt.barh(surv_freq['Survived'], surv_freq['Count'], edgecolor='k')\n",
    "\n",
    "plt.subplot(1, 3, 2)\n",
    "plt.barh(['0', '1'], surv_freq['Count'], color='g', edgecolor='k')\n",
    "\n",
    "plt.subplot(1, 3, 3)\n",
    "plt.barh(['Did not survive', 'Survived'], surv_freq['Count'], color='y', edgecolor='k')\n",
    "\n",
    "plt.show()\n",
    "plt.close()"
   ]
  },
  {
   "cell_type": "code",
   "execution_count": 7,
   "id": "willing-freeware",
   "metadata": {},
   "outputs": [
    {
     "data": {
      "image/png": "[encoded data removed]",
      "text/plain": [
       "<Figure size 720x360 with 3 Axes>"
      ]
     },
     "metadata": {},
     "output_type": "display_data"
    }
   ],
   "source": [
    "plt.figure(figsize=(10, 5))\n",
    "\n",
    "plt.subplot(1, 3, 1)\n",
    "plt.pie(surv_freq['Count'], labels = surv_freq['Survived'])\n",
    "plt.legend()\n",
    "\n",
    "plt.subplot(1, 3, 2)\n",
    "plt.pie(x='Count', labels = 'Survived', data=surv_freq)\n",
    "plt.legend()\n",
    "\n",
    "plt.subplot(1, 3, 3)\n",
    "plt.pie(surv_freq['Count'], labels = ['Yes', 'No'])\n",
    "plt.legend()\n",
    "\n",
    "plt.show()\n",
    "plt.close()"
   ]
  },
  {
   "cell_type": "code",
   "execution_count": 8,
   "id": "modern-mumbai",
   "metadata": {},
   "outputs": [
    {
     "data": {
      "text/plain": [
       "<AxesSubplot:ylabel='Count'>"
      ]
     },
     "execution_count": 8,
     "metadata": {},
     "output_type": "execute_result"
    },
    {
     "data": {
      "image/png": "[encoded data removed]",
      "text/plain": [
       "<Figure size 432x288 with 1 Axes>"
      ]
     },
     "metadata": {
      "needs_background": "light"
     },
     "output_type": "display_data"
    },
    {
     "data": {
      "image/png": "[encoded data removed]",
      "text/plain": [
       "<Figure size 432x288 with 1 Axes>"
      ]
     },
     "metadata": {},
     "output_type": "display_data"
    }
   ],
   "source": [
    "# Using Pandas\n",
    "\n",
    "surv_freq.plot.bar(x='Survived', y='Count', rot=0)\n",
    "\n",
    "surv_freq.plot.pie(y='Count')"
   ]
  },
  {
   "cell_type": "markdown",
   "id": "hairy-foster",
   "metadata": {},
   "source": [
    "### Example 2\n",
    "* Calculate the percent frequency distribution of the feature *Embarked* and display it on a bar graph"
   ]
  },
  {
   "cell_type": "code",
   "execution_count": 9,
   "id": "soviet-blair",
   "metadata": {},
   "outputs": [
    {
     "data": {
      "text/html": [
       "<div>\n",
       "<style scoped>\n",
       "    .dataframe tbody tr th:only-of-type {\n",
       "        vertical-align: middle;\n",
       "    }\n",
       "\n",
       "    .dataframe tbody tr th {\n",
       "        vertical-align: top;\n",
       "    }\n",
       "\n",
       "    .dataframe thead th {\n",
       "        text-align: right;\n",
       "    }\n",
       "</style>\n",
       "<table border=\"1\" class=\"dataframe\">\n",
       "  <thead>\n",
       "    <tr style=\"text-align: right;\">\n",
       "      <th></th>\n",
       "      <th>Embarked</th>\n",
       "      <th>Count</th>\n",
       "      <th>Prop</th>\n",
       "      <th>Perc</th>\n",
       "    </tr>\n",
       "  </thead>\n",
       "  <tbody>\n",
       "    <tr>\n",
       "      <th>0</th>\n",
       "      <td>C</td>\n",
       "      <td>168</td>\n",
       "      <td>0.188976</td>\n",
       "      <td>18.9</td>\n",
       "    </tr>\n",
       "    <tr>\n",
       "      <th>1</th>\n",
       "      <td>Q</td>\n",
       "      <td>77</td>\n",
       "      <td>0.086614</td>\n",
       "      <td>8.7</td>\n",
       "    </tr>\n",
       "    <tr>\n",
       "      <th>2</th>\n",
       "      <td>S</td>\n",
       "      <td>644</td>\n",
       "      <td>0.724409</td>\n",
       "      <td>72.4</td>\n",
       "    </tr>\n",
       "  </tbody>\n",
       "</table>\n",
       "</div>"
      ],
      "text/plain": [
       "  Embarked  Count      Prop  Perc\n",
       "0        C    168  0.188976  18.9\n",
       "1        Q     77  0.086614   8.7\n",
       "2        S    644  0.724409  72.4"
      ]
     },
     "metadata": {},
     "output_type": "display_data"
    },
    {
     "data": {
      "text/plain": [
       "<AxesSubplot:xlabel='Embarked'>"
      ]
     },
     "execution_count": 9,
     "metadata": {},
     "output_type": "execute_result"
    },
    {
     "data": {
      "image/png": "[encoded data removed]",
      "text/plain": [
       "<Figure size 432x288 with 1 Axes>"
      ]
     },
     "metadata": {
      "needs_background": "light"
     },
     "output_type": "display_data"
    },
    {
     "data": {
      "image/png": "[encoded data removed]",
      "text/plain": [
       "<Figure size 432x288 with 1 Axes>"
      ]
     },
     "metadata": {
      "needs_background": "light"
     },
     "output_type": "display_data"
    },
    {
     "data": {
      "image/png": "[encoded data removed]",
      "text/plain": [
       "<Figure size 432x288 with 1 Axes>"
      ]
     },
     "metadata": {
      "needs_background": "light"
     },
     "output_type": "display_data"
    }
   ],
   "source": [
    "emb_df = df_titanic.groupby('Embarked').count()['ID'].reset_index()\n",
    "emb_df.columns = ['Embarked', 'Count']\n",
    "\n",
    "total = emb_df['Count'].sum()\n",
    "emb_df['Prop'] = emb_df['Count']/total\n",
    "emb_df['Perc'] = round(emb_df['Prop']*100, 1)\n",
    "\n",
    "display(emb_df)\n",
    "\n",
    "\n",
    "emb_df.plot.bar(x='Embarked', y='Count', rot=0)\n",
    "\n",
    "emb_df.plot.bar(x='Embarked', y='Prop', rot=0)\n",
    "\n",
    "emb_df.plot.bar(x='Embarked', y='Perc', rot=0)\n",
    "\n"
   ]
  },
  {
   "cell_type": "markdown",
   "id": "occasional-stable",
   "metadata": {},
   "source": [
    "### Summarizing Numerical Data\n",
    "Data can be summarized in tables or through visual representations\n",
    "\n",
    "* Tabular summaries for numerical data include:\n",
    "    * Frequency distribution with classes\n",
    "    * Relative/Percent Frequency distribution with classes\n",
    "* Visual summaries for categorical data include:\n",
    "    * Histogram\n",
    "    * Box-plot\n",
    "\n",
    "### Example 3\n",
    "* Construct the frequency distribution for the feature *Age* and display it on a histogram."
   ]
  },
  {
   "cell_type": "code",
   "execution_count": 10,
   "id": "piano-funds",
   "metadata": {},
   "outputs": [
    {
     "data": {
      "text/html": [
       "<div>\n",
       "<style scoped>\n",
       "    .dataframe tbody tr th:only-of-type {\n",
       "        vertical-align: middle;\n",
       "    }\n",
       "\n",
       "    .dataframe tbody tr th {\n",
       "        vertical-align: top;\n",
       "    }\n",
       "\n",
       "    .dataframe thead th {\n",
       "        text-align: right;\n",
       "    }\n",
       "</style>\n",
       "<table border=\"1\" class=\"dataframe\">\n",
       "  <thead>\n",
       "    <tr style=\"text-align: right;\">\n",
       "      <th></th>\n",
       "      <th>index</th>\n",
       "      <th>Age</th>\n",
       "    </tr>\n",
       "  </thead>\n",
       "  <tbody>\n",
       "    <tr>\n",
       "      <th>0</th>\n",
       "      <td>(16.336, 32.252]</td>\n",
       "      <td>346</td>\n",
       "    </tr>\n",
       "    <tr>\n",
       "      <th>1</th>\n",
       "      <td>(32.252, 48.168]</td>\n",
       "      <td>188</td>\n",
       "    </tr>\n",
       "    <tr>\n",
       "      <th>2</th>\n",
       "      <td>(0.34, 16.336]</td>\n",
       "      <td>100</td>\n",
       "    </tr>\n",
       "    <tr>\n",
       "      <th>3</th>\n",
       "      <td>(48.168, 64.084]</td>\n",
       "      <td>69</td>\n",
       "    </tr>\n",
       "    <tr>\n",
       "      <th>4</th>\n",
       "      <td>(64.084, 80.0]</td>\n",
       "      <td>11</td>\n",
       "    </tr>\n",
       "  </tbody>\n",
       "</table>\n",
       "</div>"
      ],
      "text/plain": [
       "              index  Age\n",
       "0  (16.336, 32.252]  346\n",
       "1  (32.252, 48.168]  188\n",
       "2    (0.34, 16.336]  100\n",
       "3  (48.168, 64.084]   69\n",
       "4    (64.084, 80.0]   11"
      ]
     },
     "execution_count": 10,
     "metadata": {},
     "output_type": "execute_result"
    }
   ],
   "source": [
    "df_age_cut = pd.Series(pd.cut(df_titanic['Age'], bins=5)).value_counts().reset_index()\n",
    "df_age_cut"
   ]
  },
  {
   "cell_type": "code",
   "execution_count": 11,
   "id": "diverse-parcel",
   "metadata": {},
   "outputs": [
    {
     "data": {
      "text/plain": [
       "<AxesSubplot:ylabel='Frequency'>"
      ]
     },
     "execution_count": 11,
     "metadata": {},
     "output_type": "execute_result"
    },
    {
     "data": {
      "image/png": "[encoded data removed]",
      "text/plain": [
       "<Figure size 432x288 with 1 Axes>"
      ]
     },
     "metadata": {
      "needs_background": "light"
     },
     "output_type": "display_data"
    }
   ],
   "source": [
    "df_titanic['Age'].plot.hist()"
   ]
  },
  {
   "cell_type": "code",
   "execution_count": 12,
   "id": "favorite-crown",
   "metadata": {},
   "outputs": [
    {
     "data": {
      "text/plain": [
       "(array([ 54.,  46., 177., 169., 118.,  70.,  45.,  24.,   9.,   2.]),\n",
       " array([ 0.42 ,  8.378, 16.336, 24.294, 32.252, 40.21 , 48.168, 56.126,\n",
       "        64.084, 72.042, 80.   ]),\n",
       " <BarContainer object of 10 artists>)"
      ]
     },
     "execution_count": 12,
     "metadata": {},
     "output_type": "execute_result"
    },
    {
     "data": {
      "image/png": "[encoded data removed]",
      "text/plain": [
       "<Figure size 432x288 with 1 Axes>"
      ]
     },
     "metadata": {
      "needs_background": "light"
     },
     "output_type": "display_data"
    }
   ],
   "source": [
    "plt.hist(df_titanic['Age'])"
   ]
  },
  {
   "cell_type": "markdown",
   "id": "static-placement",
   "metadata": {},
   "source": [
    "### Measures of central tendency\n",
    "Most frequently we wish to represent a feature with a single number. There are several options for this:\n",
    "* **Mean**: the average of the data. The mean is heavily influenced by outliers/extreme values\n",
    "* **Median**: the middle data point in the ordered list of points. Much more resistent to extreme values comared to the mean. Note that the median splits the data set in (roughly) 50%-50% ratio\n",
    "* **Mode**: the most frequent data point in the feature. Not unique, and usually not suited for numerical variables\n",
    "\n",
    "### Example 4\n",
    "* Calculate the mean and median age of the passenger aboard the *Titanic*. Then calculate the mean and median fare rates."
   ]
  },
  {
   "cell_type": "code",
   "execution_count": 13,
   "id": "recreational-circular",
   "metadata": {},
   "outputs": [
    {
     "name": "stdout",
     "output_type": "stream",
     "text": [
      "The mean age is 29.69911764705882, while the median age is 28.0\n",
      "The mean fare is 32.204207968574636, while the median fare is 14.4542\n"
     ]
    },
    {
     "data": {
      "text/plain": [
       "<AxesSubplot:ylabel='Frequency'>"
      ]
     },
     "execution_count": 13,
     "metadata": {},
     "output_type": "execute_result"
    },
    {
     "data": {
      "image/png": "[encoded data removed]",
      "text/plain": [
       "<Figure size 432x288 with 1 Axes>"
      ]
     },
     "metadata": {
      "needs_background": "light"
     },
     "output_type": "display_data"
    }
   ],
   "source": [
    "# Age\n",
    "mean_age = df_titanic['Age'].mean()\n",
    "median_age = df_titanic['Age'].median()\n",
    "\n",
    "print(f'The mean age is {mean_age}, while the median age is {median_age}')\n",
    "\n",
    "\n",
    "# Fare\n",
    "mean_fare = df_titanic['Fare'].mean()\n",
    "median_fare = df_titanic['Fare'].median()\n",
    "\n",
    "print(f'The mean fare is {mean_fare}, while the median fare is {median_fare}')\n",
    "df_titanic['Fare'].plot.hist()"
   ]
  },
  {
   "cell_type": "markdown",
   "id": "strange-survey",
   "metadata": {},
   "source": [
    "### Measures of variability\n",
    "When analyzing numerical data it is always a good habit to include information about the \"diversity\" of the data. This \"diversity\" in statistics is known as **variability**. There are many measures of variability; we single out the following:\n",
    "* **Range**: just the distance between the min and the max of the feature values. Heavily influenced by extreme values. Captures 100% of the data\n",
    "* **Variance**: the mean square deviation of the data from the mean. Mostly deffers to the standard deviation\n",
    "* **Standar Deviation**: the square root of the variance. Probably hhe golden standard. Great to use alongside the mean\n",
    "* **Interquartile Range (IQR)**: captures the *middle* 50% of the data. Great to use alongside the median\n",
    "\n",
    "### Example 5\n",
    "* Calculate the measures of variability of *Age* for the Titanic data set."
   ]
  },
  {
   "cell_type": "code",
   "execution_count": 14,
   "id": "mounted-husband",
   "metadata": {},
   "outputs": [
    {
     "data": {
      "text/plain": [
       "count    714.000000\n",
       "mean      29.699118\n",
       "std       14.526497\n",
       "min        0.420000\n",
       "25%       20.125000\n",
       "50%       28.000000\n",
       "75%       38.000000\n",
       "max       80.000000\n",
       "Name: Age, dtype: float64"
      ]
     },
     "execution_count": 14,
     "metadata": {},
     "output_type": "execute_result"
    }
   ],
   "source": [
    "# Simplest way to get many of these:\n",
    "df_titanic['Age'].describe()"
   ]
  },
  {
   "cell_type": "code",
   "execution_count": 15,
   "id": "afraid-recording",
   "metadata": {},
   "outputs": [
    {
     "name": "stdout",
     "output_type": "stream",
     "text": [
      "Range =  79.58\n",
      "Variance =  211.01912474630802\n",
      "St. Dev =  14.526497332334042\n",
      "IQR =  nan\n"
     ]
    }
   ],
   "source": [
    "# Calculating\n",
    "age = df_titanic['Age']\n",
    "\n",
    "# getting the range\n",
    "min_age = age.min()\n",
    "max_age = age.max()\n",
    "range_age = max_age - min_age\n",
    "print('Range = ', range_age)\n",
    "\n",
    "# Getting the variance\n",
    "var_age = age.var()\n",
    "print('Variance = ', var_age)\n",
    "\n",
    "# Getting the standard deviation\n",
    "stdev_age = age.std()\n",
    "print('St. Dev = ', stdev_age)\n",
    "\n",
    "# Getting the IQR\n",
    "Q1_age = np.percentile(age, 25)\n",
    "Q3_age = np.percentile(age, 75)\n",
    "IQR_age = Q3_age - Q1_age\n",
    "print('IQR = ', IQR_age)"
   ]
  },
  {
   "cell_type": "code",
   "execution_count": 16,
   "id": "involved-newfoundland",
   "metadata": {},
   "outputs": [
    {
     "name": "stdout",
     "output_type": "stream",
     "text": [
      "This is the five nmber summary for AGE:\n",
      "min =  0.42\n",
      "Q1 =  nan\n",
      "Median =  28.0\n",
      "Q3 =  nan\n",
      "max =  80.0\n"
     ]
    },
    {
     "data": {
      "text/plain": [
       "<AxesSubplot:>"
      ]
     },
     "execution_count": 16,
     "metadata": {},
     "output_type": "execute_result"
    },
    {
     "data": {
      "image/png": "[encoded data removed]",
      "text/plain": [
       "<Figure size 432x288 with 1 Axes>"
      ]
     },
     "metadata": {
      "needs_background": "light"
     },
     "output_type": "display_data"
    }
   ],
   "source": [
    "# Visualizing using quartiles: the box plot\n",
    "median_age = age.median()\n",
    "\n",
    "print('This is the five nmber summary for AGE:')\n",
    "print('min = ', min_age)\n",
    "print('Q1 = ', Q1_age)\n",
    "print('Median = ', median_age)\n",
    "print('Q3 = ', Q3_age)\n",
    "print('max = ', max_age)\n",
    "\n",
    "age.plot.box()"
   ]
  },
  {
   "cell_type": "markdown",
   "id": "trying-territory",
   "metadata": {},
   "source": [
    "### Measuring departure from symmetricity\n",
    "* The distribution of the fares is *skewed to the right* or *positively skewed* -- it has a tail dragging onto the right\n",
    "* Many statistical procedures are tailored to work with data that is **symmetric**, i.e. data that has balanced tails\n",
    "* The **skewness** coefficient quantifies the departure from symmetricity\n",
    "* Positive values of the coefficient indicate skewness to the right. Negative values of the coefficient indicate skewness to the left. The greater the number (in terms of absolute value), the greater the skewness.\n",
    "\n",
    "### Example 6\n",
    "* Calculate the skewness of the *Age* and *Fare* features in the Titanic data set."
   ]
  },
  {
   "cell_type": "code",
   "execution_count": 17,
   "id": "worse-criminal",
   "metadata": {},
   "outputs": [
    {
     "name": "stdout",
     "output_type": "stream",
     "text": [
      "The skewness of age is  0.3882898514698657\n",
      "The skewness of fare is  4.7792532923723545\n"
     ]
    }
   ],
   "source": [
    "import scipy.stats as stat\n",
    "skew_age = stat.skew(df_titanic['Age'].dropna())\n",
    "\n",
    "skew_fare = stat.skew(df_titanic['Fare'])\n",
    "\n",
    "print('The skewness of age is ', skew_age)\n",
    "\n",
    "print('The skewness of fare is ', skew_fare)"
   ]
  },
  {
   "cell_type": "code",
   "execution_count": 18,
   "id": "robust-spice",
   "metadata": {},
   "outputs": [
    {
     "data": {
      "text/plain": [
       "Age     0.389108\n",
       "Fare    4.787317\n",
       "dtype: float64"
      ]
     },
     "execution_count": 18,
     "metadata": {},
     "output_type": "execute_result"
    }
   ],
   "source": [
    "df_titanic[['Age', 'Fare']].skew()"
   ]
  },
  {
   "cell_type": "markdown",
   "id": "everyday-amino",
   "metadata": {},
   "source": [
    "### Detecting outliers\n",
    "* **Outliers** (extreme points, influential points) are elements of the data set that severely depart from *most of the data*\n",
    "* Generally, these should be handeled somehow before modeling\n",
    "* Options include dropping the outliers or transforming the original data\n",
    "* One way to detect outliers is to use **standardization** -- measure how many standard deviations from the mean is each data point. For every data point $x$ we calculate a $z$-score using the formula:\n",
    "\\begin{equation} z = \\frac{x - \\mu}{\\sigma} \\end{equation}\n",
    "where $\\mu$ is the mean and $\\sigma$ is the standard deviation of the data\n",
    "* A point is labeled as an outlier if $|z| \\geqslant 3$\n",
    "\n",
    "### Example 7\n",
    "* List the outliers in the *Fare* feature of the Titanic data set using standardization"
   ]
  },
  {
   "cell_type": "code",
   "execution_count": 19,
   "id": "southeast-therapy",
   "metadata": {},
   "outputs": [
    {
     "data": {
      "text/html": [
       "<div>\n",
       "<style scoped>\n",
       "    .dataframe tbody tr th:only-of-type {\n",
       "        vertical-align: middle;\n",
       "    }\n",
       "\n",
       "    .dataframe tbody tr th {\n",
       "        vertical-align: top;\n",
       "    }\n",
       "\n",
       "    .dataframe thead th {\n",
       "        text-align: right;\n",
       "    }\n",
       "</style>\n",
       "<table border=\"1\" class=\"dataframe\">\n",
       "  <thead>\n",
       "    <tr style=\"text-align: right;\">\n",
       "      <th></th>\n",
       "      <th>Fare</th>\n",
       "      <th>z_score</th>\n",
       "      <th>Outlier</th>\n",
       "    </tr>\n",
       "  </thead>\n",
       "  <tbody>\n",
       "    <tr>\n",
       "      <th>27</th>\n",
       "      <td>263.0000</td>\n",
       "      <td>4.644393</td>\n",
       "      <td>True</td>\n",
       "    </tr>\n",
       "    <tr>\n",
       "      <th>88</th>\n",
       "      <td>263.0000</td>\n",
       "      <td>4.644393</td>\n",
       "      <td>True</td>\n",
       "    </tr>\n",
       "    <tr>\n",
       "      <th>118</th>\n",
       "      <td>247.5208</td>\n",
       "      <td>4.332899</td>\n",
       "      <td>True</td>\n",
       "    </tr>\n",
       "    <tr>\n",
       "      <th>258</th>\n",
       "      <td>512.3292</td>\n",
       "      <td>9.661740</td>\n",
       "      <td>True</td>\n",
       "    </tr>\n",
       "    <tr>\n",
       "      <th>299</th>\n",
       "      <td>247.5208</td>\n",
       "      <td>4.332899</td>\n",
       "      <td>True</td>\n",
       "    </tr>\n",
       "    <tr>\n",
       "      <th>311</th>\n",
       "      <td>262.3750</td>\n",
       "      <td>4.631815</td>\n",
       "      <td>True</td>\n",
       "    </tr>\n",
       "    <tr>\n",
       "      <th>341</th>\n",
       "      <td>263.0000</td>\n",
       "      <td>4.644393</td>\n",
       "      <td>True</td>\n",
       "    </tr>\n",
       "    <tr>\n",
       "      <th>377</th>\n",
       "      <td>211.5000</td>\n",
       "      <td>3.608038</td>\n",
       "      <td>True</td>\n",
       "    </tr>\n",
       "    <tr>\n",
       "      <th>380</th>\n",
       "      <td>227.5250</td>\n",
       "      <td>3.930516</td>\n",
       "      <td>True</td>\n",
       "    </tr>\n",
       "    <tr>\n",
       "      <th>438</th>\n",
       "      <td>263.0000</td>\n",
       "      <td>4.644393</td>\n",
       "      <td>True</td>\n",
       "    </tr>\n",
       "    <tr>\n",
       "      <th>527</th>\n",
       "      <td>221.7792</td>\n",
       "      <td>3.814891</td>\n",
       "      <td>True</td>\n",
       "    </tr>\n",
       "    <tr>\n",
       "      <th>557</th>\n",
       "      <td>227.5250</td>\n",
       "      <td>3.930516</td>\n",
       "      <td>True</td>\n",
       "    </tr>\n",
       "    <tr>\n",
       "      <th>679</th>\n",
       "      <td>512.3292</td>\n",
       "      <td>9.661740</td>\n",
       "      <td>True</td>\n",
       "    </tr>\n",
       "    <tr>\n",
       "      <th>689</th>\n",
       "      <td>211.3375</td>\n",
       "      <td>3.604768</td>\n",
       "      <td>True</td>\n",
       "    </tr>\n",
       "    <tr>\n",
       "      <th>700</th>\n",
       "      <td>227.5250</td>\n",
       "      <td>3.930516</td>\n",
       "      <td>True</td>\n",
       "    </tr>\n",
       "    <tr>\n",
       "      <th>716</th>\n",
       "      <td>227.5250</td>\n",
       "      <td>3.930516</td>\n",
       "      <td>True</td>\n",
       "    </tr>\n",
       "    <tr>\n",
       "      <th>730</th>\n",
       "      <td>211.3375</td>\n",
       "      <td>3.604768</td>\n",
       "      <td>True</td>\n",
       "    </tr>\n",
       "    <tr>\n",
       "      <th>737</th>\n",
       "      <td>512.3292</td>\n",
       "      <td>9.661740</td>\n",
       "      <td>True</td>\n",
       "    </tr>\n",
       "    <tr>\n",
       "      <th>742</th>\n",
       "      <td>262.3750</td>\n",
       "      <td>4.631815</td>\n",
       "      <td>True</td>\n",
       "    </tr>\n",
       "    <tr>\n",
       "      <th>779</th>\n",
       "      <td>211.3375</td>\n",
       "      <td>3.604768</td>\n",
       "      <td>True</td>\n",
       "    </tr>\n",
       "  </tbody>\n",
       "</table>\n",
       "</div>"
      ],
      "text/plain": [
       "         Fare   z_score  Outlier\n",
       "27   263.0000  4.644393     True\n",
       "88   263.0000  4.644393     True\n",
       "118  247.5208  4.332899     True\n",
       "258  512.3292  9.661740     True\n",
       "299  247.5208  4.332899     True\n",
       "311  262.3750  4.631815     True\n",
       "341  263.0000  4.644393     True\n",
       "377  211.5000  3.608038     True\n",
       "380  227.5250  3.930516     True\n",
       "438  263.0000  4.644393     True\n",
       "527  221.7792  3.814891     True\n",
       "557  227.5250  3.930516     True\n",
       "679  512.3292  9.661740     True\n",
       "689  211.3375  3.604768     True\n",
       "700  227.5250  3.930516     True\n",
       "716  227.5250  3.930516     True\n",
       "730  211.3375  3.604768     True\n",
       "737  512.3292  9.661740     True\n",
       "742  262.3750  4.631815     True\n",
       "779  211.3375  3.604768     True"
      ]
     },
     "execution_count": 19,
     "metadata": {},
     "output_type": "execute_result"
    }
   ],
   "source": [
    "fare = pd.DataFrame(df_titanic['Fare'])\n",
    "mu = fare.mean()\n",
    "sigma = fare.std()\n",
    "\n",
    "z_fare = (fare - mu)/sigma\n",
    "fare['z_score'] = z_fare\n",
    "fare['Outlier'] = abs(z_fare) > 3\n",
    "fare.loc[fare['Outlier']==True]"
   ]
  },
  {
   "cell_type": "markdown",
   "id": "controversial-recommendation",
   "metadata": {},
   "source": [
    "* Another way to detect outliers is by using the quartiles $Q_1$ and $Q_3$, and the IQR. This is done by defining appropriate upper and lower boundaries of an interval of values.\n",
    "* Data outside this interval are labeled as outlers.\n",
    "* This is known as the $1.5\\times IQR$ rule. The boundaries are:\n",
    "\\begin{equation}\n",
    "\\begin{array}{rcl}\n",
    "L &=& Q_1 - 1.5 \\cdot IQR\\\\\n",
    "U &=& Q_3 + 1.5 \\cdot IQR\n",
    "\\end{array}\n",
    "\\end{equation}\n",
    "* Data outside the interval $[L, U]$ are labeled as outliers.\n",
    "\n",
    "### Example 8\n",
    "* List the outliers in the *Fare* feature of the Titanic data set using the $1.5\\times IQR$ rule"
   ]
  },
  {
   "cell_type": "code",
   "execution_count": 20,
   "id": "suited-auction",
   "metadata": {},
   "outputs": [
    {
     "data": {
      "text/html": [
       "<div>\n",
       "<style scoped>\n",
       "    .dataframe tbody tr th:only-of-type {\n",
       "        vertical-align: middle;\n",
       "    }\n",
       "\n",
       "    .dataframe tbody tr th {\n",
       "        vertical-align: top;\n",
       "    }\n",
       "\n",
       "    .dataframe thead th {\n",
       "        text-align: right;\n",
       "    }\n",
       "</style>\n",
       "<table border=\"1\" class=\"dataframe\">\n",
       "  <thead>\n",
       "    <tr style=\"text-align: right;\">\n",
       "      <th></th>\n",
       "      <th>Fare</th>\n",
       "      <th>Outlier</th>\n",
       "    </tr>\n",
       "  </thead>\n",
       "  <tbody>\n",
       "    <tr>\n",
       "      <th>1</th>\n",
       "      <td>71.2833</td>\n",
       "      <td>True</td>\n",
       "    </tr>\n",
       "    <tr>\n",
       "      <th>27</th>\n",
       "      <td>263.0000</td>\n",
       "      <td>True</td>\n",
       "    </tr>\n",
       "    <tr>\n",
       "      <th>31</th>\n",
       "      <td>146.5208</td>\n",
       "      <td>True</td>\n",
       "    </tr>\n",
       "    <tr>\n",
       "      <th>34</th>\n",
       "      <td>82.1708</td>\n",
       "      <td>True</td>\n",
       "    </tr>\n",
       "    <tr>\n",
       "      <th>52</th>\n",
       "      <td>76.7292</td>\n",
       "      <td>True</td>\n",
       "    </tr>\n",
       "    <tr>\n",
       "      <th>...</th>\n",
       "      <td>...</td>\n",
       "      <td>...</td>\n",
       "    </tr>\n",
       "    <tr>\n",
       "      <th>846</th>\n",
       "      <td>69.5500</td>\n",
       "      <td>True</td>\n",
       "    </tr>\n",
       "    <tr>\n",
       "      <th>849</th>\n",
       "      <td>89.1042</td>\n",
       "      <td>True</td>\n",
       "    </tr>\n",
       "    <tr>\n",
       "      <th>856</th>\n",
       "      <td>164.8667</td>\n",
       "      <td>True</td>\n",
       "    </tr>\n",
       "    <tr>\n",
       "      <th>863</th>\n",
       "      <td>69.5500</td>\n",
       "      <td>True</td>\n",
       "    </tr>\n",
       "    <tr>\n",
       "      <th>879</th>\n",
       "      <td>83.1583</td>\n",
       "      <td>True</td>\n",
       "    </tr>\n",
       "  </tbody>\n",
       "</table>\n",
       "<p>116 rows × 2 columns</p>\n",
       "</div>"
      ],
      "text/plain": [
       "         Fare  Outlier\n",
       "1     71.2833     True\n",
       "27   263.0000     True\n",
       "31   146.5208     True\n",
       "34    82.1708     True\n",
       "52    76.7292     True\n",
       "..        ...      ...\n",
       "846   69.5500     True\n",
       "849   89.1042     True\n",
       "856  164.8667     True\n",
       "863   69.5500     True\n",
       "879   83.1583     True\n",
       "\n",
       "[116 rows x 2 columns]"
      ]
     },
     "execution_count": 20,
     "metadata": {},
     "output_type": "execute_result"
    }
   ],
   "source": [
    "fare = df_titanic['Fare']\n",
    "\n",
    "Q1 = np.percentile(fare, 25)\n",
    "Q3 = np.percentile(fare, 75)\n",
    "IQR = Q3 - Q1\n",
    "\n",
    "L = Q1 - 1.5*IQR\n",
    "U = Q3 + 1.5*IQR\n",
    "\n",
    "fare = pd.DataFrame(fare)\n",
    "fare['Outlier'] = ((fare['Fare'] < L) | (fare['Fare'] > U))\n",
    "fare.loc[fare['Outlier']==True]"
   ]
  },
  {
   "cell_type": "code",
   "execution_count": 45,
   "id": "sublime-bolivia",
   "metadata": {},
   "outputs": [
    {
     "data": {
      "image/png": "[encoded data removed]",
      "text/plain": [
       "<Figure size 1080x288 with 2 Axes>"
      ]
     },
     "metadata": {
      "needs_background": "light"
     },
     "output_type": "display_data"
    }
   ],
   "source": [
    "fare = df_titanic.loc[df_titanic['Fare'] > 0]['Fare']\n",
    "#fare.plot(kind='hist')\n",
    "L = -0.097787\n",
    "plt.figure(figsize=(15,4))\n",
    "plt.subplot(1, 2, 1)\n",
    "plt.hist(fare)\n",
    "\n",
    "plt.subplot(1,2,2)\n",
    "plt.hist((fare**L - 1)/L)\n",
    "plt.show()"
   ]
  },
  {
   "cell_type": "code",
   "execution_count": 46,
   "id": "designing-millennium",
   "metadata": {},
   "outputs": [
    {
     "data": {
      "image/png": "[encoded data removed]",
      "text/plain": [
       "<Figure size 432x288 with 1 Axes>"
      ]
     },
     "metadata": {
      "needs_background": "light"
     },
     "output_type": "display_data"
    }
   ],
   "source": [
    "#Box-Cox Transformation\n",
    "#y = (x**lmbda - 1) / lmbda,  for lmbda != 0\n",
    "#    log(x),                  for lmbda = 0\n",
    "\n",
    "fare_transformed = stat.boxcox(fare)\n",
    "plt.figure()\n",
    "plt.hist(fare_transformed[0])\n",
    "plt.show()"
   ]
  },
  {
   "cell_type": "code",
   "execution_count": 60,
   "id": "precise-shelter",
   "metadata": {},
   "outputs": [
    {
     "ename": "ValueError",
     "evalue": "Data must be positive.",
     "output_type": "error",
     "traceback": [
      "\u001b[1;31m---------------------------------------------------------------------------\u001b[0m",
      "\u001b[1;31mValueError\u001b[0m                                Traceback (most recent call last)",
      "\u001b[1;32m<ipython-input-60-3768d2ced9c7>\u001b[0m in \u001b[0;36m<module>\u001b[1;34m\u001b[0m\n\u001b[0;32m      1\u001b[0m \u001b[0mfare\u001b[0m \u001b[1;33m=\u001b[0m \u001b[0mdf_titanic\u001b[0m\u001b[1;33m[\u001b[0m\u001b[1;34m'Fare'\u001b[0m\u001b[1;33m]\u001b[0m\u001b[1;33m\u001b[0m\u001b[1;33m\u001b[0m\u001b[0m\n\u001b[1;32m----> 2\u001b[1;33m \u001b[0mfare_transformed\u001b[0m \u001b[1;33m=\u001b[0m \u001b[0mstat\u001b[0m\u001b[1;33m.\u001b[0m\u001b[0mboxcox\u001b[0m\u001b[1;33m(\u001b[0m\u001b[0mfare\u001b[0m\u001b[1;33m)\u001b[0m\u001b[1;33m\u001b[0m\u001b[1;33m\u001b[0m\u001b[0m\n\u001b[0m\u001b[0;32m      3\u001b[0m \u001b[0mplt\u001b[0m\u001b[1;33m.\u001b[0m\u001b[0mfigure\u001b[0m\u001b[1;33m(\u001b[0m\u001b[1;33m)\u001b[0m\u001b[1;33m\u001b[0m\u001b[1;33m\u001b[0m\u001b[0m\n\u001b[0;32m      4\u001b[0m \u001b[0mplt\u001b[0m\u001b[1;33m.\u001b[0m\u001b[0mhist\u001b[0m\u001b[1;33m(\u001b[0m\u001b[0mfare_transformed\u001b[0m\u001b[1;33m[\u001b[0m\u001b[1;36m0\u001b[0m\u001b[1;33m]\u001b[0m\u001b[1;33m)\u001b[0m\u001b[1;33m\u001b[0m\u001b[1;33m\u001b[0m\u001b[0m\n\u001b[0;32m      5\u001b[0m \u001b[0mplt\u001b[0m\u001b[1;33m.\u001b[0m\u001b[0mshow\u001b[0m\u001b[1;33m(\u001b[0m\u001b[1;33m)\u001b[0m\u001b[1;33m\u001b[0m\u001b[1;33m\u001b[0m\u001b[0m\n",
      "\u001b[1;32m~\\anaconda3\\envs\\Filip\\lib\\site-packages\\scipy\\stats\\morestats.py\u001b[0m in \u001b[0;36mboxcox\u001b[1;34m(x, lmbda, alpha)\u001b[0m\n\u001b[0;32m   1041\u001b[0m \u001b[1;33m\u001b[0m\u001b[0m\n\u001b[0;32m   1042\u001b[0m     \u001b[1;32mif\u001b[0m \u001b[0many\u001b[0m\u001b[1;33m(\u001b[0m\u001b[0mx\u001b[0m \u001b[1;33m<=\u001b[0m \u001b[1;36m0\u001b[0m\u001b[1;33m)\u001b[0m\u001b[1;33m:\u001b[0m\u001b[1;33m\u001b[0m\u001b[1;33m\u001b[0m\u001b[0m\n\u001b[1;32m-> 1043\u001b[1;33m         \u001b[1;32mraise\u001b[0m \u001b[0mValueError\u001b[0m\u001b[1;33m(\u001b[0m\u001b[1;34m\"Data must be positive.\"\u001b[0m\u001b[1;33m)\u001b[0m\u001b[1;33m\u001b[0m\u001b[1;33m\u001b[0m\u001b[0m\n\u001b[0m\u001b[0;32m   1044\u001b[0m \u001b[1;33m\u001b[0m\u001b[0m\n\u001b[0;32m   1045\u001b[0m     \u001b[1;32mif\u001b[0m \u001b[0mlmbda\u001b[0m \u001b[1;32mis\u001b[0m \u001b[1;32mnot\u001b[0m \u001b[1;32mNone\u001b[0m\u001b[1;33m:\u001b[0m  \u001b[1;31m# single transformation\u001b[0m\u001b[1;33m\u001b[0m\u001b[1;33m\u001b[0m\u001b[0m\n",
      "\u001b[1;31mValueError\u001b[0m: Data must be positive."
     ]
    }
   ],
   "source": [
    "fare = df_titanic['Fare']\n",
    "fare_transformed = stat.boxcox(fare)\n",
    "plt.figure()\n",
    "plt.hist(fare_transformed[0])\n",
    "plt.show()\n",
    "fare_transformed[1]"
   ]
  },
  {
   "cell_type": "code",
   "execution_count": 54,
   "id": "french-history",
   "metadata": {},
   "outputs": [
    {
     "data": {
      "text/plain": [
       "<AxesSubplot:ylabel='Frequency'>"
      ]
     },
     "execution_count": 54,
     "metadata": {},
     "output_type": "execute_result"
    },
    {
     "data": {
      "image/png": "[encoded data removed]",
      "text/plain": [
       "<Figure size 432x288 with 1 Axes>"
      ]
     },
     "metadata": {
      "needs_background": "light"
     },
     "output_type": "display_data"
    }
   ],
   "source": [
    "age = df_titanic['Age'].dropna()\n",
    "age.plot(kind='hist')"
   ]
  },
  {
   "cell_type": "code",
   "execution_count": 59,
   "id": "strange-pocket",
   "metadata": {},
   "outputs": [
    {
     "data": {
      "image/png": "[encoded data removed]",
      "text/plain": [
       "<Figure size 432x288 with 1 Axes>"
      ]
     },
     "metadata": {
      "needs_background": "light"
     },
     "output_type": "display_data"
    },
    {
     "data": {
      "text/plain": [
       "0.7627890912077443"
      ]
     },
     "execution_count": 59,
     "metadata": {},
     "output_type": "execute_result"
    }
   ],
   "source": [
    "age_transformed = stat.boxcox(age)\n",
    "plt.figure()\n",
    "plt.hist(age_transformed[0])\n",
    "plt.show()\n",
    "age_transformed[1]"
   ]
  },
  {
   "cell_type": "code",
   "execution_count": null,
   "id": "controlled-november",
   "metadata": {},
   "outputs": [],
   "source": []
  }
 ],
 "metadata": {
  "kernelspec": {
   "display_name": "Python 3",
   "language": "python",
   "name": "python3"
  },
  "language_info": {
   "codemirror_mode": {
    "name": "ipython",
    "version": 3
   },
   "file_extension": ".py",
   "mimetype": "text/x-python",
   "name": "python",
   "nbconvert_exporter": "python",
   "pygments_lexer": "ipython3",
   "version": "3.8.8"
  }
 },
 "nbformat": 4,
 "nbformat_minor": 5
}
