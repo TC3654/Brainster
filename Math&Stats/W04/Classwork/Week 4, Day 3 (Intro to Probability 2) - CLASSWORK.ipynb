{
 "cells": [
  {
   "cell_type": "markdown",
   "id": "magnetic-neutral",
   "metadata": {},
   "source": [
    "# Week 4: Intro to Statistics and Probability"
   ]
  },
  {
   "cell_type": "code",
   "execution_count": 1,
   "id": "composed-marks",
   "metadata": {},
   "outputs": [],
   "source": [
    "# Loading the libraries\n",
    "import numpy as np\n",
    "import pandas as pd\n",
    "import matplotlib.pyplot as plt\n",
    "#from matplotlib_venn import venn2, venn3, venn2_circles, venn3_circles\n",
    "#import scipy.stats as stats\n",
    "import random"
   ]
  },
  {
   "cell_type": "markdown",
   "id": "independent-hands",
   "metadata": {},
   "source": [
    "## Day 3: Intro to Probability (2)\n",
    "### Bayes' Theorem\n",
    "* The Bayes' Theorem is a result in probability theory which relates the conditinal probabilities of two events, $A$ and $B$. It is a simple and powerful tool that allows us to *reverse the conditioning* in a conditional probability calculations. In short, it says that the relation between $P(A \\mid B)$ and $P(B \\mid A)$ is given by\n",
    "\\begin{equation} P(A \\mid B) = \\frac{P(B \\mid A) \\cdot P(A)}{P(B)} \\end{equation}\n",
    "This result extends beyond simple probabilities and is heavily exploited in classification methods in machine learning (and not just there)\n",
    "\n",
    "We will demonstrate its application on through examples.\n",
    "\n",
    "### Example 1\n",
    "* It is estimated that 4% of people who spend time in the woods will get Lyme disease. Of people with Lyme disease, the test to determine if you have it is will give a positive reading 97% of the time. Of people who do not have Lyme disease, the same test will give a negative rating 92% of the time. Find the probability that a **person really has Lyme disease, given that they test positive**."
   ]
  },
  {
   "cell_type": "raw",
   "id": "921a10f3-00c3-49b2-8afe-f5f27a9fcfb4",
   "metadata": {},
   "source": [
    "L - the person has Lyme\n",
    "+ - the person tests positive\n",
    "\n",
    "4% = 0.04 = P(L)\n",
    "96% = 0.96 = P(L')\n",
    "\n",
    "97% = 0.97 = P(+ | L)  --> true positive\n",
    "92% = 0.92 = P(- | L') --> true negative\n",
    "\n",
    "3% = 0.03 = P(- | L)  --> false negativce\n",
    "8% = 0.08 = P(+ | L') --> false positive\n",
    "\n",
    "==>> P(L | +)"
   ]
  },
  {
   "cell_type": "code",
   "execution_count": 13,
   "id": "lined-canyon",
   "metadata": {},
   "outputs": [
    {
     "name": "stdout",
     "output_type": "stream",
     "text": [
      "P(+) =  0.1176\n",
      "P(L | +) =  0.33163265306122447\n"
     ]
    },
    {
     "data": {
      "image/png": "[encoded data removed]",
      "text/plain": [
       "<Figure size 1080x360 with 1 Axes>"
      ]
     },
     "metadata": {
      "needs_background": "light"
     },
     "output_type": "display_data"
    }
   ],
   "source": [
    "# We will perform a simulation\n",
    "# Guesses: Paul 12%, Bojan 80%\n",
    "\n",
    "n = 5000 # simulations\n",
    "\n",
    "positive = np.zeros(n) #here we store the positive tests\n",
    "freq = np.zeros(n) #here we store the frequencies\n",
    "has_lyme_and_tests_positive = 0\n",
    "\n",
    "for i in range(n):\n",
    "    has_lyme = np.random.random()\n",
    "    tests_positive = np.random.random()\n",
    "    \n",
    "    #decide if the person has Lyme\n",
    "    if has_lyme <= 0.04:\n",
    "        #this person is sick\n",
    "        #check if the person tests positive\n",
    "        if tests_positive <= 0.97:\n",
    "            positive[i] = 1\n",
    "            has_lyme_and_tests_positive += 1\n",
    "    else:\n",
    "        #this person is not sick\n",
    "        #check if the person tests positive\n",
    "        if tests_positive <= 0.08:\n",
    "            positive[i] = 1\n",
    "    \n",
    "    #update the frequency\n",
    "    freq[i] = np.sum(positive[:(i+1)])/(i+1)\n",
    "    \n",
    "print('P(+) = ', np.sum(positive)/n) # alternatively use freq[-1]\n",
    "print('P(L | +) = ', has_lyme_and_tests_positive/sum(positive))\n",
    "\n",
    "plt.figure(figsize=(15, 5))\n",
    "plt.plot(freq)\n",
    "plt.hlines(0.97*0.04+0.96*0.08, 0, n, colors='r')\n",
    "plt.ylim(0, 1)\n",
    "plt.show()"
   ]
  },
  {
   "cell_type": "code",
   "execution_count": 5,
   "id": "1d901320-e937-4c26-8749-6d649d9019bd",
   "metadata": {},
   "outputs": [
    {
     "name": "stdout",
     "output_type": "stream",
     "text": [
      "P(+) =  0.21\n",
      "P(Covid | +) =  0.9714285714285714\n"
     ]
    }
   ],
   "source": [
    "# We will perform a simulation\n",
    "\n",
    "n = 5000 # simulations\n",
    "\n",
    "positive = np.zeros(n) #here we store the positive tests\n",
    "freq = np.zeros(n) #here we store the frequencies\n",
    "has_lyme_and_tests_positive = 0\n",
    "\n",
    "for i in range(n):\n",
    "    has_lyme = np.random.random()\n",
    "    tests_positive = np.random.random()\n",
    "    \n",
    "    #decide if the person has Lyme\n",
    "    if has_lyme <= 0.2:\n",
    "        #this person is sick\n",
    "        #check if the person tests positive\n",
    "        if tests_positive <= 0.99:\n",
    "            positive[i] = 1\n",
    "            has_lyme_and_tests_positive += 1\n",
    "    else:\n",
    "        #this person is not sick\n",
    "        #check if the person tests positive\n",
    "        if tests_positive <= 0.01:\n",
    "            positive[i] = 1\n",
    "    \n",
    "    #update the frequency\n",
    "    freq = np.sum(positive[:(i+1)])/(i+1)\n",
    "    \n",
    "print('P(+) = ', np.sum(positive)/n) # alternatively use freq[-1]\n",
    "print('P(Covid | +) = ', has_lyme_and_tests_positive/sum(positive))"
   ]
  },
  {
   "cell_type": "code",
   "execution_count": 6,
   "id": "04efda40-2a1b-4ea2-bcbf-dab1d2ed7d05",
   "metadata": {},
   "outputs": [
    {
     "name": "stdout",
     "output_type": "stream",
     "text": [
      "0.1156\n",
      "0.33564013840830453\n"
     ]
    }
   ],
   "source": [
    "pos=0.97*0.04+0.96*0.08\n",
    "print(pos)\n",
    "print(0.97*0.04 /pos)\n"
   ]
  },
  {
   "cell_type": "markdown",
   "id": "likely-timber",
   "metadata": {},
   "source": [
    "### Example 2\n",
    "Tom has three ways of getting to work. 30% of the time he travels by car, 20% of the time he rides his bicycle and 50% of the time he walks.\n",
    "\n",
    "* When travelling by car, Tom is late 5% of the time.\n",
    "* When riding his bicycle he is late 10% of the time.\n",
    "* When walking he is late 25% of the time.\n",
    "\n",
    "Given that he was on time one day, find the probability that he got to work riding his bicycle."
   ]
  },
  {
   "cell_type": "code",
   "execution_count": 15,
   "id": "aerial-action",
   "metadata": {},
   "outputs": [
    {
     "name": "stdout",
     "output_type": "stream",
     "text": [
      "P(on time) =  0.8396594738206324\n",
      "P(rode bike | on time) =  0.21404385448722277\n"
     ]
    },
    {
     "data": {
      "image/png": "[encoded data removed]",
      "text/plain": [
       "<Figure size 1080x360 with 1 Axes>"
      ]
     },
     "metadata": {
      "needs_background": "light"
     },
     "output_type": "display_data"
    }
   ],
   "source": [
    "n = 123456\n",
    "\n",
    "on_time = np.zeros(n)\n",
    "freq = np.zeros(n)\n",
    "rode_bike_and_was_on_time = 0\n",
    "\n",
    "for i in range(n):\n",
    "    transport = np.random.random()\n",
    "    is_on_time = np.random.random()\n",
    "    \n",
    "    #how he travels\n",
    "    if transport <= 0.3: # [0, 0.3]\n",
    "        #travels by car\n",
    "        if is_on_time >= 0.05:\n",
    "            on_time[i] = 1\n",
    "    elif transport <= 0.5: # [0.3, 0.5]\n",
    "        #by bike\n",
    "        if is_on_time >= 0.1:\n",
    "            on_time[i] = 1\n",
    "            rode_bike_and_was_on_time += 1\n",
    "    else: # [0.5, 1.0]\n",
    "        #walking\n",
    "        if is_on_time >= 0.25:\n",
    "            on_time[i] = 1\n",
    "            \n",
    "    freq[i] = np.sum(on_time[:(i+1)])/(i+1)\n",
    "\n",
    "print('P(on time) = ', np.sum(on_time)/n)\n",
    "print('P(rode bike | on time) = ', rode_bike_and_was_on_time/np.sum(on_time))\n",
    "\n",
    "plt.figure(figsize=(15, 5))\n",
    "plt.plot(freq)\n",
    "#plt.hlines(0.97*0.04+0.96*0.08, 0, n, colors='r')\n",
    "plt.ylim(0, 1)\n",
    "plt.show()"
   ]
  }
 ],
 "metadata": {
  "kernelspec": {
   "display_name": "Python 3",
   "language": "python",
   "name": "python3"
  },
  "language_info": {
   "codemirror_mode": {
    "name": "ipython",
    "version": 3
   },
   "file_extension": ".py",
   "mimetype": "text/x-python",
   "name": "python",
   "nbconvert_exporter": "python",
   "pygments_lexer": "ipython3",
   "version": "3.8.8"
  }
 },
 "nbformat": 4,
 "nbformat_minor": 5
}
