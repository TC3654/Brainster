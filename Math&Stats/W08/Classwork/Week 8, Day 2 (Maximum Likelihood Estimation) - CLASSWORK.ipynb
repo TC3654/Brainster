{
 "cells": [
  {
   "cell_type": "markdown",
   "id": "4aca9f1f-ee8d-4ba0-832a-641d3bd25b88",
   "metadata": {},
   "source": [
    "# Week 8: Parameter Estimation"
   ]
  },
  {
   "cell_type": "code",
   "execution_count": 1,
   "id": "053e9094-6029-4d5e-a5bd-f7edbce0896c",
   "metadata": {},
   "outputs": [],
   "source": [
    "# Loading the libraries\n",
    "import numpy as np\n",
    "#import sympy as sp\n",
    "import pandas as pd\n",
    "import matplotlib.pyplot as plt\n",
    "import seaborn as sns\n",
    "\n",
    "import scipy.stats as stats\n",
    "import scipy.optimize as opt\n",
    "#from scipy.integrate import quad"
   ]
  },
  {
   "cell_type": "markdown",
   "id": "e1fa1168-28b0-47bc-8d40-75dcfe436f22",
   "metadata": {},
   "source": [
    "## Day 2: Maximum Likelihood Estimation\n",
    "\n",
    "So far we have been using probability distributions to calculate probabilities.\n",
    "\n",
    "For example, let's say that we toss a fair coin five times. If $H$ is the random variable that counts how many heads we got in the five tosses, then we can calculate the probability of getting four heads. In other words, since $H$ follows a binomial distribution with $n=5$ and $p=0.5$, i.e. $H \\sim \\mathcal{B}(5, 0.5)$, we can calculate that $P(H=4) = 0.15625$. This calculation means: *if you know the distribution and its parameters, then you can easily calculate the probabilities/likelihods for the outcomes*\n",
    "\n",
    "Now, let's turn the tables.\n",
    "\n",
    "Say we know that someone has been doing series of coin tosses, and has been counting the number of heads obtained in each of the series. The number of heads obtained are as such:\n",
    "$$1, 2, 2, 3, 4, 7$$\n",
    "We can immediately conclude, if $X$ is the number of heads in one series of tosses, that:\n",
    "* $X$ follows a binomial distribution (fixed number of independent success/failure trials with equal probability for success in each trial)\n",
    "* $X \\sim \\mathcal{B}(n, p)$, but we do not know $n$ and $p$\n",
    "* We could assume that $n=7$, the maximum number of heads observed in a single series. In other words, we assume this is a series in which all tosses turned up heads\n",
    "* The question next is: how do we figure out the value for $p$? This corresponds to the following quest: *if you know the distribution, and the outcomes, how can you estimate the parameters of the distribution?*\n",
    "\n",
    "The goal is, given some known distribution and some \"experimental\" data, to find the parameters of the distribution that is most likely to have produced the data. For our data this means that the outcomes above could have been produced by *any* binomial distribution $\\mathcal{B}(7, p)$, but we are interested in finding the value of $p$ such that the distribution with that value is most likely to have produced those outcomes.\n",
    "\n",
    "Given the quest, the method we use (today) to find the distribution is called **Maximum Likelihood** method, and the estimate of the parameters it produces are called **Maximum Likelihood Estmates (MLEs)**.\n",
    "\n",
    "\n",
    "### How does it work?\n",
    "Let $X$ be a random variable with some parameter $\\theta$ which we want to estimate, and let $p(X=x \\mid \\theta)$ be the probability density function of $X$. Let's assume that the data/outcomes we obtained are given in the set $D = \\{ x_1, x_2, \\ldots, x_n \\}$. Then the likelihood $\\text{lik}(D \\mid \\theta)$ of us observing that sequence of outcomes, assuming independence, is given as:\n",
    "$$\n",
    "\\begin{aligned}\n",
    "\\text{lik}(D \\mid \\theta) &= p(X=x_1 \\mid \\theta) \\cdot p(X=x_2 \\mid \\theta) \\cdot\\ldots\\cdot p(X=x_n \\mid \\theta) =\\\\\n",
    "&= \\prod_{i=1}^n p(X=x_i \\mid \\theta)\n",
    "\\end{aligned}\n",
    "$$\n",
    "The maximum likelihood estimate of the parameter $\\theta$, denoted as $\\hat{\\theta}$, is given by:\n",
    "$$\n",
    "\\hat{\\theta} = \\max_{\\text{for all } \\theta} \\big\\{ \\text{lik}(D \\mid \\theta) \\big \\}\n",
    "$$\n",
    "From a practical standpoint, it is always better to to maximize the logarithm of the likelihoods via the so called **log-likelihood** function $L(D\\mid\\theta)$ which is given by:\n",
    "$$\n",
    "L(D\\mid\\theta) = \\ln \\big[ \\text{lik}(D \\mid \\theta) \\big]  = \\sum_{i=1}^n \\ln \\big[ p(X=x_i \\mid \\theta) \\big]\n",
    "$$\n",
    "so in that sense:\n",
    "$$\n",
    "\\hat{\\theta} = \\max_{\\text{for all } \\theta} \\big\\{ L(D \\mid \\theta) \\big\\}\n",
    "$$\n",
    "This means that to find the $\\hat\\theta$ we just have to define the likelihood or log-likehoood function and find its maximum using some optimization algorithm.\n",
    "\n",
    "## Example 1\n",
    "Six series of seven tosses of a coin are made. Let $X$ be the random variable that counts how many heads we get in each of the series. Then $X \\sim \\mathcal{B}(7, p)$. The results of the six series of tosses are:\n",
    "$$1, 2, 2, 3, 4, 7$$\n",
    "Estimate the most likely value for the parameter $p$ (in other words: find the maximum likelihood estimator of $p$)."
   ]
  },
  {
   "cell_type": "code",
   "execution_count": 4,
   "id": "5e352db4-ba68-451e-8f1d-9ed2d0faf019",
   "metadata": {},
   "outputs": [
    {
     "data": {
      "text/plain": [
       " final_simplex: (array([[0.45234375],\n",
       "       [0.45244141]]), array([-1.0405456e-06, -1.0405454e-06]))\n",
       "           fun: -1.0405455997695717e-06\n",
       "       message: 'Optimization terminated successfully.'\n",
       "          nfev: 22\n",
       "           nit: 11\n",
       "        status: 0\n",
       "       success: True\n",
       "             x: array([0.45234375])"
      ]
     },
     "execution_count": 4,
     "metadata": {},
     "output_type": "execute_result"
    }
   ],
   "source": [
    "# Get the initial things\n",
    "heads = np.array([1, 2, 2, 3, 4, 7])\n",
    "n = 7\n",
    "p_0 = 0.5\n",
    "\n",
    "# Using lik\n",
    "def lik_bin(theta, data):\n",
    "    return -np.product(stats.binom(n=7, p=theta).pmf(data)) # \"-\" in the begining is for the minimization to work\n",
    "\n",
    "lik_opt = opt.minimize(lik_bin,\n",
    "                       p_0,\n",
    "                       args=(heads),\n",
    "                       method='Nelder-Mead')\n",
    "\n",
    "lik_opt"
   ]
  },
  {
   "cell_type": "code",
   "execution_count": 5,
   "id": "f940a799-001f-4206-af18-33b3bcc8d01b",
   "metadata": {},
   "outputs": [
    {
     "data": {
      "text/plain": [
       " final_simplex: (array([[0.45234375],\n",
       "       [0.45244141]]), array([13.77576537, 13.77576556]))\n",
       "           fun: 13.775765367210369\n",
       "       message: 'Optimization terminated successfully.'\n",
       "          nfev: 22\n",
       "           nit: 11\n",
       "        status: 0\n",
       "       success: True\n",
       "             x: array([0.45234375])"
      ]
     },
     "execution_count": 5,
     "metadata": {},
     "output_type": "execute_result"
    }
   ],
   "source": [
    "# Using L\n",
    "def L(theta, data):\n",
    "    return -np.sum( np.log( stats.binom(n=7, p=theta).pmf(data) ) )\n",
    "\n",
    "L_opt = opt.minimize(L, p_0, args=(heads), method='Nelder-Mead')\n",
    "L_opt"
   ]
  },
  {
   "cell_type": "code",
   "execution_count": 11,
   "id": "a0c30d23-1226-42cc-9be4-a864a16c93f8",
   "metadata": {},
   "outputs": [
    {
     "data": {
      "image/png": "[encoded data removed]",
      "text/plain": [
       "<Figure size 1080x360 with 2 Axes>"
      ]
     },
     "metadata": {
      "needs_background": "light"
     },
     "output_type": "display_data"
    }
   ],
   "source": [
    "# plot the likelihood functions\n",
    "\n",
    "xs = np.linspace(0.01, 0.99, 1000) # all theta (p) values for B(7, p)\n",
    "ys = np.array([ -lik_bin(theta, heads) for theta in xs ]) # the lik_bin values\n",
    "zs = np.array([ -L(theta, heads) for theta in xs ]) # the L values\n",
    "    \n",
    "plt.figure(figsize=(15, 5))\n",
    "plt.subplot(121)\n",
    "plt.plot(xs, ys)\n",
    "plt.scatter(L_opt.x[0], -lik_bin(L_opt.x[0], heads), s=40, c='r')\n",
    "plt.title('Likelihood')\n",
    "\n",
    "plt.subplot(122)\n",
    "plt.plot(xs, zs)\n",
    "plt.scatter(L_opt.x[0], -L(L_opt.x[0], heads), s=40, c='r')\n",
    "plt.title('Log-Likelihood')\n",
    "plt.show()"
   ]
  },
  {
   "cell_type": "markdown",
   "id": "a3a14451-767c-4e46-9370-eabad5ee2e10",
   "metadata": {},
   "source": [
    "## Example 2\n",
    "Tim counts the number of cars running the red light at a traffic light. In seven consecutive observations he counts:\n",
    "$$\n",
    "0, 0, 0, 1, 1, 2, 3\n",
    "$$\n",
    "cars running on a red light. He finds it reasonable to assume that a Poisson distribution $Po(\\lambda)$ is appropriate to model the number of cars running the red light. If $X \\sim Po(\\lambda)$, then the densityfunction of $X$ is given by:\n",
    "$$\n",
    "p(X = k \\mid \\lambda) = \\frac{\\lambda^k}{k!} \\cdot e^{-\\lambda}\n",
    "$$\n",
    "for integer $k=0, 1, \\ldots$ and $\\lambda >0$.\n",
    "\n",
    "Help Tim calculate the maximum likelihood estimate $\\hat\\lambda$ of the mean number of cars running the red light."
   ]
  },
  {
   "cell_type": "code",
   "execution_count": 21,
   "id": "d113593c-1920-4009-badf-7bd54a17bba6",
   "metadata": {},
   "outputs": [
    {
     "data": {
      "text/plain": [
       " final_simplex: (array([[0.99997559],\n",
       "       [1.00004883]]), array([9.48490665, 9.48490666]))\n",
       "           fun: 9.484906651874198\n",
       "       message: 'Optimization terminated successfully.'\n",
       "          nfev: 36\n",
       "           nit: 18\n",
       "        status: 0\n",
       "       success: True\n",
       "             x: array([0.99997559])"
      ]
     },
     "execution_count": 21,
     "metadata": {},
     "output_type": "execute_result"
    }
   ],
   "source": [
    "from math import factorial\n",
    "\n",
    "# Get the basic info\n",
    "cars = np.array([0, 0, 0, 1, 1, 2, 3])\n",
    "lambda_0 = 3.0\n",
    "\n",
    "# define L\n",
    "def L(lmbd, data):\n",
    "    #uising scipy.stats\n",
    "    #return -np.sum( np.log( stats.poisson(lmbd).pmf(data) ) )\n",
    "    #return -np.sum( stats.poisson(lmbd).logpmf(data) )\n",
    "    # write the density from scratch\n",
    "    return -np.sum( np.log( (lmbd**data / factorial(data)) * np.exp(-lmbd) ) ) # not vectorized, does not work!\n",
    "\n",
    "# maximize\n",
    "L_opt = opt.minimize(L, lambda_0, args=(cars), method='Nelder-Mead')\n",
    "L_opt"
   ]
  },
  {
   "cell_type": "code",
   "execution_count": 17,
   "id": "b78ac789-cb6b-4cbc-8a2f-41acc704f2d0",
   "metadata": {},
   "outputs": [
    {
     "data": {
      "text/plain": [
       "-3.2795272788992325"
      ]
     },
     "execution_count": 17,
     "metadata": {},
     "output_type": "execute_result"
    }
   ],
   "source": [
    "np.sum(np.log(stats.poisson(3.0).pmf([4, 3])))"
   ]
  },
  {
   "cell_type": "markdown",
   "id": "30931897-0056-441d-a65d-038019330adc",
   "metadata": {},
   "source": [
    "## Example 3\n",
    "This example is about modeling the accuracy of a certain rifle. Let's assume that the rifle is aimed at the center of a target which coincides with the origin $O$ of a coordinate system. 100 shots are made from a predetermined distance and the coordinates of the hits relative to $O$ are observed. These are given in the file `shooting_accuracy.csv`. All measurements are in decimeters (tens of centimeters).\n",
    "\n",
    "The *distances* between the center of the target and the hits follow a certain pattern. It can be shown that the distribution which describes this pattern is a **Rayleigh distribution**. This distribution has only one parameter, $\\sigma$, and a density function given by:\n",
    "$$\n",
    "p(x \\mid \\sigma) = \\frac{x}{\\sigma^2} \\cdot e^{-x^2 /(2\\sigma^2)}\n",
    "$$\n",
    "Based on the given data, find the maximum likelihood estimate of the parameter $\\sigma$ of the distribution that describes the distances between the center of the target and the hits for the rifle which is being tested."
   ]
  },
  {
   "cell_type": "code",
   "execution_count": 61,
   "id": "ed541387-dde9-43f1-b7a1-cacb68f63a7e",
   "metadata": {},
   "outputs": [
    {
     "data": {
      "text/html": [
       "<div>\n",
       "<style scoped>\n",
       "    .dataframe tbody tr th:only-of-type {\n",
       "        vertical-align: middle;\n",
       "    }\n",
       "\n",
       "    .dataframe tbody tr th {\n",
       "        vertical-align: top;\n",
       "    }\n",
       "\n",
       "    .dataframe thead th {\n",
       "        text-align: right;\n",
       "    }\n",
       "</style>\n",
       "<table border=\"1\" class=\"dataframe\">\n",
       "  <thead>\n",
       "    <tr style=\"text-align: right;\">\n",
       "      <th></th>\n",
       "      <th>x</th>\n",
       "      <th>y</th>\n",
       "    </tr>\n",
       "  </thead>\n",
       "  <tbody>\n",
       "    <tr>\n",
       "      <th>0</th>\n",
       "      <td>-1.90</td>\n",
       "      <td>-1.51</td>\n",
       "    </tr>\n",
       "    <tr>\n",
       "      <th>1</th>\n",
       "      <td>1.78</td>\n",
       "      <td>0.48</td>\n",
       "    </tr>\n",
       "    <tr>\n",
       "      <th>2</th>\n",
       "      <td>0.53</td>\n",
       "      <td>1.10</td>\n",
       "    </tr>\n",
       "    <tr>\n",
       "      <th>3</th>\n",
       "      <td>-0.45</td>\n",
       "      <td>0.57</td>\n",
       "    </tr>\n",
       "    <tr>\n",
       "      <th>4</th>\n",
       "      <td>-0.80</td>\n",
       "      <td>1.45</td>\n",
       "    </tr>\n",
       "  </tbody>\n",
       "</table>\n",
       "</div>"
      ],
      "text/plain": [
       "      x     y\n",
       "0 -1.90 -1.51\n",
       "1  1.78  0.48\n",
       "2  0.53  1.10\n",
       "3 -0.45  0.57\n",
       "4 -0.80  1.45"
      ]
     },
     "execution_count": 61,
     "metadata": {},
     "output_type": "execute_result"
    }
   ],
   "source": [
    "# Loading the data\n",
    "df = pd.read_csv('shooting_accuracy.csv')\n",
    "df.head()"
   ]
  },
  {
   "cell_type": "code",
   "execution_count": 62,
   "id": "7311ff1b-bfee-4cd1-8f6d-d5af1c32df96",
   "metadata": {},
   "outputs": [
    {
     "data": {
      "image/png": "[encoded data removed]",
      "text/plain": [
       "<Figure size 432x288 with 1 Axes>"
      ]
     },
     "metadata": {
      "needs_background": "light"
     },
     "output_type": "display_data"
    }
   ],
   "source": [
    "# Get the coordinates arrays\n",
    "x = df['x'].to_numpy()\n",
    "y = df['y'].to_numpy()\n",
    "\n",
    "# Calculate the distances\n",
    "d = np.sqrt(x**2 + y**2)\n",
    "\n",
    "# Plot the distances on a DENSITY histogram\n",
    "plt.figure()\n",
    "plt.hist(d, edgecolor='k', density=True)\n",
    "plt.show()"
   ]
  },
  {
   "cell_type": "code",
   "execution_count": 63,
   "id": "ba3d4666-68eb-45f7-8303-6085bc46bbc7",
   "metadata": {},
   "outputs": [],
   "source": [
    "# Define the density function\n",
    "def rayleigh_pdf(x, sigma):\n",
    "    s2 = sigma**2\n",
    "    return (x / s2) * np.exp( -x**2 / (2*s2) )\n",
    "    #return x * np.exp(-0.5 * x**2 / s2) / s2\n",
    "    \n",
    "# Define the log-likehood function\n",
    "def L(sigma, data):\n",
    "    return -np.sum( np.log( rayleigh_pdf(data, sigma) ) )\n"
   ]
  },
  {
   "cell_type": "code",
   "execution_count": 64,
   "id": "db076870-bd59-44ac-99de-67202b362401",
   "metadata": {},
   "outputs": [
    {
     "data": {
      "text/plain": [
       " final_simplex: (array([[1.29931641],\n",
       "       [1.29921875]]), array([120.55662442, 120.55662548]))\n",
       "           fun: 120.55662442182009\n",
       "       message: 'Optimization terminated successfully.'\n",
       "          nfev: 28\n",
       "           nit: 14\n",
       "        status: 0\n",
       "       success: True\n",
       "             x: array([1.29931641])"
      ]
     },
     "execution_count": 64,
     "metadata": {},
     "output_type": "execute_result"
    }
   ],
   "source": [
    "# Estimate the max of the log-likelihood\n",
    "sigma_0 = 1.0\n",
    "\n",
    "L_opt = opt.minimize(L, sigma_0, args=(d), method='Nelder-Mead')\n",
    "\n",
    "sigma_opt = L_opt.x[0]\n",
    "\n",
    "L_opt"
   ]
  },
  {
   "cell_type": "code",
   "execution_count": 65,
   "id": "ba6d4690-7d72-4809-bcb3-f61035aed318",
   "metadata": {},
   "outputs": [
    {
     "data": {
      "image/png": "[encoded data removed]",
      "text/plain": [
       "<Figure size 432x288 with 1 Axes>"
      ]
     },
     "metadata": {
      "needs_background": "light"
     },
     "output_type": "display_data"
    }
   ],
   "source": [
    "# Visualize the results\n",
    "# (the likelihood and the density fit over the data)\n",
    "xs = np.linspace(0, 5, 1000)\n",
    "ys = np.array([ rayleigh_pdf(x, sigma_opt) for x in xs ])\n",
    "\n",
    "\n",
    "plt.figure()\n",
    "plt.hist(d, edgecolor='k', density=True, label='the data')\n",
    "plt.plot(xs, ys, c='r', label='optimal density')\n",
    "plt.legend()\n",
    "plt.show()"
   ]
  },
  {
   "cell_type": "markdown",
   "id": "d955ec1f-33ac-49bd-93f5-d3cefead546c",
   "metadata": {},
   "source": [
    "## Example 4 (practice)\n",
    "The data in the data given below contains the time intervals (in minutes) between successive arrivals of customers at a checkout counter in a supermarket. In such cases experience has shown that an appropriate distribution to use for modeling is the **exponential distribution**. It has one parameter $\\theta >0$ and a density function:\n",
    "$$\n",
    "p(t \\mid \\theta) = \\tfrac{1}{\\theta} \\cdot e^{-t/\\theta}\n",
    "$$\n",
    "for $t \\geqslant 0$. Find the maximum likelihood estimate $\\hat\\theta$ of the parameter $\\theta$ for the exponential distribution that models the time intervals between arrivals."
   ]
  },
  {
   "cell_type": "code",
   "execution_count": null,
   "id": "c43e6473-4eba-4855-9ccf-715f30fe2445",
   "metadata": {},
   "outputs": [],
   "source": [
    "# times between arrivals\n",
    "times = np.array([1, 2, 3, 7, 11, 4, 13,\n",
    "                  12, 7, 3, 2, 11, 7, 2])\n",
    "\n",
    "# Build the model\n"
   ]
  },
  {
   "cell_type": "code",
   "execution_count": null,
   "id": "ed8f4230-a4a4-4a70-9e34-8eeb2ff16f8b",
   "metadata": {},
   "outputs": [],
   "source": [
    "# Visualize\n"
   ]
  },
  {
   "cell_type": "markdown",
   "id": "1925cc70-3770-41df-b36e-eee480fa0f89",
   "metadata": {},
   "source": [
    "## Example 5\n",
    "Men in the Dinaric Alps region of the Balkan Peninsula are, on average, among the tallest men on the Earth. The file `dinaric_alps.csv` conains data about the heights of some men who were born and live in the region.\n",
    "\n",
    "Given the data, and assuming that heights follow a normal distribution in the population of men, use maximum likelihood estimation to estimate the mean $\\mu$ and the standard deviation $\\sigma$ of the heights in the population of men in the Dinaric Alps region.\n",
    "\n",
    "**Note:** the actual values are: `mu = 185.6` and `sigma = 7.42`"
   ]
  },
  {
   "cell_type": "code",
   "execution_count": 55,
   "id": "07979a96-2a46-476c-b94a-a15c82136af4",
   "metadata": {},
   "outputs": [
    {
     "data": {
      "text/html": [
       "<div>\n",
       "<style scoped>\n",
       "    .dataframe tbody tr th:only-of-type {\n",
       "        vertical-align: middle;\n",
       "    }\n",
       "\n",
       "    .dataframe tbody tr th {\n",
       "        vertical-align: top;\n",
       "    }\n",
       "\n",
       "    .dataframe thead th {\n",
       "        text-align: right;\n",
       "    }\n",
       "</style>\n",
       "<table border=\"1\" class=\"dataframe\">\n",
       "  <thead>\n",
       "    <tr style=\"text-align: right;\">\n",
       "      <th></th>\n",
       "      <th>heights</th>\n",
       "    </tr>\n",
       "  </thead>\n",
       "  <tbody>\n",
       "    <tr>\n",
       "      <th>0</th>\n",
       "      <td>197.7</td>\n",
       "    </tr>\n",
       "    <tr>\n",
       "      <th>1</th>\n",
       "      <td>181.1</td>\n",
       "    </tr>\n",
       "    <tr>\n",
       "      <th>2</th>\n",
       "      <td>181.7</td>\n",
       "    </tr>\n",
       "    <tr>\n",
       "      <th>3</th>\n",
       "      <td>177.6</td>\n",
       "    </tr>\n",
       "    <tr>\n",
       "      <th>4</th>\n",
       "      <td>192.0</td>\n",
       "    </tr>\n",
       "  </tbody>\n",
       "</table>\n",
       "</div>"
      ],
      "text/plain": [
       "   heights\n",
       "0    197.7\n",
       "1    181.1\n",
       "2    181.7\n",
       "3    177.6\n",
       "4    192.0"
      ]
     },
     "metadata": {},
     "output_type": "display_data"
    },
    {
     "data": {
      "image/png": "[encoded data removed]",
      "text/plain": [
       "<Figure size 432x288 with 1 Axes>"
      ]
     },
     "metadata": {
      "needs_background": "light"
     },
     "output_type": "display_data"
    }
   ],
   "source": [
    "df = pd.read_csv('dinaric_alps.csv')\n",
    "display(df.head())\n",
    "\n",
    "#sns.histplot(data=df)\n",
    "\n",
    "plt.figure()\n",
    "plt.hist(df['heights'], edgecolor='k', bins=6)\n",
    "plt.xlabel('heights')\n",
    "plt.ylabel('counts')\n",
    "plt.show()"
   ]
  },
  {
   "cell_type": "code",
   "execution_count": 58,
   "id": "a2b42fe1-25b5-4495-aef7-e137b493efa5",
   "metadata": {},
   "outputs": [
    {
     "data": {
      "text/plain": [
       " final_simplex: (array([[185.03914394,   8.15121079],\n",
       "       [185.03908761,   8.15119879],\n",
       "       [185.03907536,   8.15123236]]), array([80.8934403, 80.8934403, 80.8934403]))\n",
       "           fun: 80.8934403022327\n",
       "       message: 'Optimization terminated successfully.'\n",
       "          nfev: 113\n",
       "           nit: 59\n",
       "        status: 0\n",
       "       success: True\n",
       "             x: array([185.03914394,   8.15121079])"
      ]
     },
     "execution_count": 58,
     "metadata": {},
     "output_type": "execute_result"
    }
   ],
   "source": [
    "# Build the model and find the MLEs\n",
    "heights = df['heights'].to_numpy()\n",
    "par_0 = np.array([175.0, 5.0])\n",
    "\n",
    "# define L\n",
    "def L(par, data):\n",
    "    return -np.sum( stats.norm(par[0], par[1]).logpdf(data) )\n",
    "\n",
    "L_opt = opt.minimize(L, par_0, args=(heights), method='Nelder-Mead')\n",
    "L_opt"
   ]
  },
  {
   "cell_type": "code",
   "execution_count": 60,
   "id": "3dcf1bb6-7eb4-4818-bb99-8a79798162cb",
   "metadata": {},
   "outputs": [
    {
     "data": {
      "image/png": "[encoded data removed]",
      "text/plain": [
       "<Figure size 432x288 with 1 Axes>"
      ]
     },
     "metadata": {
      "needs_background": "light"
     },
     "output_type": "display_data"
    }
   ],
   "source": [
    "# Visualize the fit\n",
    "xs = np.linspace(170, 200, 1000)\n",
    "ys = np.array([ stats.norm(L_opt.x[0], L_opt.x[1]).pdf(x) for x in xs ])\n",
    "\n",
    "\n",
    "plt.figure()\n",
    "plt.hist(df['heights'], edgecolor='k', bins=6, density=True)\n",
    "plt.plot(xs, ys)\n",
    "plt.xlabel('heights')\n",
    "plt.ylabel('density')\n",
    "plt.show()"
   ]
  },
  {
   "cell_type": "code",
   "execution_count": null,
   "id": "8f271907-0071-4a21-9503-cb0fde5c1372",
   "metadata": {},
   "outputs": [],
   "source": []
  }
 ],
 "metadata": {
  "kernelspec": {
   "display_name": "Python 3",
   "language": "python",
   "name": "python3"
  },
  "language_info": {
   "codemirror_mode": {
    "name": "ipython",
    "version": 3
   },
   "file_extension": ".py",
   "mimetype": "text/x-python",
   "name": "python",
   "nbconvert_exporter": "python",
   "pygments_lexer": "ipython3",
   "version": "3.8.8"
  }
 },
 "nbformat": 4,
 "nbformat_minor": 5
}
