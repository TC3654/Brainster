{
 "cells": [
  {
   "cell_type": "markdown",
   "id": "eb8fc7f0-1dc6-43bd-bb4a-728ae7b797ff",
   "metadata": {},
   "source": [
    "# Week 8: Parameter Estimation"
   ]
  },
  {
   "cell_type": "code",
   "execution_count": 1,
   "id": "d7222966-886f-433d-a6f2-202c27869b82",
   "metadata": {},
   "outputs": [],
   "source": [
    "# Loading the libraries\n",
    "import numpy as np\n",
    "import sympy as sp\n",
    "import pandas as pd\n",
    "import matplotlib.pyplot as plt\n",
    "import seaborn as sns\n",
    "\n",
    "import scipy.stats as stats\n",
    "import scipy.optimize as opt\n",
    "#from scipy.integrate import quad"
   ]
  },
  {
   "cell_type": "markdown",
   "id": "edf40df9-2557-4d22-9a2e-e813d28f06cf",
   "metadata": {},
   "source": [
    "## Day 1: Bootstrap Method\n",
    "\n",
    "* The **bootstrap** methods are a class of techniques that can be used to construct an interval estimate of a parameter.\n",
    "* Bootstrap methods are **general** in a sense that they can be applied to *any* parameter\n",
    "* These methods are \"empirical\" and do not require knowledge of the sampling distribution of the statistic that corresponds to the parameter of interest. Instead, they rely on resampling and simulation\n",
    "\n",
    "\n",
    "## How does it work?\n",
    "The situation is as follows:\n",
    "* We have a sample of data of size `n`\n",
    "* The sample comes from a population which follows some distribution (which we do not know)\n",
    "* We wish to estimate some parameter of the population distribution by constructing an interval estimate for it\n",
    "\n",
    "To simplify things, we will talk about the population mean $\\mu$, but the same approach applies to any other parameter (e.g. median, standard devaition etc).\n",
    "To get what we need we do the following:\n",
    "* Calculate the mean of the original sample $\\bar{x}$\n",
    "* Generate many **bootstrapped samples** from the original sample, allowing for sampling **with replacement**. If you generate `m` bootstrapped samples (thousands), then for each of these calculate the mean. This will give you a sequence\n",
    "$$\\bar{x}_1^*, \\bar{x}_2^*, \\ldots, \\bar{x}_{m}^*$$\n",
    "of means of the bootstrapped samples.\n",
    "* Calculate a sequence of differences $\\delta_1^*, \\delta_2^*, \\ldots, \\delta_m^*$ where:\n",
    "$$\\delta_i^* = \\bar{x}_i^* - \\bar{x}$$\n",
    "for each $i = 1, 2, \\ldots, m$. This sequence captures the variability of the original distribution, so it is crucial to the process\n",
    "* Say we want a `90%` \"confidence\" interval. We calculate $\\overline{\\delta}$, and $\\underline{\\delta}$, the 5-th and 95-th percentile respectively\n",
    "* Finally, the interval estimate for the population mean $\\mu$ is given as:\n",
    "$$ \\left( \\bar{x} - \\underline{\\delta},\\, \\bar{x} - \\overline{\\delta} \\right) $$\n",
    "Note that this interval is **NOT** the same as the actual confidence interval for the population parameter!\n",
    "\n",
    "## Example 1\n",
    "Test the efficiency of the bootstrap method by using it to construct a 90% \"confidence\" interval for the mean of a normal distribution.\n",
    "* Use normal distribution $\\mathcal{N}(\\mu=10, \\sigma=2)$\n",
    "* Draw a random sample of size `n=20` from this distribution\n",
    "* Estimate $\\mu$ with an interval using bootstrapping"
   ]
  },
  {
   "cell_type": "code",
   "execution_count": 24,
   "id": "6afbfc1a-ec69-41a1-8519-f470580ce790",
   "metadata": {},
   "outputs": [
    {
     "data": {
      "image/png": "[encoded data removed]",
      "text/plain": [
       "<Figure size 432x288 with 1 Axes>"
      ]
     },
     "metadata": {
      "needs_background": "light"
     },
     "output_type": "display_data"
    },
    {
     "data": {
      "text/plain": [
       "array([ 7.82873879, 11.99469089, 10.565957  ,  6.98741057,  8.8427995 ,\n",
       "       13.30287307,  5.14664151,  9.14217474, 12.53187252,  8.2665192 ,\n",
       "        8.6422277 ,  9.81058206, 12.98277925,  8.72219601,  9.11203608,\n",
       "        9.13129745, 14.41186017, 14.37357218, 12.0081078 , 10.7723728 ])"
      ]
     },
     "execution_count": 24,
     "metadata": {},
     "output_type": "execute_result"
    }
   ],
   "source": [
    "# setting the random seed\n",
    "np.random.seed(123)\n",
    "n = 20\n",
    "\n",
    "# getting the original sample\n",
    "sample = stats.norm(10, 2).rvs(size=n)\n",
    "\n",
    "# plot the sample\n",
    "plt.figure()\n",
    "plt.hist(sample)\n",
    "plt.show()"
   ]
  },
  {
   "cell_type": "code",
   "execution_count": 3,
   "id": "1813149e-c7dd-4c3b-bb96-2579f2af8347",
   "metadata": {},
   "outputs": [
    {
     "data": {
      "text/plain": [
       "<AxesSubplot:ylabel='Count'>"
      ]
     },
     "execution_count": 3,
     "metadata": {},
     "output_type": "execute_result"
    },
    {
     "data": {
      "image/png": "[encoded data removed]",
      "text/plain": [
       "<Figure size 432x288 with 1 Axes>"
      ]
     },
     "metadata": {
      "needs_background": "light"
     },
     "output_type": "display_data"
    }
   ],
   "source": [
    "# start with the bootstrapping\n",
    "m = 1000 # number of bootstrap samples\n",
    "deltas = np.zeros(m) # the differences\n",
    "sample_mean = np.mean(sample)\n",
    "\n",
    "for i in range(m):\n",
    "    \n",
    "    # choose a random sample\n",
    "    boot_sample = np.random.choice(sample, n)\n",
    "    \n",
    "    # calculate the difference\n",
    "    deltas[i] = np.mean(boot_sample) - sample_mean\n",
    "    \n",
    "# plot the deltas, for fun\n",
    "sns.histplot(deltas)"
   ]
  },
  {
   "cell_type": "code",
   "execution_count": 4,
   "id": "9f75ff80-0de0-40b1-9496-15fb15e743d0",
   "metadata": {},
   "outputs": [
    {
     "name": "stdout",
     "output_type": "stream",
     "text": [
      "The 90% \"confidence\" interval is (9.322918607854852, 11.144484060978959)\n"
     ]
    }
   ],
   "source": [
    "# constructing the interval\n",
    "\n",
    "delta_bar = np.percentile(deltas, [5, 95])\n",
    "\n",
    "l = sample_mean - delta_bar[1]\n",
    "u = sample_mean - delta_bar[0]\n",
    "\n",
    "print(f'The 90% \"confidence\" interval is ({l}, {u})')"
   ]
  },
  {
   "cell_type": "code",
   "execution_count": 5,
   "id": "796d9947-eab6-4ff0-87cb-0cced7b2450b",
   "metadata": {},
   "outputs": [
    {
     "name": "stdout",
     "output_type": "stream",
     "text": [
      "1.20.1\n"
     ]
    }
   ],
   "source": [
    "print(np.__version__)"
   ]
  },
  {
   "cell_type": "markdown",
   "id": "511714bc-0d43-426b-a2fc-ac3f35e736e5",
   "metadata": {},
   "source": [
    "## Example 2\n",
    "For the same distribution given in **Example 1**, using the same sample, estimate the standard deviation of the population."
   ]
  },
  {
   "cell_type": "code",
   "execution_count": 6,
   "id": "690717aa-0962-482b-a815-e8bf7de4c2a2",
   "metadata": {},
   "outputs": [
    {
     "name": "stdout",
     "output_type": "stream",
     "text": [
      "[-0.52154425  0.4316867 ]\n",
      "The 90% \"confidence interval is (2.0195398364603148, 2.9727707829849264)\"\n"
     ]
    },
    {
     "data": {
      "image/png": "[encoded data removed]",
      "text/plain": [
       "<Figure size 432x288 with 1 Axes>"
      ]
     },
     "metadata": {
      "needs_background": "light"
     },
     "output_type": "display_data"
    }
   ],
   "source": [
    "# start with the bootstrapping\n",
    "m = 1000 # number of bootstrap samples\n",
    "deltas = np.zeros(m) # the differences\n",
    "sample_std = np.std(sample)\n",
    "\n",
    "for i in range(m):\n",
    "    \n",
    "    # choose a random sample\n",
    "    boot_sample = np.random.choice(sample, n)\n",
    "    \n",
    "    # calculate the difference\n",
    "    deltas[i] = np.std(boot_sample) - sample_std\n",
    "\n",
    "# plot the deltas, for fun\n",
    "sns.histplot(deltas)\n",
    "\n",
    "# constructing the interval\n",
    "delta_bar = np.percentile(deltas, [5, 95])\n",
    "print(delta_bar)\n",
    "l = sample_std - delta_bar[1]\n",
    "u = sample_std - delta_bar[0]\n",
    "print(f'The 90% \"confidence interval is ({l}, {u})\"')"
   ]
  },
  {
   "cell_type": "code",
   "execution_count": 23,
   "id": "34c2b85e-931d-4145-b4a8-022939e2f1d0",
   "metadata": {},
   "outputs": [
    {
     "data": {
      "text/plain": [
       "<AxesSubplot:ylabel='Count'>"
      ]
     },
     "execution_count": 23,
     "metadata": {},
     "output_type": "execute_result"
    },
    {
     "data": {
      "image/png": "[encoded data removed]",
      "text/plain": [
       "<Figure size 432x288 with 1 Axes>"
      ]
     },
     "metadata": {
      "needs_background": "light"
     },
     "output_type": "display_data"
    }
   ],
   "source": [
    "# try again with a larger sample\n",
    "np.random.seed(112)\n",
    "sample = stats.norm(10, 2).rvs(100)\n",
    "\n",
    "# plot the new sample\n",
    "sns.histplot(sample)"
   ]
  },
  {
   "cell_type": "code",
   "execution_count": 8,
   "id": "92619a05-1737-4337-a2a0-63a30c81d20c",
   "metadata": {},
   "outputs": [
    {
     "name": "stdout",
     "output_type": "stream",
     "text": [
      "[-0.47916538  0.35773772]\n",
      "The 90% \"confidence interval is (1.278022919483239, 2.114926021664368)\"\n"
     ]
    },
    {
     "data": {
      "image/png": "[encoded data removed]",
      "text/plain": [
       "<Figure size 432x288 with 1 Axes>"
      ]
     },
     "metadata": {
      "needs_background": "light"
     },
     "output_type": "display_data"
    }
   ],
   "source": [
    "# re-run the bootstrap\n",
    "# start with the bootstrapping\n",
    "m = 10000 # number of bootstrap samples\n",
    "deltas = np.zeros(m) # the differences\n",
    "sample_std = np.std(sample)\n",
    "\n",
    "for i in range(m):\n",
    "    \n",
    "    # choose a random sample\n",
    "    boot_sample = np.random.choice(sample, n)\n",
    "    \n",
    "    # calculate the difference\n",
    "    deltas[i] = np.std(boot_sample) - sample_std\n",
    "\n",
    "# plot the deltas, for fun\n",
    "sns.histplot(deltas)\n",
    "\n",
    "# constructing the interval\n",
    "delta_bar = np.percentile(deltas, [5, 95])\n",
    "print(delta_bar)\n",
    "l = sample_std - delta_bar[1]\n",
    "u = sample_std - delta_bar[0]\n",
    "print(f'The 90% \"confidence interval is ({l}, {u})\"')"
   ]
  },
  {
   "cell_type": "markdown",
   "id": "1f9ce02d-6e31-4cfc-899c-96f96f5101ce",
   "metadata": {},
   "source": [
    "## Example 3: Old Faithful and estimating the median\n",
    "Old Faithful is a geyser in Yellowstone National Park in Wyoming. Data given in `faithful.csv` contains information about a sample of consecutive eruptions of the geyser.\n",
    "\n",
    "Cosntruct a 95% bootstrap confidence interval for the median length of the eruptions."
   ]
  },
  {
   "cell_type": "code",
   "execution_count": 9,
   "id": "e74ff7a8-f097-421c-b1aa-3739ed3ffd4f",
   "metadata": {},
   "outputs": [
    {
     "data": {
      "text/html": [
       "<div>\n",
       "<style scoped>\n",
       "    .dataframe tbody tr th:only-of-type {\n",
       "        vertical-align: middle;\n",
       "    }\n",
       "\n",
       "    .dataframe tbody tr th {\n",
       "        vertical-align: top;\n",
       "    }\n",
       "\n",
       "    .dataframe thead th {\n",
       "        text-align: right;\n",
       "    }\n",
       "</style>\n",
       "<table border=\"1\" class=\"dataframe\">\n",
       "  <thead>\n",
       "    <tr style=\"text-align: right;\">\n",
       "      <th></th>\n",
       "      <th>eruptions</th>\n",
       "      <th>waiting</th>\n",
       "    </tr>\n",
       "  </thead>\n",
       "  <tbody>\n",
       "    <tr>\n",
       "      <th>0</th>\n",
       "      <td>216</td>\n",
       "      <td>79</td>\n",
       "    </tr>\n",
       "    <tr>\n",
       "      <th>1</th>\n",
       "      <td>108</td>\n",
       "      <td>54</td>\n",
       "    </tr>\n",
       "    <tr>\n",
       "      <th>2</th>\n",
       "      <td>200</td>\n",
       "      <td>74</td>\n",
       "    </tr>\n",
       "    <tr>\n",
       "      <th>3</th>\n",
       "      <td>137</td>\n",
       "      <td>62</td>\n",
       "    </tr>\n",
       "    <tr>\n",
       "      <th>4</th>\n",
       "      <td>272</td>\n",
       "      <td>85</td>\n",
       "    </tr>\n",
       "  </tbody>\n",
       "</table>\n",
       "</div>"
      ],
      "text/plain": [
       "   eruptions  waiting\n",
       "0        216       79\n",
       "1        108       54\n",
       "2        200       74\n",
       "3        137       62\n",
       "4        272       85"
      ]
     },
     "metadata": {},
     "output_type": "display_data"
    },
    {
     "data": {
      "text/plain": [
       "<AxesSubplot:ylabel='Count'>"
      ]
     },
     "execution_count": 9,
     "metadata": {},
     "output_type": "execute_result"
    },
    {
     "data": {
      "image/png": "[encoded data removed]",
      "text/plain": [
       "<Figure size 432x288 with 1 Axes>"
      ]
     },
     "metadata": {
      "needs_background": "light"
     },
     "output_type": "display_data"
    }
   ],
   "source": [
    "# reading the file\n",
    "df = pd.read_csv('faithful.csv')\n",
    "display(df.head())\n",
    "\n",
    "# get the sample\n",
    "sample = df['eruptions'].to_numpy()\n",
    "\n",
    "# plot the sample\n",
    "sns.histplot(sample)"
   ]
  },
  {
   "cell_type": "code",
   "execution_count": 10,
   "id": "2c3d0fa3-2e66-4d17-acd6-6176b0fc9ed5",
   "metadata": {},
   "outputs": [
    {
     "name": "stdout",
     "output_type": "stream",
     "text": [
      "[-10.       6.5125]\n",
      "The 90% \"confidence interval is (233.4875, 250.0)\"\n"
     ]
    },
    {
     "data": {
      "image/png": "[encoded data removed]",
      "text/plain": [
       "<Figure size 432x288 with 1 Axes>"
      ]
     },
     "metadata": {
      "needs_background": "light"
     },
     "output_type": "display_data"
    }
   ],
   "source": [
    "# bootstrap\n",
    "# start with the bootstrapping\n",
    "m = 1000 # number of bootstrap samples\n",
    "deltas = np.zeros(m) # the differences\n",
    "sample_median = np.median(sample)\n",
    "for i in range(m):\n",
    "    # choose a random sample\n",
    "    boot_sample = np.random.choice(sample, df['eruptions'].count())\n",
    "    # calculate the difference\n",
    "    deltas[i] = np.median(boot_sample) - sample_median\n",
    "# plot the deltas, for fun\n",
    "sns.histplot(deltas)\n",
    "# constructing the interval\n",
    "delta_bar = np.percentile(deltas, [2.5, 97.5])\n",
    "print(delta_bar)\n",
    "l = sample_median - delta_bar[1]\n",
    "u = sample_median - delta_bar[0]\n",
    "print(f'The 90% \"confidence interval is ({l}, {u})\"')"
   ]
  },
  {
   "cell_type": "markdown",
   "id": "ed6498e0-d8e8-461c-a2f7-f992ad39fef0",
   "metadata": {},
   "source": [
    "## Hypothesis testing with bootstrapping\n",
    "It is possible to use the bootstrap method to test hypotheses. The approach is pretty much the same as with generating bootstrap \"confidence\" intervals, except that in this scenario we calculate a p-value for the test.\n",
    "\n",
    "We will illustrate the application of this approach in a case when we test about the population mean, but as before -- it can be set up to test hypotheses about any parameter.\n",
    "\n",
    "### Inference for the population mean\n",
    "Given a sample of size $n$, we wish to test the following hypotheses about the population mean $\\mu$:\n",
    "$$\n",
    "\\begin{align}\n",
    "H_0: \\mu &= \\mu_0\\\\\n",
    "H_a: \\mu &\\neq \\mu_0\n",
    "\\end{align}\n",
    "$$\n",
    "\n",
    "The process is identical up to the point when we calculate the sequence of differences $(\\delta_i^*)$ for $i=1, \\ldots, n$. In the last step, we just calculate the p-value as the probability:\n",
    "$$\n",
    "p = P\\left( |\\delta^*| >  \\left| \\bar{x}-\\mu_0 \\right| \\right)\n",
    "$$\n",
    "\n",
    "If we work with one-sided alternative, then:\n",
    "* If $H_a : \\mu < \\mu_0$, then the p-value is $p = P\\left( \\delta^* <  \\bar{x}-\\mu_0 \\right)$, and\n",
    "* If $H_a : \\mu > \\mu_0$, then the p-value is $p = P\\left( \\delta^* >  \\bar{x}-\\mu_0 \\right)$\n",
    "\n",
    "Similar rules would apply for other parameters\n",
    "\n",
    "### Example 4\n",
    "Verify the bootstrap method for hypothesis testing on the following *controled* case. Choose a random sample of size $n=20$ from a normal distribution $\\mathcal{N}(10, 2)$ and then test the hypotheses:\n",
    "$$\n",
    "\\begin{align}\n",
    "H_0: \\mu &= 11\\\\\n",
    "H_a: \\mu &\\neq 11\n",
    "\\end{align}\n",
    "$$"
   ]
  },
  {
   "cell_type": "code",
   "execution_count": 11,
   "id": "2f7bf085-de13-4104-86a1-d2f4755f0293",
   "metadata": {},
   "outputs": [
    {
     "data": {
      "text/plain": [
       "<AxesSubplot:ylabel='Count'>"
      ]
     },
     "execution_count": 11,
     "metadata": {},
     "output_type": "execute_result"
    },
    {
     "data": {
      "image/png": "[encoded data removed]",
      "text/plain": [
       "<Figure size 432x288 with 1 Axes>"
      ]
     },
     "metadata": {
      "needs_background": "light"
     },
     "output_type": "display_data"
    }
   ],
   "source": [
    "#set up, generate, and plot the sample\n",
    "np.random.seed(123)\n",
    "mu_0 = 11\n",
    "n = 20\n",
    "\n",
    "sample = stats.norm(10, 2).rvs(n)\n",
    "sns.histplot(sample)"
   ]
  },
  {
   "cell_type": "code",
   "execution_count": 12,
   "id": "b8eef571-b4c8-45d6-b1b5-aeca0444376e",
   "metadata": {},
   "outputs": [
    {
     "data": {
      "text/plain": [
       "<AxesSubplot:ylabel='Count'>"
      ]
     },
     "execution_count": 12,
     "metadata": {},
     "output_type": "execute_result"
    },
    {
     "data": {
      "image/png": "[encoded data removed]",
      "text/plain": [
       "<Figure size 432x288 with 1 Axes>"
      ]
     },
     "metadata": {
      "needs_background": "light"
     },
     "output_type": "display_data"
    }
   ],
   "source": [
    "# start with the bootstrapping\n",
    "m = 1000\n",
    "deltas = np.zeros(m)\n",
    "sample_mean = np.mean(sample)\n",
    "\n",
    "np.random.seed(32123)\n",
    "for i in range(m):\n",
    "    boot_sample = np.random.choice(sample, n)\n",
    "    deltas[i] = np.mean(boot_sample) - sample_mean\n",
    "    \n",
    "# plot the deltas, for fun\n",
    "sns.histplot(deltas)"
   ]
  },
  {
   "cell_type": "code",
   "execution_count": 13,
   "id": "205e69bd-3dfe-4354-acd7-ffbe12f76cf9",
   "metadata": {},
   "outputs": [
    {
     "name": "stdout",
     "output_type": "stream",
     "text": [
      "abs_diff =  0.7711645360894188\n",
      "p-value =  0.148\n"
     ]
    }
   ],
   "source": [
    "# calculate |mean - mu_0|\n",
    "abs_diff = np.abs(sample_mean - mu_0)\n",
    "print('abs_diff = ', abs_diff)\n",
    "\n",
    "# calculate the p-value\n",
    "p = deltas[np.abs(deltas) > abs_diff].size / deltas.size\n",
    "print('p-value = ', p)"
   ]
  },
  {
   "cell_type": "code",
   "execution_count": 14,
   "id": "fdc8e80b-ac69-4efb-9469-041ff45fb509",
   "metadata": {},
   "outputs": [
    {
     "data": {
      "text/plain": [
       "Ttest_1sampResult(statistic=-1.3713250204572047, pvalue=0.18625365009788034)"
      ]
     },
     "execution_count": 14,
     "metadata": {},
     "output_type": "execute_result"
    }
   ],
   "source": [
    "# Just for fun, see what does the t-test say\n",
    "stats.ttest_1samp(sample, mu_0)"
   ]
  },
  {
   "cell_type": "markdown",
   "id": "dc0232f4-647f-4dfd-a320-ccbec85ad0e7",
   "metadata": {},
   "source": [
    "### Example 5\n",
    "For the eruption times for the Old Faithful data, test the following hypotheses about the population IQR:\n",
    "$$\n",
    "\\begin{align}\n",
    "H_0: \\mathrm{IQR} &= 145\\\\\n",
    "H_a: \\mathrm{IQR} &< 145\n",
    "\\end{align}\n",
    "$$"
   ]
  },
  {
   "cell_type": "code",
   "execution_count": 15,
   "id": "b12d9af1-fbc4-4faf-8fee-a42308a98cbf",
   "metadata": {},
   "outputs": [
    {
     "data": {
      "text/html": [
       "<div>\n",
       "<style scoped>\n",
       "    .dataframe tbody tr th:only-of-type {\n",
       "        vertical-align: middle;\n",
       "    }\n",
       "\n",
       "    .dataframe tbody tr th {\n",
       "        vertical-align: top;\n",
       "    }\n",
       "\n",
       "    .dataframe thead th {\n",
       "        text-align: right;\n",
       "    }\n",
       "</style>\n",
       "<table border=\"1\" class=\"dataframe\">\n",
       "  <thead>\n",
       "    <tr style=\"text-align: right;\">\n",
       "      <th></th>\n",
       "      <th>eruptions</th>\n",
       "      <th>waiting</th>\n",
       "    </tr>\n",
       "  </thead>\n",
       "  <tbody>\n",
       "    <tr>\n",
       "      <th>0</th>\n",
       "      <td>216</td>\n",
       "      <td>79</td>\n",
       "    </tr>\n",
       "    <tr>\n",
       "      <th>1</th>\n",
       "      <td>108</td>\n",
       "      <td>54</td>\n",
       "    </tr>\n",
       "    <tr>\n",
       "      <th>2</th>\n",
       "      <td>200</td>\n",
       "      <td>74</td>\n",
       "    </tr>\n",
       "    <tr>\n",
       "      <th>3</th>\n",
       "      <td>137</td>\n",
       "      <td>62</td>\n",
       "    </tr>\n",
       "    <tr>\n",
       "      <th>4</th>\n",
       "      <td>272</td>\n",
       "      <td>85</td>\n",
       "    </tr>\n",
       "  </tbody>\n",
       "</table>\n",
       "</div>"
      ],
      "text/plain": [
       "   eruptions  waiting\n",
       "0        216       79\n",
       "1        108       54\n",
       "2        200       74\n",
       "3        137       62\n",
       "4        272       85"
      ]
     },
     "metadata": {},
     "output_type": "display_data"
    }
   ],
   "source": [
    "# recall the data\n",
    "display(df.head())\n",
    "sample = df['eruptions'].to_numpy()"
   ]
  },
  {
   "cell_type": "code",
   "execution_count": 16,
   "id": "edc7cf4a-34d7-491a-95df-47318b3d1901",
   "metadata": {},
   "outputs": [
    {
     "data": {
      "text/plain": [
       "137.5"
      ]
     },
     "execution_count": 16,
     "metadata": {},
     "output_type": "execute_result"
    }
   ],
   "source": [
    "# calculate the sample IQR\n",
    "sample_iqr = np.percentile(sample, 75) - np.percentile(sample, 25)\n",
    "sample_iqr"
   ]
  },
  {
   "cell_type": "code",
   "execution_count": 17,
   "id": "e700a083-6dc7-4353-995c-10d0e9d055b5",
   "metadata": {},
   "outputs": [
    {
     "data": {
      "image/png": "[encoded data removed]",
      "text/plain": [
       "<Figure size 432x288 with 1 Axes>"
      ]
     },
     "metadata": {
      "needs_background": "light"
     },
     "output_type": "display_data"
    }
   ],
   "source": [
    "# bootstrap\n",
    "np.random.seed(32123)\n",
    "m = 1000\n",
    "n = sample.size\n",
    "iqr_0 = 145 # as in H_a\n",
    "deltas = np.zeros(m)\n",
    "\n",
    "\n",
    "for i in range(m):\n",
    "    boot_sample = np.random.choice(sample, sample.size)\n",
    "    deltas[i] = ( np.percentile(boot_sample, 75) - np.percentile(boot_sample, 25) ) - sample_iqr\n",
    "\n",
    "\n",
    "# get the difference\n",
    "diff = sample_iqr - iqr_0\n",
    "\n",
    "\n",
    "# plot the deltas and the difference \n",
    "plt.figure()\n",
    "sns.histplot(deltas, stat='density')\n",
    "plt.vlines(diff, -0.005, 0.05, colors='r')\n",
    "plt.show()"
   ]
  },
  {
   "cell_type": "code",
   "execution_count": 18,
   "id": "1ca44382-590f-42c6-9af5-506c775cf092",
   "metadata": {},
   "outputs": [
    {
     "name": "stdout",
     "output_type": "stream",
     "text": [
      "p-value =  0.033\n"
     ]
    }
   ],
   "source": [
    "# get the p-value\n",
    "p = deltas[deltas < diff].size / deltas.size\n",
    "print('p-value = ', p)"
   ]
  },
  {
   "cell_type": "markdown",
   "id": "e4e6c2c2-347e-4eaa-9b6a-3b447088dc8e",
   "metadata": {},
   "source": [
    "## Random sampling from a distribution\n",
    "\n",
    "In applications frequently there is need to draw/generate a random sample which follows a certain distribution. Now we will describe one very simple method that can generate random samples from just about any distribution. This method depends on an already implemeted random number generator for the uniform distribution.\n",
    "\n",
    "Say you have a probability densiti function $f(x)$ over the interval $[a, b]$. Let $M$ be a number such that\n",
    "\n",
    "$$M > \\max_{x \\in [a, b]}{f(x)}$$\n",
    "\n",
    "Next we generate random pairs of numbers $(x_k, y_k)$ such that $a \\leqslant x_k \\leqslant b$ and $0 \\leqslant y_k \\leqslant M$ ($y$ must be positive because the density function is always positive). These numbers are generated uniformly in the intervals.\n",
    "\n",
    "Now, we can select the sample in the following way: if $y_k < f(x_k)$, then put $x_k$ in the sample; otherwise, discard $x_k$ and move to the next pair. At the end of the process, the sample that we selected will follow the distribution given by the density $f(x)$.\n",
    "\n",
    "### Example 5\n",
    "Generate a random sample of 150 numbers in the interval $[0, 10]$ that follow a $\\chi^2$-disribution with 3 degrees of freedom."
   ]
  },
  {
   "cell_type": "code",
   "execution_count": 19,
   "id": "3c19087a-bd8f-4c91-8d98-7390d06db4c9",
   "metadata": {},
   "outputs": [
    {
     "data": {
      "image/png": "[encoded data removed]",
      "text/plain": [
       "<Figure size 432x288 with 1 Axes>"
      ]
     },
     "metadata": {
      "needs_background": "light"
     },
     "output_type": "display_data"
    }
   ],
   "source": [
    "# Let's first sketch the density to get an idea what to expect\n",
    "X = stats.chi2(df=3)\n",
    "xs = np.linspace(0, 10, 1000)\n",
    "plt.figure()\n",
    "plt.plot(xs, X.pdf(xs))\n",
    "plt.show()"
   ]
  },
  {
   "cell_type": "code",
   "execution_count": 20,
   "id": "6e636b02-67e3-45b4-a329-ad9c94d3639b",
   "metadata": {},
   "outputs": [
    {
     "data": {
      "image/png": "[encoded data removed]",
      "text/plain": [
       "<Figure size 432x288 with 1 Axes>"
      ]
     },
     "metadata": {
      "needs_background": "light"
     },
     "output_type": "display_data"
    }
   ],
   "source": [
    "# Generate the points\n",
    "n_pts = 150\n",
    "a = 0\n",
    "b = 10\n",
    "M = 0.25\n",
    "\n",
    "np.random.seed(12)\n",
    "x = []\n",
    "y = []\n",
    "num_in_sample = 0\n",
    "\n",
    "while num_in_sample < 500:\n",
    "    # Generate random pair\n",
    "    x_rand = np.random.random() * (b - a) + a # stretch by (b-a) and shift by (a)\n",
    "    y_rand = np.random.random() * M\n",
    "    \n",
    "    x.append(x_rand)\n",
    "    y.append(y_rand)\n",
    "    # Decide if you keep the x\n",
    "    #if y_rand < X.pdf(x_rand):\n",
    "        #keep x\n",
    "    num_in_sample += 1\n",
    "\n",
    "\n",
    "x = np.array(x)\n",
    "y = np.array(y)\n",
    "\n",
    "# Plot the sample \n",
    "plt.figure()\n",
    "plt.plot(xs, X.pdf(xs))\n",
    "plt.scatter(x[y < X.pdf(x)], y[y < X.pdf(x)], c='g') #keep\n",
    "plt.scatter(x[y >= X.pdf(x)], y[y >= X.pdf(x)], c='r') #discard\n",
    "plt.hist(x[y < X.pdf(x)], color='k', alpha=0.25, density=True) #keep\n",
    "plt.show()"
   ]
  },
  {
   "cell_type": "code",
   "execution_count": 21,
   "id": "8a0c6c4f-910b-4da1-94a0-940ce888ab12",
   "metadata": {},
   "outputs": [
    {
     "data": {
      "text/plain": [
       "array([1.54162842, 2.63315015, 9.00714854, 2.83828353, 7.6456045 ,\n",
       "       1.35210178, 4.655081  , 0.8427267 , 6.36199994, 3.0017006 ,\n",
       "       0.55019993, 4.16369657, 1.1360172 , 0.73470044, 0.31151071,\n",
       "       3.19476311, 6.88927666, 3.12283997, 1.94674629, 3.77440782,\n",
       "       1.91710772, 1.09485421, 1.26387284, 2.90121937, 6.59475954,\n",
       "       3.55442925, 1.77506367, 0.8463852 , 3.16807901, 1.49223685,\n",
       "       3.4459494 , 7.02982173, 2.46601478, 6.32031547, 3.90309209,\n",
       "       0.510386  , 1.05895152, 1.41558412, 0.99204699, 2.48438489,\n",
       "       5.83823067, 2.15357823, 7.75848946, 6.4548537 , 1.32085305,\n",
       "       0.84437808, 3.63737819, 1.06424664, 5.19248805, 3.98855194,\n",
       "       6.13435115, 3.51541547, 3.78385301, 2.2688029 , 3.19777974,\n",
       "       0.37941219, 1.70649006, 8.63751826, 0.74093209, 2.49363523,\n",
       "       1.43480257, 2.69124908, 5.26432764, 4.56214112, 1.63787541,\n",
       "       1.54392661, 1.51425779, 1.6429848 , 1.98053087, 3.10848886,\n",
       "       2.25263254, 1.07217727, 2.45980088, 3.6043789 , 4.11160322,\n",
       "       4.01525312, 9.63598184, 3.97286615, 6.14796167, 2.08381851,\n",
       "       5.61426824, 7.14557009, 2.05534618, 0.53714353, 2.51254572,\n",
       "       1.65780358, 1.58550235, 1.39890535, 2.39302629, 0.85359588,\n",
       "       2.24301251, 1.21538982, 1.98867976, 0.65667353, 3.53426184,\n",
       "       1.42371786, 1.11785752, 5.16901734, 1.99157475, 3.64717963,\n",
       "       6.4206889 , 0.82850773, 1.37020958, 1.68558818, 3.95652645,\n",
       "       2.59080671, 0.78657767, 0.80881017, 2.42844812, 0.96231039,\n",
       "       6.13699832, 5.56180706, 2.55004858, 1.47883455, 0.56750391,\n",
       "       4.19483902, 2.63503797, 6.17977538, 6.4451771 , 3.21772037,\n",
       "       1.96829612, 0.55778587, 0.50116146, 0.95894984, 2.68162197,\n",
       "       1.6006248 , 3.57240434, 2.65476698, 1.05260739, 2.15672716,\n",
       "       3.62569088, 0.26615067, 1.70258861, 1.1796143 , 4.00048235,\n",
       "       0.75479699, 1.19399344, 1.82391475, 0.87757309, 2.29922076,\n",
       "       2.73823745, 5.18943721, 2.53593236, 3.68254231, 1.48637974,\n",
       "       1.67521735, 4.0991912 , 1.967253  , 1.39443292, 3.7332631 ,\n",
       "       2.02262148, 0.31201187, 0.33431594, 1.31800684, 1.44522347,\n",
       "       5.71827422, 1.73720821, 1.9728578 , 8.35783272, 4.45234522,\n",
       "       5.20436592, 5.34291962, 6.25850203, 0.38978507, 1.59066107,\n",
       "       1.45238168, 6.75318808, 2.21902869, 4.27269661, 5.95754061,\n",
       "       2.86427108, 2.07688052, 1.75637443, 0.58272996, 1.24427799,\n",
       "       1.91733108])"
      ]
     },
     "execution_count": 21,
     "metadata": {},
     "output_type": "execute_result"
    }
   ],
   "source": [
    "x=np.array(x)\n",
    "x[y < X.pdf(x)]"
   ]
  },
  {
   "cell_type": "markdown",
   "id": "da511096-546d-4469-bb59-61b00a2c2a8f",
   "metadata": {},
   "source": [
    "### Example 6\n",
    "Generate a random sample of 100 numbers in the interval $[-5, 5]$ that follow a $t$-distribution with one degree of freedom."
   ]
  },
  {
   "cell_type": "code",
   "execution_count": 22,
   "id": "f71c9874-5090-4cb2-bb6d-929d589bf201",
   "metadata": {},
   "outputs": [],
   "source": [
    "#Get the distribution\n",
    "T = stats.t(df=1)\n",
    "\n",
    "# Generate the points\n",
    "n_pts = 150\n",
    "a = -5.0\n",
    "b = 5.0\n",
    "M = 0.35\n",
    "\n",
    "np.random.seed(124)\n",
    "x = []\n",
    "y = []\n",
    "num_in_sample = 0\n",
    "\n"
   ]
  },
  {
   "cell_type": "code",
   "execution_count": null,
   "id": "0a03d36c-f4c6-4b2b-acee-28cbc2d1535b",
   "metadata": {},
   "outputs": [],
   "source": []
  }
 ],
 "metadata": {
  "kernelspec": {
   "display_name": "Python 3",
   "language": "python",
   "name": "python3"
  },
  "language_info": {
   "codemirror_mode": {
    "name": "ipython",
    "version": 3
   },
   "file_extension": ".py",
   "mimetype": "text/x-python",
   "name": "python",
   "nbconvert_exporter": "python",
   "pygments_lexer": "ipython3",
   "version": "3.8.8"
  }
 },
 "nbformat": 4,
 "nbformat_minor": 5
}
