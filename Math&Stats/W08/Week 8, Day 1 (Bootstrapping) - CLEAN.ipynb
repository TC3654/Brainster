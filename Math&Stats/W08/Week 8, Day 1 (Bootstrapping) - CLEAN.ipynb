{
 "cells": [
  {
   "cell_type": "markdown",
   "id": "eb8fc7f0-1dc6-43bd-bb4a-728ae7b797ff",
   "metadata": {},
   "source": [
    "# Week 8: Parameter Estimation"
   ]
  },
  {
   "cell_type": "code",
   "execution_count": 2,
   "id": "d7222966-886f-433d-a6f2-202c27869b82",
   "metadata": {},
   "outputs": [],
   "source": [
    "# Loading the libraries\n",
    "import numpy as np\n",
    "import sympy as sp\n",
    "import pandas as pd\n",
    "import matplotlib.pyplot as plt\n",
    "import seaborn as sns\n",
    "\n",
    "import scipy.stats as stats\n",
    "import scipy.optimize as opt\n",
    "#from scipy.integrate import quad"
   ]
  },
  {
   "cell_type": "markdown",
   "id": "edf40df9-2557-4d22-9a2e-e813d28f06cf",
   "metadata": {},
   "source": [
    "## Day 1: Bootstrap Method\n",
    "\n",
    "* The **bootstrap** methods are a class of techniques that can be used to construct an interval estimate of a parameter.\n",
    "* Bootstrap methods are **general** in a sense that they can be applied to *any* parameter\n",
    "* These methods are \"empirical\" and do not require knowledge of the sampling distribution of the statistic that corresponds to the parameter of interest. Instead, they rely on resampling and simulation\n",
    "\n",
    "\n",
    "## How does it work?\n",
    "The situation is as follows:\n",
    "* We have a sample of data of size `n`\n",
    "* The sample comes from a population which follows some distribution (which we do not know)\n",
    "* We wish to estimate some parameter of the population distribution by constructing an interval estimate for it\n",
    "\n",
    "To simplify things, we will talk about the population mean $\\mu$, but the same approach applies to any other parameter (e.g. median, standard devaition etc).\n",
    "To get what we need we do the following:\n",
    "* Calculate the mean of the original sample $\\bar{x}$\n",
    "* Generate many **bootstrapped samples** from the original sample, allowing for sampling **with replacement**. If you generate `m` bootstrapped samples (thousands), then for each of these calculate the mean. This will give you a sequence\n",
    "$$\\bar{x}_1^*, \\bar{x}_2^*, \\ldots, \\bar{x}_{m}^*$$\n",
    "of means of the bootstrapped samples.\n",
    "* Calculate a sequence of differences $\\delta_1^*, \\delta_2^*, \\ldots, \\delta_m^*$ where:\n",
    "$$\\delta_i^* = \\bar{x}_i^* - \\bar{x}$$\n",
    "for each $i = 1, 2, \\ldots, m$. This sequence captures the variability of the original distribution, so it is crucial to the process\n",
    "* Say we want a `90%` \"confidence\" interval. We calculate $\\overline{\\delta}$, and $\\underline{\\delta}$, the 5-th and 95-th percentile respectively\n",
    "* Finally, the interval estimate for the population mean $\\mu$ is given as:\n",
    "$$ \\left( \\bar{x} - \\underline{\\delta},\\, \\bar{x} - \\overline{\\delta} \\right) $$\n",
    "Note that this interval is **NOT** the same as the actual confidence interval for the population parameter!\n",
    "\n",
    "## Example 1\n",
    "Test the efficiency of the bootstrap method by using it to construct a 90% \"confidence\" interval for the mean of a normal distribution.\n",
    "* Use normal distribution $\\mathcal{N}(\\mu=10, \\sigma=2)$\n",
    "* Draw a random sample of size `n=20` from this distribution\n",
    "* Estimate $\\mu$ with an interval using bootstrapping"
   ]
  },
  {
   "cell_type": "code",
   "execution_count": null,
   "id": "6afbfc1a-ec69-41a1-8519-f470580ce790",
   "metadata": {},
   "outputs": [],
   "source": [
    "# setting the random seed\n",
    "np.random.seed(123)\n",
    "\n",
    "# getting the original sample\n",
    "\n",
    "\n",
    "# plot the sample\n"
   ]
  },
  {
   "cell_type": "code",
   "execution_count": null,
   "id": "1813149e-c7dd-4c3b-bb96-2579f2af8347",
   "metadata": {},
   "outputs": [],
   "source": [
    "# start with the bootstrapping\n",
    "m = 1000 # number of bootstrap samples\n",
    "deltas = ... # the differences\n",
    "sample_mean = ...\n",
    "\n",
    "for i in range(m):\n",
    "    \n",
    "    # choose a random sample\n",
    "    \n",
    "    # calculate the difference\n",
    "\n",
    "    \n",
    "# plot the deltas, for fun\n"
   ]
  },
  {
   "cell_type": "code",
   "execution_count": null,
   "id": "9f75ff80-0de0-40b1-9496-15fb15e743d0",
   "metadata": {},
   "outputs": [],
   "source": [
    "# constructing the interval\n",
    "\n",
    "print(f'The 90% \"confidence interval is ({}, {})\"')"
   ]
  },
  {
   "cell_type": "markdown",
   "id": "511714bc-0d43-426b-a2fc-ac3f35e736e5",
   "metadata": {},
   "source": [
    "## Example 2\n",
    "For the same distribution given in **Example 1**, using the same sample, estimate the standard deviation of the population."
   ]
  },
  {
   "cell_type": "code",
   "execution_count": null,
   "id": "690717aa-0962-482b-a815-e8bf7de4c2a2",
   "metadata": {},
   "outputs": [],
   "source": [
    "# start with the bootstrapping\n",
    "\n",
    "\n",
    "# constructing the interval\n"
   ]
  },
  {
   "cell_type": "code",
   "execution_count": null,
   "id": "34c2b85e-931d-4145-b4a8-022939e2f1d0",
   "metadata": {},
   "outputs": [],
   "source": [
    "# try again with a larger sample\n",
    "np.random.seed(112)\n",
    "sample = stats.norm(10, 2).rvs(100)\n",
    "\n",
    "# plot the new sample\n"
   ]
  },
  {
   "cell_type": "code",
   "execution_count": null,
   "id": "92619a05-1737-4337-a2a0-63a30c81d20c",
   "metadata": {},
   "outputs": [],
   "source": [
    "# re-run the bootstrap\n"
   ]
  },
  {
   "cell_type": "markdown",
   "id": "1f9ce02d-6e31-4cfc-899c-96f96f5101ce",
   "metadata": {},
   "source": [
    "## Example 3: Old Faithful and estimating the median\n",
    "Old Faithful is a geyser in Yellowstone National Park in Wyoming. Data given in `faithful.csv` contains information about a sample of consecutive eruptions of the geyser.\n",
    "\n",
    "Costruct a 95% bottstrap confidence interval for the median length of the eruptions."
   ]
  },
  {
   "cell_type": "code",
   "execution_count": null,
   "id": "e74ff7a8-f097-421c-b1aa-3739ed3ffd4f",
   "metadata": {},
   "outputs": [],
   "source": [
    "# reading the file\n",
    "df = pd.read_csv('faithful.csv')\n",
    "display(df.head())\n",
    "\n",
    "# get the sample\n",
    "\n",
    "# plot the sample\n"
   ]
  },
  {
   "cell_type": "code",
   "execution_count": null,
   "id": "2c3d0fa3-2e66-4d17-acd6-6176b0fc9ed5",
   "metadata": {},
   "outputs": [],
   "source": [
    "# bootstrap\n"
   ]
  },
  {
   "cell_type": "markdown",
   "id": "ed6498e0-d8e8-461c-a2f7-f992ad39fef0",
   "metadata": {},
   "source": [
    "## Hypothesis testing with bootstrapping\n",
    "It is possible to use the bootstrap method to test hypotheses. The approach is pretty much the same as with generating bootstrap \"confidence\" intervals, except that in this scenario we calculate a p-value for the test.\n",
    "\n",
    "We will illustrate the application of this approach in a case when we test about the population mean, but as before -- it can be set up to test hypotheses about any parameter.\n",
    "\n",
    "### Inference for the population mean\n",
    "Given a sample of size $n$, we wish to test the following hypotheses about the population mean $\\mu$:\n",
    "$$\n",
    "\\begin{align}\n",
    "H_0: \\mu &= \\mu_0\\\\\n",
    "H_a: \\mu &\\neq \\mu_0\n",
    "\\end{align}\n",
    "$$\n",
    "\n",
    "The process is identical up to the point when we calculate the sequence of differences $(\\delta_i^*)$ for $i=1, \\ldots, n$. In the last step, we just calculate the p-value as the probability:\n",
    "$$\n",
    "p = P\\left( \\delta^* >  \\left| \\bar{x}-\\mu_0 \\right| \\right)\n",
    "$$\n",
    "\n",
    "If we work with one-sided alternative, then:\n",
    "* If $H_a : \\mu < \\mu_0$, then the p-value is $p = P\\left( \\delta^* <  \\bar{x}-\\mu_0 \\right)$, and\n",
    "* If $H_a : \\mu > \\mu_0$, then the p-value is $p = P\\left( \\delta^* >  \\bar{x}-\\mu_0 \\right)$\n",
    "\n",
    "Similar rules would apply for other parameters\n",
    "\n",
    "### Example 4\n",
    "Verify the bootstrap method for hypothesis testing on the following *controled* case. Choose a random sample of size $n=20$ from a normal distribution $\\mathcal{N}(10, 2)$ and then test the hypotheses:\n",
    "$$\n",
    "\\begin{align}\n",
    "H_0: \\mu &= 11\\\\\n",
    "H_a: \\mu &\\neq 11\n",
    "\\end{align}\n",
    "$$"
   ]
  },
  {
   "cell_type": "code",
   "execution_count": null,
   "id": "2f7bf085-de13-4104-86a1-d2f4755f0293",
   "metadata": {},
   "outputs": [],
   "source": [
    "#set up, generate, and plot the sample\n",
    "np.random.seed(123)\n",
    "mu_0 = 11\n",
    "n = 20\n",
    "\n",
    "sample = stats.norm(10, 2).rvs(n)\n",
    "sns.histplot(sample)"
   ]
  },
  {
   "cell_type": "code",
   "execution_count": null,
   "id": "b8eef571-b4c8-45d6-b1b5-aeca0444376e",
   "metadata": {},
   "outputs": [],
   "source": [
    "# start with the bootstrapping\n",
    "\n",
    "\n",
    "np.random.seed(32123)\n",
    "for i in range(m):\n",
    "    \n",
    "    \n",
    "# plot the deltas, for fun\n"
   ]
  },
  {
   "cell_type": "code",
   "execution_count": null,
   "id": "205e69bd-3dfe-4354-acd7-ffbe12f76cf9",
   "metadata": {},
   "outputs": [],
   "source": [
    "# calculate |mean - mu_0|\n",
    "abs_diff = ...\n",
    "print('abs_diff = ', abs_diff)\n",
    "\n",
    "# calculate the p-value\n",
    "p = ...\n",
    "print('p-value = ', p)"
   ]
  },
  {
   "cell_type": "code",
   "execution_count": null,
   "id": "fdc8e80b-ac69-4efb-9469-041ff45fb509",
   "metadata": {},
   "outputs": [],
   "source": [
    "# Just for fun, see what does the t-test say\n",
    "stats.ttest_1samp(sample, mu_0)"
   ]
  },
  {
   "cell_type": "markdown",
   "id": "dc0232f4-647f-4dfd-a320-ccbec85ad0e7",
   "metadata": {},
   "source": [
    "### Example 5\n",
    "For the eruption times for the Old Faithful data, test the following hypotheses about the population IQR:\n",
    "$$\n",
    "\\begin{align}\n",
    "H_0: \\mathrm{IQR} &= 145\\\\\n",
    "H_a: \\mathrm{IQR} &< 145\n",
    "\\end{align}\n",
    "$$"
   ]
  },
  {
   "cell_type": "code",
   "execution_count": null,
   "id": "b12d9af1-fbc4-4faf-8fee-a42308a98cbf",
   "metadata": {},
   "outputs": [],
   "source": [
    "# recall the data\n",
    "display(df.head())\n",
    "sample = df['eruptions'].to_numpy()"
   ]
  },
  {
   "cell_type": "code",
   "execution_count": null,
   "id": "edc7cf4a-34d7-491a-95df-47318b3d1901",
   "metadata": {},
   "outputs": [],
   "source": [
    "# calculate the sample IQR\n",
    "sample_iqr "
   ]
  },
  {
   "cell_type": "code",
   "execution_count": null,
   "id": "e700a083-6dc7-4353-995c-10d0e9d055b5",
   "metadata": {},
   "outputs": [],
   "source": [
    "# bootstrap\n",
    "np.random.seed(32123)\n",
    "\n",
    "\n",
    "# get the difference\n",
    "diff = sample_iqr - iqr_0\n",
    "\n",
    "# plot the deltas and the difference \n",
    "plt.figure()\n",
    "\n",
    "plt.show()"
   ]
  },
  {
   "cell_type": "code",
   "execution_count": null,
   "id": "1ca44382-590f-42c6-9af5-506c775cf092",
   "metadata": {},
   "outputs": [],
   "source": [
    "# get the p-value\n",
    "p = ..."
   ]
  },
  {
   "cell_type": "markdown",
   "id": "e4e6c2c2-347e-4eaa-9b6a-3b447088dc8e",
   "metadata": {},
   "source": [
    "## Random sampling from a distribution\n",
    "\n",
    "In applications frequently there is need to draw/generate a random sample which follows a certain distribution. Now we will describe one very simple method that can generate random samples from just about any distribution. This method depends on an already implemeted random number generator for the uniform distribution.\n",
    "\n",
    "Say you have a probability densiti function $f(x)$ over the interval $[a, b]$. Let $M$ be a number such that\n",
    "\n",
    "$$M > \\max_{x \\in [a, b]}{f(x)}$$\n",
    "\n",
    "Next we generate random pairs of numbers $(x_k, y_k)$ such that $a \\leqslant x_k \\leqslant b$ and $0 \\leqslant y_k \\leqslant M$ ($y$ must be positive because the density function is always positive). These numbers are generated uniformly in the intervals.\n",
    "\n",
    "Now, we can select the sample in the following way: if $y_k < f(x_k)$, then put $x_k$ in the sample; otherwise, discard $x_k$ and move to the next pair. At the end of the process, the sample that we selected will follow the distribution given by the density $f(x)$.\n",
    "\n",
    "### Example 5\n",
    "Generate a random sample of 150 numbers in the interval $[0, 10]$ that follow a $\\chi^2$-disribution with 3 degrees of freedom."
   ]
  },
  {
   "cell_type": "code",
   "execution_count": null,
   "id": "3c19087a-bd8f-4c91-8d98-7390d06db4c9",
   "metadata": {},
   "outputs": [],
   "source": [
    "# Let's first sketch the density to get an idea what to expect\n",
    "X = stats.chi2(df=3)\n",
    "xs = np.linspace(0, 10, 1000)\n",
    "plt.figure()\n",
    "plt.plot(xs, X.pdf(xs))\n",
    "plt.show()"
   ]
  },
  {
   "cell_type": "code",
   "execution_count": null,
   "id": "6e636b02-67e3-45b4-a329-ad9c94d3639b",
   "metadata": {},
   "outputs": [],
   "source": [
    "# Generate the points\n",
    "n_pts = 150\n",
    "a = 0\n",
    "b = 10\n",
    "M = 0.25\n",
    "\n",
    "np.random.seed(12)\n",
    "x = []\n",
    "y = []\n",
    "num_in_sample = 0\n",
    "\n",
    "while num_in_sample < 150:\n",
    "    # Generate random pair\n",
    "    x_rand = ...\n",
    "    y_rand = ...\n",
    "    \n",
    "    # Decide if you keep the x\n",
    "    if ...\n",
    "        \n",
    "\n",
    "\n",
    "# Plot the sample \n"
   ]
  },
  {
   "cell_type": "markdown",
   "id": "da511096-546d-4469-bb59-61b00a2c2a8f",
   "metadata": {},
   "source": [
    "### Example 6\n",
    "Generate a random sample of 100 numbers in the interval $[-5, 5]$ that follow a $t$-distribution with one degree of freedom."
   ]
  },
  {
   "cell_type": "code",
   "execution_count": null,
   "id": "f71c9874-5090-4cb2-bb6d-929d589bf201",
   "metadata": {},
   "outputs": [],
   "source": [
    "#Get the distribution\n",
    "T = stats.t(df=1)\n",
    "\n",
    "# Generate the points\n",
    "n_pts = 150\n",
    "a = -5.0\n",
    "b = 5.0\n",
    "M = 0.35\n",
    "\n",
    "np.random.seed(124)\n",
    "x = []\n",
    "y = []\n",
    "num_in_sample = 0\n",
    "\n"
   ]
  }
 ],
 "metadata": {
  "kernelspec": {
   "display_name": "Python 3",
   "language": "python",
   "name": "python3"
  },
  "language_info": {
   "codemirror_mode": {
    "name": "ipython",
    "version": 3
   },
   "file_extension": ".py",
   "mimetype": "text/x-python",
   "name": "python",
   "nbconvert_exporter": "python",
   "pygments_lexer": "ipython3",
   "version": "3.8.8"
  }
 },
 "nbformat": 4,
 "nbformat_minor": 5
}
