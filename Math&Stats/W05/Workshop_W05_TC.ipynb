{
 "cells": [
  {
   "cell_type": "markdown",
   "id": "matched-messaging",
   "metadata": {
    "id": "matched-messaging"
   },
   "source": [
    "# Workshop #5: Probability Distributions"
   ]
  },
  {
   "cell_type": "code",
   "execution_count": 1,
   "id": "humanitarian-schema",
   "metadata": {
    "id": "humanitarian-schema"
   },
   "outputs": [],
   "source": [
    "#importing libraries\n",
    "import numpy as np\n",
    "import pandas as pd\n",
    "import matplotlib.pyplot as plt\n",
    "import sympy as sp\n",
    "import scipy.stats as stats\n",
    "import random"
   ]
  },
  {
   "cell_type": "markdown",
   "id": "copyrighted-swedish",
   "metadata": {
    "id": "copyrighted-swedish"
   },
   "source": [
    "## Problem 1\n",
    "A certain tennis player makes a successful first serve 70% of the time. Assume that each serve is independent of the others. If she serves 6 times, what is the probability she gets:\n",
    "* all 6 serves in? (a)\n",
    "* exactly 4 serves in? (b)\n",
    "* at least 4 serves in? (c)\n",
    "* no more than 4 serves in? (d)\n",
    "* Make a bar graph to visualize the distribution"
   ]
  },
  {
   "cell_type": "code",
   "execution_count": 2,
   "id": "comic-athletics",
   "metadata": {
    "id": "comic-athletics"
   },
   "outputs": [
    {
     "name": "stdout",
     "output_type": "stream",
     "text": [
      "P(a) = 0.1128\n",
      "P(b) = 0.328\n",
      "P(c) = 0.7446\n",
      "P(d) = 0.5834\n"
     ]
    },
    {
     "data": {
      "image/png": "[encoded data removed]",
      "text/plain": [
       "<Figure size 432x288 with 1 Axes>"
      ]
     },
     "metadata": {
      "needs_background": "light"
     },
     "output_type": "display_data"
    }
   ],
   "source": [
    "n = 5000 # simulations\n",
    "\n",
    "all_6_in = np.zeros(n) \n",
    "exactly_4_in = np.zeros(n)\n",
    "at_least_4_in = np.zeros(n)\n",
    "no_more_than_4_in = np.zeros(n)\n",
    "\n",
    "for i in range(n):\n",
    "    \n",
    "    serves = 6\n",
    "    ins = 0\n",
    "    \n",
    "    for j in range(serves):\n",
    "        successful_serve = np.random.random()\n",
    "        if successful_serve <= 0.7: # the serve is successful\n",
    "            ins += 1\n",
    "    \n",
    "    if ins == 6:\n",
    "        all_6_in[i] = 1\n",
    "    \n",
    "    if ins == 4:\n",
    "        exactly_4_in[i] = 1\n",
    "        \n",
    "    if ins >= 4:\n",
    "        at_least_4_in[i] = 1\n",
    "        \n",
    "    if ins <= 4:\n",
    "        no_more_than_4_in[i] = 1\n",
    "        \n",
    "\n",
    "prob_serves = [sum(all_6_in)/n, sum(exactly_4_in)/n, sum(at_least_4_in)/n, sum(no_more_than_4_in)/n]\n",
    "\n",
    "print('P(a) =', prob_serves[0]) \n",
    "print('P(b) =', prob_serves[1])\n",
    "print('P(c) =', prob_serves[2])\n",
    "print('P(d) =', prob_serves[3])\n",
    "\n",
    "plt.figure()\n",
    "plt.bar(x = ['6 in', '4 in', '4 or more in', '4 or less in'], height = [prob_serves[0], prob_serves[1], prob_serves[2], prob_serves[3]])\n",
    "plt.title('P(serves)')\n",
    "plt.xlabel('number of serves in')\n",
    "plt.ylabel('probability')\n",
    "plt.show()"
   ]
  },
  {
   "cell_type": "markdown",
   "id": "confidential-singapore",
   "metadata": {
    "id": "confidential-singapore"
   },
   "source": [
    "## Problem 2\n",
    "A company produces computer microchips, which have a life expectancy that follows a **normal distribution** with a **mean of 90 months** and a **standard deviation of 3.7 months**.\n",
    "* If a microchip is guaranteed to work for 84 months, find the probability that it will fail before the guarantee period ends.\n",
    "* The probability that a microchip is working before the end of the guarantee period is required to be 99%. For how many months should it be guaranteed to work?\n",
    "* A rival company produces microchips where the probability that they will fail after 84 months is 0.88. Given that the life expectancy also follows a normal distribution with standard deviation 3.7 months, find the mean life expectancy of these chips."
   ]
  },
  {
   "cell_type": "code",
   "execution_count": 3,
   "id": "sonic-hudson",
   "metadata": {
    "id": "sonic-hudson"
   },
   "outputs": [
    {
     "name": "stdout",
     "output_type": "stream",
     "text": [
      "\n",
      "P(X <= 84) =  0.052442195093830156\n",
      "P(X < g) = 0.01 for g =  81.39251286604889\n",
      "The mean life expectancy for the chips of the rival company is  [88.3474511306445]\n"
     ]
    }
   ],
   "source": [
    "mu = 90\n",
    "sigma = 3.7\n",
    "\n",
    "X = stats.norm(mu, sigma)  #fill in the gaps\n",
    "\n",
    "print('\\nP(X <= 84) = ', X.cdf(84))\n",
    "\n",
    "print('P(X < g) = 0.01 for g = ', X.ppf(1-0.99))\n",
    "\n",
    "#for the solver part:\n",
    "Z = stats.norm(0, 1)\n",
    "z, mu = sp.symbols('z mu', real=True)\n",
    "z = Z.ppf(1-0.88) #fill\n",
    "#print(z)\n",
    "\n",
    "mu_1 = sp.solve(sp.Eq(z, (84 - mu)/sigma), mu)   #fill in the gaps\n",
    "print('The mean life expectancy for the chips of the rival company is ', mu_1)"
   ]
  },
  {
   "cell_type": "markdown",
   "id": "elect-quarter",
   "metadata": {
    "id": "elect-quarter"
   },
   "source": [
    "## Problem 3\n",
    "The speeds of cars at a certain point on a straight road are normally distributed with mean $\\mu$ and standard deviation $\\sigma$. 15% of the cars travelled at speeds greater than 90 km/h and 12% of them at speeds less than 40 km/h. Find $\\mu$ and $\\sigma$."
   ]
  },
  {
   "cell_type": "code",
   "execution_count": 4,
   "id": "acoustic-cotton",
   "metadata": {
    "id": "acoustic-cotton"
   },
   "outputs": [
    {
     "name": "stdout",
     "output_type": "stream",
     "text": [
      "Mean mu =  66.5663396278966\n",
      "St. dev sigma =  22.6099049004478\n"
     ]
    }
   ],
   "source": [
    "Z = stats.norm(0, 1)\n",
    "\n",
    "z1 = Z.ppf(0.12)\n",
    "z2 = Z.ppf(1 - 0.15)\n",
    "\n",
    "mu, sigma = sp.symbols('mu sigma', real=True)\n",
    "z1 = sp.sympify(z1)\n",
    "z2 = sp.sympify(z2)\n",
    "\n",
    "eq_1 = sp.Eq((40 - mu)/sigma, z1)\n",
    "eq_2 = sp.Eq((90 - mu)/sigma, z2)\n",
    "sol = mu, sigma = sp.solve((eq_1, eq_2), (mu, sigma))\n",
    "\n",
    "print('Mean mu = ', sol[mu])\n",
    "print('St. dev sigma = ', sol[sigma])"
   ]
  },
  {
   "cell_type": "markdown",
   "id": "marked-palestine",
   "metadata": {
    "id": "marked-palestine"
   },
   "source": [
    "## Problem 4\n",
    "This simulation involves rolling a fair six-sided die.\n",
    "\n",
    "Let $X$ be the random variable which counts in what roll you get the first six. This could be, for example, in the first roll, in the third roll, or even the fiftieth roll (though this is highly unlikely. In other words: $X \\in \\{1, 2, 3,\\ldots \\}$. Design a simulation which estimates the probability distribution of the random variable $X$, i.e. estimates the probabilities $P(X=k)$. Note: limit your scope for k to the range $\\{1, 2, \\ldots, 50\\}$ as greater values are anyhow highly unlikely."
   ]
  },
  {
   "cell_type": "code",
   "execution_count": 5,
   "id": "compatible-screen",
   "metadata": {
    "id": "compatible-screen"
   },
   "outputs": [
    {
     "data": {
      "text/html": [
       "<div>\n",
       "<style scoped>\n",
       "    .dataframe tbody tr th:only-of-type {\n",
       "        vertical-align: middle;\n",
       "    }\n",
       "\n",
       "    .dataframe tbody tr th {\n",
       "        vertical-align: top;\n",
       "    }\n",
       "\n",
       "    .dataframe thead th {\n",
       "        text-align: right;\n",
       "    }\n",
       "</style>\n",
       "<table border=\"1\" class=\"dataframe\">\n",
       "  <thead>\n",
       "    <tr style=\"text-align: right;\">\n",
       "      <th></th>\n",
       "      <th>1</th>\n",
       "      <th>2</th>\n",
       "      <th>3</th>\n",
       "      <th>4</th>\n",
       "      <th>5</th>\n",
       "      <th>6</th>\n",
       "      <th>7</th>\n",
       "      <th>8</th>\n",
       "      <th>9</th>\n",
       "      <th>10</th>\n",
       "      <th>...</th>\n",
       "      <th>31</th>\n",
       "      <th>32</th>\n",
       "      <th>33</th>\n",
       "      <th>34</th>\n",
       "      <th>35</th>\n",
       "      <th>36</th>\n",
       "      <th>37</th>\n",
       "      <th>38</th>\n",
       "      <th>39</th>\n",
       "      <th>40</th>\n",
       "    </tr>\n",
       "  </thead>\n",
       "  <tbody>\n",
       "    <tr>\n",
       "      <th>P(X=k)</th>\n",
       "      <td>0.165</td>\n",
       "      <td>0.138</td>\n",
       "      <td>0.112</td>\n",
       "      <td>0.104</td>\n",
       "      <td>0.083</td>\n",
       "      <td>0.071</td>\n",
       "      <td>0.052</td>\n",
       "      <td>0.047</td>\n",
       "      <td>0.036</td>\n",
       "      <td>0.033</td>\n",
       "      <td>...</td>\n",
       "      <td>0.001</td>\n",
       "      <td>0.001</td>\n",
       "      <td>0.0</td>\n",
       "      <td>0.001</td>\n",
       "      <td>0.0</td>\n",
       "      <td>0.0</td>\n",
       "      <td>0.0</td>\n",
       "      <td>0.0</td>\n",
       "      <td>0.0</td>\n",
       "      <td>0.0</td>\n",
       "    </tr>\n",
       "  </tbody>\n",
       "</table>\n",
       "<p>1 rows × 40 columns</p>\n",
       "</div>"
      ],
      "text/plain": [
       "           1      2      3      4      5      6      7      8      9      10  \\\n",
       "P(X=k)  0.165  0.138  0.112  0.104  0.083  0.071  0.052  0.047  0.036  0.033   \n",
       "\n",
       "        ...     31     32   33     34   35   36   37   38   39   40  \n",
       "P(X=k)  ...  0.001  0.001  0.0  0.001  0.0  0.0  0.0  0.0  0.0  0.0  \n",
       "\n",
       "[1 rows x 40 columns]"
      ]
     },
     "metadata": {},
     "output_type": "display_data"
    },
    {
     "data": {
      "image/png": "[encoded data removed]",
      "text/plain": [
       "<Figure size 432x288 with 1 Axes>"
      ]
     },
     "metadata": {
      "needs_background": "light"
     },
     "output_type": "display_data"
    }
   ],
   "source": [
    "n = 5000 # simulations\n",
    "k = 40 # rolls\n",
    "\n",
    "first_6_roll = np.zeros(k)\n",
    "\n",
    "for i in range(n):\n",
    "    \n",
    "    rolls = 0\n",
    "    \n",
    "    for j in range(k):\n",
    "        \n",
    "        roll = random.randint(1, 6)\n",
    "        #print(roll, rolls)\n",
    "        \n",
    "        if roll == 6:\n",
    "            first_6_roll[j] += 1\n",
    "            break\n",
    "        \n",
    "        rolls += 1\n",
    "        \n",
    "\n",
    "prob_6 = np.round(first_6_roll/n, 3)\n",
    "\n",
    "table = pd.DataFrame(columns = np.arange(1,41), index=['P(X=k)'])\n",
    "table.loc['P(X=k)'] = prob_6\n",
    "display(table)\n",
    "\n",
    "plt.figure()\n",
    "plt.bar(x = np.arange(1,41), height = table.loc['P(X=k)'])\n",
    "plt.title('P(X = k)')\n",
    "plt.xlabel('Number of rolls needed to get the first 6')\n",
    "plt.ylabel('probability')\n",
    "plt.show()"
   ]
  },
  {
   "cell_type": "code",
   "execution_count": null,
   "id": "1465855d-f6a5-4884-a4ee-1a0fffa7f8d0",
   "metadata": {},
   "outputs": [],
   "source": []
  }
 ],
 "metadata": {
  "colab": {
   "name": "Workshop #5.ipynb",
   "provenance": []
  },
  "kernelspec": {
   "display_name": "Python 3",
   "language": "python",
   "name": "python3"
  },
  "language_info": {
   "codemirror_mode": {
    "name": "ipython",
    "version": 3
   },
   "file_extension": ".py",
   "mimetype": "text/x-python",
   "name": "python",
   "nbconvert_exporter": "python",
   "pygments_lexer": "ipython3",
   "version": "3.8.8"
  }
 },
 "nbformat": 4,
 "nbformat_minor": 5
}
