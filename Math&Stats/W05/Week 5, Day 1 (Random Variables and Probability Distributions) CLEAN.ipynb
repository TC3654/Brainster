{
 "cells": [
  {
   "cell_type": "markdown",
   "id": "accessible-strength",
   "metadata": {
    "id": "accessible-strength"
   },
   "source": [
    "# Week 5: Probability Distributions"
   ]
  },
  {
   "cell_type": "code",
   "execution_count": 1,
   "id": "significant-jurisdiction",
   "metadata": {
    "executionInfo": {
     "elapsed": 4354,
     "status": "ok",
     "timestamp": 1628506628902,
     "user": {
      "displayName": "Marko",
      "photoUrl": "",
      "userId": "10739355790133053471"
     },
     "user_tz": -120
    },
    "id": "significant-jurisdiction"
   },
   "outputs": [],
   "source": [
    "# Loading the libraries\n",
    "import numpy as np\n",
    "import sympy as sy\n",
    "import pandas as pd\n",
    "import matplotlib.pyplot as plt\n",
    "import seaborn as sns\n",
    "import scipy.stats as stats\n",
    "import random"
   ]
  },
  {
   "cell_type": "markdown",
   "id": "competitive-world",
   "metadata": {
    "id": "competitive-world"
   },
   "source": [
    "## Day 3: Random Variables & Probability Distributions\n",
    "\n",
    "* Let us toss a fair coin. Two outcomes are possible: **H** or **T**. Let us introduce a variable $X$ that will count the number of **H** when tossing.\n",
    "* $X \\in \\{0, 1\\}$ -- there are two possible values for $X$:\n",
    "    * $X = 0$ means that **H** has not occurred\n",
    "    * $X = 1$ means that **H** has occurred\n",
    "\n",
    "We can summarize the outcomes in a table or on a bar graph"
   ]
  },
  {
   "cell_type": "code",
   "execution_count": 2,
   "id": "sunset-queensland",
   "metadata": {
    "id": "sunset-queensland"
   },
   "outputs": [
    {
     "data": {
      "text/html": [
       "<div>\n",
       "<style scoped>\n",
       "    .dataframe tbody tr th:only-of-type {\n",
       "        vertical-align: middle;\n",
       "    }\n",
       "\n",
       "    .dataframe tbody tr th {\n",
       "        vertical-align: top;\n",
       "    }\n",
       "\n",
       "    .dataframe thead th {\n",
       "        text-align: right;\n",
       "    }\n",
       "</style>\n",
       "<table border=\"1\" class=\"dataframe\">\n",
       "  <thead>\n",
       "    <tr style=\"text-align: right;\">\n",
       "      <th></th>\n",
       "      <th>0</th>\n",
       "      <th>1</th>\n",
       "    </tr>\n",
       "  </thead>\n",
       "  <tbody>\n",
       "    <tr>\n",
       "      <th>P(x)</th>\n",
       "      <td>0.5</td>\n",
       "      <td>0.5</td>\n",
       "    </tr>\n",
       "  </tbody>\n",
       "</table>\n",
       "</div>"
      ],
      "text/plain": [
       "        0    1\n",
       "P(x)  0.5  0.5"
      ]
     },
     "execution_count": 2,
     "metadata": {},
     "output_type": "execute_result"
    }
   ],
   "source": [
    "table = pd.DataFrame(columns=['0', '1'], index = ['P(X=x)'])\n",
    "\n",
    "table.loc['P(X=x)'] = [0.5, 0.5]\n",
    "\n",
    "table"
   ]
  },
  {
   "cell_type": "markdown",
   "id": "under-industry",
   "metadata": {
    "id": "under-industry"
   },
   "source": [
    "* The variable defined in this way, as a set of values and **likelihoods** assigned to the possible values, is called a **random variable**\n",
    "* Strictly speaking, a random variable is a function that assigns likelihoods to all possible values in an experiment/trial\n",
    "\n",
    "### Example 1.1\n",
    "A couple plans to have two children. Let $G$ be the random variable “number of girls the couple has”. If there is an equal probability of a child to be a boy or a girl, define the possible values of $G$ and calculate the probability for each of them. Then represent the results in a table and on a bar graph."
   ]
  },
  {
   "cell_type": "code",
   "execution_count": 8,
   "id": "committed-certificate",
   "metadata": {
    "id": "committed-certificate"
   },
   "outputs": [
    {
     "data": {
      "text/html": [
       "<div>\n",
       "<style scoped>\n",
       "    .dataframe tbody tr th:only-of-type {\n",
       "        vertical-align: middle;\n",
       "    }\n",
       "\n",
       "    .dataframe tbody tr th {\n",
       "        vertical-align: top;\n",
       "    }\n",
       "\n",
       "    .dataframe thead th {\n",
       "        text-align: right;\n",
       "    }\n",
       "</style>\n",
       "<table border=\"1\" class=\"dataframe\">\n",
       "  <thead>\n",
       "    <tr style=\"text-align: right;\">\n",
       "      <th></th>\n",
       "      <th>0</th>\n",
       "      <th>1</th>\n",
       "      <th>2</th>\n",
       "    </tr>\n",
       "  </thead>\n",
       "  <tbody>\n",
       "    <tr>\n",
       "      <th>P(X=x)</th>\n",
       "      <td>0.247</td>\n",
       "      <td>0.497</td>\n",
       "      <td>0.256</td>\n",
       "    </tr>\n",
       "  </tbody>\n",
       "</table>\n",
       "</div>"
      ],
      "text/plain": [
       "            0      1      2\n",
       "P(X=x)  0.247  0.497  0.256"
      ]
     },
     "execution_count": 8,
     "metadata": {},
     "output_type": "execute_result"
    }
   ],
   "source": [
    "# There are ??? possible values of G: \n",
    "\n",
    "n = 10000 # number of simulations\n",
    "G = np.zeros(3) # store the number of children here\n",
    "\n",
    "for i in range(n): # loop through the simulations\n",
    "    child_1 = random.choice([0,1])\n",
    "    child_2 = random.choice([0,1])\n",
    "    \n",
    "    G[child_1 + child_2] += 1\n",
    "    \n",
    "prob_G = np.round(G/n, 3)\n",
    "\n",
    "table = pd.DataFrame(columns=['0', '1', '2'], index = ['P(X=x)'])\n",
    "table.loc['P(X=x)'] = prob_G\n",
    "table"
   ]
  },
  {
   "cell_type": "markdown",
   "id": "e6f70f2e-5c97-49ac-a6b9-ecb77cde4252",
   "metadata": {},
   "source": [
    "### Example 1.2\n",
    "A couple plans to have three children. Let $G$ be the random variable “number of girls the couple has”. If there is an equal probability of a child to be a boy or a girl, define the possible values of $G$ and calculate the probability for each of them. Then represent the results in a table and on a bar graph."
   ]
  },
  {
   "cell_type": "code",
   "execution_count": 10,
   "id": "29664b77-f720-4964-aff4-f4042a9f13f4",
   "metadata": {},
   "outputs": [
    {
     "data": {
      "text/html": [
       "<div>\n",
       "<style scoped>\n",
       "    .dataframe tbody tr th:only-of-type {\n",
       "        vertical-align: middle;\n",
       "    }\n",
       "\n",
       "    .dataframe tbody tr th {\n",
       "        vertical-align: top;\n",
       "    }\n",
       "\n",
       "    .dataframe thead th {\n",
       "        text-align: right;\n",
       "    }\n",
       "</style>\n",
       "<table border=\"1\" class=\"dataframe\">\n",
       "  <thead>\n",
       "    <tr style=\"text-align: right;\">\n",
       "      <th></th>\n",
       "      <th>0</th>\n",
       "      <th>1</th>\n",
       "      <th>2</th>\n",
       "      <th>3</th>\n",
       "    </tr>\n",
       "  </thead>\n",
       "  <tbody>\n",
       "    <tr>\n",
       "      <th>P(X=x)</th>\n",
       "      <td>0.128</td>\n",
       "      <td>0.372</td>\n",
       "      <td>0.369</td>\n",
       "      <td>0.131</td>\n",
       "    </tr>\n",
       "  </tbody>\n",
       "</table>\n",
       "</div>"
      ],
      "text/plain": [
       "            0      1      2      3\n",
       "P(X=x)  0.128  0.372  0.369  0.131"
      ]
     },
     "execution_count": 10,
     "metadata": {},
     "output_type": "execute_result"
    }
   ],
   "source": [
    "n = 10000 # number of simulations\n",
    "G = np.zeros(4) # store the number of children here\n",
    "\n",
    "for i in range(n): # loop through the simulations\n",
    "    child_1 = random.choice([0,1])\n",
    "    child_2 = random.choice([0,1])\n",
    "    child_3 = random.choice([0,1])\n",
    "    \n",
    "    G[child_1 + child_2 + child_3] += 1\n",
    "    \n",
    "prob_G = np.round(G/n, 3)\n",
    "\n",
    "table = pd.DataFrame(columns=['0', '1', '2', '3'], index = ['P(X=x)'])\n",
    "table.loc['P(X=x)'] = prob_G\n",
    "table"
   ]
  },
  {
   "cell_type": "code",
   "execution_count": 11,
   "id": "41adf5f4-74da-4929-acb7-a896385e12c8",
   "metadata": {},
   "outputs": [
    {
     "data": {
      "image/png": "[encoded data removed]",
      "text/plain": [
       "<Figure size 432x288 with 1 Axes>"
      ]
     },
     "metadata": {
      "needs_background": "light"
     },
     "output_type": "display_data"
    }
   ],
   "source": [
    "plt.figure()\n",
    "plt.bar(x = ['0', '1', '2', '3'], height = [prob_G[0], prob_G[1], prob_G[2], prob_G[3]])\n",
    "plt.show()"
   ]
  },
  {
   "cell_type": "markdown",
   "id": "breathing-austin",
   "metadata": {
    "id": "breathing-austin"
   },
   "source": [
    "### Example 2\n",
    "As the head of inventory for Knowway Computer Company, you were thrilled that you had managed to ship 2 computers to your biggest client the day the order arrived. You are horrified, though, to find out that someone had restocked refurbished computers in with the new computers in your storeroom. The shipped computers were selected randomly from the 15 computers in stock, but 4 of those were actually refurbished.\n",
    "* If your client gets 2 new computers, things are fine.\n",
    "* If the client gets one refurbished computer, it will be sent back at your expense \\$100 and you can replace it.\n",
    "* However, if both computers are refurbished, the client will cancel the order this month and you’ll lose a total of \\$1000.\n",
    "\n",
    "If $L$ is the random variable \"amount of money you lose\", then give the possible values for $L$ and find their probabilities."
   ]
  },
  {
   "cell_type": "code",
   "execution_count": 15,
   "id": "prostate-alert",
   "metadata": {
    "id": "prostate-alert"
   },
   "outputs": [
    {
     "data": {
      "text/html": [
       "<div>\n",
       "<style scoped>\n",
       "    .dataframe tbody tr th:only-of-type {\n",
       "        vertical-align: middle;\n",
       "    }\n",
       "\n",
       "    .dataframe tbody tr th {\n",
       "        vertical-align: top;\n",
       "    }\n",
       "\n",
       "    .dataframe thead th {\n",
       "        text-align: right;\n",
       "    }\n",
       "</style>\n",
       "<table border=\"1\" class=\"dataframe\">\n",
       "  <thead>\n",
       "    <tr style=\"text-align: right;\">\n",
       "      <th></th>\n",
       "      <th>0</th>\n",
       "      <th>100</th>\n",
       "      <th>1000</th>\n",
       "    </tr>\n",
       "  </thead>\n",
       "  <tbody>\n",
       "    <tr>\n",
       "      <th>P(X=x)</th>\n",
       "      <td>0.507</td>\n",
       "      <td>0.43</td>\n",
       "      <td>0.063</td>\n",
       "    </tr>\n",
       "  </tbody>\n",
       "</table>\n",
       "</div>"
      ],
      "text/plain": [
       "            0   100   1000\n",
       "P(X=x)  0.507  0.43  0.063"
      ]
     },
     "execution_count": 15,
     "metadata": {},
     "output_type": "execute_result"
    }
   ],
   "source": [
    "n = 1000 # number of simulations\n",
    "L = np.zeros(3) # initializing the variable L (0=$0 loss, 1=$100 loss, 2=$1000 loss)\n",
    "\n",
    "for i in range(n): # loop thorough the simulations\n",
    "    comps_in_stock = list(range(1,16))\n",
    "    n_ref = 0\n",
    "    \n",
    "    comp_1 = random.choice(comps_in_stock)\n",
    "    comps_in_stock.remove(comp_1)\n",
    "    \n",
    "    comp_2 = random.choice(comps_in_stock)\n",
    "    \n",
    "    if comp_1 <= 4:\n",
    "        n_ref += 1\n",
    "    if comp_2 <= 4:\n",
    "        n_ref += 1\n",
    "        \n",
    "    L[n_ref] += 1\n",
    "    \n",
    "prob_L = np.round(L/n, 3)\n",
    "\n",
    "table = pd.DataFrame(columns=['0', '100', '1000'], index = ['P(X=x)'])\n",
    "table.loc['P(X=x)'] = prob_L\n",
    "table"
   ]
  },
  {
   "cell_type": "code",
   "execution_count": 16,
   "id": "36fb2ed3-d132-4fed-b207-736471fcbb30",
   "metadata": {},
   "outputs": [
    {
     "data": {
      "image/png": "[encoded data removed]",
      "text/plain": [
       "<Figure size 432x288 with 1 Axes>"
      ]
     },
     "metadata": {
      "needs_background": "light"
     },
     "output_type": "display_data"
    }
   ],
   "source": [
    "plt.figure()\n",
    "plt.bar(x = ['0', '100', '1000'], height = [prob_L[0], prob_L[1], prob_L[2]])\n",
    "plt.show()"
   ]
  },
  {
   "cell_type": "code",
   "execution_count": 17,
   "id": "ac79d7e3-7096-45ec-9024-269a969e2750",
   "metadata": {},
   "outputs": [
    {
     "data": {
      "text/html": [
       "<div>\n",
       "<style scoped>\n",
       "    .dataframe tbody tr th:only-of-type {\n",
       "        vertical-align: middle;\n",
       "    }\n",
       "\n",
       "    .dataframe tbody tr th {\n",
       "        vertical-align: top;\n",
       "    }\n",
       "\n",
       "    .dataframe thead th {\n",
       "        text-align: right;\n",
       "    }\n",
       "</style>\n",
       "<table border=\"1\" class=\"dataframe\">\n",
       "  <thead>\n",
       "    <tr style=\"text-align: right;\">\n",
       "      <th></th>\n",
       "      <th>0</th>\n",
       "      <th>100</th>\n",
       "      <th>1000</th>\n",
       "    </tr>\n",
       "  </thead>\n",
       "  <tbody>\n",
       "    <tr>\n",
       "      <th>P(X=x)</th>\n",
       "      <td>0.507</td>\n",
       "      <td>0.43</td>\n",
       "      <td>0.063</td>\n",
       "    </tr>\n",
       "  </tbody>\n",
       "</table>\n",
       "</div>"
      ],
      "text/plain": [
       "            0   100   1000\n",
       "P(X=x)  0.507  0.43  0.063"
      ]
     },
     "metadata": {},
     "output_type": "display_data"
    },
    {
     "data": {
      "image/png": "[encoded data removed]",
      "text/plain": [
       "<Figure size 432x288 with 1 Axes>"
      ]
     },
     "metadata": {
      "needs_background": "light"
     },
     "output_type": "display_data"
    }
   ],
   "source": [
    "n = 1000 # number of simulations\n",
    "L = np.zeros(4) # initializing the variable L (0=$0 loss, 1=$100 loss, 2=$1000 loss)\n",
    "for i in range(n): # loop thorough the simulations\n",
    "    comps_in_stock = list(range(1, 16))\n",
    "    n_ref = 0\n",
    "    comp_1 = random.choice(comps_in_stock)\n",
    "    comps_in_stock.remove(comp_1)\n",
    "    comp_2 = random.choice(comps_in_stock)\n",
    "    comps_in_stock.remove(comp_2)\n",
    "    comp_3 = random.choice(comps_in_stock)\n",
    "    if comp_1 <= 4:\n",
    "        n_ref +=1\n",
    "    if comp_2 <= 4:\n",
    "        n_ref +=1\n",
    "    if comp_3 <= 4:\n",
    "        n_ref +=1\n",
    "    L[n_ref] +=1\n",
    "prob_L = np.round(L/n, 3)\n",
    "talbe = pd.DataFrame(columns = ['$0', '$100', '$1000', '$10000'], index=['P(L=k)'])\n",
    "talbe.loc['P(L=k)'] = prob_L\n",
    "display(table)\n",
    "plt.figure()\n",
    "plt.bar(x = ['$0', '$100', '$1000', '$10000'] , height = [prob_L[0], prob_L[1], prob_L[2], prob_L[3]])\n",
    "plt.title('P(L = $k)')\n",
    "plt.xlabel('amount of money you would lose')\n",
    "plt.ylabel('Probability')\n",
    "plt.show()"
   ]
  },
  {
   "cell_type": "markdown",
   "id": "flush-dialogue",
   "metadata": {
    "id": "flush-dialogue"
   },
   "source": [
    "### Types of random variables\n",
    "* There are two types of random variables that we will discuss in class: **discrete** and **continuous** \n",
    "(*N.B.* it is possible though that it is neither of these, but a discrete \"approximation\" can always be found).\n",
    "* If the outcomes are “listable” (finite or infinitely many of them), then the random variable is **discrete**.\n",
    "* They can be summarized in tables and bar graphs similar\n",
    "* For a random variable $X$ with outcomes $x_1, x_2, \\ldots, x_n$ we label $p_i = P(X = x_i)$.\n",
    "* The sum of the probabilities: $p_1 + p_2 + \\ldots + p_n = 1$ \n",
    "* The function that assigns probabilities to the values of a discrete random variable is called **probability mass function (pmf)**\n",
    "\n",
    "\n",
    "### Expected Value, Variance and Standard Deviation\n",
    "* For a random variable we can define \"mean\" which we call **expected value**, or **expectation**, and label by $E(X)$. In similar analogy with descriptive statistics, we can define **variance** $Var(X)$ and **standard deviation** $\\sigma_X$. THey are given by\n",
    "\n",
    "\\begin{equation}\n",
    "\\begin{array}{rcl}\n",
    "E(X) &=& \\displaystyle\\sum_{i=1}^{n} x_i \\cdot P(X=x_i)\\\\\n",
    "Var(X) &=& \\displaystyle\\sum_{i=1}^{n} \\Big(x_i - E(X) \\Big)^2 \\cdot P(X=x_i)\\\\\n",
    "\\sigma_X &=& \\sqrt{Var(X)}\n",
    "\\end{array}\n",
    "\\end{equation}\n",
    "\n",
    "\n",
    "### Example 3\n",
    "Calculate the $E(L)$, $Var(L)$ and $\\sigma_L$ for the random variable $L$ in **Example 2**"
   ]
  },
  {
   "cell_type": "code",
   "execution_count": null,
   "id": "bigger-rating",
   "metadata": {
    "id": "bigger-rating"
   },
   "outputs": [],
   "source": [
    "possible_losses = np.array([0, 100, 1000]) # define the losses l_i\n"
   ]
  },
  {
   "cell_type": "markdown",
   "id": "nonprofit-forest",
   "metadata": {
    "id": "nonprofit-forest"
   },
   "source": [
    "### Continuous Random Variables\n",
    "\n",
    "* In some cases, outcomes cannot be listed, e.g. measuring heights or weights of people\n",
    "* In such cases the random variables we work with are called **continuous random variables**\n",
    "* The role of the pmf is taken by a **probability density function (pdf)**\n",
    "* The pdf, say $f(x)$, has a property that\n",
    "\\begin{equation} \\int_{-\\infty}^{+\\infty} f(x)\\, dx = 1\\end{equation}\n",
    "* Let $X$ be a continuous random variable and let $[a, b]$ be an interval of possible outcomes. We define the probability that $X \\in [a, b]$, or $a \\leqslant X \\leqslant b$, by\n",
    "\\begin{equation}\n",
    "P(X \\in [a, b]) = P(a \\leqslant X \\leqslant b) = \\int_a^b f(x)\\, dx\n",
    "\\end{equation}\n",
    "\n",
    "### Example 4\n",
    "Let $X$ be a random variable such that $X \\in [0, 1]$, and the pdf is given by\n",
    "\\begin{equation}f(x) = \\frac{15}{2} x^2 (1-x^2)\\end{equation}\n",
    "* Show that that $f(x)$ is really a pdf, i.e. that $P(0 \\leqslant X \\leqslant 1) = 1$\n",
    "* Find the probability that $X \\in [0.5, 0.8]$"
   ]
  },
  {
   "cell_type": "code",
   "execution_count": null,
   "id": "active-juvenile",
   "metadata": {
    "id": "active-juvenile"
   },
   "outputs": [],
   "source": [
    "# Use SymPy"
   ]
  },
  {
   "cell_type": "markdown",
   "id": "radio-chassis",
   "metadata": {
    "id": "radio-chassis"
   },
   "source": [
    "### Expected Value, Variance and Standard Deviation for continuous variables\n",
    "* For a random variable $X$ with a pdf $f(x)$, we define the expected value$E(X)$, the variance $Var(X)$ and the standard deviation $\\sigma_X$ as\n",
    "\\begin{equation}\n",
    "\\begin{array}{rcl}\n",
    "E(X) &=& \\displaystyle\\int_{-\\infty}^{+\\infty} x \\cdot f(x)\\, dx\\\\\n",
    "Var(X) &=& \\displaystyle\\int_{-\\infty}^{+\\infty} \\Big(x - E(X) \\Big)^2 \\cdot f(x)\\, dx\\\\\n",
    "\\sigma_X &=& \\sqrt{Var(X)}\n",
    "\\end{array}\n",
    "\\end{equation}\n",
    "\n",
    "**Notes:**\n",
    "* The $E(X)$ and $Var(X)$ exists only if the integral returns a finite value\n",
    "* Instead of infinite boundaries, we will be using the smallest and largest value that the pdf can take\n",
    "\n",
    "### Example 5\n",
    "For the random variable $X$ given in **Example 4** calculate the expectation, the variance and the standard deviation"
   ]
  },
  {
   "cell_type": "code",
   "execution_count": null,
   "id": "moving-companion",
   "metadata": {
    "id": "moving-companion"
   },
   "outputs": [],
   "source": [
    "# Use SymPy"
   ]
  },
  {
   "cell_type": "markdown",
   "id": "dramatic-neighborhood",
   "metadata": {
    "id": "dramatic-neighborhood"
   },
   "source": [
    "### Practice #1\n",
    "A magazine store recorded the number of magazines purchased by its customers in one week. 23% purchased one magazine, 38% purchased two, 21% purchased three, 13% purchased four, and 5% purchased five. Let $X$ be “number of magazines sold”.\n",
    "* Make a probability table for the random variable.\n",
    "* Graph the probability distribution."
   ]
  },
  {
   "cell_type": "code",
   "execution_count": null,
   "id": "modern-gender",
   "metadata": {
    "id": "modern-gender"
   },
   "outputs": [],
   "source": []
  },
  {
   "cell_type": "markdown",
   "id": "random-amendment",
   "metadata": {
    "id": "random-amendment"
   },
   "source": [
    "### Practice #2\n",
    "A continuous random variable $X$ has a pdf $f(x)$ given by\n",
    "\\begin{equation}\n",
    "f(x) = 6(x - x^2)\n",
    "\\end{equation}\n",
    "for $x \\in [0, 1]$. Calculate:\n",
    "* $P(0.2 \\leqslant X \\leqslant 0.8)$\n",
    "* $P(X \\leqslant 0.7)$\n",
    "* $P(X \\geqslant 0.9)$\n",
    "* $\\sigma_X$"
   ]
  },
  {
   "cell_type": "code",
   "execution_count": null,
   "id": "geological-approval",
   "metadata": {
    "id": "geological-approval"
   },
   "outputs": [],
   "source": []
  }
 ],
 "metadata": {
  "colab": {
   "name": "Week 5, Day 1 (Random Variables and Probability Distributions) CLEAN.ipynb",
   "provenance": []
  },
  "kernelspec": {
   "display_name": "Python 3",
   "language": "python",
   "name": "python3"
  },
  "language_info": {
   "codemirror_mode": {
    "name": "ipython",
    "version": 3
   },
   "file_extension": ".py",
   "mimetype": "text/x-python",
   "name": "python",
   "nbconvert_exporter": "python",
   "pygments_lexer": "ipython3",
   "version": "3.8.8"
  }
 },
 "nbformat": 4,
 "nbformat_minor": 5
}
