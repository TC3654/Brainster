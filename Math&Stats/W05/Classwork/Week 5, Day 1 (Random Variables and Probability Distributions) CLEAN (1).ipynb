{
 "cells": [
  {
   "cell_type": "markdown",
   "id": "accessible-strength",
   "metadata": {
    "id": "accessible-strength"
   },
   "source": [
    "# Week 5: Probability Distributions"
   ]
  },
  {
   "cell_type": "code",
   "execution_count": 1,
   "id": "significant-jurisdiction",
   "metadata": {
    "executionInfo": {
     "elapsed": 2852,
     "status": "ok",
     "timestamp": 1628872097479,
     "user": {
      "displayName": "Marko",
      "photoUrl": "",
      "userId": "10739355790133053471"
     },
     "user_tz": -120
    },
    "id": "significant-jurisdiction"
   },
   "outputs": [],
   "source": [
    "# Loading the libraries\n",
    "import numpy as np\n",
    "import sympy as sy\n",
    "import pandas as pd\n",
    "import matplotlib.pyplot as plt\n",
    "import seaborn as sns\n",
    "import scipy.stats as stats\n",
    "import random"
   ]
  },
  {
   "cell_type": "markdown",
   "id": "competitive-world",
   "metadata": {
    "id": "competitive-world"
   },
   "source": [
    "## Day 3: Random Variables & Probability Distributions\n",
    "\n",
    "* Let us toss a fair coin. Two outcomes are possible: **H** or **T**. Let us introduce a variable $X$ that will count the number of **H** when tossing.\n",
    "* $X \\in \\{0, 1\\}$ -- there are two possible values for $X$:\n",
    "    * $X = 0$ means that **H** has not occurred\n",
    "    * $X = 1$ means that **H** has occurred\n",
    "\n",
    "We can summarize the outcomes in a table or on a bar graph"
   ]
  },
  {
   "cell_type": "code",
   "execution_count": 2,
   "id": "sunset-queensland",
   "metadata": {
    "colab": {
     "base_uri": "https://localhost:8080/",
     "height": 358
    },
    "executionInfo": {
     "elapsed": 305,
     "status": "ok",
     "timestamp": 1628526125804,
     "user": {
      "displayName": "Marko",
      "photoUrl": "",
      "userId": "10739355790133053471"
     },
     "user_tz": -120
    },
    "id": "sunset-queensland",
    "outputId": "38bce4a7-115c-42b6-a7a3-5d42590975a4"
   },
   "outputs": [
    {
     "data": {
      "text/html": [
       "<div>\n",
       "<style scoped>\n",
       "    .dataframe tbody tr th:only-of-type {\n",
       "        vertical-align: middle;\n",
       "    }\n",
       "\n",
       "    .dataframe tbody tr th {\n",
       "        vertical-align: top;\n",
       "    }\n",
       "\n",
       "    .dataframe thead th {\n",
       "        text-align: right;\n",
       "    }\n",
       "</style>\n",
       "<table border=\"1\" class=\"dataframe\">\n",
       "  <thead>\n",
       "    <tr style=\"text-align: right;\">\n",
       "      <th></th>\n",
       "      <th>0</th>\n",
       "      <th>1</th>\n",
       "    </tr>\n",
       "  </thead>\n",
       "  <tbody>\n",
       "    <tr>\n",
       "      <th>P(X=x)</th>\n",
       "      <td>0.5</td>\n",
       "      <td>0.5</td>\n",
       "    </tr>\n",
       "  </tbody>\n",
       "</table>\n",
       "</div>"
      ],
      "text/plain": [
       "          0    1\n",
       "P(X=x)  0.5  0.5"
      ]
     },
     "metadata": {},
     "output_type": "display_data"
    },
    {
     "data": {
      "image/png": "[encoded data removed]",
      "text/plain": [
       "<Figure size 432x288 with 1 Axes>"
      ]
     },
     "metadata": {
      "needs_background": "light"
     },
     "output_type": "display_data"
    }
   ],
   "source": [
    "table = pd.DataFrame(columns= ['0', ' 1'], index = ['P(X=x)'])\n",
    "\n",
    "table.loc['P(X=x)'] = [0.5, 0.5]\n",
    "\n",
    "display(table)\n",
    "\n",
    "plt.figure()\n",
    "plt.bar(x = ['0', '1'], height = [0.5, 0.5])\n",
    "plt.title('P(X = x)')\n",
    "plt.xlabel('# of heads in 1 toss')\n",
    "plt.ylabel('probability')\n",
    "plt.show()"
   ]
  },
  {
   "cell_type": "markdown",
   "id": "under-industry",
   "metadata": {
    "id": "under-industry"
   },
   "source": [
    "* The variable defined in this way, as a set of values and **likelihoods** assigned to the possible values, is called a **random variable**\n",
    "* Strictly speaking, a random variable is a function that assigns likelihoods to all possible values in an experiment/trial\n",
    "\n",
    "### Example 1\n",
    "A couple plans to have two children. Let $G$ be the random variable “number of girls the couple has”. If there is an equal probability of a child to be a boy or a girl, define the possible values of $G$ and calculate the probabolity for each of them. Then represent the results in a table and on a bar graph."
   ]
  },
  {
   "cell_type": "code",
   "execution_count": 3,
   "id": "committed-certificate",
   "metadata": {
    "colab": {
     "base_uri": "https://localhost:8080/",
     "height": 358
    },
    "executionInfo": {
     "elapsed": 403,
     "status": "ok",
     "timestamp": 1628526895365,
     "user": {
      "displayName": "Marko",
      "photoUrl": "",
      "userId": "10739355790133053471"
     },
     "user_tz": -120
    },
    "id": "committed-certificate",
    "outputId": "d57022d1-af83-489d-bf0b-bca5eed5d460"
   },
   "outputs": [
    {
     "data": {
      "text/html": [
       "<div>\n",
       "<style scoped>\n",
       "    .dataframe tbody tr th:only-of-type {\n",
       "        vertical-align: middle;\n",
       "    }\n",
       "\n",
       "    .dataframe tbody tr th {\n",
       "        vertical-align: top;\n",
       "    }\n",
       "\n",
       "    .dataframe thead th {\n",
       "        text-align: right;\n",
       "    }\n",
       "</style>\n",
       "<table border=\"1\" class=\"dataframe\">\n",
       "  <thead>\n",
       "    <tr style=\"text-align: right;\">\n",
       "      <th></th>\n",
       "      <th>0</th>\n",
       "      <th>1</th>\n",
       "      <th>2</th>\n",
       "    </tr>\n",
       "  </thead>\n",
       "  <tbody>\n",
       "    <tr>\n",
       "      <th>P(X=x)</th>\n",
       "      <td>0.247</td>\n",
       "      <td>0.503</td>\n",
       "      <td>0.25</td>\n",
       "    </tr>\n",
       "  </tbody>\n",
       "</table>\n",
       "</div>"
      ],
      "text/plain": [
       "            0      1     2\n",
       "P(X=x)  0.247  0.503  0.25"
      ]
     },
     "metadata": {},
     "output_type": "display_data"
    },
    {
     "data": {
      "image/png": "[encoded data removed]",
      "text/plain": [
       "<Figure size 432x288 with 1 Axes>"
      ]
     },
     "metadata": {
      "needs_background": "light"
     },
     "output_type": "display_data"
    }
   ],
   "source": [
    "# There are 3 possible values of G: \n",
    "\n",
    "n = 10000 # number of simulations\n",
    "G = np.zeros(3) # store the number of children here\n",
    "\n",
    "for i in range(n): # loop through the simulations\n",
    "  child_1 = random.choice([0,1]) # 1 - girl , 0 - boy\n",
    "  child_2 = random.choice([0,1])\n",
    "  G[child_1 + child_2] += 1\n",
    "\n",
    "prob_G = np.round(G/n, 3)\n",
    "\n",
    "table = pd.DataFrame(columns = ['0', '1', '2'], index=['P(X=x)'])\n",
    "table.loc['P(X=x)'] = prob_G\n",
    "display(table)\n",
    "plt.figure()\n",
    "plt.bar(x = ['0', '1', '2'], height = [prob_G[0], prob_G[1], prob_G[2]])\n",
    "plt.title('P(X = x)')\n",
    "plt.xlabel('# of girls if a couple has 2 children')\n",
    "plt.ylabel('probability')\n",
    "plt.show()"
   ]
  },
  {
   "cell_type": "markdown",
   "id": "njbk0YsIxV1N",
   "metadata": {
    "id": "njbk0YsIxV1N"
   },
   "source": [
    "### Example 1b\n",
    "A couple plans to have three children. Let $G$ be the random variable “number of girls the couple has”. If there is an equal probability of a child to be a boy or a girl, define the possible values of $G$ and calculate the probabolity for each of them. Then represent the results in a table and on a bar graph."
   ]
  },
  {
   "cell_type": "code",
   "execution_count": 4,
   "id": "XngbVWbMxc8E",
   "metadata": {
    "colab": {
     "base_uri": "https://localhost:8080/",
     "height": 328
    },
    "executionInfo": {
     "elapsed": 307,
     "status": "ok",
     "timestamp": 1628527303444,
     "user": {
      "displayName": "Marko",
      "photoUrl": "",
      "userId": "10739355790133053471"
     },
     "user_tz": -120
    },
    "id": "XngbVWbMxc8E",
    "outputId": "8cdb3905-f822-4506-e8c2-bbd7dd182bcd"
   },
   "outputs": [
    {
     "data": {
      "text/html": [
       "<div>\n",
       "<style scoped>\n",
       "    .dataframe tbody tr th:only-of-type {\n",
       "        vertical-align: middle;\n",
       "    }\n",
       "\n",
       "    .dataframe tbody tr th {\n",
       "        vertical-align: top;\n",
       "    }\n",
       "\n",
       "    .dataframe thead th {\n",
       "        text-align: right;\n",
       "    }\n",
       "</style>\n",
       "<table border=\"1\" class=\"dataframe\">\n",
       "  <thead>\n",
       "    <tr style=\"text-align: right;\">\n",
       "      <th></th>\n",
       "      <th>0</th>\n",
       "      <th>1</th>\n",
       "      <th>2</th>\n",
       "      <th>3</th>\n",
       "    </tr>\n",
       "  </thead>\n",
       "  <tbody>\n",
       "    <tr>\n",
       "      <th>P(X=x)</th>\n",
       "      <td>0.1254</td>\n",
       "      <td>0.3754</td>\n",
       "      <td>0.3724</td>\n",
       "      <td>0.1268</td>\n",
       "    </tr>\n",
       "  </tbody>\n",
       "</table>\n",
       "</div>"
      ],
      "text/plain": [
       "             0       1       2       3\n",
       "P(X=x)  0.1254  0.3754  0.3724  0.1268"
      ]
     },
     "metadata": {},
     "output_type": "display_data"
    },
    {
     "data": {
      "image/png": "[encoded data removed]",
      "text/plain": [
       "<Figure size 432x288 with 1 Axes>"
      ]
     },
     "metadata": {
      "needs_background": "light"
     },
     "output_type": "display_data"
    }
   ],
   "source": [
    "n = 10000 # number of simulations\n",
    "G = np.zeros(4) # store the number of children here\n",
    "for i in range(n): # loop through the simulations\n",
    "    child_1 = random.choice([0,1]) # 1 - girl, 0 - boy\n",
    "    child_2 = random.choice([0,1])\n",
    "    child_3 = random.choice([0,1])\n",
    "    G[child_1 + child_2 + child_3] += 1\n",
    "prob_G = np.round(G/n, 4)\n",
    "table = pd.DataFrame(columns = ['0', '1', '2', '3'], index = ['P(X=x)'])\n",
    "table.loc['P(X=x)'] = prob_G\n",
    "display(table)\n",
    "plt.figure()\n",
    "plt.bar(x = ['0', '1', '2', '3'], height = [prob_G[0], prob_G[1], prob_G[2], prob_G[3]])\n",
    "plt.show()"
   ]
  },
  {
   "cell_type": "markdown",
   "id": "breathing-austin",
   "metadata": {
    "id": "breathing-austin"
   },
   "source": [
    "### Example 2\n",
    "As the head of inventory for Knowway Computer Company, you were thrilled that you had managed to ship 2 computers to your biggest client the day the order arrived. You are horrified, though, to find out that someone had restocked refurbished computers in with the new computers in your storeroom. The shipped computers were selected randomly from the 15 computers in stock, but 4 of those were actually refurbished.\n",
    "* If your client gets 2 new computers, things are fine.\n",
    "* If the client gets one refurbished computer, it will be sent back at your expense \\$100 and you can replace it.\n",
    "* However, if both computers are refurbished, the client will cancel the order this month and you’ll lose a total of \\$1000.\n",
    "\n",
    "If $L$ is the random variable \"amount of money you lose\", then give the possible values for $L$ and find their probabilities."
   ]
  },
  {
   "cell_type": "code",
   "execution_count": 5,
   "id": "prostate-alert",
   "metadata": {
    "colab": {
     "base_uri": "https://localhost:8080/",
     "height": 358
    },
    "executionInfo": {
     "elapsed": 290,
     "status": "ok",
     "timestamp": 1628531234135,
     "user": {
      "displayName": "Marko",
      "photoUrl": "",
      "userId": "10739355790133053471"
     },
     "user_tz": -120
    },
    "id": "prostate-alert",
    "outputId": "f384614b-ec90-4a0e-9734-c94cfa55d5b9"
   },
   "outputs": [
    {
     "data": {
      "text/html": [
       "<div>\n",
       "<style scoped>\n",
       "    .dataframe tbody tr th:only-of-type {\n",
       "        vertical-align: middle;\n",
       "    }\n",
       "\n",
       "    .dataframe tbody tr th {\n",
       "        vertical-align: top;\n",
       "    }\n",
       "\n",
       "    .dataframe thead th {\n",
       "        text-align: right;\n",
       "    }\n",
       "</style>\n",
       "<table border=\"1\" class=\"dataframe\">\n",
       "  <thead>\n",
       "    <tr style=\"text-align: right;\">\n",
       "      <th></th>\n",
       "      <th>$0</th>\n",
       "      <th>$100</th>\n",
       "      <th>$1000</th>\n",
       "    </tr>\n",
       "  </thead>\n",
       "  <tbody>\n",
       "    <tr>\n",
       "      <th>P(L=k)</th>\n",
       "      <td>0.526</td>\n",
       "      <td>0.418</td>\n",
       "      <td>0.056</td>\n",
       "    </tr>\n",
       "  </tbody>\n",
       "</table>\n",
       "</div>"
      ],
      "text/plain": [
       "           $0   $100  $1000\n",
       "P(L=k)  0.526  0.418  0.056"
      ]
     },
     "metadata": {},
     "output_type": "display_data"
    },
    {
     "data": {
      "image/png": "[encoded data removed]",
      "text/plain": [
       "<Figure size 432x288 with 1 Axes>"
      ]
     },
     "metadata": {
      "needs_background": "light"
     },
     "output_type": "display_data"
    }
   ],
   "source": [
    "n = 20000 # number of simulations\n",
    "L = np.zeros(3) # initializing the variable L (0=$0 loss, 1=$100 loss, 2=$1000 loss)\n",
    "\n",
    "for i in range(n): # loop thorough the simulations\n",
    "  comps_in_stock = list(range(1,16)) #labeled computers 1-15; 1,2,3,4 are refurbished computers\n",
    "  n_ref = 0 #number of refurbished computers\n",
    "\n",
    "  comp_1 = random.choice(comps_in_stock) #choose the first computer\n",
    "  comps_in_stock.remove(comp_1) #remove it from the pool\n",
    "\n",
    "  comp_2 = random.choice(comps_in_stock) #choose another one\n",
    "\n",
    "  if comp_1 <= 4:\n",
    "    n_ref +=1\n",
    "  if comp_2 <= 4:\n",
    "    n_ref +=1\n",
    "\n",
    "  L[n_ref] +=1 \n",
    "\n",
    "prob_L = np.round(L/n, 3)\n",
    "\n",
    "table = pd.DataFrame(columns=['$0', '$100', '$1000'], index=['P(L=k)'])\n",
    "table.loc['P(L=k)'] = prob_L\n",
    "display(table)\n",
    "\n",
    "\n",
    "plt.figure()\n",
    "plt.bar(x = ['$0', '$100', '$1000'], height = [prob_L[0], prob_L[1], prob_L[2]])\n",
    "plt.title('P(L = $k)')\n",
    "plt.xlabel('amount of money you would lose')\n",
    "plt.ylabel('probability')\n",
    "plt.show()"
   ]
  },
  {
   "cell_type": "code",
   "execution_count": 6,
   "id": "v2oW5ovP58Bv",
   "metadata": {
    "colab": {
     "base_uri": "https://localhost:8080/",
     "height": 358
    },
    "executionInfo": {
     "elapsed": 589,
     "status": "ok",
     "timestamp": 1628529358649,
     "user": {
      "displayName": "Marko",
      "photoUrl": "",
      "userId": "10739355790133053471"
     },
     "user_tz": -120
    },
    "id": "v2oW5ovP58Bv",
    "outputId": "e1a3789a-86d4-453d-b67c-30a1bbf39997"
   },
   "outputs": [
    {
     "data": {
      "text/html": [
       "<div>\n",
       "<style scoped>\n",
       "    .dataframe tbody tr th:only-of-type {\n",
       "        vertical-align: middle;\n",
       "    }\n",
       "\n",
       "    .dataframe tbody tr th {\n",
       "        vertical-align: top;\n",
       "    }\n",
       "\n",
       "    .dataframe thead th {\n",
       "        text-align: right;\n",
       "    }\n",
       "</style>\n",
       "<table border=\"1\" class=\"dataframe\">\n",
       "  <thead>\n",
       "    <tr style=\"text-align: right;\">\n",
       "      <th></th>\n",
       "      <th>$0</th>\n",
       "      <th>$100</th>\n",
       "      <th>$1000</th>\n",
       "    </tr>\n",
       "  </thead>\n",
       "  <tbody>\n",
       "    <tr>\n",
       "      <th>P(L=k)</th>\n",
       "      <td>0.544</td>\n",
       "      <td>0.386</td>\n",
       "      <td>0.07</td>\n",
       "    </tr>\n",
       "  </tbody>\n",
       "</table>\n",
       "</div>"
      ],
      "text/plain": [
       "           $0   $100 $1000\n",
       "P(L=k)  0.544  0.386  0.07"
      ]
     },
     "metadata": {},
     "output_type": "display_data"
    },
    {
     "data": {
      "image/png": "[encoded data removed]",
      "text/plain": [
       "<Figure size 432x288 with 1 Axes>"
      ]
     },
     "metadata": {
      "needs_background": "light"
     },
     "output_type": "display_data"
    }
   ],
   "source": [
    "n = 20000 # number of simulations\n",
    "L = np.zeros(3) # initializing the variable L (0=$0 loss, 1=$100 loss, 2=$1000 loss)\n",
    "\n",
    "for i in range(n): # loop thorough the simulations\n",
    "  comps_in_stock = list(range(1,16)) #labeled computers 1-15; 1,2,3,4 are refurbished computers\n",
    "  n_ref = 0 #number of refurbished computers\n",
    "\n",
    "  comp_1 = random.choice(comps_in_stock) #choose the first computer\n",
    " # comps_in_stock.remove(comp_1) #remove it from the pool\n",
    "\n",
    "  comp_2 = random.choice(comps_in_stock) #choose another one\n",
    "\n",
    "  if comp_1 <= 4:\n",
    "    n_ref +=1\n",
    "  if comp_2 <= 4:\n",
    "    n_ref +=1\n",
    "\n",
    "  L[n_ref] +=1 \n",
    "\n",
    "prob_L = np.round(L/n, 3)\n",
    "\n",
    "table = pd.DataFrame(columns=['$0', '$100', '$1000'], index=['P(L=k)'])\n",
    "table.loc['P(L=k)'] = prob_L\n",
    "display(table)\n",
    "\n",
    "\n",
    "plt.figure()\n",
    "plt.bar(x = ['$0', '$100', '$1000'], height = [prob_L[0], prob_L[1], prob_L[2]])\n",
    "plt.title('P(L = $k)')\n",
    "plt.xlabel('amount of money you would lose')\n",
    "plt.ylabel('probability')\n",
    "plt.show()"
   ]
  },
  {
   "cell_type": "markdown",
   "id": "FFx0wLbu1lBS",
   "metadata": {
    "id": "FFx0wLbu1lBS"
   },
   "source": [
    "### Example 2b\n",
    "As the head of inventory for Knowway Computer Company, you were thrilled that you had managed to ship 3 computers to your biggest client the day the order arrived. You are horrified, though, to find out that someone had restocked refurbished computers in with the new computers in your storeroom. The shipped computers were selected randomly from the 15 computers in stock, but 4 of those were actually refurbished.\n",
    "* If your client gets 2 new computers, things are fine.\n",
    "* If the client gets one refurbished computer, it will be sent back at your expense \\$100 and you can replace it.\n",
    "* However, if 2 computers are refurbished, the client will cancel the order this month and you’ll lose a total of \\$1000.\n",
    "* However, if the three are refurbished, the client will cancel the order this year and you’ll lose a total of \\$10000.\n",
    "\n",
    "If $L$ is the random variable \"amount of money you lose\", then give the possible values for $L$ and find their probabilities."
   ]
  },
  {
   "cell_type": "code",
   "execution_count": 7,
   "id": "H-gI_7eB1zq2",
   "metadata": {
    "id": "H-gI_7eB1zq2"
   },
   "outputs": [
    {
     "data": {
      "text/html": [
       "<div>\n",
       "<style scoped>\n",
       "    .dataframe tbody tr th:only-of-type {\n",
       "        vertical-align: middle;\n",
       "    }\n",
       "\n",
       "    .dataframe tbody tr th {\n",
       "        vertical-align: top;\n",
       "    }\n",
       "\n",
       "    .dataframe thead th {\n",
       "        text-align: right;\n",
       "    }\n",
       "</style>\n",
       "<table border=\"1\" class=\"dataframe\">\n",
       "  <thead>\n",
       "    <tr style=\"text-align: right;\">\n",
       "      <th></th>\n",
       "      <th>$0</th>\n",
       "      <th>$100</th>\n",
       "      <th>$1000</th>\n",
       "    </tr>\n",
       "  </thead>\n",
       "  <tbody>\n",
       "    <tr>\n",
       "      <th>P(L=k)</th>\n",
       "      <td>0.544</td>\n",
       "      <td>0.386</td>\n",
       "      <td>0.07</td>\n",
       "    </tr>\n",
       "  </tbody>\n",
       "</table>\n",
       "</div>"
      ],
      "text/plain": [
       "           $0   $100 $1000\n",
       "P(L=k)  0.544  0.386  0.07"
      ]
     },
     "metadata": {},
     "output_type": "display_data"
    },
    {
     "data": {
      "image/png": "[encoded data removed]",
      "text/plain": [
       "<Figure size 432x288 with 1 Axes>"
      ]
     },
     "metadata": {
      "needs_background": "light"
     },
     "output_type": "display_data"
    }
   ],
   "source": [
    "n = 1000 # number of simulations\n",
    "L = np.zeros(4) # initializing the variable L (0=$0 loss, 1=$100 loss, 2=$1000 loss)\n",
    "for i in range(n): # loop thorough the simulations\n",
    "    comps_in_stock = list(range(1, 16))\n",
    "    n_ref = 0\n",
    "    comp_1 = random.choice(comps_in_stock)\n",
    "    comps_in_stock.remove(comp_1)\n",
    "    comp_2 = random.choice(comps_in_stock)\n",
    "    comps_in_stock.remove(comp_2)\n",
    "    comp_3 = random.choice(comps_in_stock)\n",
    "    if comp_1 <= 4:\n",
    "        n_ref +=1\n",
    "    if comp_2 <= 4:\n",
    "        n_ref +=1\n",
    "    if comp_3 <= 4:\n",
    "        n_ref +=1\n",
    "    L[n_ref] +=1\n",
    "prob_L = np.round(L/n, 3)\n",
    "talbe = pd.DataFrame(columns = ['$0', '$100', '$1000', '$10000'], index=['P(L=k)'])\n",
    "talbe.loc['P(L=k)'] = prob_L\n",
    "display(table)\n",
    "plt.figure()\n",
    "plt.bar(x = ['$0', '$100', '$1000', '$10000'] , height = [prob_L[0], prob_L[1], prob_L[2], prob_L[3]])\n",
    "plt.title('P(L = $k)')\n",
    "plt.xlabel('amount of money you would lose')\n",
    "plt.ylabel('Probability')\n",
    "plt.show()"
   ]
  },
  {
   "cell_type": "markdown",
   "id": "flush-dialogue",
   "metadata": {
    "id": "flush-dialogue"
   },
   "source": [
    "### Types of random variables\n",
    "* There are two types of random variables that we will discuss in class: **discrete** and **continuous** \n",
    "(*N.B.* it is possible though that it is neither of these, but a discrete \"approximation\" can always be found).\n",
    "* If the outcomes are “listable” (finite or infinitely many of them), then the random variable is **discrete**.\n",
    "* They can be summarized in tables and bar graphs similar\n",
    "* For a random variable $X$ with outcomes $x_1, x_2, \\ldots, x_n$ we label $p_i = P(X = x_i)$.\n",
    "* The sum of the probabilities: $p_1 + p_2 + \\ldots + p_n = 1$ \n",
    "* The function that assigns probabilities to the values of a discrete random variable is called **probability mass function (pmf)**\n",
    "\n",
    "\n",
    "### Expected Value, Variance and Standard Deviation\n",
    "* For a random variable we can define \"mean\" which we call **expected value**, or **expectation**, and label by $E(X)$. In similar analogy with descriptive statistics, we can define **variance** $Var(X)$ and **standard deviation** $\\sigma_X$. THey are given by\n",
    "\n",
    "\\begin{equation}\n",
    "\\begin{array}{rcl}\n",
    "E(X) &=& \\displaystyle\\sum_{i=1}^{n} x_i \\cdot P(X=x_i)\\\\\n",
    "Var(X) &=& \\displaystyle\\sum_{i=1}^{n} \\Big(x_i - E(X) \\Big)^2 \\cdot P(X=x_i)\\\\\n",
    "\\sigma_X &=& \\sqrt{Var(X)}\n",
    "\\end{array}\n",
    "\\end{equation}\n",
    "\n",
    "\n",
    "### Example 3\n",
    "Calculate the $E(L)$, $Var(L)$ and $\\sigma_L$ for the random variable $L$ in **Example 2**"
   ]
  },
  {
   "cell_type": "code",
   "execution_count": 13,
   "id": "bigger-rating",
   "metadata": {
    "colab": {
     "base_uri": "https://localhost:8080/"
    },
    "executionInfo": {
     "elapsed": 272,
     "status": "ok",
     "timestamp": 1628531334670,
     "user": {
      "displayName": "Marko",
      "photoUrl": "",
      "userId": "10739355790133053471"
     },
     "user_tz": -120
    },
    "id": "bigger-rating",
    "outputId": "d31c3751-3ed1-4e25-9a7d-f47b2628aa3e"
   },
   "outputs": [
    {
     "ename": "ValueError",
     "evalue": "operands could not be broadcast together with shapes (3,) (4,) ",
     "output_type": "error",
     "traceback": [
      "\u001b[1;31m---------------------------------------------------------------------------\u001b[0m",
      "\u001b[1;31mValueError\u001b[0m                                Traceback (most recent call last)",
      "\u001b[1;32m<ipython-input-13-ea1f1b3f393b>\u001b[0m in \u001b[0;36m<module>\u001b[1;34m\u001b[0m\n\u001b[0;32m      1\u001b[0m \u001b[0mpossible_losses\u001b[0m \u001b[1;33m=\u001b[0m \u001b[0mnp\u001b[0m\u001b[1;33m.\u001b[0m\u001b[0marray\u001b[0m\u001b[1;33m(\u001b[0m\u001b[1;33m[\u001b[0m\u001b[1;36m0\u001b[0m\u001b[1;33m,\u001b[0m \u001b[1;36m100\u001b[0m\u001b[1;33m,\u001b[0m \u001b[1;36m1000\u001b[0m\u001b[1;33m]\u001b[0m\u001b[1;33m)\u001b[0m \u001b[1;31m# define the losses l_i\u001b[0m\u001b[1;33m\u001b[0m\u001b[1;33m\u001b[0m\u001b[0m\n\u001b[1;32m----> 2\u001b[1;33m \u001b[0mexp_L\u001b[0m \u001b[1;33m=\u001b[0m \u001b[0mnp\u001b[0m\u001b[1;33m.\u001b[0m\u001b[0msum\u001b[0m\u001b[1;33m(\u001b[0m\u001b[0mpossible_losses\u001b[0m\u001b[1;33m*\u001b[0m\u001b[0mprob_L\u001b[0m\u001b[1;33m)\u001b[0m\u001b[1;33m\u001b[0m\u001b[1;33m\u001b[0m\u001b[0m\n\u001b[0m\u001b[0;32m      3\u001b[0m \u001b[1;33m\u001b[0m\u001b[0m\n\u001b[0;32m      4\u001b[0m \u001b[0mvar_L\u001b[0m \u001b[1;33m=\u001b[0m \u001b[0mnp\u001b[0m\u001b[1;33m.\u001b[0m\u001b[0msum\u001b[0m\u001b[1;33m(\u001b[0m\u001b[1;33m(\u001b[0m\u001b[0mpossible_losses\u001b[0m \u001b[1;33m-\u001b[0m \u001b[0mexp_L\u001b[0m\u001b[1;33m)\u001b[0m\u001b[1;33m**\u001b[0m\u001b[1;36m2\u001b[0m \u001b[1;33m*\u001b[0m \u001b[0mprob_L\u001b[0m\u001b[1;33m)\u001b[0m\u001b[1;33m\u001b[0m\u001b[1;33m\u001b[0m\u001b[0m\n\u001b[0;32m      5\u001b[0m \u001b[1;33m\u001b[0m\u001b[0m\n",
      "\u001b[1;31mValueError\u001b[0m: operands could not be broadcast together with shapes (3,) (4,) "
     ]
    }
   ],
   "source": [
    "possible_losses = np.array([0, 100, 1000]) # define the losses l_i\n",
    "exp_L = np.sum(possible_losses*prob_L)\n",
    "\n",
    "var_L = np.sum((possible_losses - exp_L)**2 * prob_L)\n",
    "\n",
    "#std_dev_L = np.sqrt(var_L)\n",
    "\n",
    "print('E(L)=', exp_L)\n",
    "print('Var(L)=', var_L)\n",
    "print('StdDev(L)=', np.sqrt(var_L))"
   ]
  },
  {
   "cell_type": "markdown",
   "id": "1-erMtTWEWtq",
   "metadata": {
    "id": "1-erMtTWEWtq"
   },
   "source": [
    "Do the same but for example 1 (or 1b)\n"
   ]
  },
  {
   "cell_type": "code",
   "execution_count": 9,
   "id": "Em8RlZihEV6Z",
   "metadata": {
    "colab": {
     "base_uri": "https://localhost:8080/"
    },
    "executionInfo": {
     "elapsed": 284,
     "status": "ok",
     "timestamp": 1628532193232,
     "user": {
      "displayName": "Marko",
      "photoUrl": "",
      "userId": "10739355790133053471"
     },
     "user_tz": -120
    },
    "id": "Em8RlZihEV6Z",
    "outputId": "f412b7b0-da05-451a-c214-82804292b7a8"
   },
   "outputs": [
    {
     "name": "stdout",
     "output_type": "stream",
     "text": [
      "E(G)= 1.5006\n",
      "Var(G)= 0.7543996399999999\n",
      "StdDev(G)= 0.8685618227852292\n"
     ]
    }
   ],
   "source": [
    "possible_girl_babies = np.array([0, 1, 2, 3]) # define the losses l_i\n",
    "exp_G = np.sum(possible_girl_babies*prob_G)\n",
    "\n",
    "var_G = np.sum((possible_girl_babies - exp_G)**2 * prob_G)\n",
    "\n",
    "#std_dev_L = np.sqrt(var_L)\n",
    "\n",
    "print('E(G)=', exp_G)\n",
    "print('Var(G)=', var_G)\n",
    "print('StdDev(G)=', np.sqrt(var_G))"
   ]
  },
  {
   "cell_type": "markdown",
   "id": "nonprofit-forest",
   "metadata": {
    "id": "nonprofit-forest"
   },
   "source": [
    "### Continuous Random Variables\n",
    "\n",
    "* In some cases, outcomes cannot be listed, e.g. measuring heights or weights of people\n",
    "* In such cases the random variables we work with are called **continuous random variables**\n",
    "* The role of the pmf is taken by a **probability density function (pdf)**\n",
    "* The pdf, say $f(x)$, has a property that\n",
    "\\begin{equation} \\int_{-\\infty}^{+\\infty} f(x)\\, dx = 1\\end{equation}\n",
    "* Let $X$ be a continuous random variable and let $[a, b]$ be an interval of possible outcomes. We define the probability that $X \\in [a, b]$, or $a \\leqslant X \\leqslant b$, by\n",
    "\\begin{equation}\n",
    "P(X \\in [a, b]) = P(a \\leqslant X \\leqslant b) = \\int_a^b f(x)\\, dx\n",
    "\\end{equation}\n",
    "\n",
    "### Example 4\n",
    "Let $X$ be a random variable such that $X \\in [0, 1]$, and the pdf is given by\n",
    "\\begin{equation}f(x) = \\frac{15}{2} x^2 (1-x^2) \\times 1_{[0,1]}(x)\\end{equation}\n",
    "* Show that that $f(x)$ is really a pdf, i.e. that $P(0 \\leqslant X \\leqslant 1) = 1$\n",
    "* Find the probability that $X \\in [0.5, 0.8]$"
   ]
  },
  {
   "cell_type": "code",
   "execution_count": 10,
   "id": "active-juvenile",
   "metadata": {
    "colab": {
     "base_uri": "https://localhost:8080/",
     "height": 301
    },
    "executionInfo": {
     "elapsed": 834,
     "status": "ok",
     "timestamp": 1628872722843,
     "user": {
      "displayName": "Marko",
      "photoUrl": "",
      "userId": "10739355790133053471"
     },
     "user_tz": -120
    },
    "id": "active-juvenile",
    "outputId": "59ddf579-fc81-4ae5-9383-403abbb8d45b"
   },
   "outputs": [
    {
     "name": "stdout",
     "output_type": "stream",
     "text": [
      "P(0 <= X <= 1) =  1.00000000000000\n",
      "P(0.8 <= X <= 0.1) =  0.211520000000000\n"
     ]
    },
    {
     "data": {
      "image/png": "[encoded data removed]",
      "text/plain": [
       "<Figure size 432x288 with 1 Axes>"
      ]
     },
     "metadata": {
      "needs_background": "light"
     },
     "output_type": "display_data"
    }
   ],
   "source": [
    "# Use SymPy\n",
    "x = sy.symbols('x', real=True)\n",
    "f = sy.Function('f', real=True)\n",
    "f = (15/2)*x**2*(1-x**2)\n",
    "\n",
    "\n",
    "print('P(0 <= X <= 1) = ', sy.integrate(f, (x, 0, 1)))\n",
    "\n",
    "print('P(0.8 <= X <= 0.1) = ', sy.integrate(f, (x, 0.8,1)))\n",
    "\n",
    "\n",
    "f_num = sy.lambdify(x, f)\n",
    "xs = np.linspace(0, 1)\n",
    "ys = f_num(xs)\n",
    "plt.figure()\n",
    "plt.fill_between(np.linspace(0.8, 1), f_num(np.linspace(0.8,1)), alpha=0.5)\n",
    "plt.plot(xs, ys)\n",
    "plt.show()"
   ]
  },
  {
   "cell_type": "markdown",
   "id": "radio-chassis",
   "metadata": {
    "id": "radio-chassis"
   },
   "source": [
    "### Expected Value, Variance and Standard Deviation for continuous variables\n",
    "* For a random variable $X$ with a pdf $f(x)$, we define the expected value$E(X)$, the variance $Var(X)$ and the standard deviation $\\sigma_X$ as\n",
    "\\begin{equation}\n",
    "\\begin{array}{rcl}\n",
    "E(X) &=& \\displaystyle\\int_{-\\infty}^{+\\infty} x \\cdot f(x)\\, dx\\\\\n",
    "Var(X) &=& \\displaystyle\\int_{-\\infty}^{+\\infty} \\Big(x - E(X) \\Big)^2 \\cdot f(x)\\, dx\\\\\n",
    "\\sigma_X &=& \\sqrt{Var(X)}\n",
    "\\end{array}\n",
    "\\end{equation}\n",
    "\n",
    "**Notes:**\n",
    "* The $E(X)$ and $Var(X)$ exists only if the integral returns a finite value\n",
    "* Instead of infinite boundaries, we will be using the smallest and largest value that the pdf can take\n",
    "\n",
    "### Example 5\n",
    "For the random variable $X$ given in **Example 4** calculate the expectation, the variance and the standard deviation"
   ]
  },
  {
   "cell_type": "code",
   "execution_count": 11,
   "id": "moving-companion",
   "metadata": {
    "colab": {
     "base_uri": "https://localhost:8080/"
    },
    "executionInfo": {
     "elapsed": 245,
     "status": "ok",
     "timestamp": 1628873550208,
     "user": {
      "displayName": "Marko",
      "photoUrl": "",
      "userId": "10739355790133053471"
     },
     "user_tz": -120
    },
    "id": "moving-companion",
    "outputId": "81099b17-8cd5-4e76-fef4-d9b6fcd4b505"
   },
   "outputs": [
    {
     "name": "stdout",
     "output_type": "stream",
     "text": [
      "E(X) =  0.625000000000000\n",
      "Var(X) =  0.0379464285714286\n",
      "sigma_X =  0.194798430618495\n"
     ]
    }
   ],
   "source": [
    "# Use SymPy\n",
    "exp_X = sy.integrate(x*f, (x, 0, 1))\n",
    "print('E(X) = ', exp_X)\n",
    "\n",
    "var_X = sy.integrate((x-exp_X)**2*f, (x, 0, 1))\n",
    "print('Var(X) = ', var_X)\n",
    "\n",
    "sigma_X = sy.sqrt(var_X)\n",
    "print('sigma_X = ', sigma_X)"
   ]
  },
  {
   "cell_type": "markdown",
   "id": "dramatic-neighborhood",
   "metadata": {
    "id": "dramatic-neighborhood"
   },
   "source": [
    "### Practice #1\n",
    "A magazine store recorded the number of magazines purchased by its customers in one week. 23% purchased one magazine, 38% purchased two, 21% purchased three, 13% purchased four, and 5% purchased five. Let $X$ be “number of magazines sold”.\n",
    "* Make a probability table for the random variable.\n",
    "* Graph the probability distribution."
   ]
  },
  {
   "cell_type": "code",
   "execution_count": 12,
   "id": "modern-gender",
   "metadata": {
    "colab": {
     "base_uri": "https://localhost:8080/",
     "height": 265
    },
    "executionInfo": {
     "elapsed": 811,
     "status": "ok",
     "timestamp": 1628876163988,
     "user": {
      "displayName": "Marko",
      "photoUrl": "",
      "userId": "10739355790133053471"
     },
     "user_tz": -120
    },
    "id": "modern-gender",
    "outputId": "2a72f5fd-7173-40c5-da83-c2a8e0774efe"
   },
   "outputs": [
    {
     "data": {
      "image/png": "[encoded data removed]",
      "text/plain": [
       "<Figure size 432x288 with 1 Axes>"
      ]
     },
     "metadata": {
      "needs_background": "light"
     },
     "output_type": "display_data"
    }
   ],
   "source": [
    "# Use scipy.stats.rv_discrete()\n",
    "vals = [1, 2, 3, 4, 5]\n",
    "probs = [0.23,0.38, 0.21, 0.13, 0.05 ]\n",
    "\n",
    "purchase_rv = stats.rv_discrete(values=(vals, probs))\n",
    "\n",
    "plt.figure()\n",
    "plt.bar([1, 2, 3, 4, 5], purchase_rv.pmf(vals))\n",
    "plt.show()\n"
   ]
  },
  {
   "cell_type": "markdown",
   "id": "random-amendment",
   "metadata": {
    "id": "random-amendment"
   },
   "source": [
    "### Practice #2\n",
    "A continuous random variable $X$ has a pdf $f(x)$ given by\n",
    "\\begin{equation}\n",
    "f(x) = 6(x - x^2)\n",
    "\\end{equation}\n",
    "for $x \\in [0, 1]$. Calculate:\n",
    "* $P(0.2 \\leqslant X \\leqslant 0.8)$\n",
    "* $P(X \\leqslant 0.7)$\n",
    "* $P(X \\geqslant 0.9)$\n",
    "* $\\sigma_X$"
   ]
  },
  {
   "cell_type": "code",
   "execution_count": null,
   "id": "geological-approval",
   "metadata": {
    "id": "geological-approval"
   },
   "outputs": [],
   "source": []
  }
 ],
 "metadata": {
  "colab": {
   "name": "Week 5, Day 1 (Random Variables and Probability Distributions) CLEAN.ipynb",
   "provenance": []
  },
  "kernelspec": {
   "display_name": "Python 3",
   "language": "python",
   "name": "python3"
  },
  "language_info": {
   "codemirror_mode": {
    "name": "ipython",
    "version": 3
   },
   "file_extension": ".py",
   "mimetype": "text/x-python",
   "name": "python",
   "nbconvert_exporter": "python",
   "pygments_lexer": "ipython3",
   "version": "3.8.8"
  }
 },
 "nbformat": 4,
 "nbformat_minor": 5
}
