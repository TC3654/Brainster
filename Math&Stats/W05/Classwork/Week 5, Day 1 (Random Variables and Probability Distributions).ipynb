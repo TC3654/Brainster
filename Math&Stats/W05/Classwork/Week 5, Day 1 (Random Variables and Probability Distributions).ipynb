{
 "cells": [
  {
   "cell_type": "markdown",
   "id": "owned-brooks",
   "metadata": {
    "id": "owned-brooks"
   },
   "source": [
    "# Week 5: Probability Distributions"
   ]
  },
  {
   "cell_type": "code",
   "execution_count": 1,
   "id": "characteristic-response",
   "metadata": {
    "executionInfo": {
     "elapsed": 4713,
     "status": "ok",
     "timestamp": 1628506638332,
     "user": {
      "displayName": "Marko",
      "photoUrl": "",
      "userId": "10739355790133053471"
     },
     "user_tz": -120
    },
    "id": "characteristic-response"
   },
   "outputs": [],
   "source": [
    "# Loading the libraries\n",
    "import numpy as np\n",
    "import sympy as sy\n",
    "import pandas as pd\n",
    "import matplotlib.pyplot as plt\n",
    "import seaborn as sns\n",
    "import scipy.stats as stats\n",
    "import random"
   ]
  },
  {
   "cell_type": "markdown",
   "id": "simplified-organizer",
   "metadata": {
    "id": "simplified-organizer"
   },
   "source": [
    "## Day 1: Random Variables & Probability Distributions\n",
    "\n",
    "* Let us toss a fair coin. Two outcomes are possible: **H** or **T**. Let us introduce a variable $X$ that will count the number of **H** when tossing.\n",
    "* $X \\in \\{0, 1\\}$ -- there are two possible values for $X$:\n",
    "    * $X = 0$ means that **H** has not occurred\n",
    "    * $X = 1$ means that **H** has occurred\n",
    "\n",
    "We can summarize the outcomes in a table or on a bar graph"
   ]
  },
  {
   "cell_type": "code",
   "execution_count": 2,
   "id": "subject-module",
   "metadata": {
    "colab": {
     "base_uri": "https://localhost:8080/",
     "height": 357
    },
    "executionInfo": {
     "elapsed": 1094,
     "status": "ok",
     "timestamp": 1628506639415,
     "user": {
      "displayName": "Marko",
      "photoUrl": "",
      "userId": "10739355790133053471"
     },
     "user_tz": -120
    },
    "id": "subject-module",
    "outputId": "59b40e07-9433-49e5-da35-4dbb22737451"
   },
   "outputs": [
    {
     "data": {
      "text/html": [
       "<div>\n",
       "<style scoped>\n",
       "    .dataframe tbody tr th:only-of-type {\n",
       "        vertical-align: middle;\n",
       "    }\n",
       "\n",
       "    .dataframe tbody tr th {\n",
       "        vertical-align: top;\n",
       "    }\n",
       "\n",
       "    .dataframe thead th {\n",
       "        text-align: right;\n",
       "    }\n",
       "</style>\n",
       "<table border=\"1\" class=\"dataframe\">\n",
       "  <thead>\n",
       "    <tr style=\"text-align: right;\">\n",
       "      <th></th>\n",
       "      <th>0</th>\n",
       "      <th>1</th>\n",
       "    </tr>\n",
       "  </thead>\n",
       "  <tbody>\n",
       "    <tr>\n",
       "      <th>P(X=x)</th>\n",
       "      <td>0.5</td>\n",
       "      <td>0.5</td>\n",
       "    </tr>\n",
       "  </tbody>\n",
       "</table>\n",
       "</div>"
      ],
      "text/plain": [
       "          0    1\n",
       "P(X=x)  0.5  0.5"
      ]
     },
     "metadata": {
      "tags": []
     },
     "output_type": "display_data"
    },
    {
     "data": {
      "image/png": "[encoded data removed]",
      "text/plain": [
       "<Figure size 432x288 with 1 Axes>"
      ]
     },
     "metadata": {
      "needs_background": "light",
      "tags": []
     },
     "output_type": "display_data"
    }
   ],
   "source": [
    "table = pd.DataFrame(columns = ['0', '1'],\n",
    "                     index = ['P(X=x)'])\n",
    "\n",
    "table.loc['P(X=x)'] = [0.5, 0.5]\n",
    "\n",
    "display(table)\n",
    "\n",
    "plt.figure()\n",
    "plt.bar(x = ['0', '1'], height = [0.5, 0.5])\n",
    "plt.title('P(X = x)')\n",
    "plt.xlabel('# of heads in 1 toss')\n",
    "plt.ylabel('probability')\n",
    "plt.show()"
   ]
  },
  {
   "cell_type": "markdown",
   "id": "pointed-diary",
   "metadata": {
    "id": "pointed-diary"
   },
   "source": [
    "* The variable defined in this way, as a set of values and **likelihoods** assigned to the possible values, is called a **random variable**\n",
    "* Strictly speaking, a random variable is a function that assigns likelihoods to all possible values in an experiment/trial\n",
    "\n",
    "### Example 1\n",
    "A couple plans to have two children. Let $G$ be the random variable “number of girls the couple has”. If there is an equal probability of a child to be a boy or a girl, define the possible values of $G$ and calculate the probabolity for each of them. Then represent the results in a table and on a bar graph."
   ]
  },
  {
   "cell_type": "code",
   "execution_count": 3,
   "id": "funded-calvin",
   "metadata": {
    "colab": {
     "base_uri": "https://localhost:8080/",
     "height": 357
    },
    "executionInfo": {
     "elapsed": 20,
     "status": "ok",
     "timestamp": 1628506639416,
     "user": {
      "displayName": "Marko",
      "photoUrl": "",
      "userId": "10739355790133053471"
     },
     "user_tz": -120
    },
    "id": "funded-calvin",
    "outputId": "6c73129b-7677-464d-dfed-db181b1f269c"
   },
   "outputs": [
    {
     "data": {
      "text/html": [
       "<div>\n",
       "<style scoped>\n",
       "    .dataframe tbody tr th:only-of-type {\n",
       "        vertical-align: middle;\n",
       "    }\n",
       "\n",
       "    .dataframe tbody tr th {\n",
       "        vertical-align: top;\n",
       "    }\n",
       "\n",
       "    .dataframe thead th {\n",
       "        text-align: right;\n",
       "    }\n",
       "</style>\n",
       "<table border=\"1\" class=\"dataframe\">\n",
       "  <thead>\n",
       "    <tr style=\"text-align: right;\">\n",
       "      <th></th>\n",
       "      <th>0</th>\n",
       "      <th>1</th>\n",
       "      <th>2</th>\n",
       "    </tr>\n",
       "  </thead>\n",
       "  <tbody>\n",
       "    <tr>\n",
       "      <th>P(X=x)</th>\n",
       "      <td>0.248</td>\n",
       "      <td>0.499</td>\n",
       "      <td>0.254</td>\n",
       "    </tr>\n",
       "  </tbody>\n",
       "</table>\n",
       "</div>"
      ],
      "text/plain": [
       "            0      1      2\n",
       "P(X=x)  0.248  0.499  0.254"
      ]
     },
     "metadata": {
      "tags": []
     },
     "output_type": "display_data"
    },
    {
     "data": {
      "image/png": "[encoded data removed]",
      "text/plain": [
       "<Figure size 432x288 with 1 Axes>"
      ]
     },
     "metadata": {
      "needs_background": "light",
      "tags": []
     },
     "output_type": "display_data"
    }
   ],
   "source": [
    "# There are three possible values of G: 0, 1, 2\n",
    "\n",
    "n = 100000 # number of simulations\n",
    "G = np.zeros(3) # store the number of children here\n",
    "\n",
    "for i in range(n): # loop through the simulations\n",
    "    child_1 = random.choice([0, 1]) # 1 - girl, 0 - boy\n",
    "    child_2 = random.choice([0, 1])\n",
    "    G[child_1 + child_2] += 1\n",
    "\n",
    "prob_G = np.round(G/n, 3)\n",
    "\n",
    "table = pd.DataFrame(columns=['0', '1', '2'], index=['P(X=x)'])\n",
    "table.loc['P(X=x)'] = prob_G\n",
    "display(table)\n",
    "\n",
    "plt.figure()\n",
    "plt.bar(x = ['0', '1', '2'], height = [prob_G[0], prob_G[1], prob_G[2]])\n",
    "plt.title('P(X = x)')\n",
    "plt.xlabel('# of girls if a couple has 2 children')\n",
    "plt.ylabel('probability')\n",
    "plt.show()"
   ]
  },
  {
   "cell_type": "markdown",
   "id": "alleged-external",
   "metadata": {
    "id": "alleged-external"
   },
   "source": [
    "### Example 2\n",
    "As the head of inventory for Knowway Computer Company, you were thrilled that you had managed to ship 2 computers to your biggest client the day the order arrived. You are horrified, though, to find out that someone had restocked refurbished computers in with the new computers in your storeroom. The shipped computers were selected randomly from the 15 computers in stock, but 4 of those were actually refurbished.\n",
    "* If your client gets 2 new computers, things are fine.\n",
    "* If the client gets one refurbished computer, it will be sent back at your expense \\$100 and you can replace it.\n",
    "* However, if both computers are refurbished, the client will cancel the order this month and you’ll lose a total of \\$1000.\n",
    "\n",
    "If $L$ is the random variable \"amount of money you lose\", then give the possible values for $L$ and find their probabilities."
   ]
  },
  {
   "cell_type": "code",
   "execution_count": 4,
   "id": "balanced-cover",
   "metadata": {
    "colab": {
     "base_uri": "https://localhost:8080/",
     "height": 357
    },
    "executionInfo": {
     "elapsed": 19,
     "status": "ok",
     "timestamp": 1628506639417,
     "user": {
      "displayName": "Marko",
      "photoUrl": "",
      "userId": "10739355790133053471"
     },
     "user_tz": -120
    },
    "id": "balanced-cover",
    "outputId": "57d3a852-be99-4e08-92be-a33d87f8b8f0"
   },
   "outputs": [
    {
     "data": {
      "text/html": [
       "<div>\n",
       "<style scoped>\n",
       "    .dataframe tbody tr th:only-of-type {\n",
       "        vertical-align: middle;\n",
       "    }\n",
       "\n",
       "    .dataframe tbody tr th {\n",
       "        vertical-align: top;\n",
       "    }\n",
       "\n",
       "    .dataframe thead th {\n",
       "        text-align: right;\n",
       "    }\n",
       "</style>\n",
       "<table border=\"1\" class=\"dataframe\">\n",
       "  <thead>\n",
       "    <tr style=\"text-align: right;\">\n",
       "      <th></th>\n",
       "      <th>$0</th>\n",
       "      <th>$100</th>\n",
       "      <th>$1000</th>\n",
       "    </tr>\n",
       "  </thead>\n",
       "  <tbody>\n",
       "    <tr>\n",
       "      <th>P(L=k)</th>\n",
       "      <td>0.524</td>\n",
       "      <td>0.42</td>\n",
       "      <td>0.056</td>\n",
       "    </tr>\n",
       "  </tbody>\n",
       "</table>\n",
       "</div>"
      ],
      "text/plain": [
       "           $0  $100  $1000\n",
       "P(L=k)  0.524  0.42  0.056"
      ]
     },
     "metadata": {
      "tags": []
     },
     "output_type": "display_data"
    },
    {
     "data": {
      "image/png": "[encoded data removed]",
      "text/plain": [
       "<Figure size 432x288 with 1 Axes>"
      ]
     },
     "metadata": {
      "needs_background": "light",
      "tags": []
     },
     "output_type": "display_data"
    }
   ],
   "source": [
    "n = 100000 # number of simulations\n",
    "L = np.zeros(3) # initializing the variable L (0=$0 loss, 1=$100 loss, 2=$1000 loss)\n",
    "\n",
    "for i in range(n): # loop thorough the simulations\n",
    "    comps_in_stock = list(range(1, 16)) # label computers 1-15 with 1, 2, 3 and 4 being refurbished\n",
    "    n_ref = 0 #number of refurbished computers\n",
    "    \n",
    "    comp_1 = random.choice(comps_in_stock) #choose one\n",
    "    comps_in_stock.remove(comp_1) #remove it from the pool\n",
    "    comp_2 = random.choice(comps_in_stock) #choose one from the remaining\n",
    "    \n",
    "    if comp_1 <= 4: #check is comp_1 is refurbished\n",
    "        n_ref += 1\n",
    "    if comp_2 <= 4: #check if comp_2 is refurbished\n",
    "        n_ref += 1\n",
    "    \n",
    "    L[n_ref] += 1 #update the outcome in L\n",
    "\n",
    "    \n",
    "prob_L = np.round(L/n, 3)\n",
    "\n",
    "table = pd.DataFrame(columns=['$0', '$100', '$1000'], index=['P(L=k)'])\n",
    "table.loc['P(L=k)'] = prob_L\n",
    "display(table)\n",
    "\n",
    "plt.figure()\n",
    "plt.bar(x = ['$0', '$100', '$1000'], height = [prob_L[0], prob_L[1], prob_L[2]])\n",
    "plt.title('P(L = $k)')\n",
    "plt.xlabel('amount of money you would lose')\n",
    "plt.ylabel('probability')\n",
    "plt.show()"
   ]
  },
  {
   "cell_type": "markdown",
   "id": "irish-paradise",
   "metadata": {
    "id": "irish-paradise"
   },
   "source": [
    "### Types of random variables\n",
    "* There are two types of random variables: **discrete** and **continuous**\n",
    "* If the outcomes are “listable” (finite or infinitely many of them), then the random variable is **discrete**.\n",
    "* They can be summarized in tables and bar graphs\n",
    "* For a random variable $X$ with outcomes $x_1, x_2, \\ldots, x_n$ we label $p_i = P(X = x_i)$.\n",
    "* The sum of the probabilities: $p_1 + p_2 + \\ldots + p_n = 1$ \n",
    "* The function that assigns probabilities to the values of a discrete random variable is called **probability mass function (pmf)**\n",
    "\n",
    "\n",
    "### Expected Value, Variance and Standard Deviation\n",
    "* For a random variable we can define \"mean\" which we call **expected value**, or **expectation**, and label by $E(X)$. In similar analogy with descriptive statistics, we can define **variance** $Var(X)$ and **standard deviation** $\\sigma_X$. They are given by\n",
    "\n",
    "\\begin{equation}\n",
    "\\begin{array}{rcl}\n",
    "E(X) &=& \\displaystyle\\sum_{i=1}^{n} x_i \\cdot P(X=x_i)\\\\\n",
    "Var(X) &=& \\displaystyle\\sum_{i=1}^{n} \\Big(x_i - E(X) \\Big)^2 \\cdot P(X=x_i)\\\\\n",
    "\\sigma_X &=& \\sqrt{Var(X)}\n",
    "\\end{array}\n",
    "\\end{equation}\n",
    "\n",
    "\n",
    "### Example 3\n",
    "Calculate the $E(L)$, $Var(L)$ and $\\sigma_L$ for the random variable $L$ in **Example 2**"
   ]
  },
  {
   "cell_type": "code",
   "execution_count": 5,
   "id": "human-butter",
   "metadata": {
    "colab": {
     "base_uri": "https://localhost:8080/"
    },
    "executionInfo": {
     "elapsed": 17,
     "status": "ok",
     "timestamp": 1628506639417,
     "user": {
      "displayName": "Marko",
      "photoUrl": "",
      "userId": "10739355790133053471"
     },
     "user_tz": -120
    },
    "id": "human-butter",
    "outputId": "901c34e1-0fe9-423c-cbff-a869c11f8328"
   },
   "outputs": [
    {
     "name": "stdout",
     "output_type": "stream",
     "text": [
      "E(L) =  98.0\n",
      "Var(L) =  50596.0\n",
      "sigma(L) =  224.9355463238303\n"
     ]
    }
   ],
   "source": [
    "possible_losses = np.array([0, 100, 1000]) # define the losses l_i\n",
    "\n",
    "exp_L = np.sum(possible_losses*prob_L)\n",
    "\n",
    "var_L = np.sum((possible_losses - exp_L)**2 * prob_L)\n",
    "\n",
    "sigma_L = np.sqrt(var_L)\n",
    "\n",
    "print('E(L) = ', exp_L)\n",
    "print('Var(L) = ', var_L)\n",
    "print('sigma(L) = ', sigma_L)"
   ]
  },
  {
   "cell_type": "markdown",
   "id": "hydraulic-flood",
   "metadata": {
    "id": "hydraulic-flood"
   },
   "source": [
    "### Continuous Random Variables\n",
    "\n",
    "* In some cases, outcomes cannot be listed, e.g. measuring heights or weights of people\n",
    "* In such cases the random variables we work with are called **continuous random variables**\n",
    "* The role of the pmf is taken by a **probability density function (pdf)**\n",
    "* The pdf, say $f(x)$, has a property that\n",
    "\\begin{equation} \\int_{-\\infty}^{+\\infty} f(x)\\, dx = 1\\end{equation}\n",
    "* Let $X$ be a continuous random variable and let $[a, b]$ be an interval of possible outcomes. We define the probability that $X \\in [a, b]$, or $a \\leqslant X \\leqslant b$, by\n",
    "\\begin{equation}\n",
    "P(X \\in [a, b]) = P(a \\leqslant X \\leqslant b) = \\int_a^b f(x)\\, dx\n",
    "\\end{equation}\n",
    "\n",
    "### Example 4\n",
    "Let $X$ be a random variable such that $X \\in [0, 1]$, and the pdf is given by\n",
    "\\begin{equation}f(x) = \\frac{15}{2} x^2 (1-x^2)\\end{equation}\n",
    "* Show that that $f(x)$ is really a pdf, i.e. that $P(0 \\leqslant X \\leqslant 1) = 1$\n",
    "* Find the probability that $X \\in [0.5, 0.8]$"
   ]
  },
  {
   "cell_type": "code",
   "execution_count": 6,
   "id": "narrow-height",
   "metadata": {
    "colab": {
     "base_uri": "https://localhost:8080/",
     "height": 300
    },
    "executionInfo": {
     "elapsed": 15,
     "status": "ok",
     "timestamp": 1628506639417,
     "user": {
      "displayName": "Marko",
      "photoUrl": "",
      "userId": "10739355790133053471"
     },
     "user_tz": -120
    },
    "id": "narrow-height",
    "outputId": "cdbd0717-ca23-45d3-f645-a8e5ce40aab0"
   },
   "outputs": [
    {
     "name": "stdout",
     "output_type": "stream",
     "text": [
      "P(0 <= X <= 1) =  1.00000000000000\n",
      "P(0.5 <= X <= 0.8) =  0.522855000000000\n"
     ]
    },
    {
     "data": {
      "image/png": "[encoded data removed]",
      "text/plain": [
       "<Figure size 432x288 with 1 Axes>"
      ]
     },
     "metadata": {
      "needs_background": "light",
      "tags": []
     },
     "output_type": "display_data"
    }
   ],
   "source": [
    "x = sy.symbols('x', real=True)\n",
    "f = sy.Function('f', real=True)\n",
    "f = (15/2)*x**2*(1-x**2)\n",
    "\n",
    "print('P(0 <= X <= 1) = ', sy.integrate(f, (x, 0, 1)))\n",
    "\n",
    "print('P(0.5 <= X <= 0.8) = ', sy.integrate(f, (x, 0.5, 0.8)))\n",
    "\n",
    "f_num = sy.lambdify(x, f)\n",
    "xs = np.linspace(0, 1)\n",
    "ys = f_num(xs)\n",
    "plt.figure()\n",
    "plt.fill_between(np.linspace(0.5, 0.8), f_num(np.linspace(0.5, 0.8)), alpha=0.5)\n",
    "plt.plot(xs, ys)\n",
    "plt.show()"
   ]
  },
  {
   "cell_type": "markdown",
   "id": "frequent-steam",
   "metadata": {
    "id": "frequent-steam"
   },
   "source": [
    "### Expected Value, Variance and Standard Deviation for continuous variables\n",
    "* For a random variable $X$ with a pdf $f(x)$, we define the expected value$E(X)$, the variance $Var(X)$ and the standard deviation $\\sigma_X$ as\n",
    "\\begin{equation}\n",
    "\\begin{array}{rcl}\n",
    "E(X) &=& \\displaystyle\\int_{-\\infty}^{+\\infty} x \\cdot f(x)\\, dx\\\\\n",
    "Var(X) &=& \\displaystyle\\int_{-\\infty}^{+\\infty} \\Big(x - E(X) \\Big)^2 \\cdot f(x)\\, dx\\\\\n",
    "\\sigma_X &=& \\sqrt{Var(X)}\n",
    "\\end{array}\n",
    "\\end{equation}\n",
    "\n",
    "**Notes:**\n",
    "* The $E(X)$ and $Var(X)$ exists only if the integral returns a finite value\n",
    "* Instead of infinite boundaries, we will be using the smallest and largest value that the pdf can take\n",
    "\n",
    "### Example 5\n",
    "For the random variable $X$ given in **Example 4** calculate the expectation, the variance and the standard deviation"
   ]
  },
  {
   "cell_type": "code",
   "execution_count": 7,
   "id": "median-breath",
   "metadata": {
    "colab": {
     "base_uri": "https://localhost:8080/"
    },
    "executionInfo": {
     "elapsed": 14,
     "status": "ok",
     "timestamp": 1628506639418,
     "user": {
      "displayName": "Marko",
      "photoUrl": "",
      "userId": "10739355790133053471"
     },
     "user_tz": -120
    },
    "id": "median-breath",
    "outputId": "48efcb04-d4cb-4138-9899-9acf4dff38d1"
   },
   "outputs": [
    {
     "name": "stdout",
     "output_type": "stream",
     "text": [
      "E(X) =  0.625000000000000\n",
      "Var(X) =  0.0379464285714286\n",
      "sigma_X =  0.194798430618495\n"
     ]
    }
   ],
   "source": [
    "exp_X = sy.integrate(x*f, (x, 0, 1))\n",
    "print('E(X) = ', exp_X)\n",
    "\n",
    "var_X = sy.integrate((x-exp_X)**2*f, (x, 0, 1))\n",
    "print('Var(X) = ', var_X)\n",
    "\n",
    "sigma_X = sy.sqrt(var_X)\n",
    "print('sigma_X = ', sigma_X)"
   ]
  },
  {
   "cell_type": "markdown",
   "id": "coordinated-ocean",
   "metadata": {
    "id": "coordinated-ocean"
   },
   "source": [
    "### Practice #1\n",
    "A magazine store recorded the number of magazines purchased by its customers in one week. 23% purchased one magazine, 38% purchased two, 21% purchased three, 13% purchased four, and 5% purchased five. Let $X$ be “number of magazines sold”.\n",
    "* Make a probability table for the random variable.\n",
    "* Graph the probability distribution."
   ]
  },
  {
   "cell_type": "code",
   "execution_count": 7,
   "id": "incorporate-colors",
   "metadata": {
    "executionInfo": {
     "elapsed": 10,
     "status": "ok",
     "timestamp": 1628506639418,
     "user": {
      "displayName": "Marko",
      "photoUrl": "",
      "userId": "10739355790133053471"
     },
     "user_tz": -120
    },
    "id": "incorporate-colors"
   },
   "outputs": [],
   "source": []
  },
  {
   "cell_type": "markdown",
   "id": "sublime-guitar",
   "metadata": {
    "id": "sublime-guitar"
   },
   "source": [
    "### Practice #2\n",
    "A continuous random variable $X$ has a pdf $f(x)$ given by\n",
    "\\begin{equation}\n",
    "f(x) = 6(x - x^2)\n",
    "\\end{equation}\n",
    "for $x \\in [0, 1]$. Calculate:\n",
    "* $P(0.2 \\leqslant X \\leqslant 0.8)$\n",
    "* $P(X \\leqslant 0.7)$\n",
    "* $P(X \\geqslant 0.9)$\n",
    "* $\\sigma_X$"
   ]
  },
  {
   "cell_type": "code",
   "execution_count": 7,
   "id": "protected-compatibility",
   "metadata": {
    "executionInfo": {
     "elapsed": 11,
     "status": "ok",
     "timestamp": 1628506639419,
     "user": {
      "displayName": "Marko",
      "photoUrl": "",
      "userId": "10739355790133053471"
     },
     "user_tz": -120
    },
    "id": "protected-compatibility"
   },
   "outputs": [],
   "source": []
  }
 ],
 "metadata": {
  "colab": {
   "name": "Week 5, Day 1 (Random Variables and Probability Distributions).ipynb",
   "provenance": []
  },
  "kernelspec": {
   "display_name": "Python 3",
   "language": "python",
   "name": "python3"
  },
  "language_info": {
   "codemirror_mode": {
    "name": "ipython",
    "version": 3
   },
   "file_extension": ".py",
   "mimetype": "text/x-python",
   "name": "python",
   "nbconvert_exporter": "python",
   "pygments_lexer": "ipython3",
   "version": "3.8.8"
  }
 },
 "nbformat": 4,
 "nbformat_minor": 5
}
