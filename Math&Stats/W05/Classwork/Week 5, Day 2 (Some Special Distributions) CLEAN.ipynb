{
 "cells": [
  {
   "cell_type": "markdown",
   "id": "forward-cardiff",
   "metadata": {
    "id": "forward-cardiff"
   },
   "source": [
    "# Week 5: Probability Distributions"
   ]
  },
  {
   "cell_type": "code",
   "execution_count": 1,
   "id": "incredible-father",
   "metadata": {
    "executionInfo": {
     "elapsed": 1738,
     "status": "ok",
     "timestamp": 1628926076414,
     "user": {
      "displayName": "Marko",
      "photoUrl": "",
      "userId": "10739355790133053471"
     },
     "user_tz": -120
    },
    "id": "incredible-father"
   },
   "outputs": [],
   "source": [
    "# Loading the libraries\n",
    "import numpy as np\n",
    "import sympy as sy\n",
    "import pandas as pd\n",
    "import matplotlib.pyplot as plt\n",
    "import seaborn as sns\n",
    "import scipy.stats as stats"
   ]
  },
  {
   "cell_type": "markdown",
   "id": "middle-geneva",
   "metadata": {
    "id": "middle-geneva"
   },
   "source": [
    "## Days 2 and 3: Some Special Probability Distributions\n",
    "\n",
    "* Previously we have introduced the concept of a **random variable**, and the concept of **probability distribution** (via the *probability mass function* /pmf/ and *probability densiti function* /pdf/)\n",
    "* Now we talk about some probability distributions that frequently appear in the study of statistics and machine learning \n",
    "\n",
    "### Constucting Random Variables from scratch using `scipy.stats`\n",
    "* First order of business will be to learn how to construct a random variable from scratch using only values and probabilities\n",
    "* To illustrate the process, we will use two examples from before. The data is provided below"
   ]
  },
  {
   "cell_type": "markdown",
   "id": "moderate-display",
   "metadata": {
    "id": "moderate-display"
   },
   "source": [
    "### Example 1: Discrete Variables\n",
    "Recall the example about supplying refurbished computers to a client. The random variable $L$ - total loss - is given in the following table.\n",
    "\n",
    "| $k$ | \\$0 | \\$100 | \\$1000|\n",
    "|:---:|:---:|:-----:|:-----:|\n",
    "|$P(L=k)$|0.528 | 0.416 | 0.056|\n",
    "\n",
    "* Construct the variable `comp_loss` as a `scipy.stats` object\n",
    "* Visualize its distribution on a bar graph\n",
    "* Calculate: $E(L)$, $Var(L)$, $\\sigma_L$"
   ]
  },
  {
   "cell_type": "code",
   "execution_count": 2,
   "id": "median-handbook",
   "metadata": {
    "colab": {
     "base_uri": "https://localhost:8080/",
     "height": 320
    },
    "executionInfo": {
     "elapsed": 393,
     "status": "ok",
     "timestamp": 1628874404691,
     "user": {
      "displayName": "Marko",
      "photoUrl": "",
      "userId": "10739355790133053471"
     },
     "user_tz": -120
    },
    "id": "median-handbook",
    "outputId": "5193cf8c-1bf9-473e-81c4-f643a112c31d"
   },
   "outputs": [
    {
     "data": {
      "image/png": "[encoded data removed]",
      "text/plain": [
       "<Figure size 432x288 with 1 Axes>"
      ]
     },
     "metadata": {
      "needs_background": "light"
     },
     "output_type": "display_data"
    },
    {
     "name": "stdout",
     "output_type": "stream",
     "text": [
      "E(L) =  97.6\n",
      "Var(L) =  50634.240000000005\n",
      "sigma_L =  225.02053239649044\n"
     ]
    }
   ],
   "source": [
    "# Use scipy.stats.rv_discrete()\n",
    "vals = [0, 100, 1000]\n",
    "probs = [0.528, 0.416, 0.056]\n",
    "\n",
    "comp_loss = stats.rv_discrete(values=(vals, probs))\n",
    "\n",
    "plt.figure()\n",
    "plt.bar(['$0', '$100', '$1000'], comp_loss.pmf(vals))\n",
    "plt.show()\n",
    "\n",
    "print('E(L) = ', comp_loss.mean())\n",
    "print('Var(L) = ', comp_loss.var())\n",
    "print('sigma_L = ', comp_loss.std())"
   ]
  },
  {
   "cell_type": "markdown",
   "id": "available-dodge",
   "metadata": {
    "id": "available-dodge"
   },
   "source": [
    "### Example 2: Discrete Variables\n",
    "Construct a `scipy.stats.rv_discrete` object named `uni_rv` for a random variable $V$ which takes only the integer values $V = \\{ -1, 0, 1, 2, 3 \\}$, all of them with equal probability (this is the discrete uniform distribution on the set $V$. Then:\n",
    "* Visualize its distribution on a bar graph\n",
    "* Calculate: $E(V)$, $Var(V)$, $\\sigma_V$"
   ]
  },
  {
   "cell_type": "code",
   "execution_count": 3,
   "id": "material-credits",
   "metadata": {
    "colab": {
     "base_uri": "https://localhost:8080/",
     "height": 320
    },
    "executionInfo": {
     "elapsed": 474,
     "status": "ok",
     "timestamp": 1628874771007,
     "user": {
      "displayName": "Marko",
      "photoUrl": "",
      "userId": "10739355790133053471"
     },
     "user_tz": -120
    },
    "id": "material-credits",
    "outputId": "3addbd00-4ea6-4b3d-e81e-9138b439b2d2"
   },
   "outputs": [
    {
     "name": "stdout",
     "output_type": "stream",
     "text": [
      "E(V) =  1.0\n",
      "Var(V) =  2.0\n",
      "sigma_V =  1.4142135623730951\n"
     ]
    },
    {
     "data": {
      "image/png": "[encoded data removed]",
      "text/plain": [
       "<Figure size 432x288 with 1 Axes>"
      ]
     },
     "metadata": {
      "needs_background": "light"
     },
     "output_type": "display_data"
    }
   ],
   "source": [
    "# Use scipy.stats.rv_discrete()\n",
    "vals = np.array([-1, 0, 1, 2, 3])\n",
    "probs = np.ones(vals.size)/(vals.size)\n",
    "\n",
    "uni_rv = stats.rv_discrete(values = (vals, probs))\n",
    "\n",
    "plt.figure()\n",
    "plt.bar(vals, uni_rv.pmf(vals))\n",
    "\n",
    "\n",
    "print('E(V) = ', uni_rv.mean())\n",
    "print('Var(V) = ', uni_rv.var())\n",
    "print('sigma_V = ', uni_rv.std())"
   ]
  },
  {
   "cell_type": "markdown",
   "id": "capital-highlight",
   "metadata": {
    "id": "capital-highlight"
   },
   "source": [
    "### Example 3: Continuous Variables\n",
    "Recall the continuous random variable $X$ given in **Example 4** from the previous lecture. $X$ is a random variable such that $X \\in [0, 1]$, and the pdf is given by\n",
    "\\begin{equation}f(x) = \\frac{15}{2} x^2 (1-x^2)\\end{equation}\n",
    "* Construct a `scipy.stats.rv_continuous` object named `x_rv` for a random variable $X$\n",
    "* Visualize $X$'s pdf\n",
    "* Find the probability $P(0.5 \\leqslant X \\leqslant 0.8)$\n",
    "* Calculate $E(X)$ and $\\sigma_X$"
   ]
  },
  {
   "cell_type": "code",
   "execution_count": 4,
   "id": "secure-lounge",
   "metadata": {
    "colab": {
     "base_uri": "https://localhost:8080/",
     "height": 319
    },
    "executionInfo": {
     "elapsed": 2607,
     "status": "ok",
     "timestamp": 1628877083970,
     "user": {
      "displayName": "Marko",
      "photoUrl": "",
      "userId": "10739355790133053471"
     },
     "user_tz": -120
    },
    "id": "secure-lounge",
    "outputId": "56cc2f78-8efb-4e0e-8089-3a86da0c9a32"
   },
   "outputs": [
    {
     "data": {
      "image/png": "[encoded data removed]",
      "text/plain": [
       "<Figure size 432x288 with 1 Axes>"
      ]
     },
     "metadata": {
      "needs_background": "light"
     },
     "output_type": "display_data"
    },
    {
     "name": "stdout",
     "output_type": "stream",
     "text": [
      "P(0.5 <= X <= 0.8) =  0.5228550000000002\n",
      "E(X) =  0.6250000000002507\n",
      "sigma_X =  0.19479843061696456\n"
     ]
    }
   ],
   "source": [
    "# use scipy.stats.rv_continuous()\n",
    "# first build a generator class with custom _pdf()\n",
    "class x_rv_generator(stats.rv_continuous):\n",
    "    def _pdf(self, x):\n",
    "        return 7.5 * x**2 * ( 1- x**2)\n",
    "\n",
    "x_rv = x_rv_generator(a= 0, b= 1)\n",
    "\n",
    "xs = np.linspace(-0.5, 1.5, 1000)\n",
    "plt.figure()\n",
    "plt.plot(xs,x_rv.pdf(xs) )\n",
    "plt.show()\n",
    "\n",
    "print('P(0.5 <= X <= 0.8) = ',  x_rv.cdf(0.8) - x_rv.cdf(0.5))\n",
    "print('E(X) = ', x_rv.mean())\n",
    "print('sigma_X = ', x_rv.std())"
   ]
  },
  {
   "cell_type": "markdown",
   "id": "composed-gambling",
   "metadata": {
    "id": "composed-gambling"
   },
   "source": [
    "### Example 4: Continuous Variables\n",
    "$Y$ is a random variable such that $Y \\in [0, \\pi]$, and the pdf is given by\n",
    "\\begin{equation}f(y) = \\frac{2\\cdot \\sin^2 x}{\\pi}\\end{equation}\n",
    "* Construct a `scipy.stats.rv_continuous` object named `y_rv` for a random variable $Y$\n",
    "* Visualize $Y$'s pdf\n",
    "* Find the probability $P(0.5 \\leqslant Y \\leqslant 0.8)$ and $P\\left(\\frac{\\pi}{3} \\leqslant Y \\leqslant \\frac{3\\pi}{4}\\right)$\n",
    "* Calculate $E(Y)$ and $\\sigma_Y$\n",
    "\n",
    "**Suggestion** Try this with other values. \n"
   ]
  },
  {
   "cell_type": "code",
   "execution_count": 5,
   "id": "killing-distinction",
   "metadata": {
    "colab": {
     "base_uri": "https://localhost:8080/",
     "height": 337
    },
    "executionInfo": {
     "elapsed": 1702,
     "status": "ok",
     "timestamp": 1628877425380,
     "user": {
      "displayName": "Marko",
      "photoUrl": "",
      "userId": "10739355790133053471"
     },
     "user_tz": -120
    },
    "id": "killing-distinction",
    "outputId": "cba57ba0-174f-405b-f6e7-cd49f2360689"
   },
   "outputs": [
    {
     "data": {
      "image/png": "[encoded data removed]",
      "text/plain": [
       "<Figure size 432x288 with 1 Axes>"
      ]
     },
     "metadata": {
      "needs_background": "light"
     },
     "output_type": "display_data"
    },
    {
     "name": "stdout",
     "output_type": "stream",
     "text": [
      "P(0.5 <= Y <= 0.8) =  0.07033015264748757\n",
      "P(pi/3 <= Y <= 3pi/4) =  0.7136538336140101\n",
      "E(Y) =  1.5707963267948966\n",
      "sigma_Y =  0.5678618083866199\n"
     ]
    }
   ],
   "source": [
    "# use scipy.stats.rv_continuous() and np.pi\n",
    "class y_rv_generator(stats.rv_continuous):\n",
    "    def _pdf(self, x):\n",
    "        return 2*np.sin(x)**2/np.pi\n",
    "\n",
    "y_rv = y_rv_generator(a=0, b=np.pi)\n",
    "\n",
    "xs = np.linspace(0, np.pi, 1000)\n",
    "plt.figure()\n",
    "plt.plot(xs, y_rv.pdf(xs))\n",
    "plt.show()\n",
    "\n",
    "print('P(0.5 <= Y <= 0.8) = ', y_rv.cdf(0.8) - y_rv.cdf(0.5))\n",
    "print('P(pi/3 <= Y <= 3pi/4) = ', y_rv.cdf(3*np.pi/4) - y_rv.cdf(np.pi/3))\n",
    "print('E(Y) = ', y_rv.mean())\n",
    "print('sigma_Y = ', y_rv.std())"
   ]
  },
  {
   "cell_type": "markdown",
   "id": "unusual-arthur",
   "metadata": {
    "id": "unusual-arthur"
   },
   "source": [
    "### Binomial Distribution\n",
    "Recall the example with the couple who planned on having three children. Problems of this and similar nature appear quite frequently. The undelying commonalities for this class of problems are:\n",
    "* There is a fixed, predetermined number of independent trials/observations, usually labeled by $n$\n",
    "* All trials have only two outcomes: either *success* or *failure*\n",
    "* The probability of observing a success in each of the trials is fixed in all trials, and is usually labeled by $p$\n",
    "\n",
    "These three properties describe what is known as **Binomial Setting** which can universally be described using a single probability distribution function called **Binomial Distribution**. The binomial distribution has two *parameters*: the number of trials $n$, and the probability of success in each trial, $p$. If a random variable $X$ **counts the number of successes in the series of trials**, then it follows a binomial distribution with parameters $n$ and $p$, the we write:\n",
    "\\begin{equation} X \\sim \\mathcal{B}(n, p) \\end{equation}\n",
    "For such a discrete random variable $X \\in \\{0, 1, \\ldots, n  \\}$ and the pmf is given by:\n",
    "\\begin{equation} P(X = k) = {n \\choose k}p^k (1-p)^{n-k} \\end{equation}\n",
    "where ${n \\choose k} = \\frac{n!}{k! ~ (n-k)!}$ is called **binomial coefficient** (read: \"$n$ choose $k$\") and $!$ after a number denotes the factoral of the number, e.g. $5! = 5 \\cdot 4 \\cdot 3 \\cdot 2 \\cdot 1$. The binomial coefficient tells you in how many ways you can choose a group of size $k$ if your pool of choices is of size $n$."
   ]
  },
  {
   "cell_type": "markdown",
   "id": "apart-cholesterol",
   "metadata": {
    "id": "apart-cholesterol"
   },
   "source": [
    "### Example 5: Binomial Distribution\n",
    "Each offspring hatched from a particular type of reptile has probability 0.2 of surviving for at least one week. If 6 offspring of these reptiles are hatched, find the probability that:\n",
    "* Exactly 2 of the 6 will survive for at least one week\n",
    "* At most 2 of the 6 will survive for at least one week\n",
    "* At least 3 of the 6 will survive for at least one week"
   ]
  },
  {
   "cell_type": "code",
   "execution_count": 6,
   "id": "experimental-conservation",
   "metadata": {
    "colab": {
     "base_uri": "https://localhost:8080/"
    },
    "executionInfo": {
     "elapsed": 262,
     "status": "ok",
     "timestamp": 1628878403833,
     "user": {
      "displayName": "Marko",
      "photoUrl": "",
      "userId": "10739355790133053471"
     },
     "user_tz": -120
    },
    "id": "experimental-conservation",
    "outputId": "64839642-6eff-43ed-b853-ebee2eede59c"
   },
   "outputs": [
    {
     "name": "stdout",
     "output_type": "stream",
     "text": [
      "P(X=2) =  0.24576000000000003\n",
      "P(X<=2) =  0.9011200000000001\n",
      "P(X>=3) =  0.09888000000000007\n"
     ]
    }
   ],
   "source": [
    "# Use scipy.stats.binom()\n",
    "reptile_rv = stats.binom(n=6, p=0.2)\n",
    "\n",
    "# Exactly 2 of the 6 will survive for at least one week\n",
    "prob_exactly_2 = reptile_rv.pmf(2)\n",
    "print('P(X=2) = ', prob_exactly_2)\n",
    "\n",
    "# At most 2 of the 6 will survive for at least one week\n",
    "prob_at_most_2 = reptile_rv.pmf(0)+reptile_rv.pmf(1)+reptile_rv.pmf(2) \n",
    "          #no reptile survives  + #1 reptile survives +  #2 reptiles survive\n",
    "                   \n",
    "print('P(X<=2) = ', prob_at_most_2)\n",
    "\n",
    "\n",
    "\n",
    "# At least 3 of the 6 will survive for at least one week\n",
    "prob_at_least_3 = reptile_rv.pmf(3)+reptile_rv.pmf(4)+reptile_rv.pmf(5) +reptile_rv.pmf(6) \n",
    "print('P(X>=3) = ', prob_at_least_3)\n"
   ]
  },
  {
   "cell_type": "markdown",
   "id": "continuous-fitting",
   "metadata": {
    "id": "continuous-fitting"
   },
   "source": [
    "### Example 6: Binomial Distribution\n",
    "The Census Bureau's Current Population Survey shows 28% of individuals, ages 25 and older, have completed four years of college (this is 2006 data). For a random sample of 15 individuals, ages 25 and older:\n",
    "* What is the probability 4 will have completed four years of college?\n",
    "* What is the probability 3 or more will have completed four years of college?"
   ]
  },
  {
   "cell_type": "code",
   "execution_count": 7,
   "id": "advised-grant",
   "metadata": {
    "colab": {
     "base_uri": "https://localhost:8080/"
    },
    "executionInfo": {
     "elapsed": 268,
     "status": "ok",
     "timestamp": 1628878911214,
     "user": {
      "displayName": "Marko",
      "photoUrl": "",
      "userId": "10739355790133053471"
     },
     "user_tz": -120
    },
    "id": "advised-grant",
    "outputId": "853f23de-765e-49d2-d5ee-f591cfbde728"
   },
   "outputs": [
    {
     "name": "stdout",
     "output_type": "stream",
     "text": [
      "X = # of people in the sample who have completed college\n",
      "X ~ B(15, 0.28)\n",
      "P(X=4)=  0.2261633547176576\n",
      "P(X>=3)=  0.8354638847772569\n",
      "P(X>=5)=  0.41544622601589354\n",
      "P(X>=10)=  0.0020684757260214237\n"
     ]
    }
   ],
   "source": [
    "college_rv = stats.binom(n=15, p=0.28)\n",
    "\n",
    "print('X = # of people in the sample who have completed college')\n",
    "print('X ~ B(15, 0.28)')\n",
    "#Probability that 4 will have completed four years of college:\n",
    "print('P(X=4)= ', college_rv.pmf(4))\n",
    "\n",
    "#probability 3 or more will have completed four years of college \n",
    "print('P(X>=3)= ', 1- college_rv.cdf(2))   # 1-P(X<=2) = P(X>=3)\n",
    "\n",
    "#probability 5 or more will have completed four years of college \n",
    "print('P(X>=5)= ', 1- college_rv.cdf(4))   # 1-P(X<=4) = P(X>=5)\n",
    "\n",
    "\n",
    "#probability 10 or more will have completed four years of college \n",
    "print('P(X>=10)= ', 1- college_rv.cdf(9))   # 1-P(X<=9) = P(X>=10)"
   ]
  },
  {
   "cell_type": "markdown",
   "id": "accurate-collect",
   "metadata": {
    "id": "accurate-collect"
   },
   "source": [
    "### Poisson Distribution\n",
    "The setting is as such: we are counting *successes* happening through time or space; for example: the total number of traffic accidents, per week, at some intersection, or the total number of typos per page in some book. The undelying commonalities for the class are:\n",
    "* The number of *successes* is described as *rates* -- mean number of successes per \"unit\"\n",
    "* Observations/trials are independent\n",
    "* The mean number of *successes* per unit is scalable\n",
    "\n",
    "The **Poisson Distribution** describes the distribution of probabilities under these conditions. To fully define the Poisson distribution, we need only one parameter: the **mean number of *successes*** per unit, usually labeled by $\\lambda$. If a random variable $X$ counts the number of successes in this setting, then it follows a Poisson distribution with mean $\\lambda$, and we write:\n",
    "\\begin{equation} X \\sim \\mathcal{Po}(\\lambda) \\end{equation}\n",
    "For such a discrete random variable $X \\in \\{0, 1, 2, \\ldots  \\}$ and the pmf is given by:\n",
    "\\begin{equation} P(X = k) = \\frac{\\lambda^k}{k!} \\cdot e^{-\\lambda} \\end{equation}\n",
    "where $e = 2.7172\\ldots$ is Euler's number, the base of the natural exponential/logarithmic function."
   ]
  },
  {
   "cell_type": "markdown",
   "id": "religious-restaurant",
   "metadata": {
    "id": "religious-restaurant"
   },
   "source": [
    "### Example 7: Poisson Distribution\n",
    "Airline passengers arrive randomly and independently at the passenger-screening facility at a major international airport. The mean arrival rate is 10 passengers per minute.\n",
    "* Visualize the distirbution on the range $\\{ 0, 1, \\ldots, 35 \\}$\n",
    "\n",
    "Then calculate the probability that there are:\n",
    "* no arrivals in a one-minute period.\n",
    "* three or fewer passengers arrive in a one-minute period.\n",
    "* no arrivals in a 15-second period.\n",
    "* at least 27 arrivals in a two-minute period."
   ]
  },
  {
   "cell_type": "code",
   "execution_count": 8,
   "id": "extensive-emergency",
   "metadata": {
    "colab": {
     "base_uri": "https://localhost:8080/",
     "height": 441
    },
    "executionInfo": {
     "elapsed": 684,
     "status": "ok",
     "timestamp": 1628926111216,
     "user": {
      "displayName": "Marko",
      "photoUrl": "",
      "userId": "10739355790133053471"
     },
     "user_tz": -120
    },
    "id": "extensive-emergency",
    "outputId": "933c7cea-022e-437d-e11b-b2c6153f7025"
   },
   "outputs": [
    {
     "name": "stdout",
     "output_type": "stream",
     "text": [
      "X = # of people arriving at the passenger-screeing facility in one minute\n",
      "X ~ Po(10)\n",
      "P(X = 0) =  4.5399929762484854e-05\n",
      "P(X <= 3) =  0.010336050675925726\n",
      "P(X_15s = 0) =  0.0820849986238988\n",
      "P(X_2m >=27 ) =  0.07788678109622527\n"
     ]
    },
    {
     "data": {
      "image/png": "[encoded data removed]",
      "text/plain": [
       "<Figure size 1008x360 with 1 Axes>"
      ]
     },
     "metadata": {
      "needs_background": "light"
     },
     "output_type": "display_data"
    }
   ],
   "source": [
    "# use scipy.stats.poisson()\n",
    "# Define lambda\n",
    "lmbd = 10\n",
    "\n",
    "# Define the 1-min distribution\n",
    "poisson_rv_1min = stats.poisson(lmbd)\n",
    "\n",
    "print('X = # of people arriving at the passenger-screeing facility in one minute')\n",
    "print('X ~ Po(10)')\n",
    "# no arrivals in a one-minute period.\n",
    "print('P(X = 0) = ', poisson_rv_1min.pmf(0))\n",
    "\n",
    "#three or fewer passengers arrive in a one-minute period.\n",
    "\n",
    "print('P(X <= 3) = ', poisson_rv_1min.cdf(3))\n",
    "\n",
    "# no arrivals in a 15-second period.\n",
    "poisson_rv_15sec = stats.poisson(lmbd/4)\n",
    "print('P(X_15s = 0) = ', poisson_rv_15sec.pmf(0))\n",
    "\n",
    "#at least seven arrivals in a two-minute period.\n",
    "poisson_rv_2min = stats.poisson(lmbd*2)\n",
    "print('P(X_2m >=27 ) = ', 1- poisson_rv_2min.cdf(26))\n",
    "\n",
    "\n",
    "\n",
    "#visualize\n",
    "ks = np.arange(0, 36)\n",
    "probs = poisson_rv_1min.pmf(ks)\n",
    "plt.figure(figsize=(14,5))\n",
    "plt.bar(ks, poisson_rv_1min.pmf(ks), alpha=0.5, label = 'X ~ Po(10)')\n",
    "plt.bar(ks, poisson_rv_15sec.pmf(ks), alpha=0.5, label = 'Y ~ Po(2.5)')\n",
    "plt.bar(ks, poisson_rv_2min.pmf(ks), alpha=0.5, label = 'Z ~ Po(20)')\n",
    "plt.xlabel('Number of people arriving at the facility')\n",
    "plt.ylabel('Probability')\n",
    "plt.legend()\n",
    "plt.show()"
   ]
  },
  {
   "cell_type": "markdown",
   "id": "AlTJVXc1iyZS",
   "metadata": {
    "id": "AlTJVXc1iyZS"
   },
   "source": [
    "Exercise 7b: Calculate the probability to have exactly 3 or exactly  7 people pass at the facility within a 30 second interval."
   ]
  },
  {
   "cell_type": "code",
   "execution_count": 9,
   "id": "7gxMyQ8_i-3V",
   "metadata": {
    "colab": {
     "base_uri": "https://localhost:8080/"
    },
    "executionInfo": {
     "elapsed": 263,
     "status": "ok",
     "timestamp": 1628926571964,
     "user": {
      "displayName": "Marko",
      "photoUrl": "",
      "userId": "10739355790133053471"
     },
     "user_tz": -120
    },
    "id": "7gxMyQ8_i-3V",
    "outputId": "0f6d2e3e-52bf-43ca-a641-f9a0a4473514"
   },
   "outputs": [
    {
     "name": "stdout",
     "output_type": "stream",
     "text": [
      "P([X_30sec = 3] OR  [X_30sec = 7]) = P([X_30sec = 3])+ P([X_30sec = 7]) =  0.24481875877133447\n"
     ]
    }
   ],
   "source": [
    "lmbd = 10    #for a minute\n",
    "poisson_rv_30sec = stats.poisson(lmbd/2)\n",
    "print('P([X_30sec = 3] OR  [X_30sec = 7]) = P([X_30sec = 3])+ P([X_30sec = 7]) = ', poisson_rv_30sec.pmf(3)+poisson_rv_30sec.pmf(7) )\n"
   ]
  },
  {
   "cell_type": "markdown",
   "id": "parallel-curve",
   "metadata": {
    "id": "parallel-curve"
   },
   "source": [
    "### Example 8: Poisson Distribution\n",
    "An investigation into road quality establishes that major road defects, one month after asphalt-resurfacing, occur at the average rate of 2 defects per kilometer of road. Calculate the probability that there are:\n",
    "* no major defects in a particular one-kilometer section of the road\n",
    "* at least three major defects in a particular one-mile section of the road (1 mile = 1.609 km)"
   ]
  },
  {
   "cell_type": "code",
   "execution_count": 10,
   "id": "recognized-foundation",
   "metadata": {
    "id": "recognized-foundation"
   },
   "outputs": [],
   "source": [
    "# use scipy.stats.poisson()\n"
   ]
  },
  {
   "cell_type": "markdown",
   "id": "configured-delhi",
   "metadata": {
    "id": "configured-delhi"
   },
   "source": [
    "### Normal Distribution\n",
    "The **Normal Distribution** goes by many names, and most people have heard about it. It is also known as **Gaussian Distribution** or **Bell-Curve**. The normal distribution has two parameters: the *location* parameter which is defined by the **mean** $\\mu$ of the distribution (and is the most likely outcome), and the *scale* parameter which is defined by the **variance** $\\sigma^2$ or **standard deviation** $\\sigma$ of the distribution (which determines the horizontal stretch of the distribution). If a random variable $X$ follows a normal distribution with mean $\\mu$ and standard deviation $\\sigma$, we write:\n",
    "\\begin{equation} X \\sim \\mathcal{N}(\\mu, \\sigma) \\end{equation}\n",
    "For any such random variable, $X \\in (-\\infty, \\infty)$ and the pdf is given by:\n",
    "\\begin{equation} f(x \\mid \\mu, \\sigma) = \\displaystyle \\frac{1}{\\sqrt{2\\pi}\\cdot \\sigma}~\\exp\\left( {-\\frac{1}{2} ~ \\left( \\frac{x - \\mu}{\\sigma} \\right)^2} \\right) \\end{equation}\n",
    "\n",
    "Every Normal distribution has a unique definiing property known as **68-95-99.7 Rule** or **Empirical Rule** which relates the mean, the standard deviation, and the normal probabilities:\n",
    "\\begin{equation}\n",
    "\\begin{array}{rcl}\n",
    "P \\big(\\mu - \\sigma \\leqslant X \\leqslant \\mu + \\sigma \\big) &\\approx& 0.68\\\\\n",
    "P \\big(\\mu - 2\\sigma \\leqslant X \\leqslant \\mu + 2\\sigma \\big) &\\approx& 0.95\\\\\n",
    "P \\big(\\mu - 3\\sigma \\leqslant X \\leqslant \\mu + 3\\sigma \\big) &\\approx& 0.997\n",
    "\\end{array}\n",
    "\\end{equation}\n",
    "In other words: only the outcomes which are **within 3 standard deviations of the mean** are relevant, all other outcomes occur so rarely that they can, most frequently, be disregarded."
   ]
  },
  {
   "cell_type": "markdown",
   "id": "trying-plaintiff",
   "metadata": {
    "id": "trying-plaintiff"
   },
   "source": [
    "### Example 9: Normal Distribution\n",
    "The weights of babies born at Prince Louis Maternity Hospital last year averaged $\\mu = 3.0$ kg with a standard deviation of $\\sigma = 200$ grams.\n",
    "* Visualize the distribution in the range $[\\mu - 4\\sigma, \\mu + 4\\sigma]$\n",
    "* What is the probability that a randomly selected baby born at the hospital weighs less than 3.2 kg?\n",
    "* If there were 545 babies born at this hospital last year, estimate the number of babies that weighed between 2.8 kg and 3.4 kg\n",
    "* Find the weight $w$ such that 40% of babies weigh less than $w$"
   ]
  },
  {
   "cell_type": "code",
   "execution_count": 11,
   "id": "polyphonic-district",
   "metadata": {
    "colab": {
     "base_uri": "https://localhost:8080/",
     "height": 337
    },
    "executionInfo": {
     "elapsed": 389,
     "status": "ok",
     "timestamp": 1628927968147,
     "user": {
      "displayName": "Marko",
      "photoUrl": "",
      "userId": "10739355790133053471"
     },
     "user_tz": -120
    },
    "id": "polyphonic-district",
    "outputId": "d78cfadc-5c93-4d52-c39c-ec0403e81840"
   },
   "outputs": [
    {
     "data": {
      "image/png": "[encoded data removed]",
      "text/plain": [
       "<Figure size 432x288 with 1 Axes>"
      ]
     },
     "metadata": {
      "needs_background": "light"
     },
     "output_type": "display_data"
    },
    {
     "name": "stdout",
     "output_type": "stream",
     "text": [
      "P(X<=3.2) 0.8413447460685431\n",
      "P(2.8<X<3.4) 0.8185946141203639\n",
      "446.13406469559834\n",
      "P(X<w) =0.4 for w =  2.94933057937284\n"
     ]
    }
   ],
   "source": [
    "# use scipy.stats.norm()\n",
    "# Define mu and sigma\n",
    "mu = 3\n",
    "sigma =  0.2 #in kilograms!\n",
    "weights_rv = stats.norm(mu, sigma)\n",
    "\n",
    "# Visualize the distribution\n",
    "xs = np.linspace(mu-4*sigma, mu+4*sigma, 1000)\n",
    "plt.figure()\n",
    "plt.plot(xs, weights_rv.pdf(xs))\n",
    "plt.show()\n",
    "\n",
    "\n",
    "\n",
    "# What is the probability that a randomly selected baby born at the hospital weighs less than 3.2 kg?\n",
    "print('P(X<=3.2)', weights_rv.cdf(3.2))\n",
    "\n",
    "\n",
    "# If there were 545 babies born at this hospital last year, estimate the\n",
    "# number of babies that weighed between 2.8 kg and 3.4 kg\n",
    "print('P(2.8<X<3.4)', weights_rv.cdf(3.4) - weights_rv.cdf(2.8))\n",
    "print((weights_rv.cdf(3.4) - weights_rv.cdf(2.8))*545)\n",
    "\n",
    "#Find the weight w such that 40% of babies weigh less than w\n",
    "print('P(X<w) =0.4 for w = ', weights_rv.ppf(0.4))"
   ]
  },
  {
   "cell_type": "markdown",
   "id": "polish-diana",
   "metadata": {
    "id": "polish-diana"
   },
   "source": [
    "### Example 10: Normal Distribution\n",
    "The heights of a group of students are normally distributed with a mean of 160 cm and a standard deviation of 20 cm.\n",
    "* A student is chosen at random. Find the probability that the student’s height is greater than 180 cm.\n",
    "* In this group of students, 11.9% have heights less than $d$ cm. Find the value of $d$."
   ]
  },
  {
   "cell_type": "code",
   "execution_count": 12,
   "id": "french-copying",
   "metadata": {
    "colab": {
     "base_uri": "https://localhost:8080/"
    },
    "executionInfo": {
     "elapsed": 770,
     "status": "ok",
     "timestamp": 1628928320916,
     "user": {
      "displayName": "Marko",
      "photoUrl": "",
      "userId": "10739355790133053471"
     },
     "user_tz": -120
    },
    "id": "french-copying",
    "outputId": "3a5f2c19-7562-420e-bfa7-a6879ca0f99d"
   },
   "outputs": [
    {
     "name": "stdout",
     "output_type": "stream",
     "text": [
      "P(X>1.80) = 1- P(X<=1.80) =  0.15865525393145707\n",
      "P(X<w) =0.119 for w =  1.3639998919304543\n"
     ]
    }
   ],
   "source": [
    "# use scipy.stats.norm()\n",
    "# Define mu and sigma\n",
    "mu = 1.6\n",
    "sigma =  0.2 #in kilograms!\n",
    "heights_rv = stats.norm(mu, sigma)\n",
    "print('P(X>1.80) = 1- P(X<=1.80) = ', 1- heights_rv.cdf(1.8))\n",
    "print('P(X<w) =0.119 for w = ', heights_rv.ppf(0.119))"
   ]
  }
 ],
 "metadata": {
  "colab": {
   "name": "Week 5, Day 2 (Some Special Distributions) CLEAN.ipynb",
   "provenance": []
  },
  "kernelspec": {
   "display_name": "Python 3",
   "language": "python",
   "name": "python3"
  },
  "language_info": {
   "codemirror_mode": {
    "name": "ipython",
    "version": 3
   },
   "file_extension": ".py",
   "mimetype": "text/x-python",
   "name": "python",
   "nbconvert_exporter": "python",
   "pygments_lexer": "ipython3",
   "version": "3.8.8"
  }
 },
 "nbformat": 4,
 "nbformat_minor": 5
}
