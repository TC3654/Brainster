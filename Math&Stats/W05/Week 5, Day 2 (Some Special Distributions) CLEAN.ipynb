{
 "cells": [
  {
   "cell_type": "markdown",
   "id": "forward-cardiff",
   "metadata": {},
   "source": [
    "# Week 5: Probability Distributions"
   ]
  },
  {
   "cell_type": "code",
   "execution_count": 1,
   "id": "incredible-father",
   "metadata": {},
   "outputs": [],
   "source": [
    "# Loading the libraries\n",
    "import numpy as np\n",
    "import sympy as sy\n",
    "import pandas as pd\n",
    "import matplotlib.pyplot as plt\n",
    "import seaborn as sns\n",
    "import scipy.stats as stats"
   ]
  },
  {
   "cell_type": "markdown",
   "id": "middle-geneva",
   "metadata": {},
   "source": [
    "## Days 2 and 3: Some Special Probability Distributions\n",
    "\n",
    "* Previously we have introduced the concept of a **random variable**, and the concept of **probability distribution** (via the *probability mass function* /pmf/ and *probability densiti function* /pdf/)\n",
    "* Now we talk about some probability distributions that frequently appear in the study of statistics and machine learning \n",
    "\n",
    "### Constucting Random Variables from scratch using `scipy.stats`\n",
    "* First order of business will be to learn how to construct a random variable from scratch using only values and probabilities\n",
    "* To illustrate the process, we will use two examples from before. The data is provided below"
   ]
  },
  {
   "cell_type": "markdown",
   "id": "moderate-display",
   "metadata": {},
   "source": [
    "### Example 1: Discrete Variables\n",
    "Recall the example about supplying refurbished computers to a client. The random variable $L$ - total loss - is given in the following table.\n",
    "\n",
    "| $k$ | \\$0 | \\$100 | \\$1000|\n",
    "|:---:|:---:|:-----:|:-----:|\n",
    "|$P(L=k)$|0.528 | 0.416 | 0.056|\n",
    "\n",
    "* Construct the variable `comp_loss` as a `scipy.stats` object\n",
    "* Visualize its distribution on a bar graph\n",
    "* Calculate: $E(L)$, $Var(L)$, $\\sigma_L$"
   ]
  },
  {
   "cell_type": "code",
   "execution_count": null,
   "id": "median-handbook",
   "metadata": {},
   "outputs": [],
   "source": [
    "# Use scipy.stats.rv_discrete()\n",
    "vals = \n",
    "probs = \n",
    "\n",
    "comp_loss = \n",
    "\n",
    "plt.figure()\n",
    "plt.bar(['$0', '$100', '$1000'], )\n",
    "plt.show()\n",
    "\n",
    "print('E(L) = ', )\n",
    "print('Var(L) = ', )\n",
    "print('sigma_L = ', )"
   ]
  },
  {
   "cell_type": "markdown",
   "id": "available-dodge",
   "metadata": {},
   "source": [
    "### Example 2: Discrete Variables\n",
    "Construct a `scipy.stats.rv_discrete` object named `uni_rv` for a random variable $V$ which takes only the integer values $V = \\{ -1, 0, 1, 2, 3 \\}$, all of them with equal probability (this is the discrete uniform distribution on the set $V$. Then:\n",
    "* Visualize its distribution on a bar graph\n",
    "* Calculate: $E(V)$, $Var(V)$, $\\sigma_V$"
   ]
  },
  {
   "cell_type": "code",
   "execution_count": null,
   "id": "material-credits",
   "metadata": {},
   "outputs": [],
   "source": [
    "# Use scipy.stats.rv_discrete()\n"
   ]
  },
  {
   "cell_type": "markdown",
   "id": "capital-highlight",
   "metadata": {},
   "source": [
    "### Example 3: Continuous Variables\n",
    "Recall the continuous random variable $X$ given in **Example 4** from the previous lecture. $X$ is a random variable such that $X \\in [0, 1]$, and the pdf is given by\n",
    "\\begin{equation}f(x) = \\frac{15}{2} x^2 (1-x^2)\\end{equation}\n",
    "* Construct a `scipy.stats.rv_continuous` object named `x_rv` for a random variable $X$\n",
    "* Visualize $X$'s pdf\n",
    "* Find the probability $P(0.5 \\leqslant X \\leqslant 0.8)$\n",
    "* Calculate $E(X)$ and $\\sigma_X$"
   ]
  },
  {
   "cell_type": "code",
   "execution_count": 2,
   "id": "secure-lounge",
   "metadata": {},
   "outputs": [
    {
     "ename": "AttributeError",
     "evalue": "'x_rv_generator' object has no attribute 'pdf'",
     "output_type": "error",
     "traceback": [
      "\u001b[1;31m---------------------------------------------------------------------------\u001b[0m",
      "\u001b[1;31mAttributeError\u001b[0m                            Traceback (most recent call last)",
      "\u001b[1;32m<ipython-input-2-fd312baa9d07>\u001b[0m in \u001b[0;36m<module>\u001b[1;34m\u001b[0m\n\u001b[0;32m      9\u001b[0m \u001b[0mxs\u001b[0m \u001b[1;33m=\u001b[0m \u001b[0mnp\u001b[0m\u001b[1;33m.\u001b[0m\u001b[0mlinspace\u001b[0m\u001b[1;33m(\u001b[0m\u001b[1;33m-\u001b[0m\u001b[1;36m0.5\u001b[0m\u001b[1;33m,\u001b[0m \u001b[1;36m1.5\u001b[0m\u001b[1;33m,\u001b[0m \u001b[1;36m1000\u001b[0m\u001b[1;33m)\u001b[0m\u001b[1;33m\u001b[0m\u001b[1;33m\u001b[0m\u001b[0m\n\u001b[0;32m     10\u001b[0m \u001b[0mplt\u001b[0m\u001b[1;33m.\u001b[0m\u001b[0mfigure\u001b[0m\u001b[1;33m(\u001b[0m\u001b[1;33m)\u001b[0m\u001b[1;33m\u001b[0m\u001b[1;33m\u001b[0m\u001b[0m\n\u001b[1;32m---> 11\u001b[1;33m \u001b[0mplt\u001b[0m\u001b[1;33m.\u001b[0m\u001b[0mplot\u001b[0m\u001b[1;33m(\u001b[0m\u001b[0mxs\u001b[0m\u001b[1;33m,\u001b[0m \u001b[0mx_rv\u001b[0m\u001b[1;33m.\u001b[0m\u001b[0mpdf\u001b[0m\u001b[1;33m(\u001b[0m\u001b[0mxs\u001b[0m\u001b[1;33m)\u001b[0m\u001b[1;33m)\u001b[0m\u001b[1;33m\u001b[0m\u001b[1;33m\u001b[0m\u001b[0m\n\u001b[0m\u001b[0;32m     12\u001b[0m \u001b[0mplt\u001b[0m\u001b[1;33m.\u001b[0m\u001b[0mshow\u001b[0m\u001b[1;33m(\u001b[0m\u001b[1;33m)\u001b[0m\u001b[1;33m\u001b[0m\u001b[1;33m\u001b[0m\u001b[0m\n\u001b[0;32m     13\u001b[0m \u001b[1;33m\u001b[0m\u001b[0m\n",
      "\u001b[1;31mAttributeError\u001b[0m: 'x_rv_generator' object has no attribute 'pdf'"
     ]
    },
    {
     "data": {
      "text/plain": [
       "<Figure size 432x288 with 0 Axes>"
      ]
     },
     "metadata": {},
     "output_type": "display_data"
    }
   ],
   "source": [
    "# use scipy.stats.rv_continuous()\n",
    "# first build a generator class with custom _pdf()\n",
    "class x_rv_generator():\n",
    "    def _pdf():\n",
    "        return 7.5 * x**2 * (1 - x**2)\n",
    "\n",
    "x_rv = x_rv_generator()\n",
    "\n",
    "xs = np.linspace(-0.5, 1.5, 1000)\n",
    "plt.figure()\n",
    "plt.plot(xs, x_rv.pdf(xs))\n",
    "plt.show()\n",
    "\n",
    "print('P(0.5 <= X <= 0.8) = ', x_rv.cdf(0.8) - x_rv.cdf(0.5))\n",
    "print('E(X) = ', )\n",
    "print('sigma_X = ', )"
   ]
  },
  {
   "cell_type": "markdown",
   "id": "composed-gambling",
   "metadata": {},
   "source": [
    "### Example 4: Continuous Variables\n",
    "$Y$ is a random variable such that $Y \\in [0, \\pi]$, and the pdf is given by\n",
    "\\begin{equation}f(y) = \\frac{2\\cdot \\sin^2 x}{\\pi}\\end{equation}\n",
    "* Construct a `scipy.stats.rv_continuous` object named `y_rv` for a random variable $Y$\n",
    "* Visualize $Y$'s pdf\n",
    "* Find the probability $P(0.5 \\leqslant Y \\leqslant 0.8)$ and $P\\left(\\frac{\\pi}{3} \\leqslant Y \\leqslant \\frac{3\\pi}{4}\\right)$\n",
    "* Calculate $E(Y)$ and $\\sigma_Y$"
   ]
  },
  {
   "cell_type": "code",
   "execution_count": null,
   "id": "killing-distinction",
   "metadata": {},
   "outputs": [],
   "source": [
    "# use scipy.stats.rv_continuous() and np.pi\n"
   ]
  },
  {
   "cell_type": "markdown",
   "id": "unusual-arthur",
   "metadata": {},
   "source": [
    "### Binomial Distribution\n",
    "Recall the example with the couple who planned on having three children. Problems of this and similar nature appear quite frequently. The undelying commonalities for this class of problems are:\n",
    "* There is a fixed, predetermined number of independent trials/observations, usually labeled by $n$\n",
    "* All trials have only two outcomes: either *success* or *failure*\n",
    "* The probability of observing a success in each of the trials is fixed in all trials, and is usually labeled by $p$\n",
    "\n",
    "These three properties describe what is known as **Binomial Setting** which can universally be described using a single probability distribution function called **Binomial Distribution**. The binomial distribution has two *parameters*: the number of trials $n$, and the probability of success in each trial, $p$. If a random variable $X$ **counts the number of successes in the series of trials**, then it follows a binomial distribution with parameters $n$ and $p$, the we write:\n",
    "\\begin{equation} X \\sim \\mathcal{B}(n, p) \\end{equation}\n",
    "For such a discrete random variable $X \\in \\{0, 1, \\ldots, n  \\}$ and the pmf is given by:\n",
    "\\begin{equation} P(X = k) = {n \\choose k}p^k (1-p)^{n-k} \\end{equation}\n",
    "where ${n \\choose k} = \\frac{n!}{k! ~ (n-k)!}$ is called **binomial coefficient** (read: \"$n$ choose $k$\") and $!$ after a number denotes the factoral of the number, e.g. $5! = 5 \\cdot 4 \\cdot 3 \\cdot 2 \\cdot 1$. The binomial coefficient tells you in how many ways you can choose a group of size $k$ if your pool of choices is of size $n$."
   ]
  },
  {
   "cell_type": "markdown",
   "id": "apart-cholesterol",
   "metadata": {},
   "source": [
    "### Example 5: Binomial Distribution\n",
    "Each offspring hatched from a particular type of reptile has probability 0.2 of surviving for at least one week. If 6 offspring of these reptiles are hatched, find the probability that:\n",
    "* Exactly 2 of the 6 will survive for at least one week\n",
    "* At most 2 of the 6 will survive for at least one week\n",
    "* At least 3 of the 6 will survive for at least one week"
   ]
  },
  {
   "cell_type": "code",
   "execution_count": null,
   "id": "experimental-conservation",
   "metadata": {},
   "outputs": [],
   "source": [
    "# Use scipy.stats.binom()\n",
    "reptile_rv = stats.binom()\n",
    "\n",
    "# Exactly 2 of the 6 will survive for at least one week\n",
    "\n",
    "\n",
    "\n",
    "# At most 2 of the 6 will survive for at least one week\n",
    "\n",
    "\n",
    "\n",
    "# At least 3 of the 6 will survive for at least one week\n"
   ]
  },
  {
   "cell_type": "markdown",
   "id": "continuous-fitting",
   "metadata": {},
   "source": [
    "### Example 6: Binomial Distribution\n",
    "The Census Bureau's Current Population Survey shows 28% of individuals, ages 25 and older, have completed four years of college (this is 2006 data). For a random sample of 15 individuals, ages 25 and older:\n",
    "* What is the probability 4 will have completed four years of college?\n",
    "* What is the probability 3 or more will have completed four years of college?"
   ]
  },
  {
   "cell_type": "code",
   "execution_count": null,
   "id": "advised-grant",
   "metadata": {},
   "outputs": [],
   "source": []
  },
  {
   "cell_type": "markdown",
   "id": "accurate-collect",
   "metadata": {},
   "source": [
    "### Poisson Distribution\n",
    "The setting is as such: we are counting *successes* happening through time or space; for example: the total number of traffic accidents, per week, at some intersection, or the total number of typos per page in some book. The undelying commonalities for the class are:\n",
    "* The number of *successes* is described as *rates* -- mean number of successes per \"unit\"\n",
    "* Observations/trials are independent\n",
    "* The mean number of *successes* per unit is scalable\n",
    "\n",
    "The **Poisson Distribution** describes the distribution of probabilities under these conditions. To fully define the Poisson distribution, we need only one parameter: the **mean number of *successes*** per unit, usually labeled by $\\lambda$. If a random variable $X$ counts the number of successes in this setting, then it follows a Poisson distribution with mean $\\lambda$, and we write:\n",
    "\\begin{equation} X \\sim \\mathcal{Po}(\\lambda) \\end{equation}\n",
    "For such a discrete random variable $X \\in \\{0, 1, 2, \\ldots  \\}$ and the pmf is given by:\n",
    "\\begin{equation} P(X = k) = \\frac{\\lambda^k}{k!} \\cdot e^{-\\lambda} \\end{equation}\n",
    "where $e = 2.7172\\ldots$ is Euler's number, the base of the natural exponential/logarithmic function."
   ]
  },
  {
   "cell_type": "markdown",
   "id": "religious-restaurant",
   "metadata": {},
   "source": [
    "### Example 7: Poisson Distribution\n",
    "Airline passengers arrive randomly and independently at the passenger-screening facility at a major international airport. The mean arrival rate is 10 passengers per minute.\n",
    "* Visualize the distirbution on the range $\\{ 0, 1, \\ldots, 35 \\}$\n",
    "\n",
    "Then calculate the probability that there are:\n",
    "* no arrivals in a one-minute period.\n",
    "* three or fewer passengers arrive in a one-minute period.\n",
    "* no arrivals in a 15-second period.\n",
    "* at least 27 arrivals in a two-minute period."
   ]
  },
  {
   "cell_type": "code",
   "execution_count": null,
   "id": "extensive-emergency",
   "metadata": {},
   "outputs": [],
   "source": [
    "# use scipy.stats.poisson()\n",
    "# Define lambda\n",
    "lmbd = \n",
    "\n",
    "# Define the 1-min distribution\n",
    "poisson_rv_1min = \n",
    "\n",
    "\n",
    "# no arrivals in a one-minute period.\n",
    "\n",
    "\n",
    "#three or fewer passengers arrive in a one-minute period.\n",
    "\n",
    "\n",
    "\n",
    "# no arrivals in a 15-second period.\n",
    "\n",
    "\n",
    "#at least seven arrivals in a two-minute period.\n",
    "\n",
    "\n",
    "\n",
    "\n",
    "\n",
    "#visualize\n",
    "ks = np.arange(0, 36)\n",
    "probs = poisson_rv_1min.pmf(ks)\n",
    "plt.figure(figsize=(14,5))\n",
    "plt.bar(ks, , alpha=0.5, label = 'X ~ Po(10)')\n",
    "\n",
    "plt.xlabel('Number of people arriving at the facility')\n",
    "plt.ylabel('Probability')\n",
    "plt.legend()\n",
    "plt.show()"
   ]
  },
  {
   "cell_type": "markdown",
   "id": "parallel-curve",
   "metadata": {},
   "source": [
    "### Example 8: Poisson Distribution\n",
    "An investigation into road quality establishes that major road defects, one month after asphalt-resurfacing, occur at the average rate of 2 defects per kilometer of road. Calculate the probability that there are:\n",
    "* no major defects in a particular one-kilometer section of the road\n",
    "* at least three major defects in a particular one-mile section of the road (1 mile = 1.609 km)"
   ]
  },
  {
   "cell_type": "code",
   "execution_count": null,
   "id": "recognized-foundation",
   "metadata": {},
   "outputs": [],
   "source": [
    "# use scipy.stats.poisson()\n"
   ]
  },
  {
   "cell_type": "markdown",
   "id": "configured-delhi",
   "metadata": {},
   "source": [
    "### Normal Distribution\n",
    "The **Normal Distribution** goes by many names, and most people have heard about it. It is also known as **Gaussian Distribution** or **Bell-Curve**. The normal distribution has two parameters: the *location* parameter which is defined by the **mean** $\\mu$ of the distribution (and is the most likely outcome), and the *scale* parameter which is defined by the **variance** $\\sigma^2$ or **standard deviation** $\\sigma$ of the distribution (which determines the horizontal stretch of the distribution). If a random variable $X$ follows a normal distribution with mean $\\mu$ and standard deviation $\\sigma$, we write:\n",
    "\\begin{equation} X \\sim \\mathcal{N}(\\mu, \\sigma) \\end{equation}\n",
    "For any such random variable, $X \\in (-\\infty, \\infty)$ and the pdf is given by:\n",
    "\\begin{equation} f(x \\mid \\mu, \\sigma) = \\displaystyle \\frac{1}{\\sqrt{2\\pi}\\cdot \\sigma}~\\exp\\left( {-\\frac{1}{2} ~ \\left( \\frac{x - \\mu}{\\sigma} \\right)^2} \\right) \\end{equation}\n",
    "\n",
    "Every Normal distribution has a unique definiing property known as **68-95-99.7 Rule** or **Empirical Rule** which relates the mean, the standard deviation, and the normal probabilities:\n",
    "\\begin{equation}\n",
    "\\begin{array}{rcl}\n",
    "P \\big(\\mu - \\sigma \\leqslant X \\leqslant \\mu + \\sigma \\big) &\\approx& 0.68\\\\\n",
    "P \\big(\\mu - 2\\sigma \\leqslant X \\leqslant \\mu + 2\\sigma \\big) &\\approx& 0.95\\\\\n",
    "P \\big(\\mu - 3\\sigma \\leqslant X \\leqslant \\mu + 3\\sigma \\big) &\\approx& 0.997\n",
    "\\end{array}\n",
    "\\end{equation}\n",
    "In other words: only the outcomes which are **within 3 standard deviations of the mean** are relevant, all other outcomes occur so rarely that they can, most frequently, be disregarded."
   ]
  },
  {
   "cell_type": "markdown",
   "id": "trying-plaintiff",
   "metadata": {},
   "source": [
    "### Example 9: Normal Distribution\n",
    "The weights of babies born at Prince Louis Maternity Hospital last year averaged $\\mu = 3.0$ kg with a standard deviation of $\\sigma = 200$ grams.\n",
    "* Visualize the distribution in the range $[\\mu - 4\\sigma, \\mu + 4\\sigma]$\n",
    "* What is the probability that a randomly selected baby born at the hospital weighs less than 3.2 kg?\n",
    "* If there were 545 babies born at this hospital last year, estimate the number of babies that weighed between 2.8 kg and 3.4 kg\n",
    "* Find the weight $w$ such that 40% of babies weigh less than $w$"
   ]
  },
  {
   "cell_type": "code",
   "execution_count": null,
   "id": "polyphonic-district",
   "metadata": {},
   "outputs": [],
   "source": [
    "# use scipy.stats.norm()\n",
    "# Define mu and sigma\n",
    "mu = \n",
    "sigma =  #in kilograms!\n",
    "weights_rv = stats.norm()\n",
    "\n",
    "# Visualize the distribution\n",
    "xs = np.linspace(mu-4*sigma, mu+4*sigma, 1000)\n",
    "plt.figure()\n",
    "plt.plot(xs, )\n",
    "plt.show()\n",
    "\n",
    "\n",
    "\n",
    "# What is the probability that a randomly selected baby born at the hospital weighs less than 3.2 kg?\n",
    "\n",
    "\n",
    "\n",
    "# If there were 545 babies born at this hospital last year, estimate the\n",
    "# number of babies that weighed between 2.8 kg and 3.4 kg\n",
    "\n",
    "\n",
    "\n",
    "#Find the weight w such that 40% of babies weigh less than w\n"
   ]
  },
  {
   "cell_type": "markdown",
   "id": "polish-diana",
   "metadata": {},
   "source": [
    "### Example 10: Normal Distribution\n",
    "The heights of a group of students are normally distributed with a mean of 160 cm and a standard deviation of 20 cm.\n",
    "* A student is chosen at random. Find the probability that the student’s height is greater than 180 cm.\n",
    "* In this group of students, 11.9% have heights less than $d$ cm. Find the value of $d$."
   ]
  },
  {
   "cell_type": "code",
   "execution_count": null,
   "id": "french-copying",
   "metadata": {},
   "outputs": [],
   "source": []
  }
 ],
 "metadata": {
  "kernelspec": {
   "display_name": "Python 3",
   "language": "python",
   "name": "python3"
  },
  "language_info": {
   "codemirror_mode": {
    "name": "ipython",
    "version": 3
   },
   "file_extension": ".py",
   "mimetype": "text/x-python",
   "name": "python",
   "nbconvert_exporter": "python",
   "pygments_lexer": "ipython3",
   "version": "3.8.8"
  }
 },
 "nbformat": 4,
 "nbformat_minor": 5
}
