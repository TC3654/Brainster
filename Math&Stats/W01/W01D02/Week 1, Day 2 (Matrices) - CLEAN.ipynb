{
 "cells": [
  {
   "cell_type": "markdown",
   "id": "bound-discrimination",
   "metadata": {},
   "source": [
    "# Linear Algebra"
   ]
  },
  {
   "cell_type": "code",
   "execution_count": 1,
   "id": "blond-coordinate",
   "metadata": {},
   "outputs": [],
   "source": [
    "#importing libraries\n",
    "import numpy\n",
    "import numpy as np\n",
    "import numpy.linalg as nla\n",
    "import scipy.linalg as sla\n",
    "import matplotlib.pyplot as plt"
   ]
  },
  {
   "cell_type": "markdown",
   "id": "interested-plane",
   "metadata": {},
   "source": [
    "## Matrices"
   ]
  },
  {
   "cell_type": "markdown",
   "id": "structured-virtue",
   "metadata": {},
   "source": [
    "* Matrices are two-dimensional lists of numbers\n",
    "* Think of matrices as vectors of vectors\n",
    "* On a more abstract level, matrices describe **linear mappings** from one vector space to another\n",
    "* Data are frequently given in a matrix form, so the study of matrices comes naturally"
   ]
  },
  {
   "cell_type": "markdown",
   "id": "senior-drain",
   "metadata": {},
   "source": [
    "## Creating matrices"
   ]
  },
  {
   "cell_type": "code",
   "execution_count": null,
   "id": "prerequisite-jacket",
   "metadata": {},
   "outputs": [],
   "source": [
    "# creating matrices using numpy.array\n",
    "\n",
    "A = np.array([[1, 2], [3, 4], [5, 6]])\n",
    "\n",
    "B = np.array([[-1, 0, 1], [0, 2, 1], [3, -1, -2]])\n",
    "\n",
    "C = np.array([[1, -2, 3], [-4, 5, -6], [7, -8, 9]])\n",
    "\n",
    "D = np.array([[5, -2, 4], [1, 0, -1]])\n",
    "\n",
    "O = np.zeros([3,3])\n",
    "\n",
    "I = np.eye(3)\n",
    "\n",
    "\n",
    "matrix_list = [A, B, C, D, O, I]\n",
    "for matrix in matrix_list:\n",
    "    print(matrix)\n",
    "    print()"
   ]
  },
  {
   "cell_type": "code",
   "execution_count": null,
   "id": "sufficient-cooking",
   "metadata": {},
   "outputs": [],
   "source": [
    "# Matrix dimensionality\n",
    "# (note the difference between .shape and .size)\n"
   ]
  },
  {
   "cell_type": "markdown",
   "id": "binding-hamburg",
   "metadata": {},
   "source": [
    "## Operations with matrices\n",
    "* First we take a look at operations that are performed by operating on components"
   ]
  },
  {
   "cell_type": "code",
   "execution_count": null,
   "id": "fatty-bracelet",
   "metadata": {},
   "outputs": [],
   "source": [
    "# Component-wise operations\n",
    "# These are possible only if the matrices have same dimensionality\n",
    "\n",
    "summ = B + C\n",
    "\n",
    "diff = B - C\n",
    "\n",
    "c_prod = B * C\n",
    "\n",
    "quot = B / C\n",
    "\n",
    "scalar_mult = 0.5 * A\n",
    "\n",
    "operations_list = [summ, diff, c_prod, quot, scalar_mult]\n",
    "for matrix in operations_list:\n",
    "    print(matrix)\n",
    "    print()"
   ]
  },
  {
   "cell_type": "code",
   "execution_count": null,
   "id": "electrical-organization",
   "metadata": {},
   "outputs": [],
   "source": [
    "# Multiple operations:\n",
    "print(3*B - 2*C - I)"
   ]
  },
  {
   "cell_type": "markdown",
   "id": "french-laptop",
   "metadata": {},
   "source": [
    "* Matrix transposition: restructuring a matrix by switching rows and columns. If $A$ is the matrix, then $A^T$ is its transpose\n",
    "* Trace of a matrix: sum of the elements along the diagonal of a matrix. We label the trace by $\\mathrm{tr}(A)$\n",
    "* Determinant of a matrix: a number assigned to a **square** matrix, labeled by $\\det(A)$"
   ]
  },
  {
   "cell_type": "code",
   "execution_count": null,
   "id": "american-booking",
   "metadata": {},
   "outputs": [],
   "source": [
    "# Matrix transposition\n",
    "\n",
    "\n",
    "# Trace\n",
    "\n",
    "\n",
    "# Determinant\n"
   ]
  },
  {
   "cell_type": "markdown",
   "id": "wrong-rocket",
   "metadata": {},
   "source": [
    "* Next we take look at **matrix multiplication** which is not performed component-wise\n",
    "* The *actual* matrix multiplication is performed by dot-multiplying rows from the first multiplier by columns from the second multiplier\n",
    "* Matrix multiplication is only possible when multiplying (m, p) by (p, n) matrices; the product will have a dimension (m, n)"
   ]
  },
  {
   "cell_type": "code",
   "execution_count": null,
   "id": "juvenile-interim",
   "metadata": {},
   "outputs": [],
   "source": [
    "# Matrix multiplication\n",
    "# (unlike number multiplication, matrix multiplication is not commutiative, even when it can be performed)\n"
   ]
  },
  {
   "cell_type": "markdown",
   "id": "certified-watson",
   "metadata": {},
   "source": [
    "## Types of matrices\n",
    "\n",
    "* Square\n",
    "* Symmetric\n",
    "* Triangular\n",
    "* Diagonal\n",
    "* Orthogonal"
   ]
  },
  {
   "cell_type": "code",
   "execution_count": null,
   "id": "functioning-marks",
   "metadata": {},
   "outputs": [],
   "source": [
    "# Square matrix: dimension (n, n)\n",
    "\n",
    "\n",
    "# Symmetric matrix: A = A.T\n",
    "\n",
    "\n",
    "# Triangular matrix: zeros above the diagonal (lower-triangular) or below the diagonal (upper-triangular)\n",
    "\n",
    "\n",
    "\n",
    "\n",
    "# Diagonal matrix: zeros everywhere, except (possibly) on the diagonal\n",
    "\n",
    "\n",
    "# Identity matrix: diagonal matrix with ones on the diagonal\n",
    "# (can be generated with numpy.eye or numpy.identity)\n",
    "print(I)\n",
    "print()\n",
    "\n",
    "# Orthogonal matrix: Q.dot(Q.T) = I\n",
    "Q = np.array([[1/3, -2/3, 2/3], [2/3, -1/3, -2/3], [2/3, 2/3, 1/3]])\n",
    "print(Q.dot(Q.T))\n",
    "print()"
   ]
  },
  {
   "cell_type": "markdown",
   "id": "perceived-thesis",
   "metadata": {},
   "source": [
    "## Inverse matrices of square matrices\n",
    "* The identity matrix acts as 'one' or 'unit' in matrix multiplication: has no effect under the operation\n",
    "* This is similar to reciprocal numbers: e.g.   $2 \\cdot \\frac{1}{2} = 2 \\cdot 2^{-1} = 1$\n",
    "* In general, if $a \\neq 0$, then  $a \\cdot \\frac{1}{a} = a \\cdot a^{-1} = 1$\n",
    "* In context of matrices: given a square matrix $M$, **if** there exists a matrix $M'$ such that $M\\cdot M' = M' \\cdot M = I$, then we call the matrix $M$ invertible matrix, and the matrix $M'$ -- inverse of $M$. The inverse matrix is most frequently labelled as $M^{-1}$.\n",
    "* Note that the inverse matrix might not exist!"
   ]
  },
  {
   "cell_type": "code",
   "execution_count": null,
   "id": "precious-wiring",
   "metadata": {},
   "outputs": [],
   "source": [
    "# Inverse matrix: use np.inv()\n",
    "M = np.array([[-1, 3/2], [1, -1]])\n",
    "\n",
    "\n",
    "\n",
    "\n",
    "# numpy.linalg.det can be used to see if a matrix is invertible by calculating its determinant\n",
    "# if det(M) = 0, then M is not invertible\n",
    "N = np.array([[5, -5, 0], [0, 0, 0], [3, -3, 2]]) #not invertible\n"
   ]
  },
  {
   "cell_type": "markdown",
   "id": "palestinian-empty",
   "metadata": {},
   "source": [
    "### Solving systems of linear equations using matrices\n",
    "Every system of linear equations can be represented as a **matrix equation**. For example, the system:\n",
    "\\begin{equation}\n",
    "\\left\\{\n",
    "\\begin{array}{rcl}\n",
    "    2 x_1 + 3 x_2 & = & 6\\\\\n",
    "    x_1 - x_2 & = & 2\n",
    "\\end{array}\n",
    "\\right.\n",
    "\\end{equation}\n",
    "\n",
    "can be represented as a matrix equation $Ax = b$ where:\n",
    "\\begin{equation}\n",
    "A = \n",
    "    \\begin{bmatrix}\n",
    "    2 & 3\\\\\n",
    "    1 & -1\n",
    "    \\end{bmatrix}\n",
    "\\qquad\\qquad\n",
    "x = \n",
    "    \\begin{bmatrix}\n",
    "    x_1\\\\\n",
    "    x_2\n",
    "    \\end{bmatrix}\n",
    "\\qquad\\qquad\n",
    "b = \n",
    "    \\begin{bmatrix}\n",
    "    6\\\\\n",
    "    -2\n",
    "    \\end{bmatrix}\n",
    "\\end{equation}\n",
    "\n",
    "This system can then be solved by using the inverse of the matrix $A$ to get the solution $x$ by calculating:\n",
    "\\begin{equation}x = A^{-1}b\\end{equation}"
   ]
  },
  {
   "cell_type": "code",
   "execution_count": null,
   "id": "placed-imagination",
   "metadata": {},
   "outputs": [],
   "source": [
    "# Solving a system of equations using inverse matrices\n",
    "\n"
   ]
  },
  {
   "cell_type": "markdown",
   "id": "powerful-vaccine",
   "metadata": {},
   "source": [
    "## Pseudoinverse matrices for non-square matrices\n",
    "* The concept of an inverse matrix is defined only for square matrices. For non-square matrices we define another concept, closely paralleling the inverse matrix.\n",
    "* For non-square matrices we introduce the concept os a **pseudoinverse matrix**. The full name is **Moore-Penrose inverse matrix**.\n",
    "* Given a matrix $A$, the its pseudoinverse $A^+$ satisfies the following conditions:\n",
    "\\begin{equation}\n",
    "\\begin{array}{rcl}\n",
    "    A A^+ A & = & A\\\\\n",
    "    A^+ A A^+ & = & A^+\\\\\n",
    "\\end{array}\n",
    "\\end{equation}\n",
    "Additionally, both $A^+ A$ and $AA^+$ are symmetric. The first product is always the identity matrix of an appropriate order, but the second product is not an identity matrix."
   ]
  },
  {
   "cell_type": "code",
   "execution_count": null,
   "id": "frequent-score",
   "metadata": {},
   "outputs": [],
   "source": [
    "# Pseudoinverse of a non-square matrix\n",
    "M = np.array([[1, 2], [3, 4], [5, 6], [7, 8]])\n"
   ]
  },
  {
   "cell_type": "markdown",
   "id": "separated-exclusion",
   "metadata": {},
   "source": [
    "### Solving overdetermined systems of linear equations using pseudoinverse matrices\n",
    "* When a linear system has more equations than it has variables, we call it **overdetermined** (similarly, if there are less equations than variables, we call it **underdetermined**)\n",
    "* Overdetermined systems appear regularly in **least squares regression**, so it is natural to look at methods of solving\n",
    "* An overdetermined system does not always have a solution: sometimes the \"solution\" or pseudosolution is a set of values which are as close to being a solution to the system as possible.\n",
    "* If the overdetermined system is given by $Ax = b$, then the pseudosolution $\\tilde{x}$ is given by\n",
    "\\begin{equation} \\tilde{x} = A^+ b \\end{equation}"
   ]
  },
  {
   "cell_type": "markdown",
   "id": "random-potter",
   "metadata": {},
   "source": [
    "#### Example: the system has an exact solution\n",
    "Solve the following system:\n",
    "\\begin{equation}\n",
    "\\left\\{\n",
    "\\begin{array}{rcl}\n",
    "    x_1 + x_2 &=& 2\\\\\n",
    "    2 x_1 - x_2 &=& 1\\\\\n",
    "    -5 x_1 + 7 x_2 &=& 2\\\\\n",
    "    3 x_1 + 5 x_2 &=&8\n",
    "\\end{array}\n",
    "\\right.\n",
    "\\end{equation}"
   ]
  },
  {
   "cell_type": "code",
   "execution_count": null,
   "id": "threaded-position",
   "metadata": {},
   "outputs": [],
   "source": [
    "# System has an exact solution\n"
   ]
  },
  {
   "cell_type": "markdown",
   "id": "dynamic-words",
   "metadata": {},
   "source": [
    "#### Example: the system does not have an exact solution\n",
    "Solve the following system:\n",
    "\\begin{equation}\n",
    "\\left\\{\n",
    "\\begin{array}{rcl}\n",
    "    x_1 + 3 x_2 &=& 17\\\\\n",
    "    5 x_1 + 7 x_2 &=& 19\\\\\n",
    "    11 x_1 + 13 x_2 &=& 23\n",
    "\\end{array}\n",
    "\\right.\n",
    "\\end{equation}"
   ]
  },
  {
   "cell_type": "code",
   "execution_count": null,
   "id": "welcome-citizen",
   "metadata": {},
   "outputs": [],
   "source": [
    "# System does not have an exact solution\n"
   ]
  },
  {
   "cell_type": "markdown",
   "id": "cordless-collective",
   "metadata": {},
   "source": [
    "## Practice Assignment:\n",
    "* Write a function *solve_system* that solves the system of linear equations $Ax=b$ using inverse/pseudoinverse matrices\n",
    "* The function takes two input arguments: a matrix $A$ of shape (m, n), and a vector $b$ of size m\n",
    "* The function first decides whether to use inverse or pseudoinverse matrix (based on the size of the input matrix), then calculates and prints the solution (if there is one) or the pseudosolution\n",
    "* Apart from the (pseudo)solution, the function should print if the given vector is an exact solution or a pseudosolution.\n",
    "* You can choose if the function is only going to print outputs, or return them as output variables (either way is ok, as long as the function works)"
   ]
  },
  {
   "cell_type": "code",
   "execution_count": null,
   "id": "global-masters",
   "metadata": {},
   "outputs": [],
   "source": [
    "# Function that solves linear systems using (pseudo)inverse matrices\n",
    "\n",
    "def solve_system(A, b):\n",
    "    "
   ]
  }
 ],
 "metadata": {
  "kernelspec": {
   "display_name": "Python 3",
   "language": "python",
   "name": "python3"
  },
  "language_info": {
   "codemirror_mode": {
    "name": "ipython",
    "version": 3
   },
   "file_extension": ".py",
   "mimetype": "text/x-python",
   "name": "python",
   "nbconvert_exporter": "python",
   "pygments_lexer": "ipython3",
   "version": "3.8.8"
  }
 },
 "nbformat": 4,
 "nbformat_minor": 5
}
