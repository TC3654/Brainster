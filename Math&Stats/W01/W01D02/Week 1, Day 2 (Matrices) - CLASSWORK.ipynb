{
 "cells": [
  {
   "cell_type": "markdown",
   "id": "bound-discrimination",
   "metadata": {},
   "source": [
    "# Linear Algebra"
   ]
  },
  {
   "cell_type": "code",
   "execution_count": 1,
   "id": "blond-coordinate",
   "metadata": {},
   "outputs": [],
   "source": [
    "#importing libraries\n",
    "import numpy\n",
    "import numpy as np\n",
    "import numpy.linalg as nla\n",
    "import scipy.linalg as sla\n",
    "import matplotlib.pyplot as plt"
   ]
  },
  {
   "cell_type": "markdown",
   "id": "interested-plane",
   "metadata": {},
   "source": [
    "## Matrices"
   ]
  },
  {
   "cell_type": "markdown",
   "id": "structured-virtue",
   "metadata": {},
   "source": [
    "* Matrices are two-dimensional lists of numbers\n",
    "* Think of matrices as vectors of vectors\n",
    "* On a more abstract level, matrices describe **linear mappings** from one vector space to another\n",
    "* Data are frequently given in a matrix form, so the study of matrices comes naturally"
   ]
  },
  {
   "cell_type": "markdown",
   "id": "senior-drain",
   "metadata": {},
   "source": [
    "## Creating matrices"
   ]
  },
  {
   "cell_type": "code",
   "execution_count": 2,
   "id": "prerequisite-jacket",
   "metadata": {},
   "outputs": [
    {
     "name": "stdout",
     "output_type": "stream",
     "text": [
      "[[1 2]\n",
      " [3 4]\n",
      " [5 6]]\n",
      "\n",
      "[[-1  0  1]\n",
      " [ 0  2  1]\n",
      " [ 3 -1 -2]]\n",
      "\n",
      "[[ 1 -2  3]\n",
      " [-4  5 -6]\n",
      " [ 7 -8  9]]\n",
      "\n",
      "[[ 5 -2  4]\n",
      " [ 1  0 -1]]\n",
      "\n",
      "[[0. 0. 0.]\n",
      " [0. 0. 0.]\n",
      " [0. 0. 0.]]\n",
      "\n",
      "[[1. 0. 0.]\n",
      " [0. 1. 0.]\n",
      " [0. 0. 1.]]\n",
      "\n"
     ]
    }
   ],
   "source": [
    "# creating matrices using numpy.array\n",
    "\n",
    "A = np.array([[1, 2], [3, 4], [5, 6]])\n",
    "\n",
    "B = np.array([[-1, 0, 1], [0, 2, 1], [3, -1, -2]])\n",
    "\n",
    "C = np.array([[1, -2, 3], [-4, 5, -6], [7, -8, 9]])\n",
    "\n",
    "D = np.array([[5, -2, 4], [1, 0, -1]])\n",
    "\n",
    "O = np.zeros([3,3])\n",
    "\n",
    "I = np.eye(3)\n",
    "\n",
    "\n",
    "matrix_list = [A, B, C, D, O, I]\n",
    "for matrix in matrix_list:\n",
    "    print(matrix)\n",
    "    print()"
   ]
  },
  {
   "cell_type": "code",
   "execution_count": 7,
   "id": "sufficient-cooking",
   "metadata": {},
   "outputs": [
    {
     "name": "stdout",
     "output_type": "stream",
     "text": [
      "(3, 2)\n",
      "\n",
      "(3, 3)\n",
      "\n",
      "(3, 3)\n",
      "\n",
      "(2, 3)\n",
      "\n",
      "(3, 3)\n",
      "\n",
      "(3, 3)\n",
      "\n"
     ]
    }
   ],
   "source": [
    "# Matrix dimensionality\n",
    "# (note the difference between .shape and .size)\n",
    "for matrix in matrix_list:\n",
    "    print(matrix.shape)\n",
    "    print()"
   ]
  },
  {
   "cell_type": "markdown",
   "id": "binding-hamburg",
   "metadata": {},
   "source": [
    "## Operations with matrices\n",
    "* First we take a look at operations that are performed by operating on components"
   ]
  },
  {
   "cell_type": "code",
   "execution_count": 10,
   "id": "fatty-bracelet",
   "metadata": {},
   "outputs": [
    {
     "name": "stdout",
     "output_type": "stream",
     "text": [
      "[[ 0 -2  4]\n",
      " [-4  7 -5]\n",
      " [10 -9  7]]\n",
      "\n",
      "[[ -2   2  -2]\n",
      " [  4  -3   7]\n",
      " [ -4   7 -11]]\n",
      "\n",
      "[[ -1   0   3]\n",
      " [  0  10  -6]\n",
      " [ 21   8 -18]]\n",
      "\n",
      "[[-1.         -0.          0.33333333]\n",
      " [-0.          0.4        -0.16666667]\n",
      " [ 0.42857143  0.125      -0.22222222]]\n",
      "\n",
      "[[0.5 1. ]\n",
      " [1.5 2. ]\n",
      " [2.5 3. ]]\n",
      "\n"
     ]
    }
   ],
   "source": [
    "# Component-wise operations\n",
    "# These are possible only if the matrices have same dimensionality\n",
    "\n",
    "summ = B + C\n",
    "\n",
    "diff = B - C\n",
    "\n",
    "c_prod = B * C # Hadamard product -> useful with convolutional neural networks\n",
    "\n",
    "quot = B / C\n",
    "\n",
    "scalar_mult = 0.5 * A\n",
    "\n",
    "operations_list = [summ, diff, c_prod, quot, scalar_mult]\n",
    "for matrix in operations_list:\n",
    "    print(matrix)\n",
    "    print()"
   ]
  },
  {
   "cell_type": "code",
   "execution_count": 11,
   "id": "electrical-organization",
   "metadata": {},
   "outputs": [
    {
     "name": "stdout",
     "output_type": "stream",
     "text": [
      "[[ -6.   4.  -3.]\n",
      " [  8.  -5.  15.]\n",
      " [ -5.  13. -25.]]\n"
     ]
    }
   ],
   "source": [
    "# Multiple operations:\n",
    "print(3*B - 2*C - I)"
   ]
  },
  {
   "cell_type": "markdown",
   "id": "french-laptop",
   "metadata": {},
   "source": [
    "* Matrix transposition: restructuring a matrix by switching rows and columns. If $A$ is the matrix, then $A^T$ is its transpose\n",
    "* Trace of a matrix: sum of the elements along the diagonal of a matrix. We label the trace by $\\mathrm{tr}(A)$\n",
    "* Determinant of a matrix: a number assigned to a **square** matrix, labeled by $\\det(A)$"
   ]
  },
  {
   "cell_type": "code",
   "execution_count": 16,
   "id": "american-booking",
   "metadata": {},
   "outputs": [
    {
     "name": "stdout",
     "output_type": "stream",
     "text": [
      "[[1 2]\n",
      " [3 4]\n",
      " [5 6]]\n",
      "\n",
      "[[1 3 5]\n",
      " [2 4 6]]\n",
      "trace(A) =  5\n",
      "det(B) =  -2.9999999999999996\n"
     ]
    },
    {
     "ename": "LinAlgError",
     "evalue": "Last 2 dimensions of the array must be square",
     "output_type": "error",
     "traceback": [
      "\u001b[1;31m---------------------------------------------------------------------------\u001b[0m",
      "\u001b[1;31mLinAlgError\u001b[0m                               Traceback (most recent call last)",
      "\u001b[1;32m<ipython-input-16-840af1ebdb97>\u001b[0m in \u001b[0;36m<module>\u001b[1;34m\u001b[0m\n\u001b[0;32m      9\u001b[0m \u001b[1;31m# Determinant\u001b[0m\u001b[1;33m\u001b[0m\u001b[1;33m\u001b[0m\u001b[1;33m\u001b[0m\u001b[0m\n\u001b[0;32m     10\u001b[0m \u001b[0mprint\u001b[0m\u001b[1;33m(\u001b[0m\u001b[1;34m'det(B) = '\u001b[0m\u001b[1;33m,\u001b[0m \u001b[0mnla\u001b[0m\u001b[1;33m.\u001b[0m\u001b[0mdet\u001b[0m\u001b[1;33m(\u001b[0m\u001b[0mB\u001b[0m\u001b[1;33m)\u001b[0m\u001b[1;33m)\u001b[0m\u001b[1;33m\u001b[0m\u001b[1;33m\u001b[0m\u001b[0m\n\u001b[1;32m---> 11\u001b[1;33m \u001b[0mprint\u001b[0m\u001b[1;33m(\u001b[0m\u001b[1;34m'det(A) = '\u001b[0m\u001b[1;33m,\u001b[0m \u001b[0mnla\u001b[0m\u001b[1;33m.\u001b[0m\u001b[0mdet\u001b[0m\u001b[1;33m(\u001b[0m\u001b[0mA\u001b[0m\u001b[1;33m)\u001b[0m\u001b[1;33m)\u001b[0m\u001b[1;33m\u001b[0m\u001b[1;33m\u001b[0m\u001b[0m\n\u001b[0m",
      "\u001b[1;32m<__array_function__ internals>\u001b[0m in \u001b[0;36mdet\u001b[1;34m(*args, **kwargs)\u001b[0m\n",
      "\u001b[1;32m~\\anaconda3\\envs\\Filip\\lib\\site-packages\\numpy\\linalg\\linalg.py\u001b[0m in \u001b[0;36mdet\u001b[1;34m(a)\u001b[0m\n\u001b[0;32m   2153\u001b[0m     \u001b[0ma\u001b[0m \u001b[1;33m=\u001b[0m \u001b[0masarray\u001b[0m\u001b[1;33m(\u001b[0m\u001b[0ma\u001b[0m\u001b[1;33m)\u001b[0m\u001b[1;33m\u001b[0m\u001b[1;33m\u001b[0m\u001b[0m\n\u001b[0;32m   2154\u001b[0m     \u001b[0m_assert_stacked_2d\u001b[0m\u001b[1;33m(\u001b[0m\u001b[0ma\u001b[0m\u001b[1;33m)\u001b[0m\u001b[1;33m\u001b[0m\u001b[1;33m\u001b[0m\u001b[0m\n\u001b[1;32m-> 2155\u001b[1;33m     \u001b[0m_assert_stacked_square\u001b[0m\u001b[1;33m(\u001b[0m\u001b[0ma\u001b[0m\u001b[1;33m)\u001b[0m\u001b[1;33m\u001b[0m\u001b[1;33m\u001b[0m\u001b[0m\n\u001b[0m\u001b[0;32m   2156\u001b[0m     \u001b[0mt\u001b[0m\u001b[1;33m,\u001b[0m \u001b[0mresult_t\u001b[0m \u001b[1;33m=\u001b[0m \u001b[0m_commonType\u001b[0m\u001b[1;33m(\u001b[0m\u001b[0ma\u001b[0m\u001b[1;33m)\u001b[0m\u001b[1;33m\u001b[0m\u001b[1;33m\u001b[0m\u001b[0m\n\u001b[0;32m   2157\u001b[0m     \u001b[0msignature\u001b[0m \u001b[1;33m=\u001b[0m \u001b[1;34m'D->D'\u001b[0m \u001b[1;32mif\u001b[0m \u001b[0misComplexType\u001b[0m\u001b[1;33m(\u001b[0m\u001b[0mt\u001b[0m\u001b[1;33m)\u001b[0m \u001b[1;32melse\u001b[0m \u001b[1;34m'd->d'\u001b[0m\u001b[1;33m\u001b[0m\u001b[1;33m\u001b[0m\u001b[0m\n",
      "\u001b[1;32m~\\anaconda3\\envs\\Filip\\lib\\site-packages\\numpy\\linalg\\linalg.py\u001b[0m in \u001b[0;36m_assert_stacked_square\u001b[1;34m(*arrays)\u001b[0m\n\u001b[0;32m    201\u001b[0m         \u001b[0mm\u001b[0m\u001b[1;33m,\u001b[0m \u001b[0mn\u001b[0m \u001b[1;33m=\u001b[0m \u001b[0ma\u001b[0m\u001b[1;33m.\u001b[0m\u001b[0mshape\u001b[0m\u001b[1;33m[\u001b[0m\u001b[1;33m-\u001b[0m\u001b[1;36m2\u001b[0m\u001b[1;33m:\u001b[0m\u001b[1;33m]\u001b[0m\u001b[1;33m\u001b[0m\u001b[1;33m\u001b[0m\u001b[0m\n\u001b[0;32m    202\u001b[0m         \u001b[1;32mif\u001b[0m \u001b[0mm\u001b[0m \u001b[1;33m!=\u001b[0m \u001b[0mn\u001b[0m\u001b[1;33m:\u001b[0m\u001b[1;33m\u001b[0m\u001b[1;33m\u001b[0m\u001b[0m\n\u001b[1;32m--> 203\u001b[1;33m             \u001b[1;32mraise\u001b[0m \u001b[0mLinAlgError\u001b[0m\u001b[1;33m(\u001b[0m\u001b[1;34m'Last 2 dimensions of the array must be square'\u001b[0m\u001b[1;33m)\u001b[0m\u001b[1;33m\u001b[0m\u001b[1;33m\u001b[0m\u001b[0m\n\u001b[0m\u001b[0;32m    204\u001b[0m \u001b[1;33m\u001b[0m\u001b[0m\n\u001b[0;32m    205\u001b[0m \u001b[1;32mdef\u001b[0m \u001b[0m_assert_finite\u001b[0m\u001b[1;33m(\u001b[0m\u001b[1;33m*\u001b[0m\u001b[0marrays\u001b[0m\u001b[1;33m)\u001b[0m\u001b[1;33m:\u001b[0m\u001b[1;33m\u001b[0m\u001b[1;33m\u001b[0m\u001b[0m\n",
      "\u001b[1;31mLinAlgError\u001b[0m: Last 2 dimensions of the array must be square"
     ]
    }
   ],
   "source": [
    "# Matrix transposition\n",
    "print(A)\n",
    "print()\n",
    "print(A.T)\n",
    "\n",
    "# Trace\n",
    "print('trace(A) = ', np.trace(A))\n",
    "\n",
    "# Determinant\n",
    "print('det(B) = ', nla.det(B))\n",
    "print('det(A) = ', nla.det(A)) # throws an error"
   ]
  },
  {
   "cell_type": "markdown",
   "id": "wrong-rocket",
   "metadata": {},
   "source": [
    "* Next we take look at **matrix multiplication** which is not performed component-wise\n",
    "* The *actual* matrix multiplication is performed by dot-multiplying rows from the first multiplier by columns from the second multiplier\n",
    "* Matrix multiplication is only possible when multiplying (m, p) by (p, n) matrices; the product will have a dimension (m, n)"
   ]
  },
  {
   "cell_type": "code",
   "execution_count": 22,
   "id": "juvenile-interim",
   "metadata": {},
   "outputs": [
    {
     "name": "stdout",
     "output_type": "stream",
     "text": [
      "B = \n",
      " [[-1  0  1]\n",
      " [ 0  2  1]\n",
      " [ 3 -1 -2]]\n",
      "\n",
      "C = \n",
      " [[ 1 -2  3]\n",
      " [-4  5 -6]\n",
      " [ 7 -8  9]]\n",
      "\n",
      "B*C = \n",
      " [[ 6 -6  6]\n",
      " [-1  2 -3]\n",
      " [-7  5 -3]]\n"
     ]
    }
   ],
   "source": [
    "# Matrix multiplication\n",
    "# (unlike number multiplication, matrix multiplication is not commutiative, even when it can be performed)\n",
    "print('B = \\n', B)\n",
    "print('\\nC = \\n', C)\n",
    "print('\\nB*C = \\n', B.dot(C)) # B @ C"
   ]
  },
  {
   "cell_type": "code",
   "execution_count": 25,
   "id": "4f398f9d-085f-4b82-b551-9bbaf73d8cdd",
   "metadata": {},
   "outputs": [
    {
     "name": "stdout",
     "output_type": "stream",
     "text": [
      "A = \n",
      " [[1 2]\n",
      " [3 4]\n",
      " [5 6]]\n",
      "\n",
      "D = \n",
      " [[ 5 -2  4]\n",
      " [ 1  0 -1]]\n",
      "\n",
      "A*D = \n",
      " [[  7  -2   2]\n",
      " [ 19  -6   8]\n",
      " [ 31 -10  14]]\n",
      "\n",
      "D*A = \n",
      " [[19 26]\n",
      " [-4 -4]]\n"
     ]
    }
   ],
   "source": [
    "print('A = \\n', A)\n",
    "print('\\nD = \\n', D)\n",
    "print('\\nA*D = \\n', A@D)\n",
    "print('\\nD*A = \\n', D@A)"
   ]
  },
  {
   "cell_type": "markdown",
   "id": "certified-watson",
   "metadata": {},
   "source": [
    "## Types of matrices\n",
    "\n",
    "* Square\n",
    "* Symmetric\n",
    "* Triangular\n",
    "* Diagonal\n",
    "* Orthogonal"
   ]
  },
  {
   "cell_type": "code",
   "execution_count": 30,
   "id": "functioning-marks",
   "metadata": {},
   "outputs": [
    {
     "name": "stdout",
     "output_type": "stream",
     "text": [
      "[[1 3]\n",
      " [3 4]]\n",
      "[[1 3]\n",
      " [3 4]]\n",
      "[[1. 0. 0.]\n",
      " [0. 1. 0.]\n",
      " [0. 0. 1.]]\n",
      "\n",
      "[[ 0.33333333 -0.66666667  0.66666667]\n",
      " [ 0.66666667 -0.33333333 -0.66666667]\n",
      " [ 0.66666667  0.66666667  0.33333333]]\n",
      "[[1.00000000e+00 2.46716228e-17 1.54197642e-17]\n",
      " [2.46716228e-17 1.00000000e+00 1.23358114e-17]\n",
      " [1.54197642e-17 1.23358114e-17 1.00000000e+00]]\n",
      "\n"
     ]
    }
   ],
   "source": [
    "# Square matrix: dimension (n, n)\n",
    "\n",
    "\n",
    "# Symmetric matrix: A = A.T\n",
    "Sym = np.array([[1, 3], [3, 4]])\n",
    "print(Sym)\n",
    "print(Sym.T)\n",
    "\n",
    "# Triangular matrix: zeros above the diagonal (lower-triangular) or below the diagonal (upper-triangular)\n",
    "# Diagonal matrix: zeros everywhere, except (possibly) on the diagonal\n",
    "\n",
    "\n",
    "# Identity matrix: diagonal matrix with ones on the diagonal\n",
    "# (can be generated with numpy.eye or numpy.identity)\n",
    "print(I)\n",
    "print()\n",
    "\n",
    "# Orthogonal matrix: Q.dot(Q.T) = I\n",
    "Q = np.array([[1/3, -2/3, 2/3], [2/3, -1/3, -2/3], [2/3, 2/3, 1/3]])\n",
    "print(Q)\n",
    "print(Q.dot(Q.T))\n",
    "print()\n"
   ]
  },
  {
   "cell_type": "markdown",
   "id": "perceived-thesis",
   "metadata": {},
   "source": [
    "## Inverse matrices of square matrices\n",
    "* The identity matrix acts as 'one' or 'unit' in matrix multiplication: has no effect under the operation\n",
    "* This is similar to reciprocal numbers: e.g.   $2 \\cdot \\frac{1}{2} = 2 \\cdot 2^{-1} = 1$\n",
    "* In general, if $a \\neq 0$, then  $a \\cdot \\frac{1}{a} = a \\cdot a^{-1} = 1$\n",
    "* In context of matrices: given a square matrix $M$, **if** there exists a matrix $M'$ such that $M\\cdot M' = M' \\cdot M = I$, then we call the matrix $M$ invertible matrix, and the matrix $M'$ -- inverse of $M$. The inverse matrix is most frequently labelled as $M^{-1}$.\n",
    "* Note that the inverse matrix might not exist!"
   ]
  },
  {
   "cell_type": "code",
   "execution_count": 38,
   "id": "precious-wiring",
   "metadata": {},
   "outputs": [
    {
     "name": "stdout",
     "output_type": "stream",
     "text": [
      "M = \n",
      " [[-1.   1.5]\n",
      " [ 1.  -1. ]]\n",
      "det(M) =  -0.5\n",
      "M_inv = \n",
      " [[2. 3.]\n",
      " [2. 2.]]\n",
      "N= \n",
      " [[ 5 -5  0]\n",
      " [ 0  0  0]\n",
      " [ 3 -3  2]]\n",
      "det(N) =  0.0\n"
     ]
    },
    {
     "ename": "LinAlgError",
     "evalue": "Singular matrix",
     "output_type": "error",
     "traceback": [
      "\u001b[1;31m---------------------------------------------------------------------------\u001b[0m",
      "\u001b[1;31mLinAlgError\u001b[0m                               Traceback (most recent call last)",
      "\u001b[1;32m<ipython-input-38-29f977800096>\u001b[0m in \u001b[0;36m<module>\u001b[1;34m\u001b[0m\n\u001b[0;32m     12\u001b[0m \u001b[0mprint\u001b[0m\u001b[1;33m(\u001b[0m\u001b[1;34m'N= \\n'\u001b[0m\u001b[1;33m,\u001b[0m \u001b[0mN\u001b[0m\u001b[1;33m)\u001b[0m\u001b[1;33m\u001b[0m\u001b[1;33m\u001b[0m\u001b[0m\n\u001b[0;32m     13\u001b[0m \u001b[0mprint\u001b[0m\u001b[1;33m(\u001b[0m\u001b[1;34m'det(N) = '\u001b[0m\u001b[1;33m,\u001b[0m \u001b[0mnla\u001b[0m\u001b[1;33m.\u001b[0m\u001b[0mdet\u001b[0m\u001b[1;33m(\u001b[0m\u001b[0mN\u001b[0m\u001b[1;33m)\u001b[0m\u001b[1;33m)\u001b[0m\u001b[1;33m\u001b[0m\u001b[1;33m\u001b[0m\u001b[0m\n\u001b[1;32m---> 14\u001b[1;33m \u001b[0mN_inv\u001b[0m \u001b[1;33m=\u001b[0m \u001b[0mnla\u001b[0m\u001b[1;33m.\u001b[0m\u001b[0minv\u001b[0m\u001b[1;33m(\u001b[0m\u001b[0mN\u001b[0m\u001b[1;33m)\u001b[0m\u001b[1;33m\u001b[0m\u001b[1;33m\u001b[0m\u001b[0m\n\u001b[0m",
      "\u001b[1;32m<__array_function__ internals>\u001b[0m in \u001b[0;36minv\u001b[1;34m(*args, **kwargs)\u001b[0m\n",
      "\u001b[1;32m~\\anaconda3\\envs\\Filip\\lib\\site-packages\\numpy\\linalg\\linalg.py\u001b[0m in \u001b[0;36minv\u001b[1;34m(a)\u001b[0m\n\u001b[0;32m    543\u001b[0m     \u001b[0msignature\u001b[0m \u001b[1;33m=\u001b[0m \u001b[1;34m'D->D'\u001b[0m \u001b[1;32mif\u001b[0m \u001b[0misComplexType\u001b[0m\u001b[1;33m(\u001b[0m\u001b[0mt\u001b[0m\u001b[1;33m)\u001b[0m \u001b[1;32melse\u001b[0m \u001b[1;34m'd->d'\u001b[0m\u001b[1;33m\u001b[0m\u001b[1;33m\u001b[0m\u001b[0m\n\u001b[0;32m    544\u001b[0m     \u001b[0mextobj\u001b[0m \u001b[1;33m=\u001b[0m \u001b[0mget_linalg_error_extobj\u001b[0m\u001b[1;33m(\u001b[0m\u001b[0m_raise_linalgerror_singular\u001b[0m\u001b[1;33m)\u001b[0m\u001b[1;33m\u001b[0m\u001b[1;33m\u001b[0m\u001b[0m\n\u001b[1;32m--> 545\u001b[1;33m     \u001b[0mainv\u001b[0m \u001b[1;33m=\u001b[0m \u001b[0m_umath_linalg\u001b[0m\u001b[1;33m.\u001b[0m\u001b[0minv\u001b[0m\u001b[1;33m(\u001b[0m\u001b[0ma\u001b[0m\u001b[1;33m,\u001b[0m \u001b[0msignature\u001b[0m\u001b[1;33m=\u001b[0m\u001b[0msignature\u001b[0m\u001b[1;33m,\u001b[0m \u001b[0mextobj\u001b[0m\u001b[1;33m=\u001b[0m\u001b[0mextobj\u001b[0m\u001b[1;33m)\u001b[0m\u001b[1;33m\u001b[0m\u001b[1;33m\u001b[0m\u001b[0m\n\u001b[0m\u001b[0;32m    546\u001b[0m     \u001b[1;32mreturn\u001b[0m \u001b[0mwrap\u001b[0m\u001b[1;33m(\u001b[0m\u001b[0mainv\u001b[0m\u001b[1;33m.\u001b[0m\u001b[0mastype\u001b[0m\u001b[1;33m(\u001b[0m\u001b[0mresult_t\u001b[0m\u001b[1;33m,\u001b[0m \u001b[0mcopy\u001b[0m\u001b[1;33m=\u001b[0m\u001b[1;32mFalse\u001b[0m\u001b[1;33m)\u001b[0m\u001b[1;33m)\u001b[0m\u001b[1;33m\u001b[0m\u001b[1;33m\u001b[0m\u001b[0m\n\u001b[0;32m    547\u001b[0m \u001b[1;33m\u001b[0m\u001b[0m\n",
      "\u001b[1;32m~\\anaconda3\\envs\\Filip\\lib\\site-packages\\numpy\\linalg\\linalg.py\u001b[0m in \u001b[0;36m_raise_linalgerror_singular\u001b[1;34m(err, flag)\u001b[0m\n\u001b[0;32m     86\u001b[0m \u001b[1;33m\u001b[0m\u001b[0m\n\u001b[0;32m     87\u001b[0m \u001b[1;32mdef\u001b[0m \u001b[0m_raise_linalgerror_singular\u001b[0m\u001b[1;33m(\u001b[0m\u001b[0merr\u001b[0m\u001b[1;33m,\u001b[0m \u001b[0mflag\u001b[0m\u001b[1;33m)\u001b[0m\u001b[1;33m:\u001b[0m\u001b[1;33m\u001b[0m\u001b[1;33m\u001b[0m\u001b[0m\n\u001b[1;32m---> 88\u001b[1;33m     \u001b[1;32mraise\u001b[0m \u001b[0mLinAlgError\u001b[0m\u001b[1;33m(\u001b[0m\u001b[1;34m\"Singular matrix\"\u001b[0m\u001b[1;33m)\u001b[0m\u001b[1;33m\u001b[0m\u001b[1;33m\u001b[0m\u001b[0m\n\u001b[0m\u001b[0;32m     89\u001b[0m \u001b[1;33m\u001b[0m\u001b[0m\n\u001b[0;32m     90\u001b[0m \u001b[1;32mdef\u001b[0m \u001b[0m_raise_linalgerror_nonposdef\u001b[0m\u001b[1;33m(\u001b[0m\u001b[0merr\u001b[0m\u001b[1;33m,\u001b[0m \u001b[0mflag\u001b[0m\u001b[1;33m)\u001b[0m\u001b[1;33m:\u001b[0m\u001b[1;33m\u001b[0m\u001b[1;33m\u001b[0m\u001b[0m\n",
      "\u001b[1;31mLinAlgError\u001b[0m: Singular matrix"
     ]
    }
   ],
   "source": [
    "# Inverse matrix: use np.inv()\n",
    "M = np.array([[-1, 3/2], [1, -1]])\n",
    "print('M = \\n', M)\n",
    "print('det(M) = ', nla.det(M))\n",
    "M_inv = nla.inv(M)\n",
    "print('M_inv = \\n', M_inv)\n",
    "\n",
    "\n",
    "# numpy.linalg.det can be used to see if a matrix is invertible by calculating its determinant\n",
    "# if det(M) = 0, then M is not invertible\n",
    "N = np.array([[5, -5, 0], [0, 0, 0], [3, -3, 2]]) #not invertible\n",
    "print('N= \\n', N)\n",
    "print('det(N) = ', nla.det(N))\n",
    "N_inv = nla.inv(N) # throws an error, the matrix is singular (not invertible)"
   ]
  },
  {
   "cell_type": "code",
   "execution_count": 36,
   "id": "6bd82d52-a9c6-4e5b-801d-0b1170c8eb67",
   "metadata": {},
   "outputs": [
    {
     "data": {
      "text/plain": [
       "array([[1., 0.],\n",
       "       [0., 1.]])"
      ]
     },
     "execution_count": 36,
     "metadata": {},
     "output_type": "execute_result"
    }
   ],
   "source": [
    "M.dot(M_inv)\n",
    "M_inv.dot(M)"
   ]
  },
  {
   "cell_type": "markdown",
   "id": "palestinian-empty",
   "metadata": {},
   "source": [
    "### Solving systems of linear equations using matrices\n",
    "Every system of linear equations can be represented as a **matrix equation**. For example, the system:\n",
    "\\begin{equation}\n",
    "\\left\\{\n",
    "\\begin{array}{rcl}\n",
    "    2 x_1 + 3 x_2 & = & 6\\\\\n",
    "    x_1 - x_2 & = & -2\n",
    "\\end{array}\n",
    "\\right.\n",
    "\\end{equation}\n",
    "\n",
    "can be represented as a matrix equation $Ax = b$ where:\n",
    "\\begin{equation}\n",
    "A = \n",
    "    \\begin{bmatrix}\n",
    "    2 & 3\\\\\n",
    "    1 & -1\n",
    "    \\end{bmatrix}\n",
    "\\qquad\\qquad\n",
    "x = \n",
    "    \\begin{bmatrix}\n",
    "    x_1\\\\\n",
    "    x_2\n",
    "    \\end{bmatrix}\n",
    "\\qquad\\qquad\n",
    "b = \n",
    "    \\begin{bmatrix}\n",
    "    6\\\\\n",
    "    -2\n",
    "    \\end{bmatrix}\n",
    "\\end{equation}\n",
    "\n",
    "This system can then be solved by using the inverse of the matrix $A$ to get the solution $x$ by calculating:\n",
    "\\begin{equation}x = A^{-1}b\\end{equation}"
   ]
  },
  {
   "cell_type": "code",
   "execution_count": 41,
   "id": "placed-imagination",
   "metadata": {},
   "outputs": [
    {
     "name": "stdout",
     "output_type": "stream",
     "text": [
      "[-2.22044605e-16  2.00000000e+00]\n"
     ]
    }
   ],
   "source": [
    "# Solving a system of equations using inverse matrices\n",
    "A = np.array([[2, 3], [1, -1]])\n",
    "b = np.array([6, -2])\n",
    "\n",
    "x = nla.inv(A).dot(b)\n",
    "\n",
    "print(x)"
   ]
  },
  {
   "cell_type": "markdown",
   "id": "powerful-vaccine",
   "metadata": {},
   "source": [
    "## Pseudoinverse matrices for non-square matrices\n",
    "* The concept of an inverse matrix is defined only for square matrices. For non-square matrices we define another concept, closely paralleling the inverse matrix.\n",
    "* For non-square matrices we introduce the concept os a **pseudoinverse matrix**. The full name is **Moore-Penrose inverse matrix**.\n",
    "* Given a matrix $A$, the its pseudoinverse $A^+$ satisfies the following conditions:\n",
    "\\begin{equation}\n",
    "\\begin{array}{rcl}\n",
    "    A A^+ A & = & A\\\\\n",
    "    A^+ A A^+ & = & A^+\\\\\n",
    "\\end{array}\n",
    "\\end{equation}\n",
    "Additionally, both $A^+ A$ and $AA^+$ are symmetric. The first product is always the identity matrix of an appropriate order, but the second product is not an identity matrix."
   ]
  },
  {
   "cell_type": "code",
   "execution_count": 45,
   "id": "frequent-score",
   "metadata": {},
   "outputs": [
    {
     "data": {
      "text/plain": [
       "array([[-1.0000000e+00, -5.0000000e-01, -1.5959456e-17,  5.0000000e-01],\n",
       "       [ 8.5000000e-01,  4.5000000e-01,  5.0000000e-02, -3.5000000e-01]])"
      ]
     },
     "execution_count": 45,
     "metadata": {},
     "output_type": "execute_result"
    }
   ],
   "source": [
    "# Pseudoinverse of a non-square matrix\n",
    "M = np.array([[1, 2], [3, 4], [5, 6], [7, 8]])\n",
    "M_pinv = nla.pinv(M)\n",
    "\n",
    "# print('M_pinv = \\n', M_pinv)\n",
    "\n",
    "M@M_pinv@M\n",
    "\n",
    "M_pinv@M@M_pinv"
   ]
  },
  {
   "cell_type": "markdown",
   "id": "separated-exclusion",
   "metadata": {},
   "source": [
    "### Solving overdetermined systems of linear equations using pseudoinverse matrices\n",
    "* When a linear system has more equations than it has variables, we call it **overdetermined** (similarly, if there are less equations than variables, we call it **underdetermined**)\n",
    "* Overdetermined systems appear regularly in **least squares regression**, so it is natural to look at methods of solving\n",
    "* An overdetermined system does not always have a solution: sometimes the \"solution\" or pseudosolution is a set of values which are as close to being a solution to the system as possible.\n",
    "* If the overdetermined system is given by $Ax = b$, then the pseudosolution $\\tilde{x}$ is given by\n",
    "\\begin{equation} \\tilde{x} = A^+ b \\end{equation}"
   ]
  },
  {
   "cell_type": "markdown",
   "id": "random-potter",
   "metadata": {},
   "source": [
    "#### Example: the system has an exact solution\n",
    "Solve the following system:\n",
    "\\begin{equation}\n",
    "\\left\\{\n",
    "\\begin{array}{rcl}\n",
    "    x_1 + x_2 &=& 2\\\\\n",
    "    2 x_1 - x_2 &=& 1\\\\\n",
    "    -5 x_1 + 7 x_2 &=& 2\\\\\n",
    "    3 x_1 + 5 x_2 &=&8\n",
    "\\end{array}\n",
    "\\right.\n",
    "\\end{equation}"
   ]
  },
  {
   "cell_type": "code",
   "execution_count": 46,
   "id": "threaded-position",
   "metadata": {},
   "outputs": [
    {
     "data": {
      "text/plain": [
       "array([1., 1.])"
      ]
     },
     "execution_count": 46,
     "metadata": {},
     "output_type": "execute_result"
    }
   ],
   "source": [
    "# System has an exact solution\n",
    "A = np.array([[1, 1], [2, -1], [-5, 7], [3, 5]])\n",
    "b = np.array([2, 1, 2, 8])\n",
    "\n",
    "x = nla.pinv(A).dot(b)\n",
    "x"
   ]
  },
  {
   "cell_type": "markdown",
   "id": "dynamic-words",
   "metadata": {},
   "source": [
    "#### Example: the system does not have an exact solution\n",
    "Solve the following system:\n",
    "\\begin{equation}\n",
    "\\left\\{\n",
    "\\begin{array}{rcl}\n",
    "    x_1 + 3 x_2 &=& 17\\\\\n",
    "    5 x_1 + 7 x_2 &=& 19\\\\\n",
    "    11 x_1 + 13 x_2 &=& 23\n",
    "\\end{array}\n",
    "\\right.\n",
    "\\end{equation}"
   ]
  },
  {
   "cell_type": "code",
   "execution_count": 48,
   "id": "welcome-citizen",
   "metadata": {},
   "outputs": [
    {
     "name": "stdout",
     "output_type": "stream",
     "text": [
      "[16.84210526 19.26315789 22.89473684]\n"
     ]
    }
   ],
   "source": [
    "# System does not have an exact solution\n",
    "A = np.array([[1, 3], [5, 7], [11, 13]])\n",
    "b = np.array([17, 19, 23])\n",
    "\n",
    "x = nla.pinv(A).dot(b)\n",
    "\n",
    "print(A.dot(x))"
   ]
  },
  {
   "cell_type": "markdown",
   "id": "cordless-collective",
   "metadata": {},
   "source": [
    "## Practice Assignment:\n",
    "* Write a function *solve_system* that solves the system of linear equations $Ax=b$ using inverse/pseudoinverse matrices\n",
    "* The function takes two input arguments: a matrix $A$ of shape (m, n), and a vector $b$ of size m\n",
    "* The function first decides whether to use inverse or pseudoinverse matrix (based on the size of the input matrix), then calculates and prints the solution (if there is one) or the pseudosolution\n",
    "* Apart from the (pseudo)solution, the function should print if the given vector is an exact solution or a pseudosolution.\n",
    "* You can choose if the function is only going to print outputs, or return them as output variables (either way is ok, as long as the function works)"
   ]
  },
  {
   "cell_type": "code",
   "execution_count": null,
   "id": "global-masters",
   "metadata": {},
   "outputs": [],
   "source": [
    "# Function that solves linear systems using (pseudo)inverse matrices\n",
    "\n",
    "def solve_system(A, b):\n",
    "    "
   ]
  }
 ],
 "metadata": {
  "kernelspec": {
   "display_name": "Python 3",
   "language": "python",
   "name": "python3"
  },
  "language_info": {
   "codemirror_mode": {
    "name": "ipython",
    "version": 3
   },
   "file_extension": ".py",
   "mimetype": "text/x-python",
   "name": "python",
   "nbconvert_exporter": "python",
   "pygments_lexer": "ipython3",
   "version": "3.8.8"
  }
 },
 "nbformat": 4,
 "nbformat_minor": 5
}
