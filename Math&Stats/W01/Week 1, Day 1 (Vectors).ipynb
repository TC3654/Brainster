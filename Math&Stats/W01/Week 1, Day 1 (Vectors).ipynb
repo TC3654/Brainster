{
 "cells": [
  {
   "cell_type": "markdown",
   "id": "outstanding-married",
   "metadata": {},
   "source": [
    "# Week 1: Linear Algebra"
   ]
  },
  {
   "cell_type": "code",
   "execution_count": 19,
   "id": "meaning-discrimination",
   "metadata": {},
   "outputs": [],
   "source": [
    "#importing libraries\n",
    "import numpy\n",
    "import numpy as np\n",
    "import numpy.linalg as nla\n",
    "import scipy.linalg as sla\n",
    "import matplotlib.pyplot as plt\n",
    "import seaborn as sns\n",
    "import pandas as pd"
   ]
  },
  {
   "cell_type": "markdown",
   "id": "transparent-heath",
   "metadata": {},
   "source": [
    "## Day 1: Vectors\n",
    "* Linear Algebra is part of mathematics that deals with the study of vectors and matrices.\n",
    "* Vectors can be though of as lists of numbers\n",
    "* From a more abstract perspective, many objects in mathematics can be seen as \"vectors\".\n",
    "* We will only deal with vectors which are \"lists of (real) numbers\"."
   ]
  },
  {
   "cell_type": "markdown",
   "id": "documented-extraction",
   "metadata": {},
   "source": [
    "### Creating vectors"
   ]
  },
  {
   "cell_type": "code",
   "execution_count": 2,
   "id": "absolute-threshold",
   "metadata": {},
   "outputs": [
    {
     "name": "stdout",
     "output_type": "stream",
     "text": [
      "[-1  2  0]\n",
      "\n",
      "[ 2 -2  3]\n",
      "\n",
      "[ 1.  -1.   0.   0.5]\n",
      "\n",
      "[1. 1. 1.]\n",
      "\n",
      "[0. 0. 0.]\n",
      "\n"
     ]
    }
   ],
   "source": [
    "# creating vectors with numpy.array\n",
    "\n",
    "a = np.array([-1, 2, 0])\n",
    "\n",
    "b = np.array([2, -2, 3])\n",
    "\n",
    "c = np.array([1, -1, 0, 0.5])\n",
    "\n",
    "e = np.ones(3)\n",
    "\n",
    "O = np.zeros(3)\n",
    "\n",
    "\n",
    "vec_list = [a, b, c, e, O]\n",
    "for vector in vec_list:\n",
    "    print(vector)\n",
    "    print()"
   ]
  },
  {
   "cell_type": "code",
   "execution_count": 3,
   "id": "attended-desire",
   "metadata": {},
   "outputs": [
    {
     "name": "stdout",
     "output_type": "stream",
     "text": [
      "3\n",
      "4\n",
      "(3,)\n"
     ]
    }
   ],
   "source": [
    "# Vector dimensionality\n",
    "print(a.size)\n",
    "\n",
    "print(c.size)\n",
    "\n",
    "print(O.shape)"
   ]
  },
  {
   "cell_type": "markdown",
   "id": "unavailable-dividend",
   "metadata": {},
   "source": [
    "### Operations with vectors"
   ]
  },
  {
   "cell_type": "code",
   "execution_count": 4,
   "id": "collaborative-campbell",
   "metadata": {},
   "outputs": [
    {
     "name": "stdout",
     "output_type": "stream",
     "text": [
      "[1 0 3]\n",
      "\n",
      "[-3  4 -3]\n",
      "\n",
      "[-2 -4  0]\n",
      "\n",
      "[-0.5 -1.   0. ]\n",
      "\n"
     ]
    }
   ],
   "source": [
    "# Component-wise operations\n",
    "summ = a + b #we label this as 'summ' since 'sum' is reserved\n",
    "\n",
    "diff = a - b\n",
    "\n",
    "prod = a * b\n",
    "\n",
    "quot = a / b\n",
    "\n",
    "\n",
    "list_oper = [summ, diff, prod, quot]\n",
    "for result in list_oper:\n",
    "    print(result)\n",
    "    print()"
   ]
  },
  {
   "cell_type": "code",
   "execution_count": 5,
   "id": "confused-associate",
   "metadata": {},
   "outputs": [
    {
     "name": "stdout",
     "output_type": "stream",
     "text": [
      "[ 2 -4  0]\n",
      "\n",
      "[-4  4 -6]\n",
      "\n",
      "[-4  4 -6]\n"
     ]
    }
   ],
   "source": [
    "# Scalar multiplication\n",
    "k = -2\n",
    "\n",
    "k_times_a = k*a\n",
    "print(k_times_a)\n",
    "print()\n",
    "\n",
    "k_times_b = k*b\n",
    "print(k_times_b)\n",
    "print()\n",
    "\n",
    "b_times_k = b*k\n",
    "print(b_times_k)"
   ]
  },
  {
   "cell_type": "code",
   "execution_count": 6,
   "id": "passive-playlist",
   "metadata": {},
   "outputs": [
    {
     "name": "stdout",
     "output_type": "stream",
     "text": [
      "[ -9.   9. -10.]\n"
     ]
    },
    {
     "ename": "ValueError",
     "evalue": "operands could not be broadcast together with shapes (3,) (4,) ",
     "output_type": "error",
     "traceback": [
      "\u001b[1;31m---------------------------------------------------------------------------\u001b[0m",
      "\u001b[1;31mValueError\u001b[0m                                Traceback (most recent call last)",
      "\u001b[1;32m<ipython-input-6-84e6ede673e9>\u001b[0m in \u001b[0;36m<module>\u001b[1;34m\u001b[0m\n\u001b[0;32m      4\u001b[0m \u001b[0mprint\u001b[0m\u001b[1;33m(\u001b[0m\u001b[0mv\u001b[0m\u001b[1;33m)\u001b[0m\u001b[1;33m\u001b[0m\u001b[1;33m\u001b[0m\u001b[0m\n\u001b[0;32m      5\u001b[0m \u001b[1;33m\u001b[0m\u001b[0m\n\u001b[1;32m----> 6\u001b[1;33m \u001b[0mw\u001b[0m \u001b[1;33m=\u001b[0m \u001b[1;36m2\u001b[0m\u001b[1;33m*\u001b[0m\u001b[0ma\u001b[0m \u001b[1;33m-\u001b[0m\u001b[1;36m3\u001b[0m\u001b[1;33m*\u001b[0m\u001b[0mb\u001b[0m \u001b[1;33m-\u001b[0m \u001b[0me\u001b[0m \u001b[1;33m+\u001b[0m \u001b[0mc\u001b[0m \u001b[1;31m#yields error!\u001b[0m\u001b[1;33m\u001b[0m\u001b[1;33m\u001b[0m\u001b[0m\n\u001b[0m\u001b[0;32m      7\u001b[0m \u001b[0mprint\u001b[0m\u001b[1;33m(\u001b[0m\u001b[0mw\u001b[0m\u001b[1;33m)\u001b[0m\u001b[1;33m\u001b[0m\u001b[1;33m\u001b[0m\u001b[0m\n",
      "\u001b[1;31mValueError\u001b[0m: operands could not be broadcast together with shapes (3,) (4,) "
     ]
    }
   ],
   "source": [
    "# Combining multiple operations\n",
    "\n",
    "v = 2*a -3*b - e\n",
    "print(v)\n",
    "\n",
    "w = 2*a -3*b - e + c #yields error!\n",
    "print(w)"
   ]
  },
  {
   "cell_type": "markdown",
   "id": "curious-registrar",
   "metadata": {},
   "source": [
    "### Norms: Vectors Lengths\n",
    "* **Euclidean**, or **2-norm**: the usual distance in space. Given a vector  $v = (v_1, v_2, \\ldots, v_n)$,  its Euclidean norm $\\|v\\|_2$ is given by: \\begin{equation} \\|v\\|_2 = \\sqrt{v_1^2 + v_2^2 + \\ldots + v_n^2} = \\left( \\sum_{i=1}^{n} v_i^2 \\right) ^ {1/2}\\end{equation}"
   ]
  },
  {
   "cell_type": "code",
   "execution_count": 7,
   "id": "reported-funds",
   "metadata": {},
   "outputs": [
    {
     "data": {
      "text/plain": [
       "1.7320508075688772"
      ]
     },
     "execution_count": 7,
     "metadata": {},
     "output_type": "execute_result"
    }
   ],
   "source": [
    "# Calculating norms from scratch\n",
    "# Euclidean norm (usual length)\n",
    "def norm_of_vector(vector):\n",
    "    s = 0\n",
    "    for component in vector:\n",
    "        s = s + component**2\n",
    "    s = np.sqrt(s)\n",
    "    return s\n",
    "\n",
    "norm_of_vector(e)"
   ]
  },
  {
   "cell_type": "markdown",
   "id": "southern-alaska",
   "metadata": {},
   "source": [
    "* **Minkowski *p*-norm** is a generalization of the Euclidean norm. In short, substitute the 2's with *p*'s and you get a norm of order *p*. Note that $p \\geqslant 1$. Thus: \\begin{equation} \\|v\\|_p = \\left( \\sum_{i=1}^{n} \\left|v_i\\right|^p \\right) ^ {1/p}\\end{equation}"
   ]
  },
  {
   "cell_type": "code",
   "execution_count": 8,
   "id": "naughty-toolbox",
   "metadata": {},
   "outputs": [
    {
     "data": {
      "text/plain": [
       "1.4422495703074083"
      ]
     },
     "execution_count": 8,
     "metadata": {},
     "output_type": "execute_result"
    }
   ],
   "source": [
    "# Minkowski's p-norm\n",
    "def pnorm_of_vector(vector, p):\n",
    "    s = 0\n",
    "    for component in vector:\n",
    "        s = s + abs(component)**p\n",
    "    s = s**(1.0/p)\n",
    "    return s\n",
    "\n",
    "pnorm_of_vector(e, 3)"
   ]
  },
  {
   "cell_type": "markdown",
   "id": "cloudy-scenario",
   "metadata": {},
   "source": [
    "Special cases of the *p*-norms:\n",
    "\n",
    "* If $p=1$, then $\\|v\\|_1 = \\sum_{i=1}^{n} |v_i|$. This norm is called **taxicab** or **Manhattan norm**\n",
    "\n",
    "* If $p \\to \\infty$, then $\\|v\\|_\\infty = \\max\\left\\{ |v_1|, |v_2|, \\ldots, |v_n| \\right\\}$. This norm is called **max** or **Chebyshev norm**"
   ]
  },
  {
   "cell_type": "code",
   "execution_count": 9,
   "id": "successful-practitioner",
   "metadata": {},
   "outputs": [
    {
     "name": "stdout",
     "output_type": "stream",
     "text": [
      "3.0\n",
      "1.7320508075688772\n",
      "1.2457309396155174\n",
      "1.0\n"
     ]
    }
   ],
   "source": [
    "# Using NumPy's numpy.linalg.norm(x, p)\n",
    "\n",
    "print(nla.norm(e, 1))\n",
    "\n",
    "print(nla.norm(e, 2))\n",
    "\n",
    "print(nla.norm(e, 5))\n",
    "\n",
    "print(nla.norm(e, np.inf))"
   ]
  },
  {
   "cell_type": "code",
   "execution_count": 10,
   "id": "sensitive-official",
   "metadata": {},
   "outputs": [
    {
     "data": {
      "text/plain": [
       "1.2457309396155174"
      ]
     },
     "execution_count": 10,
     "metadata": {},
     "output_type": "execute_result"
    }
   ],
   "source": [
    "# Generalize our functions\n",
    "def pnorm(vector, p):\n",
    "    if p == 'inf':\n",
    "        return max(abs(vector))\n",
    "    elif p == 1:\n",
    "        return abs(vector).sum()\n",
    "    else:\n",
    "        return pow(abs(vector).sum(), 1.0/p)\n",
    "\n",
    "pnorm(e, 5)"
   ]
  },
  {
   "cell_type": "code",
   "execution_count": 11,
   "id": "extensive-wound",
   "metadata": {},
   "outputs": [
    {
     "data": {
      "image/png": "[encoded data removed]",
      "text/plain": [
       "<Figure size 360x360 with 1 Axes>"
      ]
     },
     "metadata": {
      "needs_background": "light"
     },
     "output_type": "display_data"
    }
   ],
   "source": [
    "# Plotting a 'unit circle' under different norms\n",
    "# (unit circle = circle centered at the origin (0,0) with radius = 1)\n",
    "\n",
    "n = 22 #number of points\n",
    "p = 4 #norm order\n",
    "\n",
    "# Plotting using test-points\n",
    "fig = plt.figure(figsize=(5,5))\n",
    "ax = fig.add_axes([0, 0, 1, 1])\n",
    "for x in np.linspace(-1.1, 1.1, n):\n",
    "    for y in np.linspace(-1.1, 1.1, n):\n",
    "        vector = np.array([x, y])\n",
    "        if nla.norm(vector, p) <= 1:\n",
    "            ax.scatter(x, y, c= 'b', alpha=0.75)\n",
    "ax.scatter(0,0, s = 120, c = 'r')\n",
    "ax.set_title('Unit circle in '+str(p)+'-norm')\n",
    "ax.set_xlim([-1.2, 1.2])\n",
    "ax.set_ylim([-1.2, 1.2])\n",
    "plt.show()"
   ]
  },
  {
   "cell_type": "code",
   "execution_count": 12,
   "id": "proud-boulder",
   "metadata": {},
   "outputs": [
    {
     "data": {
      "image/png": "[encoded data removed]",
      "text/plain": [
       "<Figure size 360x360 with 1 Axes>"
      ]
     },
     "metadata": {
      "needs_background": "light"
     },
     "output_type": "display_data"
    }
   ],
   "source": [
    "# Plotting a 'unit circle' under different norms\n",
    "# (unit circle = circle centered at the origin (0,0) with radius = 1)\n",
    "\n",
    "n = 200\n",
    "p = 2\n",
    "\n",
    "x = np.linspace(-1.0, 1.0, n)\n",
    "y = (1 - np.abs(x)**p)**(1/p)\n",
    "fig = plt.figure(figsize=(5,5))\n",
    "ax = fig.add_axes([0, 0, 1, 1])\n",
    "ax.plot(x, y, c = 'b')\n",
    "ax.plot(x, -y, c = 'b')\n",
    "ax.scatter(0, 0, s = 50, c = 'r')\n",
    "ax.set_title('Unit circle in '+str(p)+'-norm')\n",
    "ax.set_xlim([-1.2, 1.2])\n",
    "ax.set_ylim([-1.2, 1.2])\n",
    "plt.show()"
   ]
  },
  {
   "cell_type": "markdown",
   "id": "relative-lancaster",
   "metadata": {},
   "source": [
    "* Unit vectors: vectors whose norm is unit, i.e. equal to 1\n",
    "* This is a norm-dependent concept (depends on what norm we use to measure distances)\n",
    "* The process of \"converting\" a vector to a unit vector is called **normalization**. To normalize a vector $v$ we scalar multiply it by the reciprocal of its norm $\\|v\\|$. In short:\n",
    "\\begin{equation} v_{\\text{unit}} = \\frac{1}{\\|v\\|} \\cdot v \\end{equation}"
   ]
  },
  {
   "cell_type": "code",
   "execution_count": 13,
   "id": "asian-catholic",
   "metadata": {},
   "outputs": [
    {
     "name": "stdout",
     "output_type": "stream",
     "text": [
      "a =  [-1  2  0]\n",
      "a_unit =  [-0.4472136   0.89442719  0.        ]\n",
      "The norm of a_unit =  0.9999999999999999\n",
      "\n",
      "b =  [ 2 -2  3]\n",
      "b_unit =  [ 1.  -1.   1.5]\n",
      "The norm of b_unit =  1.5\n"
     ]
    }
   ],
   "source": [
    "# Unit Vectors\n",
    "\n",
    "p = 2\n",
    "print('a = ', a)\n",
    "a_unit = a/nla.norm(a, p)\n",
    "print('a_unit = ', a_unit)\n",
    "print('The norm of a_unit = ', nla.norm(a_unit, p))\n",
    "print()\n",
    "\n",
    "\n",
    "p = np.inf\n",
    "print('b = ', b)\n",
    "b_unit = b/nla.norm(a, p)\n",
    "print('b_unit = ', b_unit)\n",
    "print('The norm of b_unit = ', nla.norm(b_unit, p))"
   ]
  },
  {
   "cell_type": "markdown",
   "id": "urban-participation",
   "metadata": {},
   "source": [
    "### Multiplying Vectors. Angle between two vectors\n",
    "* Multiplying vectors can be defined in multiple ways. Here we discuss only the **dot-product** of two vectors. If $a = (a_1, a_2, \\ldots, a_n)$ and $b = (b_1, b_2, \\ldots, b_n)$, then their dot-product is given by:\n",
    "\\begin{equation} a\\cdot b = a_1 b_1 + a_2 b_2 + \\ldots + a_n b_n \\end{equation}\n",
    "* The result of dot-multiplication of two vectors is a scalarm i.e. a number."
   ]
  },
  {
   "cell_type": "code",
   "execution_count": null,
   "id": "northern-eclipse",
   "metadata": {},
   "outputs": [],
   "source": [
    "# Dot-Product of two vectors\n",
    "\n",
    "print('a = ', a)\n",
    "print('b = ', b)\n",
    "\n",
    "print('a.b = ', a.dot(b))\n",
    "\n",
    "print('b.a = ', b.dot(a))"
   ]
  },
  {
   "cell_type": "markdown",
   "id": "coordinate-prescription",
   "metadata": {},
   "source": [
    "* If we \"normalize\" the dot-product of two vectors by dividing it by the product of the Euclidean norms of the vectors, then the resultin number is the **cosine of the angle** between the vectors. In other words, if $\\langle a, b \\rangle$ is the angle between the vectors $a$ and $b$, then:\n",
    "\\begin{equation} \\cos{\\langle a, b \\rangle} = \\frac{a \\cdot b}{\\|a\\|_2 \\cdot \\|b\\|_2} \\end{equation}"
   ]
  },
  {
   "cell_type": "code",
   "execution_count": 14,
   "id": "bulgarian-terminology",
   "metadata": {},
   "outputs": [
    {
     "name": "stdout",
     "output_type": "stream",
     "text": [
      "cos <u,v> =  0.8944271909999159\n",
      "<u,v> = 0.463648 radians\n",
      "<u,v> = 26.565051 degrees\n",
      "\n",
      "<u,v> = 26.565051 deg\n",
      "<u,w> = 135.000000 deg\n",
      "<v,w> = 108.434949 deg\n"
     ]
    }
   ],
   "source": [
    "# Angle between two vectors\n",
    "u = np.array([1, 0])\n",
    "v = np.array([2, 1])\n",
    "w = np.array([-1, 1])\n",
    "\n",
    "cos_uv = u.dot(v)/(nla.norm(u, 2)*nla.norm(v, 2))\n",
    "print('cos <u,v> = ', cos_uv)\n",
    "\n",
    "alpha_uv = np.arccos(cos_uv)\n",
    "print('<u,v> = %f radians' % alpha_uv)\n",
    "print('<u,v> = %f degrees' % np.degrees(alpha_uv))\n",
    "\n",
    "\n",
    "# Function that returns the angle between two vectors\n",
    "def ang_vec(v, w):\n",
    "    if v.size == w.size:\n",
    "        return np.degrees(np.arccos(v.dot(w)/(nla.norm(v,2)*nla.norm(w,2))))\n",
    "    else:\n",
    "        print('Error!')\n",
    "\n",
    "print()\n",
    "print('<u,v> = %f deg' % ang_vec(u, v))\n",
    "print('<u,w> = %f deg' % ang_vec(u, w))\n",
    "print('<v,w> = %f deg' % ang_vec(v, w))"
   ]
  },
  {
   "cell_type": "markdown",
   "id": "curious-stephen",
   "metadata": {},
   "source": [
    "### Similarity between two vectors\n",
    "The cosine of the angle between two vectors can be used as a measure of **similarity** or **concordance**.\n",
    "* $\\cos{\\langle u, v \\rangle} \\approx 1 \\, \\Rightarrow \\,  \\langle u, v \\rangle \\approx 0$  (vectors in same general direction)\n",
    "* $\\cos{\\langle u, v \\rangle} \\approx 0 \\, \\Rightarrow \\,  \\langle u, v \\rangle \\approx 90^\\circ = \\frac{\\pi}{2}\\text{ rad}$ (vectors are close to perpendicular)\n",
    "* $\\cos{\\langle u, v \\rangle} \\approx -1 \\, \\Rightarrow \\,  \\langle u, v \\rangle \\approx 180^\\circ = \\pi \\text{ rad}$ (vectors are in almost opposite direction)"
   ]
  },
  {
   "cell_type": "code",
   "execution_count": 15,
   "id": "clinical-scoop",
   "metadata": {},
   "outputs": [
    {
     "data": {
      "text/plain": [
       "0.7548513560963972"
      ]
     },
     "execution_count": 15,
     "metadata": {},
     "output_type": "execute_result"
    }
   ],
   "source": [
    "# Cosine similarity between two vectors\n",
    "\n",
    "def cos_sim(v, w):\n",
    "    if v.size == w.size:\n",
    "        return v.dot(w)/(nla.norm(v,2)*nla.norm(w,2))\n",
    "    else:\n",
    "        print('Error!')\n",
    "        \n",
    "x = np.array([1, 1, 1, 1])\n",
    "y = np.array([1.0, 0.5, 0.1, 2.4])\n",
    "cos_sim(x, y)"
   ]
  },
  {
   "cell_type": "code",
   "execution_count": 16,
   "id": "threaded-perspective",
   "metadata": {},
   "outputs": [
    {
     "data": {
      "text/plain": [
       "array([[1.        , 0.75485136, 0.99587059],\n",
       "       [0.75485136, 1.        , 0.69634332],\n",
       "       [0.99587059, 0.69634332, 1.        ]])"
      ]
     },
     "execution_count": 16,
     "metadata": {},
     "output_type": "execute_result"
    }
   ],
   "source": [
    "# Cosine similarity using scikit-learn (generates similarity matrix)\n",
    "from sklearn.metrics.pairwise import cosine_similarity\n",
    "import pandas as pd\n",
    "\n",
    "z = np.array([0.5, 0.5, 0.5, 0.4])\n",
    "\n",
    "# Create \n",
    "data = {'x' : x, 'y' : y, 'z' : z}\n",
    "df = pd.DataFrame(data)\n",
    "\n",
    "cosine_similarity(df.T)"
   ]
  },
  {
   "cell_type": "code",
   "execution_count": 17,
   "id": "adapted-weight",
   "metadata": {},
   "outputs": [
    {
     "name": "stdout",
     "output_type": "stream",
     "text": [
      "[[1.         0.51639778 0.36893239]\n",
      " [0.51639778 1.         0.45360921]\n",
      " [0.36893239 0.45360921 1.        ]]\n"
     ]
    },
    {
     "data": {
      "image/png": "[encoded data removed]",
      "text/plain": [
       "<Figure size 432x288 with 2 Axes>"
      ]
     },
     "metadata": {
      "needs_background": "light"
     },
     "output_type": "display_data"
    }
   ],
   "source": [
    "# Example of cosine simiparity application: text analysis\n",
    "# see: https://www.machinelearningplus.com/nlp/cosine-similarity/ for complete details\n",
    "\n",
    "# Step 1: Generate the documents\n",
    "doc_trump = 'Mr. Trump became president after winning the political election. Though he lost the support of some republican friends, Trump is friends with President Putin'\n",
    "doc_election = 'President Trump says Putin had no political interference is the election outcome. He says it was a witchhunt by political parties. He claimed President Putin is a friend who had nothing to do with the election'\n",
    "doc_putin = 'Post elections, Vladimir Putin became President of Russia. President Putin had served as the Prime Minister earlier in his political career'\n",
    "documents = [doc_trump, doc_election, doc_putin]\n",
    "\n",
    "\n",
    "# Step 2: Create the document matrix\n",
    "from sklearn.feature_extraction.text import CountVectorizer, TfidfVectorizer\n",
    "\n",
    "count_vectorizer = CountVectorizer(stop_words='english')\n",
    "sparse_matrix = count_vectorizer.fit_transform(documents)\n",
    "\n",
    "doc_term_matrix = sparse_matrix.todense()\n",
    "df = pd.DataFrame(doc_term_matrix, \n",
    "                  columns=count_vectorizer.get_feature_names(), \n",
    "                  index=['doc_trump', 'doc_election', 'doc_putin'])\n",
    "\n",
    "\n",
    "# Step 3: Calculate the cosine similarity for the dataframe df\n",
    "c_sim = cosine_similarity(df)\n",
    "print(c_sim)\n",
    "\n",
    "df_sim = pd.DataFrame(c_sim,\n",
    "                      columns = ['doc_trump', 'doc_election', 'doc_putin'])\n",
    "\n",
    "\n",
    "plt.figure()\n",
    "sns.heatmap(df_sim,\n",
    "            annot=True,\n",
    "            fmt='0.3f',\n",
    "            cmap='RdYlGn',\n",
    "            yticklabels=df_sim.columns\n",
    "           )\n",
    "plt.yticks(rotation=0)\n",
    "plt.show()"
   ]
  },
  {
   "cell_type": "markdown",
   "id": "talented-darwin",
   "metadata": {},
   "source": [
    "## Practice Assignment: the *iris* dataset\n",
    "The iris dataset contains data about the length and width of sepals and petals of three varieties of iris flowers (*setosa*, *versicolor* and *virginica*). This is a frequently used dataset in statistics and machine learning. Your task:\n",
    "* Load the dataset as a Pandas DataFrame\n",
    "* For every variety of iris flowers, construct the similarity matrix (e.g. a similarity matrix for the *setosa* variety, for the four vectors: sepal_length, sepal_width, petal_length, petal_width)"
   ]
  },
  {
   "cell_type": "code",
   "execution_count": 18,
   "id": "major-franchise",
   "metadata": {},
   "outputs": [
    {
     "data": {
      "image/png": "[encoded data removed]",
      "text/plain": [
       "<Figure size 432x288 with 2 Axes>"
      ]
     },
     "metadata": {
      "needs_background": "light"
     },
     "output_type": "display_data"
    },
    {
     "data": {
      "image/png": "[encoded data removed]",
      "text/plain": [
       "<Figure size 432x288 with 2 Axes>"
      ]
     },
     "metadata": {
      "needs_background": "light"
     },
     "output_type": "display_data"
    },
    {
     "data": {
      "image/png": "[encoded data removed]",
      "text/plain": [
       "<Figure size 432x288 with 2 Axes>"
      ]
     },
     "metadata": {
      "needs_background": "light"
     },
     "output_type": "display_data"
    },
    {
     "data": {
      "image/png": "[encoded data removed]",
      "text/plain": [
       "<Figure size 432x288 with 2 Axes>"
      ]
     },
     "metadata": {
      "needs_background": "light"
     },
     "output_type": "display_data"
    }
   ],
   "source": [
    "df_iris = pd.read_csv('iris.csv')\n",
    "\n",
    "df_set = df_iris[df_iris['variety'] == 'Setosa'].drop(columns=['variety'])\n",
    "df_vers = df_iris[df_iris['variety'] == 'Versicolor'].drop(columns=['variety'])\n",
    "df_virg = df_iris[df_iris['variety'] == 'Virginica'].drop(columns=['variety'])\n",
    "\n",
    "\n",
    "sepal_length = {'setosa' : df_set['sepal_length'].values,\n",
    "                'versicolor' : df_vers['sepal_length'].values,\n",
    "                'virginica' : df_virg['sepal_length'].values}\n",
    "sepal_length = pd.DataFrame(sepal_length, columns = ['setosa', 'versicolor', 'virginica'])\n",
    "\n",
    "\n",
    "sepal_width = {'setosa' : df_set['sepal_width'].values,\n",
    "               'versicolor' : df_vers['sepal_width'].values,\n",
    "               'virginica' : df_virg['sepal_width'].values}\n",
    "sepal_width = pd.DataFrame(sepal_width, columns = ['setosa', 'versicolor', 'virginica'])\n",
    "\n",
    "\n",
    "petal_length = {'setosa' : df_set['petal_length'].values,\n",
    "                'versicolor' : df_vers['petal_length'].values,\n",
    "                'virginica' : df_virg['petal_length'].values}\n",
    "petal_length = pd.DataFrame(petal_length, columns = ['setosa', 'versicolor', 'virginica'])\n",
    "\n",
    "\n",
    "petal_width = {'setosa' : df_set['petal_width'].values,\n",
    "               'versicolor' : df_vers['petal_width'].values,\n",
    "               'virginica' : df_virg['petal_width'].values}\n",
    "petal_width = pd.DataFrame(petal_width, columns = ['setosa', 'versicolor', 'virginica'])\n",
    "\n",
    "\n",
    "\n",
    "\n",
    "# Printing the cosine similarity heatmaps\n",
    "plt.figure()\n",
    "sns.heatmap(cosine_similarity(sepal_length.T),\n",
    "            annot=True,\n",
    "            fmt='0.4f',\n",
    "            cmap='RdYlGn',\n",
    "            yticklabels=sepal_length.columns,\n",
    "            xticklabels=sepal_length.columns\n",
    "           )\n",
    "plt.yticks(rotation=0)\n",
    "plt.title('Sepal Length Similarity')\n",
    "plt.show()\n",
    "\n",
    "\n",
    "\n",
    "plt.figure()\n",
    "sns.heatmap(cosine_similarity(sepal_width.T),\n",
    "            annot=True,\n",
    "            fmt='0.4f',\n",
    "            cmap='RdYlGn',\n",
    "            yticklabels=sepal_width.columns,\n",
    "            xticklabels=sepal_width.columns\n",
    "           )\n",
    "plt.yticks(rotation=0)\n",
    "plt.title('Sepal Width Similarity')\n",
    "plt.show()\n",
    "\n",
    "\n",
    "\n",
    "plt.figure()\n",
    "sns.heatmap(cosine_similarity(petal_length.T),\n",
    "            annot=True,\n",
    "            fmt='0.4f',\n",
    "            cmap='RdYlGn',\n",
    "            yticklabels=petal_length.columns,\n",
    "            xticklabels=petal_length.columns\n",
    "           )\n",
    "plt.yticks(rotation=0)\n",
    "plt.title('Petal Length Similarity')\n",
    "plt.show()\n",
    "\n",
    "\n",
    "plt.figure()\n",
    "sns.heatmap(cosine_similarity(petal_width.T),\n",
    "            annot=True,\n",
    "            fmt='0.4f',\n",
    "            cmap='RdYlGn',\n",
    "            yticklabels=petal_width.columns,\n",
    "            xticklabels=petal_width.columns\n",
    "           )\n",
    "plt.yticks(rotation=0)\n",
    "plt.title('Petal Width Similarity')\n",
    "plt.show()"
   ]
  },
  {
   "cell_type": "code",
   "execution_count": null,
   "id": "generic-lover",
   "metadata": {},
   "outputs": [],
   "source": [
    "df_iris"
   ]
  },
  {
   "cell_type": "code",
   "execution_count": null,
   "id": "f4bdefe8-7d0f-4621-bb8d-9b8837adb009",
   "metadata": {},
   "outputs": [],
   "source": []
  }
 ],
 "metadata": {
  "kernelspec": {
   "display_name": "Python 3",
   "language": "python",
   "name": "python3"
  },
  "language_info": {
   "codemirror_mode": {
    "name": "ipython",
    "version": 3
   },
   "file_extension": ".py",
   "mimetype": "text/x-python",
   "name": "python",
   "nbconvert_exporter": "python",
   "pygments_lexer": "ipython3",
   "version": "3.8.8"
  }
 },
 "nbformat": 4,
 "nbformat_minor": 5
}
