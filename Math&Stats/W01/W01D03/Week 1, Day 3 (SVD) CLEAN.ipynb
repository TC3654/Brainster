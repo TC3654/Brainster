{
 "cells": [
  {
   "cell_type": "markdown",
   "id": "dominican-feedback",
   "metadata": {},
   "source": [
    "# Linear Algebra"
   ]
  },
  {
   "cell_type": "code",
   "execution_count": null,
   "id": "protecting-zealand",
   "metadata": {},
   "outputs": [],
   "source": [
    "#importing libraries\n",
    "import numpy\n",
    "import numpy as np\n",
    "import numpy.linalg as nla\n",
    "import scipy.linalg as sla\n",
    "import matplotlib.pyplot as plt\n",
    "import matplotlib.image\n",
    "\n",
    "#setting printout precision\n",
    "np.set_printoptions(suppress=True)"
   ]
  },
  {
   "cell_type": "markdown",
   "id": "increased-visitor",
   "metadata": {},
   "source": [
    "## Singlular Value Decomposition\n",
    "* The **singular value decomposition (SVD)** of a matrix allows a matrix to be represented as a product of three *special* matrices\n",
    "* If $A$ is an $m \\times n$ matrix, then we can rewrite it as the product \\begin{equation} A = U_{m\\times m} \\cdot S_{m \\times n} \\cdot V_{n \\times n} \\end{equation} where $U$ and $V$ are orthogonal matrices, while $S$ is a diagonal matrix."
   ]
  },
  {
   "cell_type": "markdown",
   "id": "coral-potter",
   "metadata": {},
   "source": [
    "## Calculating the SVD of a matrix"
   ]
  },
  {
   "cell_type": "code",
   "execution_count": null,
   "id": "opponent-diesel",
   "metadata": {},
   "outputs": [],
   "source": [
    "# creating the matrix A\n",
    "A = np.array()\n",
    "print('A = \\n', A)\n",
    "\n",
    "# getting the SVD\n",
    "\n",
    "\n",
    "print('U = \\n', U)\n",
    "\n",
    "print('S = \\n', S) # this one is given as an array, not a matrix\n",
    "\n",
    "print('V = \\n', V)\n",
    "\n",
    "\n",
    "# check if it really works\n",
    "# Step 1: Create a diagonal verson of S\n",
    "\n",
    "\n",
    "# Step 2: Multiply and print\n"
   ]
  },
  {
   "cell_type": "code",
   "execution_count": null,
   "id": "threaded-ordering",
   "metadata": {},
   "outputs": [],
   "source": [
    "# Tougher example: Hilbert's Matrix \n",
    "order = \n",
    "H = np.zeros()\n",
    "\n",
    "\n",
    "\n",
    "print('H = \\n', H)\n",
    "\n",
    "\n",
    "# getting the SVD\n",
    "\n",
    "\n",
    "print('U = \\n', U)\n",
    "\n",
    "print('S = \\n', S) # this one is given as an array, not a matrix\n",
    "\n",
    "print('V = \\n', V)\n",
    "\n",
    "\n",
    "# check if it really works\n",
    "# Step 1: Create a diagonal verson of S\n",
    "\n",
    "\n",
    "# Step 2: Multiply and print\n",
    "\n"
   ]
  },
  {
   "cell_type": "markdown",
   "id": "novel-syndrome",
   "metadata": {},
   "source": [
    "## Low-rank SVD approximation\n",
    "* Instead using the full matrices $U$, $S$ and $V$ for reconstruction of the original matrix (this is pointless), we can *approximate* the original matrix with **less information**\n",
    "* The advantage of this is that we will be using less memory to store the data, and, additionally -- eliminate any *noise* that the data might contain (essentially, we will be cleaning up possibly garbled data)\n",
    "* The approximation is called **low-rank SVD approximation**\n",
    "* The approximation of order $k$ uses only the first $k$ columns of $U$, the first (largest) $k$ singular values from $S$, and the first $k$ rows of $V$."
   ]
  },
  {
   "cell_type": "code",
   "execution_count": null,
   "id": "alpha-branch",
   "metadata": {},
   "outputs": [],
   "source": [
    "# Construct the rank 3 approximation to H\n",
    "\n",
    "# Getting the 3 rows, columns\n",
    "k = 3\n",
    "\n",
    "\n",
    "#Constructing the approximation\n"
   ]
  },
  {
   "cell_type": "markdown",
   "id": "hired-security",
   "metadata": {},
   "source": [
    "## Example: image compression\n",
    "* Since images are matrices, low-rank SVD approximation can be applied to filtering and compressing images\n",
    "* For simplicity, the images are converted into grayscale coloring"
   ]
  },
  {
   "cell_type": "code",
   "execution_count": null,
   "id": "suited-facing",
   "metadata": {},
   "outputs": [],
   "source": [
    "# Load the image\n",
    "img = matplotlib.image.imread()\n",
    "\n",
    "# show the image\n",
    "plt.figure()\n",
    "plt.imshow(img)\n",
    "\n",
    "# convert to grayscale and show\n",
    "def rgb2gray(rgb):\n",
    "    #return np.dot(rgb[...,:3], [0.2989, 0.5870, 0.1140])\n",
    "    return rgb[...].dot([0.2989, 0.5870, 0.1140])\n",
    "\n"
   ]
  },
  {
   "cell_type": "code",
   "execution_count": null,
   "id": "breeding-vancouver",
   "metadata": {},
   "outputs": [],
   "source": [
    "# Show the matrix of the image\n"
   ]
  },
  {
   "cell_type": "code",
   "execution_count": null,
   "id": "physical-supply",
   "metadata": {},
   "outputs": [],
   "source": [
    "# Perform SVD decomposition\n",
    "\n",
    "\n",
    "print('U = \\n', U)\n",
    "\n",
    "print('S = \\n', S) # this one is given as an array, not a matrix\n",
    "\n",
    "print('V = \\n', V)"
   ]
  },
  {
   "cell_type": "code",
   "execution_count": null,
   "id": "civic-liabilities",
   "metadata": {},
   "outputs": [],
   "source": [
    "# Performing low-rank approximation\n",
    "k = 10\n",
    "\n",
    "\n",
    "#Constructing the approximation\n",
    "\n",
    "\n",
    "#Show the image\n"
   ]
  },
  {
   "cell_type": "markdown",
   "id": "sitting-factory",
   "metadata": {},
   "source": [
    "## Practice\n",
    "* Write a function which will display and save the k-th low-rank approximation to an image\n",
    "* The input arguments are the image and the integer k, the output should be a file in an image format"
   ]
  },
  {
   "cell_type": "code",
   "execution_count": null,
   "id": "registered-enterprise",
   "metadata": {},
   "outputs": [],
   "source": [
    "def k_svd_image(image, k):\n",
    "    \n",
    "    "
   ]
  },
  {
   "cell_type": "code",
   "execution_count": null,
   "id": "deadly-egypt",
   "metadata": {},
   "outputs": [],
   "source": [
    "# Example input\n",
    "k_svd_image('lena.png', 15)"
   ]
  }
 ],
 "metadata": {
  "kernelspec": {
   "display_name": "Python 3",
   "language": "python",
   "name": "python3"
  },
  "language_info": {
   "codemirror_mode": {
    "name": "ipython",
    "version": 3
   },
   "file_extension": ".py",
   "mimetype": "text/x-python",
   "name": "python",
   "nbconvert_exporter": "python",
   "pygments_lexer": "ipython3",
   "version": "3.8.8"
  }
 },
 "nbformat": 4,
 "nbformat_minor": 5
}
