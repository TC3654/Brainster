{
 "cells": [
  {
   "cell_type": "markdown",
   "id": "5c7f8b2c-a922-4cc7-8d81-89d15e6e922a",
   "metadata": {},
   "source": [
    "## Workshop W03"
   ]
  },
  {
   "cell_type": "code",
   "execution_count": 1,
   "id": "109911b1-19da-45bf-b5ba-fc2322669943",
   "metadata": {},
   "outputs": [],
   "source": [
    "# Libraries\n",
    "\n",
    "import numpy as np\n",
    "import sympy as sp\n",
    "import matplotlib.pyplot as plt\n",
    "import seaborn as sns\n",
    "import scipy.optimize as opt\n",
    "\n",
    "%matplotlib widget"
   ]
  },
  {
   "cell_type": "markdown",
   "id": "79b8b0cd-77e6-464a-909d-3427cb9f6bd4",
   "metadata": {},
   "source": [
    "### Exercise 1\n",
    "Find the critical points of the function 𝑓(𝑥,𝑦)=$x^{2}$+$y^{4}$−4𝑥𝑦 by using first partial derivatives. Then use second partial derivatives to establish whether each critical point is a minimum, a maximum, or a saddle point."
   ]
  },
  {
   "cell_type": "code",
   "execution_count": 2,
   "id": "7ae2e2f4-1ad3-467c-8786-9e1726893382",
   "metadata": {},
   "outputs": [
    {
     "data": {
      "text/latex": [
       "$\\displaystyle x^{2} - 4 x y + y^{4}$"
      ],
      "text/plain": [
       "x**2 - 4*x*y + y**4"
      ]
     },
     "execution_count": 2,
     "metadata": {},
     "output_type": "execute_result"
    }
   ],
   "source": [
    "# Define the function\n",
    "\n",
    "x, y = sp.symbols('x y', real=True)\n",
    "f = sp.Function('f', real=True)\n",
    "\n",
    "f = x**2 + y**4 - 4*x*y\n",
    "f"
   ]
  },
  {
   "cell_type": "code",
   "execution_count": 3,
   "id": "546ce3aa-5048-4b79-b4e7-b1348c47adb7",
   "metadata": {},
   "outputs": [
    {
     "data": {
      "application/vnd.jupyter.widget-view+json": {
       "model_id": "2c68bd77f3c44de8b99b463ef3291dd3",
       "version_major": 2,
       "version_minor": 0
      },
      "text/plain": [
       "Canvas(toolbar=Toolbar(toolitems=[('Home', 'Reset original view', 'home', 'home'), ('Back', 'Back to previous …"
      ]
     },
     "metadata": {},
     "output_type": "display_data"
    },
    {
     "data": {
      "text/plain": [
       "<sympy.plotting.plot.Plot at 0x1dfeb38e580>"
      ]
     },
     "execution_count": 3,
     "metadata": {},
     "output_type": "execute_result"
    }
   ],
   "source": [
    "#Plot it just cuz it's pretty\n",
    "\n",
    "sp.plotting.plot3d(f, (x, -2, 2), (y, -3, 3))"
   ]
  },
  {
   "cell_type": "code",
   "execution_count": 4,
   "id": "c48b219a-76ed-456e-b536-a009aa75113b",
   "metadata": {},
   "outputs": [
    {
     "data": {
      "text/plain": [
       "(2*x - 4*y, -4*x + 4*y**3)"
      ]
     },
     "execution_count": 4,
     "metadata": {},
     "output_type": "execute_result"
    }
   ],
   "source": [
    "# Find first partial derivatives\n",
    "\n",
    "f_x = f.diff(x)\n",
    "f_y = f.diff(y)\n",
    "\n",
    "f_x, f_y"
   ]
  },
  {
   "cell_type": "code",
   "execution_count": 5,
   "id": "db9f65a8-05f9-4366-93e4-407ce7cc7262",
   "metadata": {},
   "outputs": [
    {
     "data": {
      "text/plain": [
       "[(-2.82842712474619, -1.41421356237310),\n",
       " (0.0, 0.0),\n",
       " (2.82842712474619, 1.41421356237310)]"
      ]
     },
     "execution_count": 5,
     "metadata": {},
     "output_type": "execute_result"
    }
   ],
   "source": [
    "# Find critical points\n",
    "\n",
    "eq1 = sp.Eq(f_x, 0).n()\n",
    "eq2 = sp.Eq(f_y, 0).n()\n",
    "\n",
    "sol = sp.solve((eq1, eq2), (x, y))\n",
    "sol"
   ]
  },
  {
   "cell_type": "code",
   "execution_count": 6,
   "id": "e6d4ecd6-290a-4a72-a746-e33404e18546",
   "metadata": {},
   "outputs": [
    {
     "data": {
      "text/plain": [
       "(2, 12*y**2, -4)"
      ]
     },
     "execution_count": 6,
     "metadata": {},
     "output_type": "execute_result"
    }
   ],
   "source": [
    "# Find second partial derivatives\n",
    "\n",
    "f_xx = f.diff(x, 2)\n",
    "f_yy = f.diff(y, 2)\n",
    "f_xy = f.diff(x, y)\n",
    "\n",
    "f_xx, f_yy, f_xy"
   ]
  },
  {
   "cell_type": "code",
   "execution_count": 7,
   "id": "b6140476-aee1-42c6-8dd2-87947524ce34",
   "metadata": {},
   "outputs": [
    {
     "name": "stdout",
     "output_type": "stream",
     "text": [
      "32 -16 32\n",
      "2 2\n"
     ]
    }
   ],
   "source": [
    "# Find the nature of critical points\n",
    "\n",
    "# Critical point 1\n",
    "dic1 = {x:sol[0][0], y:sol[0][1]}\n",
    "d1 = int(f_xx.subs(dic1) * f_yy.subs(dic1) - f_xy.subs(dic1)**2)\n",
    "\n",
    "# d = 32\n",
    "cp1 = f_xx.subs(dic1)\n",
    "# f_xx(sol[0]) = 2\n",
    "# d > 0 and f_xx > 0 --> sol[0] is a local minimum\n",
    "\n",
    "# Critical point 2\n",
    "dic2 = {x:sol[1][0], y:sol[1][1]}\n",
    "d2 = int(f_xx.subs(dic2) * f_yy.subs(dic2) - f_xy.subs(dic2)**2)\n",
    "\n",
    "# d = -16 --> sol[1] is a saddle point\n",
    "\n",
    "\n",
    "# Critical point 3\n",
    "dic3 = {x:sol[2][0], y:sol[2][1]}\n",
    "d3 = int(f_xx.subs(dic3) * f_yy.subs(dic3) - f_xy.subs(dic3)**2)\n",
    "\n",
    "# d = 32\n",
    "cp3 = f_xx.subs(dic3)\n",
    "# f_xx(sol[2]) = 2\n",
    "# d > 0 and f_xx > 0 --> sol[0] is a local minimum\n",
    "\n",
    "print(d1, d2, d3)\n",
    "print(cp1, cp3)"
   ]
  },
  {
   "cell_type": "markdown",
   "id": "9c78f4fd-7717-4fe2-962e-2c43844fff81",
   "metadata": {},
   "source": [
    "### Exercise 2\n",
    "\n",
    "Using the Gradient Descent Method with initial approximation 𝑥0=(0,0), find the minimum point and the minimum value of the function 𝑔(𝑥,𝑦)=(1−𝑥+𝑥2)⋅𝑒𝑦2+(1−𝑦+𝑦2)⋅𝑒𝑥2."
   ]
  },
  {
   "cell_type": "code",
   "execution_count": 8,
   "id": "9e3faecc-e42f-42f2-a95a-06a5ae6c0688",
   "metadata": {},
   "outputs": [
    {
     "data": {
      "application/vnd.jupyter.widget-view+json": {
       "model_id": "532856ddbca043f99eee5d3d4a1a76b7",
       "version_major": 2,
       "version_minor": 0
      },
      "text/plain": [
       "Canvas(toolbar=Toolbar(toolitems=[('Home', 'Reset original view', 'home', 'home'), ('Back', 'Back to previous …"
      ]
     },
     "metadata": {},
     "output_type": "display_data"
    },
    {
     "name": "stdout",
     "output_type": "stream",
     "text": [
      "(x[0]**2 - x[0] + 1)*exp(x[1]**2) + (x[1]**2 - x[1] + 1)*exp(x[0]**2)\n",
      "2*x[0]*(x[1]**2 - x[1] + 1)*exp(x[0]**2) + (2*x[0] - 1)*exp(x[1]**2)\n",
      "2*x[1]*(x[0]**2 - x[0] + 1)*exp(x[1]**2) + (2*x[1] - 1)*exp(x[0]**2)\n"
     ]
    }
   ],
   "source": [
    "# Define function\n",
    "\n",
    "x, y = sp.symbols('x[0] x[1]', real=True)\n",
    "g = sp.Function('g', real=True)\n",
    "\n",
    "g = (1-x+x**2)*sp.exp(y**2) + (1-y+y**2)*sp.exp(x**2)\n",
    "g\n",
    "\n",
    "sp.plotting.plot3d(g, (x, -2, 2), (y, -2, 2))\n",
    "\n",
    "print(g)\n",
    "print(g.diff(x))\n",
    "print(g.diff(y))"
   ]
  },
  {
   "cell_type": "code",
   "execution_count": 9,
   "id": "6118b5e4-9d9b-4539-ad42-6a470cb01f22",
   "metadata": {},
   "outputs": [
    {
     "name": "stdout",
     "output_type": "stream",
     "text": [
      "xk (optimal point) =  [0.2778799 0.2778799]\n",
      "g(xk) (optimal value) =  1.7270110514248864\n",
      "k =  387\n",
      "|grad| =  9.643289486085021e-07\n"
     ]
    }
   ],
   "source": [
    "# Define numpy function\n",
    "def g(x):\n",
    "    return (x[0]**2 - x[0] + 1)*np.exp(x[1]**2) + (x[1]**2 - x[1] + 1)*np.exp(x[0]**2)\n",
    "\n",
    "def grad(x):\n",
    "    return np.array([ 2*x[0]*(x[1]**2 - x[1] + 1)*np.exp(x[0]**2) + (2*x[0] - 1)*np.exp(x[1]**2),\n",
    "                     2*x[1]*(x[0]**2 - x[0] + 1)*np.exp(x[1]**2) + (2*x[1] - 1)*np.exp(x[0]**2) ])\n",
    "\n",
    "\n",
    "# Gradient descent\n",
    "xk = np.array([0, 0])\n",
    "alpha = 0.01\n",
    "max_iter = 1000\n",
    "tol = 1e-6\n",
    "k = 0\n",
    "\n",
    "while k < max_iter and np.linalg.norm(grad(xk), 2) > tol:\n",
    "    xk = xk - alpha*grad(xk)\n",
    "    k = k + 1\n",
    "\n",
    "print('xk (optimal point) = ', xk)\n",
    "print('g(xk) (optimal value) = ', g(xk))\n",
    "print('k = ', k)\n",
    "print('|grad| = ', np.linalg.norm(grad(xk), 2))"
   ]
  },
  {
   "cell_type": "markdown",
   "id": "973b32d8-208c-4b10-8693-6cdaef275021",
   "metadata": {},
   "source": [
    "### Exercise 3\n",
    "\n",
    "On a certain workday, the rate, in tons per hour, at which unprocessed gravel arrives at a gravel processing plant is modeled by 𝐺(𝑡)=90+45⋅cos(𝑡2/18), where 𝑡 is measured in hours and 0≤𝑡≤8. \n",
    "\n",
    "At the beginning of the workday (𝑡=0), the plant has 500 tons of unprocessed gravel.\n",
    "\n",
    "During the hours of operation, 0≤𝑡≤8, the plant processes gravel at a constant rate 𝑃(𝑡)=100 tons per hour.\n",
    "\n",
    "\n",
    "a) Find the total amount of unprocessed gravel that arrives at the plant during the hours of operation on this workday.\n",
    "\n",
    "b) Is the amount of unprocessed gravel at the end of the workday (𝑡=8) greater or smaller than amount of gravel at the beginning of the workday?"
   ]
  },
  {
   "cell_type": "code",
   "execution_count": 26,
   "id": "8120d9a9-7326-4f3a-b197-810ced97600f",
   "metadata": {},
   "outputs": [
    {
     "data": {
      "text/latex": [
       "$\\displaystyle 90 t + \\frac{135 \\sqrt{\\pi} C\\left(\\frac{t}{3 \\sqrt{\\pi}}\\right) \\Gamma\\left(\\frac{1}{4}\\right)}{4 \\Gamma\\left(\\frac{5}{4}\\right)}$"
      ],
      "text/plain": [
       "90*t + 135*sqrt(pi)*fresnelc(t/(3*sqrt(pi)))*gamma(1/4)/(4*gamma(5/4))"
      ]
     },
     "execution_count": 26,
     "metadata": {},
     "output_type": "execute_result"
    }
   ],
   "source": [
    "# Define function\n",
    "\n",
    "t = sp.Symbol('t', positive=True)\n",
    "g = sp.Function('g', real=True)\n",
    "G = sp.Function('G', real=True)\n",
    "\n",
    "g = 90+45*sp.cos((t**2)/18)\n",
    "G = sp.integrate(g, t)\n",
    "G"
   ]
  },
  {
   "cell_type": "code",
   "execution_count": 27,
   "id": "837df91b-e998-472a-9efb-ec10430f2b1e",
   "metadata": {},
   "outputs": [
    {
     "data": {
      "text/latex": [
       "$\\displaystyle 825.55108858777$"
      ],
      "text/plain": [
       "825.551088587770"
      ]
     },
     "execution_count": 27,
     "metadata": {},
     "output_type": "execute_result"
    }
   ],
   "source": [
    "# a) amount of unprocessed gravel\n",
    "\n",
    "ans_a = G.subs(t, 8) - G.subs(t, 0)\n",
    "ans_a.n()"
   ]
  },
  {
   "cell_type": "code",
   "execution_count": 33,
   "id": "c735f803-f8c8-44aa-997b-3b8ccc9448a1",
   "metadata": {},
   "outputs": [
    {
     "data": {
      "text/latex": [
       "$\\displaystyle 525.55108858777$"
      ],
      "text/plain": [
       "525.551088587770"
      ]
     },
     "execution_count": 33,
     "metadata": {},
     "output_type": "execute_result"
    }
   ],
   "source": [
    "# b) 500 + amount - rate*8\n",
    "\n",
    "ans_b = 500 + sp.integrate(g, (t, 0, 8)) - 100*8\n",
    "ans_b.n()\n",
    "\n",
    "# at the end of the day there's approximately 25.55 tons more gravel than at the beginning of the day"
   ]
  },
  {
   "cell_type": "code",
   "execution_count": 29,
   "id": "257a1c3d-5b0d-468c-bb12-a245ce9a0756",
   "metadata": {},
   "outputs": [
    {
     "data": {
      "application/vnd.jupyter.widget-view+json": {
       "model_id": "08bcf84d96d743f3ac29017b7953d5be",
       "version_major": 2,
       "version_minor": 0
      },
      "text/plain": [
       "Canvas(toolbar=Toolbar(toolitems=[('Home', 'Reset original view', 'home', 'home'), ('Back', 'Back to previous …"
      ]
     },
     "metadata": {},
     "output_type": "display_data"
    },
    {
     "data": {
      "application/vnd.jupyter.widget-view+json": {
       "model_id": "9c8aa532e85e4b71abc701ec52eaa006",
       "version_major": 2,
       "version_minor": 0
      },
      "text/plain": [
       "Canvas(toolbar=Toolbar(toolitems=[('Home', 'Reset original view', 'home', 'home'), ('Back', 'Back to previous …"
      ]
     },
     "metadata": {},
     "output_type": "display_data"
    },
    {
     "data": {
      "text/plain": [
       "<sympy.plotting.plot.Plot at 0x1dfec2a50d0>"
      ]
     },
     "execution_count": 29,
     "metadata": {},
     "output_type": "execute_result"
    }
   ],
   "source": [
    "sp.plot(g, (t, 0, 8))\n",
    "sp.plot(sp.integrate(g, t), (t, 0, 8))"
   ]
  },
  {
   "attachments": {
    "9e58bf41-d98c-4185-a8fb-5f79141a6feb.png": {
     "image/png": "[encoded data removed]"
    }
   },
   "cell_type": "markdown",
   "id": "c608e160-cc8f-42ad-a02f-8228a7b472e2",
   "metadata": {},
   "source": [
    "### Exercise 4\n",
    "\n",
    "Solve the system of equations:\n",
    "\n",
    "![image.png](attachment:9e58bf41-d98c-4185-a8fb-5f79141a6feb.png)\n",
    "\n",
    "using Gradient Descent Method applied to a function of the kind 𝑓(𝐱)=‖𝐴𝐱−𝑏‖22 where 𝐴𝐱=𝑏 is the matrix equation that corresponds to the system, and ‖ ⋅ ‖2 is the Euclidean norm."
   ]
  },
  {
   "cell_type": "code",
   "execution_count": 14,
   "id": "fb6b00a6-6a37-48e9-a1d6-d9e07e85e476",
   "metadata": {},
   "outputs": [
    {
     "data": {
      "text/plain": [
       "(Matrix([\n",
       " [1, -2,  3],\n",
       " [3,  2, -5],\n",
       " [2, -5,  2]]),\n",
       " Matrix([\n",
       " [-1],\n",
       " [ 3],\n",
       " [ 0]]),\n",
       " Matrix([\n",
       " [x[0]],\n",
       " [x[1]],\n",
       " [x[2]]]))"
      ]
     },
     "execution_count": 14,
     "metadata": {},
     "output_type": "execute_result"
    }
   ],
   "source": [
    "# Define varibales and matrices\n",
    "A = sp.Matrix([[1, -2, 3], [3, 2, -5], [2, -5, 2]])\n",
    "b = sp.Matrix([-1, 3, 0])\n",
    "x, y, z, X = sp.symbols('x[0] x[1] x[2] X', real=True)\n",
    "X = sp.Matrix([x, y, z])\n",
    "\n",
    "A, b, X"
   ]
  },
  {
   "cell_type": "code",
   "execution_count": 15,
   "id": "a45270d2-c32e-4b27-a1da-7a22ded04cde",
   "metadata": {},
   "outputs": [
    {
     "name": "stdout",
     "output_type": "stream",
     "text": [
      "(2*x[0] - 5*x[1] + 2*x[2])**2 + (x[0] - 2*x[1] + 3*x[2] + 1)**2 + (3*x[0] + 2*x[1] - 5*x[2] - 3)**2\n",
      "28*x[0] - 12*x[1] - 16*x[2] - 16\n",
      "-12*x[0] + 66*x[1] - 52*x[2] - 16\n",
      "-16*x[0] - 52*x[1] + 76*x[2] + 36\n"
     ]
    }
   ],
   "source": [
    "# Define the function f\n",
    "f = sp.Function('f', real=True)\n",
    "f = ((A*X - b).norm())**2\n",
    "\n",
    "print(f)\n",
    "print(f.diff(x))\n",
    "print(f.diff(y))\n",
    "print(f.diff(z))"
   ]
  },
  {
   "cell_type": "code",
   "execution_count": 21,
   "id": "2184ecb6-faef-4204-95f4-80d71ab09b9f",
   "metadata": {},
   "outputs": [],
   "source": [
    "def f(x):\n",
    "    return (2*x[0] - 5*x[1] + 2*x[2])**2 + (x[0] - 2*x[1] + 3*x[2] + 1)**2 + (3*x[0] + 2*x[1] - 5*x[2] - 3)**2\n",
    "\n",
    "def grad(x):\n",
    "    return np.array([ 28*x[0] - 12*x[1] - 16*x[2] - 16,\n",
    "                     -12*x[0] + 66*x[1] - 52*x[2] - 16,\n",
    "                     -16*x[0] - 52*x[1] + 76*x[2] + 36 ])"
   ]
  },
  {
   "cell_type": "code",
   "execution_count": 22,
   "id": "5cd88759-5f81-4b54-8f24-955ae619544b",
   "metadata": {},
   "outputs": [],
   "source": [
    "def gradient_descent(f, grad, x0, alpha = 0.01, mode = 'min', max_iter = 1000, tol = 1e-6):\n",
    "    # initialize the sequence\n",
    "    k = 0\n",
    "    xk = x0\n",
    "    grad_k = grad(x0)\n",
    "    \n",
    "    while (k < max_iter) and (np.linalg.norm(grad_k, 2) >= tol):\n",
    "        k += 1\n",
    "        if mode == 'min':\n",
    "            xk = xk - alpha*grad_k\n",
    "        else:\n",
    "            xk = xk + alpha*grad_k\n",
    "            \n",
    "        grad_k = grad(xk)\n",
    "        \n",
    "    print('xk = ', xk)\n",
    "    print('g(xk) = ', f(xk))\n",
    "    print('k = ', k)\n",
    "    print('|grad| = ', np.linalg.norm(grad_k, 2))\n",
    "    \n",
    "    return xk, f(xk), np.linalg.norm(grad_k, 2), k"
   ]
  },
  {
   "cell_type": "code",
   "execution_count": 23,
   "id": "5d451cb8-b2a7-41e3-885e-25e69e210fe8",
   "metadata": {},
   "outputs": [
    {
     "name": "stdout",
     "output_type": "stream",
     "text": [
      "xk =  [ 0.26086976 -0.08695635 -0.4782607 ]\n",
      "g(xk) =  1.5025399242152352e-13\n",
      "k =  421\n",
      "|grad| =  9.740922216752993e-07\n"
     ]
    },
    {
     "data": {
      "text/plain": [
       "(array([ 0.26086976, -0.08695635, -0.4782607 ]),\n",
       " 1.5025399242152352e-13,\n",
       " 9.740922216752993e-07,\n",
       " 421)"
      ]
     },
     "execution_count": 23,
     "metadata": {},
     "output_type": "execute_result"
    }
   ],
   "source": [
    "x0 = np.array([1, 0, -1])\n",
    "gradient_descent(f, grad, x0)"
   ]
  },
  {
   "cell_type": "code",
   "execution_count": 24,
   "id": "557e018a-2283-4d7a-9199-cefd4154712f",
   "metadata": {},
   "outputs": [
    {
     "data": {
      "text/plain": [
       "      fun: 8.196715003809166e-14\n",
       " hess_inv: array([[0.13657845, 0.10302457, 0.09924386],\n",
       "       [0.10302457, 0.11058601, 0.0973535 ],\n",
       "       [0.09924386, 0.0973535 , 0.10066163]])\n",
       "      jac: array([ 8.93507490e-12, -4.27172520e-10, -2.61191957e-10])\n",
       "  message: 'Optimization terminated successfully.'\n",
       "     nfev: 36\n",
       "      nit: 6\n",
       "     njev: 9\n",
       "   status: 0\n",
       "  success: True\n",
       "        x: array([ 0.26086943, -0.08695665, -0.478261  ])"
      ]
     },
     "execution_count": 24,
     "metadata": {},
     "output_type": "execute_result"
    }
   ],
   "source": [
    "opt.minimize(f, x0, method='BFGS')"
   ]
  },
  {
   "cell_type": "code",
   "execution_count": 20,
   "id": "dad640f2-29e3-4567-a4c7-c32ac4c24c0f",
   "metadata": {},
   "outputs": [],
   "source": [
    "# solution to the system using gradient descent:\n",
    "# optimal point: [ 0.26086976, -0.08695635, -0.4782607 ]\n",
    "# optimal value: 1.5025399242152352e-13"
   ]
  }
 ],
 "metadata": {
  "kernelspec": {
   "display_name": "Python 3",
   "language": "python",
   "name": "python3"
  },
  "language_info": {
   "codemirror_mode": {
    "name": "ipython",
    "version": 3
   },
   "file_extension": ".py",
   "mimetype": "text/x-python",
   "name": "python",
   "nbconvert_exporter": "python",
   "pygments_lexer": "ipython3",
   "version": "3.8.8"
  }
 },
 "nbformat": 4,
 "nbformat_minor": 5
}
