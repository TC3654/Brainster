{
 "cells": [
  {
   "cell_type": "markdown",
   "id": "matched-messaging",
   "metadata": {
    "id": "matched-messaging"
   },
   "source": [
    "# Workshop #8: Parameter Estimation"
   ]
  },
  {
   "cell_type": "code",
   "execution_count": 1,
   "id": "humanitarian-schema",
   "metadata": {
    "id": "humanitarian-schema"
   },
   "outputs": [],
   "source": [
    "# Loading the libraries\n",
    "import numpy as np\n",
    "import sympy as sp\n",
    "import pandas as pd\n",
    "import matplotlib.pyplot as plt\n",
    "import seaborn as sns\n",
    "\n",
    "import scipy.stats as stats\n",
    "import scipy.optimize as opt\n",
    "from scipy.integrate import quad"
   ]
  },
  {
   "cell_type": "markdown",
   "id": "copyrighted-swedish",
   "metadata": {
    "id": "copyrighted-swedish"
   },
   "source": [
    "## Problem 1\n",
    "The file vaccination_rates.csv contains sample data about the percent of the adult population worldwide that has been fully vaccinated for SARS-CoV-2 (as of mid-August 2021). Using the bootstrap method construct a 90% confidence interval for the 80-th percentile of the distribution of vaccination rates."
   ]
  },
  {
   "cell_type": "code",
   "execution_count": 2,
   "id": "comic-athletics",
   "metadata": {
    "id": "comic-athletics"
   },
   "outputs": [
    {
     "data": {
      "text/html": [
       "<div>\n",
       "<style scoped>\n",
       "    .dataframe tbody tr th:only-of-type {\n",
       "        vertical-align: middle;\n",
       "    }\n",
       "\n",
       "    .dataframe tbody tr th {\n",
       "        vertical-align: top;\n",
       "    }\n",
       "\n",
       "    .dataframe thead th {\n",
       "        text-align: right;\n",
       "    }\n",
       "</style>\n",
       "<table border=\"1\" class=\"dataframe\">\n",
       "  <thead>\n",
       "    <tr style=\"text-align: right;\">\n",
       "      <th></th>\n",
       "      <th>country</th>\n",
       "      <th>pct_vacc</th>\n",
       "    </tr>\n",
       "  </thead>\n",
       "  <tbody>\n",
       "    <tr>\n",
       "      <th>0</th>\n",
       "      <td>Armenia</td>\n",
       "      <td>2.9</td>\n",
       "    </tr>\n",
       "    <tr>\n",
       "      <th>1</th>\n",
       "      <td>Belize</td>\n",
       "      <td>17.0</td>\n",
       "    </tr>\n",
       "    <tr>\n",
       "      <th>2</th>\n",
       "      <td>Bulgaria</td>\n",
       "      <td>17.0</td>\n",
       "    </tr>\n",
       "    <tr>\n",
       "      <th>3</th>\n",
       "      <td>Burkina Faso</td>\n",
       "      <td>0.1</td>\n",
       "    </tr>\n",
       "    <tr>\n",
       "      <th>4</th>\n",
       "      <td>Central African Republic</td>\n",
       "      <td>0.3</td>\n",
       "    </tr>\n",
       "  </tbody>\n",
       "</table>\n",
       "</div>"
      ],
      "text/plain": [
       "                    country  pct_vacc\n",
       "0                   Armenia       2.9\n",
       "1                    Belize      17.0\n",
       "2                  Bulgaria      17.0\n",
       "3              Burkina Faso       0.1\n",
       "4  Central African Republic       0.3"
      ]
     },
     "execution_count": 2,
     "metadata": {},
     "output_type": "execute_result"
    }
   ],
   "source": [
    "# Load the data\n",
    "df = pd.read_csv('vaccination_rates.csv')\n",
    "df.head()"
   ]
  },
  {
   "cell_type": "code",
   "execution_count": 3,
   "id": "898e41e7-6a87-405f-a984-c3e5ffe553fd",
   "metadata": {},
   "outputs": [
    {
     "name": "stdout",
     "output_type": "stream",
     "text": [
      "The 90% \"confidence\" interval is (43.39999999999999, 70.59999999999998)\n"
     ]
    }
   ],
   "source": [
    "np.random.seed(555)\n",
    "m = 10000\n",
    "deltas = np.zeros(m) \n",
    "\n",
    "sample = np.array(df['pct_vacc'])\n",
    "n = len(sample)\n",
    "\n",
    "# calculate the sample\n",
    "sample_80th = np.percentile(sample, 80)\n",
    "\n",
    "for i in range(m):\n",
    "    boot_sample = np.random.choice(sample, n)\n",
    "    deltas[i] = np.percentile(boot_sample, 80) - sample_80th\n",
    "\n",
    "    \n",
    "# constructing the interval\n",
    "delta_bar = np.percentile(deltas, [5, 95])\n",
    "\n",
    "l = sample_80th - delta_bar[1]\n",
    "u = sample_80th - delta_bar[0]\n",
    "\n",
    "print(f'The 90% \"confidence\" interval is ({l}, {u})')"
   ]
  },
  {
   "attachments": {
    "f51af341-8cff-44f6-9b2e-ca9e1cfaa56c.png": {
     "image/png": "[encoded data removed]"
    }
   },
   "cell_type": "markdown",
   "id": "confidential-singapore",
   "metadata": {
    "id": "confidential-singapore"
   },
   "source": [
    "## Problem 2\n",
    "This amusing classical example is from von Bortkiewicz (1898). The number of fatalities that resulted from being kicked by a horse was recorded for 10 corps of Prussian cavalry over a period of 20 years, giving 200 corps-years worth of data; these are given in the file horse_kicks.csv. The yearly incidence of such fatalities is low which makes the event dying after being kicked by a horse a rare event. The Poisson distribution is most frequently appropriate for modeling such processes. If 𝑋 is the random variable that describes the number of fatalities, then ![image.png](attachment:f51af341-8cff-44f6-9b2e-ca9e1cfaa56c.png). Using the data given, calculate the maximum likelihood estimate 𝜆' of the parameter 𝜆."
   ]
  },
  {
   "cell_type": "code",
   "execution_count": 4,
   "id": "f3db747b-1903-49c2-b699-3d5939161e42",
   "metadata": {},
   "outputs": [
    {
     "data": {
      "text/html": [
       "<div>\n",
       "<style scoped>\n",
       "    .dataframe tbody tr th:only-of-type {\n",
       "        vertical-align: middle;\n",
       "    }\n",
       "\n",
       "    .dataframe tbody tr th {\n",
       "        vertical-align: top;\n",
       "    }\n",
       "\n",
       "    .dataframe thead th {\n",
       "        text-align: right;\n",
       "    }\n",
       "</style>\n",
       "<table border=\"1\" class=\"dataframe\">\n",
       "  <thead>\n",
       "    <tr style=\"text-align: right;\">\n",
       "      <th></th>\n",
       "      <th>fatalities</th>\n",
       "    </tr>\n",
       "  </thead>\n",
       "  <tbody>\n",
       "    <tr>\n",
       "      <th>0</th>\n",
       "      <td>0</td>\n",
       "    </tr>\n",
       "    <tr>\n",
       "      <th>1</th>\n",
       "      <td>0</td>\n",
       "    </tr>\n",
       "    <tr>\n",
       "      <th>2</th>\n",
       "      <td>0</td>\n",
       "    </tr>\n",
       "    <tr>\n",
       "      <th>3</th>\n",
       "      <td>0</td>\n",
       "    </tr>\n",
       "    <tr>\n",
       "      <th>4</th>\n",
       "      <td>0</td>\n",
       "    </tr>\n",
       "  </tbody>\n",
       "</table>\n",
       "</div>"
      ],
      "text/plain": [
       "   fatalities\n",
       "0           0\n",
       "1           0\n",
       "2           0\n",
       "3           0\n",
       "4           0"
      ]
     },
     "execution_count": 4,
     "metadata": {},
     "output_type": "execute_result"
    }
   ],
   "source": [
    "# Load the data\n",
    "df = pd.read_csv('horse_kicks.csv')\n",
    "df.head()"
   ]
  },
  {
   "cell_type": "code",
   "execution_count": 5,
   "id": "f43dd927-01ec-4e0f-81dc-9f864d76ddd6",
   "metadata": {},
   "outputs": [
    {
     "data": {
      "text/plain": [
       "array([0, 0, 0, 0, 0, 0, 0, 0, 0, 0, 0, 0, 0, 0, 0, 0, 0, 0, 0, 0, 0, 0,\n",
       "       0, 0, 0, 0, 0, 0, 0, 0, 0, 0, 0, 0, 0, 0, 0, 0, 0, 0, 0, 0, 0, 0,\n",
       "       0, 0, 0, 0, 0, 0, 0, 0, 0, 0, 0, 0, 0, 0, 0, 0, 0, 0, 0, 0, 0, 0,\n",
       "       0, 0, 0, 0, 0, 0, 0, 0, 0, 0, 0, 0, 0, 0, 0, 0, 0, 0, 0, 0, 0, 0,\n",
       "       0, 0, 0, 0, 0, 0, 0, 0, 0, 0, 0, 0, 0, 0, 0, 0, 0, 0, 0, 0, 0, 1,\n",
       "       1, 1, 1, 1, 1, 1, 1, 1, 1, 1, 1, 1, 1, 1, 1, 1, 1, 1, 1, 1, 1, 1,\n",
       "       1, 1, 1, 1, 1, 1, 1, 1, 1, 1, 1, 1, 1, 1, 1, 1, 1, 1, 1, 1, 1, 1,\n",
       "       1, 1, 1, 1, 1, 1, 1, 1, 1, 1, 1, 1, 1, 1, 1, 1, 1, 1, 1, 1, 2, 2,\n",
       "       2, 2, 2, 2, 2, 2, 2, 2, 2, 2, 2, 2, 2, 2, 2, 2, 2, 2, 2, 2, 3, 3,\n",
       "       3, 4], dtype=int64)"
      ]
     },
     "execution_count": 5,
     "metadata": {},
     "output_type": "execute_result"
    }
   ],
   "source": [
    "deaths = np.array(df['fatalities'])\n",
    "deaths"
   ]
  },
  {
   "cell_type": "code",
   "execution_count": 16,
   "id": "0f1a0ed9-a8df-4794-a315-f49a1206914b",
   "metadata": {},
   "outputs": [
    {
     "data": {
      "text/plain": [
       "0.6099609374999986"
      ]
     },
     "execution_count": 16,
     "metadata": {},
     "output_type": "execute_result"
    }
   ],
   "source": [
    "lambda_0 = 2.0\n",
    "\n",
    "# define L\n",
    "def L(lmbd, data):\n",
    "    #using scipy.stats\n",
    "    return -np.sum( np.log( stats.poisson(lmbd).pmf(data) ) )\n",
    "    #return -np.sum( stats.poisson(lmbd).logpmf(data) )\n",
    "\n",
    "# maximize\n",
    "L_opt = opt.minimize(L, lambda_0, args=(deaths), method='Nelder-Mead')\n",
    "L_opt.x[0]"
   ]
  },
  {
   "attachments": {
    "aea424e1-b306-4f5d-a950-d45102541fbf.png": {
     "image/png": "[encoded data removed]"
    }
   },
   "cell_type": "markdown",
   "id": "elect-quarter",
   "metadata": {
    "id": "elect-quarter"
   },
   "source": [
    "## Problem 3\n",
    "Suppose your friend possesses a coin which you believe is biased. Your friend tries to convince you it is not, so you decide to test if the coin really is biased. First, you flip the coin 20 times, and you get 12 heads. For things to be fair, next your friend also flips the coin 20 times, and gets 11 heads. After these two outcomes, your friend is convinced that the coin is fair/unbiased since the proportions of heads and tails are close to equal. <br /> <br /> \n",
    "You, however, are more careful, and you decide to perform a Bayesian analysis based on these two results in order to estimate the parameter 𝑝 which gives the probability of getting heads when flipping the coin in question. If 𝑋 is the random variable that models the number of heads obtained, then you notice that 𝑋 follows a binomial distribution: 𝑋~𝐵(𝑛,𝑝). The goal now is to estimate 𝑝 when 𝑛=20. The prior you choose is given by the function: <br />  ![image.png](attachment:aea424e1-b306-4f5d-a950-d45102541fbf.png) <br /> <br /> \n",
    "for 0<𝑝<1. Using this prior, and the fact that two series of 20 tosses of the coin resulted in 12, and 11 heads respectively, calculate the maximum posterior estimate (MAP) for the parameter 𝑝."
   ]
  },
  {
   "cell_type": "code",
   "execution_count": 14,
   "id": "3ef6c2d9-41ba-46e0-8009-55d75f2ce3eb",
   "metadata": {},
   "outputs": [
    {
     "name": "stdout",
     "output_type": "stream",
     "text": [
      "MAP =  0.5624999999999987\n"
     ]
    }
   ],
   "source": [
    "def prior(p):\n",
    "    return 140*(p**3)*((1-p)**3)\n",
    "\n",
    "n = 20\n",
    "data = [12, 11]\n",
    "\n",
    "numerator = lambda x, data: np.prod(stats.binom(20, x).pmf(data)) * prior(x)\n",
    "denominator = quad(numerator, 0, 1, args=(data))[0]\n",
    "\n",
    "def posterior(lmbd, data):\n",
    "    return numerator(lmbd, data) / denominator\n",
    "\n",
    "def MAP(x, data):\n",
    "    return x * posterior(x, data)\n",
    "\n",
    "map_est = quad(MAP, 0, 1, args=(data))[0]\n",
    "\n",
    "print('MAP = ', map_est)"
   ]
  },
  {
   "cell_type": "code",
   "execution_count": null,
   "id": "6b7cb8b4-101f-4e0b-a295-9d2457365147",
   "metadata": {},
   "outputs": [],
   "source": []
  }
 ],
 "metadata": {
  "colab": {
   "name": "Workshop #5.ipynb",
   "provenance": []
  },
  "kernelspec": {
   "display_name": "Python 3 (ipykernel)",
   "language": "python",
   "name": "python3"
  },
  "language_info": {
   "codemirror_mode": {
    "name": "ipython",
    "version": 3
   },
   "file_extension": ".py",
   "mimetype": "text/x-python",
   "name": "python",
   "nbconvert_exporter": "python",
   "pygments_lexer": "ipython3",
   "version": "3.8.13"
  }
 },
 "nbformat": 4,
 "nbformat_minor": 5
}
