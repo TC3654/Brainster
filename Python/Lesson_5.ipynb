{
 "cells": [
  {
   "cell_type": "code",
   "execution_count": 1,
   "id": "f0166fb7-ab22-4993-b5ce-c551f223c772",
   "metadata": {},
   "outputs": [],
   "source": [
    "# WHILE LOOPS"
   ]
  },
  {
   "cell_type": "code",
   "execution_count": 4,
   "id": "06cd907a-0c07-4ddc-9fed-f12914cf05b5",
   "metadata": {},
   "outputs": [
    {
     "name": "stdin",
     "output_type": "stream",
     "text": [
      "Insert input: sjjf\n"
     ]
    },
    {
     "name": "stdout",
     "output_type": "stream",
     "text": [
      "sjjf\n"
     ]
    },
    {
     "name": "stdin",
     "output_type": "stream",
     "text": [
      "Insert input: Heeeyooo\n"
     ]
    },
    {
     "name": "stdout",
     "output_type": "stream",
     "text": [
      "Heeeyooo\n"
     ]
    },
    {
     "name": "stdin",
     "output_type": "stream",
     "text": [
      "Insert input: abrakadabra\n"
     ]
    },
    {
     "name": "stdout",
     "output_type": "stream",
     "text": [
      "abrakadabra\n"
     ]
    },
    {
     "name": "stdin",
     "output_type": "stream",
     "text": [
      "Insert input: blue\n"
     ]
    },
    {
     "name": "stdout",
     "output_type": "stream",
     "text": [
      "blue\n"
     ]
    },
    {
     "name": "stdin",
     "output_type": "stream",
     "text": [
      "Insert input: 0\n"
     ]
    },
    {
     "name": "stdout",
     "output_type": "stream",
     "text": [
      "0\n",
      "Done!\n"
     ]
    }
   ],
   "source": [
    "# Exercise 1:\n",
    "# Write a program that reads the user's input and prints those inputs until it gets \"0\" as input.\n",
    "\n",
    "str = \"\"\n",
    "\n",
    "while str != \"0\":\n",
    "    str = input(\"Insert input:\")\n",
    "    print(str)\n",
    "\n",
    "print(\"Done!\")"
   ]
  },
  {
   "cell_type": "code",
   "execution_count": 7,
   "id": "8a9e3831-5a61-4133-af18-1fd9d38025c5",
   "metadata": {},
   "outputs": [
    {
     "name": "stdin",
     "output_type": "stream",
     "text": [
      "Insert input: something\n",
      "Incorrect answer, try again: blablabla\n",
      "Incorrect answer, try again: brainster\n",
      "Incorrect answer, try again: Brainster\n"
     ]
    },
    {
     "name": "stdout",
     "output_type": "stream",
     "text": [
      "That's right!\n"
     ]
    }
   ],
   "source": [
    "# Exercise 2:\n",
    "# Create a program that receives user input and compare it with the string \"Brainster\". If the input is equal to the string then the program should print the message \"That's right!\",\n",
    "# Otherwise the message \"Incorrect answer, try again: \" and ask for input again.\n",
    "\n",
    "str = input(\"Where do you learn tech skills?\")\n",
    "\n",
    "while str != \"Brainster\":\n",
    "    str = input(\"Incorrect answer, try again:\")\n",
    "\n",
    "print(\"That's right!\")"
   ]
  },
  {
   "cell_type": "code",
   "execution_count": 26,
   "id": "1dc0dc7e-8ed3-4124-a1d1-dca5b5974e11",
   "metadata": {},
   "outputs": [
    {
     "name": "stdout",
     "output_type": "stream",
     "text": [
      "4\n"
     ]
    }
   ],
   "source": [
    "# Exercise 3:\n",
    "# Using a while cycle, create a program that takes a list of integers and returns the index of the first element of the list that is not in ascending order.\n",
    "# If the list is already sorted in ascending order, the program should print \"Already sorted!\".\n",
    "\n",
    "#list = [1, 2, 4, 5, 2]\n",
    "#list = [25, 31, 47, 1, 3, 4, 2]\n",
    "#list = [25, 31, 47]\n",
    "\n",
    "i = 0\n",
    "\n",
    "if list == sorted(list):\n",
    "    print(\"Already sorted!\")\n",
    "else:\n",
    "    while i < len(list)-1:\n",
    "        if list[i] > list[i+1]:\n",
    "            print(i+1)\n",
    "            break\n",
    "        i += 1"
   ]
  },
  {
   "cell_type": "code",
   "execution_count": 7,
   "id": "dba8eddd-01d9-4eb2-a7b5-66fb0900b3bd",
   "metadata": {},
   "outputs": [
    {
     "name": "stdout",
     "output_type": "stream",
     "text": [
      "[1, 7, 14, 2, 3, 6, 9, 15, 18]\n",
      "[1, 2, 3, 6, 7, 9, 14, 15, 18]\n"
     ]
    }
   ],
   "source": [
    "# Exercise 4:\n",
    "# Create a program that takes two sorted lists and prints them sorted and concatenated. You can't use the functions sort() and sorted().\n",
    "\n",
    "#list1 = [1, 4, 8, 10]\n",
    "#list2 = [2, 3, 4, 7]\n",
    "\n",
    "list1 = [1, 7, 14]\n",
    "list2 = [2, 3, 6, 9, 15, 18]\n",
    "\n",
    "list3 = list1 + list2\n",
    "\n",
    "print(list3)\n",
    "\n",
    "for i in range(len(list3)):\n",
    "    for j in range(i + 1, len(list3)):\n",
    "        if(list3[i] > list3[j]):\n",
    "            list3[i],list3[j] = list3[j],list3[i]\n",
    "\n",
    "print(list3)"
   ]
  },
  {
   "cell_type": "code",
   "execution_count": null,
   "id": "03de056f-24a9-477d-8b73-0008ad0ae012",
   "metadata": {},
   "outputs": [],
   "source": [
    "# Exercise 5:\n",
    "# An integer n is said to be triangular if it is equal to the sum of 1 + 2 + 3 + ... up to a given number, that is, if there is an integer m such that n = 1 + 2 + ... + (m −1) + m.\n",
    "# Write a program that takes a positive integer as an input and returns True if and only if that number is triangular.\n",
    "# Otherwise, it prints False."
   ]
  }
 ],
 "metadata": {
  "kernelspec": {
   "display_name": "Python 3",
   "language": "python",
   "name": "python3"
  },
  "language_info": {
   "codemirror_mode": {
    "name": "ipython",
    "version": 3
   },
   "file_extension": ".py",
   "mimetype": "text/x-python",
   "name": "python",
   "nbconvert_exporter": "python",
   "pygments_lexer": "ipython3",
   "version": "3.8.8"
  }
 },
 "nbformat": 4,
 "nbformat_minor": 5
}
