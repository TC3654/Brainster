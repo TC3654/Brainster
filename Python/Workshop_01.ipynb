{
 "cells": [
  {
   "cell_type": "code",
   "execution_count": 1,
   "id": "3ba01baa-c2f5-4548-84b2-85003999ea8a",
   "metadata": {},
   "outputs": [],
   "source": [
    "import numpy as np\n",
    "import pandas as pd"
   ]
  },
  {
   "cell_type": "code",
   "execution_count": 3,
   "id": "c9816b08-39cb-4316-92ba-874e268d1542",
   "metadata": {},
   "outputs": [
    {
     "name": "stdout",
     "output_type": "stream",
     "text": [
      "[1 3 5 7 9]\n"
     ]
    }
   ],
   "source": [
    "# Create a boolean numpy array for the odd elements of the following array arr = np.array([0, 1, 2, 3, 4, 5, 6, 7, 8, 9])\n",
    "# Now use that boolean array to get a the array containing only the odd elements.\n",
    "\n",
    "arr = np.array([0, 1, 2, 3, 4, 5, 6, 7, 8, 9])\n",
    "print(arr[arr % 2 == 1])"
   ]
  },
  {
   "cell_type": "code",
   "execution_count": 13,
   "id": "b4d6cd36-5cf5-4fab-9a59-a02a996be101",
   "metadata": {},
   "outputs": [
    {
     "name": "stdout",
     "output_type": "stream",
     "text": [
      "[[6 4 1]\n",
      " [5 8 6]\n",
      " [7 4 3]\n",
      " [1 8 7]\n",
      " [6 2 2]]\n",
      "Sum of each column:\n",
      "[25 26 19]\n",
      "Sum of each row:\n",
      "[11 19 14 16 10]\n",
      "Max of each column:\n",
      "[7 8 7]\n",
      "Min of each column:\n",
      "[1 2 1]\n",
      "Max of each row:\n",
      "[6 8 7 8 6]\n",
      "Min of each row:\n",
      "[1 5 3 1 2]\n"
     ]
    }
   ],
   "source": [
    "# Create a 5X3 random integer array using np.random.randint of numbers between 1 and 10.\n",
    "# - Compute the sum along rows and columns.\n",
    "# - Compute the maximum and minimum along rows and columns.\n",
    "\n",
    "mat = np.random.randint(1, 11, size=(5,3))\n",
    "print(mat)\n",
    "\n",
    "print(\"Sum of each column:\")\n",
    "print(np.sum(mat, axis=0))\n",
    "print(\"Sum of each row:\")\n",
    "print(np.sum(mat, axis=1))\n",
    "\n",
    "print(\"Max of each column:\")\n",
    "print(np.max(mat, axis=0))\n",
    "print(\"Min of each column:\")\n",
    "print(np.min(mat, axis=0))\n",
    "\n",
    "print(\"Max of each row:\")\n",
    "print(np.max(mat, axis=1))\n",
    "print(\"Min of each row:\")\n",
    "print(np.min(mat, axis=1))"
   ]
  },
  {
   "cell_type": "code",
   "execution_count": 16,
   "id": "516b3d29-b8de-4b4c-b466-19323e7275d2",
   "metadata": {},
   "outputs": [
    {
     "name": "stdout",
     "output_type": "stream",
     "text": [
      "[ 0  1  2  3  4  5  6  7  8  9 10 11 12 13 14 15 16 17 18 19]\n",
      "[ 8  9 10 11 12]\n"
     ]
    }
   ],
   "source": [
    "# From the array created with np.arange(20) extract a smaller array of elements between 7 and 13 using boolean indexing.\n",
    "\n",
    "arr2 = np.arange(20)\n",
    "print(arr2)\n",
    "\n",
    "print(arr2[(arr2 > 7) & (arr2 < 13)])"
   ]
  },
  {
   "cell_type": "code",
   "execution_count": 31,
   "id": "d63ec0d3-a577-42a1-9448-5850f0b3d41a",
   "metadata": {},
   "outputs": [
    {
     "name": "stdout",
     "output_type": "stream",
     "text": [
      "[ 1  2  3  4  5  6  7  8  9 10] [113  96 112 101  95  94  91 102 110  86]\n",
      "0\n",
      "1\n"
     ]
    }
   ],
   "source": [
    "# Use np.random.randint(1, 11, 1000) to get 1000 numbers between and 11.\n",
    "# Read about np.unique and its argument return_counts. Use it to get the nubmer of occurences (count) of each number.\n",
    "# Now read about np.argmax and how you can use it to find the number which has occured most often.\n",
    "\n",
    "a = np.random.randint(1, 11, 1000)\n",
    "a\n",
    "\n",
    "unique, counts = np.unique(a, return_counts=True)\n",
    "print(unique, counts)\n",
    "\n",
    "m = np.argmax(counts)\n",
    "print(m)\n",
    "\n",
    "print(unique[m])"
   ]
  },
  {
   "cell_type": "code",
   "execution_count": 38,
   "id": "3dbc5176-5026-40a0-a74f-5ddbc3bf6cc6",
   "metadata": {},
   "outputs": [
    {
     "data": {
      "text/plain": [
       "(0     3\n",
       " 1     7\n",
       " 2    11\n",
       " 3    15\n",
       " 4    19\n",
       " dtype: int64,\n",
       " 0    1\n",
       " 1    1\n",
       " 2    1\n",
       " 3    1\n",
       " 4    1\n",
       " dtype: int64,\n",
       " 0     2\n",
       " 1    12\n",
       " 2    30\n",
       " 3    56\n",
       " 4    90\n",
       " dtype: int64,\n",
       " 0    2.000000\n",
       " 1    1.333333\n",
       " 2    1.200000\n",
       " 3    1.142857\n",
       " 4    1.111111\n",
       " dtype: float64)"
      ]
     },
     "execution_count": 38,
     "metadata": {},
     "output_type": "execute_result"
    }
   ],
   "source": [
    "# Create two pandas Series from the following lists [2, 4, 6, 8, 10], [1, 3, 5, 7, 9]\n",
    "# Now add, subtract, multiplye and divide them\n",
    "\n",
    "ser1 = pd.Series([2, 4, 6, 8, 10])\n",
    "ser2 = pd.Series([1, 3, 5, 7, 9])\n",
    "\n",
    "ser3 = ser1 + ser2\n",
    "ser4 = ser1 - ser2\n",
    "ser5 = ser1 * ser2\n",
    "ser6 = ser1 / ser2\n",
    "\n",
    "ser3, ser4, ser5, ser6"
   ]
  },
  {
   "cell_type": "code",
   "execution_count": 40,
   "id": "724b3ded-66f8-4527-943e-8d068a76c4a3",
   "metadata": {},
   "outputs": [
    {
     "name": "stdout",
     "output_type": "stream",
     "text": [
      "0    1\n",
      "1    2\n",
      "2    3\n",
      "3    4\n",
      "4    5\n",
      "dtype: int64\n",
      "0    4\n",
      "1    5\n",
      "2    6\n",
      "3    7\n",
      "4    8\n",
      "dtype: int64\n",
      "0    False\n",
      "1    False\n",
      "2    False\n",
      "3     True\n",
      "4     True\n",
      "dtype: bool\n"
     ]
    },
    {
     "data": {
      "text/plain": [
       "0    1\n",
       "1    2\n",
       "2    3\n",
       "dtype: int64"
      ]
     },
     "execution_count": 40,
     "metadata": {},
     "output_type": "execute_result"
    }
   ],
   "source": [
    "# Create two pandas Series from the following lists [1, 2, 3, 4, 5] and [4, 5, 6, 7, 8]\n",
    "# Read about the isin() function. Use it to get the items of series A not present in series B.\n",
    "# Hint: also use the ~ for negative reverse\n",
    "\n",
    "s1 = pd.Series([1, 2, 3, 4, 5])\n",
    "s2 = pd.Series([4, 5, 6, 7, 8])\n",
    "\n",
    "print(s1)\n",
    "print(s2)\n",
    "\n",
    "p = s1.isin(s2)\n",
    "\n",
    "print(p)\n",
    "\n",
    "s1[p]\n",
    "s1[~p]"
   ]
  },
  {
   "cell_type": "code",
   "execution_count": 44,
   "id": "3b9f5b99-2cb4-4dbe-89d0-19abea480f11",
   "metadata": {},
   "outputs": [
    {
     "name": "stdout",
     "output_type": "stream",
     "text": [
      "    C1  C2  C3  C4\n",
      "R1  60   7  57  46\n",
      "R2  33  69  91  28\n",
      "R3  91  33  73  74\n",
      "R4  73  79   1  25\n",
      "R5  39  90  62  47\n",
      "R6  42   6  79  41\n"
     ]
    },
    {
     "data": {
      "text/html": [
       "<div>\n",
       "<style scoped>\n",
       "    .dataframe tbody tr th:only-of-type {\n",
       "        vertical-align: middle;\n",
       "    }\n",
       "\n",
       "    .dataframe tbody tr th {\n",
       "        vertical-align: top;\n",
       "    }\n",
       "\n",
       "    .dataframe thead th {\n",
       "        text-align: right;\n",
       "    }\n",
       "</style>\n",
       "<table border=\"1\" class=\"dataframe\">\n",
       "  <thead>\n",
       "    <tr style=\"text-align: right;\">\n",
       "      <th></th>\n",
       "      <th>C1</th>\n",
       "      <th>C4</th>\n",
       "    </tr>\n",
       "  </thead>\n",
       "  <tbody>\n",
       "    <tr>\n",
       "      <th>R1</th>\n",
       "      <td>60</td>\n",
       "      <td>46</td>\n",
       "    </tr>\n",
       "    <tr>\n",
       "      <th>R2</th>\n",
       "      <td>33</td>\n",
       "      <td>28</td>\n",
       "    </tr>\n",
       "    <tr>\n",
       "      <th>R3</th>\n",
       "      <td>91</td>\n",
       "      <td>74</td>\n",
       "    </tr>\n",
       "    <tr>\n",
       "      <th>R4</th>\n",
       "      <td>73</td>\n",
       "      <td>25</td>\n",
       "    </tr>\n",
       "    <tr>\n",
       "      <th>R6</th>\n",
       "      <td>42</td>\n",
       "      <td>41</td>\n",
       "    </tr>\n",
       "  </tbody>\n",
       "</table>\n",
       "</div>"
      ],
      "text/plain": [
       "    C1  C4\n",
       "R1  60  46\n",
       "R2  33  28\n",
       "R3  91  74\n",
       "R4  73  25\n",
       "R6  42  41"
      ]
     },
     "execution_count": 44,
     "metadata": {},
     "output_type": "execute_result"
    }
   ],
   "source": [
    "# Create 6x4 DataFrame with random numbers, row indexes from R1 to R6 and column indexes from C1 to C4.\n",
    "# Access any column of your choice by name.\n",
    "# Access multiple columns of your choice by name.\n",
    "# Access any row of your choice by name.\n",
    "# Access any row of your choice by index.\n",
    "\n",
    "rows = [\"R\" + str(x) for x in range(1,7)]\n",
    "cols = [\"C\" + str(x) for x in range(1, 5)]\n",
    "\n",
    "df = pd.DataFrame(data=np.random.randint(1,100, size= (6,4)), index=[\"R1\",\"R2\",\"R3\",\"R4\",\"R5\",\"R6\"], columns = [\"C1\", \"C2\", \"C3\", \"C4\"])\n",
    "print(df)\n",
    "\n",
    "df[['C3', 'C1']]\n",
    "\n",
    "df.loc[\"R3\"]\n",
    "\n",
    "df.iloc[0]\n",
    "\n",
    "# Create new column in the DataFrame by multiplying two columns of your choice.\n",
    "# Then try to remove this column completely from the active DataFrame.\n",
    "\n",
    "df['My column'] = df['C1'] * df['C3']\n",
    "df\n",
    "df.drop('My column', inplace=True, axis= 1)\n",
    "\n",
    "# Query the rows in DataFrame where the values in column C1 are bigger than the values in column C4 and show only these 2 columns.\n",
    "df.query('C1 > C4')[['C1', 'C4']]"
   ]
  },
  {
   "cell_type": "code",
   "execution_count": null,
   "id": "93a5c786-582d-4d1a-8e7e-ff2456b4b789",
   "metadata": {},
   "outputs": [],
   "source": []
  }
 ],
 "metadata": {
  "kernelspec": {
   "display_name": "Python 3",
   "language": "python",
   "name": "python3"
  },
  "language_info": {
   "codemirror_mode": {
    "name": "ipython",
    "version": 3
   },
   "file_extension": ".py",
   "mimetype": "text/x-python",
   "name": "python",
   "nbconvert_exporter": "python",
   "pygments_lexer": "ipython3",
   "version": "3.8.8"
  }
 },
 "nbformat": 4,
 "nbformat_minor": 5
}
