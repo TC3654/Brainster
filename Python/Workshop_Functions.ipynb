{
 "cells": [
  {
   "cell_type": "code",
   "execution_count": 6,
   "id": "783b6764-f2ad-4e4d-a220-13d107299ae2",
   "metadata": {},
   "outputs": [
    {
     "name": "stdout",
     "output_type": "stream",
     "text": [
      "14\n"
     ]
    }
   ],
   "source": [
    "# 1. Write a function that returns the maximum of two numbers\n",
    "# input: 5 and 10\n",
    "# input: returns 10\n",
    "\n",
    "def maximum(num1, num2):\n",
    "    \n",
    "    if num1 > num2:\n",
    "        return num1\n",
    "    elif num1 == num2:\n",
    "        return \"Numbers are equal.\"\n",
    "    \n",
    "    return num2\n",
    "\n",
    "\n",
    "print(maximum(14,7))"
   ]
  },
  {
   "cell_type": "code",
   "execution_count": 2,
   "id": "95ffa6a3-7b31-4a30-9c67-792209627397",
   "metadata": {},
   "outputs": [
    {
     "name": "stdout",
     "output_type": "stream",
     "text": [
      "15\n"
     ]
    }
   ],
   "source": [
    "# 2. Write a function that returns the absolute value of a number\n",
    "# input: -15\n",
    "# returns 15\n",
    "\n",
    "def absolute(num):\n",
    "    if num < 0:\n",
    "        return -num\n",
    "    return num\n",
    "\n",
    "print(absolute(-15))"
   ]
  },
  {
   "cell_type": "code",
   "execution_count": 12,
   "id": "eac79f98-9b97-4839-aec2-4951f3e72a61",
   "metadata": {},
   "outputs": [
    {
     "name": "stdout",
     "output_type": "stream",
     "text": [
      "dcba4321\n",
      "dcba4321\n"
     ]
    }
   ],
   "source": [
    "# 3. Write a Python program to reverse a string. \n",
    "# Input:  \"1234abcd\"\n",
    "# Output: \"dcba4321\"\n",
    "# Part 2\n",
    "# Write a python function that recursively reverses a string one letter at a time.\n",
    "\n",
    "def rev1(str):\n",
    "    return str[::-1]\n",
    "\n",
    "print(rev1(\"1234abcd\"))\n",
    "\n",
    "def rev2(str):\n",
    "    \n",
    "    if str == \"\":\n",
    "        return str\n",
    "    \n",
    "    return str[-1] + rev2(str[:-1])\n",
    "\n",
    "print(rev2(\"1234abcd\"))"
   ]
  },
  {
   "cell_type": "code",
   "execution_count": 16,
   "id": "8b0a3bc0-6562-44bd-ad6e-ed3fdba81600",
   "metadata": {},
   "outputs": [
    {
     "name": "stdout",
     "output_type": "stream",
     "text": [
      "False\n"
     ]
    }
   ],
   "source": [
    "# 5. Write a function that checks if a string is a palindrom and returns a True or False. A palindrom is a word that\n",
    "# reads the same if you read it backwards: Input: \"madam\" Output: True Input: \"moon\" Output: \"false\" Hint use list\n",
    "# arround the string to break it into letters. Also use the function we defined previously to reverse the word.\n",
    "\n",
    "def palindrome(str):\n",
    "    \n",
    "    return str == str[::-1]\n",
    "\n",
    "\n",
    "print(palindrome(\"moon\"))"
   ]
  },
  {
   "cell_type": "code",
   "execution_count": 23,
   "id": "2e576a45-dee4-4220-afb8-01a9889bac0e",
   "metadata": {},
   "outputs": [
    {
     "name": "stdout",
     "output_type": "stream",
     "text": [
      "[2, 4, 6, 8, 10]\n"
     ]
    }
   ],
   "source": [
    "# 6. Write a Python program called print_even which takes a list as an argument and print the even numbers from a\n",
    "# given list.\n",
    "#\n",
    "# Input : [1, 2, 3, 4, 5, 6, 7, 8, 9] Output : [2, 4, 6, 8]\n",
    "\n",
    "def print_even(lst):\n",
    "    \n",
    "    even = []\n",
    "    \n",
    "    for i in lst:\n",
    "        if i%2 == 0:\n",
    "            even.append(i)\n",
    "    \n",
    "    print(even)\n",
    "\n",
    "    \n",
    "l = [1, 2, 3, 4, 5, 6, 7, 8, 9, 10]\n",
    "\n",
    "print_even(l)"
   ]
  },
  {
   "cell_type": "code",
   "execution_count": 32,
   "id": "45c79703-3fe2-46ce-9702-ed50cd5a89a0",
   "metadata": {},
   "outputs": [
    {
     "name": "stdout",
     "output_type": "stream",
     "text": [
      "Monday\n"
     ]
    }
   ],
   "source": [
    "# 7.\n",
    "# Write a function called return_day_of_week. This function takes in one parameter (a number from 1-7)\n",
    "# and returns the day of the week (1 is Monday, 2 is Tuesday etc.). \n",
    "# If the number is negative first call the absolute function that you wrote earlier\n",
    "# If the number is bigger than 7, use // to get the remaineder of division and use that number to compute the day\n",
    "# If it is 0 return None.\n",
    "# Expected output\n",
    "# return_day_of_week(1) --> Monday\n",
    "\n",
    "dayOfWeek = {\n",
    "    1: \"Monday\",\n",
    "    2: \"Tuesday\",\n",
    "    3: \"Wednesday\",\n",
    "    4: \"Thursday\",\n",
    "    5: \"Friday\",\n",
    "    6: \"Saturday\",\n",
    "    7: \"Sunday\"\n",
    "}\n",
    "\n",
    "def absolute(num):\n",
    "    if num < 0:\n",
    "        return -num\n",
    "    return num\n",
    "\n",
    "def return_day_of_week(num):\n",
    "    \n",
    "    num = absolute(num)\n",
    "    \n",
    "    if num == 0:\n",
    "        return None\n",
    "    elif num > 7:\n",
    "        num %= 7\n",
    "        \n",
    "    return dayOfWeek[num]\n",
    "\n",
    "print(return_day_of_week(8))"
   ]
  },
  {
   "cell_type": "code",
   "execution_count": null,
   "id": "d36f7cd6-d4da-46cf-8ac1-fb7f5c73d7e8",
   "metadata": {},
   "outputs": [],
   "source": []
  }
 ],
 "metadata": {
  "kernelspec": {
   "display_name": "Python 3",
   "language": "python",
   "name": "python3"
  },
  "language_info": {
   "codemirror_mode": {
    "name": "ipython",
    "version": 3
   },
   "file_extension": ".py",
   "mimetype": "text/x-python",
   "name": "python",
   "nbconvert_exporter": "python",
   "pygments_lexer": "ipython3",
   "version": "3.8.8"
  }
 },
 "nbformat": 4,
 "nbformat_minor": 5
}
