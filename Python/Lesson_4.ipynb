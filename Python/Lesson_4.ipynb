{
 "cells": [
  {
   "cell_type": "code",
   "execution_count": 1,
   "id": "753613d9-6ff4-4090-85c7-d6c43de42ff3",
   "metadata": {},
   "outputs": [],
   "source": [
    "# FOR LOOPS"
   ]
  },
  {
   "cell_type": "code",
   "execution_count": 4,
   "id": "e8a9d9fc-8df7-4a5f-93be-f98738a90bd4",
   "metadata": {},
   "outputs": [
    {
     "name": "stdout",
     "output_type": "stream",
     "text": [
      "4\n",
      "8\n",
      "10\n",
      "20\n"
     ]
    }
   ],
   "source": [
    "# Lists - exercise\n",
    "# Print the double of the numbers in the following list: [2, 4, 5, 10]\n",
    "\n",
    "numbers = [2, 4, 5, 10]\n",
    "\n",
    "for i in numbers:\n",
    "    print(i*2)"
   ]
  },
  {
   "cell_type": "code",
   "execution_count": 11,
   "id": "77e4d08c-26e4-4d85-8a3b-6a336ab782bb",
   "metadata": {},
   "outputs": [
    {
     "name": "stdin",
     "output_type": "stream",
     "text": [
      "Insert first number: 2\n",
      "Insert second number: 6\n"
     ]
    },
    {
     "name": "stdout",
     "output_type": "stream",
     "text": [
      "2\n",
      "3\n",
      "4\n",
      "5\n"
     ]
    }
   ],
   "source": [
    "# Range - exercise\n",
    "# Create a program that reads two integers, a and b, and prints all the numbers between a and b-1, one per line.\n",
    "\n",
    "a = int(input(\"Insert first number:\"))\n",
    "b = int(input(\"Insert second number:\"))\n",
    "\n",
    "if a>=b:\n",
    "    print(\"No numbers to print.\")\n",
    "else:\n",
    "    for i in range(a, b):\n",
    "        print(i)"
   ]
  },
  {
   "cell_type": "code",
   "execution_count": 12,
   "id": "2249288f-5c04-4a67-a880-0850d64309a2",
   "metadata": {},
   "outputs": [],
   "source": [
    "# EXERCISES"
   ]
  },
  {
   "cell_type": "code",
   "execution_count": 20,
   "id": "a4cbabfa-b83d-444e-b7b3-be29e1a62713",
   "metadata": {},
   "outputs": [
    {
     "name": "stdin",
     "output_type": "stream",
     "text": [
      "Enter number: 1\n",
      "Enter number: 2\n",
      "Enter number: 3\n",
      "Enter number: 7\n",
      "Enter number: 14\n"
     ]
    },
    {
     "name": "stdout",
     "output_type": "stream",
     "text": [
      "[7, 14]\n"
     ]
    }
   ],
   "source": [
    "# Exercise 1:\n",
    "# Create a program that gets five numbers and returns a list with all the numbers that are multiple of 7.\n",
    "\n",
    "multiple = []\n",
    "\n",
    "for i in range(5):\n",
    "    number = int(input(\"Enter number:\"))\n",
    "    if number%7==0:\n",
    "        multiple.append(number)\n",
    "    \n",
    "print(multiple)"
   ]
  },
  {
   "cell_type": "code",
   "execution_count": 21,
   "id": "7e886c61-6ecb-40dd-9a72-00032b9a19f2",
   "metadata": {},
   "outputs": [
    {
     "name": "stdin",
     "output_type": "stream",
     "text": [
      "Enter number: 1\n",
      "Enter number: 2\n",
      "Enter number: 3\n",
      "Enter number: 7\n",
      "Enter number: 14\n"
     ]
    },
    {
     "name": "stdout",
     "output_type": "stream",
     "text": [
      "[2, 4, 6, 14, 28]\n"
     ]
    }
   ],
   "source": [
    "# Exercise 2:\n",
    "# Create a program that gets five numbers and returns a list with the double of all numbers in the list.\n",
    "\n",
    "double = []\n",
    "\n",
    "for i in range(5):\n",
    "    number = int(input(\"Enter number:\"))\n",
    "    double.append(number*2)\n",
    "\n",
    "print(double)"
   ]
  },
  {
   "cell_type": "code",
   "execution_count": 27,
   "id": "72589716-6810-4d26-bcb7-bdb4548e0053",
   "metadata": {},
   "outputs": [
    {
     "name": "stdin",
     "output_type": "stream",
     "text": [
      "What's the number? 10\n"
     ]
    },
    {
     "name": "stdout",
     "output_type": "stream",
     "text": [
      "23\n"
     ]
    }
   ],
   "source": [
    "# Exercise 3:\n",
    "# Create a program that given a integer N, prints the sum of all numbers lower than N that are multiple of 3 or 5 and aren't multiples of 7.\n",
    "\n",
    "N = int(input(\"What's the number?\"))\n",
    "\n",
    "sumN = 0\n",
    "\n",
    "for i in range(N):\n",
    "    if (i%3==0 or i%5==0) and i%7!=0:\n",
    "        sumN += i\n",
    "        \n",
    "print(sumN)"
   ]
  },
  {
   "cell_type": "code",
   "execution_count": 33,
   "id": "e8ba175c-d271-4260-ade1-885a7a9204c0",
   "metadata": {},
   "outputs": [
    {
     "name": "stdin",
     "output_type": "stream",
     "text": [
      "What char you're looking for? a\n"
     ]
    },
    {
     "name": "stdout",
     "output_type": "stream",
     "text": [
      "[0, 3]\n"
     ]
    }
   ],
   "source": [
    "# Exercise 4:\n",
    "# Create a program that given a list equal to ['a', 'c', 'b', 'a'], asks for a character and returns a list with all the positions where that character appears.\n",
    "\n",
    "list = ['a', 'c', 'b', 'a']\n",
    "\n",
    "pos = []\n",
    "\n",
    "char = input(\"What char you're looking for?\")\n",
    "\n",
    "for i in range(len(list)):\n",
    "    if list[i] == char:\n",
    "        pos.append(i)\n",
    "\n",
    "print(pos)"
   ]
  },
  {
   "cell_type": "code",
   "execution_count": 5,
   "id": "395fd483-8ebe-486f-9e0e-c879f8e5a814",
   "metadata": {},
   "outputs": [
    {
     "name": "stdin",
     "output_type": "stream",
     "text": [
      "Maya, what do you need to pack? 10 books, 2 pillows, 1 tv\n"
     ]
    },
    {
     "name": "stdout",
     "output_type": "stream",
     "text": [
      "13\n"
     ]
    }
   ],
   "source": [
    "# Exercise 5:\n",
    "# Maya is moving to a new house and she needs your help to pack her stuff. She will tell you in a sentence (string) the amount of things she needs to pack. For example: \"10 books, 2 pillows, 1 tv\".\n",
    "# In this case, she has a total of 10 + 2 + 1 = 13 items.\n",
    "\n",
    "str = input(\"Maya, what do you need to pack?\")\n",
    "sum = 0\n",
    "\n",
    "s = str.split()\n",
    "\n",
    "for i in range(0, len(s), 2):\n",
    "    sum += int(s[i])\n",
    "    \n",
    "print(sum)"
   ]
  },
  {
   "cell_type": "code",
   "execution_count": null,
   "id": "1ffba761-d9cf-49c6-a07f-2111476e74b5",
   "metadata": {},
   "outputs": [],
   "source": []
  }
 ],
 "metadata": {
  "kernelspec": {
   "display_name": "Python 3",
   "language": "python",
   "name": "python3"
  },
  "language_info": {
   "codemirror_mode": {
    "name": "ipython",
    "version": 3
   },
   "file_extension": ".py",
   "mimetype": "text/x-python",
   "name": "python",
   "nbconvert_exporter": "python",
   "pygments_lexer": "ipython3",
   "version": "3.8.8"
  }
 },
 "nbformat": 4,
 "nbformat_minor": 5
}
