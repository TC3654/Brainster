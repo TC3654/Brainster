{
 "cells": [
  {
   "cell_type": "code",
   "execution_count": 1,
   "id": "651d8d60-6556-4c29-b6ee-2fc76516b952",
   "metadata": {},
   "outputs": [
    {
     "name": "stdout",
     "output_type": "stream",
     "text": [
      "Ticket price can not be changed!\n",
      "Error! You provided wrong value\n"
     ]
    }
   ],
   "source": [
    "# Exercise 1\n",
    "# Create a class representing a concert ticket.\n",
    "# Its constructor takes two values: a ticket price, and a section. Example: ConcertTicket(22.0, 'floor')\n",
    "# You can access these two values through the price and section attributes, but once set, the price cannot be changed.\n",
    "# If you try to set it, it prints an error message. The section can be changed, but can only be set to \"floor\", \"lower\",\n",
    "# \"mezzanine\", or \"premier\". If you try to change it to something different, an error message is printed out.\n",
    "\n",
    "class ticket:\n",
    "    \n",
    "    def __init__(self, price, section):\n",
    "        self.__price = price\n",
    "        self.__section = section\n",
    "      \n",
    "    \n",
    "class ConcertTicket:\n",
    "    \n",
    "    def __init__(self, ticket_price, section):\n",
    "        self.__ticket_price = ticket_price\n",
    "        self.__section = section\n",
    "        \n",
    "    @property\n",
    "    def ticket_price(self):\n",
    "        return self.__ticket_price\n",
    "    \n",
    "    @ticket_price.setter\n",
    "    def ticket_price(self, new_val):\n",
    "        print(\"Ticket price can not be changed!\")\n",
    "        \n",
    "    @property\n",
    "    def section(self):\n",
    "        return self.__ticket_price\n",
    "    \n",
    "    @section.setter\n",
    "    def section(self, new_val):\n",
    "        potential_vals = [\"floor\", \"lower\", \"mezzanine\", \"premier\"]\n",
    "        if new_val not in potential_vals:\n",
    "            print(\"Error! You provided wrong value\")\n",
    "        self.__section = new_val\n",
    "        \n",
    "        \n",
    "ct = ConcertTicket(22.0, 'floor')\n",
    "\n",
    "ct.ticket_price = 23.0\n",
    "ct.section = \"Test value\"\n",
    "    "
   ]
  },
  {
   "cell_type": "code",
   "execution_count": 2,
   "id": "d41ff4f5-b51a-4335-b832-7cb544c0c221",
   "metadata": {},
   "outputs": [
    {
     "name": "stdout",
     "output_type": "stream",
     "text": [
      "Money(\"Your balance is 15.6\")\n"
     ]
    }
   ],
   "source": [
    "# Exercise 2\n",
    "# Implement a Money class, for a currency with dollars and cents. m1 = Money(10, 0), m1.dollars => 10, m1.cents => 0\n",
    "# Class should have 2 methods, 'add' and 'pay', 'add' and 'pay' methods should have 2 arguments, 'add' method adds\n",
    "# dollars and cents. 'pay' should be very similar but it will do the subtraction of the dollars and cents. You\n",
    "# should also check if the subtract is possible and be careful with cents part, what if the balance is\n",
    "# $ 25.50 but you want to pay $ 3.90\n",
    "# Also override your class __str__ method\n",
    "# Example:\n",
    "# >>> print(m2)\n",
    "# $ 25.50\n",
    "\n",
    "class Money:\n",
    "    \n",
    "    def __init__(self, dollars, cents):\n",
    "        self.dollars = dollars\n",
    "        self.cents = cents\n",
    "        \n",
    "    def add(self, dollars2, cents2):\n",
    "        cents_cal = self.cents / 100\n",
    "        cents_cal2 = cents2 / 100\n",
    "        self.dollars = self.dollars + dollars2\n",
    "        self.cents = cents_cal  + cents_cal2\n",
    "        \n",
    "    def pay(self, dollars3, cents3):\n",
    "        cents_cal = self.cents / 100\n",
    "        cents_cal3 = cents3 / 100\n",
    "        self.dollars = self.dollars - dollars3\n",
    "        self.cents = cents_cal  - cents_cal3\n",
    "        \n",
    "    def __str__(self):\n",
    "        return f'Money(\"Your balance is {self.dollars + self.cents}\")'\n",
    "    \n",
    "    \n",
    "m1 = Money(10, 40)\n",
    "m1.add(5, 20)\n",
    "print(m1)"
   ]
  },
  {
   "cell_type": "code",
   "execution_count": 3,
   "id": "cc9d6c61-6809-440c-a78f-81a197a84138",
   "metadata": {},
   "outputs": [],
   "source": [
    "# Exercises 3\n",
    "# Create class User which will have constructor with arguments 'username' and 'password'.\n",
    "# Argument 'password' should be non-accesible. It can be accessed using decorator @property but instead of getting the\n",
    "# value of password it should return * n times string, where n is length of the password\n",
    "# Example: P@$$w0rd , return value should be '********'"
   ]
  },
  {
   "cell_type": "code",
   "execution_count": 4,
   "id": "95f4c2dd-4e06-4d14-8826-2336fa10842c",
   "metadata": {},
   "outputs": [],
   "source": [
    "# Using same class User override __str__ method and also __del__ method, String method should return string like this:\n",
    "# Username: John\n",
    "# Password: ********\n",
    "# (Note: for example if username='John', and password='P@$$w0rd')"
   ]
  },
  {
   "cell_type": "code",
   "execution_count": null,
   "id": "26ec4cef-6277-40d5-b490-63ca4616c9eb",
   "metadata": {},
   "outputs": [],
   "source": [
    "# Create a class called Arrangement, having a list of flowers 'flowers' (list of strings) as an attribute. Class also\n",
    "# should have enhance method which will add flower to the list of flowers\n",
    "#\n",
    "# You should also have two more classes ValentinesDayArrangement and MothersDayArrangement. Those classes should\n",
    "# be derived from the main class Arrangement. Both classes should override method enhance, ValentinesDayArrangement\n",
    "# should only accept flowers with length 4 for the name and 7 for MothersDayArrangement. Otherwise they should print\n",
    "# out error message\n",
    "#\n",
    "# Both classes should have __str__ method."
   ]
  }
 ],
 "metadata": {
  "kernelspec": {
   "display_name": "Python 3",
   "language": "python",
   "name": "python3"
  },
  "language_info": {
   "codemirror_mode": {
    "name": "ipython",
    "version": 3
   },
   "file_extension": ".py",
   "mimetype": "text/x-python",
   "name": "python",
   "nbconvert_exporter": "python",
   "pygments_lexer": "ipython3",
   "version": "3.8.8"
  }
 },
 "nbformat": 4,
 "nbformat_minor": 5
}
