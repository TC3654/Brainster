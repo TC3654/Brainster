{
 "cells": [
  {
   "cell_type": "code",
   "execution_count": 1,
   "id": "acd3ffca-3fce-4597-97f6-b3eee33573f6",
   "metadata": {},
   "outputs": [],
   "source": [
    "# DICTIONARIES"
   ]
  },
  {
   "cell_type": "code",
   "execution_count": 10,
   "id": "2b1aca51-890b-4b81-9620-39153327fc3a",
   "metadata": {},
   "outputs": [
    {
     "name": "stdin",
     "output_type": "stream",
     "text": [
      "Attendance list:  Luke, Maria, Jose\n"
     ]
    },
    {
     "name": "stdout",
     "output_type": "stream",
     "text": [
      "{'Pedro': 3, 'Maria': 3}\n"
     ]
    }
   ],
   "source": [
    "# Exercise:\n",
    "# A teacher wants to mark the attendance in the class A register. The class A register is organized as a dictionary,\n",
    "#        in the form {student: number of classes attended}. For example: {'Pedro': 3, 'Maria': 2}. Thus, the teacher must\n",
    "#        add +1 to the number of classes attended corresponding to each student. However, some students from another\n",
    "#        class also attended the class, but are not on the record for class A. Therefore, their attendance should not\n",
    "#        be registered.\n",
    "#    Write a program that receives the names of the students that were present and adds +1 class to the corresponding\n",
    "#        student, if she is already in the dictionary (belonging to class A). When inserting the students, please\n",
    "#        follow the input structure provided in the example.\n",
    "\n",
    "classA = {'Pedro': 3, 'Maria': 2}\n",
    "\n",
    "attendance = input('Attendance list: ').split(', ')\n",
    "\n",
    "for n in attendance:\n",
    "    if n in classA:\n",
    "        classA[n] += 1\n",
    "\n",
    "print(classA)"
   ]
  },
  {
   "cell_type": "code",
   "execution_count": 12,
   "id": "b6554be6-d087-4852-9d77-cfb6aa9b1840",
   "metadata": {},
   "outputs": [
    {
     "name": "stdin",
     "output_type": "stream",
     "text": [
      "Write a string: blablakedjfuiej\n"
     ]
    },
    {
     "name": "stdout",
     "output_type": "stream",
     "text": [
      "{'a': 2, 'e': 2, 'i': 1, 'o': 0, 'u': 1}\n"
     ]
    }
   ],
   "source": [
    "# Write a program that takes a string and counts how many times each vowel appears in that string. The program must\n",
    "#        print a dictionary whose keys are the vowels and the associated values correspond to the number of times\n",
    "#        the vowel appears in the string.\n",
    "\n",
    "vowels = {'a': 0, 'e': 0, 'i': 0, 'o': 0, 'u': 0}\n",
    "\n",
    "string = input(\"Write a string:\").lower()\n",
    "\n",
    "vowels['a'] = string.count('a')\n",
    "vowels['e'] = string.count('e')\n",
    "vowels['i'] = string.count('i')\n",
    "vowels['o'] = string.count('o')\n",
    "vowels['u'] = string.count('u')\n",
    "\n",
    "print(vowels)"
   ]
  },
  {
   "cell_type": "code",
   "execution_count": 13,
   "id": "ce8fc3b0-b0a2-4c38-94c3-951cd4009436",
   "metadata": {},
   "outputs": [
    {
     "name": "stdin",
     "output_type": "stream",
     "text": [
      "Write a string: Something\n"
     ]
    },
    {
     "name": "stdout",
     "output_type": "stream",
     "text": [
      "{'a': 0, 'e': 1, 'i': 1, 'o': 1, 'u': 0}\n"
     ]
    }
   ],
   "source": [
    "# Option 2 - using a for loop\n",
    "\n",
    "vowels = {'a': 0, 'e': 0, 'i': 0, 'o': 0, 'u': 0}\n",
    "\n",
    "string = input(\"Write a string:\").lower()\n",
    "\n",
    "for i in string:\n",
    "    if i in vowels:\n",
    "        vowels[i] += 1\n",
    "\n",
    "print(vowels)"
   ]
  },
  {
   "cell_type": "code",
   "execution_count": 16,
   "id": "62b8fec6-bcfa-4ff6-9663-613c7517bb4d",
   "metadata": {},
   "outputs": [
    {
     "name": "stdout",
     "output_type": "stream",
     "text": [
      "{'Pedro': 'Engineer', 'Ronaldo': 'Clown', 'Maria': 'Doctor'}\n"
     ]
    }
   ],
   "source": [
    "# Write a program that receives two lists: keys and values, and returns a dictionary in which the key list elements\n",
    "#        are the keys and the list values are the corresponding values (assume that the lists have the same size).\n",
    "\n",
    "keys = ['Pedro', 'Ronaldo', 'Maria']  # Do not delete this line!\n",
    "values = ['Engineer', 'Clown', 'Doctor']  # Do not delete this line!\n",
    "\n",
    "dictionary = {}\n",
    "\n",
    "for i in range(len(keys)):\n",
    "    dictionary[keys[i]] = values[i]\n",
    "    \n",
    "print(dictionary)"
   ]
  },
  {
   "cell_type": "code",
   "execution_count": null,
   "id": "cf364949-9802-42dc-b648-f2372563697e",
   "metadata": {},
   "outputs": [],
   "source": []
  }
 ],
 "metadata": {
  "kernelspec": {
   "display_name": "Python 3",
   "language": "python",
   "name": "python3"
  },
  "language_info": {
   "codemirror_mode": {
    "name": "ipython",
    "version": 3
   },
   "file_extension": ".py",
   "mimetype": "text/x-python",
   "name": "python",
   "nbconvert_exporter": "python",
   "pygments_lexer": "ipython3",
   "version": "3.8.8"
  }
 },
 "nbformat": 4,
 "nbformat_minor": 5
}
