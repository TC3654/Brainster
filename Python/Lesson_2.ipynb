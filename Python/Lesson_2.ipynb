{
 "cells": [
  {
   "cell_type": "code",
   "execution_count": 12,
   "id": "be96c57b-9aa7-4605-ae48-c9f72b6074d6",
   "metadata": {},
   "outputs": [],
   "source": [
    "# BOOLEANS, COMPARISON OPERATORS\n",
    "# Create a program that asks the user's name and prints True if the name is equal to \"Maya\" and False if the name is different than \"Maya\"\n",
    "\n",
    "name = input(\"What's your name?\")\n",
    "\n",
    "print(name==\"Maya\")"
   ]
  },
  {
   "cell_type": "code",
   "execution_count": 34,
   "id": "7b5a3699-5c7e-437a-8e2f-01a42470dea5",
   "metadata": {},
   "outputs": [
    {
     "name": "stdin",
     "output_type": "stream",
     "text": [
      "What's the number? 2\n",
      "What's the word? mit\n"
     ]
    },
    {
     "name": "stdout",
     "output_type": "stream",
     "text": [
      "True\n"
     ]
    }
   ],
   "source": [
    "# LOGICAL EXPRESSIONS - not, and, or\n",
    "# Create a program that asks the user for an integer and a word. This program should print True if:\n",
    "#        - the number is not between 10 and 100 and if the number is even\n",
    "#        - or if the user's word is 'Brainster'\n",
    "#    otherwise, the program should print False.\n",
    "\n",
    "num = int(input(\"What's the number?\"))\n",
    "word = input(\"What's the word?\")\n",
    "\n",
    "evaluate = not (10<num<100) and (num%2==0) or word==\"Brainster\"\n",
    "print(evaluate)"
   ]
  },
  {
   "cell_type": "code",
   "execution_count": 34,
   "id": "4cf048b2-642d-4108-9681-682f721d1b92",
   "metadata": {},
   "outputs": [
    {
     "name": "stdin",
     "output_type": "stream",
     "text": [
      "What's the number? 2\n",
      "What's the word? mit\n"
     ]
    },
    {
     "name": "stdout",
     "output_type": "stream",
     "text": [
      "True\n"
     ]
    }
   ],
   "source": [
    "# CONDITIONS - if, elif, else\n",
    "# "
   ]
  },
  {
   "cell_type": "code",
   "execution_count": 16,
   "id": "80acaf86-8aca-4f2a-adaf-05ef8dc62297",
   "metadata": {},
   "outputs": [],
   "source": [
    "# EXERCISES"
   ]
  },
  {
   "cell_type": "code",
   "execution_count": 18,
   "id": "0c9670e3-5f85-45e8-b2c4-0d223ec1a34e",
   "metadata": {},
   "outputs": [
    {
     "name": "stdin",
     "output_type": "stream",
     "text": [
      "What number? 50\n"
     ]
    },
    {
     "name": "stdout",
     "output_type": "stream",
     "text": [
      "True\n"
     ]
    }
   ],
   "source": [
    "# Create a program that asks the user for a number and prints True if the number is greater than 42 and False if the number is less than or equal to 42.\n",
    "\n",
    "num = int(input(\"What number?\"))\n",
    "\n",
    "print(num>42)"
   ]
  },
  {
   "cell_type": "code",
   "execution_count": 64,
   "id": "0999102a-c37a-48d4-a8f7-ad1febfaaa66",
   "metadata": {},
   "outputs": [
    {
     "name": "stdin",
     "output_type": "stream",
     "text": [
      "Insert first number: 3\n",
      "Insert second number: -3\n"
     ]
    },
    {
     "name": "stdout",
     "output_type": "stream",
     "text": [
      "True\n"
     ]
    }
   ],
   "source": [
    "# Create a program that asks for two numbers and indicates whether the respective squares are the same. Remember that the square of a number is equal to the number times itself.\n",
    "\n",
    "num1 = float(input(\"Insert first number:\"))\n",
    "num2 = float(input(\"Insert second number:\"))\n",
    "\n",
    "print(num1**2 == num2**2)"
   ]
  },
  {
   "cell_type": "code",
   "execution_count": 39,
   "id": "249afcbc-f76e-4a10-84b5-703558487ab7",
   "metadata": {},
   "outputs": [
    {
     "name": "stdin",
     "output_type": "stream",
     "text": [
      "Insert first number: 50\n",
      "Insert second number: 3\n"
     ]
    },
    {
     "name": "stdout",
     "output_type": "stream",
     "text": [
      "The largest number: 50.0\n"
     ]
    }
   ],
   "source": [
    "# Create a program that asks for two numbers and prints the largest one or says that the numbers are equal, if that's the case.\n",
    "\n",
    "num1 = float(input(\"Insert first number:\"))\n",
    "num2 = float(input(\"Insert second number:\"))\n",
    "\n",
    "if num1 == num2:\n",
    "    print(\"The numbers are equal\")\n",
    "else:\n",
    "    print(\"The largest number:\", max(num1,num2)"
   ]
  },
  {
   "cell_type": "code",
   "execution_count": 66,
   "id": "eec8b166-abbe-4093-97cb-58f6e41ea77b",
   "metadata": {},
   "outputs": [
    {
     "name": "stdin",
     "output_type": "stream",
     "text": [
      "Insert first number: 5\n",
      "Insert second number: 3\n"
     ]
    },
    {
     "name": "stdout",
     "output_type": "stream",
     "text": [
      "Sum is: 8.0\n"
     ]
    }
   ],
   "source": [
    "# Create a program that asks for two numbers. These numbers must be in the range [1-6], and if:\n",
    "#        - the numbers are not within the specified range, print \"Invalid numbers!\"\n",
    "#        - the sum of the two numbers is 7 or 11, print \"Win!\"\n",
    "#        - the sum of the two numbers is 2, 3 or 12, print \"Lose!\"\n",
    "#        - otherwise print the sum of the numbers\n",
    "\n",
    "num1 = float(input(\"Insert first number:\"))\n",
    "num2 = float(input(\"Insert second number:\"))\n",
    "\n",
    "if not (1<=num1<=6) or not (1<=num2<=6):\n",
    "    print(\"Invalid numbers!\")\n",
    "elif (num1+num2==7) or (num1+num2==11):\n",
    "    print(\"Win!\")\n",
    "elif (num1+num2==2) or (num1+num2==3) or (num1+num2==12):\n",
    "    print(\"Lose!\")\n",
    "else:\n",
    "    print(\"Sum is:\", num1+num2)"
   ]
  },
  {
   "cell_type": "code",
   "execution_count": 71,
   "id": "d8396fda-0f2c-482e-a0e0-f69b1fe38441",
   "metadata": {},
   "outputs": [
    {
     "name": "stdin",
     "output_type": "stream",
     "text": [
      "Insert first number: 4\n",
      "Insert second number: 4\n"
     ]
    },
    {
     "name": "stdout",
     "output_type": "stream",
     "text": [
      "Win!\n"
     ]
    }
   ],
   "source": [
    "# Create a program that asks for two numbers. These numbers must be in the range [1-6], and if:\n",
    "#        - the numbers are not within the specified range, print \"Invalid numbers!\"\n",
    "#        - the numbers are equal and their sum is equal to 4, 6, 8 or 10, print \"Win!\"\n",
    "#        - the numbers are different and their sum is equal to 4, 6, 7, 8 or 10, print \"Lose!\"\n",
    "#        - otherwise print the sum of the numbers\n",
    "\n",
    "num1 = float(input(\"Insert first number:\"))\n",
    "num2 = float(input(\"Insert second number:\"))\n",
    "sum1 = num1+num2\n",
    "\n",
    "if not (1<=num1<=6) or not (1<=num2<=6):\n",
    "    print(\"Invalid numbers!\")\n",
    "elif (num1 == num2) and (sum1 in (4,6,8,10)):\n",
    "    print(\"Win!\")\n",
    "elif (num1 != num2) and (sum1 in (4,6,7,8,10)):\n",
    "    print(\"Lose!\")\n",
    "else:\n",
    "    print(\"Sum is:\", sum1)"
   ]
  },
  {
   "cell_type": "code",
   "execution_count": null,
   "id": "03388055-ead0-4466-9d12-ef9e70c2afa0",
   "metadata": {},
   "outputs": [],
   "source": []
  }
 ],
 "metadata": {
  "kernelspec": {
   "display_name": "Python 3",
   "language": "python",
   "name": "python3"
  },
  "language_info": {
   "codemirror_mode": {
    "name": "ipython",
    "version": 3
   },
   "file_extension": ".py",
   "mimetype": "text/x-python",
   "name": "python",
   "nbconvert_exporter": "python",
   "pygments_lexer": "ipython3",
   "version": "3.8.8"
  }
 },
 "nbformat": 4,
 "nbformat_minor": 5
}
