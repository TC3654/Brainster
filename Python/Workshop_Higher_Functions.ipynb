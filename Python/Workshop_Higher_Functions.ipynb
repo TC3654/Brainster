{
 "cells": [
  {
   "cell_type": "code",
   "execution_count": 5,
   "id": "a1096bde-9ff6-4e9b-bd08-3bcb200f2076",
   "metadata": {},
   "outputs": [
    {
     "name": "stdout",
     "output_type": "stream",
     "text": [
      "I am going to divide 10 and 2\n",
      "5.0\n",
      "I am going to divide 10 and 0\n"
     ]
    },
    {
     "data": {
      "text/plain": [
       "'Whoops! cannot divide'"
      ]
     },
     "execution_count": 5,
     "metadata": {},
     "output_type": "execute_result"
    }
   ],
   "source": [
    "# Exercise 1\n",
    "#\n",
    "# Write smart_divide decorator. Decorator should print:\n",
    "#   print(f\"I am going to divide {a}, and, {b}\")\n",
    "#\n",
    "# And then check if b is zero, in this case print(\"Whoops! cannot divide\") and return. Otherwise call the function\n",
    "# divide.\n",
    "#\n",
    "\n",
    "def smart_divide(f):\n",
    "    def _smart_divide(a,b):\n",
    "        print(f\"I am going to divide {a} and {b}\")\n",
    "        if b == 0:\n",
    "            return \"Whoops! cannot divide\"\n",
    "        f(a,b)\n",
    "    return _smart_divide\n",
    "\n",
    "@smart_divide\n",
    "def divide(a, b):\n",
    "    print(a/b)\n",
    "    \n",
    "divide(10,2)\n",
    "divide(10,0)"
   ]
  },
  {
   "cell_type": "code",
   "execution_count": 7,
   "id": "0c243f6b-99d6-4bc5-bb0f-689ca9ce4419",
   "metadata": {},
   "outputs": [
    {
     "name": "stdout",
     "output_type": "stream",
     "text": [
      "Runtime of the program is 3.0783448219299316 seconds\n"
     ]
    }
   ],
   "source": [
    "# Exercise 2\n",
    "#\n",
    "# Write timer decorator which will measure the time needed for the function execution. For calculation of the time\n",
    "# you can use library time.\n",
    "#\n",
    "import time\n",
    "#\n",
    "# Example:\n",
    "#   start_time = time.time()\n",
    "#   end_time = time.time()\n",
    "#   run_time = end_time - start_time\n",
    "#\n",
    "\n",
    "def timer(f):\n",
    "    def time_needed(n):\n",
    "        start = time.time()\n",
    "        f(n)\n",
    "        end = time.time()\n",
    "        print(f\"Runtime of the program is {end - start} seconds\")\n",
    "    return time_needed\n",
    "\n",
    "@timer\n",
    "def waste_some_time(num_times):\n",
    "    for _ in range(num_times):\n",
    "        sum([j ** 2 for j in range(10000)])\n",
    "\n",
    "waste_some_time(1000)"
   ]
  },
  {
   "cell_type": "code",
   "execution_count": 10,
   "id": "69999ce9-96f5-41eb-aebf-edf83f2f1b34",
   "metadata": {},
   "outputs": [
    {
     "name": "stdout",
     "output_type": "stream",
     "text": [
      "I was off 3 seconds\n"
     ]
    }
   ],
   "source": [
    "# Exercise 3\n",
    "#\n",
    "# Write decorator for the function countdown, called slow_down. Use sleep_time as a parameter to the the function\n",
    "# time.sleep(sleep_time). After sleep_time seconds call the function countdown.\n",
    "#\n",
    "import time\n",
    "#\n",
    "# Example:\n",
    "#   time.sleep(100) # It will make delay of 100 seconds\n",
    "#\n",
    "\n",
    "def slow_down(f):\n",
    "    def sleep(t):\n",
    "        time.sleep(t)\n",
    "        f(t)\n",
    "    return sleep\n",
    "\n",
    "@slow_down\n",
    "def countdown(sleep_time):\n",
    "    print(f\"I was off {sleep_time} seconds\")\n",
    "    \n",
    "countdown(3)"
   ]
  },
  {
   "cell_type": "code",
   "execution_count": 11,
   "id": "db464812-95a3-48c2-baa5-4cda5d065c47",
   "metadata": {},
   "outputs": [
    {
     "name": "stdout",
     "output_type": "stream",
     "text": [
      "I am going to check if the user {'username': 'Peter', 'password': 'Pa$$w0rd'} is valid\n",
      "Valid data\n",
      "Log in user Peter\n",
      "I am going to check if the user {'username': 'Wayne'} is valid\n",
      "Invalid data\n"
     ]
    }
   ],
   "source": [
    "# Exercise 4\n",
    "#\n",
    "# Write decorator for the function login, called check_data. User data should look like this:\n",
    "# {\n",
    "#     \"username\": \"Peter\",\n",
    "#     \"password\": \"Pa$$w0rd\"\n",
    "# }\n",
    "#\n",
    "# Decorator should check if dictionary has proper keys (\"username\", \"password\"). If data is valid print(\"Valid data\")\n",
    "# and call function, if it isn't just print(\"Invalid data\").\n",
    "#\n",
    "\n",
    "def check_data(f):\n",
    "    def checker(user):\n",
    "        print(f\"I am going to check if the user {user} is valid\")\n",
    "        key1 = \"username\"\n",
    "        key2 = \"password\"\n",
    "        if key1 in user and key2 in user:\n",
    "            print(\"Valid data\")\n",
    "            f(user)\n",
    "        else:\n",
    "            print(\"Invalid data\")\n",
    "    return checker\n",
    "\n",
    "@check_data\n",
    "def login(user):\n",
    "    print(f\"Log in user {user['username']}\")\n",
    "\n",
    "login(user={\n",
    "    \"username\": \"Peter\",\n",
    "    \"password\": \"Pa$$w0rd\"\n",
    "})\n",
    "\n",
    "login(user={\n",
    "    \"username\": \"Wayne\"\n",
    "})"
   ]
  },
  {
   "cell_type": "code",
   "execution_count": 5,
   "id": "2229066c-b6f3-4703-8226-2f3e63dc378d",
   "metadata": {},
   "outputs": [
    {
     "name": "stdout",
     "output_type": "stream",
     "text": [
      "The original bill is 5.29\n",
      "But you get a 10% discount! So you need to pay: 4.761\n",
      "The original bill is 10.0\n",
      "But you get a 20% discount! So you need to pay: 8.0\n",
      "The original bill is 3.3\n",
      "No discount for you. :( So you need to pay: 3.3\n"
     ]
    }
   ],
   "source": [
    "# Exercise 5\n",
    "#\n",
    "# Write function bill, that will accept list of tuples (Tuple: \"Item\" and \"Items price\") and calculate total price\n",
    "# of the bill.\n",
    "# Write decorator for the function bill, called discount. Check if the total value of the bill is more than 7.5, if it\n",
    "# is than give 20% discount to the customer, if it is more than 5 than the discount will be 10% and in any other case\n",
    "# you should return original total value of the bill.\n",
    "#\n",
    "\n",
    "def discount(f):\n",
    "    def check(l):\n",
    "        s = f(l)\n",
    "        if s > 7.5:\n",
    "            return f\"But you get a 20% discount! So you need to pay: {s*0.8}\"\n",
    "        elif s > 5.0:\n",
    "            return f\"But you get a 10% discount! So you need to pay: {s*0.9}\"\n",
    "        else:\n",
    "            return f\"No discount for you. :( So you need to pay: {s}\"\n",
    "    return check\n",
    "\n",
    "@discount\n",
    "def bill(lst):\n",
    "    Sum = 0.0\n",
    "    for i in lst:\n",
    "        Sum += i[1]\n",
    "    print(f\"The original bill is {Sum}\")\n",
    "    return Sum\n",
    "    \n",
    "\n",
    "l1 = [\n",
    "    (\"Milk\", 1.25),\n",
    "    (\"Chocolate\", 2.05),\n",
    "    (\"Sugar\", 1.99)\n",
    "]\n",
    "\n",
    "print(bill(l1))\n",
    "\n",
    "l2 = [\n",
    "    (\"Milk\", 1.25),\n",
    "    (\"Chocolate\", 2.05),\n",
    "    (\"Sugar\", 1.99),\n",
    "    (\"Orange\", 2.72),\n",
    "    (\"Juice\", 1.99),\n",
    "]\n",
    "\n",
    "print(bill(l2))\n",
    "\n",
    "l3 = [\n",
    "    (\"Milk\", 1.25),\n",
    "    (\"Chocolate\", 2.05),\n",
    "]\n",
    "\n",
    "print(bill(l3))"
   ]
  },
  {
   "cell_type": "code",
   "execution_count": 7,
   "id": "7d3a4c0b-4383-485f-b22b-a289f2ef6004",
   "metadata": {},
   "outputs": [
    {
     "name": "stdout",
     "output_type": "stream",
     "text": [
      "(10.0, 43.666666666666664, 66.66666666666667, 2.0)\n",
      "(-1.0, 23.666666666666668, -6.0, -1.6666666666666667)\n"
     ]
    }
   ],
   "source": [
    "# Exercise 6\n",
    "#\n",
    "# Write a Python program to calculate the average value of the numbers in a given tuple of tuples using lambda.\n",
    "#\n",
    "# Original Tuple:\n",
    "t1 = ((10, 10, 10), (30, 45, 56), (81, 80, 39), (1, 2, 3))\n",
    "#\n",
    "# Average value of the numbers of the said tuple of tuples:\n",
    "#  (30.5, 34.25, 27.0)\n",
    "#\n",
    "# Original Tuple:\n",
    "t2 = ((1, 1, -5), (30, -15, 56), (81, -60, -39), (-10, 2, 3))\n",
    "#\n",
    "# Average value of the numbers of the said tuple of tuples:\n",
    "#  (25.5, -18.0, 3.75)\n",
    "\n",
    "r1 = tuple(map(lambda x: sum(x)/len(x), t1))\n",
    "r2 = tuple(map(lambda x: sum(x)/len(x), t2))\n",
    "\n",
    "print(r1)\n",
    "print(r2)"
   ]
  },
  {
   "cell_type": "code",
   "execution_count": 10,
   "id": "07cb6637-c3ed-45c8-ba75-7134f2993756",
   "metadata": {},
   "outputs": [
    {
     "name": "stdout",
     "output_type": "stream",
     "text": [
      "((233, 33), (1416, 55), (2345, 34))\n"
     ]
    }
   ],
   "source": [
    "# Exercise 7\n",
    "#\n",
    "# Write a Python program to convert string element to integer inside a given tuple using lambda.\n",
    "#\n",
    "# Original tuple values:\n",
    "t = (('233', 'ABCD', '33'), ('1416', 'EFGH', '55'), ('2345', 'WERT', '34'))\n",
    "#\n",
    "# New tuple values:\n",
    "# ((233, 33), (1416, 55), (2345, 34))\n",
    "\n",
    "r = tuple(map(lambda x: (int(x[0]), int(x[2])) , t))\n",
    "\n",
    "print(r)"
   ]
  },
  {
   "cell_type": "code",
   "execution_count": null,
   "id": "23fc793a-0163-40d1-8618-04e37faeb223",
   "metadata": {},
   "outputs": [],
   "source": []
  }
 ],
 "metadata": {
  "kernelspec": {
   "display_name": "Python 3",
   "language": "python",
   "name": "python3"
  },
  "language_info": {
   "codemirror_mode": {
    "name": "ipython",
    "version": 3
   },
   "file_extension": ".py",
   "mimetype": "text/x-python",
   "name": "python",
   "nbconvert_exporter": "python",
   "pygments_lexer": "ipython3",
   "version": "3.8.8"
  }
 },
 "nbformat": 4,
 "nbformat_minor": 5
}
