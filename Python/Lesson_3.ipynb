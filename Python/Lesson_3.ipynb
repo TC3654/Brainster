{
 "cells": [
  {
   "cell_type": "code",
   "execution_count": 1,
   "id": "75689492-65ea-42db-a3f8-845cb3c5b695",
   "metadata": {},
   "outputs": [],
   "source": [
    "#STRINGS AND LISTS"
   ]
  },
  {
   "cell_type": "code",
   "execution_count": 2,
   "id": "9140fac4-ef07-47ed-b087-2b553acf78aa",
   "metadata": {},
   "outputs": [],
   "source": [
    "#Exercises"
   ]
  },
  {
   "cell_type": "code",
   "execution_count": 3,
   "id": "edcc2ddb-87a0-4c24-ad4e-5f0a379ea631",
   "metadata": {},
   "outputs": [
    {
     "name": "stdin",
     "output_type": "stream",
     "text": [
      "Write a sentence: Something\n"
     ]
    },
    {
     "name": "stdout",
     "output_type": "stream",
     "text": [
      "3\n"
     ]
    }
   ],
   "source": [
    "#Exercise 1: Create a program that prints the number of vowels in a sentence.\n",
    "\n",
    "str = input(\"Write a sentence:\").lower()\n",
    "\n",
    "count = str.count(\"a\")+str.count(\"e\")+str.count(\"i\")+str.count(\"o\")+str.count(\"u\")\n",
    "\n",
    "print(count)"
   ]
  },
  {
   "cell_type": "code",
   "execution_count": 4,
   "id": "ff343b18-18f3-4290-a762-2858fd37c01f",
   "metadata": {},
   "outputs": [
    {
     "name": "stdout",
     "output_type": "stream",
     "text": [
      "[1, 2, 2, 2, 3, 4, 4, 5, 6, 7]\n"
     ]
    }
   ],
   "source": [
    "#Exercise 2: Create a program that creates two lists with the following numbers:\n",
    "#        list 1 --> 4, 3, 2, 1\n",
    "#        list 2 --> 2, 2, 4, 5, 6,7\n",
    "#    and prints the concatenation of the two lists in a sorted way.\n",
    "\n",
    "list1 = [4, 3, 2, 1]\n",
    "list2 = [2, 2, 4, 5, 6,7]\n",
    "\n",
    "list3 = list1+list2\n",
    "list3.sort()\n",
    "\n",
    "print(list3)"
   ]
  },
  {
   "cell_type": "code",
   "execution_count": 3,
   "id": "4276cc88-3bca-40ca-af5d-fe226914e607",
   "metadata": {},
   "outputs": [
    {
     "name": "stdin",
     "output_type": "stream",
     "text": [
      "What's the date? (Use 'dd/mm/yyyy' or 'dd-mm-yyyy') 16-11-2021\n"
     ]
    },
    {
     "name": "stdout",
     "output_type": "stream",
     "text": [
      "16 December 2021\n"
     ]
    }
   ],
   "source": [
    "#Exercise 3: Create a program given a date in the format \"dd/mm/yyyy\" or \"dd-mm-yyyy\" returns the date in the format \"dd {month-name} yyyy\" - use replace, split\n",
    "\n",
    "date = input(\"What's the date? (Use 'dd/mm/yyyy' or 'dd-mm-yyyy')\").replace(\"-\", \"/\").split(\"/\")\n",
    "\n",
    "months = [\"January\", \"February\", \"March\", \"April\", \"May\", \"June\", \"July\", \"August\", \"September\", \"October\", \"November\", \"December\"]\n",
    "\n",
    "print(int(date[0]), months[int(date[1])], date[2])"
   ]
  },
  {
   "cell_type": "code",
   "execution_count": 1,
   "id": "7c81d133-811d-4db2-9410-71b95a90efc6",
   "metadata": {},
   "outputs": [
    {
     "name": "stdin",
     "output_type": "stream",
     "text": [
      "What's the string? something\n",
      "What's the string? something else\n",
      "What's the string? some\n"
     ]
    },
    {
     "name": "stdout",
     "output_type": "stream",
     "text": [
      "['some', 'something', 'something else']\n"
     ]
    }
   ],
   "source": [
    "#Exercise 4: Create a program that given three strings, sort them in increasing order of length (from the smallest to the largest) - use len\n",
    "\n",
    "strings = []\n",
    "\n",
    "for i in range(3):\n",
    "    str = input(\"What's the string?\")\n",
    "    strings.append(str)\n",
    "\n",
    "strings.sort(key=len)\n",
    "print(strings)"
   ]
  },
  {
   "cell_type": "code",
   "execution_count": 9,
   "id": "88ff2b83-edbb-404d-b211-ec10251370d4",
   "metadata": {},
   "outputs": [
    {
     "name": "stdin",
     "output_type": "stream",
     "text": [
      "Enter your email address: krmf@kfsdlf@fdkwo\n"
     ]
    },
    {
     "name": "stdout",
     "output_type": "stream",
     "text": [
      "2\n"
     ]
    }
   ],
   "source": [
    "#Exercise 5: Create a program that gets an email and checks if it's valid. An email is valid if it is in the following format:\n",
    "#        \"_@_._\" in which \"_\" corresponds to a number of characters larger or equal to 1. Also, the email should only have one \"@\". - \n",
    "\n",
    "email = input(\"Enter your email address:\")\n",
    "atLoc = email.find('@')\n",
    "print(at)"
   ]
  }
 ],
 "metadata": {
  "kernelspec": {
   "display_name": "Python 3",
   "language": "python",
   "name": "python3"
  },
  "language_info": {
   "codemirror_mode": {
    "name": "ipython",
    "version": 3
   },
   "file_extension": ".py",
   "mimetype": "text/x-python",
   "name": "python",
   "nbconvert_exporter": "python",
   "pygments_lexer": "ipython3",
   "version": "3.8.8"
  }
 },
 "nbformat": 4,
 "nbformat_minor": 5
}
