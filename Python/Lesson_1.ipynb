{
 "cells": [
  {
   "cell_type": "code",
   "execution_count": 1,
   "id": "da0ed07d-6691-4c53-9a74-c384979e7c1a",
   "metadata": {},
   "outputs": [
    {
     "name": "stdout",
     "output_type": "stream",
     "text": [
      "Hello world!\n"
     ]
    }
   ],
   "source": [
    "print(\"Hello world!\")"
   ]
  },
  {
   "cell_type": "code",
   "execution_count": 4,
   "id": "fedd927f-344d-41de-b110-8aacd8708463",
   "metadata": {},
   "outputs": [
    {
     "name": "stdin",
     "output_type": "stream",
     "text": [
      "What's your name? Tamara\n"
     ]
    },
    {
     "name": "stdout",
     "output_type": "stream",
     "text": [
      "Hi Tamara\n"
     ]
    }
   ],
   "source": [
    "name = input(\"What's your name?\")\n",
    "print(\"Hi\", name)"
   ]
  },
  {
   "cell_type": "code",
   "execution_count": 6,
   "id": "dc80e5bf-86ac-41da-84aa-a7d6143e3980",
   "metadata": {},
   "outputs": [
    {
     "name": "stdin",
     "output_type": "stream",
     "text": [
      "First number? 25\n",
      "Second number? 3\n"
     ]
    },
    {
     "name": "stdout",
     "output_type": "stream",
     "text": [
      "Sum is 28\n"
     ]
    }
   ],
   "source": [
    "num1 = int(input(\"First number?\")) # we can also use float\n",
    "num2 = int(input(\"Second number?\"))\n",
    "print(\"Sum is\", num1+num2)"
   ]
  },
  {
   "cell_type": "code",
   "execution_count": 7,
   "id": "dc4d1b76-e3ee-4d96-b425-643411f9d910",
   "metadata": {},
   "outputs": [
    {
     "name": "stdin",
     "output_type": "stream",
     "text": [
      "What's your favorite football club? Hay, no se.\n"
     ]
    },
    {
     "name": "stdout",
     "output_type": "stream",
     "text": [
      "I also love Hay, no se.\n"
     ]
    }
   ],
   "source": [
    "# Create a program that asks user's favorite football club and replies \"I also love {user_club}\".\n",
    "\n",
    "fav_club = input(\"What's your favorite football club?\")\n",
    "print(\"I also love\", fav_club)"
   ]
  },
  {
   "cell_type": "code",
   "execution_count": 8,
   "id": "2e919557-fce1-4049-a795-13bdf2380bc9",
   "metadata": {},
   "outputs": [
    {
     "name": "stdin",
     "output_type": "stream",
     "text": [
      "What did you have for breakfast? eggs\n"
     ]
    },
    {
     "name": "stdout",
     "output_type": "stream",
     "text": [
      "Really? I also had eggs\n"
     ]
    },
    {
     "name": "stdin",
     "output_type": "stream",
     "text": [
      "What's your favorite color? purple\n"
     ]
    },
    {
     "name": "stdout",
     "output_type": "stream",
     "text": [
      "What a coincidence... I also love purple\n"
     ]
    }
   ],
   "source": [
    "#  Create a program that asks the user what did she had for breakfast, replies \"Really? I also had {user_breakfast}\",then asks the user's favorite color and replies \"What a coincidence... I also love {user_color}\".\n",
    "\n",
    "food = input(\"What did you have for breakfast?\")\n",
    "print(\"Really? I also had\", food)\n",
    "\n",
    "color = input(\"What's your favorite color?\")\n",
    "print(\"What a coincidence... I also love\", color)"
   ]
  },
  {
   "cell_type": "code",
   "execution_count": 11,
   "id": "487b2e07-d7d1-44b8-a18f-4df9a4d6f440",
   "metadata": {},
   "outputs": [
    {
     "name": "stdin",
     "output_type": "stream",
     "text": [
      "How many hours? 5\n",
      "How many minutes? 10\n",
      "How many seconds? 30\n"
     ]
    },
    {
     "name": "stdout",
     "output_type": "stream",
     "text": [
      "5 hours, 10 minutes, 30 seconds correspond to 18630 seconds.\n"
     ]
    }
   ],
   "source": [
    "# Create a program that asks the user for a number of hours, a number of minutes, a number of seconds and then prints the total number of seconds.\n",
    "\n",
    "h = int(input(\"How many hours?\"))\n",
    "m = int(input(\"How many minutes?\"))\n",
    "s = int(input(\"How many seconds?\"))\n",
    "\n",
    "seconds = (((h*60)+m)*60)+s\n",
    "\n",
    "print(h, \"hours,\", m, \"minutes,\", s, \"seconds correspond to\", seconds, \"seconds.\")"
   ]
  },
  {
   "cell_type": "code",
   "execution_count": 14,
   "id": "70431ee5-27f4-4354-aae7-ca933b81dfcd",
   "metadata": {},
   "outputs": [
    {
     "name": "stdin",
     "output_type": "stream",
     "text": [
      "What's the radius? 8\n"
     ]
    },
    {
     "name": "stdout",
     "output_type": "stream",
     "text": [
      "The area of the circle is 200.96\n"
     ]
    }
   ],
   "source": [
    "# Consider that pi = 3.14. Create a program that computes the area of a circle with a given radius. Remember that the area of the circle is given by pi * r^2\n",
    "\n",
    "pi = 3.14\n",
    "r = float(input(\"What's the radius?\"))\n",
    "\n",
    "area = pi * (r**2)\n",
    "\n",
    "print(\"The area of the circle is\", area)"
   ]
  },
  {
   "cell_type": "code",
   "execution_count": 15,
   "id": "e967e198-e819-4437-954a-6ed30bc6c994",
   "metadata": {},
   "outputs": [
    {
     "name": "stdin",
     "output_type": "stream",
     "text": [
      "What's first number? 5\n",
      "What's second number? 1\n",
      "What's third number? 65\n",
      "What's fourth number? 3\n",
      "What's fifth number? 2\n"
     ]
    },
    {
     "name": "stdout",
     "output_type": "stream",
     "text": [
      "Minimum: 1.0\n",
      "Maximum: 65.0\n"
     ]
    }
   ],
   "source": [
    "# Create a program that, given five numbers, prints the lowest number and the highest number. To do so, you should use the functions min() and max().\n",
    "\n",
    "num1 = float(input(\"What's first number?\"))\n",
    "num2 = float(input(\"What's second number?\"))\n",
    "num3 = float(input(\"What's third number?\"))\n",
    "num4 = float(input(\"What's fourth number?\"))\n",
    "num5 = float(input(\"What's fifth number?\"))\n",
    "\n",
    "max_num = max(num1, num2, num3, num4, num5)\n",
    "min_num = min(num1, num2, num3, num4, num5)\n",
    "\n",
    "print(\"Minimum:\", min_num)\n",
    "print(\"Maximum:\", max_num)"
   ]
  },
  {
   "cell_type": "code",
   "execution_count": 18,
   "id": "6cd111ed-25b6-4286-822a-c8601d618a67",
   "metadata": {
    "tags": []
   },
   "outputs": [
    {
     "name": "stdin",
     "output_type": "stream",
     "text": [
      "What's the number? 5\n",
      "What's the number? 63\n",
      "What's the number? -3\n",
      "What's the number? 52\n",
      "What's the number? 3\n"
     ]
    },
    {
     "name": "stdout",
     "output_type": "stream",
     "text": [
      "Minimum: -3.0\n",
      "Maximum: 63.0\n"
     ]
    }
   ],
   "source": [
    "# Let's try the same thing with loops\n",
    "\n",
    "numbers = []\n",
    "\n",
    "for i in range(0, 5):\n",
    "    num = float(input(\"What's the number?\"))\n",
    "    numbers.append(num)\n",
    "\n",
    "print(\"Minimum:\", min(numbers))\n",
    "print(\"Maximum:\", max(numbers))"
   ]
  },
  {
   "cell_type": "code",
   "execution_count": null,
   "id": "f4437d18-2acf-4d65-8ab6-ad0b46458574",
   "metadata": {},
   "outputs": [],
   "source": []
  }
 ],
 "metadata": {
  "kernelspec": {
   "display_name": "Python 3",
   "language": "python",
   "name": "python3"
  },
  "language_info": {
   "codemirror_mode": {
    "name": "ipython",
    "version": 3
   },
   "file_extension": ".py",
   "mimetype": "text/x-python",
   "name": "python",
   "nbconvert_exporter": "python",
   "pygments_lexer": "ipython3",
   "version": "3.8.8"
  }
 },
 "nbformat": 4,
 "nbformat_minor": 5
}
